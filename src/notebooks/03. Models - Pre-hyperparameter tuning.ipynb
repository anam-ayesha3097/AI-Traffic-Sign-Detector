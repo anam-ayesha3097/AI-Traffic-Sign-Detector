{
 "cells": [
  {
   "cell_type": "code",
   "execution_count": 1,
   "metadata": {
    "colab": {
     "base_uri": "https://localhost:8080/"
    },
    "execution": {
     "iopub.execute_input": "2022-11-13T12:43:14.088161Z",
     "iopub.status.busy": "2022-11-13T12:43:14.087767Z",
     "iopub.status.idle": "2022-11-13T12:43:25.464689Z",
     "shell.execute_reply": "2022-11-13T12:43:25.463452Z",
     "shell.execute_reply.started": "2022-11-13T12:43:14.088128Z"
    },
    "id": "PivjitYKv9nI",
    "outputId": "95f69c53-8db1-47f5-d993-1826b6430179"
   },
   "outputs": [
    {
     "name": "stdout",
     "output_type": "stream",
     "text": [
      "Looking in indexes: https://pypi.org/simple, https://us-python.pkg.dev/colab-wheels/public/simple/\n",
      "Collecting torchmetrics==0.10\n",
      "  Downloading torchmetrics-0.10.0-py3-none-any.whl (529 kB)\n",
      "\u001b[K     |████████████████████████████████| 529 kB 15.6 MB/s \n",
      "\u001b[?25hRequirement already satisfied: torch>=1.3.1 in /usr/local/lib/python3.8/dist-packages (from torchmetrics==0.10) (1.12.1+cu113)\n",
      "Requirement already satisfied: packaging in /usr/local/lib/python3.8/dist-packages (from torchmetrics==0.10) (21.3)\n",
      "Requirement already satisfied: typing-extensions in /usr/local/lib/python3.8/dist-packages (from torchmetrics==0.10) (4.1.1)\n",
      "Requirement already satisfied: numpy>=1.17.2 in /usr/local/lib/python3.8/dist-packages (from torchmetrics==0.10) (1.21.6)\n",
      "Requirement already satisfied: pyparsing!=3.0.5,>=2.0.2 in /usr/local/lib/python3.8/dist-packages (from packaging->torchmetrics==0.10) (3.0.9)\n",
      "Installing collected packages: torchmetrics\n",
      "Successfully installed torchmetrics-0.10.0\n"
     ]
    }
   ],
   "source": [
    "!pip install torchmetrics==0.10"
   ]
  },
  {
   "cell_type": "code",
   "execution_count": 2,
   "metadata": {
    "execution": {
     "iopub.execute_input": "2022-11-13T12:43:25.468929Z",
     "iopub.status.busy": "2022-11-13T12:43:25.467742Z",
     "iopub.status.idle": "2022-11-13T12:43:25.475904Z",
     "shell.execute_reply": "2022-11-13T12:43:25.474888Z",
     "shell.execute_reply.started": "2022-11-13T12:43:25.468867Z"
    },
    "id": "_xH5RmU9su9W"
   },
   "outputs": [],
   "source": [
    "import torch\n",
    "import torchvision.transforms as transforms\n",
    "import torchvision.datasets as datasets\n",
    "import torch.utils.data as td\n",
    "import numpy as np\n",
    "import matplotlib.pyplot as plt\n",
    "import torch.nn as nn\n",
    "import torch.nn.functional as F\n",
    "from matplotlib import image\n",
    "from matplotlib import pyplot\n",
    "import time\n",
    "import os\n",
    "\n",
    "import cv2\n",
    "from torchmetrics import F1Score\n",
    "import pickle"
   ]
  },
  {
   "cell_type": "code",
   "execution_count": 3,
   "metadata": {
    "execution": {
     "iopub.execute_input": "2022-11-13T12:43:25.477764Z",
     "iopub.status.busy": "2022-11-13T12:43:25.477460Z",
     "iopub.status.idle": "2022-11-13T12:43:25.491370Z",
     "shell.execute_reply": "2022-11-13T12:43:25.490318Z",
     "shell.execute_reply.started": "2022-11-13T12:43:25.477739Z"
    },
    "id": "o01h9AVJdAur"
   },
   "outputs": [],
   "source": [
    "path = '/kaggle/input/traffic-sign-datasets/'\n",
    "path_dataset1 = path+'Indian Traffic Signs Prediction(85 classes)/Indian Traffic Signs Prediction(85 classes)/'\n",
    "path_dataset2 = path+'Persian Traffic Sign Dataset (PTSD)/Persian Traffic Sign Dataset (PTSD)/'\n",
    "path_dataset3 = path+'Traffic Signs (GTSRB plus 162 custom classes)/Traffic Signs (GTSRB plus 162 custom classes)/Data_images/'\n",
    "\n",
    "savepath='/kaggle/working/'"
   ]
  },
  {
   "cell_type": "code",
   "execution_count": 4,
   "metadata": {
    "colab": {
     "base_uri": "https://localhost:8080/"
    },
    "id": "K_-xEZij8zdu",
    "outputId": "c2c5626e-3bf7-4c7e-c4c1-8f2a1dc8cdd8"
   },
   "outputs": [
    {
     "name": "stdout",
     "output_type": "stream",
     "text": [
      "Mounted at /content/drive\n"
     ]
    }
   ],
   "source": [
    "from google.colab import drive\n",
    "drive.mount('/content/drive')"
   ]
  },
  {
   "cell_type": "code",
   "execution_count": 5,
   "metadata": {
    "colab": {
     "base_uri": "https://localhost:8080/"
    },
    "id": "4PHd_ezA8zdu",
    "outputId": "1f1d26ae-7cce-4db3-beef-d6d21933c6b7"
   },
   "outputs": [
    {
     "name": "stdout",
     "output_type": "stream",
     "text": [
      "['Indian Traffic Signs Prediction(85 classes)', 'Persian Traffic Sign Dataset (PTSD)', 'Traffic Signs (GTSRB plus 162 custom classes)']\n"
     ]
    }
   ],
   "source": [
    "path='/content/drive/My Drive/6721 Project dataset/'\n",
    "savepath = '/content/drive/My Drive/6721 Dataset/'\n",
    "print(os.listdir(path))"
   ]
  },
  {
   "cell_type": "code",
   "execution_count": 6,
   "metadata": {
    "id": "Iq5yk26V8zdu"
   },
   "outputs": [],
   "source": [
    "path_dataset1 = path+\"Indian Traffic Signs Prediction(85 classes)/\"\n",
    "path_dataset2 = path+\"Persian Traffic Sign Dataset (PTSD)/\"\n",
    "path_dataset3 = path+\"Traffic Signs (GTSRB plus 162 custom classes)/Data_images/\""
   ]
  },
  {
   "cell_type": "code",
   "execution_count": null,
   "metadata": {
    "id": "nB7b6CY18zdv"
   },
   "outputs": [],
   "source": []
  },
  {
   "cell_type": "markdown",
   "metadata": {
    "id": "IbmXHVFl-LrR"
   },
   "source": [
    "**Data Loaders**\n",
    "\n",
    "---\n",
    "\n"
   ]
  },
  {
   "cell_type": "code",
   "execution_count": 7,
   "metadata": {
    "execution": {
     "iopub.execute_input": "2022-11-13T12:43:25.494873Z",
     "iopub.status.busy": "2022-11-13T12:43:25.494383Z",
     "iopub.status.idle": "2022-11-13T12:43:25.506077Z",
     "shell.execute_reply": "2022-11-13T12:43:25.504977Z",
     "shell.execute_reply.started": "2022-11-13T12:43:25.494839Z"
    },
    "id": "nAjOrIQaaACu"
   },
   "outputs": [],
   "source": [
    "def load_data(path_train, val_split, path_test, batch_size, input_size):\n",
    "  \n",
    "    normalize = transforms.Normalize(mean=[0.485, 0.456, 0.406],\n",
    "                                     std=[0.229, 0.224, 0.225])\n",
    "\n",
    "    transform_train= transforms.Compose([transforms.Resize(input_size),\n",
    "                                         transforms.ColorJitter(brightness=(0.5,1.2), contrast=0, saturation=0, hue=0),\n",
    "                                         transforms.RandomHorizontalFlip(),\n",
    "#                                          transforms.RandomVerticalFlip(),\n",
    "                                          transforms.RandomRotation(45),\n",
    "                                        transforms.RandomAdjustSharpness(0.8),\n",
    "                                          transforms.ToTensor(),\n",
    "                                          normalize\n",
    "                                          ])\n",
    "\n",
    "    transform_test = transforms.Compose([transforms.Resize(input_size),\n",
    "                                         transforms.ToTensor(), \n",
    "                                         normalize])\n",
    "\n",
    "    data_train = datasets.ImageFolder(root=path_train, transform=transform_train)\n",
    "    data_test = datasets.ImageFolder(root=path_test, transform=transform_test)\n",
    "    \n",
    "    mappings = data_train.class_to_idx\n",
    "\n",
    "    val_size = int(len(data_train)*val_split)\n",
    "    train_size = len(data_train) - val_size\n",
    "\n",
    "    train_dataset, val_dataset = td.random_split(data_train, [train_size, val_size])\n",
    "    \n",
    "    data_loader_train = td.DataLoader(train_dataset,\n",
    "                                      batch_size=batch_size,\n",
    "                                      shuffle=True,\n",
    "                                      drop_last=False,\n",
    "                                      num_workers=0,       \n",
    "                                      pin_memory=True)\n",
    "     \n",
    "    data_loader_val = td.DataLoader(val_dataset,\n",
    "                                    batch_size=batch_size,\n",
    "                                    shuffle=True,\n",
    "                                    drop_last=False,\n",
    "                                    num_workers=0) \n",
    "      \n",
    "    data_loader_test = td.DataLoader(data_test,\n",
    "                                   batch_size=batch_size,\n",
    "                                   shuffle=True,\n",
    "                                   drop_last=False,\n",
    "                                   num_workers=0)\n",
    "    \n",
    "    return data_loader_train, data_loader_test, data_loader_val, mappings"
   ]
  },
  {
   "cell_type": "markdown",
   "metadata": {
    "id": "cTWOhhFV1kuI"
   },
   "source": [
    "Compute Class Weights"
   ]
  },
  {
   "cell_type": "code",
   "execution_count": 8,
   "metadata": {
    "execution": {
     "iopub.execute_input": "2022-11-13T12:43:25.508024Z",
     "iopub.status.busy": "2022-11-13T12:43:25.507511Z",
     "iopub.status.idle": "2022-11-13T12:43:25.526699Z",
     "shell.execute_reply": "2022-11-13T12:43:25.525662Z",
     "shell.execute_reply.started": "2022-11-13T12:43:25.507981Z"
    },
    "id": "AybvEo1V1nLP"
   },
   "outputs": [],
   "source": [
    "def get_image_size_dist(path):\n",
    "    t1 = time.time()\n",
    "\n",
    "    folders = os.listdir(path)\n",
    "    total = 0\n",
    "\n",
    "    class_samples = {}\n",
    "\n",
    "    for folder in folders:\n",
    "        samples = os.listdir(path+folder)\n",
    "\n",
    "        class_samples[folder]=len(samples)\n",
    "\n",
    "        print(\"Class: {} has samples: {} \".format(folder,len(samples)))\n",
    "        total+=len(samples)\n",
    "\n",
    "    print(\"\\nTotal number of samples: \",total)\n",
    "\n",
    "    print(\"\\nTime taken: {}\".format(time.time()-t1))\n",
    "\n",
    "    return class_samples, total"
   ]
  },
  {
   "cell_type": "code",
   "execution_count": 9,
   "metadata": {
    "execution": {
     "iopub.execute_input": "2022-11-13T12:43:25.530152Z",
     "iopub.status.busy": "2022-11-13T12:43:25.528996Z",
     "iopub.status.idle": "2022-11-13T12:43:25.545566Z",
     "shell.execute_reply": "2022-11-13T12:43:25.544505Z",
     "shell.execute_reply.started": "2022-11-13T12:43:25.530114Z"
    },
    "id": "cs77yc_J1m94"
   },
   "outputs": [],
   "source": [
    "def get_class_weights(path_train, mappings):\n",
    "\n",
    "    class_samples, total = get_image_size_dist(path_train)\n",
    "\n",
    "    class_weights = [0]*len(mappings.keys())\n",
    "\n",
    "    for key in mappings.keys():\n",
    "        class_weights[mappings[key]] = 1 - (class_samples[key]/ total)\n",
    "      \n",
    "    return class_weights"
   ]
  },
  {
   "cell_type": "markdown",
   "metadata": {
    "id": "-ystywhe-rXn"
   },
   "source": [
    "Training Setup\n",
    "\n",
    "---\n",
    "\n"
   ]
  },
  {
   "cell_type": "code",
   "execution_count": 10,
   "metadata": {
    "execution": {
     "iopub.execute_input": "2022-11-13T12:43:25.547554Z",
     "iopub.status.busy": "2022-11-13T12:43:25.547184Z",
     "iopub.status.idle": "2022-11-13T12:43:25.556692Z",
     "shell.execute_reply": "2022-11-13T12:43:25.555692Z",
     "shell.execute_reply.started": "2022-11-13T12:43:25.547517Z"
    },
    "id": "Zz46kldS13If"
   },
   "outputs": [],
   "source": [
    "learning_rate = 0.0001\n",
    "num_epochs = 10\n",
    "\n",
    "def get_criterion(class_weights):\n",
    "\n",
    "    criterion = nn.CrossEntropyLoss(weight = class_weights)\n",
    "\n",
    "    return criterion"
   ]
  },
  {
   "cell_type": "code",
   "execution_count": 11,
   "metadata": {
    "execution": {
     "iopub.execute_input": "2022-11-13T12:43:25.560147Z",
     "iopub.status.busy": "2022-11-13T12:43:25.559857Z",
     "iopub.status.idle": "2022-11-13T12:43:25.573985Z",
     "shell.execute_reply": "2022-11-13T12:43:25.573031Z",
     "shell.execute_reply.started": "2022-11-13T12:43:25.560122Z"
    },
    "id": "s9lpiTqe-y49"
   },
   "outputs": [],
   "source": [
    "def train_model(model, num_epochs, train_loader, criterion, optimizer, savepath, savepath_results, device):\n",
    "\n",
    "      total_steps = len(train_loader)\n",
    "\n",
    "      t1 = time.time()\n",
    "\n",
    "      train_loss=[]\n",
    "      train_accuracy=[]\n",
    "      val_accuracy=[]\n",
    "\n",
    "      for epoch in range(num_epochs):\n",
    "          for i, data in enumerate(train_loader):\n",
    "              \n",
    "              images, labels = data[0].to(device), data[1].to(device)\n",
    "              \n",
    "              model.train()\n",
    "\n",
    "              # Forward pass\n",
    "              outputs = model(images)\n",
    "              loss = criterion(outputs, labels)\n",
    "              \n",
    "              # Backprop and optimisation\n",
    "              optimizer.zero_grad()\n",
    "              loss.backward()\n",
    "              optimizer.step()\n",
    "              \n",
    "              # Train accuracy\n",
    "              total = labels.size(0)\n",
    "              _, predicted = torch.max(outputs.data, 1)\n",
    "              correct = (predicted == labels).sum().item()\n",
    "              \n",
    "              if (i + 1) % 10 == 0:\n",
    "                  model.eval() \n",
    "                  with torch.no_grad(): \n",
    "                      correctv = 0\n",
    "                      totalv = 0\n",
    "                      for datav in val_loader:\n",
    "                          imagesv, labelsv = datav[0].to(device), datav[1].to(device)\n",
    "                          outputsv = model(imagesv)\n",
    "                          _, predictedv = torch.max(outputsv.data, 1)\n",
    "                          totalv += labelsv.size(0)\n",
    "                          correctv += (predictedv == labelsv).sum().item()\n",
    "                          \n",
    "                      print('Epoch [{}/{}], Step [{}/{}], Loss: {:.4f}, Accuracy: {:.2f}%, Validation Accuracy: {:.2f}%'\n",
    "                      .format(epoch + 1, num_epochs, i + 1, total_steps, loss.item(),\n",
    "                          (correct / total) * 100,\n",
    "                          (correctv / totalv) * 100))\n",
    "                      \n",
    "                      train_loss.append(loss.item())\n",
    "                      train_accuracy.append((correct / total) * 100)\n",
    "                      val_accuracy.append((correctv / totalv) * 100)\n",
    "                      \n",
    "                  \n",
    "      print(\"######## Training Finished in {} seconds ###########\".format(time.time()-t1))\n",
    "\n",
    "      print(\"/n/n Saving model at: \",savepath)\n",
    "      torch.save(model.state_dict(), savepath)\n",
    "\n",
    "      results = { \"training_loss\": train_loss, \"accuracy\": train_accuracy, \"val_accuracy\": val_accuracy }\n",
    "\n",
    "      with open(savepath_results, \"wb\") as fp:\n",
    "          pickle.dump(results, fp)\n",
    "\n",
    "      return model, device"
   ]
  },
  {
   "cell_type": "code",
   "execution_count": 12,
   "metadata": {
    "execution": {
     "iopub.execute_input": "2022-11-13T12:43:25.576056Z",
     "iopub.status.busy": "2022-11-13T12:43:25.575658Z",
     "iopub.status.idle": "2022-11-13T12:43:25.589940Z",
     "shell.execute_reply": "2022-11-13T12:43:25.588822Z",
     "shell.execute_reply.started": "2022-11-13T12:43:25.576015Z"
    },
    "id": "_mHsQq5I-yyu"
   },
   "outputs": [],
   "source": [
    "def evaluate_model(model, test_loader, device,nclasses):\n",
    "   \n",
    "    model.eval() \n",
    "\n",
    "    Y=[]\n",
    "    y=[]\n",
    "\n",
    "    with torch.no_grad(): \n",
    "        correct = 0\n",
    "        total = 0\n",
    "        for data in test_loader:\n",
    "            images, labels = data[0].to(device), data[1].to(device)\n",
    "            outputs = model(images)\n",
    "            _, predicted = torch.max(outputs.data, 1)\n",
    "            total += labels.size(0)\n",
    "            correct += (predicted == labels).sum().item()\n",
    "\n",
    "            Y.extend(labels)\n",
    "            y.extend(predicted)\n",
    "\n",
    "        acc = (correct / total) * 100\n",
    "        f1 = F1Score(num_classes=nclasses)\n",
    "        f1score = f1(torch.IntTensor(y),torch.IntTensor(Y))\n",
    "\n",
    "        print('Model Evaluation Results on {} test samples'.format(total))\n",
    "        print('Test Accuracy: ', acc)\n",
    "        print('Test F1 Score: ',f1score)\n",
    "        "
   ]
  },
  {
   "cell_type": "markdown",
   "metadata": {
    "id": "jbDH531X-anJ"
   },
   "source": [
    "Architecture 1: AlexNet"
   ]
  },
  {
   "cell_type": "markdown",
   "metadata": {
    "id": "_53CBsNT7_Ds"
   },
   "source": [
    "On dataset 1:"
   ]
  },
  {
   "cell_type": "code",
   "execution_count": null,
   "metadata": {
    "execution": {
     "iopub.execute_input": "2022-11-13T12:43:25.596766Z",
     "iopub.status.busy": "2022-11-13T12:43:25.594601Z",
     "iopub.status.idle": "2022-11-13T12:43:25.604465Z",
     "shell.execute_reply": "2022-11-13T12:43:25.603619Z",
     "shell.execute_reply.started": "2022-11-13T12:43:25.596738Z"
    },
    "id": "bmokcdO8N-v0"
   },
   "outputs": [],
   "source": [
    "nclasses=15"
   ]
  },
  {
   "cell_type": "code",
   "execution_count": null,
   "metadata": {
    "execution": {
     "iopub.execute_input": "2022-11-13T12:43:25.605863Z",
     "iopub.status.busy": "2022-11-13T12:43:25.605606Z",
     "iopub.status.idle": "2022-11-13T12:43:26.183248Z",
     "shell.execute_reply": "2022-11-13T12:43:26.181964Z",
     "shell.execute_reply.started": "2022-11-13T12:43:25.605839Z"
    },
    "id": "j0C0mVSFA81I",
    "outputId": "224ea32e-1e03-4ee1-b3cd-ecfdfe0aa45c"
   },
   "outputs": [
    {
     "name": "stderr",
     "output_type": "stream",
     "text": [
      "Using cache found in /root/.cache/torch/hub/pytorch_vision_v0.6.0\n"
     ]
    }
   ],
   "source": [
    "AlexNet_model = torch.hub.load('pytorch/vision:v0.6.0', 'alexnet', pretrained=False)"
   ]
  },
  {
   "cell_type": "code",
   "execution_count": null,
   "metadata": {
    "execution": {
     "iopub.execute_input": "2022-11-13T12:43:26.185462Z",
     "iopub.status.busy": "2022-11-13T12:43:26.185062Z",
     "iopub.status.idle": "2022-11-13T12:43:26.191963Z",
     "shell.execute_reply": "2022-11-13T12:43:26.190701Z",
     "shell.execute_reply.started": "2022-11-13T12:43:26.185426Z"
    },
    "id": "gUhYh2APBCmT"
   },
   "outputs": [],
   "source": [
    "prev_out = AlexNet_model.classifier[4].out_features\n",
    "AlexNet_model.classifier[6] = nn.Linear( prev_out, nclasses)"
   ]
  },
  {
   "cell_type": "code",
   "execution_count": null,
   "metadata": {
    "execution": {
     "iopub.execute_input": "2022-11-13T12:43:26.195823Z",
     "iopub.status.busy": "2022-11-13T12:43:26.193554Z",
     "iopub.status.idle": "2022-11-13T12:43:26.205280Z",
     "shell.execute_reply": "2022-11-13T12:43:26.204157Z",
     "shell.execute_reply.started": "2022-11-13T12:43:26.195725Z"
    },
    "id": "rTMSRbBQBF4h",
    "outputId": "96ac340e-410a-46bb-f0a5-0d6ea53e77b4"
   },
   "outputs": [
    {
     "data": {
      "text/plain": [
       "AlexNet(\n",
       "  (features): Sequential(\n",
       "    (0): Conv2d(3, 64, kernel_size=(11, 11), stride=(4, 4), padding=(2, 2))\n",
       "    (1): ReLU(inplace=True)\n",
       "    (2): MaxPool2d(kernel_size=3, stride=2, padding=0, dilation=1, ceil_mode=False)\n",
       "    (3): Conv2d(64, 192, kernel_size=(5, 5), stride=(1, 1), padding=(2, 2))\n",
       "    (4): ReLU(inplace=True)\n",
       "    (5): MaxPool2d(kernel_size=3, stride=2, padding=0, dilation=1, ceil_mode=False)\n",
       "    (6): Conv2d(192, 384, kernel_size=(3, 3), stride=(1, 1), padding=(1, 1))\n",
       "    (7): ReLU(inplace=True)\n",
       "    (8): Conv2d(384, 256, kernel_size=(3, 3), stride=(1, 1), padding=(1, 1))\n",
       "    (9): ReLU(inplace=True)\n",
       "    (10): Conv2d(256, 256, kernel_size=(3, 3), stride=(1, 1), padding=(1, 1))\n",
       "    (11): ReLU(inplace=True)\n",
       "    (12): MaxPool2d(kernel_size=3, stride=2, padding=0, dilation=1, ceil_mode=False)\n",
       "  )\n",
       "  (avgpool): AdaptiveAvgPool2d(output_size=(6, 6))\n",
       "  (classifier): Sequential(\n",
       "    (0): Dropout(p=0.5, inplace=False)\n",
       "    (1): Linear(in_features=9216, out_features=4096, bias=True)\n",
       "    (2): ReLU(inplace=True)\n",
       "    (3): Dropout(p=0.5, inplace=False)\n",
       "    (4): Linear(in_features=4096, out_features=4096, bias=True)\n",
       "    (5): ReLU(inplace=True)\n",
       "    (6): Linear(in_features=4096, out_features=15, bias=True)\n",
       "  )\n",
       ")"
      ]
     },
     "execution_count": 32,
     "metadata": {},
     "output_type": "execute_result"
    }
   ],
   "source": [
    "AlexNet_model.eval()"
   ]
  },
  {
   "cell_type": "code",
   "execution_count": null,
   "metadata": {
    "execution": {
     "iopub.execute_input": "2022-11-13T12:43:26.207239Z",
     "iopub.status.busy": "2022-11-13T12:43:26.206798Z",
     "iopub.status.idle": "2022-11-13T12:43:26.214628Z",
     "shell.execute_reply": "2022-11-13T12:43:26.213663Z",
     "shell.execute_reply.started": "2022-11-13T12:43:26.207188Z"
    },
    "id": "yKGRy1ztBL28"
   },
   "outputs": [],
   "source": [
    "optimizer = torch.optim.Adam(AlexNet_model.parameters(), lr=learning_rate) "
   ]
  },
  {
   "cell_type": "code",
   "execution_count": null,
   "metadata": {
    "execution": {
     "iopub.execute_input": "2022-11-13T12:43:26.218626Z",
     "iopub.status.busy": "2022-11-13T12:43:26.218071Z",
     "iopub.status.idle": "2022-11-13T12:43:26.321334Z",
     "shell.execute_reply": "2022-11-13T12:43:26.320388Z",
     "shell.execute_reply.started": "2022-11-13T12:43:26.218591Z"
    },
    "id": "dnyRBBLrs23v"
   },
   "outputs": [],
   "source": [
    "path_train = path_dataset1+\"train/\"\n",
    "path_test = path_dataset1+\"test/\"\n",
    "val_split = 0.2\n",
    "batch_size = 32\n",
    "input_size = (224,224)\n",
    "\n",
    "train_loader, test_loader, val_loader, mappings = load_data(path_train, val_split, path_test, batch_size, input_size)"
   ]
  },
  {
   "cell_type": "code",
   "execution_count": null,
   "metadata": {
    "execution": {
     "iopub.execute_input": "2022-11-13T12:43:26.325055Z",
     "iopub.status.busy": "2022-11-13T12:43:26.324692Z",
     "iopub.status.idle": "2022-11-13T12:43:26.398492Z",
     "shell.execute_reply": "2022-11-13T12:43:26.397339Z",
     "shell.execute_reply.started": "2022-11-13T12:43:26.325026Z"
    },
    "id": "LQw6FaosKl2Y",
    "outputId": "ad5f6746-a456-4a38-fe8d-fe816a8f5f97"
   },
   "outputs": [
    {
     "name": "stdout",
     "output_type": "stream",
     "text": [
      "Device: cuda:0\n"
     ]
    },
    {
     "data": {
      "text/plain": [
       "AlexNet(\n",
       "  (features): Sequential(\n",
       "    (0): Conv2d(3, 64, kernel_size=(11, 11), stride=(4, 4), padding=(2, 2))\n",
       "    (1): ReLU(inplace=True)\n",
       "    (2): MaxPool2d(kernel_size=3, stride=2, padding=0, dilation=1, ceil_mode=False)\n",
       "    (3): Conv2d(64, 192, kernel_size=(5, 5), stride=(1, 1), padding=(2, 2))\n",
       "    (4): ReLU(inplace=True)\n",
       "    (5): MaxPool2d(kernel_size=3, stride=2, padding=0, dilation=1, ceil_mode=False)\n",
       "    (6): Conv2d(192, 384, kernel_size=(3, 3), stride=(1, 1), padding=(1, 1))\n",
       "    (7): ReLU(inplace=True)\n",
       "    (8): Conv2d(384, 256, kernel_size=(3, 3), stride=(1, 1), padding=(1, 1))\n",
       "    (9): ReLU(inplace=True)\n",
       "    (10): Conv2d(256, 256, kernel_size=(3, 3), stride=(1, 1), padding=(1, 1))\n",
       "    (11): ReLU(inplace=True)\n",
       "    (12): MaxPool2d(kernel_size=3, stride=2, padding=0, dilation=1, ceil_mode=False)\n",
       "  )\n",
       "  (avgpool): AdaptiveAvgPool2d(output_size=(6, 6))\n",
       "  (classifier): Sequential(\n",
       "    (0): Dropout(p=0.5, inplace=False)\n",
       "    (1): Linear(in_features=9216, out_features=4096, bias=True)\n",
       "    (2): ReLU(inplace=True)\n",
       "    (3): Dropout(p=0.5, inplace=False)\n",
       "    (4): Linear(in_features=4096, out_features=4096, bias=True)\n",
       "    (5): ReLU(inplace=True)\n",
       "    (6): Linear(in_features=4096, out_features=15, bias=True)\n",
       "  )\n",
       ")"
      ]
     },
     "execution_count": 35,
     "metadata": {},
     "output_type": "execute_result"
    }
   ],
   "source": [
    "device = torch.device(\"cuda:0\" if torch.cuda.is_available() else \"cpu\")\n",
    "print(\"Device: {}\".format(device))\n",
    "AlexNet_model.to(device)"
   ]
  },
  {
   "cell_type": "code",
   "execution_count": null,
   "metadata": {
    "execution": {
     "iopub.execute_input": "2022-11-13T12:43:26.400433Z",
     "iopub.status.busy": "2022-11-13T12:43:26.399956Z",
     "iopub.status.idle": "2022-11-13T12:43:26.426762Z",
     "shell.execute_reply": "2022-11-13T12:43:26.425763Z",
     "shell.execute_reply.started": "2022-11-13T12:43:26.400395Z"
    },
    "id": "mi0ZJxXd6S4B",
    "outputId": "175bd466-5ac2-4d8c-8527-33c8269569db"
   },
   "outputs": [
    {
     "name": "stdout",
     "output_type": "stream",
     "text": [
      "Class: SPEED_LIMIT_80 has samples: 192 \n",
      "Class: SPEED_LIMIT_60 has samples: 190 \n",
      "Class: NO_STOPPING_OR_STANDING has samples: 242 \n",
      "Class: COMPULSARY_KEEP_RIGHT has samples: 223 \n",
      "Class: GAP_IN_MEDIAN has samples: 180 \n",
      "Class: CROSS_ROAD has samples: 140 \n",
      "Class: PEDESTRIAN_CROSSING has samples: 121 \n",
      "Class: SPEED_LIMIT_50 has samples: 200 \n",
      "Class: HORN_PROHIBITED has samples: 160 \n",
      "Class: SPEED_LIMIT_40 has samples: 170 \n",
      "Class: NO_ENTRY has samples: 174 \n",
      "Class: HUMP_OR_ROUGH_ROAD has samples: 101 \n",
      "Class: SPEED_LIMIT_30 has samples: 238 \n",
      "Class: LEFT_TURN_PROHIBITED has samples: 126 \n",
      "Class: SPEED_LIMIT_70 has samples: 160 \n",
      "\n",
      "Total number of samples:  2617\n",
      "\n",
      "Time taken: 0.021085023880004883\n"
     ]
    }
   ],
   "source": [
    "class_weights = get_class_weights(path_train, mappings)\n",
    "\n",
    "class_weights = torch.FloatTensor(class_weights)\n",
    "class_weights = class_weights.to(device)\n",
    "\n",
    "criterion = get_criterion(class_weights)"
   ]
  },
  {
   "cell_type": "code",
   "execution_count": null,
   "metadata": {
    "execution": {
     "iopub.execute_input": "2022-11-13T12:43:26.428771Z",
     "iopub.status.busy": "2022-11-13T12:43:26.428380Z",
     "iopub.status.idle": "2022-11-13T13:33:29.767125Z",
     "shell.execute_reply": "2022-11-13T13:33:29.765566Z",
     "shell.execute_reply.started": "2022-11-13T12:43:26.428735Z"
    },
    "id": "pzxEFoxxs26O",
    "outputId": "e524abf0-da3a-44bc-9050-58e905b65e9d"
   },
   "outputs": [
    {
     "name": "stdout",
     "output_type": "stream",
     "text": [
      "Epoch [1/10], Step [10/66], Loss: 2.7092, Accuracy: 0.00%, Validation Accuracy: 12.62%\n",
      "Epoch [1/10], Step [20/66], Loss: 2.7029, Accuracy: 12.50%, Validation Accuracy: 7.84%\n",
      "Epoch [1/10], Step [30/66], Loss: 2.7039, Accuracy: 9.38%, Validation Accuracy: 7.84%\n",
      "Epoch [1/10], Step [40/66], Loss: 2.7054, Accuracy: 0.00%, Validation Accuracy: 7.84%\n",
      "Epoch [1/10], Step [50/66], Loss: 2.6996, Accuracy: 15.62%, Validation Accuracy: 7.84%\n",
      "Epoch [1/10], Step [60/66], Loss: 2.6864, Accuracy: 3.12%, Validation Accuracy: 7.84%\n",
      "Epoch [2/10], Step [10/66], Loss: 2.6826, Accuracy: 6.25%, Validation Accuracy: 9.94%\n",
      "Epoch [2/10], Step [20/66], Loss: 2.7599, Accuracy: 9.38%, Validation Accuracy: 15.68%\n",
      "Epoch [2/10], Step [30/66], Loss: 2.6999, Accuracy: 9.38%, Validation Accuracy: 7.84%\n",
      "Epoch [2/10], Step [40/66], Loss: 2.7221, Accuracy: 9.38%, Validation Accuracy: 11.28%\n",
      "Epoch [2/10], Step [50/66], Loss: 2.6709, Accuracy: 21.88%, Validation Accuracy: 17.40%\n",
      "Epoch [2/10], Step [60/66], Loss: 2.6437, Accuracy: 12.50%, Validation Accuracy: 15.68%\n",
      "Epoch [3/10], Step [10/66], Loss: 2.3462, Accuracy: 28.12%, Validation Accuracy: 15.87%\n",
      "Epoch [3/10], Step [20/66], Loss: 2.4409, Accuracy: 15.62%, Validation Accuracy: 17.97%\n",
      "Epoch [3/10], Step [30/66], Loss: 2.4926, Accuracy: 12.50%, Validation Accuracy: 26.77%\n",
      "Epoch [3/10], Step [40/66], Loss: 2.2686, Accuracy: 21.88%, Validation Accuracy: 26.39%\n",
      "Epoch [3/10], Step [50/66], Loss: 2.5243, Accuracy: 21.88%, Validation Accuracy: 31.93%\n",
      "Epoch [3/10], Step [60/66], Loss: 2.0193, Accuracy: 34.38%, Validation Accuracy: 23.33%\n",
      "Epoch [4/10], Step [10/66], Loss: 1.8768, Accuracy: 43.75%, Validation Accuracy: 32.50%\n",
      "Epoch [4/10], Step [20/66], Loss: 2.0371, Accuracy: 31.25%, Validation Accuracy: 35.95%\n",
      "Epoch [4/10], Step [30/66], Loss: 1.9006, Accuracy: 43.75%, Validation Accuracy: 36.90%\n",
      "Epoch [4/10], Step [40/66], Loss: 1.9365, Accuracy: 28.12%, Validation Accuracy: 35.37%\n",
      "Epoch [4/10], Step [50/66], Loss: 1.5007, Accuracy: 46.88%, Validation Accuracy: 36.71%\n",
      "Epoch [4/10], Step [60/66], Loss: 1.9186, Accuracy: 18.75%, Validation Accuracy: 39.39%\n",
      "Epoch [5/10], Step [10/66], Loss: 1.8641, Accuracy: 31.25%, Validation Accuracy: 37.67%\n",
      "Epoch [5/10], Step [20/66], Loss: 1.5189, Accuracy: 43.75%, Validation Accuracy: 38.62%\n",
      "Epoch [5/10], Step [30/66], Loss: 1.7931, Accuracy: 31.25%, Validation Accuracy: 42.45%\n",
      "Epoch [5/10], Step [40/66], Loss: 2.0421, Accuracy: 21.88%, Validation Accuracy: 40.92%\n",
      "Epoch [5/10], Step [50/66], Loss: 1.6392, Accuracy: 31.25%, Validation Accuracy: 41.11%\n",
      "Epoch [5/10], Step [60/66], Loss: 1.3841, Accuracy: 53.12%, Validation Accuracy: 41.11%\n",
      "Epoch [6/10], Step [10/66], Loss: 1.5656, Accuracy: 46.88%, Validation Accuracy: 43.02%\n",
      "Epoch [6/10], Step [20/66], Loss: 1.6476, Accuracy: 34.38%, Validation Accuracy: 43.59%\n",
      "Epoch [6/10], Step [30/66], Loss: 1.5271, Accuracy: 40.62%, Validation Accuracy: 42.26%\n",
      "Epoch [6/10], Step [40/66], Loss: 1.6020, Accuracy: 25.00%, Validation Accuracy: 46.65%\n",
      "Epoch [6/10], Step [50/66], Loss: 1.2152, Accuracy: 56.25%, Validation Accuracy: 44.55%\n",
      "Epoch [6/10], Step [60/66], Loss: 1.2557, Accuracy: 53.12%, Validation Accuracy: 45.70%\n",
      "Epoch [7/10], Step [10/66], Loss: 1.8375, Accuracy: 31.25%, Validation Accuracy: 47.04%\n",
      "Epoch [7/10], Step [20/66], Loss: 1.4991, Accuracy: 34.38%, Validation Accuracy: 44.17%\n",
      "Epoch [7/10], Step [30/66], Loss: 1.5494, Accuracy: 43.75%, Validation Accuracy: 44.17%\n",
      "Epoch [7/10], Step [40/66], Loss: 1.2717, Accuracy: 56.25%, Validation Accuracy: 49.52%\n",
      "Epoch [7/10], Step [50/66], Loss: 1.4773, Accuracy: 40.62%, Validation Accuracy: 45.32%\n",
      "Epoch [7/10], Step [60/66], Loss: 1.0220, Accuracy: 59.38%, Validation Accuracy: 44.74%\n",
      "Epoch [8/10], Step [10/66], Loss: 1.4147, Accuracy: 43.75%, Validation Accuracy: 47.99%\n",
      "Epoch [8/10], Step [20/66], Loss: 1.3806, Accuracy: 43.75%, Validation Accuracy: 45.12%\n",
      "Epoch [8/10], Step [30/66], Loss: 1.5230, Accuracy: 37.50%, Validation Accuracy: 46.85%\n",
      "Epoch [8/10], Step [40/66], Loss: 1.4666, Accuracy: 53.12%, Validation Accuracy: 49.33%\n",
      "Epoch [8/10], Step [50/66], Loss: 1.2249, Accuracy: 53.12%, Validation Accuracy: 47.99%\n",
      "Epoch [8/10], Step [60/66], Loss: 0.9828, Accuracy: 65.62%, Validation Accuracy: 51.63%\n",
      "Epoch [9/10], Step [10/66], Loss: 1.3536, Accuracy: 50.00%, Validation Accuracy: 49.52%\n",
      "Epoch [9/10], Step [20/66], Loss: 1.0815, Accuracy: 53.12%, Validation Accuracy: 46.46%\n",
      "Epoch [9/10], Step [30/66], Loss: 0.9233, Accuracy: 65.62%, Validation Accuracy: 46.08%\n",
      "Epoch [9/10], Step [40/66], Loss: 1.2918, Accuracy: 56.25%, Validation Accuracy: 53.35%\n",
      "Epoch [9/10], Step [50/66], Loss: 1.2657, Accuracy: 56.25%, Validation Accuracy: 51.82%\n",
      "Epoch [9/10], Step [60/66], Loss: 1.7174, Accuracy: 28.12%, Validation Accuracy: 51.24%\n",
      "Epoch [10/10], Step [10/66], Loss: 1.2515, Accuracy: 50.00%, Validation Accuracy: 51.82%\n",
      "Epoch [10/10], Step [20/66], Loss: 1.4222, Accuracy: 50.00%, Validation Accuracy: 53.15%\n",
      "Epoch [10/10], Step [30/66], Loss: 1.4898, Accuracy: 40.62%, Validation Accuracy: 55.07%\n",
      "Epoch [10/10], Step [40/66], Loss: 1.1912, Accuracy: 53.12%, Validation Accuracy: 50.48%\n",
      "Epoch [10/10], Step [50/66], Loss: 1.4791, Accuracy: 40.62%, Validation Accuracy: 50.10%\n",
      "Epoch [10/10], Step [60/66], Loss: 1.3623, Accuracy: 53.12%, Validation Accuracy: 53.35%\n",
      "######## Training Finished in 3002.511532306671 seconds ###########\n",
      "/n/n Saving model at:  /kaggle/working/alexnetmodel_d1.pt\n"
     ]
    }
   ],
   "source": [
    "model_savepath = savepath+\"alexnetmodel_d1.pt\"\n",
    "results_savepath = savepath+\"alexnetmodel_d1_results.pkb\"\n",
    "\n",
    "trained_AlexNet_model, device = train_model(AlexNet_model, num_epochs, train_loader, criterion, optimizer, model_savepath, results_savepath, device)"
   ]
  },
  {
   "cell_type": "code",
   "execution_count": null,
   "metadata": {
    "execution": {
     "iopub.execute_input": "2022-11-13T13:33:29.770909Z",
     "iopub.status.busy": "2022-11-13T13:33:29.770498Z",
     "iopub.status.idle": "2022-11-13T13:33:29.775088Z",
     "shell.execute_reply": "2022-11-13T13:33:29.774096Z",
     "shell.execute_reply.started": "2022-11-13T13:33:29.770870Z"
    },
    "id": "lBVfPGxuqTaY"
   },
   "outputs": [],
   "source": [
    "# for loading model\n",
    "# trained_AlexNet_model.load_state_dict(torch.load(path+\"alexnetmodel.pt\"))"
   ]
  },
  {
   "cell_type": "code",
   "execution_count": null,
   "metadata": {
    "execution": {
     "iopub.execute_input": "2022-11-13T13:33:29.777394Z",
     "iopub.status.busy": "2022-11-13T13:33:29.776439Z",
     "iopub.status.idle": "2022-11-13T13:33:48.807502Z",
     "shell.execute_reply": "2022-11-13T13:33:48.806253Z",
     "shell.execute_reply.started": "2022-11-13T13:33:29.777358Z"
    },
    "id": "qnfIndd2s29e",
    "outputId": "3e4bbc6c-d292-48f7-ab90-c65c149acd2f"
   },
   "outputs": [
    {
     "name": "stdout",
     "output_type": "stream",
     "text": [
      "Model Evaluation Results on 710 test samples\n",
      "Test Accuracy:  46.901408450704224\n",
      "Test F1 Score:  tensor(0.4690)\n"
     ]
    }
   ],
   "source": [
    "evaluate_model(trained_AlexNet_model, test_loader, device, nclasses)"
   ]
  },
  {
   "cell_type": "markdown",
   "metadata": {
    "id": "vEqLQu1V8O9v"
   },
   "source": [
    "On dataset 2:"
   ]
  },
  {
   "cell_type": "code",
   "execution_count": null,
   "metadata": {
    "execution": {
     "iopub.execute_input": "2022-11-13T13:33:48.809851Z",
     "iopub.status.busy": "2022-11-13T13:33:48.809158Z",
     "iopub.status.idle": "2022-11-13T13:33:48.815325Z",
     "shell.execute_reply": "2022-11-13T13:33:48.813985Z",
     "shell.execute_reply.started": "2022-11-13T13:33:48.809809Z"
    },
    "id": "M8TAKHdJN-v3"
   },
   "outputs": [],
   "source": [
    "nclasses=12"
   ]
  },
  {
   "cell_type": "code",
   "execution_count": null,
   "metadata": {
    "execution": {
     "iopub.execute_input": "2022-11-13T13:33:48.817852Z",
     "iopub.status.busy": "2022-11-13T13:33:48.817313Z",
     "iopub.status.idle": "2022-11-13T13:33:49.420079Z",
     "shell.execute_reply": "2022-11-13T13:33:49.418967Z",
     "shell.execute_reply.started": "2022-11-13T13:33:48.817810Z"
    },
    "id": "I2j6kffT8O9v",
    "outputId": "c5193785-0b42-427d-9827-29d6fc373ab5"
   },
   "outputs": [
    {
     "name": "stderr",
     "output_type": "stream",
     "text": [
      "Using cache found in /root/.cache/torch/hub/pytorch_vision_v0.6.0\n"
     ]
    }
   ],
   "source": [
    "AlexNet_model = torch.hub.load('pytorch/vision:v0.6.0', 'alexnet', pretrained=False)"
   ]
  },
  {
   "cell_type": "code",
   "execution_count": null,
   "metadata": {
    "execution": {
     "iopub.execute_input": "2022-11-13T13:33:49.422186Z",
     "iopub.status.busy": "2022-11-13T13:33:49.421544Z",
     "iopub.status.idle": "2022-11-13T13:33:49.429786Z",
     "shell.execute_reply": "2022-11-13T13:33:49.428676Z",
     "shell.execute_reply.started": "2022-11-13T13:33:49.422142Z"
    },
    "id": "NrZajJzb8O9v"
   },
   "outputs": [],
   "source": [
    "prev_out = AlexNet_model.classifier[4].out_features\n",
    "AlexNet_model.classifier[6] = nn.Linear( prev_out, nclasses)"
   ]
  },
  {
   "cell_type": "code",
   "execution_count": null,
   "metadata": {
    "execution": {
     "iopub.execute_input": "2022-11-13T13:33:49.431727Z",
     "iopub.status.busy": "2022-11-13T13:33:49.431121Z",
     "iopub.status.idle": "2022-11-13T13:33:49.442611Z",
     "shell.execute_reply": "2022-11-13T13:33:49.441662Z",
     "shell.execute_reply.started": "2022-11-13T13:33:49.431688Z"
    },
    "id": "mLV6Cd7r8O9w"
   },
   "outputs": [],
   "source": [
    "optimizer = torch.optim.Adam(AlexNet_model.parameters(), lr=learning_rate) "
   ]
  },
  {
   "cell_type": "code",
   "execution_count": null,
   "metadata": {
    "execution": {
     "iopub.execute_input": "2022-11-13T13:33:49.446380Z",
     "iopub.status.busy": "2022-11-13T13:33:49.446014Z",
     "iopub.status.idle": "2022-11-13T13:33:51.924247Z",
     "shell.execute_reply": "2022-11-13T13:33:51.923251Z",
     "shell.execute_reply.started": "2022-11-13T13:33:49.446353Z"
    },
    "id": "1xjiDwAq8O9w"
   },
   "outputs": [],
   "source": [
    "path_train = path_dataset2+\"train/\"\n",
    "path_test = path_dataset2+\"test/\"\n",
    "val_split = 0.2\n",
    "batch_size = 32\n",
    "input_size = (224,224)\n",
    "\n",
    "train_loader, test_loader, val_loader, mappings = load_data(path_train, val_split, path_test, batch_size, input_size)"
   ]
  },
  {
   "cell_type": "code",
   "execution_count": null,
   "metadata": {
    "execution": {
     "iopub.execute_input": "2022-11-13T13:33:51.926467Z",
     "iopub.status.busy": "2022-11-13T13:33:51.925682Z",
     "iopub.status.idle": "2022-11-13T13:33:51.997701Z",
     "shell.execute_reply": "2022-11-13T13:33:51.996739Z",
     "shell.execute_reply.started": "2022-11-13T13:33:51.926425Z"
    },
    "id": "a-qE-V-JVT3V",
    "outputId": "f96a809a-5abd-4cb7-a843-2fe9dc0bd9c9"
   },
   "outputs": [
    {
     "name": "stdout",
     "output_type": "stream",
     "text": [
      "Device: cuda:0\n"
     ]
    },
    {
     "data": {
      "text/plain": [
       "AlexNet(\n",
       "  (features): Sequential(\n",
       "    (0): Conv2d(3, 64, kernel_size=(11, 11), stride=(4, 4), padding=(2, 2))\n",
       "    (1): ReLU(inplace=True)\n",
       "    (2): MaxPool2d(kernel_size=3, stride=2, padding=0, dilation=1, ceil_mode=False)\n",
       "    (3): Conv2d(64, 192, kernel_size=(5, 5), stride=(1, 1), padding=(2, 2))\n",
       "    (4): ReLU(inplace=True)\n",
       "    (5): MaxPool2d(kernel_size=3, stride=2, padding=0, dilation=1, ceil_mode=False)\n",
       "    (6): Conv2d(192, 384, kernel_size=(3, 3), stride=(1, 1), padding=(1, 1))\n",
       "    (7): ReLU(inplace=True)\n",
       "    (8): Conv2d(384, 256, kernel_size=(3, 3), stride=(1, 1), padding=(1, 1))\n",
       "    (9): ReLU(inplace=True)\n",
       "    (10): Conv2d(256, 256, kernel_size=(3, 3), stride=(1, 1), padding=(1, 1))\n",
       "    (11): ReLU(inplace=True)\n",
       "    (12): MaxPool2d(kernel_size=3, stride=2, padding=0, dilation=1, ceil_mode=False)\n",
       "  )\n",
       "  (avgpool): AdaptiveAvgPool2d(output_size=(6, 6))\n",
       "  (classifier): Sequential(\n",
       "    (0): Dropout(p=0.5, inplace=False)\n",
       "    (1): Linear(in_features=9216, out_features=4096, bias=True)\n",
       "    (2): ReLU(inplace=True)\n",
       "    (3): Dropout(p=0.5, inplace=False)\n",
       "    (4): Linear(in_features=4096, out_features=4096, bias=True)\n",
       "    (5): ReLU(inplace=True)\n",
       "    (6): Linear(in_features=4096, out_features=12, bias=True)\n",
       "  )\n",
       ")"
      ]
     },
     "execution_count": 45,
     "metadata": {},
     "output_type": "execute_result"
    }
   ],
   "source": [
    "device = torch.device(\"cuda:0\" if torch.cuda.is_available() else \"cpu\")\n",
    "print(\"Device: {}\".format(device))\n",
    "AlexNet_model.to(device)"
   ]
  },
  {
   "cell_type": "code",
   "execution_count": null,
   "metadata": {
    "execution": {
     "iopub.execute_input": "2022-11-13T13:33:51.999804Z",
     "iopub.status.busy": "2022-11-13T13:33:51.999195Z",
     "iopub.status.idle": "2022-11-13T13:33:52.021527Z",
     "shell.execute_reply": "2022-11-13T13:33:52.020332Z",
     "shell.execute_reply.started": "2022-11-13T13:33:51.999769Z"
    },
    "id": "HOwQJQNM9fre",
    "outputId": "23ef225a-8c42-4390-c2dd-c4da264d5ddd"
   },
   "outputs": [
    {
     "name": "stdout",
     "output_type": "stream",
     "text": [
      "Class: Pedestrain has samples: 1014 \n",
      "Class: NO Stopping has samples: 1075 \n",
      "Class: Right Turn Prohibited has samples: 436 \n",
      "Class: Danger has samples: 399 \n",
      "Class: Compulsory Keep BothSide has samples: 573 \n",
      "Class: Maximum Speed 30 has samples: 477 \n",
      "Class: Right Margin has samples: 506 \n",
      "Class: Cycle crossing has samples: 662 \n",
      "Class: Roundabouts has samples: 497 \n",
      "Class: One way Traffic has samples: 684 \n",
      "Class: Compulsory Keep Right has samples: 703 \n",
      "Class: No Entry has samples: 930 \n",
      "\n",
      "Total number of samples:  7956\n",
      "\n",
      "Time taken: 0.01659393310546875\n"
     ]
    }
   ],
   "source": [
    "class_weights = get_class_weights(path_train, mappings)\n",
    "\n",
    "class_weights = torch.FloatTensor(class_weights)\n",
    "class_weights = class_weights.to(device)\n",
    "\n",
    "criterion = get_criterion(class_weights)"
   ]
  },
  {
   "cell_type": "code",
   "execution_count": null,
   "metadata": {
    "execution": {
     "iopub.execute_input": "2022-11-13T13:33:52.029244Z",
     "iopub.status.busy": "2022-11-13T13:33:52.028980Z",
     "iopub.status.idle": "2022-11-13T14:26:24.286799Z",
     "shell.execute_reply": "2022-11-13T14:26:24.285215Z",
     "shell.execute_reply.started": "2022-11-13T13:33:52.029219Z"
    },
    "id": "uQGp2Bk38O9w",
    "outputId": "260ac207-57cc-470f-f9b4-b6699a0cc698"
   },
   "outputs": [
    {
     "name": "stdout",
     "output_type": "stream",
     "text": [
      "Epoch [1/10], Step [10/199], Loss: 2.4780, Accuracy: 12.50%, Validation Accuracy: 12.95%\n",
      "Epoch [1/10], Step [20/199], Loss: 2.4724, Accuracy: 25.00%, Validation Accuracy: 15.15%\n",
      "Epoch [1/10], Step [30/199], Loss: 2.4754, Accuracy: 9.38%, Validation Accuracy: 13.45%\n",
      "Epoch [1/10], Step [40/199], Loss: 2.4546, Accuracy: 18.75%, Validation Accuracy: 13.45%\n",
      "Epoch [1/10], Step [50/199], Loss: 2.4784, Accuracy: 9.38%, Validation Accuracy: 13.45%\n",
      "Epoch [1/10], Step [60/199], Loss: 2.3669, Accuracy: 12.50%, Validation Accuracy: 14.39%\n",
      "Epoch [1/10], Step [70/199], Loss: 2.3794, Accuracy: 21.88%, Validation Accuracy: 29.42%\n",
      "Epoch [1/10], Step [80/199], Loss: 2.2294, Accuracy: 21.88%, Validation Accuracy: 23.19%\n",
      "Epoch [1/10], Step [90/199], Loss: 2.0353, Accuracy: 40.62%, Validation Accuracy: 25.46%\n",
      "Epoch [1/10], Step [100/199], Loss: 2.1142, Accuracy: 21.88%, Validation Accuracy: 26.34%\n",
      "Epoch [1/10], Step [110/199], Loss: 1.8558, Accuracy: 31.25%, Validation Accuracy: 23.07%\n",
      "Epoch [1/10], Step [120/199], Loss: 1.8245, Accuracy: 25.00%, Validation Accuracy: 32.06%\n",
      "Epoch [1/10], Step [130/199], Loss: 1.7032, Accuracy: 25.00%, Validation Accuracy: 29.54%\n",
      "Epoch [1/10], Step [140/199], Loss: 1.8446, Accuracy: 31.25%, Validation Accuracy: 30.55%\n",
      "Epoch [1/10], Step [150/199], Loss: 1.6410, Accuracy: 37.50%, Validation Accuracy: 32.56%\n",
      "Epoch [1/10], Step [160/199], Loss: 1.9840, Accuracy: 31.25%, Validation Accuracy: 37.21%\n",
      "Epoch [1/10], Step [170/199], Loss: 1.5524, Accuracy: 50.00%, Validation Accuracy: 35.83%\n",
      "Epoch [1/10], Step [180/199], Loss: 1.5602, Accuracy: 46.88%, Validation Accuracy: 42.68%\n",
      "Epoch [1/10], Step [190/199], Loss: 1.6575, Accuracy: 37.50%, Validation Accuracy: 37.40%\n",
      "Epoch [2/10], Step [10/199], Loss: 1.8474, Accuracy: 40.62%, Validation Accuracy: 38.09%\n",
      "Epoch [2/10], Step [20/199], Loss: 1.4840, Accuracy: 46.88%, Validation Accuracy: 37.08%\n",
      "Epoch [2/10], Step [30/199], Loss: 1.4843, Accuracy: 37.50%, Validation Accuracy: 42.49%\n",
      "Epoch [2/10], Step [40/199], Loss: 1.7654, Accuracy: 28.12%, Validation Accuracy: 44.12%\n",
      "Epoch [2/10], Step [50/199], Loss: 1.5335, Accuracy: 53.12%, Validation Accuracy: 41.61%\n",
      "Epoch [2/10], Step [60/199], Loss: 1.4123, Accuracy: 50.00%, Validation Accuracy: 42.05%\n",
      "Epoch [2/10], Step [70/199], Loss: 1.5523, Accuracy: 37.50%, Validation Accuracy: 42.99%\n",
      "Epoch [2/10], Step [80/199], Loss: 1.6347, Accuracy: 37.50%, Validation Accuracy: 52.61%\n",
      "Epoch [2/10], Step [90/199], Loss: 1.7230, Accuracy: 25.00%, Validation Accuracy: 52.29%\n",
      "Epoch [2/10], Step [100/199], Loss: 1.7153, Accuracy: 31.25%, Validation Accuracy: 44.75%\n",
      "Epoch [2/10], Step [110/199], Loss: 1.3668, Accuracy: 40.62%, Validation Accuracy: 48.59%\n",
      "Epoch [2/10], Step [120/199], Loss: 1.5014, Accuracy: 34.38%, Validation Accuracy: 46.51%\n",
      "Epoch [2/10], Step [130/199], Loss: 1.2647, Accuracy: 53.12%, Validation Accuracy: 49.34%\n",
      "Epoch [2/10], Step [140/199], Loss: 1.4296, Accuracy: 43.75%, Validation Accuracy: 50.22%\n",
      "Epoch [2/10], Step [150/199], Loss: 1.7110, Accuracy: 43.75%, Validation Accuracy: 56.63%\n",
      "Epoch [2/10], Step [160/199], Loss: 1.5959, Accuracy: 34.38%, Validation Accuracy: 49.47%\n",
      "Epoch [2/10], Step [170/199], Loss: 1.5453, Accuracy: 56.25%, Validation Accuracy: 53.80%\n",
      "Epoch [2/10], Step [180/199], Loss: 1.2775, Accuracy: 59.38%, Validation Accuracy: 54.37%\n",
      "Epoch [2/10], Step [190/199], Loss: 1.0370, Accuracy: 68.75%, Validation Accuracy: 55.12%\n",
      "Epoch [3/10], Step [10/199], Loss: 0.9463, Accuracy: 68.75%, Validation Accuracy: 55.63%\n",
      "Epoch [3/10], Step [20/199], Loss: 1.1760, Accuracy: 59.38%, Validation Accuracy: 61.35%\n",
      "Epoch [3/10], Step [30/199], Loss: 1.0092, Accuracy: 62.50%, Validation Accuracy: 60.59%\n",
      "Epoch [3/10], Step [40/199], Loss: 1.2891, Accuracy: 56.25%, Validation Accuracy: 56.32%\n",
      "Epoch [3/10], Step [50/199], Loss: 1.0400, Accuracy: 68.75%, Validation Accuracy: 59.59%\n",
      "Epoch [3/10], Step [60/199], Loss: 1.4402, Accuracy: 62.50%, Validation Accuracy: 64.42%\n",
      "Epoch [3/10], Step [70/199], Loss: 1.1796, Accuracy: 53.12%, Validation Accuracy: 62.73%\n",
      "Epoch [3/10], Step [80/199], Loss: 1.4260, Accuracy: 37.50%, Validation Accuracy: 62.04%\n",
      "Epoch [3/10], Step [90/199], Loss: 1.3466, Accuracy: 53.12%, Validation Accuracy: 62.23%\n",
      "Epoch [3/10], Step [100/199], Loss: 0.9947, Accuracy: 62.50%, Validation Accuracy: 57.26%\n",
      "Epoch [3/10], Step [110/199], Loss: 1.1465, Accuracy: 62.50%, Validation Accuracy: 63.98%\n",
      "Epoch [3/10], Step [120/199], Loss: 0.8556, Accuracy: 71.88%, Validation Accuracy: 64.05%\n",
      "Epoch [3/10], Step [130/199], Loss: 0.9851, Accuracy: 62.50%, Validation Accuracy: 62.79%\n",
      "Epoch [3/10], Step [140/199], Loss: 0.7643, Accuracy: 71.88%, Validation Accuracy: 68.70%\n",
      "Epoch [3/10], Step [150/199], Loss: 1.3553, Accuracy: 59.38%, Validation Accuracy: 68.38%\n",
      "Epoch [3/10], Step [160/199], Loss: 1.2088, Accuracy: 43.75%, Validation Accuracy: 70.52%\n",
      "Epoch [3/10], Step [170/199], Loss: 0.7613, Accuracy: 84.38%, Validation Accuracy: 71.84%\n",
      "Epoch [3/10], Step [180/199], Loss: 1.0865, Accuracy: 56.25%, Validation Accuracy: 69.77%\n",
      "Epoch [3/10], Step [190/199], Loss: 1.1253, Accuracy: 50.00%, Validation Accuracy: 70.52%\n",
      "Epoch [4/10], Step [10/199], Loss: 0.8442, Accuracy: 68.75%, Validation Accuracy: 72.78%\n",
      "Epoch [4/10], Step [20/199], Loss: 0.9719, Accuracy: 59.38%, Validation Accuracy: 72.03%\n",
      "Epoch [4/10], Step [30/199], Loss: 0.9658, Accuracy: 56.25%, Validation Accuracy: 75.68%\n",
      "Epoch [4/10], Step [40/199], Loss: 0.8808, Accuracy: 65.62%, Validation Accuracy: 73.60%\n",
      "Epoch [4/10], Step [50/199], Loss: 0.8246, Accuracy: 65.62%, Validation Accuracy: 71.40%\n",
      "Epoch [4/10], Step [60/199], Loss: 0.7565, Accuracy: 78.12%, Validation Accuracy: 75.05%\n",
      "Epoch [4/10], Step [70/199], Loss: 0.9127, Accuracy: 65.62%, Validation Accuracy: 74.67%\n",
      "Epoch [4/10], Step [80/199], Loss: 0.9922, Accuracy: 65.62%, Validation Accuracy: 77.12%\n",
      "Epoch [4/10], Step [90/199], Loss: 1.0727, Accuracy: 56.25%, Validation Accuracy: 75.99%\n",
      "Epoch [4/10], Step [100/199], Loss: 1.1135, Accuracy: 65.62%, Validation Accuracy: 78.00%\n",
      "Epoch [4/10], Step [110/199], Loss: 0.8134, Accuracy: 78.12%, Validation Accuracy: 78.44%\n",
      "Epoch [4/10], Step [120/199], Loss: 0.8061, Accuracy: 78.12%, Validation Accuracy: 77.31%\n",
      "Epoch [4/10], Step [130/199], Loss: 0.6984, Accuracy: 90.62%, Validation Accuracy: 77.69%\n",
      "Epoch [4/10], Step [140/199], Loss: 0.6852, Accuracy: 81.25%, Validation Accuracy: 79.82%\n",
      "Epoch [4/10], Step [150/199], Loss: 0.4943, Accuracy: 84.38%, Validation Accuracy: 81.33%\n",
      "Epoch [4/10], Step [160/199], Loss: 0.8007, Accuracy: 71.88%, Validation Accuracy: 78.13%\n",
      "Epoch [4/10], Step [170/199], Loss: 0.6655, Accuracy: 78.12%, Validation Accuracy: 81.90%\n",
      "Epoch [4/10], Step [180/199], Loss: 0.5336, Accuracy: 84.38%, Validation Accuracy: 81.71%\n",
      "Epoch [4/10], Step [190/199], Loss: 0.5560, Accuracy: 75.00%, Validation Accuracy: 80.58%\n",
      "Epoch [5/10], Step [10/199], Loss: 0.6794, Accuracy: 71.88%, Validation Accuracy: 80.33%\n",
      "Epoch [5/10], Step [20/199], Loss: 0.6706, Accuracy: 71.88%, Validation Accuracy: 80.89%\n",
      "Epoch [5/10], Step [30/199], Loss: 0.5926, Accuracy: 81.25%, Validation Accuracy: 83.03%\n",
      "Epoch [5/10], Step [40/199], Loss: 0.7147, Accuracy: 71.88%, Validation Accuracy: 83.53%\n",
      "Epoch [5/10], Step [50/199], Loss: 0.5210, Accuracy: 87.50%, Validation Accuracy: 83.16%\n",
      "Epoch [5/10], Step [60/199], Loss: 1.1133, Accuracy: 68.75%, Validation Accuracy: 84.10%\n",
      "Epoch [5/10], Step [70/199], Loss: 0.3833, Accuracy: 90.62%, Validation Accuracy: 82.40%\n",
      "Epoch [5/10], Step [80/199], Loss: 0.5123, Accuracy: 81.25%, Validation Accuracy: 84.48%\n",
      "Epoch [5/10], Step [90/199], Loss: 0.8017, Accuracy: 81.25%, Validation Accuracy: 85.73%\n",
      "Epoch [5/10], Step [100/199], Loss: 0.6819, Accuracy: 87.50%, Validation Accuracy: 84.98%\n",
      "Epoch [5/10], Step [110/199], Loss: 0.5406, Accuracy: 84.38%, Validation Accuracy: 84.92%\n",
      "Epoch [5/10], Step [120/199], Loss: 0.5450, Accuracy: 71.88%, Validation Accuracy: 84.79%\n",
      "Epoch [5/10], Step [130/199], Loss: 0.2945, Accuracy: 90.62%, Validation Accuracy: 86.36%\n",
      "Epoch [5/10], Step [140/199], Loss: 0.5048, Accuracy: 84.38%, Validation Accuracy: 84.98%\n",
      "Epoch [5/10], Step [150/199], Loss: 1.0455, Accuracy: 65.62%, Validation Accuracy: 83.78%\n",
      "Epoch [5/10], Step [160/199], Loss: 0.7755, Accuracy: 62.50%, Validation Accuracy: 84.79%\n",
      "Epoch [5/10], Step [170/199], Loss: 0.7747, Accuracy: 78.12%, Validation Accuracy: 86.11%\n",
      "Epoch [5/10], Step [180/199], Loss: 0.3876, Accuracy: 90.62%, Validation Accuracy: 82.97%\n",
      "Epoch [5/10], Step [190/199], Loss: 0.4134, Accuracy: 84.38%, Validation Accuracy: 85.61%\n",
      "Epoch [6/10], Step [10/199], Loss: 0.4647, Accuracy: 84.38%, Validation Accuracy: 87.68%\n",
      "Epoch [6/10], Step [20/199], Loss: 0.4205, Accuracy: 84.38%, Validation Accuracy: 88.62%\n",
      "Epoch [6/10], Step [30/199], Loss: 0.4902, Accuracy: 81.25%, Validation Accuracy: 87.05%\n",
      "Epoch [6/10], Step [40/199], Loss: 0.2971, Accuracy: 93.75%, Validation Accuracy: 84.35%\n",
      "Epoch [6/10], Step [50/199], Loss: 0.6198, Accuracy: 78.12%, Validation Accuracy: 88.06%\n",
      "Epoch [6/10], Step [60/199], Loss: 0.3076, Accuracy: 87.50%, Validation Accuracy: 89.57%\n",
      "Epoch [6/10], Step [70/199], Loss: 0.6270, Accuracy: 87.50%, Validation Accuracy: 88.06%\n",
      "Epoch [6/10], Step [80/199], Loss: 0.4273, Accuracy: 87.50%, Validation Accuracy: 85.36%\n",
      "Epoch [6/10], Step [90/199], Loss: 0.4901, Accuracy: 90.62%, Validation Accuracy: 86.42%\n",
      "Epoch [6/10], Step [100/199], Loss: 0.4690, Accuracy: 84.38%, Validation Accuracy: 86.05%\n",
      "Epoch [6/10], Step [110/199], Loss: 0.5728, Accuracy: 78.12%, Validation Accuracy: 88.06%\n",
      "Epoch [6/10], Step [120/199], Loss: 0.5028, Accuracy: 78.12%, Validation Accuracy: 84.92%\n",
      "Epoch [6/10], Step [130/199], Loss: 0.4387, Accuracy: 84.38%, Validation Accuracy: 87.62%\n",
      "Epoch [6/10], Step [140/199], Loss: 0.3760, Accuracy: 90.62%, Validation Accuracy: 90.07%\n",
      "Epoch [6/10], Step [150/199], Loss: 0.3626, Accuracy: 84.38%, Validation Accuracy: 87.62%\n",
      "Epoch [6/10], Step [160/199], Loss: 0.3595, Accuracy: 87.50%, Validation Accuracy: 88.62%\n",
      "Epoch [6/10], Step [170/199], Loss: 0.5567, Accuracy: 81.25%, Validation Accuracy: 88.43%\n",
      "Epoch [6/10], Step [180/199], Loss: 0.6131, Accuracy: 84.38%, Validation Accuracy: 91.26%\n",
      "Epoch [6/10], Step [190/199], Loss: 0.2688, Accuracy: 90.62%, Validation Accuracy: 89.50%\n",
      "Epoch [7/10], Step [10/199], Loss: 0.3886, Accuracy: 90.62%, Validation Accuracy: 89.75%\n",
      "Epoch [7/10], Step [20/199], Loss: 0.6007, Accuracy: 87.50%, Validation Accuracy: 90.89%\n",
      "Epoch [7/10], Step [30/199], Loss: 0.3684, Accuracy: 87.50%, Validation Accuracy: 89.00%\n",
      "Epoch [7/10], Step [40/199], Loss: 0.5812, Accuracy: 81.25%, Validation Accuracy: 91.26%\n",
      "Epoch [7/10], Step [50/199], Loss: 0.2338, Accuracy: 93.75%, Validation Accuracy: 89.25%\n",
      "Epoch [7/10], Step [60/199], Loss: 0.4144, Accuracy: 93.75%, Validation Accuracy: 89.13%\n",
      "Epoch [7/10], Step [70/199], Loss: 0.3639, Accuracy: 90.62%, Validation Accuracy: 90.51%\n",
      "Epoch [7/10], Step [80/199], Loss: 0.2855, Accuracy: 96.88%, Validation Accuracy: 91.33%\n",
      "Epoch [7/10], Step [90/199], Loss: 0.2173, Accuracy: 93.75%, Validation Accuracy: 91.45%\n",
      "Epoch [7/10], Step [100/199], Loss: 0.4387, Accuracy: 90.62%, Validation Accuracy: 89.94%\n",
      "Epoch [7/10], Step [110/199], Loss: 0.3868, Accuracy: 87.50%, Validation Accuracy: 90.70%\n",
      "Epoch [7/10], Step [120/199], Loss: 0.6870, Accuracy: 81.25%, Validation Accuracy: 91.51%\n",
      "Epoch [7/10], Step [130/199], Loss: 0.5172, Accuracy: 81.25%, Validation Accuracy: 92.65%\n",
      "Epoch [7/10], Step [140/199], Loss: 0.2006, Accuracy: 93.75%, Validation Accuracy: 91.45%\n",
      "Epoch [7/10], Step [150/199], Loss: 0.2996, Accuracy: 90.62%, Validation Accuracy: 91.14%\n",
      "Epoch [7/10], Step [160/199], Loss: 0.1833, Accuracy: 93.75%, Validation Accuracy: 92.96%\n",
      "Epoch [7/10], Step [170/199], Loss: 0.5215, Accuracy: 90.62%, Validation Accuracy: 91.07%\n",
      "Epoch [7/10], Step [180/199], Loss: 0.4123, Accuracy: 84.38%, Validation Accuracy: 91.83%\n",
      "Epoch [7/10], Step [190/199], Loss: 0.5761, Accuracy: 84.38%, Validation Accuracy: 91.70%\n",
      "Epoch [8/10], Step [10/199], Loss: 0.4768, Accuracy: 81.25%, Validation Accuracy: 89.44%\n",
      "Epoch [8/10], Step [20/199], Loss: 0.3653, Accuracy: 87.50%, Validation Accuracy: 91.26%\n",
      "Epoch [8/10], Step [30/199], Loss: 0.2830, Accuracy: 84.38%, Validation Accuracy: 90.76%\n",
      "Epoch [8/10], Step [40/199], Loss: 0.4069, Accuracy: 87.50%, Validation Accuracy: 92.39%\n",
      "Epoch [8/10], Step [50/199], Loss: 0.5204, Accuracy: 93.75%, Validation Accuracy: 89.82%\n",
      "Epoch [8/10], Step [60/199], Loss: 0.5300, Accuracy: 87.50%, Validation Accuracy: 90.70%\n",
      "Epoch [8/10], Step [70/199], Loss: 0.3660, Accuracy: 87.50%, Validation Accuracy: 91.58%\n",
      "Epoch [8/10], Step [80/199], Loss: 0.3187, Accuracy: 87.50%, Validation Accuracy: 87.93%\n",
      "Epoch [8/10], Step [90/199], Loss: 0.4930, Accuracy: 87.50%, Validation Accuracy: 91.39%\n",
      "Epoch [8/10], Step [100/199], Loss: 0.3111, Accuracy: 87.50%, Validation Accuracy: 92.39%\n",
      "Epoch [8/10], Step [110/199], Loss: 0.4800, Accuracy: 90.62%, Validation Accuracy: 91.77%\n",
      "Epoch [8/10], Step [120/199], Loss: 0.5679, Accuracy: 78.12%, Validation Accuracy: 92.33%\n",
      "Epoch [8/10], Step [130/199], Loss: 0.2041, Accuracy: 93.75%, Validation Accuracy: 92.77%\n",
      "Epoch [8/10], Step [140/199], Loss: 0.6050, Accuracy: 84.38%, Validation Accuracy: 93.02%\n",
      "Epoch [8/10], Step [150/199], Loss: 0.2087, Accuracy: 96.88%, Validation Accuracy: 92.21%\n",
      "Epoch [8/10], Step [160/199], Loss: 0.3737, Accuracy: 90.62%, Validation Accuracy: 91.51%\n",
      "Epoch [8/10], Step [170/199], Loss: 0.2782, Accuracy: 90.62%, Validation Accuracy: 91.70%\n",
      "Epoch [8/10], Step [180/199], Loss: 0.1992, Accuracy: 90.62%, Validation Accuracy: 92.27%\n",
      "Epoch [8/10], Step [190/199], Loss: 0.5251, Accuracy: 75.00%, Validation Accuracy: 92.96%\n",
      "Epoch [9/10], Step [10/199], Loss: 0.1853, Accuracy: 93.75%, Validation Accuracy: 93.71%\n",
      "Epoch [9/10], Step [20/199], Loss: 0.3862, Accuracy: 84.38%, Validation Accuracy: 92.27%\n",
      "Epoch [9/10], Step [30/199], Loss: 0.2850, Accuracy: 87.50%, Validation Accuracy: 92.65%\n",
      "Epoch [9/10], Step [40/199], Loss: 0.5322, Accuracy: 78.12%, Validation Accuracy: 92.39%\n",
      "Epoch [9/10], Step [50/199], Loss: 0.2356, Accuracy: 96.88%, Validation Accuracy: 93.27%\n",
      "Epoch [9/10], Step [60/199], Loss: 0.3748, Accuracy: 84.38%, Validation Accuracy: 92.46%\n",
      "Epoch [9/10], Step [70/199], Loss: 0.3046, Accuracy: 90.62%, Validation Accuracy: 92.52%\n",
      "Epoch [9/10], Step [80/199], Loss: 0.1491, Accuracy: 93.75%, Validation Accuracy: 93.46%\n",
      "Epoch [9/10], Step [90/199], Loss: 0.3298, Accuracy: 87.50%, Validation Accuracy: 93.21%\n",
      "Epoch [9/10], Step [100/199], Loss: 0.1741, Accuracy: 96.88%, Validation Accuracy: 92.58%\n",
      "Epoch [9/10], Step [110/199], Loss: 0.2268, Accuracy: 93.75%, Validation Accuracy: 93.34%\n",
      "Epoch [9/10], Step [120/199], Loss: 0.2059, Accuracy: 90.62%, Validation Accuracy: 94.09%\n",
      "Epoch [9/10], Step [130/199], Loss: 0.1917, Accuracy: 93.75%, Validation Accuracy: 93.97%\n",
      "Epoch [9/10], Step [140/199], Loss: 0.1563, Accuracy: 96.88%, Validation Accuracy: 94.41%\n",
      "Epoch [9/10], Step [150/199], Loss: 0.2779, Accuracy: 90.62%, Validation Accuracy: 93.90%\n",
      "Epoch [9/10], Step [160/199], Loss: 0.2894, Accuracy: 90.62%, Validation Accuracy: 93.90%\n",
      "Epoch [9/10], Step [170/199], Loss: 0.5347, Accuracy: 78.12%, Validation Accuracy: 94.28%\n",
      "Epoch [9/10], Step [180/199], Loss: 0.2361, Accuracy: 93.75%, Validation Accuracy: 93.78%\n",
      "Epoch [9/10], Step [190/199], Loss: 0.1538, Accuracy: 96.88%, Validation Accuracy: 94.28%\n",
      "Epoch [10/10], Step [10/199], Loss: 0.3517, Accuracy: 90.62%, Validation Accuracy: 93.71%\n",
      "Epoch [10/10], Step [20/199], Loss: 0.2652, Accuracy: 93.75%, Validation Accuracy: 93.34%\n",
      "Epoch [10/10], Step [30/199], Loss: 0.3084, Accuracy: 90.62%, Validation Accuracy: 92.58%\n",
      "Epoch [10/10], Step [40/199], Loss: 0.2644, Accuracy: 90.62%, Validation Accuracy: 90.57%\n",
      "Epoch [10/10], Step [50/199], Loss: 0.4608, Accuracy: 84.38%, Validation Accuracy: 92.71%\n",
      "Epoch [10/10], Step [60/199], Loss: 0.3094, Accuracy: 90.62%, Validation Accuracy: 93.15%\n",
      "Epoch [10/10], Step [70/199], Loss: 0.1284, Accuracy: 96.88%, Validation Accuracy: 93.46%\n",
      "Epoch [10/10], Step [80/199], Loss: 0.1418, Accuracy: 96.88%, Validation Accuracy: 94.34%\n",
      "Epoch [10/10], Step [90/199], Loss: 0.2258, Accuracy: 90.62%, Validation Accuracy: 93.97%\n",
      "Epoch [10/10], Step [100/199], Loss: 0.2297, Accuracy: 96.88%, Validation Accuracy: 93.46%\n",
      "Epoch [10/10], Step [110/199], Loss: 0.2922, Accuracy: 93.75%, Validation Accuracy: 93.65%\n",
      "Epoch [10/10], Step [120/199], Loss: 0.2098, Accuracy: 93.75%, Validation Accuracy: 94.28%\n",
      "Epoch [10/10], Step [130/199], Loss: 0.2122, Accuracy: 90.62%, Validation Accuracy: 93.09%\n",
      "Epoch [10/10], Step [140/199], Loss: 0.3468, Accuracy: 87.50%, Validation Accuracy: 94.22%\n",
      "Epoch [10/10], Step [150/199], Loss: 0.3564, Accuracy: 90.62%, Validation Accuracy: 94.28%\n",
      "Epoch [10/10], Step [160/199], Loss: 0.2317, Accuracy: 90.62%, Validation Accuracy: 93.71%\n",
      "Epoch [10/10], Step [170/199], Loss: 0.3128, Accuracy: 90.62%, Validation Accuracy: 94.47%\n",
      "Epoch [10/10], Step [180/199], Loss: 0.2030, Accuracy: 93.75%, Validation Accuracy: 94.28%\n",
      "Epoch [10/10], Step [190/199], Loss: 0.9194, Accuracy: 84.38%, Validation Accuracy: 93.97%\n",
      "######## Training Finished in 3151.4614884853363 seconds ###########\n",
      "/n/n Saving model at:  /kaggle/working/alexnetmodel_d2.pt\n"
     ]
    }
   ],
   "source": [
    "model_savepath = savepath+\"alexnetmodel_d2.pt\"\n",
    "results_savepath = savepath+\"alexnetmodel_d2_results.pkb\"\n",
    "\n",
    "trained_AlexNet_model, device = train_model(AlexNet_model, num_epochs, train_loader, criterion, optimizer, model_savepath, results_savepath, device)"
   ]
  },
  {
   "cell_type": "code",
   "execution_count": null,
   "metadata": {
    "execution": {
     "iopub.execute_input": "2022-11-13T14:26:24.289417Z",
     "iopub.status.busy": "2022-11-13T14:26:24.289001Z",
     "iopub.status.idle": "2022-11-13T14:26:24.294028Z",
     "shell.execute_reply": "2022-11-13T14:26:24.293001Z",
     "shell.execute_reply.started": "2022-11-13T14:26:24.289378Z"
    },
    "id": "9qdjOT2K8O9w"
   },
   "outputs": [],
   "source": [
    "# for loading model\n",
    "# trained_AlexNet_model.load_state_dict(torch.load(path+\"alexnetmodel.pt\"))"
   ]
  },
  {
   "cell_type": "code",
   "execution_count": null,
   "metadata": {
    "execution": {
     "iopub.execute_input": "2022-11-13T14:26:24.297188Z",
     "iopub.status.busy": "2022-11-13T14:26:24.295284Z",
     "iopub.status.idle": "2022-11-13T14:26:38.449856Z",
     "shell.execute_reply": "2022-11-13T14:26:38.448825Z",
     "shell.execute_reply.started": "2022-11-13T14:26:24.297150Z"
    },
    "id": "3UEq0bPW8O9w",
    "outputId": "3e4bbc6c-d292-48f7-ab90-c65c149acd2f"
   },
   "outputs": [
    {
     "name": "stdout",
     "output_type": "stream",
     "text": [
      "Model Evaluation Results on 1228 test samples\n",
      "Test Accuracy:  86.72638436482086\n",
      "Test F1 Score:  tensor(0.8673)\n"
     ]
    }
   ],
   "source": [
    "evaluate_model(trained_AlexNet_model, test_loader, device, nclasses)"
   ]
  },
  {
   "cell_type": "code",
   "execution_count": null,
   "metadata": {
    "id": "zSLvQhsB9mz5"
   },
   "outputs": [],
   "source": []
  },
  {
   "cell_type": "markdown",
   "metadata": {
    "id": "Bvla9-oK9d45"
   },
   "source": [
    "On dataset 3:"
   ]
  },
  {
   "cell_type": "code",
   "execution_count": null,
   "metadata": {
    "execution": {
     "iopub.execute_input": "2022-11-13T14:26:38.451889Z",
     "iopub.status.busy": "2022-11-13T14:26:38.451517Z",
     "iopub.status.idle": "2022-11-13T14:26:38.456483Z",
     "shell.execute_reply": "2022-11-13T14:26:38.455556Z",
     "shell.execute_reply.started": "2022-11-13T14:26:38.451853Z"
    },
    "id": "byAB4YZqN-v5"
   },
   "outputs": [],
   "source": [
    "nclasses=8"
   ]
  },
  {
   "cell_type": "code",
   "execution_count": null,
   "metadata": {
    "execution": {
     "iopub.execute_input": "2022-11-13T14:26:38.458444Z",
     "iopub.status.busy": "2022-11-13T14:26:38.457866Z",
     "iopub.status.idle": "2022-11-13T14:26:39.034426Z",
     "shell.execute_reply": "2022-11-13T14:26:39.033354Z",
     "shell.execute_reply.started": "2022-11-13T14:26:38.458408Z"
    },
    "id": "sR81ilBI9d46",
    "outputId": "c5193785-0b42-427d-9827-29d6fc373ab5"
   },
   "outputs": [
    {
     "name": "stderr",
     "output_type": "stream",
     "text": [
      "Using cache found in /root/.cache/torch/hub/pytorch_vision_v0.6.0\n"
     ]
    }
   ],
   "source": [
    "AlexNet_model = torch.hub.load('pytorch/vision:v0.6.0', 'alexnet', pretrained=False)"
   ]
  },
  {
   "cell_type": "code",
   "execution_count": null,
   "metadata": {
    "execution": {
     "iopub.execute_input": "2022-11-13T14:26:39.036584Z",
     "iopub.status.busy": "2022-11-13T14:26:39.035963Z",
     "iopub.status.idle": "2022-11-13T14:26:39.042632Z",
     "shell.execute_reply": "2022-11-13T14:26:39.041590Z",
     "shell.execute_reply.started": "2022-11-13T14:26:39.036545Z"
    },
    "id": "239Iqf0a9d46"
   },
   "outputs": [],
   "source": [
    "prev_out = AlexNet_model.classifier[4].out_features\n",
    "AlexNet_model.classifier[6] = nn.Linear( prev_out, nclasses)"
   ]
  },
  {
   "cell_type": "code",
   "execution_count": null,
   "metadata": {
    "execution": {
     "iopub.execute_input": "2022-11-13T14:26:39.044590Z",
     "iopub.status.busy": "2022-11-13T14:26:39.044063Z",
     "iopub.status.idle": "2022-11-13T14:26:39.056250Z",
     "shell.execute_reply": "2022-11-13T14:26:39.055397Z",
     "shell.execute_reply.started": "2022-11-13T14:26:39.044555Z"
    },
    "id": "Ji7tYYGa9d46"
   },
   "outputs": [],
   "source": [
    "optimizer = torch.optim.Adam(AlexNet_model.parameters(), lr=learning_rate) "
   ]
  },
  {
   "cell_type": "code",
   "execution_count": null,
   "metadata": {
    "execution": {
     "iopub.execute_input": "2022-11-13T14:26:39.058455Z",
     "iopub.status.busy": "2022-11-13T14:26:39.057733Z",
     "iopub.status.idle": "2022-11-13T14:26:55.628596Z",
     "shell.execute_reply": "2022-11-13T14:26:55.627593Z",
     "shell.execute_reply.started": "2022-11-13T14:26:39.058419Z"
    },
    "id": "0QAcirVL9d46"
   },
   "outputs": [],
   "source": [
    "path_train = path_dataset3+\"Train/\"\n",
    "path_test = path_dataset3+\"Test/\"\n",
    "\n",
    "val_split = 0.2\n",
    "batch_size = 32\n",
    "input_size = (224,224)\n",
    "\n",
    "train_loader, test_loader, val_loader, mappings = load_data(path_train, val_split, path_test, batch_size, input_size)"
   ]
  },
  {
   "cell_type": "code",
   "execution_count": null,
   "metadata": {
    "execution": {
     "iopub.execute_input": "2022-11-13T14:26:55.630615Z",
     "iopub.status.busy": "2022-11-13T14:26:55.630222Z",
     "iopub.status.idle": "2022-11-13T14:26:55.703081Z",
     "shell.execute_reply": "2022-11-13T14:26:55.702082Z",
     "shell.execute_reply.started": "2022-11-13T14:26:55.630578Z"
    },
    "id": "jh39yrdMVRnC",
    "outputId": "4647f3bc-aaeb-41ba-db3e-4003c7285e67"
   },
   "outputs": [
    {
     "name": "stdout",
     "output_type": "stream",
     "text": [
      "Device: cuda:0\n"
     ]
    },
    {
     "data": {
      "text/plain": [
       "AlexNet(\n",
       "  (features): Sequential(\n",
       "    (0): Conv2d(3, 64, kernel_size=(11, 11), stride=(4, 4), padding=(2, 2))\n",
       "    (1): ReLU(inplace=True)\n",
       "    (2): MaxPool2d(kernel_size=3, stride=2, padding=0, dilation=1, ceil_mode=False)\n",
       "    (3): Conv2d(64, 192, kernel_size=(5, 5), stride=(1, 1), padding=(2, 2))\n",
       "    (4): ReLU(inplace=True)\n",
       "    (5): MaxPool2d(kernel_size=3, stride=2, padding=0, dilation=1, ceil_mode=False)\n",
       "    (6): Conv2d(192, 384, kernel_size=(3, 3), stride=(1, 1), padding=(1, 1))\n",
       "    (7): ReLU(inplace=True)\n",
       "    (8): Conv2d(384, 256, kernel_size=(3, 3), stride=(1, 1), padding=(1, 1))\n",
       "    (9): ReLU(inplace=True)\n",
       "    (10): Conv2d(256, 256, kernel_size=(3, 3), stride=(1, 1), padding=(1, 1))\n",
       "    (11): ReLU(inplace=True)\n",
       "    (12): MaxPool2d(kernel_size=3, stride=2, padding=0, dilation=1, ceil_mode=False)\n",
       "  )\n",
       "  (avgpool): AdaptiveAvgPool2d(output_size=(6, 6))\n",
       "  (classifier): Sequential(\n",
       "    (0): Dropout(p=0.5, inplace=False)\n",
       "    (1): Linear(in_features=9216, out_features=4096, bias=True)\n",
       "    (2): ReLU(inplace=True)\n",
       "    (3): Dropout(p=0.5, inplace=False)\n",
       "    (4): Linear(in_features=4096, out_features=4096, bias=True)\n",
       "    (5): ReLU(inplace=True)\n",
       "    (6): Linear(in_features=4096, out_features=8, bias=True)\n",
       "  )\n",
       ")"
      ]
     },
     "execution_count": 55,
     "metadata": {},
     "output_type": "execute_result"
    }
   ],
   "source": [
    "device = torch.device(\"cuda:0\" if torch.cuda.is_available() else \"cpu\")\n",
    "print(\"Device: {}\".format(device))\n",
    "AlexNet_model.to(device)"
   ]
  },
  {
   "cell_type": "code",
   "execution_count": null,
   "metadata": {
    "execution": {
     "iopub.execute_input": "2022-11-13T14:26:55.705149Z",
     "iopub.status.busy": "2022-11-13T14:26:55.704738Z",
     "iopub.status.idle": "2022-11-13T14:26:55.724290Z",
     "shell.execute_reply": "2022-11-13T14:26:55.722936Z",
     "shell.execute_reply.started": "2022-11-13T14:26:55.705096Z"
    },
    "id": "grcNm8jK9g-Q",
    "outputId": "bb22f660-4ad4-4e5f-f944-dc659d7ce2da"
   },
   "outputs": [
    {
     "name": "stdout",
     "output_type": "stream",
     "text": [
      "Class: 7 has samples: 1433 \n",
      "Class: 2 has samples: 2243 \n",
      "Class: 5 has samples: 1853 \n",
      "Class: 8 has samples: 1403 \n",
      "Class: 3 has samples: 1403 \n",
      "Class: 1 has samples: 2213 \n",
      "Class: 4 has samples: 1973 \n",
      "Class: 9 has samples: 1463 \n",
      "\n",
      "Total number of samples:  13984\n",
      "\n",
      "Time taken: 0.01367330551147461\n"
     ]
    }
   ],
   "source": [
    "class_weights = get_class_weights(path_train, mappings)\n",
    "\n",
    "class_weights = torch.FloatTensor(class_weights)\n",
    "class_weights = class_weights.to(device)\n",
    "\n",
    "criterion = get_criterion(class_weights)"
   ]
  },
  {
   "cell_type": "code",
   "execution_count": null,
   "metadata": {
    "execution": {
     "iopub.execute_input": "2022-11-13T14:26:55.726101Z",
     "iopub.status.busy": "2022-11-13T14:26:55.725723Z",
     "iopub.status.idle": "2022-11-13T16:02:57.656484Z",
     "shell.execute_reply": "2022-11-13T16:02:57.655371Z",
     "shell.execute_reply.started": "2022-11-13T14:26:55.726065Z"
    },
    "id": "AqZz0MtR9d46",
    "outputId": "260ac207-57cc-470f-f9b4-b6699a0cc698"
   },
   "outputs": [
    {
     "name": "stdout",
     "output_type": "stream",
     "text": [
      "Epoch [1/10], Step [10/350], Loss: 2.0765, Accuracy: 25.00%, Validation Accuracy: 15.16%\n",
      "Epoch [1/10], Step [20/350], Loss: 2.0746, Accuracy: 25.00%, Validation Accuracy: 15.27%\n",
      "Epoch [1/10], Step [30/350], Loss: 2.0808, Accuracy: 12.50%, Validation Accuracy: 15.27%\n",
      "Epoch [1/10], Step [40/350], Loss: 2.0645, Accuracy: 18.75%, Validation Accuracy: 15.27%\n",
      "Epoch [1/10], Step [50/350], Loss: 2.0569, Accuracy: 18.75%, Validation Accuracy: 15.27%\n",
      "Epoch [1/10], Step [60/350], Loss: 1.9421, Accuracy: 12.50%, Validation Accuracy: 15.27%\n",
      "Epoch [1/10], Step [70/350], Loss: 2.0887, Accuracy: 0.00%, Validation Accuracy: 17.74%\n",
      "Epoch [1/10], Step [80/350], Loss: 1.9824, Accuracy: 25.00%, Validation Accuracy: 19.17%\n",
      "Epoch [1/10], Step [90/350], Loss: 1.9386, Accuracy: 18.75%, Validation Accuracy: 19.03%\n",
      "Epoch [1/10], Step [100/350], Loss: 2.0648, Accuracy: 15.62%, Validation Accuracy: 17.81%\n",
      "Epoch [1/10], Step [110/350], Loss: 1.9490, Accuracy: 15.62%, Validation Accuracy: 20.74%\n",
      "Epoch [1/10], Step [120/350], Loss: 2.0191, Accuracy: 18.75%, Validation Accuracy: 19.85%\n",
      "Epoch [1/10], Step [130/350], Loss: 2.0402, Accuracy: 9.38%, Validation Accuracy: 20.74%\n",
      "Epoch [1/10], Step [140/350], Loss: 2.0119, Accuracy: 25.00%, Validation Accuracy: 21.10%\n",
      "Epoch [1/10], Step [150/350], Loss: 2.0770, Accuracy: 28.12%, Validation Accuracy: 22.17%\n",
      "Epoch [1/10], Step [160/350], Loss: 2.0341, Accuracy: 18.75%, Validation Accuracy: 22.46%\n",
      "Epoch [1/10], Step [170/350], Loss: 2.0295, Accuracy: 12.50%, Validation Accuracy: 19.78%\n",
      "Epoch [1/10], Step [180/350], Loss: 1.9432, Accuracy: 12.50%, Validation Accuracy: 21.53%\n",
      "Epoch [1/10], Step [190/350], Loss: 1.9444, Accuracy: 25.00%, Validation Accuracy: 21.53%\n",
      "Epoch [1/10], Step [200/350], Loss: 1.9538, Accuracy: 25.00%, Validation Accuracy: 22.25%\n",
      "Epoch [1/10], Step [210/350], Loss: 1.8454, Accuracy: 18.75%, Validation Accuracy: 20.03%\n",
      "Epoch [1/10], Step [220/350], Loss: 2.0051, Accuracy: 18.75%, Validation Accuracy: 19.92%\n",
      "Epoch [1/10], Step [230/350], Loss: 1.9988, Accuracy: 25.00%, Validation Accuracy: 20.46%\n",
      "Epoch [1/10], Step [240/350], Loss: 1.8458, Accuracy: 15.62%, Validation Accuracy: 23.57%\n",
      "Epoch [1/10], Step [250/350], Loss: 2.0112, Accuracy: 9.38%, Validation Accuracy: 23.53%\n",
      "Epoch [1/10], Step [260/350], Loss: 1.7546, Accuracy: 40.62%, Validation Accuracy: 22.85%\n",
      "Epoch [1/10], Step [270/350], Loss: 1.8791, Accuracy: 31.25%, Validation Accuracy: 23.10%\n",
      "Epoch [1/10], Step [280/350], Loss: 1.8916, Accuracy: 21.88%, Validation Accuracy: 23.25%\n",
      "Epoch [1/10], Step [290/350], Loss: 2.0875, Accuracy: 12.50%, Validation Accuracy: 23.96%\n",
      "Epoch [1/10], Step [300/350], Loss: 1.9790, Accuracy: 25.00%, Validation Accuracy: 23.43%\n",
      "Epoch [1/10], Step [310/350], Loss: 1.8679, Accuracy: 37.50%, Validation Accuracy: 24.03%\n",
      "Epoch [1/10], Step [320/350], Loss: 1.9526, Accuracy: 9.38%, Validation Accuracy: 23.78%\n",
      "Epoch [1/10], Step [330/350], Loss: 1.9331, Accuracy: 34.38%, Validation Accuracy: 22.10%\n",
      "Epoch [1/10], Step [340/350], Loss: 1.9541, Accuracy: 18.75%, Validation Accuracy: 21.85%\n",
      "Epoch [1/10], Step [350/350], Loss: 2.1759, Accuracy: 15.00%, Validation Accuracy: 22.00%\n",
      "Epoch [2/10], Step [10/350], Loss: 1.9252, Accuracy: 28.12%, Validation Accuracy: 23.43%\n",
      "Epoch [2/10], Step [20/350], Loss: 2.1070, Accuracy: 18.75%, Validation Accuracy: 24.39%\n",
      "Epoch [2/10], Step [30/350], Loss: 1.9154, Accuracy: 28.12%, Validation Accuracy: 23.89%\n",
      "Epoch [2/10], Step [40/350], Loss: 2.0609, Accuracy: 12.50%, Validation Accuracy: 23.89%\n",
      "Epoch [2/10], Step [50/350], Loss: 1.8011, Accuracy: 37.50%, Validation Accuracy: 23.61%\n",
      "Epoch [2/10], Step [60/350], Loss: 1.9405, Accuracy: 25.00%, Validation Accuracy: 23.21%\n",
      "Epoch [2/10], Step [70/350], Loss: 1.9699, Accuracy: 34.38%, Validation Accuracy: 24.14%\n",
      "Epoch [2/10], Step [80/350], Loss: 1.9346, Accuracy: 28.12%, Validation Accuracy: 24.07%\n",
      "Epoch [2/10], Step [90/350], Loss: 1.9038, Accuracy: 25.00%, Validation Accuracy: 24.89%\n",
      "Epoch [2/10], Step [100/350], Loss: 1.8405, Accuracy: 28.12%, Validation Accuracy: 24.61%\n",
      "Epoch [2/10], Step [110/350], Loss: 1.8198, Accuracy: 37.50%, Validation Accuracy: 24.71%\n",
      "Epoch [2/10], Step [120/350], Loss: 1.9390, Accuracy: 15.62%, Validation Accuracy: 23.25%\n",
      "Epoch [2/10], Step [130/350], Loss: 1.9991, Accuracy: 31.25%, Validation Accuracy: 24.25%\n",
      "Epoch [2/10], Step [140/350], Loss: 2.0997, Accuracy: 25.00%, Validation Accuracy: 24.18%\n",
      "Epoch [2/10], Step [150/350], Loss: 1.8781, Accuracy: 25.00%, Validation Accuracy: 21.21%\n",
      "Epoch [2/10], Step [160/350], Loss: 1.9017, Accuracy: 31.25%, Validation Accuracy: 23.21%\n",
      "Epoch [2/10], Step [170/350], Loss: 2.1290, Accuracy: 15.62%, Validation Accuracy: 26.29%\n",
      "Epoch [2/10], Step [180/350], Loss: 1.9243, Accuracy: 21.88%, Validation Accuracy: 24.11%\n",
      "Epoch [2/10], Step [190/350], Loss: 1.8628, Accuracy: 28.12%, Validation Accuracy: 25.46%\n",
      "Epoch [2/10], Step [200/350], Loss: 1.9039, Accuracy: 15.62%, Validation Accuracy: 23.68%\n",
      "Epoch [2/10], Step [210/350], Loss: 1.9517, Accuracy: 28.12%, Validation Accuracy: 24.32%\n",
      "Epoch [2/10], Step [220/350], Loss: 1.8947, Accuracy: 28.12%, Validation Accuracy: 24.11%\n",
      "Epoch [2/10], Step [230/350], Loss: 1.9636, Accuracy: 18.75%, Validation Accuracy: 24.28%\n",
      "Epoch [2/10], Step [240/350], Loss: 1.8814, Accuracy: 18.75%, Validation Accuracy: 24.21%\n",
      "Epoch [2/10], Step [250/350], Loss: 1.9003, Accuracy: 25.00%, Validation Accuracy: 25.50%\n",
      "Epoch [2/10], Step [260/350], Loss: 1.8950, Accuracy: 25.00%, Validation Accuracy: 24.43%\n",
      "Epoch [2/10], Step [270/350], Loss: 1.8488, Accuracy: 28.12%, Validation Accuracy: 25.43%\n",
      "Epoch [2/10], Step [280/350], Loss: 1.9676, Accuracy: 12.50%, Validation Accuracy: 25.57%\n",
      "Epoch [2/10], Step [290/350], Loss: 1.9490, Accuracy: 25.00%, Validation Accuracy: 25.39%\n",
      "Epoch [2/10], Step [300/350], Loss: 1.8123, Accuracy: 37.50%, Validation Accuracy: 24.50%\n",
      "Epoch [2/10], Step [310/350], Loss: 2.0642, Accuracy: 9.38%, Validation Accuracy: 25.21%\n",
      "Epoch [2/10], Step [320/350], Loss: 1.6954, Accuracy: 31.25%, Validation Accuracy: 25.11%\n",
      "Epoch [2/10], Step [330/350], Loss: 1.9342, Accuracy: 25.00%, Validation Accuracy: 25.43%\n",
      "Epoch [2/10], Step [340/350], Loss: 1.9335, Accuracy: 18.75%, Validation Accuracy: 24.86%\n",
      "Epoch [2/10], Step [350/350], Loss: 2.2839, Accuracy: 5.00%, Validation Accuracy: 25.50%\n",
      "Epoch [3/10], Step [10/350], Loss: 1.9096, Accuracy: 21.88%, Validation Accuracy: 23.68%\n",
      "Epoch [3/10], Step [20/350], Loss: 1.8832, Accuracy: 18.75%, Validation Accuracy: 24.43%\n",
      "Epoch [3/10], Step [30/350], Loss: 1.9133, Accuracy: 18.75%, Validation Accuracy: 24.39%\n",
      "Epoch [3/10], Step [40/350], Loss: 1.9062, Accuracy: 21.88%, Validation Accuracy: 25.68%\n",
      "Epoch [3/10], Step [50/350], Loss: 1.8350, Accuracy: 9.38%, Validation Accuracy: 24.50%\n",
      "Epoch [3/10], Step [60/350], Loss: 1.8248, Accuracy: 28.12%, Validation Accuracy: 25.79%\n",
      "Epoch [3/10], Step [70/350], Loss: 1.7027, Accuracy: 28.12%, Validation Accuracy: 26.14%\n",
      "Epoch [3/10], Step [80/350], Loss: 1.8838, Accuracy: 28.12%, Validation Accuracy: 26.50%\n",
      "Epoch [3/10], Step [90/350], Loss: 1.9993, Accuracy: 9.38%, Validation Accuracy: 26.14%\n",
      "Epoch [3/10], Step [100/350], Loss: 1.8284, Accuracy: 15.62%, Validation Accuracy: 25.46%\n",
      "Epoch [3/10], Step [110/350], Loss: 1.8723, Accuracy: 28.12%, Validation Accuracy: 25.25%\n",
      "Epoch [3/10], Step [120/350], Loss: 1.8655, Accuracy: 28.12%, Validation Accuracy: 25.61%\n",
      "Epoch [3/10], Step [130/350], Loss: 1.9410, Accuracy: 15.62%, Validation Accuracy: 25.14%\n",
      "Epoch [3/10], Step [140/350], Loss: 1.8186, Accuracy: 37.50%, Validation Accuracy: 25.75%\n",
      "Epoch [3/10], Step [150/350], Loss: 1.9429, Accuracy: 18.75%, Validation Accuracy: 23.93%\n",
      "Epoch [3/10], Step [160/350], Loss: 1.9042, Accuracy: 18.75%, Validation Accuracy: 25.89%\n",
      "Epoch [3/10], Step [170/350], Loss: 1.8198, Accuracy: 28.12%, Validation Accuracy: 26.65%\n",
      "Epoch [3/10], Step [180/350], Loss: 1.7440, Accuracy: 37.50%, Validation Accuracy: 26.07%\n",
      "Epoch [3/10], Step [190/350], Loss: 1.9809, Accuracy: 15.62%, Validation Accuracy: 27.25%\n",
      "Epoch [3/10], Step [200/350], Loss: 1.8214, Accuracy: 28.12%, Validation Accuracy: 25.46%\n",
      "Epoch [3/10], Step [210/350], Loss: 1.8128, Accuracy: 21.88%, Validation Accuracy: 26.14%\n",
      "Epoch [3/10], Step [220/350], Loss: 1.7594, Accuracy: 40.62%, Validation Accuracy: 26.07%\n",
      "Epoch [3/10], Step [230/350], Loss: 1.8800, Accuracy: 18.75%, Validation Accuracy: 26.04%\n",
      "Epoch [3/10], Step [240/350], Loss: 1.7341, Accuracy: 25.00%, Validation Accuracy: 26.39%\n",
      "Epoch [3/10], Step [250/350], Loss: 1.8306, Accuracy: 21.88%, Validation Accuracy: 25.82%\n",
      "Epoch [3/10], Step [260/350], Loss: 1.7559, Accuracy: 28.12%, Validation Accuracy: 26.97%\n",
      "Epoch [3/10], Step [270/350], Loss: 1.9223, Accuracy: 18.75%, Validation Accuracy: 26.57%\n",
      "Epoch [3/10], Step [280/350], Loss: 2.0186, Accuracy: 18.75%, Validation Accuracy: 27.29%\n",
      "Epoch [3/10], Step [290/350], Loss: 1.8068, Accuracy: 21.88%, Validation Accuracy: 27.68%\n",
      "Epoch [3/10], Step [300/350], Loss: 1.8018, Accuracy: 25.00%, Validation Accuracy: 27.11%\n",
      "Epoch [3/10], Step [310/350], Loss: 1.8416, Accuracy: 28.12%, Validation Accuracy: 26.86%\n",
      "Epoch [3/10], Step [320/350], Loss: 1.9210, Accuracy: 12.50%, Validation Accuracy: 27.25%\n",
      "Epoch [3/10], Step [330/350], Loss: 2.1331, Accuracy: 9.38%, Validation Accuracy: 29.22%\n",
      "Epoch [3/10], Step [340/350], Loss: 1.8628, Accuracy: 18.75%, Validation Accuracy: 28.25%\n",
      "Epoch [3/10], Step [350/350], Loss: 1.7408, Accuracy: 30.00%, Validation Accuracy: 28.58%\n",
      "Epoch [4/10], Step [10/350], Loss: 1.9856, Accuracy: 31.25%, Validation Accuracy: 28.15%\n",
      "Epoch [4/10], Step [20/350], Loss: 1.9767, Accuracy: 34.38%, Validation Accuracy: 27.22%\n",
      "Epoch [4/10], Step [30/350], Loss: 1.9228, Accuracy: 25.00%, Validation Accuracy: 27.58%\n",
      "Epoch [4/10], Step [40/350], Loss: 1.8520, Accuracy: 37.50%, Validation Accuracy: 28.33%\n",
      "Epoch [4/10], Step [50/350], Loss: 1.8993, Accuracy: 21.88%, Validation Accuracy: 30.01%\n",
      "Epoch [4/10], Step [60/350], Loss: 1.7402, Accuracy: 28.12%, Validation Accuracy: 28.93%\n",
      "Epoch [4/10], Step [70/350], Loss: 2.3191, Accuracy: 15.62%, Validation Accuracy: 27.36%\n",
      "Epoch [4/10], Step [80/350], Loss: 1.8630, Accuracy: 28.12%, Validation Accuracy: 28.72%\n",
      "Epoch [4/10], Step [90/350], Loss: 1.7241, Accuracy: 28.12%, Validation Accuracy: 29.97%\n",
      "Epoch [4/10], Step [100/350], Loss: 1.9153, Accuracy: 25.00%, Validation Accuracy: 30.22%\n",
      "Epoch [4/10], Step [110/350], Loss: 1.9941, Accuracy: 28.12%, Validation Accuracy: 28.11%\n",
      "Epoch [4/10], Step [120/350], Loss: 1.6898, Accuracy: 37.50%, Validation Accuracy: 28.22%\n",
      "Epoch [4/10], Step [130/350], Loss: 1.8019, Accuracy: 43.75%, Validation Accuracy: 29.69%\n",
      "Epoch [4/10], Step [140/350], Loss: 1.8136, Accuracy: 15.62%, Validation Accuracy: 29.94%\n",
      "Epoch [4/10], Step [150/350], Loss: 1.9255, Accuracy: 31.25%, Validation Accuracy: 30.15%\n",
      "Epoch [4/10], Step [160/350], Loss: 1.8587, Accuracy: 25.00%, Validation Accuracy: 28.90%\n",
      "Epoch [4/10], Step [170/350], Loss: 1.8402, Accuracy: 31.25%, Validation Accuracy: 32.26%\n",
      "Epoch [4/10], Step [180/350], Loss: 1.6981, Accuracy: 28.12%, Validation Accuracy: 33.26%\n",
      "Epoch [4/10], Step [190/350], Loss: 1.7986, Accuracy: 31.25%, Validation Accuracy: 34.08%\n",
      "Epoch [4/10], Step [200/350], Loss: 1.8075, Accuracy: 12.50%, Validation Accuracy: 35.26%\n",
      "Epoch [4/10], Step [210/350], Loss: 1.8800, Accuracy: 21.88%, Validation Accuracy: 35.12%\n",
      "Epoch [4/10], Step [220/350], Loss: 1.8281, Accuracy: 21.88%, Validation Accuracy: 34.73%\n",
      "Epoch [4/10], Step [230/350], Loss: 1.7382, Accuracy: 31.25%, Validation Accuracy: 32.44%\n",
      "Epoch [4/10], Step [240/350], Loss: 1.6257, Accuracy: 43.75%, Validation Accuracy: 36.48%\n",
      "Epoch [4/10], Step [250/350], Loss: 1.7464, Accuracy: 28.12%, Validation Accuracy: 35.34%\n",
      "Epoch [4/10], Step [260/350], Loss: 1.8565, Accuracy: 25.00%, Validation Accuracy: 37.48%\n",
      "Epoch [4/10], Step [270/350], Loss: 1.6898, Accuracy: 34.38%, Validation Accuracy: 37.27%\n",
      "Epoch [4/10], Step [280/350], Loss: 1.6864, Accuracy: 31.25%, Validation Accuracy: 38.91%\n",
      "Epoch [4/10], Step [290/350], Loss: 1.4391, Accuracy: 53.12%, Validation Accuracy: 38.38%\n",
      "Epoch [4/10], Step [300/350], Loss: 1.6500, Accuracy: 21.88%, Validation Accuracy: 39.27%\n",
      "Epoch [4/10], Step [310/350], Loss: 1.7448, Accuracy: 31.25%, Validation Accuracy: 38.91%\n",
      "Epoch [4/10], Step [320/350], Loss: 1.5379, Accuracy: 37.50%, Validation Accuracy: 36.37%\n",
      "Epoch [4/10], Step [330/350], Loss: 1.5646, Accuracy: 46.88%, Validation Accuracy: 37.73%\n",
      "Epoch [4/10], Step [340/350], Loss: 1.6476, Accuracy: 37.50%, Validation Accuracy: 40.02%\n",
      "Epoch [4/10], Step [350/350], Loss: 1.6550, Accuracy: 40.00%, Validation Accuracy: 38.70%\n",
      "Epoch [5/10], Step [10/350], Loss: 1.5299, Accuracy: 37.50%, Validation Accuracy: 43.13%\n",
      "Epoch [5/10], Step [20/350], Loss: 1.5706, Accuracy: 37.50%, Validation Accuracy: 38.66%\n",
      "Epoch [5/10], Step [30/350], Loss: 1.3381, Accuracy: 53.12%, Validation Accuracy: 40.88%\n",
      "Epoch [5/10], Step [40/350], Loss: 1.6974, Accuracy: 25.00%, Validation Accuracy: 41.70%\n",
      "Epoch [5/10], Step [50/350], Loss: 1.7731, Accuracy: 28.12%, Validation Accuracy: 41.70%\n",
      "Epoch [5/10], Step [60/350], Loss: 1.5845, Accuracy: 25.00%, Validation Accuracy: 43.17%\n",
      "Epoch [5/10], Step [70/350], Loss: 1.4379, Accuracy: 59.38%, Validation Accuracy: 43.10%\n",
      "Epoch [5/10], Step [80/350], Loss: 1.4521, Accuracy: 50.00%, Validation Accuracy: 43.45%\n",
      "Epoch [5/10], Step [90/350], Loss: 1.5791, Accuracy: 53.12%, Validation Accuracy: 43.67%\n",
      "Epoch [5/10], Step [100/350], Loss: 1.5032, Accuracy: 43.75%, Validation Accuracy: 46.07%\n",
      "Epoch [5/10], Step [110/350], Loss: 1.3938, Accuracy: 59.38%, Validation Accuracy: 45.99%\n",
      "Epoch [5/10], Step [120/350], Loss: 1.3401, Accuracy: 46.88%, Validation Accuracy: 43.03%\n",
      "Epoch [5/10], Step [130/350], Loss: 1.4303, Accuracy: 37.50%, Validation Accuracy: 46.21%\n",
      "Epoch [5/10], Step [140/350], Loss: 1.4222, Accuracy: 40.62%, Validation Accuracy: 42.63%\n",
      "Epoch [5/10], Step [150/350], Loss: 1.2747, Accuracy: 50.00%, Validation Accuracy: 45.42%\n",
      "Epoch [5/10], Step [160/350], Loss: 1.4635, Accuracy: 40.62%, Validation Accuracy: 45.78%\n",
      "Epoch [5/10], Step [170/350], Loss: 1.5421, Accuracy: 43.75%, Validation Accuracy: 45.10%\n",
      "Epoch [5/10], Step [180/350], Loss: 1.6510, Accuracy: 46.88%, Validation Accuracy: 45.67%\n",
      "Epoch [5/10], Step [190/350], Loss: 1.4441, Accuracy: 46.88%, Validation Accuracy: 45.35%\n",
      "Epoch [5/10], Step [200/350], Loss: 1.4032, Accuracy: 40.62%, Validation Accuracy: 42.49%\n",
      "Epoch [5/10], Step [210/350], Loss: 1.4188, Accuracy: 46.88%, Validation Accuracy: 43.06%\n",
      "Epoch [5/10], Step [220/350], Loss: 1.4085, Accuracy: 46.88%, Validation Accuracy: 46.35%\n",
      "Epoch [5/10], Step [230/350], Loss: 1.0591, Accuracy: 59.38%, Validation Accuracy: 45.82%\n",
      "Epoch [5/10], Step [240/350], Loss: 1.3975, Accuracy: 43.75%, Validation Accuracy: 48.00%\n",
      "Epoch [5/10], Step [250/350], Loss: 1.5061, Accuracy: 37.50%, Validation Accuracy: 46.32%\n",
      "Epoch [5/10], Step [260/350], Loss: 1.5850, Accuracy: 40.62%, Validation Accuracy: 48.25%\n",
      "Epoch [5/10], Step [270/350], Loss: 1.4589, Accuracy: 40.62%, Validation Accuracy: 47.96%\n",
      "Epoch [5/10], Step [280/350], Loss: 1.2220, Accuracy: 56.25%, Validation Accuracy: 50.18%\n",
      "Epoch [5/10], Step [290/350], Loss: 1.5046, Accuracy: 40.62%, Validation Accuracy: 49.50%\n",
      "Epoch [5/10], Step [300/350], Loss: 1.2592, Accuracy: 40.62%, Validation Accuracy: 49.14%\n",
      "Epoch [5/10], Step [310/350], Loss: 1.4832, Accuracy: 50.00%, Validation Accuracy: 49.57%\n",
      "Epoch [5/10], Step [320/350], Loss: 1.3479, Accuracy: 50.00%, Validation Accuracy: 47.42%\n",
      "Epoch [5/10], Step [330/350], Loss: 1.4288, Accuracy: 40.62%, Validation Accuracy: 47.75%\n",
      "Epoch [5/10], Step [340/350], Loss: 1.5670, Accuracy: 40.62%, Validation Accuracy: 54.01%\n",
      "Epoch [5/10], Step [350/350], Loss: 1.2840, Accuracy: 50.00%, Validation Accuracy: 50.86%\n",
      "Epoch [6/10], Step [10/350], Loss: 1.1418, Accuracy: 56.25%, Validation Accuracy: 50.43%\n",
      "Epoch [6/10], Step [20/350], Loss: 1.4047, Accuracy: 50.00%, Validation Accuracy: 49.82%\n",
      "Epoch [6/10], Step [30/350], Loss: 1.1773, Accuracy: 56.25%, Validation Accuracy: 52.79%\n",
      "Epoch [6/10], Step [40/350], Loss: 1.4186, Accuracy: 40.62%, Validation Accuracy: 52.22%\n",
      "Epoch [6/10], Step [50/350], Loss: 1.3145, Accuracy: 62.50%, Validation Accuracy: 53.90%\n",
      "Epoch [6/10], Step [60/350], Loss: 1.4610, Accuracy: 34.38%, Validation Accuracy: 52.36%\n",
      "Epoch [6/10], Step [70/350], Loss: 1.1834, Accuracy: 56.25%, Validation Accuracy: 52.75%\n",
      "Epoch [6/10], Step [80/350], Loss: 1.2055, Accuracy: 43.75%, Validation Accuracy: 53.72%\n",
      "Epoch [6/10], Step [90/350], Loss: 1.2476, Accuracy: 56.25%, Validation Accuracy: 54.51%\n",
      "Epoch [6/10], Step [100/350], Loss: 1.5036, Accuracy: 40.62%, Validation Accuracy: 47.82%\n",
      "Epoch [6/10], Step [110/350], Loss: 1.2287, Accuracy: 53.12%, Validation Accuracy: 53.29%\n",
      "Epoch [6/10], Step [120/350], Loss: 1.4889, Accuracy: 56.25%, Validation Accuracy: 54.79%\n",
      "Epoch [6/10], Step [130/350], Loss: 1.6216, Accuracy: 46.88%, Validation Accuracy: 54.51%\n",
      "Epoch [6/10], Step [140/350], Loss: 1.3467, Accuracy: 53.12%, Validation Accuracy: 54.65%\n",
      "Epoch [6/10], Step [150/350], Loss: 1.1456, Accuracy: 53.12%, Validation Accuracy: 53.83%\n",
      "Epoch [6/10], Step [160/350], Loss: 1.1717, Accuracy: 59.38%, Validation Accuracy: 55.40%\n",
      "Epoch [6/10], Step [170/350], Loss: 1.1223, Accuracy: 46.88%, Validation Accuracy: 52.61%\n",
      "Epoch [6/10], Step [180/350], Loss: 1.2730, Accuracy: 50.00%, Validation Accuracy: 52.50%\n",
      "Epoch [6/10], Step [190/350], Loss: 1.2762, Accuracy: 59.38%, Validation Accuracy: 57.01%\n",
      "Epoch [6/10], Step [200/350], Loss: 1.2327, Accuracy: 59.38%, Validation Accuracy: 54.40%\n",
      "Epoch [6/10], Step [210/350], Loss: 0.9658, Accuracy: 75.00%, Validation Accuracy: 55.44%\n",
      "Epoch [6/10], Step [220/350], Loss: 1.0535, Accuracy: 62.50%, Validation Accuracy: 58.19%\n",
      "Epoch [6/10], Step [230/350], Loss: 1.1181, Accuracy: 50.00%, Validation Accuracy: 54.72%\n",
      "Epoch [6/10], Step [240/350], Loss: 1.1474, Accuracy: 40.62%, Validation Accuracy: 59.19%\n",
      "Epoch [6/10], Step [250/350], Loss: 1.4083, Accuracy: 53.12%, Validation Accuracy: 54.90%\n",
      "Epoch [6/10], Step [260/350], Loss: 1.5273, Accuracy: 37.50%, Validation Accuracy: 55.29%\n",
      "Epoch [6/10], Step [270/350], Loss: 1.2381, Accuracy: 56.25%, Validation Accuracy: 54.54%\n",
      "Epoch [6/10], Step [280/350], Loss: 1.3899, Accuracy: 50.00%, Validation Accuracy: 55.72%\n",
      "Epoch [6/10], Step [290/350], Loss: 1.5323, Accuracy: 46.88%, Validation Accuracy: 58.08%\n",
      "Epoch [6/10], Step [300/350], Loss: 1.0986, Accuracy: 71.88%, Validation Accuracy: 59.12%\n",
      "Epoch [6/10], Step [310/350], Loss: 1.0696, Accuracy: 53.12%, Validation Accuracy: 54.86%\n",
      "Epoch [6/10], Step [320/350], Loss: 1.0716, Accuracy: 59.38%, Validation Accuracy: 58.76%\n",
      "Epoch [6/10], Step [330/350], Loss: 1.2712, Accuracy: 43.75%, Validation Accuracy: 57.26%\n",
      "Epoch [6/10], Step [340/350], Loss: 1.2164, Accuracy: 59.38%, Validation Accuracy: 54.33%\n",
      "Epoch [6/10], Step [350/350], Loss: 0.8198, Accuracy: 65.00%, Validation Accuracy: 58.91%\n",
      "Epoch [7/10], Step [10/350], Loss: 1.1668, Accuracy: 68.75%, Validation Accuracy: 57.15%\n",
      "Epoch [7/10], Step [20/350], Loss: 1.1139, Accuracy: 62.50%, Validation Accuracy: 58.12%\n",
      "Epoch [7/10], Step [30/350], Loss: 1.1924, Accuracy: 62.50%, Validation Accuracy: 58.55%\n",
      "Epoch [7/10], Step [40/350], Loss: 0.9996, Accuracy: 59.38%, Validation Accuracy: 57.73%\n",
      "Epoch [7/10], Step [50/350], Loss: 0.9660, Accuracy: 59.38%, Validation Accuracy: 56.15%\n",
      "Epoch [7/10], Step [60/350], Loss: 0.8807, Accuracy: 75.00%, Validation Accuracy: 59.26%\n",
      "Epoch [7/10], Step [70/350], Loss: 1.1522, Accuracy: 53.12%, Validation Accuracy: 59.33%\n",
      "Epoch [7/10], Step [80/350], Loss: 0.9701, Accuracy: 71.88%, Validation Accuracy: 61.09%\n",
      "Epoch [7/10], Step [90/350], Loss: 1.2442, Accuracy: 62.50%, Validation Accuracy: 60.01%\n",
      "Epoch [7/10], Step [100/350], Loss: 1.1313, Accuracy: 68.75%, Validation Accuracy: 59.98%\n",
      "Epoch [7/10], Step [110/350], Loss: 1.2372, Accuracy: 56.25%, Validation Accuracy: 59.23%\n",
      "Epoch [7/10], Step [120/350], Loss: 1.0188, Accuracy: 59.38%, Validation Accuracy: 62.48%\n",
      "Epoch [7/10], Step [130/350], Loss: 1.0712, Accuracy: 59.38%, Validation Accuracy: 60.77%\n",
      "Epoch [7/10], Step [140/350], Loss: 1.0326, Accuracy: 56.25%, Validation Accuracy: 59.44%\n",
      "Epoch [7/10], Step [150/350], Loss: 1.1315, Accuracy: 62.50%, Validation Accuracy: 64.06%\n",
      "Epoch [7/10], Step [160/350], Loss: 0.8790, Accuracy: 71.88%, Validation Accuracy: 62.63%\n",
      "Epoch [7/10], Step [170/350], Loss: 0.8225, Accuracy: 68.75%, Validation Accuracy: 61.59%\n",
      "Epoch [7/10], Step [180/350], Loss: 1.1004, Accuracy: 56.25%, Validation Accuracy: 61.62%\n",
      "Epoch [7/10], Step [190/350], Loss: 1.1460, Accuracy: 53.12%, Validation Accuracy: 62.63%\n",
      "Epoch [7/10], Step [200/350], Loss: 1.0941, Accuracy: 71.88%, Validation Accuracy: 63.59%\n",
      "Epoch [7/10], Step [210/350], Loss: 1.1077, Accuracy: 50.00%, Validation Accuracy: 62.91%\n",
      "Epoch [7/10], Step [220/350], Loss: 1.1801, Accuracy: 46.88%, Validation Accuracy: 59.73%\n",
      "Epoch [7/10], Step [230/350], Loss: 1.2810, Accuracy: 59.38%, Validation Accuracy: 61.73%\n",
      "Epoch [7/10], Step [240/350], Loss: 0.9308, Accuracy: 68.75%, Validation Accuracy: 63.84%\n",
      "Epoch [7/10], Step [250/350], Loss: 0.7743, Accuracy: 71.88%, Validation Accuracy: 65.27%\n",
      "Epoch [7/10], Step [260/350], Loss: 1.2521, Accuracy: 56.25%, Validation Accuracy: 62.48%\n",
      "Epoch [7/10], Step [270/350], Loss: 1.0528, Accuracy: 59.38%, Validation Accuracy: 63.02%\n",
      "Epoch [7/10], Step [280/350], Loss: 0.9562, Accuracy: 65.62%, Validation Accuracy: 62.23%\n",
      "Epoch [7/10], Step [290/350], Loss: 0.9417, Accuracy: 59.38%, Validation Accuracy: 62.09%\n",
      "Epoch [7/10], Step [300/350], Loss: 1.0507, Accuracy: 68.75%, Validation Accuracy: 61.48%\n",
      "Epoch [7/10], Step [310/350], Loss: 1.2871, Accuracy: 50.00%, Validation Accuracy: 60.34%\n",
      "Epoch [7/10], Step [320/350], Loss: 1.0403, Accuracy: 59.38%, Validation Accuracy: 64.48%\n",
      "Epoch [7/10], Step [330/350], Loss: 1.0588, Accuracy: 59.38%, Validation Accuracy: 61.34%\n",
      "Epoch [7/10], Step [340/350], Loss: 0.8379, Accuracy: 62.50%, Validation Accuracy: 63.81%\n",
      "Epoch [7/10], Step [350/350], Loss: 0.9515, Accuracy: 55.00%, Validation Accuracy: 62.88%\n",
      "Epoch [8/10], Step [10/350], Loss: 1.0436, Accuracy: 59.38%, Validation Accuracy: 62.30%\n",
      "Epoch [8/10], Step [20/350], Loss: 0.8237, Accuracy: 62.50%, Validation Accuracy: 65.27%\n",
      "Epoch [8/10], Step [30/350], Loss: 0.9139, Accuracy: 68.75%, Validation Accuracy: 64.23%\n",
      "Epoch [8/10], Step [40/350], Loss: 0.9766, Accuracy: 62.50%, Validation Accuracy: 65.24%\n",
      "Epoch [8/10], Step [50/350], Loss: 0.8442, Accuracy: 62.50%, Validation Accuracy: 62.30%\n",
      "Epoch [8/10], Step [60/350], Loss: 1.0304, Accuracy: 65.62%, Validation Accuracy: 64.70%\n",
      "Epoch [8/10], Step [70/350], Loss: 1.2465, Accuracy: 62.50%, Validation Accuracy: 64.70%\n",
      "Epoch [8/10], Step [80/350], Loss: 1.1542, Accuracy: 50.00%, Validation Accuracy: 64.13%\n",
      "Epoch [8/10], Step [90/350], Loss: 0.9079, Accuracy: 65.62%, Validation Accuracy: 65.84%\n",
      "Epoch [8/10], Step [100/350], Loss: 1.1357, Accuracy: 62.50%, Validation Accuracy: 65.38%\n",
      "Epoch [8/10], Step [110/350], Loss: 0.9460, Accuracy: 65.62%, Validation Accuracy: 65.59%\n",
      "Epoch [8/10], Step [120/350], Loss: 1.2206, Accuracy: 43.75%, Validation Accuracy: 64.16%\n",
      "Epoch [8/10], Step [130/350], Loss: 0.8782, Accuracy: 62.50%, Validation Accuracy: 64.31%\n",
      "Epoch [8/10], Step [140/350], Loss: 0.9950, Accuracy: 62.50%, Validation Accuracy: 64.59%\n",
      "Epoch [8/10], Step [150/350], Loss: 0.8915, Accuracy: 75.00%, Validation Accuracy: 64.81%\n",
      "Epoch [8/10], Step [160/350], Loss: 1.1932, Accuracy: 56.25%, Validation Accuracy: 67.35%\n",
      "Epoch [8/10], Step [170/350], Loss: 1.1801, Accuracy: 56.25%, Validation Accuracy: 64.63%\n",
      "Epoch [8/10], Step [180/350], Loss: 1.1462, Accuracy: 59.38%, Validation Accuracy: 66.95%\n",
      "Epoch [8/10], Step [190/350], Loss: 0.8103, Accuracy: 68.75%, Validation Accuracy: 65.56%\n",
      "Epoch [8/10], Step [200/350], Loss: 1.1453, Accuracy: 53.12%, Validation Accuracy: 65.67%\n",
      "Epoch [8/10], Step [210/350], Loss: 0.7941, Accuracy: 78.12%, Validation Accuracy: 67.92%\n",
      "Epoch [8/10], Step [220/350], Loss: 0.7810, Accuracy: 78.12%, Validation Accuracy: 66.27%\n",
      "Epoch [8/10], Step [230/350], Loss: 0.8554, Accuracy: 65.62%, Validation Accuracy: 67.35%\n",
      "Epoch [8/10], Step [240/350], Loss: 0.8780, Accuracy: 75.00%, Validation Accuracy: 68.38%\n",
      "Epoch [8/10], Step [250/350], Loss: 0.9671, Accuracy: 46.88%, Validation Accuracy: 67.78%\n",
      "Epoch [8/10], Step [260/350], Loss: 1.0716, Accuracy: 71.88%, Validation Accuracy: 64.99%\n",
      "Epoch [8/10], Step [270/350], Loss: 0.8574, Accuracy: 68.75%, Validation Accuracy: 65.34%\n",
      "Epoch [8/10], Step [280/350], Loss: 1.1666, Accuracy: 53.12%, Validation Accuracy: 68.71%\n",
      "Epoch [8/10], Step [290/350], Loss: 0.8538, Accuracy: 65.62%, Validation Accuracy: 66.56%\n",
      "Epoch [8/10], Step [300/350], Loss: 0.9023, Accuracy: 59.38%, Validation Accuracy: 70.71%\n",
      "Epoch [8/10], Step [310/350], Loss: 0.9060, Accuracy: 65.62%, Validation Accuracy: 67.17%\n",
      "Epoch [8/10], Step [320/350], Loss: 0.9525, Accuracy: 65.62%, Validation Accuracy: 65.92%\n",
      "Epoch [8/10], Step [330/350], Loss: 0.7145, Accuracy: 75.00%, Validation Accuracy: 66.06%\n",
      "Epoch [8/10], Step [340/350], Loss: 1.1561, Accuracy: 56.25%, Validation Accuracy: 70.14%\n",
      "Epoch [8/10], Step [350/350], Loss: 0.6255, Accuracy: 85.00%, Validation Accuracy: 66.88%\n",
      "Epoch [9/10], Step [10/350], Loss: 0.9086, Accuracy: 71.88%, Validation Accuracy: 68.42%\n",
      "Epoch [9/10], Step [20/350], Loss: 0.9232, Accuracy: 56.25%, Validation Accuracy: 66.77%\n",
      "Epoch [9/10], Step [30/350], Loss: 0.9073, Accuracy: 75.00%, Validation Accuracy: 68.42%\n",
      "Epoch [9/10], Step [40/350], Loss: 0.8778, Accuracy: 68.75%, Validation Accuracy: 66.92%\n",
      "Epoch [9/10], Step [50/350], Loss: 0.9216, Accuracy: 68.75%, Validation Accuracy: 66.56%\n",
      "Epoch [9/10], Step [60/350], Loss: 1.1148, Accuracy: 59.38%, Validation Accuracy: 66.99%\n",
      "Epoch [9/10], Step [70/350], Loss: 0.8641, Accuracy: 62.50%, Validation Accuracy: 67.06%\n",
      "Epoch [9/10], Step [80/350], Loss: 0.9875, Accuracy: 59.38%, Validation Accuracy: 68.99%\n",
      "Epoch [9/10], Step [90/350], Loss: 0.8414, Accuracy: 71.88%, Validation Accuracy: 69.49%\n",
      "Epoch [9/10], Step [100/350], Loss: 0.9990, Accuracy: 62.50%, Validation Accuracy: 69.99%\n",
      "Epoch [9/10], Step [110/350], Loss: 0.7265, Accuracy: 68.75%, Validation Accuracy: 68.53%\n",
      "Epoch [9/10], Step [120/350], Loss: 0.7331, Accuracy: 78.12%, Validation Accuracy: 70.24%\n",
      "Epoch [9/10], Step [130/350], Loss: 0.6791, Accuracy: 75.00%, Validation Accuracy: 69.42%\n",
      "Epoch [9/10], Step [140/350], Loss: 0.9780, Accuracy: 53.12%, Validation Accuracy: 66.09%\n",
      "Epoch [9/10], Step [150/350], Loss: 1.1332, Accuracy: 59.38%, Validation Accuracy: 69.06%\n",
      "Epoch [9/10], Step [160/350], Loss: 0.6056, Accuracy: 75.00%, Validation Accuracy: 68.67%\n",
      "Epoch [9/10], Step [170/350], Loss: 0.9213, Accuracy: 71.88%, Validation Accuracy: 69.10%\n",
      "Epoch [9/10], Step [180/350], Loss: 0.8437, Accuracy: 71.88%, Validation Accuracy: 67.10%\n",
      "Epoch [9/10], Step [190/350], Loss: 0.9238, Accuracy: 59.38%, Validation Accuracy: 69.49%\n",
      "Epoch [9/10], Step [200/350], Loss: 0.9356, Accuracy: 62.50%, Validation Accuracy: 71.28%\n",
      "Epoch [9/10], Step [210/350], Loss: 0.6483, Accuracy: 84.38%, Validation Accuracy: 69.31%\n",
      "Epoch [9/10], Step [220/350], Loss: 0.6442, Accuracy: 84.38%, Validation Accuracy: 66.38%\n",
      "Epoch [9/10], Step [230/350], Loss: 1.0170, Accuracy: 62.50%, Validation Accuracy: 72.32%\n",
      "Epoch [9/10], Step [240/350], Loss: 0.6876, Accuracy: 81.25%, Validation Accuracy: 69.64%\n",
      "Epoch [9/10], Step [250/350], Loss: 0.9906, Accuracy: 59.38%, Validation Accuracy: 72.89%\n",
      "Epoch [9/10], Step [260/350], Loss: 0.7349, Accuracy: 75.00%, Validation Accuracy: 67.70%\n",
      "Epoch [9/10], Step [270/350], Loss: 0.9938, Accuracy: 56.25%, Validation Accuracy: 71.21%\n",
      "Epoch [9/10], Step [280/350], Loss: 0.6236, Accuracy: 81.25%, Validation Accuracy: 70.42%\n",
      "Epoch [9/10], Step [290/350], Loss: 0.7299, Accuracy: 71.88%, Validation Accuracy: 72.93%\n",
      "Epoch [9/10], Step [300/350], Loss: 0.9615, Accuracy: 59.38%, Validation Accuracy: 71.89%\n",
      "Epoch [9/10], Step [310/350], Loss: 0.8143, Accuracy: 75.00%, Validation Accuracy: 70.39%\n",
      "Epoch [9/10], Step [320/350], Loss: 0.9155, Accuracy: 65.62%, Validation Accuracy: 71.07%\n",
      "Epoch [9/10], Step [330/350], Loss: 0.8094, Accuracy: 68.75%, Validation Accuracy: 71.24%\n",
      "Epoch [9/10], Step [340/350], Loss: 0.9675, Accuracy: 68.75%, Validation Accuracy: 70.31%\n",
      "Epoch [9/10], Step [350/350], Loss: 0.7102, Accuracy: 65.00%, Validation Accuracy: 71.46%\n",
      "Epoch [10/10], Step [10/350], Loss: 0.9614, Accuracy: 62.50%, Validation Accuracy: 71.39%\n",
      "Epoch [10/10], Step [20/350], Loss: 0.8565, Accuracy: 71.88%, Validation Accuracy: 72.50%\n",
      "Epoch [10/10], Step [30/350], Loss: 1.0713, Accuracy: 71.88%, Validation Accuracy: 69.96%\n",
      "Epoch [10/10], Step [40/350], Loss: 0.8444, Accuracy: 62.50%, Validation Accuracy: 71.32%\n",
      "Epoch [10/10], Step [50/350], Loss: 0.7857, Accuracy: 68.75%, Validation Accuracy: 73.71%\n",
      "Epoch [10/10], Step [60/350], Loss: 0.9816, Accuracy: 68.75%, Validation Accuracy: 72.39%\n",
      "Epoch [10/10], Step [70/350], Loss: 0.7513, Accuracy: 71.88%, Validation Accuracy: 71.75%\n",
      "Epoch [10/10], Step [80/350], Loss: 1.1194, Accuracy: 53.12%, Validation Accuracy: 69.74%\n",
      "Epoch [10/10], Step [90/350], Loss: 1.0336, Accuracy: 62.50%, Validation Accuracy: 71.24%\n",
      "Epoch [10/10], Step [100/350], Loss: 1.0691, Accuracy: 62.50%, Validation Accuracy: 71.24%\n",
      "Epoch [10/10], Step [110/350], Loss: 0.7983, Accuracy: 71.88%, Validation Accuracy: 71.96%\n",
      "Epoch [10/10], Step [120/350], Loss: 0.5739, Accuracy: 84.38%, Validation Accuracy: 72.68%\n",
      "Epoch [10/10], Step [130/350], Loss: 0.7777, Accuracy: 75.00%, Validation Accuracy: 70.10%\n",
      "Epoch [10/10], Step [140/350], Loss: 0.8468, Accuracy: 78.12%, Validation Accuracy: 75.00%\n",
      "Epoch [10/10], Step [150/350], Loss: 0.6167, Accuracy: 81.25%, Validation Accuracy: 73.68%\n",
      "Epoch [10/10], Step [160/350], Loss: 0.8127, Accuracy: 78.12%, Validation Accuracy: 73.93%\n",
      "Epoch [10/10], Step [170/350], Loss: 0.8685, Accuracy: 65.62%, Validation Accuracy: 70.82%\n",
      "Epoch [10/10], Step [180/350], Loss: 0.6658, Accuracy: 68.75%, Validation Accuracy: 69.71%\n",
      "Epoch [10/10], Step [190/350], Loss: 0.5433, Accuracy: 81.25%, Validation Accuracy: 73.43%\n",
      "Epoch [10/10], Step [200/350], Loss: 0.7989, Accuracy: 75.00%, Validation Accuracy: 70.14%\n",
      "Epoch [10/10], Step [210/350], Loss: 0.5071, Accuracy: 84.38%, Validation Accuracy: 75.14%\n",
      "Epoch [10/10], Step [220/350], Loss: 0.9134, Accuracy: 65.62%, Validation Accuracy: 71.35%\n",
      "Epoch [10/10], Step [230/350], Loss: 0.9895, Accuracy: 62.50%, Validation Accuracy: 71.67%\n",
      "Epoch [10/10], Step [240/350], Loss: 0.8096, Accuracy: 78.12%, Validation Accuracy: 73.46%\n",
      "Epoch [10/10], Step [250/350], Loss: 0.8812, Accuracy: 75.00%, Validation Accuracy: 75.18%\n",
      "Epoch [10/10], Step [260/350], Loss: 0.4801, Accuracy: 84.38%, Validation Accuracy: 73.25%\n",
      "Epoch [10/10], Step [270/350], Loss: 0.9755, Accuracy: 59.38%, Validation Accuracy: 74.50%\n",
      "Epoch [10/10], Step [280/350], Loss: 0.7891, Accuracy: 68.75%, Validation Accuracy: 73.93%\n",
      "Epoch [10/10], Step [290/350], Loss: 0.8973, Accuracy: 59.38%, Validation Accuracy: 74.36%\n",
      "Epoch [10/10], Step [300/350], Loss: 0.6419, Accuracy: 75.00%, Validation Accuracy: 72.32%\n",
      "Epoch [10/10], Step [310/350], Loss: 0.6786, Accuracy: 71.88%, Validation Accuracy: 74.54%\n",
      "Epoch [10/10], Step [320/350], Loss: 0.6384, Accuracy: 84.38%, Validation Accuracy: 75.14%\n",
      "Epoch [10/10], Step [330/350], Loss: 0.9772, Accuracy: 62.50%, Validation Accuracy: 74.82%\n",
      "Epoch [10/10], Step [340/350], Loss: 0.6952, Accuracy: 68.75%, Validation Accuracy: 75.46%\n",
      "Epoch [10/10], Step [350/350], Loss: 0.7297, Accuracy: 65.00%, Validation Accuracy: 75.18%\n",
      "######## Training Finished in 5761.142383575439 seconds ###########\n",
      "/n/n Saving model at:  /kaggle/working/alexnetmodel_d3.pt\n"
     ]
    }
   ],
   "source": [
    "model_savepath = savepath+\"alexnetmodel_d3.pt\"\n",
    "results_savepath = savepath+\"alexnetmodel_d3_results.pkb\"\n",
    "\n",
    "trained_AlexNet_model, device = train_model(AlexNet_model, num_epochs, train_loader, criterion, optimizer, model_savepath, results_savepath, device)"
   ]
  },
  {
   "cell_type": "code",
   "execution_count": null,
   "metadata": {
    "execution": {
     "iopub.execute_input": "2022-11-13T16:02:57.659445Z",
     "iopub.status.busy": "2022-11-13T16:02:57.658834Z",
     "iopub.status.idle": "2022-11-13T16:02:57.663947Z",
     "shell.execute_reply": "2022-11-13T16:02:57.662978Z",
     "shell.execute_reply.started": "2022-11-13T16:02:57.659405Z"
    },
    "id": "8FjXkk_P9d46"
   },
   "outputs": [],
   "source": [
    "# for loading model\n",
    "# trained_AlexNet_model.load_state_dict(torch.load(path+\"alexnetmodel.pt\"))"
   ]
  },
  {
   "cell_type": "code",
   "execution_count": null,
   "metadata": {
    "execution": {
     "iopub.execute_input": "2022-11-13T16:02:57.665712Z",
     "iopub.status.busy": "2022-11-13T16:02:57.665265Z",
     "iopub.status.idle": "2022-11-13T16:03:39.148168Z",
     "shell.execute_reply": "2022-11-13T16:03:39.147124Z",
     "shell.execute_reply.started": "2022-11-13T16:02:57.665675Z"
    },
    "id": "0U8CCcMO9d46",
    "outputId": "3e4bbc6c-d292-48f7-ab90-c65c149acd2f"
   },
   "outputs": [
    {
     "name": "stdout",
     "output_type": "stream",
     "text": [
      "Model Evaluation Results on 4590 test samples\n",
      "Test Accuracy:  75.14161220043573\n",
      "Test F1 Score:  tensor(0.7514)\n"
     ]
    }
   ],
   "source": [
    "evaluate_model(trained_AlexNet_model, test_loader, device, nclasses)"
   ]
  },
  {
   "cell_type": "markdown",
   "metadata": {
    "id": "-2Oy50W5vP6I"
   },
   "source": [
    "Architecture 2: VGG-11"
   ]
  },
  {
   "cell_type": "markdown",
   "metadata": {
    "id": "-9m7fXEW-QhP"
   },
   "source": [
    "on dataset 1:"
   ]
  },
  {
   "cell_type": "code",
   "execution_count": null,
   "metadata": {
    "execution": {
     "iopub.execute_input": "2022-11-13T16:03:39.155096Z",
     "iopub.status.busy": "2022-11-13T16:03:39.152759Z",
     "iopub.status.idle": "2022-11-13T16:03:39.161403Z",
     "shell.execute_reply": "2022-11-13T16:03:39.160414Z",
     "shell.execute_reply.started": "2022-11-13T16:03:39.155055Z"
    },
    "id": "HXBbARVON-v7"
   },
   "outputs": [],
   "source": [
    "nclasses=15"
   ]
  },
  {
   "cell_type": "code",
   "execution_count": null,
   "metadata": {
    "execution": {
     "iopub.execute_input": "2022-11-13T16:03:39.168120Z",
     "iopub.status.busy": "2022-11-13T16:03:39.165538Z",
     "iopub.status.idle": "2022-11-13T16:03:43.170051Z",
     "shell.execute_reply": "2022-11-13T16:03:43.168952Z",
     "shell.execute_reply.started": "2022-11-13T16:03:39.168080Z"
    },
    "id": "EbQ_Vv-ZvS5D",
    "outputId": "e8d31eed-016d-4cc5-9515-d81db58fc832"
   },
   "outputs": [
    {
     "name": "stderr",
     "output_type": "stream",
     "text": [
      "Downloading: \"https://github.com/pytorch/vision/archive/v0.10.0.zip\" to /root/.cache/torch/hub/v0.10.0.zip\n"
     ]
    }
   ],
   "source": [
    "VGG11_model = torch.hub.load('pytorch/vision:v0.10.0', 'vgg11', pretrained=False)"
   ]
  },
  {
   "cell_type": "code",
   "execution_count": null,
   "metadata": {
    "execution": {
     "iopub.execute_input": "2022-11-13T16:03:43.173735Z",
     "iopub.status.busy": "2022-11-13T16:03:43.172766Z",
     "iopub.status.idle": "2022-11-13T16:03:43.182095Z",
     "shell.execute_reply": "2022-11-13T16:03:43.181116Z",
     "shell.execute_reply.started": "2022-11-13T16:03:43.173674Z"
    },
    "id": "CICeGKI3vjDw"
   },
   "outputs": [],
   "source": [
    "prev_out = VGG11_model.classifier[3].out_features\n",
    "VGG11_model.classifier[6] = nn.Linear( prev_out, nclasses)"
   ]
  },
  {
   "cell_type": "code",
   "execution_count": null,
   "metadata": {
    "execution": {
     "iopub.execute_input": "2022-11-13T16:03:43.184296Z",
     "iopub.status.busy": "2022-11-13T16:03:43.183887Z",
     "iopub.status.idle": "2022-11-13T16:03:43.204739Z",
     "shell.execute_reply": "2022-11-13T16:03:43.203382Z",
     "shell.execute_reply.started": "2022-11-13T16:03:43.184258Z"
    },
    "id": "m2b6wbT-vy9o",
    "outputId": "00ac485b-9ba2-4d0c-f61c-878d21bae4cd"
   },
   "outputs": [
    {
     "data": {
      "text/plain": [
       "VGG(\n",
       "  (features): Sequential(\n",
       "    (0): Conv2d(3, 64, kernel_size=(3, 3), stride=(1, 1), padding=(1, 1))\n",
       "    (1): ReLU(inplace=True)\n",
       "    (2): MaxPool2d(kernel_size=2, stride=2, padding=0, dilation=1, ceil_mode=False)\n",
       "    (3): Conv2d(64, 128, kernel_size=(3, 3), stride=(1, 1), padding=(1, 1))\n",
       "    (4): ReLU(inplace=True)\n",
       "    (5): MaxPool2d(kernel_size=2, stride=2, padding=0, dilation=1, ceil_mode=False)\n",
       "    (6): Conv2d(128, 256, kernel_size=(3, 3), stride=(1, 1), padding=(1, 1))\n",
       "    (7): ReLU(inplace=True)\n",
       "    (8): Conv2d(256, 256, kernel_size=(3, 3), stride=(1, 1), padding=(1, 1))\n",
       "    (9): ReLU(inplace=True)\n",
       "    (10): MaxPool2d(kernel_size=2, stride=2, padding=0, dilation=1, ceil_mode=False)\n",
       "    (11): Conv2d(256, 512, kernel_size=(3, 3), stride=(1, 1), padding=(1, 1))\n",
       "    (12): ReLU(inplace=True)\n",
       "    (13): Conv2d(512, 512, kernel_size=(3, 3), stride=(1, 1), padding=(1, 1))\n",
       "    (14): ReLU(inplace=True)\n",
       "    (15): MaxPool2d(kernel_size=2, stride=2, padding=0, dilation=1, ceil_mode=False)\n",
       "    (16): Conv2d(512, 512, kernel_size=(3, 3), stride=(1, 1), padding=(1, 1))\n",
       "    (17): ReLU(inplace=True)\n",
       "    (18): Conv2d(512, 512, kernel_size=(3, 3), stride=(1, 1), padding=(1, 1))\n",
       "    (19): ReLU(inplace=True)\n",
       "    (20): MaxPool2d(kernel_size=2, stride=2, padding=0, dilation=1, ceil_mode=False)\n",
       "  )\n",
       "  (avgpool): AdaptiveAvgPool2d(output_size=(7, 7))\n",
       "  (classifier): Sequential(\n",
       "    (0): Linear(in_features=25088, out_features=4096, bias=True)\n",
       "    (1): ReLU(inplace=True)\n",
       "    (2): Dropout(p=0.5, inplace=False)\n",
       "    (3): Linear(in_features=4096, out_features=4096, bias=True)\n",
       "    (4): ReLU(inplace=True)\n",
       "    (5): Dropout(p=0.5, inplace=False)\n",
       "    (6): Linear(in_features=4096, out_features=15, bias=True)\n",
       "  )\n",
       ")"
      ]
     },
     "execution_count": 63,
     "metadata": {},
     "output_type": "execute_result"
    }
   ],
   "source": [
    "VGG11_model.eval()"
   ]
  },
  {
   "cell_type": "code",
   "execution_count": null,
   "metadata": {
    "execution": {
     "iopub.execute_input": "2022-11-13T16:03:43.208674Z",
     "iopub.status.busy": "2022-11-13T16:03:43.206474Z",
     "iopub.status.idle": "2022-11-13T16:03:43.216494Z",
     "shell.execute_reply": "2022-11-13T16:03:43.215824Z",
     "shell.execute_reply.started": "2022-11-13T16:03:43.208631Z"
    },
    "id": "lgOzrKXZv3DL"
   },
   "outputs": [],
   "source": [
    "optimizer = torch.optim.Adam(VGG11_model.parameters(), lr=learning_rate) "
   ]
  },
  {
   "cell_type": "code",
   "execution_count": null,
   "metadata": {
    "execution": {
     "iopub.execute_input": "2022-11-13T16:03:43.219160Z",
     "iopub.status.busy": "2022-11-13T16:03:43.217828Z",
     "iopub.status.idle": "2022-11-13T16:03:43.312891Z",
     "shell.execute_reply": "2022-11-13T16:03:43.312025Z",
     "shell.execute_reply.started": "2022-11-13T16:03:43.219119Z"
    },
    "id": "xQdrYPPhv_06"
   },
   "outputs": [],
   "source": [
    "path_train = path_dataset1+\"train/\"\n",
    "path_test = path_dataset1+\"test/\"\n",
    "val_split = 0.2\n",
    "batch_size = 32\n",
    "input_size = (224,224)\n",
    "\n",
    "train_loader, test_loader, val_loader, mappings = load_data(path_train, val_split, path_test, batch_size, input_size)"
   ]
  },
  {
   "cell_type": "code",
   "execution_count": null,
   "metadata": {
    "execution": {
     "iopub.execute_input": "2022-11-13T16:03:43.315367Z",
     "iopub.status.busy": "2022-11-13T16:03:43.314830Z",
     "iopub.status.idle": "2022-11-13T16:03:43.472069Z",
     "shell.execute_reply": "2022-11-13T16:03:43.470908Z",
     "shell.execute_reply.started": "2022-11-13T16:03:43.315334Z"
    },
    "id": "XvgSy37XVjJZ",
    "outputId": "c79f0d22-f5fb-4dd5-db54-b4a3edbb60e6"
   },
   "outputs": [
    {
     "name": "stdout",
     "output_type": "stream",
     "text": [
      "Device: cuda:0\n"
     ]
    },
    {
     "data": {
      "text/plain": [
       "VGG(\n",
       "  (features): Sequential(\n",
       "    (0): Conv2d(3, 64, kernel_size=(3, 3), stride=(1, 1), padding=(1, 1))\n",
       "    (1): ReLU(inplace=True)\n",
       "    (2): MaxPool2d(kernel_size=2, stride=2, padding=0, dilation=1, ceil_mode=False)\n",
       "    (3): Conv2d(64, 128, kernel_size=(3, 3), stride=(1, 1), padding=(1, 1))\n",
       "    (4): ReLU(inplace=True)\n",
       "    (5): MaxPool2d(kernel_size=2, stride=2, padding=0, dilation=1, ceil_mode=False)\n",
       "    (6): Conv2d(128, 256, kernel_size=(3, 3), stride=(1, 1), padding=(1, 1))\n",
       "    (7): ReLU(inplace=True)\n",
       "    (8): Conv2d(256, 256, kernel_size=(3, 3), stride=(1, 1), padding=(1, 1))\n",
       "    (9): ReLU(inplace=True)\n",
       "    (10): MaxPool2d(kernel_size=2, stride=2, padding=0, dilation=1, ceil_mode=False)\n",
       "    (11): Conv2d(256, 512, kernel_size=(3, 3), stride=(1, 1), padding=(1, 1))\n",
       "    (12): ReLU(inplace=True)\n",
       "    (13): Conv2d(512, 512, kernel_size=(3, 3), stride=(1, 1), padding=(1, 1))\n",
       "    (14): ReLU(inplace=True)\n",
       "    (15): MaxPool2d(kernel_size=2, stride=2, padding=0, dilation=1, ceil_mode=False)\n",
       "    (16): Conv2d(512, 512, kernel_size=(3, 3), stride=(1, 1), padding=(1, 1))\n",
       "    (17): ReLU(inplace=True)\n",
       "    (18): Conv2d(512, 512, kernel_size=(3, 3), stride=(1, 1), padding=(1, 1))\n",
       "    (19): ReLU(inplace=True)\n",
       "    (20): MaxPool2d(kernel_size=2, stride=2, padding=0, dilation=1, ceil_mode=False)\n",
       "  )\n",
       "  (avgpool): AdaptiveAvgPool2d(output_size=(7, 7))\n",
       "  (classifier): Sequential(\n",
       "    (0): Linear(in_features=25088, out_features=4096, bias=True)\n",
       "    (1): ReLU(inplace=True)\n",
       "    (2): Dropout(p=0.5, inplace=False)\n",
       "    (3): Linear(in_features=4096, out_features=4096, bias=True)\n",
       "    (4): ReLU(inplace=True)\n",
       "    (5): Dropout(p=0.5, inplace=False)\n",
       "    (6): Linear(in_features=4096, out_features=15, bias=True)\n",
       "  )\n",
       ")"
      ]
     },
     "execution_count": 66,
     "metadata": {},
     "output_type": "execute_result"
    }
   ],
   "source": [
    "device = torch.device(\"cuda:0\" if torch.cuda.is_available() else \"cpu\")\n",
    "print(\"Device: {}\".format(device))\n",
    "VGG11_model.to(device)"
   ]
  },
  {
   "cell_type": "code",
   "execution_count": null,
   "metadata": {
    "execution": {
     "iopub.execute_input": "2022-11-13T16:03:43.475552Z",
     "iopub.status.busy": "2022-11-13T16:03:43.474036Z",
     "iopub.status.idle": "2022-11-13T16:03:43.506493Z",
     "shell.execute_reply": "2022-11-13T16:03:43.505417Z",
     "shell.execute_reply.started": "2022-11-13T16:03:43.475502Z"
    },
    "id": "SxOUN1269iIm",
    "outputId": "ca51ce3c-c7fa-4e9e-b42a-c3b52f35106f"
   },
   "outputs": [
    {
     "name": "stdout",
     "output_type": "stream",
     "text": [
      "Class: SPEED_LIMIT_80 has samples: 192 \n",
      "Class: SPEED_LIMIT_60 has samples: 190 \n",
      "Class: NO_STOPPING_OR_STANDING has samples: 242 \n",
      "Class: COMPULSARY_KEEP_RIGHT has samples: 223 \n",
      "Class: GAP_IN_MEDIAN has samples: 180 \n",
      "Class: CROSS_ROAD has samples: 140 \n",
      "Class: PEDESTRIAN_CROSSING has samples: 121 \n",
      "Class: SPEED_LIMIT_50 has samples: 200 \n",
      "Class: HORN_PROHIBITED has samples: 160 \n",
      "Class: SPEED_LIMIT_40 has samples: 170 \n",
      "Class: NO_ENTRY has samples: 174 \n",
      "Class: HUMP_OR_ROUGH_ROAD has samples: 101 \n",
      "Class: SPEED_LIMIT_30 has samples: 238 \n",
      "Class: LEFT_TURN_PROHIBITED has samples: 126 \n",
      "Class: SPEED_LIMIT_70 has samples: 160 \n",
      "\n",
      "Total number of samples:  2617\n",
      "\n",
      "Time taken: 0.021878480911254883\n"
     ]
    }
   ],
   "source": [
    "class_weights = get_class_weights(path_train, mappings)\n",
    "\n",
    "class_weights = torch.FloatTensor(class_weights)\n",
    "class_weights = class_weights.to(device)\n",
    "\n",
    "criterion = get_criterion(class_weights)"
   ]
  },
  {
   "cell_type": "code",
   "execution_count": null,
   "metadata": {
    "execution": {
     "iopub.execute_input": "2022-11-13T16:03:43.509888Z",
     "iopub.status.busy": "2022-11-13T16:03:43.509195Z",
     "iopub.status.idle": "2022-11-13T16:59:32.559471Z",
     "shell.execute_reply": "2022-11-13T16:59:32.557978Z",
     "shell.execute_reply.started": "2022-11-13T16:03:43.509851Z"
    },
    "id": "1VBebkPiwIuh",
    "outputId": "3408ee8d-f239-43f2-9d6f-14994a924561"
   },
   "outputs": [
    {
     "name": "stdout",
     "output_type": "stream",
     "text": [
      "Epoch [1/10], Step [10/66], Loss: 2.6943, Accuracy: 3.12%, Validation Accuracy: 13.77%\n",
      "Epoch [1/10], Step [20/66], Loss: 2.7217, Accuracy: 3.12%, Validation Accuracy: 11.85%\n",
      "Epoch [1/10], Step [30/66], Loss: 2.6502, Accuracy: 12.50%, Validation Accuracy: 11.85%\n",
      "Epoch [1/10], Step [40/66], Loss: 2.6552, Accuracy: 9.38%, Validation Accuracy: 17.21%\n",
      "Epoch [1/10], Step [50/66], Loss: 2.6887, Accuracy: 3.12%, Validation Accuracy: 13.58%\n",
      "Epoch [1/10], Step [60/66], Loss: 2.6066, Accuracy: 18.75%, Validation Accuracy: 18.55%\n",
      "Epoch [2/10], Step [10/66], Loss: 2.6319, Accuracy: 12.50%, Validation Accuracy: 18.93%\n",
      "Epoch [2/10], Step [20/66], Loss: 2.6699, Accuracy: 15.62%, Validation Accuracy: 23.33%\n",
      "Epoch [2/10], Step [30/66], Loss: 2.6797, Accuracy: 15.62%, Validation Accuracy: 19.12%\n",
      "Epoch [2/10], Step [40/66], Loss: 2.6766, Accuracy: 9.38%, Validation Accuracy: 22.94%\n",
      "Epoch [2/10], Step [50/66], Loss: 2.4174, Accuracy: 28.12%, Validation Accuracy: 21.61%\n",
      "Epoch [2/10], Step [60/66], Loss: 2.3934, Accuracy: 18.75%, Validation Accuracy: 23.14%\n",
      "Epoch [3/10], Step [10/66], Loss: 2.3790, Accuracy: 21.88%, Validation Accuracy: 27.34%\n",
      "Epoch [3/10], Step [20/66], Loss: 2.1364, Accuracy: 25.00%, Validation Accuracy: 34.42%\n",
      "Epoch [3/10], Step [30/66], Loss: 1.9568, Accuracy: 34.38%, Validation Accuracy: 39.39%\n",
      "Epoch [3/10], Step [40/66], Loss: 2.1061, Accuracy: 37.50%, Validation Accuracy: 35.76%\n",
      "Epoch [3/10], Step [50/66], Loss: 2.0024, Accuracy: 40.62%, Validation Accuracy: 36.14%\n",
      "Epoch [3/10], Step [60/66], Loss: 1.8159, Accuracy: 34.38%, Validation Accuracy: 39.01%\n",
      "Epoch [4/10], Step [10/66], Loss: 2.0109, Accuracy: 28.12%, Validation Accuracy: 43.59%\n",
      "Epoch [4/10], Step [20/66], Loss: 2.3148, Accuracy: 18.75%, Validation Accuracy: 41.68%\n",
      "Epoch [4/10], Step [30/66], Loss: 2.4742, Accuracy: 12.50%, Validation Accuracy: 40.73%\n",
      "Epoch [4/10], Step [40/66], Loss: 1.6546, Accuracy: 34.38%, Validation Accuracy: 45.32%\n",
      "Epoch [4/10], Step [50/66], Loss: 1.3298, Accuracy: 56.25%, Validation Accuracy: 45.89%\n",
      "Epoch [4/10], Step [60/66], Loss: 1.7751, Accuracy: 43.75%, Validation Accuracy: 45.12%\n",
      "Epoch [5/10], Step [10/66], Loss: 1.8154, Accuracy: 34.38%, Validation Accuracy: 46.27%\n",
      "Epoch [5/10], Step [20/66], Loss: 1.8683, Accuracy: 31.25%, Validation Accuracy: 46.65%\n",
      "Epoch [5/10], Step [30/66], Loss: 1.6958, Accuracy: 40.62%, Validation Accuracy: 50.48%\n",
      "Epoch [5/10], Step [40/66], Loss: 1.9827, Accuracy: 31.25%, Validation Accuracy: 50.29%\n",
      "Epoch [5/10], Step [50/66], Loss: 1.4239, Accuracy: 43.75%, Validation Accuracy: 49.71%\n",
      "Epoch [5/10], Step [60/66], Loss: 1.4228, Accuracy: 46.88%, Validation Accuracy: 51.24%\n",
      "Epoch [6/10], Step [10/66], Loss: 1.1308, Accuracy: 56.25%, Validation Accuracy: 53.15%\n",
      "Epoch [6/10], Step [20/66], Loss: 1.6607, Accuracy: 31.25%, Validation Accuracy: 50.48%\n",
      "Epoch [6/10], Step [30/66], Loss: 1.3030, Accuracy: 59.38%, Validation Accuracy: 55.64%\n",
      "Epoch [6/10], Step [40/66], Loss: 1.3139, Accuracy: 43.75%, Validation Accuracy: 56.02%\n",
      "Epoch [6/10], Step [50/66], Loss: 1.5812, Accuracy: 43.75%, Validation Accuracy: 52.77%\n",
      "Epoch [6/10], Step [60/66], Loss: 1.2776, Accuracy: 53.12%, Validation Accuracy: 58.13%\n",
      "Epoch [7/10], Step [10/66], Loss: 1.4374, Accuracy: 53.12%, Validation Accuracy: 56.02%\n",
      "Epoch [7/10], Step [20/66], Loss: 1.3505, Accuracy: 50.00%, Validation Accuracy: 57.17%\n",
      "Epoch [7/10], Step [30/66], Loss: 1.2644, Accuracy: 59.38%, Validation Accuracy: 56.41%\n",
      "Epoch [7/10], Step [40/66], Loss: 1.2966, Accuracy: 56.25%, Validation Accuracy: 56.21%\n",
      "Epoch [7/10], Step [50/66], Loss: 1.1923, Accuracy: 56.25%, Validation Accuracy: 59.08%\n",
      "Epoch [7/10], Step [60/66], Loss: 1.4413, Accuracy: 53.12%, Validation Accuracy: 53.92%\n",
      "Epoch [8/10], Step [10/66], Loss: 1.1724, Accuracy: 59.38%, Validation Accuracy: 56.02%\n",
      "Epoch [8/10], Step [20/66], Loss: 1.2632, Accuracy: 56.25%, Validation Accuracy: 57.74%\n",
      "Epoch [8/10], Step [30/66], Loss: 1.1573, Accuracy: 46.88%, Validation Accuracy: 61.57%\n",
      "Epoch [8/10], Step [40/66], Loss: 1.2216, Accuracy: 53.12%, Validation Accuracy: 60.42%\n",
      "Epoch [8/10], Step [50/66], Loss: 1.1698, Accuracy: 56.25%, Validation Accuracy: 61.95%\n",
      "Epoch [8/10], Step [60/66], Loss: 1.6182, Accuracy: 43.75%, Validation Accuracy: 61.57%\n",
      "Epoch [9/10], Step [10/66], Loss: 1.1728, Accuracy: 53.12%, Validation Accuracy: 58.32%\n",
      "Epoch [9/10], Step [20/66], Loss: 1.1673, Accuracy: 56.25%, Validation Accuracy: 61.76%\n",
      "Epoch [9/10], Step [30/66], Loss: 1.3948, Accuracy: 43.75%, Validation Accuracy: 63.67%\n",
      "Epoch [9/10], Step [40/66], Loss: 1.1256, Accuracy: 53.12%, Validation Accuracy: 63.29%\n",
      "Epoch [9/10], Step [50/66], Loss: 1.4940, Accuracy: 46.88%, Validation Accuracy: 60.80%\n",
      "Epoch [9/10], Step [60/66], Loss: 1.1101, Accuracy: 62.50%, Validation Accuracy: 61.38%\n",
      "Epoch [10/10], Step [10/66], Loss: 1.3746, Accuracy: 53.12%, Validation Accuracy: 61.95%\n",
      "Epoch [10/10], Step [20/66], Loss: 1.3687, Accuracy: 46.88%, Validation Accuracy: 62.14%\n",
      "Epoch [10/10], Step [30/66], Loss: 1.1428, Accuracy: 56.25%, Validation Accuracy: 62.52%\n",
      "Epoch [10/10], Step [40/66], Loss: 0.6620, Accuracy: 71.88%, Validation Accuracy: 64.44%\n",
      "Epoch [10/10], Step [50/66], Loss: 1.0294, Accuracy: 59.38%, Validation Accuracy: 65.20%\n",
      "Epoch [10/10], Step [60/66], Loss: 0.9633, Accuracy: 65.62%, Validation Accuracy: 61.38%\n",
      "######## Training Finished in 3347.313042640686 seconds ###########\n",
      "/n/n Saving model at:  /kaggle/working/vgg11model_d1.pt\n"
     ]
    }
   ],
   "source": [
    "model_savepath = savepath+\"vgg11model_d1.pt\"\n",
    "results_savepath = savepath+\"vgg11model_d1_results.pkb\"\n",
    "\n",
    "trained_VGG11_model, device = train_model(VGG11_model, num_epochs, train_loader, criterion, optimizer, model_savepath, results_savepath, device)"
   ]
  },
  {
   "cell_type": "code",
   "execution_count": null,
   "metadata": {
    "execution": {
     "iopub.execute_input": "2022-11-13T16:59:32.567460Z",
     "iopub.status.busy": "2022-11-13T16:59:32.565894Z",
     "iopub.status.idle": "2022-11-13T16:59:49.106989Z",
     "shell.execute_reply": "2022-11-13T16:59:49.105835Z",
     "shell.execute_reply.started": "2022-11-13T16:59:32.567419Z"
    },
    "id": "pDj3U6BXwQYn",
    "outputId": "13c2ebc2-a814-4f3f-d943-d2dbe505f9df"
   },
   "outputs": [
    {
     "name": "stdout",
     "output_type": "stream",
     "text": [
      "Model Evaluation Results on 710 test samples\n",
      "Test Accuracy:  57.32394366197183\n",
      "Test F1 Score:  tensor(0.5732)\n"
     ]
    }
   ],
   "source": [
    "evaluate_model(trained_VGG11_model, test_loader, device, nclasses)"
   ]
  },
  {
   "cell_type": "code",
   "execution_count": null,
   "metadata": {
    "id": "rT1TCKuJ-aU9"
   },
   "outputs": [],
   "source": []
  },
  {
   "cell_type": "markdown",
   "metadata": {
    "id": "f3Oow3Xp-aup"
   },
   "source": [
    "on dataset 2:"
   ]
  },
  {
   "cell_type": "code",
   "execution_count": null,
   "metadata": {
    "execution": {
     "iopub.execute_input": "2022-11-13T16:59:49.109533Z",
     "iopub.status.busy": "2022-11-13T16:59:49.108802Z",
     "iopub.status.idle": "2022-11-13T16:59:49.115164Z",
     "shell.execute_reply": "2022-11-13T16:59:49.113998Z",
     "shell.execute_reply.started": "2022-11-13T16:59:49.109477Z"
    },
    "id": "PCvYyvJgN-wC"
   },
   "outputs": [],
   "source": [
    "nclasses=12"
   ]
  },
  {
   "cell_type": "code",
   "execution_count": null,
   "metadata": {
    "execution": {
     "iopub.execute_input": "2022-11-13T16:59:49.117419Z",
     "iopub.status.busy": "2022-11-13T16:59:49.116915Z",
     "iopub.status.idle": "2022-11-13T16:59:51.413486Z",
     "shell.execute_reply": "2022-11-13T16:59:51.412378Z",
     "shell.execute_reply.started": "2022-11-13T16:59:49.117379Z"
    },
    "id": "DPB26YC7-aup",
    "outputId": "e8d31eed-016d-4cc5-9515-d81db58fc832"
   },
   "outputs": [
    {
     "name": "stderr",
     "output_type": "stream",
     "text": [
      "Using cache found in /root/.cache/torch/hub/pytorch_vision_v0.10.0\n"
     ]
    }
   ],
   "source": [
    "VGG11_model = torch.hub.load('pytorch/vision:v0.10.0', 'vgg11', pretrained=False)"
   ]
  },
  {
   "cell_type": "code",
   "execution_count": null,
   "metadata": {
    "execution": {
     "iopub.execute_input": "2022-11-13T16:59:51.415594Z",
     "iopub.status.busy": "2022-11-13T16:59:51.415197Z",
     "iopub.status.idle": "2022-11-13T16:59:51.421865Z",
     "shell.execute_reply": "2022-11-13T16:59:51.420662Z",
     "shell.execute_reply.started": "2022-11-13T16:59:51.415555Z"
    },
    "id": "W-6iOeEd-aup"
   },
   "outputs": [],
   "source": [
    "prev_out = VGG11_model.classifier[3].out_features\n",
    "VGG11_model.classifier[6] = nn.Linear( prev_out, nclasses)"
   ]
  },
  {
   "cell_type": "code",
   "execution_count": null,
   "metadata": {
    "execution": {
     "iopub.execute_input": "2022-11-13T16:59:51.424174Z",
     "iopub.status.busy": "2022-11-13T16:59:51.423693Z",
     "iopub.status.idle": "2022-11-13T16:59:51.438905Z",
     "shell.execute_reply": "2022-11-13T16:59:51.437781Z",
     "shell.execute_reply.started": "2022-11-13T16:59:51.424124Z"
    },
    "id": "R6GC9UD3-auq"
   },
   "outputs": [],
   "source": [
    "optimizer = torch.optim.Adam(VGG11_model.parameters(), lr=learning_rate) "
   ]
  },
  {
   "cell_type": "code",
   "execution_count": null,
   "metadata": {
    "execution": {
     "iopub.execute_input": "2022-11-13T16:59:51.441016Z",
     "iopub.status.busy": "2022-11-13T16:59:51.440431Z",
     "iopub.status.idle": "2022-11-13T16:59:51.543128Z",
     "shell.execute_reply": "2022-11-13T16:59:51.542186Z",
     "shell.execute_reply.started": "2022-11-13T16:59:51.440969Z"
    },
    "id": "ySZfAJgf-auq"
   },
   "outputs": [],
   "source": [
    "path_train = path_dataset2+\"train/\"\n",
    "path_test = path_dataset2+\"test/\"\n",
    "val_split = 0.2\n",
    "batch_size = 32\n",
    "input_size = (224,224)\n",
    "\n",
    "train_loader, test_loader, val_loader, mappings = load_data(path_train, val_split, path_test, batch_size, input_size)"
   ]
  },
  {
   "cell_type": "code",
   "execution_count": null,
   "metadata": {
    "execution": {
     "iopub.execute_input": "2022-11-13T16:59:51.545027Z",
     "iopub.status.busy": "2022-11-13T16:59:51.544627Z",
     "iopub.status.idle": "2022-11-13T16:59:51.691949Z",
     "shell.execute_reply": "2022-11-13T16:59:51.690989Z",
     "shell.execute_reply.started": "2022-11-13T16:59:51.544991Z"
    },
    "id": "9NUvL0LEVnaA",
    "outputId": "42570b1d-afd4-4d5e-d4d4-e61640b5bc90"
   },
   "outputs": [
    {
     "name": "stdout",
     "output_type": "stream",
     "text": [
      "Device: cuda:0\n"
     ]
    },
    {
     "data": {
      "text/plain": [
       "VGG(\n",
       "  (features): Sequential(\n",
       "    (0): Conv2d(3, 64, kernel_size=(3, 3), stride=(1, 1), padding=(1, 1))\n",
       "    (1): ReLU(inplace=True)\n",
       "    (2): MaxPool2d(kernel_size=2, stride=2, padding=0, dilation=1, ceil_mode=False)\n",
       "    (3): Conv2d(64, 128, kernel_size=(3, 3), stride=(1, 1), padding=(1, 1))\n",
       "    (4): ReLU(inplace=True)\n",
       "    (5): MaxPool2d(kernel_size=2, stride=2, padding=0, dilation=1, ceil_mode=False)\n",
       "    (6): Conv2d(128, 256, kernel_size=(3, 3), stride=(1, 1), padding=(1, 1))\n",
       "    (7): ReLU(inplace=True)\n",
       "    (8): Conv2d(256, 256, kernel_size=(3, 3), stride=(1, 1), padding=(1, 1))\n",
       "    (9): ReLU(inplace=True)\n",
       "    (10): MaxPool2d(kernel_size=2, stride=2, padding=0, dilation=1, ceil_mode=False)\n",
       "    (11): Conv2d(256, 512, kernel_size=(3, 3), stride=(1, 1), padding=(1, 1))\n",
       "    (12): ReLU(inplace=True)\n",
       "    (13): Conv2d(512, 512, kernel_size=(3, 3), stride=(1, 1), padding=(1, 1))\n",
       "    (14): ReLU(inplace=True)\n",
       "    (15): MaxPool2d(kernel_size=2, stride=2, padding=0, dilation=1, ceil_mode=False)\n",
       "    (16): Conv2d(512, 512, kernel_size=(3, 3), stride=(1, 1), padding=(1, 1))\n",
       "    (17): ReLU(inplace=True)\n",
       "    (18): Conv2d(512, 512, kernel_size=(3, 3), stride=(1, 1), padding=(1, 1))\n",
       "    (19): ReLU(inplace=True)\n",
       "    (20): MaxPool2d(kernel_size=2, stride=2, padding=0, dilation=1, ceil_mode=False)\n",
       "  )\n",
       "  (avgpool): AdaptiveAvgPool2d(output_size=(7, 7))\n",
       "  (classifier): Sequential(\n",
       "    (0): Linear(in_features=25088, out_features=4096, bias=True)\n",
       "    (1): ReLU(inplace=True)\n",
       "    (2): Dropout(p=0.5, inplace=False)\n",
       "    (3): Linear(in_features=4096, out_features=4096, bias=True)\n",
       "    (4): ReLU(inplace=True)\n",
       "    (5): Dropout(p=0.5, inplace=False)\n",
       "    (6): Linear(in_features=4096, out_features=12, bias=True)\n",
       "  )\n",
       ")"
      ]
     },
     "execution_count": 75,
     "metadata": {},
     "output_type": "execute_result"
    }
   ],
   "source": [
    "device = torch.device(\"cuda:0\" if torch.cuda.is_available() else \"cpu\")\n",
    "print(\"Device: {}\".format(device))\n",
    "VGG11_model.to(device)"
   ]
  },
  {
   "cell_type": "code",
   "execution_count": null,
   "metadata": {
    "execution": {
     "iopub.execute_input": "2022-11-13T16:59:51.694206Z",
     "iopub.status.busy": "2022-11-13T16:59:51.693359Z",
     "iopub.status.idle": "2022-11-13T16:59:51.717859Z",
     "shell.execute_reply": "2022-11-13T16:59:51.716857Z",
     "shell.execute_reply.started": "2022-11-13T16:59:51.694168Z"
    },
    "id": "2soll5hk9jMe",
    "outputId": "9282b20b-b952-4c13-954c-9c9b0fadf27b"
   },
   "outputs": [
    {
     "name": "stdout",
     "output_type": "stream",
     "text": [
      "Class: Pedestrain has samples: 1014 \n",
      "Class: NO Stopping has samples: 1075 \n",
      "Class: Right Turn Prohibited has samples: 436 \n",
      "Class: Danger has samples: 399 \n",
      "Class: Compulsory Keep BothSide has samples: 573 \n",
      "Class: Maximum Speed 30 has samples: 477 \n",
      "Class: Right Margin has samples: 506 \n",
      "Class: Cycle crossing has samples: 662 \n",
      "Class: Roundabouts has samples: 497 \n",
      "Class: One way Traffic has samples: 684 \n",
      "Class: Compulsory Keep Right has samples: 703 \n",
      "Class: No Entry has samples: 930 \n",
      "\n",
      "Total number of samples:  7956\n",
      "\n",
      "Time taken: 0.018162250518798828\n"
     ]
    }
   ],
   "source": [
    "class_weights = get_class_weights(path_train, mappings)\n",
    "\n",
    "class_weights = torch.FloatTensor(class_weights)\n",
    "class_weights = class_weights.to(device)\n",
    "\n",
    "criterion = get_criterion(class_weights)"
   ]
  },
  {
   "cell_type": "code",
   "execution_count": null,
   "metadata": {
    "execution": {
     "iopub.execute_input": "2022-11-13T16:59:51.719727Z",
     "iopub.status.busy": "2022-11-13T16:59:51.719349Z",
     "iopub.status.idle": "2022-11-13T18:07:44.126392Z",
     "shell.execute_reply": "2022-11-13T18:07:44.124737Z",
     "shell.execute_reply.started": "2022-11-13T16:59:51.719691Z"
    },
    "id": "NPQV9EqR-auq",
    "outputId": "48b482b3-4128-44a8-d16e-70baa616fa51"
   },
   "outputs": [
    {
     "name": "stdout",
     "output_type": "stream",
     "text": [
      "Epoch [1/10], Step [10/199], Loss: 2.4560, Accuracy: 3.12%, Validation Accuracy: 13.26%\n",
      "Epoch [1/10], Step [20/199], Loss: 2.4293, Accuracy: 31.25%, Validation Accuracy: 19.99%\n",
      "Epoch [1/10], Step [30/199], Loss: 2.4835, Accuracy: 25.00%, Validation Accuracy: 18.98%\n",
      "Epoch [1/10], Step [40/199], Loss: 2.4009, Accuracy: 15.62%, Validation Accuracy: 21.18%\n",
      "Epoch [1/10], Step [50/199], Loss: 2.2865, Accuracy: 34.38%, Validation Accuracy: 18.73%\n",
      "Epoch [1/10], Step [60/199], Loss: 2.1977, Accuracy: 31.25%, Validation Accuracy: 24.26%\n",
      "Epoch [1/10], Step [70/199], Loss: 2.3163, Accuracy: 28.12%, Validation Accuracy: 29.48%\n",
      "Epoch [1/10], Step [80/199], Loss: 2.1409, Accuracy: 31.25%, Validation Accuracy: 30.86%\n",
      "Epoch [1/10], Step [90/199], Loss: 2.1579, Accuracy: 15.62%, Validation Accuracy: 28.72%\n",
      "Epoch [1/10], Step [100/199], Loss: 1.6897, Accuracy: 43.75%, Validation Accuracy: 30.99%\n",
      "Epoch [1/10], Step [110/199], Loss: 1.7459, Accuracy: 43.75%, Validation Accuracy: 36.02%\n",
      "Epoch [1/10], Step [120/199], Loss: 1.6989, Accuracy: 43.75%, Validation Accuracy: 35.89%\n",
      "Epoch [1/10], Step [130/199], Loss: 1.5563, Accuracy: 43.75%, Validation Accuracy: 38.78%\n",
      "Epoch [1/10], Step [140/199], Loss: 1.4401, Accuracy: 43.75%, Validation Accuracy: 46.20%\n",
      "Epoch [1/10], Step [150/199], Loss: 1.7080, Accuracy: 46.88%, Validation Accuracy: 52.61%\n",
      "Epoch [1/10], Step [160/199], Loss: 1.6512, Accuracy: 34.38%, Validation Accuracy: 47.89%\n",
      "Epoch [1/10], Step [170/199], Loss: 1.2655, Accuracy: 56.25%, Validation Accuracy: 58.39%\n",
      "Epoch [1/10], Step [180/199], Loss: 1.6381, Accuracy: 40.62%, Validation Accuracy: 54.68%\n",
      "Epoch [1/10], Step [190/199], Loss: 1.3524, Accuracy: 53.12%, Validation Accuracy: 54.37%\n",
      "Epoch [2/10], Step [10/199], Loss: 1.7109, Accuracy: 37.50%, Validation Accuracy: 61.85%\n",
      "Epoch [2/10], Step [20/199], Loss: 1.5410, Accuracy: 40.62%, Validation Accuracy: 59.65%\n",
      "Epoch [2/10], Step [30/199], Loss: 1.1426, Accuracy: 59.38%, Validation Accuracy: 61.09%\n",
      "Epoch [2/10], Step [40/199], Loss: 1.1178, Accuracy: 62.50%, Validation Accuracy: 60.97%\n",
      "Epoch [2/10], Step [50/199], Loss: 1.2828, Accuracy: 62.50%, Validation Accuracy: 62.16%\n",
      "Epoch [2/10], Step [60/199], Loss: 1.0706, Accuracy: 62.50%, Validation Accuracy: 70.14%\n",
      "Epoch [2/10], Step [70/199], Loss: 0.8396, Accuracy: 68.75%, Validation Accuracy: 69.20%\n",
      "Epoch [2/10], Step [80/199], Loss: 1.2519, Accuracy: 50.00%, Validation Accuracy: 68.01%\n",
      "Epoch [2/10], Step [90/199], Loss: 0.9677, Accuracy: 71.88%, Validation Accuracy: 69.45%\n",
      "Epoch [2/10], Step [100/199], Loss: 1.2248, Accuracy: 56.25%, Validation Accuracy: 70.08%\n",
      "Epoch [2/10], Step [110/199], Loss: 0.7779, Accuracy: 75.00%, Validation Accuracy: 76.05%\n",
      "Epoch [2/10], Step [120/199], Loss: 0.8132, Accuracy: 71.88%, Validation Accuracy: 75.93%\n",
      "Epoch [2/10], Step [130/199], Loss: 0.7616, Accuracy: 75.00%, Validation Accuracy: 77.62%\n",
      "Epoch [2/10], Step [140/199], Loss: 0.9507, Accuracy: 68.75%, Validation Accuracy: 71.15%\n",
      "Epoch [2/10], Step [150/199], Loss: 0.7068, Accuracy: 71.88%, Validation Accuracy: 73.66%\n",
      "Epoch [2/10], Step [160/199], Loss: 0.6342, Accuracy: 75.00%, Validation Accuracy: 80.52%\n",
      "Epoch [2/10], Step [170/199], Loss: 1.0658, Accuracy: 59.38%, Validation Accuracy: 84.79%\n",
      "Epoch [2/10], Step [180/199], Loss: 0.7278, Accuracy: 68.75%, Validation Accuracy: 81.84%\n",
      "Epoch [2/10], Step [190/199], Loss: 0.6130, Accuracy: 87.50%, Validation Accuracy: 82.09%\n",
      "Epoch [3/10], Step [10/199], Loss: 0.7378, Accuracy: 78.12%, Validation Accuracy: 85.48%\n",
      "Epoch [3/10], Step [20/199], Loss: 0.5797, Accuracy: 84.38%, Validation Accuracy: 82.46%\n",
      "Epoch [3/10], Step [30/199], Loss: 0.7281, Accuracy: 68.75%, Validation Accuracy: 82.59%\n",
      "Epoch [3/10], Step [40/199], Loss: 0.6231, Accuracy: 78.12%, Validation Accuracy: 86.36%\n",
      "Epoch [3/10], Step [50/199], Loss: 0.5807, Accuracy: 81.25%, Validation Accuracy: 87.12%\n",
      "Epoch [3/10], Step [60/199], Loss: 0.3964, Accuracy: 87.50%, Validation Accuracy: 85.36%\n",
      "Epoch [3/10], Step [70/199], Loss: 0.4816, Accuracy: 81.25%, Validation Accuracy: 88.31%\n",
      "Epoch [3/10], Step [80/199], Loss: 0.7567, Accuracy: 78.12%, Validation Accuracy: 87.24%\n",
      "Epoch [3/10], Step [90/199], Loss: 0.6666, Accuracy: 75.00%, Validation Accuracy: 88.87%\n",
      "Epoch [3/10], Step [100/199], Loss: 0.6661, Accuracy: 84.38%, Validation Accuracy: 87.68%\n",
      "Epoch [3/10], Step [110/199], Loss: 0.2391, Accuracy: 96.88%, Validation Accuracy: 88.81%\n",
      "Epoch [3/10], Step [120/199], Loss: 0.4570, Accuracy: 81.25%, Validation Accuracy: 89.44%\n",
      "Epoch [3/10], Step [130/199], Loss: 0.4426, Accuracy: 90.62%, Validation Accuracy: 91.14%\n",
      "Epoch [3/10], Step [140/199], Loss: 0.5533, Accuracy: 78.12%, Validation Accuracy: 90.13%\n",
      "Epoch [3/10], Step [150/199], Loss: 0.7754, Accuracy: 78.12%, Validation Accuracy: 89.13%\n",
      "Epoch [3/10], Step [160/199], Loss: 0.6269, Accuracy: 78.12%, Validation Accuracy: 89.50%\n",
      "Epoch [3/10], Step [170/199], Loss: 0.4011, Accuracy: 84.38%, Validation Accuracy: 91.07%\n",
      "Epoch [3/10], Step [180/199], Loss: 0.4536, Accuracy: 81.25%, Validation Accuracy: 91.77%\n",
      "Epoch [3/10], Step [190/199], Loss: 0.5335, Accuracy: 93.75%, Validation Accuracy: 92.83%\n",
      "Epoch [4/10], Step [10/199], Loss: 0.3547, Accuracy: 87.50%, Validation Accuracy: 91.26%\n",
      "Epoch [4/10], Step [20/199], Loss: 0.3294, Accuracy: 87.50%, Validation Accuracy: 91.64%\n",
      "Epoch [4/10], Step [30/199], Loss: 0.4532, Accuracy: 87.50%, Validation Accuracy: 90.07%\n",
      "Epoch [4/10], Step [40/199], Loss: 0.4557, Accuracy: 87.50%, Validation Accuracy: 90.95%\n",
      "Epoch [4/10], Step [50/199], Loss: 0.3645, Accuracy: 87.50%, Validation Accuracy: 91.26%\n",
      "Epoch [4/10], Step [60/199], Loss: 0.1923, Accuracy: 93.75%, Validation Accuracy: 92.39%\n",
      "Epoch [4/10], Step [70/199], Loss: 0.3782, Accuracy: 90.62%, Validation Accuracy: 90.51%\n",
      "Epoch [4/10], Step [80/199], Loss: 0.2429, Accuracy: 93.75%, Validation Accuracy: 92.27%\n",
      "Epoch [4/10], Step [90/199], Loss: 0.2988, Accuracy: 90.62%, Validation Accuracy: 92.39%\n",
      "Epoch [4/10], Step [100/199], Loss: 0.3100, Accuracy: 90.62%, Validation Accuracy: 92.27%\n",
      "Epoch [4/10], Step [110/199], Loss: 0.3165, Accuracy: 87.50%, Validation Accuracy: 92.77%\n",
      "Epoch [4/10], Step [120/199], Loss: 0.5728, Accuracy: 81.25%, Validation Accuracy: 93.53%\n",
      "Epoch [4/10], Step [130/199], Loss: 0.1620, Accuracy: 96.88%, Validation Accuracy: 94.22%\n",
      "Epoch [4/10], Step [140/199], Loss: 0.2695, Accuracy: 93.75%, Validation Accuracy: 93.02%\n",
      "Epoch [4/10], Step [150/199], Loss: 0.2882, Accuracy: 90.62%, Validation Accuracy: 92.33%\n",
      "Epoch [4/10], Step [160/199], Loss: 0.3014, Accuracy: 93.75%, Validation Accuracy: 91.33%\n",
      "Epoch [4/10], Step [170/199], Loss: 0.4622, Accuracy: 81.25%, Validation Accuracy: 93.84%\n",
      "Epoch [4/10], Step [180/199], Loss: 0.4692, Accuracy: 84.38%, Validation Accuracy: 94.85%\n",
      "Epoch [4/10], Step [190/199], Loss: 0.1776, Accuracy: 96.88%, Validation Accuracy: 93.40%\n",
      "Epoch [5/10], Step [10/199], Loss: 0.3013, Accuracy: 90.62%, Validation Accuracy: 92.96%\n",
      "Epoch [5/10], Step [20/199], Loss: 0.0740, Accuracy: 100.00%, Validation Accuracy: 91.64%\n",
      "Epoch [5/10], Step [30/199], Loss: 0.4765, Accuracy: 84.38%, Validation Accuracy: 93.84%\n",
      "Epoch [5/10], Step [40/199], Loss: 0.2682, Accuracy: 90.62%, Validation Accuracy: 94.72%\n",
      "Epoch [5/10], Step [50/199], Loss: 0.2197, Accuracy: 90.62%, Validation Accuracy: 92.39%\n",
      "Epoch [5/10], Step [60/199], Loss: 0.1964, Accuracy: 93.75%, Validation Accuracy: 94.15%\n",
      "Epoch [5/10], Step [70/199], Loss: 0.2996, Accuracy: 90.62%, Validation Accuracy: 93.97%\n",
      "Epoch [5/10], Step [80/199], Loss: 0.2606, Accuracy: 93.75%, Validation Accuracy: 93.40%\n",
      "Epoch [5/10], Step [90/199], Loss: 0.1063, Accuracy: 96.88%, Validation Accuracy: 93.09%\n",
      "Epoch [5/10], Step [100/199], Loss: 0.1853, Accuracy: 90.62%, Validation Accuracy: 93.46%\n",
      "Epoch [5/10], Step [110/199], Loss: 0.3735, Accuracy: 87.50%, Validation Accuracy: 93.71%\n",
      "Epoch [5/10], Step [120/199], Loss: 0.5451, Accuracy: 78.12%, Validation Accuracy: 93.90%\n",
      "Epoch [5/10], Step [130/199], Loss: 0.1209, Accuracy: 96.88%, Validation Accuracy: 95.35%\n",
      "Epoch [5/10], Step [140/199], Loss: 0.2934, Accuracy: 93.75%, Validation Accuracy: 94.72%\n",
      "Epoch [5/10], Step [150/199], Loss: 0.1375, Accuracy: 96.88%, Validation Accuracy: 93.78%\n",
      "Epoch [5/10], Step [160/199], Loss: 0.3375, Accuracy: 81.25%, Validation Accuracy: 93.40%\n",
      "Epoch [5/10], Step [170/199], Loss: 0.1192, Accuracy: 96.88%, Validation Accuracy: 93.90%\n",
      "Epoch [5/10], Step [180/199], Loss: 0.2681, Accuracy: 90.62%, Validation Accuracy: 94.72%\n",
      "Epoch [5/10], Step [190/199], Loss: 0.1959, Accuracy: 96.88%, Validation Accuracy: 94.47%\n",
      "Epoch [6/10], Step [10/199], Loss: 0.1312, Accuracy: 100.00%, Validation Accuracy: 95.47%\n",
      "Epoch [6/10], Step [20/199], Loss: 0.1055, Accuracy: 96.88%, Validation Accuracy: 94.59%\n",
      "Epoch [6/10], Step [30/199], Loss: 0.1333, Accuracy: 100.00%, Validation Accuracy: 94.15%\n",
      "Epoch [6/10], Step [40/199], Loss: 0.2462, Accuracy: 90.62%, Validation Accuracy: 94.41%\n",
      "Epoch [6/10], Step [50/199], Loss: 0.2067, Accuracy: 93.75%, Validation Accuracy: 94.09%\n",
      "Epoch [6/10], Step [60/199], Loss: 0.4155, Accuracy: 90.62%, Validation Accuracy: 94.47%\n",
      "Epoch [6/10], Step [70/199], Loss: 0.3952, Accuracy: 90.62%, Validation Accuracy: 95.91%\n",
      "Epoch [6/10], Step [80/199], Loss: 0.2508, Accuracy: 90.62%, Validation Accuracy: 95.41%\n",
      "Epoch [6/10], Step [90/199], Loss: 0.2373, Accuracy: 87.50%, Validation Accuracy: 94.97%\n",
      "Epoch [6/10], Step [100/199], Loss: 0.4074, Accuracy: 93.75%, Validation Accuracy: 95.79%\n",
      "Epoch [6/10], Step [110/199], Loss: 0.0531, Accuracy: 100.00%, Validation Accuracy: 94.22%\n",
      "Epoch [6/10], Step [120/199], Loss: 0.1582, Accuracy: 96.88%, Validation Accuracy: 95.35%\n",
      "Epoch [6/10], Step [130/199], Loss: 0.2451, Accuracy: 93.75%, Validation Accuracy: 95.85%\n",
      "Epoch [6/10], Step [140/199], Loss: 0.0627, Accuracy: 100.00%, Validation Accuracy: 96.10%\n",
      "Epoch [6/10], Step [150/199], Loss: 0.1198, Accuracy: 93.75%, Validation Accuracy: 94.78%\n",
      "Epoch [6/10], Step [160/199], Loss: 0.2555, Accuracy: 87.50%, Validation Accuracy: 95.98%\n",
      "Epoch [6/10], Step [170/199], Loss: 0.2400, Accuracy: 90.62%, Validation Accuracy: 95.79%\n",
      "Epoch [6/10], Step [180/199], Loss: 0.2138, Accuracy: 93.75%, Validation Accuracy: 95.79%\n",
      "Epoch [6/10], Step [190/199], Loss: 0.1414, Accuracy: 100.00%, Validation Accuracy: 95.79%\n",
      "Epoch [7/10], Step [10/199], Loss: 0.0686, Accuracy: 96.88%, Validation Accuracy: 95.73%\n",
      "Epoch [7/10], Step [20/199], Loss: 0.1200, Accuracy: 96.88%, Validation Accuracy: 96.61%\n",
      "Epoch [7/10], Step [30/199], Loss: 0.1600, Accuracy: 93.75%, Validation Accuracy: 95.60%\n",
      "Epoch [7/10], Step [40/199], Loss: 0.1606, Accuracy: 93.75%, Validation Accuracy: 95.54%\n",
      "Epoch [7/10], Step [50/199], Loss: 0.4274, Accuracy: 87.50%, Validation Accuracy: 95.60%\n",
      "Epoch [7/10], Step [60/199], Loss: 0.0742, Accuracy: 100.00%, Validation Accuracy: 96.48%\n",
      "Epoch [7/10], Step [70/199], Loss: 0.1642, Accuracy: 96.88%, Validation Accuracy: 95.79%\n",
      "Epoch [7/10], Step [80/199], Loss: 0.1262, Accuracy: 93.75%, Validation Accuracy: 96.17%\n",
      "Epoch [7/10], Step [90/199], Loss: 0.0660, Accuracy: 100.00%, Validation Accuracy: 96.54%\n",
      "Epoch [7/10], Step [100/199], Loss: 0.2590, Accuracy: 87.50%, Validation Accuracy: 95.66%\n",
      "Epoch [7/10], Step [110/199], Loss: 0.4589, Accuracy: 90.62%, Validation Accuracy: 95.60%\n",
      "Epoch [7/10], Step [120/199], Loss: 0.0314, Accuracy: 100.00%, Validation Accuracy: 96.10%\n",
      "Epoch [7/10], Step [130/199], Loss: 0.1598, Accuracy: 96.88%, Validation Accuracy: 96.35%\n",
      "Epoch [7/10], Step [140/199], Loss: 0.1307, Accuracy: 96.88%, Validation Accuracy: 96.48%\n",
      "Epoch [7/10], Step [150/199], Loss: 0.0891, Accuracy: 100.00%, Validation Accuracy: 96.29%\n",
      "Epoch [7/10], Step [160/199], Loss: 0.0647, Accuracy: 96.88%, Validation Accuracy: 96.35%\n",
      "Epoch [7/10], Step [170/199], Loss: 0.1148, Accuracy: 96.88%, Validation Accuracy: 96.35%\n",
      "Epoch [7/10], Step [180/199], Loss: 0.2024, Accuracy: 90.62%, Validation Accuracy: 96.48%\n",
      "Epoch [7/10], Step [190/199], Loss: 0.0951, Accuracy: 100.00%, Validation Accuracy: 96.67%\n",
      "Epoch [8/10], Step [10/199], Loss: 0.0519, Accuracy: 100.00%, Validation Accuracy: 96.10%\n",
      "Epoch [8/10], Step [20/199], Loss: 0.0690, Accuracy: 100.00%, Validation Accuracy: 95.85%\n",
      "Epoch [8/10], Step [30/199], Loss: 0.1614, Accuracy: 93.75%, Validation Accuracy: 96.29%\n",
      "Epoch [8/10], Step [40/199], Loss: 0.2813, Accuracy: 93.75%, Validation Accuracy: 95.22%\n",
      "Epoch [8/10], Step [50/199], Loss: 0.1466, Accuracy: 93.75%, Validation Accuracy: 96.04%\n",
      "Epoch [8/10], Step [60/199], Loss: 0.1030, Accuracy: 93.75%, Validation Accuracy: 96.73%\n",
      "Epoch [8/10], Step [70/199], Loss: 0.1772, Accuracy: 100.00%, Validation Accuracy: 96.23%\n",
      "Epoch [8/10], Step [80/199], Loss: 0.4471, Accuracy: 87.50%, Validation Accuracy: 96.79%\n",
      "Epoch [8/10], Step [90/199], Loss: 0.1126, Accuracy: 93.75%, Validation Accuracy: 96.35%\n",
      "Epoch [8/10], Step [100/199], Loss: 0.0645, Accuracy: 96.88%, Validation Accuracy: 96.17%\n",
      "Epoch [8/10], Step [110/199], Loss: 0.2915, Accuracy: 96.88%, Validation Accuracy: 96.92%\n",
      "Epoch [8/10], Step [120/199], Loss: 0.0276, Accuracy: 100.00%, Validation Accuracy: 96.23%\n",
      "Epoch [8/10], Step [130/199], Loss: 0.1993, Accuracy: 96.88%, Validation Accuracy: 96.23%\n",
      "Epoch [8/10], Step [140/199], Loss: 0.0397, Accuracy: 100.00%, Validation Accuracy: 96.10%\n",
      "Epoch [8/10], Step [150/199], Loss: 0.2211, Accuracy: 93.75%, Validation Accuracy: 96.35%\n",
      "Epoch [8/10], Step [160/199], Loss: 0.0844, Accuracy: 96.88%, Validation Accuracy: 96.92%\n",
      "Epoch [8/10], Step [170/199], Loss: 0.2394, Accuracy: 93.75%, Validation Accuracy: 96.67%\n",
      "Epoch [8/10], Step [180/199], Loss: 0.2803, Accuracy: 93.75%, Validation Accuracy: 96.29%\n",
      "Epoch [8/10], Step [190/199], Loss: 0.1060, Accuracy: 96.88%, Validation Accuracy: 96.48%\n",
      "Epoch [9/10], Step [10/199], Loss: 0.1175, Accuracy: 96.88%, Validation Accuracy: 96.98%\n",
      "Epoch [9/10], Step [20/199], Loss: 0.0939, Accuracy: 96.88%, Validation Accuracy: 96.86%\n",
      "Epoch [9/10], Step [30/199], Loss: 0.1634, Accuracy: 90.62%, Validation Accuracy: 96.23%\n",
      "Epoch [9/10], Step [40/199], Loss: 0.0808, Accuracy: 96.88%, Validation Accuracy: 96.23%\n",
      "Epoch [9/10], Step [50/199], Loss: 0.0079, Accuracy: 100.00%, Validation Accuracy: 96.61%\n",
      "Epoch [9/10], Step [60/199], Loss: 0.3152, Accuracy: 90.62%, Validation Accuracy: 96.92%\n",
      "Epoch [9/10], Step [70/199], Loss: 0.2574, Accuracy: 96.88%, Validation Accuracy: 96.98%\n",
      "Epoch [9/10], Step [80/199], Loss: 0.2055, Accuracy: 90.62%, Validation Accuracy: 97.30%\n",
      "Epoch [9/10], Step [90/199], Loss: 0.0937, Accuracy: 96.88%, Validation Accuracy: 96.86%\n",
      "Epoch [9/10], Step [100/199], Loss: 0.0347, Accuracy: 100.00%, Validation Accuracy: 96.54%\n",
      "Epoch [9/10], Step [110/199], Loss: 0.2422, Accuracy: 90.62%, Validation Accuracy: 96.23%\n",
      "Epoch [9/10], Step [120/199], Loss: 0.2013, Accuracy: 96.88%, Validation Accuracy: 96.67%\n",
      "Epoch [9/10], Step [130/199], Loss: 0.0251, Accuracy: 100.00%, Validation Accuracy: 96.73%\n",
      "Epoch [9/10], Step [140/199], Loss: 0.0329, Accuracy: 100.00%, Validation Accuracy: 97.36%\n",
      "Epoch [9/10], Step [150/199], Loss: 0.0335, Accuracy: 100.00%, Validation Accuracy: 96.23%\n",
      "Epoch [9/10], Step [160/199], Loss: 0.1825, Accuracy: 93.75%, Validation Accuracy: 97.05%\n",
      "Epoch [9/10], Step [170/199], Loss: 0.1567, Accuracy: 96.88%, Validation Accuracy: 96.67%\n",
      "Epoch [9/10], Step [180/199], Loss: 0.5041, Accuracy: 90.62%, Validation Accuracy: 96.79%\n",
      "Epoch [9/10], Step [190/199], Loss: 0.2369, Accuracy: 96.88%, Validation Accuracy: 96.86%\n",
      "Epoch [10/10], Step [10/199], Loss: 0.0157, Accuracy: 100.00%, Validation Accuracy: 96.92%\n",
      "Epoch [10/10], Step [20/199], Loss: 0.0255, Accuracy: 100.00%, Validation Accuracy: 96.54%\n",
      "Epoch [10/10], Step [30/199], Loss: 0.3477, Accuracy: 93.75%, Validation Accuracy: 96.73%\n",
      "Epoch [10/10], Step [40/199], Loss: 0.2225, Accuracy: 93.75%, Validation Accuracy: 97.05%\n",
      "Epoch [10/10], Step [50/199], Loss: 0.0644, Accuracy: 100.00%, Validation Accuracy: 96.17%\n",
      "Epoch [10/10], Step [60/199], Loss: 0.0478, Accuracy: 100.00%, Validation Accuracy: 97.17%\n",
      "Epoch [10/10], Step [70/199], Loss: 0.1678, Accuracy: 96.88%, Validation Accuracy: 97.61%\n",
      "Epoch [10/10], Step [80/199], Loss: 0.1128, Accuracy: 93.75%, Validation Accuracy: 96.67%\n",
      "Epoch [10/10], Step [90/199], Loss: 0.1394, Accuracy: 93.75%, Validation Accuracy: 96.73%\n",
      "Epoch [10/10], Step [100/199], Loss: 0.2510, Accuracy: 90.62%, Validation Accuracy: 97.17%\n",
      "Epoch [10/10], Step [110/199], Loss: 0.0941, Accuracy: 96.88%, Validation Accuracy: 97.05%\n",
      "Epoch [10/10], Step [120/199], Loss: 0.2990, Accuracy: 93.75%, Validation Accuracy: 96.23%\n",
      "Epoch [10/10], Step [130/199], Loss: 0.2671, Accuracy: 90.62%, Validation Accuracy: 96.73%\n",
      "Epoch [10/10], Step [140/199], Loss: 0.3143, Accuracy: 87.50%, Validation Accuracy: 97.23%\n",
      "Epoch [10/10], Step [150/199], Loss: 0.1366, Accuracy: 93.75%, Validation Accuracy: 97.61%\n",
      "Epoch [10/10], Step [160/199], Loss: 0.3838, Accuracy: 90.62%, Validation Accuracy: 96.79%\n",
      "Epoch [10/10], Step [170/199], Loss: 0.0290, Accuracy: 100.00%, Validation Accuracy: 96.73%\n",
      "Epoch [10/10], Step [180/199], Loss: 0.0203, Accuracy: 100.00%, Validation Accuracy: 97.17%\n",
      "Epoch [10/10], Step [190/199], Loss: 0.1844, Accuracy: 93.75%, Validation Accuracy: 97.23%\n",
      "######## Training Finished in 4070.6546437740326 seconds ###########\n",
      "/n/n Saving model at:  /kaggle/working/vgg11model_d2.pt\n"
     ]
    }
   ],
   "source": [
    "model_savepath = savepath+\"vgg11model_d2.pt\"\n",
    "results_savepath = savepath+\"vgg11model_d2_results.pkb\"\n",
    "\n",
    "trained_VGG11_model, device = train_model(VGG11_model, num_epochs, train_loader, criterion, optimizer, model_savepath, results_savepath, device)"
   ]
  },
  {
   "cell_type": "code",
   "execution_count": null,
   "metadata": {
    "execution": {
     "iopub.execute_input": "2022-11-13T18:07:44.134350Z",
     "iopub.status.busy": "2022-11-13T18:07:44.133104Z",
     "iopub.status.idle": "2022-11-13T18:07:53.838240Z",
     "shell.execute_reply": "2022-11-13T18:07:53.837160Z",
     "shell.execute_reply.started": "2022-11-13T18:07:44.134308Z"
    },
    "id": "EOfbMdw1-auq",
    "outputId": "70b92883-1fa7-480e-a999-f65fe3410fcc"
   },
   "outputs": [
    {
     "name": "stdout",
     "output_type": "stream",
     "text": [
      "Model Evaluation Results on 1228 test samples\n",
      "Test Accuracy:  85.26058631921825\n",
      "Test F1 Score:  tensor(0.8526)\n"
     ]
    }
   ],
   "source": [
    "evaluate_model(trained_VGG11_model, test_loader, device, nclasses)"
   ]
  },
  {
   "cell_type": "code",
   "execution_count": null,
   "metadata": {
    "id": "WcpBBX-j-j25"
   },
   "outputs": [],
   "source": []
  },
  {
   "cell_type": "markdown",
   "metadata": {
    "id": "gE0rLx9_-kGI"
   },
   "source": [
    "on dataset 3:"
   ]
  },
  {
   "cell_type": "code",
   "execution_count": null,
   "metadata": {
    "execution": {
     "iopub.execute_input": "2022-11-13T18:14:05.649712Z",
     "iopub.status.busy": "2022-11-13T18:14:05.649287Z",
     "iopub.status.idle": "2022-11-13T18:14:05.655585Z",
     "shell.execute_reply": "2022-11-13T18:14:05.654278Z",
     "shell.execute_reply.started": "2022-11-13T18:14:05.649679Z"
    },
    "id": "bWfOdWWvN-wD"
   },
   "outputs": [],
   "source": [
    "nclasses=8"
   ]
  },
  {
   "cell_type": "code",
   "execution_count": null,
   "metadata": {
    "colab": {
     "base_uri": "https://localhost:8080/"
    },
    "execution": {
     "iopub.execute_input": "2022-11-13T18:14:06.036590Z",
     "iopub.status.busy": "2022-11-13T18:14:06.035829Z",
     "iopub.status.idle": "2022-11-13T18:14:08.100261Z",
     "shell.execute_reply": "2022-11-13T18:14:08.099139Z",
     "shell.execute_reply.started": "2022-11-13T18:14:06.036552Z"
    },
    "id": "u5mLp8L_-kGI",
    "outputId": "74750821-d8da-4021-e9ed-e40857959388"
   },
   "outputs": [
    {
     "name": "stderr",
     "output_type": "stream",
     "text": [
      "Downloading: \"https://github.com/pytorch/vision/zipball/v0.10.0\" to /root/.cache/torch/hub/v0.10.0.zip\n",
      "/usr/local/lib/python3.8/dist-packages/torchvision/models/_utils.py:208: UserWarning: The parameter 'pretrained' is deprecated since 0.13 and will be removed in 0.15, please use 'weights' instead.\n",
      "  warnings.warn(\n",
      "/usr/local/lib/python3.8/dist-packages/torchvision/models/_utils.py:223: UserWarning: Arguments other than a weight enum or `None` for 'weights' are deprecated since 0.13 and will be removed in 0.15. The current behavior is equivalent to passing `weights=None`.\n",
      "  warnings.warn(msg)\n"
     ]
    }
   ],
   "source": [
    "VGG11_model = torch.hub.load('pytorch/vision:v0.10.0', 'vgg11', pretrained=False)"
   ]
  },
  {
   "cell_type": "code",
   "execution_count": null,
   "metadata": {
    "execution": {
     "iopub.execute_input": "2022-11-13T18:14:08.102798Z",
     "iopub.status.busy": "2022-11-13T18:14:08.102394Z",
     "iopub.status.idle": "2022-11-13T18:14:08.109247Z",
     "shell.execute_reply": "2022-11-13T18:14:08.107985Z",
     "shell.execute_reply.started": "2022-11-13T18:14:08.102762Z"
    },
    "id": "6Zx3OReu-kGI"
   },
   "outputs": [],
   "source": [
    "prev_out = VGG11_model.classifier[3].out_features\n",
    "VGG11_model.classifier[6] = nn.Linear( prev_out, nclasses)"
   ]
  },
  {
   "cell_type": "code",
   "execution_count": null,
   "metadata": {
    "execution": {
     "iopub.execute_input": "2022-11-13T18:14:08.111191Z",
     "iopub.status.busy": "2022-11-13T18:14:08.110795Z",
     "iopub.status.idle": "2022-11-13T18:14:08.121309Z",
     "shell.execute_reply": "2022-11-13T18:14:08.120437Z",
     "shell.execute_reply.started": "2022-11-13T18:14:08.111152Z"
    },
    "id": "FgN9LW3w-kGI"
   },
   "outputs": [],
   "source": [
    "optimizer = torch.optim.Adam(VGG11_model.parameters(), lr=learning_rate) "
   ]
  },
  {
   "cell_type": "code",
   "execution_count": null,
   "metadata": {
    "execution": {
     "iopub.execute_input": "2022-11-13T18:14:08.391930Z",
     "iopub.status.busy": "2022-11-13T18:14:08.391558Z",
     "iopub.status.idle": "2022-11-13T18:14:13.405757Z",
     "shell.execute_reply": "2022-11-13T18:14:13.404554Z",
     "shell.execute_reply.started": "2022-11-13T18:14:08.391884Z"
    },
    "id": "kanuR4xY-kGJ"
   },
   "outputs": [],
   "source": [
    "path_train = path_dataset3+\"Train/\"\n",
    "path_test = path_dataset3+\"Test/\"\n",
    "val_split = 0.2\n",
    "batch_size = 32\n",
    "input_size = (224,224)\n",
    "\n",
    "train_loader, test_loader, val_loader, mappings = load_data(path_train, val_split, path_test, batch_size, input_size)"
   ]
  },
  {
   "cell_type": "code",
   "execution_count": null,
   "metadata": {
    "colab": {
     "base_uri": "https://localhost:8080/"
    },
    "execution": {
     "iopub.execute_input": "2022-11-13T18:14:13.408921Z",
     "iopub.status.busy": "2022-11-13T18:14:13.408206Z",
     "iopub.status.idle": "2022-11-13T18:14:13.559846Z",
     "shell.execute_reply": "2022-11-13T18:14:13.558851Z",
     "shell.execute_reply.started": "2022-11-13T18:14:13.408879Z"
    },
    "id": "lyER9EeNVpfa",
    "outputId": "1ecf32d9-565b-4a9b-d94b-8030e1fefed1"
   },
   "outputs": [
    {
     "name": "stdout",
     "output_type": "stream",
     "text": [
      "Device: cuda:0\n"
     ]
    },
    {
     "data": {
      "text/plain": [
       "VGG(\n",
       "  (features): Sequential(\n",
       "    (0): Conv2d(3, 64, kernel_size=(3, 3), stride=(1, 1), padding=(1, 1))\n",
       "    (1): ReLU(inplace=True)\n",
       "    (2): MaxPool2d(kernel_size=2, stride=2, padding=0, dilation=1, ceil_mode=False)\n",
       "    (3): Conv2d(64, 128, kernel_size=(3, 3), stride=(1, 1), padding=(1, 1))\n",
       "    (4): ReLU(inplace=True)\n",
       "    (5): MaxPool2d(kernel_size=2, stride=2, padding=0, dilation=1, ceil_mode=False)\n",
       "    (6): Conv2d(128, 256, kernel_size=(3, 3), stride=(1, 1), padding=(1, 1))\n",
       "    (7): ReLU(inplace=True)\n",
       "    (8): Conv2d(256, 256, kernel_size=(3, 3), stride=(1, 1), padding=(1, 1))\n",
       "    (9): ReLU(inplace=True)\n",
       "    (10): MaxPool2d(kernel_size=2, stride=2, padding=0, dilation=1, ceil_mode=False)\n",
       "    (11): Conv2d(256, 512, kernel_size=(3, 3), stride=(1, 1), padding=(1, 1))\n",
       "    (12): ReLU(inplace=True)\n",
       "    (13): Conv2d(512, 512, kernel_size=(3, 3), stride=(1, 1), padding=(1, 1))\n",
       "    (14): ReLU(inplace=True)\n",
       "    (15): MaxPool2d(kernel_size=2, stride=2, padding=0, dilation=1, ceil_mode=False)\n",
       "    (16): Conv2d(512, 512, kernel_size=(3, 3), stride=(1, 1), padding=(1, 1))\n",
       "    (17): ReLU(inplace=True)\n",
       "    (18): Conv2d(512, 512, kernel_size=(3, 3), stride=(1, 1), padding=(1, 1))\n",
       "    (19): ReLU(inplace=True)\n",
       "    (20): MaxPool2d(kernel_size=2, stride=2, padding=0, dilation=1, ceil_mode=False)\n",
       "  )\n",
       "  (avgpool): AdaptiveAvgPool2d(output_size=(7, 7))\n",
       "  (classifier): Sequential(\n",
       "    (0): Linear(in_features=25088, out_features=4096, bias=True)\n",
       "    (1): ReLU(inplace=True)\n",
       "    (2): Dropout(p=0.5, inplace=False)\n",
       "    (3): Linear(in_features=4096, out_features=4096, bias=True)\n",
       "    (4): ReLU(inplace=True)\n",
       "    (5): Dropout(p=0.5, inplace=False)\n",
       "    (6): Linear(in_features=4096, out_features=8, bias=True)\n",
       "  )\n",
       ")"
      ]
     },
     "execution_count": 17,
     "metadata": {},
     "output_type": "execute_result"
    }
   ],
   "source": [
    "device = torch.device(\"cuda:0\" if torch.cuda.is_available() else \"cpu\")\n",
    "print(\"Device: {}\".format(device))\n",
    "VGG11_model.to(device)"
   ]
  },
  {
   "cell_type": "code",
   "execution_count": null,
   "metadata": {
    "colab": {
     "base_uri": "https://localhost:8080/"
    },
    "execution": {
     "iopub.execute_input": "2022-11-13T18:14:16.754434Z",
     "iopub.status.busy": "2022-11-13T18:14:16.754032Z",
     "iopub.status.idle": "2022-11-13T18:14:16.774667Z",
     "shell.execute_reply": "2022-11-13T18:14:16.773502Z",
     "shell.execute_reply.started": "2022-11-13T18:14:16.754400Z"
    },
    "id": "ETbofcER9kc0",
    "outputId": "777d9798-e4a2-4972-f62e-b2223e56b9d6"
   },
   "outputs": [
    {
     "name": "stdout",
     "output_type": "stream",
     "text": [
      "Class: 1 has samples: 2213 \n",
      "Class: 5 has samples: 1853 \n",
      "Class: 7 has samples: 1433 \n",
      "Class: 2 has samples: 2243 \n",
      "Class: 3 has samples: 1413 \n",
      "Class: 4 has samples: 1973 \n",
      "Class: 9 has samples: 1463 \n",
      "Class: 8 has samples: 1403 \n",
      "\n",
      "Total number of samples:  13994\n",
      "\n",
      "Time taken: 0.17267417907714844\n"
     ]
    }
   ],
   "source": [
    "class_weights = get_class_weights(path_train, mappings)\n",
    "\n",
    "class_weights = torch.FloatTensor(class_weights)\n",
    "class_weights = class_weights.to(device)\n",
    "\n",
    "criterion = get_criterion(class_weights)"
   ]
  },
  {
   "cell_type": "code",
   "execution_count": null,
   "metadata": {
    "colab": {
     "base_uri": "https://localhost:8080/"
    },
    "execution": {
     "iopub.execute_input": "2022-11-13T18:14:21.280257Z",
     "iopub.status.busy": "2022-11-13T18:14:21.278926Z",
     "iopub.status.idle": "2022-11-13T18:14:21.555204Z",
     "shell.execute_reply": "2022-11-13T18:14:21.553791Z",
     "shell.execute_reply.started": "2022-11-13T18:14:21.280209Z"
    },
    "id": "U0-mcNJ--kGJ",
    "outputId": "538c3c03-6f82-42c0-9c30-0799e3aac6ab"
   },
   "outputs": [
    {
     "name": "stdout",
     "output_type": "stream",
     "text": [
      "Epoch [1/10], Step [10/350], Loss: 2.0205, Accuracy: 25.00%, Validation Accuracy: 19.23%\n",
      "Epoch [1/10], Step [20/350], Loss: 2.0262, Accuracy: 9.38%, Validation Accuracy: 18.12%\n",
      "Epoch [1/10], Step [30/350], Loss: 2.0501, Accuracy: 6.25%, Validation Accuracy: 17.80%\n",
      "Epoch [1/10], Step [40/350], Loss: 1.9865, Accuracy: 28.12%, Validation Accuracy: 21.02%\n",
      "Epoch [1/10], Step [50/350], Loss: 2.0470, Accuracy: 9.38%, Validation Accuracy: 21.27%\n",
      "Epoch [1/10], Step [60/350], Loss: 2.0915, Accuracy: 9.38%, Validation Accuracy: 20.34%\n",
      "Epoch [1/10], Step [70/350], Loss: 1.9894, Accuracy: 18.75%, Validation Accuracy: 21.12%\n",
      "Epoch [1/10], Step [80/350], Loss: 1.9589, Accuracy: 31.25%, Validation Accuracy: 21.62%\n",
      "Epoch [1/10], Step [90/350], Loss: 1.9784, Accuracy: 9.38%, Validation Accuracy: 21.48%\n",
      "Epoch [1/10], Step [100/350], Loss: 1.9043, Accuracy: 25.00%, Validation Accuracy: 19.87%\n",
      "Epoch [1/10], Step [110/350], Loss: 2.0611, Accuracy: 21.88%, Validation Accuracy: 20.01%\n",
      "Epoch [1/10], Step [120/350], Loss: 1.9734, Accuracy: 25.00%, Validation Accuracy: 21.30%\n",
      "Epoch [1/10], Step [130/350], Loss: 1.9129, Accuracy: 25.00%, Validation Accuracy: 20.23%\n",
      "Epoch [1/10], Step [140/350], Loss: 1.9573, Accuracy: 21.88%, Validation Accuracy: 23.23%\n",
      "Epoch [1/10], Step [150/350], Loss: 2.0409, Accuracy: 18.75%, Validation Accuracy: 23.45%\n",
      "Epoch [1/10], Step [160/350], Loss: 1.9826, Accuracy: 15.62%, Validation Accuracy: 23.02%\n",
      "Epoch [1/10], Step [170/350], Loss: 1.8631, Accuracy: 28.12%, Validation Accuracy: 22.48%\n",
      "Epoch [1/10], Step [180/350], Loss: 2.0591, Accuracy: 15.62%, Validation Accuracy: 22.66%\n",
      "Epoch [1/10], Step [190/350], Loss: 2.0319, Accuracy: 9.38%, Validation Accuracy: 23.45%\n",
      "Epoch [1/10], Step [200/350], Loss: 1.9722, Accuracy: 21.88%, Validation Accuracy: 24.95%\n",
      "Epoch [1/10], Step [210/350], Loss: 2.0162, Accuracy: 28.12%, Validation Accuracy: 24.52%\n",
      "Epoch [1/10], Step [220/350], Loss: 2.1236, Accuracy: 21.88%, Validation Accuracy: 24.95%\n",
      "Epoch [1/10], Step [230/350], Loss: 1.6775, Accuracy: 50.00%, Validation Accuracy: 23.16%\n",
      "Epoch [1/10], Step [240/350], Loss: 2.1047, Accuracy: 25.00%, Validation Accuracy: 24.84%\n",
      "Epoch [1/10], Step [250/350], Loss: 1.8791, Accuracy: 25.00%, Validation Accuracy: 24.48%\n",
      "Epoch [1/10], Step [260/350], Loss: 1.9295, Accuracy: 28.12%, Validation Accuracy: 24.70%\n",
      "Epoch [1/10], Step [270/350], Loss: 1.8921, Accuracy: 18.75%, Validation Accuracy: 25.23%\n",
      "Epoch [1/10], Step [280/350], Loss: 1.8196, Accuracy: 18.75%, Validation Accuracy: 25.16%\n",
      "Epoch [1/10], Step [290/350], Loss: 1.8924, Accuracy: 25.00%, Validation Accuracy: 24.12%\n",
      "Epoch [1/10], Step [300/350], Loss: 1.7828, Accuracy: 28.12%, Validation Accuracy: 23.55%\n",
      "Epoch [1/10], Step [310/350], Loss: 1.6805, Accuracy: 37.50%, Validation Accuracy: 26.91%\n",
      "Epoch [1/10], Step [320/350], Loss: 1.8332, Accuracy: 31.25%, Validation Accuracy: 25.27%\n",
      "Epoch [1/10], Step [330/350], Loss: 1.9574, Accuracy: 15.62%, Validation Accuracy: 25.80%\n",
      "Epoch [1/10], Step [340/350], Loss: 1.8511, Accuracy: 21.88%, Validation Accuracy: 24.37%\n",
      "Epoch [1/10], Step [350/350], Loss: 1.9271, Accuracy: 25.00%, Validation Accuracy: 24.66%\n",
      "Epoch [2/10], Step [10/350], Loss: 1.8855, Accuracy: 18.75%, Validation Accuracy: 25.77%\n",
      "Epoch [2/10], Step [20/350], Loss: 1.8000, Accuracy: 34.38%, Validation Accuracy: 24.98%\n",
      "Epoch [2/10], Step [30/350], Loss: 1.8311, Accuracy: 31.25%, Validation Accuracy: 26.09%\n",
      "Epoch [2/10], Step [40/350], Loss: 1.8316, Accuracy: 25.00%, Validation Accuracy: 24.20%\n",
      "Epoch [2/10], Step [50/350], Loss: 1.8142, Accuracy: 28.12%, Validation Accuracy: 26.48%\n",
      "Epoch [2/10], Step [60/350], Loss: 1.9025, Accuracy: 31.25%, Validation Accuracy: 27.06%\n",
      "Epoch [2/10], Step [70/350], Loss: 1.9460, Accuracy: 28.12%, Validation Accuracy: 26.55%\n",
      "Epoch [2/10], Step [80/350], Loss: 1.8231, Accuracy: 28.12%, Validation Accuracy: 25.66%\n",
      "Epoch [2/10], Step [90/350], Loss: 1.8165, Accuracy: 21.88%, Validation Accuracy: 26.98%\n",
      "Epoch [2/10], Step [100/350], Loss: 1.8711, Accuracy: 31.25%, Validation Accuracy: 25.84%\n",
      "Epoch [2/10], Step [110/350], Loss: 2.1035, Accuracy: 6.25%, Validation Accuracy: 25.34%\n",
      "Epoch [2/10], Step [120/350], Loss: 1.8016, Accuracy: 28.12%, Validation Accuracy: 26.41%\n",
      "Epoch [2/10], Step [130/350], Loss: 1.8262, Accuracy: 40.62%, Validation Accuracy: 25.84%\n",
      "Epoch [2/10], Step [140/350], Loss: 1.8743, Accuracy: 18.75%, Validation Accuracy: 26.70%\n",
      "Epoch [2/10], Step [150/350], Loss: 1.9007, Accuracy: 25.00%, Validation Accuracy: 25.48%\n",
      "Epoch [2/10], Step [160/350], Loss: 1.8737, Accuracy: 21.88%, Validation Accuracy: 27.45%\n",
      "Epoch [2/10], Step [170/350], Loss: 1.9264, Accuracy: 31.25%, Validation Accuracy: 29.24%\n",
      "Epoch [2/10], Step [180/350], Loss: 1.8393, Accuracy: 25.00%, Validation Accuracy: 27.31%\n",
      "Epoch [2/10], Step [190/350], Loss: 1.7907, Accuracy: 31.25%, Validation Accuracy: 27.63%\n",
      "Epoch [2/10], Step [200/350], Loss: 1.7568, Accuracy: 34.38%, Validation Accuracy: 29.02%\n",
      "Epoch [2/10], Step [210/350], Loss: 1.6456, Accuracy: 46.88%, Validation Accuracy: 26.41%\n",
      "Epoch [2/10], Step [220/350], Loss: 1.8736, Accuracy: 18.75%, Validation Accuracy: 31.56%\n",
      "Epoch [2/10], Step [230/350], Loss: 1.7460, Accuracy: 34.38%, Validation Accuracy: 28.59%\n",
      "Epoch [2/10], Step [240/350], Loss: 1.7840, Accuracy: 37.50%, Validation Accuracy: 29.70%\n",
      "Epoch [2/10], Step [250/350], Loss: 1.6176, Accuracy: 37.50%, Validation Accuracy: 30.20%\n",
      "Epoch [2/10], Step [260/350], Loss: 2.0328, Accuracy: 18.75%, Validation Accuracy: 28.48%\n",
      "Epoch [2/10], Step [270/350], Loss: 1.8238, Accuracy: 25.00%, Validation Accuracy: 30.66%\n",
      "Epoch [2/10], Step [280/350], Loss: 1.7639, Accuracy: 25.00%, Validation Accuracy: 29.66%\n",
      "Epoch [2/10], Step [290/350], Loss: 1.9602, Accuracy: 21.88%, Validation Accuracy: 31.95%\n",
      "Epoch [2/10], Step [300/350], Loss: 1.8257, Accuracy: 31.25%, Validation Accuracy: 32.49%\n",
      "Epoch [2/10], Step [310/350], Loss: 1.9855, Accuracy: 25.00%, Validation Accuracy: 32.42%\n",
      "Epoch [2/10], Step [320/350], Loss: 1.5979, Accuracy: 37.50%, Validation Accuracy: 33.10%\n",
      "Epoch [2/10], Step [330/350], Loss: 1.6990, Accuracy: 34.38%, Validation Accuracy: 34.06%\n",
      "Epoch [2/10], Step [340/350], Loss: 1.6863, Accuracy: 40.62%, Validation Accuracy: 32.27%\n",
      "Epoch [2/10], Step [350/350], Loss: 1.8135, Accuracy: 32.14%, Validation Accuracy: 34.10%\n",
      "Epoch [3/10], Step [10/350], Loss: 1.7843, Accuracy: 37.50%, Validation Accuracy: 36.35%\n",
      "Epoch [3/10], Step [20/350], Loss: 1.7430, Accuracy: 28.12%, Validation Accuracy: 36.20%\n",
      "Epoch [3/10], Step [30/350], Loss: 1.5791, Accuracy: 46.88%, Validation Accuracy: 35.06%\n",
      "Epoch [3/10], Step [40/350], Loss: 1.8846, Accuracy: 25.00%, Validation Accuracy: 36.42%\n",
      "Epoch [3/10], Step [50/350], Loss: 1.7523, Accuracy: 40.62%, Validation Accuracy: 36.17%\n",
      "Epoch [3/10], Step [60/350], Loss: 1.7027, Accuracy: 31.25%, Validation Accuracy: 39.56%\n",
      "Epoch [3/10], Step [70/350], Loss: 1.5913, Accuracy: 37.50%, Validation Accuracy: 40.21%\n",
      "Epoch [3/10], Step [80/350], Loss: 1.7382, Accuracy: 21.88%, Validation Accuracy: 40.85%\n",
      "Epoch [3/10], Step [90/350], Loss: 1.7647, Accuracy: 34.38%, Validation Accuracy: 37.85%\n",
      "Epoch [3/10], Step [100/350], Loss: 1.7964, Accuracy: 25.00%, Validation Accuracy: 36.42%\n",
      "Epoch [3/10], Step [110/350], Loss: 1.7765, Accuracy: 31.25%, Validation Accuracy: 40.96%\n",
      "Epoch [3/10], Step [120/350], Loss: 1.7295, Accuracy: 31.25%, Validation Accuracy: 40.81%\n",
      "Epoch [3/10], Step [130/350], Loss: 1.3956, Accuracy: 50.00%, Validation Accuracy: 37.35%\n",
      "Epoch [3/10], Step [140/350], Loss: 1.5795, Accuracy: 37.50%, Validation Accuracy: 41.85%\n",
      "Epoch [3/10], Step [150/350], Loss: 1.3825, Accuracy: 43.75%, Validation Accuracy: 40.96%\n",
      "Epoch [3/10], Step [160/350], Loss: 1.8138, Accuracy: 28.12%, Validation Accuracy: 42.67%\n",
      "Epoch [3/10], Step [170/350], Loss: 1.5413, Accuracy: 53.12%, Validation Accuracy: 43.57%\n",
      "Epoch [3/10], Step [180/350], Loss: 1.8832, Accuracy: 28.12%, Validation Accuracy: 45.18%\n",
      "Epoch [3/10], Step [190/350], Loss: 1.5243, Accuracy: 34.38%, Validation Accuracy: 43.67%\n",
      "Epoch [3/10], Step [200/350], Loss: 1.5287, Accuracy: 43.75%, Validation Accuracy: 44.75%\n",
      "Epoch [3/10], Step [210/350], Loss: 1.6849, Accuracy: 37.50%, Validation Accuracy: 39.42%\n",
      "Epoch [3/10], Step [220/350], Loss: 1.6280, Accuracy: 40.62%, Validation Accuracy: 41.57%\n",
      "Epoch [3/10], Step [230/350], Loss: 1.6912, Accuracy: 40.62%, Validation Accuracy: 45.39%\n",
      "Epoch [3/10], Step [240/350], Loss: 1.3974, Accuracy: 50.00%, Validation Accuracy: 46.18%\n",
      "Epoch [3/10], Step [250/350], Loss: 1.3858, Accuracy: 50.00%, Validation Accuracy: 46.93%\n",
      "Epoch [3/10], Step [260/350], Loss: 1.6213, Accuracy: 40.62%, Validation Accuracy: 42.60%\n",
      "Epoch [3/10], Step [270/350], Loss: 1.3518, Accuracy: 56.25%, Validation Accuracy: 48.39%\n",
      "Epoch [3/10], Step [280/350], Loss: 1.5961, Accuracy: 34.38%, Validation Accuracy: 46.32%\n",
      "Epoch [3/10], Step [290/350], Loss: 1.4020, Accuracy: 43.75%, Validation Accuracy: 47.46%\n",
      "Epoch [3/10], Step [300/350], Loss: 1.7807, Accuracy: 28.12%, Validation Accuracy: 46.53%\n",
      "Epoch [3/10], Step [310/350], Loss: 1.2315, Accuracy: 43.75%, Validation Accuracy: 50.71%\n",
      "Epoch [3/10], Step [320/350], Loss: 1.3094, Accuracy: 37.50%, Validation Accuracy: 50.21%\n",
      "Epoch [3/10], Step [330/350], Loss: 1.4997, Accuracy: 40.62%, Validation Accuracy: 53.65%\n",
      "Epoch [3/10], Step [340/350], Loss: 1.1614, Accuracy: 62.50%, Validation Accuracy: 49.86%\n",
      "Epoch [3/10], Step [350/350], Loss: 1.2923, Accuracy: 53.57%, Validation Accuracy: 48.86%\n",
      "Epoch [4/10], Step [10/350], Loss: 1.4526, Accuracy: 46.88%, Validation Accuracy: 53.32%\n",
      "Epoch [4/10], Step [20/350], Loss: 1.2504, Accuracy: 56.25%, Validation Accuracy: 53.90%\n",
      "Epoch [4/10], Step [30/350], Loss: 1.4533, Accuracy: 43.75%, Validation Accuracy: 55.40%\n",
      "Epoch [4/10], Step [40/350], Loss: 1.5095, Accuracy: 37.50%, Validation Accuracy: 54.97%\n",
      "Epoch [4/10], Step [50/350], Loss: 1.4045, Accuracy: 46.88%, Validation Accuracy: 55.86%\n",
      "Epoch [4/10], Step [60/350], Loss: 1.3592, Accuracy: 53.12%, Validation Accuracy: 53.11%\n",
      "Epoch [4/10], Step [70/350], Loss: 1.1941, Accuracy: 43.75%, Validation Accuracy: 56.08%\n",
      "Epoch [4/10], Step [80/350], Loss: 1.2859, Accuracy: 56.25%, Validation Accuracy: 56.00%\n",
      "Epoch [4/10], Step [90/350], Loss: 1.2801, Accuracy: 40.62%, Validation Accuracy: 58.65%\n",
      "Epoch [4/10], Step [100/350], Loss: 1.1742, Accuracy: 56.25%, Validation Accuracy: 60.15%\n",
      "Epoch [4/10], Step [110/350], Loss: 1.2253, Accuracy: 56.25%, Validation Accuracy: 61.62%\n",
      "Epoch [4/10], Step [120/350], Loss: 1.4528, Accuracy: 40.62%, Validation Accuracy: 59.97%\n",
      "Epoch [4/10], Step [130/350], Loss: 1.3144, Accuracy: 46.88%, Validation Accuracy: 56.00%\n",
      "Epoch [4/10], Step [140/350], Loss: 1.2019, Accuracy: 56.25%, Validation Accuracy: 57.76%\n",
      "Epoch [4/10], Step [150/350], Loss: 1.0097, Accuracy: 68.75%, Validation Accuracy: 58.68%\n",
      "Epoch [4/10], Step [160/350], Loss: 1.1705, Accuracy: 56.25%, Validation Accuracy: 61.26%\n",
      "Epoch [4/10], Step [170/350], Loss: 1.2014, Accuracy: 50.00%, Validation Accuracy: 60.36%\n",
      "Epoch [4/10], Step [180/350], Loss: 0.9987, Accuracy: 65.62%, Validation Accuracy: 62.01%\n",
      "Epoch [4/10], Step [190/350], Loss: 1.0885, Accuracy: 56.25%, Validation Accuracy: 61.01%\n",
      "Epoch [4/10], Step [200/350], Loss: 1.0474, Accuracy: 62.50%, Validation Accuracy: 65.30%\n",
      "Epoch [4/10], Step [210/350], Loss: 0.9050, Accuracy: 68.75%, Validation Accuracy: 65.23%\n",
      "Epoch [4/10], Step [220/350], Loss: 1.4616, Accuracy: 50.00%, Validation Accuracy: 60.90%\n",
      "Epoch [4/10], Step [230/350], Loss: 0.8507, Accuracy: 75.00%, Validation Accuracy: 63.30%\n",
      "Epoch [4/10], Step [240/350], Loss: 1.1137, Accuracy: 50.00%, Validation Accuracy: 65.51%\n",
      "Epoch [4/10], Step [250/350], Loss: 0.9564, Accuracy: 65.62%, Validation Accuracy: 65.98%\n",
      "Epoch [4/10], Step [260/350], Loss: 1.2611, Accuracy: 43.75%, Validation Accuracy: 65.83%\n",
      "Epoch [4/10], Step [270/350], Loss: 1.0851, Accuracy: 59.38%, Validation Accuracy: 65.73%\n",
      "Epoch [4/10], Step [280/350], Loss: 1.3006, Accuracy: 43.75%, Validation Accuracy: 64.87%\n",
      "Epoch [4/10], Step [290/350], Loss: 0.9881, Accuracy: 59.38%, Validation Accuracy: 64.80%\n",
      "Epoch [4/10], Step [300/350], Loss: 0.9643, Accuracy: 68.75%, Validation Accuracy: 63.44%\n",
      "Epoch [4/10], Step [310/350], Loss: 0.6563, Accuracy: 78.12%, Validation Accuracy: 64.51%\n",
      "Epoch [4/10], Step [320/350], Loss: 0.8315, Accuracy: 65.62%, Validation Accuracy: 66.15%\n",
      "Epoch [4/10], Step [330/350], Loss: 0.8028, Accuracy: 68.75%, Validation Accuracy: 68.80%\n",
      "Epoch [4/10], Step [340/350], Loss: 1.1335, Accuracy: 62.50%, Validation Accuracy: 67.83%\n",
      "Epoch [4/10], Step [350/350], Loss: 0.5770, Accuracy: 85.71%, Validation Accuracy: 65.55%\n",
      "Epoch [5/10], Step [10/350], Loss: 0.7973, Accuracy: 62.50%, Validation Accuracy: 69.26%\n",
      "Epoch [5/10], Step [20/350], Loss: 0.9895, Accuracy: 59.38%, Validation Accuracy: 68.19%\n",
      "Epoch [5/10], Step [30/350], Loss: 0.7209, Accuracy: 78.12%, Validation Accuracy: 68.91%\n",
      "Epoch [5/10], Step [40/350], Loss: 0.8169, Accuracy: 68.75%, Validation Accuracy: 69.69%\n",
      "Epoch [5/10], Step [50/350], Loss: 0.8349, Accuracy: 65.62%, Validation Accuracy: 69.51%\n",
      "Epoch [5/10], Step [60/350], Loss: 1.2578, Accuracy: 56.25%, Validation Accuracy: 67.16%\n",
      "Epoch [5/10], Step [70/350], Loss: 1.0994, Accuracy: 68.75%, Validation Accuracy: 70.94%\n",
      "Epoch [5/10], Step [80/350], Loss: 0.7848, Accuracy: 65.62%, Validation Accuracy: 70.76%\n",
      "Epoch [5/10], Step [90/350], Loss: 0.6910, Accuracy: 71.88%, Validation Accuracy: 70.44%\n",
      "Epoch [5/10], Step [100/350], Loss: 0.7983, Accuracy: 71.88%, Validation Accuracy: 71.02%\n",
      "Epoch [5/10], Step [110/350], Loss: 0.9812, Accuracy: 65.62%, Validation Accuracy: 71.19%\n",
      "Epoch [5/10], Step [120/350], Loss: 1.0250, Accuracy: 59.38%, Validation Accuracy: 69.01%\n",
      "Epoch [5/10], Step [130/350], Loss: 0.8258, Accuracy: 75.00%, Validation Accuracy: 71.94%\n",
      "Epoch [5/10], Step [140/350], Loss: 0.6857, Accuracy: 71.88%, Validation Accuracy: 71.23%\n",
      "Epoch [5/10], Step [150/350], Loss: 0.7730, Accuracy: 75.00%, Validation Accuracy: 72.84%\n",
      "Epoch [5/10], Step [160/350], Loss: 0.7479, Accuracy: 71.88%, Validation Accuracy: 72.09%\n",
      "Epoch [5/10], Step [170/350], Loss: 0.9224, Accuracy: 65.62%, Validation Accuracy: 75.73%\n",
      "Epoch [5/10], Step [180/350], Loss: 1.1691, Accuracy: 53.12%, Validation Accuracy: 73.77%\n",
      "Epoch [5/10], Step [190/350], Loss: 0.8428, Accuracy: 68.75%, Validation Accuracy: 75.13%\n",
      "Epoch [5/10], Step [200/350], Loss: 0.8344, Accuracy: 65.62%, Validation Accuracy: 74.05%\n",
      "Epoch [5/10], Step [210/350], Loss: 0.9432, Accuracy: 62.50%, Validation Accuracy: 69.98%\n",
      "Epoch [5/10], Step [220/350], Loss: 1.1471, Accuracy: 59.38%, Validation Accuracy: 76.30%\n",
      "Epoch [5/10], Step [230/350], Loss: 0.7597, Accuracy: 78.12%, Validation Accuracy: 73.20%\n",
      "Epoch [5/10], Step [240/350], Loss: 0.6595, Accuracy: 75.00%, Validation Accuracy: 73.84%\n",
      "Epoch [5/10], Step [250/350], Loss: 0.5573, Accuracy: 81.25%, Validation Accuracy: 75.80%\n",
      "Epoch [5/10], Step [260/350], Loss: 0.9020, Accuracy: 68.75%, Validation Accuracy: 73.52%\n",
      "Epoch [5/10], Step [270/350], Loss: 0.6830, Accuracy: 75.00%, Validation Accuracy: 75.95%\n",
      "Epoch [5/10], Step [280/350], Loss: 0.5515, Accuracy: 78.12%, Validation Accuracy: 78.27%\n",
      "Epoch [5/10], Step [290/350], Loss: 0.7413, Accuracy: 65.62%, Validation Accuracy: 75.73%\n",
      "Epoch [5/10], Step [300/350], Loss: 0.6623, Accuracy: 75.00%, Validation Accuracy: 76.45%\n",
      "Epoch [5/10], Step [310/350], Loss: 0.7020, Accuracy: 78.12%, Validation Accuracy: 76.30%\n",
      "Epoch [5/10], Step [320/350], Loss: 0.8596, Accuracy: 65.62%, Validation Accuracy: 78.52%\n",
      "Epoch [5/10], Step [330/350], Loss: 0.4561, Accuracy: 87.50%, Validation Accuracy: 77.52%\n",
      "Epoch [5/10], Step [340/350], Loss: 0.8551, Accuracy: 62.50%, Validation Accuracy: 76.13%\n",
      "Epoch [5/10], Step [350/350], Loss: 0.5780, Accuracy: 71.43%, Validation Accuracy: 77.98%\n",
      "Epoch [6/10], Step [10/350], Loss: 0.9340, Accuracy: 68.75%, Validation Accuracy: 78.66%\n",
      "Epoch [6/10], Step [20/350], Loss: 0.4746, Accuracy: 75.00%, Validation Accuracy: 76.34%\n",
      "Epoch [6/10], Step [30/350], Loss: 0.4408, Accuracy: 90.62%, Validation Accuracy: 77.77%\n",
      "Epoch [6/10], Step [40/350], Loss: 0.7170, Accuracy: 71.88%, Validation Accuracy: 77.84%\n",
      "Epoch [6/10], Step [50/350], Loss: 0.9399, Accuracy: 75.00%, Validation Accuracy: 80.59%\n",
      "Epoch [6/10], Step [60/350], Loss: 0.6256, Accuracy: 78.12%, Validation Accuracy: 78.27%\n",
      "Epoch [6/10], Step [70/350], Loss: 0.9967, Accuracy: 65.62%, Validation Accuracy: 78.13%\n",
      "Epoch [6/10], Step [80/350], Loss: 0.7628, Accuracy: 71.88%, Validation Accuracy: 78.06%\n",
      "Epoch [6/10], Step [90/350], Loss: 0.7914, Accuracy: 68.75%, Validation Accuracy: 80.41%\n",
      "Epoch [6/10], Step [100/350], Loss: 0.6417, Accuracy: 75.00%, Validation Accuracy: 78.20%\n",
      "Epoch [6/10], Step [110/350], Loss: 0.7458, Accuracy: 59.38%, Validation Accuracy: 81.09%\n",
      "Epoch [6/10], Step [120/350], Loss: 0.6186, Accuracy: 78.12%, Validation Accuracy: 79.88%\n",
      "Epoch [6/10], Step [130/350], Loss: 0.5968, Accuracy: 71.88%, Validation Accuracy: 83.49%\n",
      "Epoch [6/10], Step [140/350], Loss: 0.7895, Accuracy: 71.88%, Validation Accuracy: 82.99%\n",
      "Epoch [6/10], Step [150/350], Loss: 0.5216, Accuracy: 71.88%, Validation Accuracy: 80.70%\n",
      "Epoch [6/10], Step [160/350], Loss: 0.6569, Accuracy: 78.12%, Validation Accuracy: 80.59%\n",
      "Epoch [6/10], Step [170/350], Loss: 0.5866, Accuracy: 75.00%, Validation Accuracy: 78.31%\n",
      "Epoch [6/10], Step [180/350], Loss: 0.5066, Accuracy: 78.12%, Validation Accuracy: 81.63%\n",
      "Epoch [6/10], Step [190/350], Loss: 0.6022, Accuracy: 75.00%, Validation Accuracy: 82.42%\n",
      "Epoch [6/10], Step [200/350], Loss: 0.4663, Accuracy: 84.38%, Validation Accuracy: 82.92%\n",
      "Epoch [6/10], Step [210/350], Loss: 0.5544, Accuracy: 78.12%, Validation Accuracy: 83.02%\n",
      "Epoch [6/10], Step [220/350], Loss: 0.4750, Accuracy: 81.25%, Validation Accuracy: 84.63%\n",
      "Epoch [6/10], Step [230/350], Loss: 0.6346, Accuracy: 78.12%, Validation Accuracy: 82.45%\n",
      "Epoch [6/10], Step [240/350], Loss: 0.6249, Accuracy: 84.38%, Validation Accuracy: 83.42%\n",
      "Epoch [6/10], Step [250/350], Loss: 0.4259, Accuracy: 84.38%, Validation Accuracy: 83.06%\n",
      "Epoch [6/10], Step [260/350], Loss: 0.6320, Accuracy: 75.00%, Validation Accuracy: 83.20%\n",
      "Epoch [6/10], Step [270/350], Loss: 0.2795, Accuracy: 90.62%, Validation Accuracy: 80.84%\n",
      "Epoch [6/10], Step [280/350], Loss: 0.6592, Accuracy: 81.25%, Validation Accuracy: 84.27%\n",
      "Epoch [6/10], Step [290/350], Loss: 0.4035, Accuracy: 90.62%, Validation Accuracy: 84.24%\n",
      "Epoch [6/10], Step [300/350], Loss: 0.4935, Accuracy: 71.88%, Validation Accuracy: 83.42%\n",
      "Epoch [6/10], Step [310/350], Loss: 0.4460, Accuracy: 93.75%, Validation Accuracy: 85.56%\n",
      "Epoch [6/10], Step [320/350], Loss: 0.4853, Accuracy: 87.50%, Validation Accuracy: 84.92%\n",
      "Epoch [6/10], Step [330/350], Loss: 0.9928, Accuracy: 75.00%, Validation Accuracy: 84.99%\n",
      "Epoch [6/10], Step [340/350], Loss: 0.5407, Accuracy: 81.25%, Validation Accuracy: 84.13%\n",
      "Epoch [6/10], Step [350/350], Loss: 0.3666, Accuracy: 89.29%, Validation Accuracy: 85.95%\n",
      "Epoch [7/10], Step [10/350], Loss: 0.4707, Accuracy: 84.38%, Validation Accuracy: 86.35%\n",
      "Epoch [7/10], Step [20/350], Loss: 0.3563, Accuracy: 90.62%, Validation Accuracy: 83.52%\n",
      "Epoch [7/10], Step [30/350], Loss: 0.4318, Accuracy: 87.50%, Validation Accuracy: 83.13%\n",
      "Epoch [7/10], Step [40/350], Loss: 0.5100, Accuracy: 90.62%, Validation Accuracy: 87.60%\n",
      "Epoch [7/10], Step [50/350], Loss: 0.3050, Accuracy: 93.75%, Validation Accuracy: 84.10%\n",
      "Epoch [7/10], Step [60/350], Loss: 0.3841, Accuracy: 87.50%, Validation Accuracy: 85.60%\n",
      "Epoch [7/10], Step [70/350], Loss: 0.5120, Accuracy: 84.38%, Validation Accuracy: 85.95%\n",
      "Epoch [7/10], Step [80/350], Loss: 0.5472, Accuracy: 78.12%, Validation Accuracy: 85.49%\n",
      "Epoch [7/10], Step [90/350], Loss: 0.4662, Accuracy: 90.62%, Validation Accuracy: 83.99%\n",
      "Epoch [7/10], Step [100/350], Loss: 0.1613, Accuracy: 96.88%, Validation Accuracy: 85.03%\n",
      "Epoch [7/10], Step [110/350], Loss: 0.6494, Accuracy: 68.75%, Validation Accuracy: 85.67%\n",
      "Epoch [7/10], Step [120/350], Loss: 0.3896, Accuracy: 81.25%, Validation Accuracy: 86.17%\n",
      "Epoch [7/10], Step [130/350], Loss: 0.4705, Accuracy: 81.25%, Validation Accuracy: 86.20%\n",
      "Epoch [7/10], Step [140/350], Loss: 0.5751, Accuracy: 84.38%, Validation Accuracy: 88.10%\n",
      "Epoch [7/10], Step [150/350], Loss: 0.4523, Accuracy: 90.62%, Validation Accuracy: 87.28%\n",
      "Epoch [7/10], Step [160/350], Loss: 0.7394, Accuracy: 71.88%, Validation Accuracy: 86.13%\n",
      "Epoch [7/10], Step [170/350], Loss: 0.4207, Accuracy: 87.50%, Validation Accuracy: 86.28%\n",
      "Epoch [7/10], Step [180/350], Loss: 0.7904, Accuracy: 68.75%, Validation Accuracy: 87.35%\n",
      "Epoch [7/10], Step [190/350], Loss: 0.3560, Accuracy: 90.62%, Validation Accuracy: 85.10%\n",
      "Epoch [7/10], Step [200/350], Loss: 0.2489, Accuracy: 90.62%, Validation Accuracy: 88.71%\n",
      "Epoch [7/10], Step [210/350], Loss: 0.4148, Accuracy: 84.38%, Validation Accuracy: 87.21%\n",
      "Epoch [7/10], Step [220/350], Loss: 0.5004, Accuracy: 87.50%, Validation Accuracy: 87.81%\n",
      "Epoch [7/10], Step [230/350], Loss: 0.5631, Accuracy: 75.00%, Validation Accuracy: 87.49%\n",
      "Epoch [7/10], Step [240/350], Loss: 0.4671, Accuracy: 84.38%, Validation Accuracy: 88.60%\n",
      "Epoch [7/10], Step [250/350], Loss: 0.4110, Accuracy: 87.50%, Validation Accuracy: 88.92%\n",
      "Epoch [7/10], Step [260/350], Loss: 0.3716, Accuracy: 81.25%, Validation Accuracy: 87.31%\n",
      "Epoch [7/10], Step [270/350], Loss: 0.4194, Accuracy: 87.50%, Validation Accuracy: 89.10%\n",
      "Epoch [7/10], Step [280/350], Loss: 0.4852, Accuracy: 78.12%, Validation Accuracy: 86.92%\n",
      "Epoch [7/10], Step [290/350], Loss: 0.3799, Accuracy: 87.50%, Validation Accuracy: 89.03%\n",
      "Epoch [7/10], Step [300/350], Loss: 0.5811, Accuracy: 81.25%, Validation Accuracy: 88.63%\n",
      "Epoch [7/10], Step [310/350], Loss: 0.4832, Accuracy: 81.25%, Validation Accuracy: 88.53%\n",
      "Epoch [7/10], Step [320/350], Loss: 0.6149, Accuracy: 84.38%, Validation Accuracy: 87.17%\n",
      "Epoch [7/10], Step [330/350], Loss: 0.3774, Accuracy: 78.12%, Validation Accuracy: 88.85%\n",
      "Epoch [7/10], Step [340/350], Loss: 0.3767, Accuracy: 87.50%, Validation Accuracy: 87.60%\n",
      "Epoch [7/10], Step [350/350], Loss: 0.5924, Accuracy: 82.14%, Validation Accuracy: 89.46%\n",
      "Epoch [8/10], Step [10/350], Loss: 0.3281, Accuracy: 84.38%, Validation Accuracy: 89.53%\n",
      "Epoch [8/10], Step [20/350], Loss: 0.3571, Accuracy: 90.62%, Validation Accuracy: 90.42%\n",
      "Epoch [8/10], Step [30/350], Loss: 0.3762, Accuracy: 90.62%, Validation Accuracy: 90.64%\n",
      "Epoch [8/10], Step [40/350], Loss: 0.4507, Accuracy: 78.12%, Validation Accuracy: 89.06%\n",
      "Epoch [8/10], Step [50/350], Loss: 0.4154, Accuracy: 81.25%, Validation Accuracy: 90.21%\n",
      "Epoch [8/10], Step [60/350], Loss: 0.2727, Accuracy: 93.75%, Validation Accuracy: 89.53%\n",
      "Epoch [8/10], Step [70/350], Loss: 0.4749, Accuracy: 87.50%, Validation Accuracy: 90.89%\n",
      "Epoch [8/10], Step [80/350], Loss: 0.2619, Accuracy: 93.75%, Validation Accuracy: 90.46%\n",
      "Epoch [8/10], Step [90/350], Loss: 0.5420, Accuracy: 84.38%, Validation Accuracy: 90.89%\n",
      "Epoch [8/10], Step [100/350], Loss: 0.4363, Accuracy: 87.50%, Validation Accuracy: 88.99%\n",
      "Epoch [8/10], Step [110/350], Loss: 0.4021, Accuracy: 84.38%, Validation Accuracy: 90.60%\n",
      "Epoch [8/10], Step [120/350], Loss: 0.4030, Accuracy: 90.62%, Validation Accuracy: 89.35%\n",
      "Epoch [8/10], Step [130/350], Loss: 0.3047, Accuracy: 93.75%, Validation Accuracy: 91.21%\n",
      "Epoch [8/10], Step [140/350], Loss: 0.3376, Accuracy: 87.50%, Validation Accuracy: 90.53%\n",
      "Epoch [8/10], Step [150/350], Loss: 0.3981, Accuracy: 81.25%, Validation Accuracy: 90.85%\n",
      "Epoch [8/10], Step [160/350], Loss: 0.3844, Accuracy: 87.50%, Validation Accuracy: 91.71%\n",
      "Epoch [8/10], Step [170/350], Loss: 0.3419, Accuracy: 87.50%, Validation Accuracy: 90.85%\n",
      "Epoch [8/10], Step [180/350], Loss: 0.4725, Accuracy: 81.25%, Validation Accuracy: 90.81%\n",
      "Epoch [8/10], Step [190/350], Loss: 0.4925, Accuracy: 81.25%, Validation Accuracy: 91.14%\n",
      "Epoch [8/10], Step [200/350], Loss: 0.3913, Accuracy: 84.38%, Validation Accuracy: 91.21%\n",
      "Epoch [8/10], Step [210/350], Loss: 0.1545, Accuracy: 96.88%, Validation Accuracy: 90.21%\n",
      "Epoch [8/10], Step [220/350], Loss: 0.2952, Accuracy: 87.50%, Validation Accuracy: 91.74%\n",
      "Epoch [8/10], Step [230/350], Loss: 0.5954, Accuracy: 75.00%, Validation Accuracy: 91.32%\n",
      "Epoch [8/10], Step [240/350], Loss: 0.3557, Accuracy: 90.62%, Validation Accuracy: 92.28%\n",
      "Epoch [8/10], Step [250/350], Loss: 0.2703, Accuracy: 93.75%, Validation Accuracy: 91.92%\n",
      "Epoch [8/10], Step [260/350], Loss: 0.1537, Accuracy: 96.88%, Validation Accuracy: 91.46%\n",
      "Epoch [8/10], Step [270/350], Loss: 0.5049, Accuracy: 81.25%, Validation Accuracy: 91.53%\n",
      "Epoch [8/10], Step [280/350], Loss: 0.4490, Accuracy: 84.38%, Validation Accuracy: 91.03%\n",
      "Epoch [8/10], Step [290/350], Loss: 0.2786, Accuracy: 90.62%, Validation Accuracy: 91.64%\n",
      "Epoch [8/10], Step [300/350], Loss: 0.2640, Accuracy: 87.50%, Validation Accuracy: 91.78%\n",
      "Epoch [8/10], Step [310/350], Loss: 0.2442, Accuracy: 93.75%, Validation Accuracy: 91.67%\n",
      "Epoch [8/10], Step [320/350], Loss: 0.3888, Accuracy: 87.50%, Validation Accuracy: 92.03%\n",
      "Epoch [8/10], Step [330/350], Loss: 0.2433, Accuracy: 96.88%, Validation Accuracy: 89.10%\n",
      "Epoch [8/10], Step [340/350], Loss: 0.4479, Accuracy: 84.38%, Validation Accuracy: 89.31%\n",
      "Epoch [8/10], Step [350/350], Loss: 0.3424, Accuracy: 92.86%, Validation Accuracy: 90.89%\n",
      "Epoch [9/10], Step [10/350], Loss: 0.2742, Accuracy: 84.38%, Validation Accuracy: 89.81%\n",
      "Epoch [9/10], Step [20/350], Loss: 0.3963, Accuracy: 90.62%, Validation Accuracy: 92.17%\n",
      "Epoch [9/10], Step [30/350], Loss: 0.2267, Accuracy: 90.62%, Validation Accuracy: 92.57%\n",
      "Epoch [9/10], Step [40/350], Loss: 0.1669, Accuracy: 96.88%, Validation Accuracy: 92.42%\n",
      "Epoch [9/10], Step [50/350], Loss: 0.2482, Accuracy: 93.75%, Validation Accuracy: 91.89%\n",
      "Epoch [9/10], Step [60/350], Loss: 0.1145, Accuracy: 96.88%, Validation Accuracy: 91.71%\n",
      "Epoch [9/10], Step [70/350], Loss: 0.1745, Accuracy: 96.88%, Validation Accuracy: 92.53%\n",
      "Epoch [9/10], Step [80/350], Loss: 0.3958, Accuracy: 81.25%, Validation Accuracy: 92.35%\n",
      "Epoch [9/10], Step [90/350], Loss: 0.1723, Accuracy: 93.75%, Validation Accuracy: 92.78%\n",
      "Epoch [9/10], Step [100/350], Loss: 0.3353, Accuracy: 87.50%, Validation Accuracy: 92.14%\n",
      "Epoch [9/10], Step [110/350], Loss: 0.5973, Accuracy: 81.25%, Validation Accuracy: 93.67%\n",
      "Epoch [9/10], Step [120/350], Loss: 0.3411, Accuracy: 87.50%, Validation Accuracy: 92.28%\n",
      "Epoch [9/10], Step [130/350], Loss: 0.2024, Accuracy: 96.88%, Validation Accuracy: 92.32%\n",
      "Epoch [9/10], Step [140/350], Loss: 0.1378, Accuracy: 96.88%, Validation Accuracy: 92.24%\n",
      "Epoch [9/10], Step [150/350], Loss: 0.1210, Accuracy: 96.88%, Validation Accuracy: 93.10%\n",
      "Epoch [9/10], Step [160/350], Loss: 0.1579, Accuracy: 93.75%, Validation Accuracy: 90.53%\n",
      "Epoch [9/10], Step [170/350], Loss: 0.1852, Accuracy: 93.75%, Validation Accuracy: 92.96%\n",
      "Epoch [9/10], Step [180/350], Loss: 0.2386, Accuracy: 93.75%, Validation Accuracy: 92.32%\n",
      "Epoch [9/10], Step [190/350], Loss: 0.2762, Accuracy: 90.62%, Validation Accuracy: 92.67%\n",
      "Epoch [9/10], Step [200/350], Loss: 0.3726, Accuracy: 84.38%, Validation Accuracy: 93.42%\n",
      "Epoch [9/10], Step [210/350], Loss: 0.4117, Accuracy: 87.50%, Validation Accuracy: 92.71%\n",
      "Epoch [9/10], Step [220/350], Loss: 0.3432, Accuracy: 87.50%, Validation Accuracy: 93.10%\n",
      "Epoch [9/10], Step [230/350], Loss: 0.2184, Accuracy: 93.75%, Validation Accuracy: 90.39%\n",
      "Epoch [9/10], Step [240/350], Loss: 0.2167, Accuracy: 90.62%, Validation Accuracy: 91.21%\n",
      "Epoch [9/10], Step [250/350], Loss: 0.3150, Accuracy: 87.50%, Validation Accuracy: 92.71%\n",
      "Epoch [9/10], Step [260/350], Loss: 0.3141, Accuracy: 87.50%, Validation Accuracy: 92.14%\n",
      "Epoch [9/10], Step [270/350], Loss: 0.4692, Accuracy: 78.12%, Validation Accuracy: 90.71%\n",
      "Epoch [9/10], Step [280/350], Loss: 0.3008, Accuracy: 87.50%, Validation Accuracy: 93.57%\n",
      "Epoch [9/10], Step [290/350], Loss: 0.0726, Accuracy: 100.00%, Validation Accuracy: 93.92%\n",
      "Epoch [9/10], Step [300/350], Loss: 0.2893, Accuracy: 90.62%, Validation Accuracy: 93.71%\n",
      "Epoch [9/10], Step [310/350], Loss: 0.3835, Accuracy: 84.38%, Validation Accuracy: 94.46%\n",
      "Epoch [9/10], Step [320/350], Loss: 0.2193, Accuracy: 90.62%, Validation Accuracy: 94.10%\n",
      "Epoch [9/10], Step [330/350], Loss: 0.3959, Accuracy: 90.62%, Validation Accuracy: 93.42%\n",
      "Epoch [9/10], Step [340/350], Loss: 0.3024, Accuracy: 90.62%, Validation Accuracy: 92.46%\n",
      "Epoch [9/10], Step [350/350], Loss: 0.2517, Accuracy: 96.43%, Validation Accuracy: 93.71%\n",
      "Epoch [10/10], Step [10/350], Loss: 0.4354, Accuracy: 81.25%, Validation Accuracy: 91.92%\n",
      "Epoch [10/10], Step [20/350], Loss: 0.2578, Accuracy: 90.62%, Validation Accuracy: 89.92%\n",
      "Epoch [10/10], Step [30/350], Loss: 0.2211, Accuracy: 96.88%, Validation Accuracy: 92.71%\n",
      "Epoch [10/10], Step [40/350], Loss: 0.2827, Accuracy: 90.62%, Validation Accuracy: 91.24%\n",
      "Epoch [10/10], Step [50/350], Loss: 0.3346, Accuracy: 90.62%, Validation Accuracy: 93.71%\n",
      "Epoch [10/10], Step [60/350], Loss: 0.4499, Accuracy: 84.38%, Validation Accuracy: 92.46%\n",
      "Epoch [10/10], Step [70/350], Loss: 0.2858, Accuracy: 87.50%, Validation Accuracy: 94.28%\n",
      "Epoch [10/10], Step [80/350], Loss: 0.3277, Accuracy: 84.38%, Validation Accuracy: 93.42%\n",
      "Epoch [10/10], Step [90/350], Loss: 0.2422, Accuracy: 87.50%, Validation Accuracy: 93.71%\n",
      "Epoch [10/10], Step [100/350], Loss: 0.1095, Accuracy: 96.88%, Validation Accuracy: 94.50%\n",
      "Epoch [10/10], Step [110/350], Loss: 0.1271, Accuracy: 96.88%, Validation Accuracy: 93.25%\n",
      "Epoch [10/10], Step [120/350], Loss: 0.2441, Accuracy: 87.50%, Validation Accuracy: 93.67%\n",
      "Epoch [10/10], Step [130/350], Loss: 0.1596, Accuracy: 93.75%, Validation Accuracy: 91.99%\n",
      "Epoch [10/10], Step [140/350], Loss: 0.2196, Accuracy: 87.50%, Validation Accuracy: 94.42%\n",
      "Epoch [10/10], Step [150/350], Loss: 0.3230, Accuracy: 87.50%, Validation Accuracy: 93.85%\n",
      "Epoch [10/10], Step [160/350], Loss: 0.3114, Accuracy: 87.50%, Validation Accuracy: 94.85%\n",
      "Epoch [10/10], Step [170/350], Loss: 0.1847, Accuracy: 93.75%, Validation Accuracy: 95.03%\n",
      "Epoch [10/10], Step [180/350], Loss: 0.1769, Accuracy: 93.75%, Validation Accuracy: 93.46%\n",
      "Epoch [10/10], Step [190/350], Loss: 0.3598, Accuracy: 87.50%, Validation Accuracy: 94.39%\n",
      "Epoch [10/10], Step [200/350], Loss: 0.2793, Accuracy: 87.50%, Validation Accuracy: 94.32%\n",
      "Epoch [10/10], Step [210/350], Loss: 0.1338, Accuracy: 96.88%, Validation Accuracy: 93.10%\n",
      "Epoch [10/10], Step [220/350], Loss: 0.1946, Accuracy: 90.62%, Validation Accuracy: 94.53%\n",
      "Epoch [10/10], Step [230/350], Loss: 0.1316, Accuracy: 96.88%, Validation Accuracy: 93.32%\n",
      "Epoch [10/10], Step [240/350], Loss: 0.1064, Accuracy: 96.88%, Validation Accuracy: 94.03%\n",
      "Epoch [10/10], Step [250/350], Loss: 0.2083, Accuracy: 93.75%, Validation Accuracy: 94.92%\n",
      "Epoch [10/10], Step [260/350], Loss: 0.3884, Accuracy: 90.62%, Validation Accuracy: 95.28%\n",
      "Epoch [10/10], Step [270/350], Loss: 0.1654, Accuracy: 93.75%, Validation Accuracy: 94.10%\n",
      "Epoch [10/10], Step [280/350], Loss: 0.1479, Accuracy: 96.88%, Validation Accuracy: 95.10%\n",
      "Epoch [10/10], Step [290/350], Loss: 0.2452, Accuracy: 87.50%, Validation Accuracy: 94.60%\n",
      "Epoch [10/10], Step [300/350], Loss: 0.3256, Accuracy: 84.38%, Validation Accuracy: 94.64%\n",
      "Epoch [10/10], Step [310/350], Loss: 0.2649, Accuracy: 90.62%, Validation Accuracy: 94.78%\n",
      "Epoch [10/10], Step [320/350], Loss: 0.0994, Accuracy: 100.00%, Validation Accuracy: 94.60%\n",
      "Epoch [10/10], Step [330/350], Loss: 0.1704, Accuracy: 93.75%, Validation Accuracy: 94.03%\n",
      "Epoch [10/10], Step [340/350], Loss: 0.3572, Accuracy: 81.25%, Validation Accuracy: 94.17%\n",
      "Epoch [10/10], Step [350/350], Loss: 0.2448, Accuracy: 89.29%, Validation Accuracy: 93.57%\n",
      "######## Training Finished in 18676.12699365616 seconds ###########\n",
      "/n/n Saving model at:  /content/drive/My Drive/6721 Dataset/vgg11model_d3.pt\n"
     ]
    }
   ],
   "source": [
    "model_savepath = savepath+\"vgg11model_d3.pt\"\n",
    "results_savepath = savepath+\"vgg11model_d3_results.pkb\"\n",
    "\n",
    "trained_VGG11_model, device = train_model(VGG11_model, num_epochs, train_loader, criterion, optimizer, model_savepath, results_savepath, device)"
   ]
  },
  {
   "cell_type": "code",
   "execution_count": null,
   "metadata": {
    "colab": {
     "base_uri": "https://localhost:8080/"
    },
    "execution": {
     "iopub.status.busy": "2022-11-13T18:08:06.230023Z",
     "iopub.status.idle": "2022-11-13T18:08:06.230550Z",
     "shell.execute_reply": "2022-11-13T18:08:06.230308Z",
     "shell.execute_reply.started": "2022-11-13T18:08:06.230282Z"
    },
    "id": "hTFDbEzh-kGJ",
    "outputId": "07c8f997-14cc-4e00-c9f2-118a134fb087"
   },
   "outputs": [
    {
     "name": "stdout",
     "output_type": "stream",
     "text": [
      "Model Evaluation Results on 4590 test samples\n",
      "Test Accuracy:  92.94117647058823\n",
      "Test F1 Score:  tensor(0.9294)\n"
     ]
    }
   ],
   "source": [
    "evaluate_model(trained_VGG11_model, test_loader, device, nclasses)"
   ]
  },
  {
   "cell_type": "markdown",
   "metadata": {
    "id": "x8QGSudN3rfQ"
   },
   "source": [
    "Architecture 3: ResNet-18"
   ]
  },
  {
   "cell_type": "markdown",
   "metadata": {
    "id": "ykyHhgTj_7gY"
   },
   "source": [
    "on dataset 1:"
   ]
  },
  {
   "cell_type": "code",
   "execution_count": null,
   "metadata": {
    "execution": {
     "iopub.execute_input": "2022-11-13T18:14:39.291861Z",
     "iopub.status.busy": "2022-11-13T18:14:39.291498Z",
     "iopub.status.idle": "2022-11-13T18:14:39.296504Z",
     "shell.execute_reply": "2022-11-13T18:14:39.295419Z",
     "shell.execute_reply.started": "2022-11-13T18:14:39.291831Z"
    },
    "id": "KbxKzoP2N-wF"
   },
   "outputs": [],
   "source": [
    "nclasses=15"
   ]
  },
  {
   "cell_type": "code",
   "execution_count": null,
   "metadata": {
    "execution": {
     "iopub.execute_input": "2022-11-13T18:14:39.655586Z",
     "iopub.status.busy": "2022-11-13T18:14:39.654580Z",
     "iopub.status.idle": "2022-11-13T18:14:39.834956Z",
     "shell.execute_reply": "2022-11-13T18:14:39.833770Z",
     "shell.execute_reply.started": "2022-11-13T18:14:39.655547Z"
    },
    "id": "sjeyUpF53r6L",
    "outputId": "3245f470-5281-4267-8f79-e8e23d7c8790"
   },
   "outputs": [
    {
     "name": "stderr",
     "output_type": "stream",
     "text": [
      "Using cache found in /root/.cache/torch/hub/pytorch_vision_v0.10.0\n"
     ]
    }
   ],
   "source": [
    "ResNet_model = torch.hub.load('pytorch/vision:v0.10.0', 'resnet18', pretrained=False)"
   ]
  },
  {
   "cell_type": "code",
   "execution_count": null,
   "metadata": {
    "execution": {
     "iopub.execute_input": "2022-11-13T18:14:40.135057Z",
     "iopub.status.busy": "2022-11-13T18:14:40.134654Z",
     "iopub.status.idle": "2022-11-13T18:14:40.140997Z",
     "shell.execute_reply": "2022-11-13T18:14:40.138982Z",
     "shell.execute_reply.started": "2022-11-13T18:14:40.135013Z"
    },
    "id": "jZz850Gk4P_f"
   },
   "outputs": [],
   "source": [
    "ResNet_model.fc = nn.Linear( 512, nclasses)"
   ]
  },
  {
   "cell_type": "code",
   "execution_count": null,
   "metadata": {
    "execution": {
     "iopub.execute_input": "2022-11-13T18:14:41.011064Z",
     "iopub.status.busy": "2022-11-13T18:14:41.010357Z",
     "iopub.status.idle": "2022-11-13T18:14:41.018656Z",
     "shell.execute_reply": "2022-11-13T18:14:41.017701Z",
     "shell.execute_reply.started": "2022-11-13T18:14:41.011027Z"
    },
    "id": "P1niUp7-3ucX",
    "outputId": "46b7d327-13e0-4e2f-b744-5b28b279b71b"
   },
   "outputs": [
    {
     "data": {
      "text/plain": [
       "ResNet(\n",
       "  (conv1): Conv2d(3, 64, kernel_size=(7, 7), stride=(2, 2), padding=(3, 3), bias=False)\n",
       "  (bn1): BatchNorm2d(64, eps=1e-05, momentum=0.1, affine=True, track_running_stats=True)\n",
       "  (relu): ReLU(inplace=True)\n",
       "  (maxpool): MaxPool2d(kernel_size=3, stride=2, padding=1, dilation=1, ceil_mode=False)\n",
       "  (layer1): Sequential(\n",
       "    (0): BasicBlock(\n",
       "      (conv1): Conv2d(64, 64, kernel_size=(3, 3), stride=(1, 1), padding=(1, 1), bias=False)\n",
       "      (bn1): BatchNorm2d(64, eps=1e-05, momentum=0.1, affine=True, track_running_stats=True)\n",
       "      (relu): ReLU(inplace=True)\n",
       "      (conv2): Conv2d(64, 64, kernel_size=(3, 3), stride=(1, 1), padding=(1, 1), bias=False)\n",
       "      (bn2): BatchNorm2d(64, eps=1e-05, momentum=0.1, affine=True, track_running_stats=True)\n",
       "    )\n",
       "    (1): BasicBlock(\n",
       "      (conv1): Conv2d(64, 64, kernel_size=(3, 3), stride=(1, 1), padding=(1, 1), bias=False)\n",
       "      (bn1): BatchNorm2d(64, eps=1e-05, momentum=0.1, affine=True, track_running_stats=True)\n",
       "      (relu): ReLU(inplace=True)\n",
       "      (conv2): Conv2d(64, 64, kernel_size=(3, 3), stride=(1, 1), padding=(1, 1), bias=False)\n",
       "      (bn2): BatchNorm2d(64, eps=1e-05, momentum=0.1, affine=True, track_running_stats=True)\n",
       "    )\n",
       "  )\n",
       "  (layer2): Sequential(\n",
       "    (0): BasicBlock(\n",
       "      (conv1): Conv2d(64, 128, kernel_size=(3, 3), stride=(2, 2), padding=(1, 1), bias=False)\n",
       "      (bn1): BatchNorm2d(128, eps=1e-05, momentum=0.1, affine=True, track_running_stats=True)\n",
       "      (relu): ReLU(inplace=True)\n",
       "      (conv2): Conv2d(128, 128, kernel_size=(3, 3), stride=(1, 1), padding=(1, 1), bias=False)\n",
       "      (bn2): BatchNorm2d(128, eps=1e-05, momentum=0.1, affine=True, track_running_stats=True)\n",
       "      (downsample): Sequential(\n",
       "        (0): Conv2d(64, 128, kernel_size=(1, 1), stride=(2, 2), bias=False)\n",
       "        (1): BatchNorm2d(128, eps=1e-05, momentum=0.1, affine=True, track_running_stats=True)\n",
       "      )\n",
       "    )\n",
       "    (1): BasicBlock(\n",
       "      (conv1): Conv2d(128, 128, kernel_size=(3, 3), stride=(1, 1), padding=(1, 1), bias=False)\n",
       "      (bn1): BatchNorm2d(128, eps=1e-05, momentum=0.1, affine=True, track_running_stats=True)\n",
       "      (relu): ReLU(inplace=True)\n",
       "      (conv2): Conv2d(128, 128, kernel_size=(3, 3), stride=(1, 1), padding=(1, 1), bias=False)\n",
       "      (bn2): BatchNorm2d(128, eps=1e-05, momentum=0.1, affine=True, track_running_stats=True)\n",
       "    )\n",
       "  )\n",
       "  (layer3): Sequential(\n",
       "    (0): BasicBlock(\n",
       "      (conv1): Conv2d(128, 256, kernel_size=(3, 3), stride=(2, 2), padding=(1, 1), bias=False)\n",
       "      (bn1): BatchNorm2d(256, eps=1e-05, momentum=0.1, affine=True, track_running_stats=True)\n",
       "      (relu): ReLU(inplace=True)\n",
       "      (conv2): Conv2d(256, 256, kernel_size=(3, 3), stride=(1, 1), padding=(1, 1), bias=False)\n",
       "      (bn2): BatchNorm2d(256, eps=1e-05, momentum=0.1, affine=True, track_running_stats=True)\n",
       "      (downsample): Sequential(\n",
       "        (0): Conv2d(128, 256, kernel_size=(1, 1), stride=(2, 2), bias=False)\n",
       "        (1): BatchNorm2d(256, eps=1e-05, momentum=0.1, affine=True, track_running_stats=True)\n",
       "      )\n",
       "    )\n",
       "    (1): BasicBlock(\n",
       "      (conv1): Conv2d(256, 256, kernel_size=(3, 3), stride=(1, 1), padding=(1, 1), bias=False)\n",
       "      (bn1): BatchNorm2d(256, eps=1e-05, momentum=0.1, affine=True, track_running_stats=True)\n",
       "      (relu): ReLU(inplace=True)\n",
       "      (conv2): Conv2d(256, 256, kernel_size=(3, 3), stride=(1, 1), padding=(1, 1), bias=False)\n",
       "      (bn2): BatchNorm2d(256, eps=1e-05, momentum=0.1, affine=True, track_running_stats=True)\n",
       "    )\n",
       "  )\n",
       "  (layer4): Sequential(\n",
       "    (0): BasicBlock(\n",
       "      (conv1): Conv2d(256, 512, kernel_size=(3, 3), stride=(2, 2), padding=(1, 1), bias=False)\n",
       "      (bn1): BatchNorm2d(512, eps=1e-05, momentum=0.1, affine=True, track_running_stats=True)\n",
       "      (relu): ReLU(inplace=True)\n",
       "      (conv2): Conv2d(512, 512, kernel_size=(3, 3), stride=(1, 1), padding=(1, 1), bias=False)\n",
       "      (bn2): BatchNorm2d(512, eps=1e-05, momentum=0.1, affine=True, track_running_stats=True)\n",
       "      (downsample): Sequential(\n",
       "        (0): Conv2d(256, 512, kernel_size=(1, 1), stride=(2, 2), bias=False)\n",
       "        (1): BatchNorm2d(512, eps=1e-05, momentum=0.1, affine=True, track_running_stats=True)\n",
       "      )\n",
       "    )\n",
       "    (1): BasicBlock(\n",
       "      (conv1): Conv2d(512, 512, kernel_size=(3, 3), stride=(1, 1), padding=(1, 1), bias=False)\n",
       "      (bn1): BatchNorm2d(512, eps=1e-05, momentum=0.1, affine=True, track_running_stats=True)\n",
       "      (relu): ReLU(inplace=True)\n",
       "      (conv2): Conv2d(512, 512, kernel_size=(3, 3), stride=(1, 1), padding=(1, 1), bias=False)\n",
       "      (bn2): BatchNorm2d(512, eps=1e-05, momentum=0.1, affine=True, track_running_stats=True)\n",
       "    )\n",
       "  )\n",
       "  (avgpool): AdaptiveAvgPool2d(output_size=(1, 1))\n",
       "  (fc): Linear(in_features=512, out_features=15, bias=True)\n",
       ")"
      ]
     },
     "execution_count": 99,
     "metadata": {},
     "output_type": "execute_result"
    }
   ],
   "source": [
    "ResNet_model.eval()"
   ]
  },
  {
   "cell_type": "code",
   "execution_count": null,
   "metadata": {
    "execution": {
     "iopub.execute_input": "2022-11-13T18:14:41.799086Z",
     "iopub.status.busy": "2022-11-13T18:14:41.798167Z",
     "iopub.status.idle": "2022-11-13T18:14:41.804722Z",
     "shell.execute_reply": "2022-11-13T18:14:41.803468Z",
     "shell.execute_reply.started": "2022-11-13T18:14:41.799040Z"
    },
    "id": "OAE_uMea3uY1"
   },
   "outputs": [],
   "source": [
    "optimizer = torch.optim.Adam(ResNet_model.parameters(), lr=learning_rate) "
   ]
  },
  {
   "cell_type": "code",
   "execution_count": null,
   "metadata": {
    "execution": {
     "iopub.execute_input": "2022-11-13T18:14:42.489475Z",
     "iopub.status.busy": "2022-11-13T18:14:42.489131Z",
     "iopub.status.idle": "2022-11-13T18:14:42.574302Z",
     "shell.execute_reply": "2022-11-13T18:14:42.573309Z",
     "shell.execute_reply.started": "2022-11-13T18:14:42.489447Z"
    },
    "id": "YoNH0dSl3uVq"
   },
   "outputs": [],
   "source": [
    "path_train = path_dataset1+\"train/\"\n",
    "path_test = path_dataset1+\"test/\"\n",
    "val_split = 0.2\n",
    "batch_size = 32\n",
    "input_size = (224,224)\n",
    "\n",
    "train_loader, test_loader, val_loader, mappings = load_data(path_train, val_split, path_test, batch_size, input_size)"
   ]
  },
  {
   "cell_type": "code",
   "execution_count": null,
   "metadata": {
    "execution": {
     "iopub.execute_input": "2022-11-13T18:14:43.348884Z",
     "iopub.status.busy": "2022-11-13T18:14:43.348540Z",
     "iopub.status.idle": "2022-11-13T18:14:43.375380Z",
     "shell.execute_reply": "2022-11-13T18:14:43.374331Z",
     "shell.execute_reply.started": "2022-11-13T18:14:43.348855Z"
    },
    "id": "_ZzUmycEVriK",
    "outputId": "01396c56-560d-426f-9fa6-162bfcac0ef8"
   },
   "outputs": [
    {
     "name": "stdout",
     "output_type": "stream",
     "text": [
      "Device: cuda:0\n"
     ]
    },
    {
     "data": {
      "text/plain": [
       "ResNet(\n",
       "  (conv1): Conv2d(3, 64, kernel_size=(7, 7), stride=(2, 2), padding=(3, 3), bias=False)\n",
       "  (bn1): BatchNorm2d(64, eps=1e-05, momentum=0.1, affine=True, track_running_stats=True)\n",
       "  (relu): ReLU(inplace=True)\n",
       "  (maxpool): MaxPool2d(kernel_size=3, stride=2, padding=1, dilation=1, ceil_mode=False)\n",
       "  (layer1): Sequential(\n",
       "    (0): BasicBlock(\n",
       "      (conv1): Conv2d(64, 64, kernel_size=(3, 3), stride=(1, 1), padding=(1, 1), bias=False)\n",
       "      (bn1): BatchNorm2d(64, eps=1e-05, momentum=0.1, affine=True, track_running_stats=True)\n",
       "      (relu): ReLU(inplace=True)\n",
       "      (conv2): Conv2d(64, 64, kernel_size=(3, 3), stride=(1, 1), padding=(1, 1), bias=False)\n",
       "      (bn2): BatchNorm2d(64, eps=1e-05, momentum=0.1, affine=True, track_running_stats=True)\n",
       "    )\n",
       "    (1): BasicBlock(\n",
       "      (conv1): Conv2d(64, 64, kernel_size=(3, 3), stride=(1, 1), padding=(1, 1), bias=False)\n",
       "      (bn1): BatchNorm2d(64, eps=1e-05, momentum=0.1, affine=True, track_running_stats=True)\n",
       "      (relu): ReLU(inplace=True)\n",
       "      (conv2): Conv2d(64, 64, kernel_size=(3, 3), stride=(1, 1), padding=(1, 1), bias=False)\n",
       "      (bn2): BatchNorm2d(64, eps=1e-05, momentum=0.1, affine=True, track_running_stats=True)\n",
       "    )\n",
       "  )\n",
       "  (layer2): Sequential(\n",
       "    (0): BasicBlock(\n",
       "      (conv1): Conv2d(64, 128, kernel_size=(3, 3), stride=(2, 2), padding=(1, 1), bias=False)\n",
       "      (bn1): BatchNorm2d(128, eps=1e-05, momentum=0.1, affine=True, track_running_stats=True)\n",
       "      (relu): ReLU(inplace=True)\n",
       "      (conv2): Conv2d(128, 128, kernel_size=(3, 3), stride=(1, 1), padding=(1, 1), bias=False)\n",
       "      (bn2): BatchNorm2d(128, eps=1e-05, momentum=0.1, affine=True, track_running_stats=True)\n",
       "      (downsample): Sequential(\n",
       "        (0): Conv2d(64, 128, kernel_size=(1, 1), stride=(2, 2), bias=False)\n",
       "        (1): BatchNorm2d(128, eps=1e-05, momentum=0.1, affine=True, track_running_stats=True)\n",
       "      )\n",
       "    )\n",
       "    (1): BasicBlock(\n",
       "      (conv1): Conv2d(128, 128, kernel_size=(3, 3), stride=(1, 1), padding=(1, 1), bias=False)\n",
       "      (bn1): BatchNorm2d(128, eps=1e-05, momentum=0.1, affine=True, track_running_stats=True)\n",
       "      (relu): ReLU(inplace=True)\n",
       "      (conv2): Conv2d(128, 128, kernel_size=(3, 3), stride=(1, 1), padding=(1, 1), bias=False)\n",
       "      (bn2): BatchNorm2d(128, eps=1e-05, momentum=0.1, affine=True, track_running_stats=True)\n",
       "    )\n",
       "  )\n",
       "  (layer3): Sequential(\n",
       "    (0): BasicBlock(\n",
       "      (conv1): Conv2d(128, 256, kernel_size=(3, 3), stride=(2, 2), padding=(1, 1), bias=False)\n",
       "      (bn1): BatchNorm2d(256, eps=1e-05, momentum=0.1, affine=True, track_running_stats=True)\n",
       "      (relu): ReLU(inplace=True)\n",
       "      (conv2): Conv2d(256, 256, kernel_size=(3, 3), stride=(1, 1), padding=(1, 1), bias=False)\n",
       "      (bn2): BatchNorm2d(256, eps=1e-05, momentum=0.1, affine=True, track_running_stats=True)\n",
       "      (downsample): Sequential(\n",
       "        (0): Conv2d(128, 256, kernel_size=(1, 1), stride=(2, 2), bias=False)\n",
       "        (1): BatchNorm2d(256, eps=1e-05, momentum=0.1, affine=True, track_running_stats=True)\n",
       "      )\n",
       "    )\n",
       "    (1): BasicBlock(\n",
       "      (conv1): Conv2d(256, 256, kernel_size=(3, 3), stride=(1, 1), padding=(1, 1), bias=False)\n",
       "      (bn1): BatchNorm2d(256, eps=1e-05, momentum=0.1, affine=True, track_running_stats=True)\n",
       "      (relu): ReLU(inplace=True)\n",
       "      (conv2): Conv2d(256, 256, kernel_size=(3, 3), stride=(1, 1), padding=(1, 1), bias=False)\n",
       "      (bn2): BatchNorm2d(256, eps=1e-05, momentum=0.1, affine=True, track_running_stats=True)\n",
       "    )\n",
       "  )\n",
       "  (layer4): Sequential(\n",
       "    (0): BasicBlock(\n",
       "      (conv1): Conv2d(256, 512, kernel_size=(3, 3), stride=(2, 2), padding=(1, 1), bias=False)\n",
       "      (bn1): BatchNorm2d(512, eps=1e-05, momentum=0.1, affine=True, track_running_stats=True)\n",
       "      (relu): ReLU(inplace=True)\n",
       "      (conv2): Conv2d(512, 512, kernel_size=(3, 3), stride=(1, 1), padding=(1, 1), bias=False)\n",
       "      (bn2): BatchNorm2d(512, eps=1e-05, momentum=0.1, affine=True, track_running_stats=True)\n",
       "      (downsample): Sequential(\n",
       "        (0): Conv2d(256, 512, kernel_size=(1, 1), stride=(2, 2), bias=False)\n",
       "        (1): BatchNorm2d(512, eps=1e-05, momentum=0.1, affine=True, track_running_stats=True)\n",
       "      )\n",
       "    )\n",
       "    (1): BasicBlock(\n",
       "      (conv1): Conv2d(512, 512, kernel_size=(3, 3), stride=(1, 1), padding=(1, 1), bias=False)\n",
       "      (bn1): BatchNorm2d(512, eps=1e-05, momentum=0.1, affine=True, track_running_stats=True)\n",
       "      (relu): ReLU(inplace=True)\n",
       "      (conv2): Conv2d(512, 512, kernel_size=(3, 3), stride=(1, 1), padding=(1, 1), bias=False)\n",
       "      (bn2): BatchNorm2d(512, eps=1e-05, momentum=0.1, affine=True, track_running_stats=True)\n",
       "    )\n",
       "  )\n",
       "  (avgpool): AdaptiveAvgPool2d(output_size=(1, 1))\n",
       "  (fc): Linear(in_features=512, out_features=15, bias=True)\n",
       ")"
      ]
     },
     "execution_count": 102,
     "metadata": {},
     "output_type": "execute_result"
    }
   ],
   "source": [
    "device = torch.device(\"cuda:0\" if torch.cuda.is_available() else \"cpu\")\n",
    "print(\"Device: {}\".format(device))\n",
    "ResNet_model.to(device)"
   ]
  },
  {
   "cell_type": "code",
   "execution_count": null,
   "metadata": {
    "execution": {
     "iopub.execute_input": "2022-11-13T18:14:44.118740Z",
     "iopub.status.busy": "2022-11-13T18:14:44.118374Z",
     "iopub.status.idle": "2022-11-13T18:14:44.143393Z",
     "shell.execute_reply": "2022-11-13T18:14:44.142468Z",
     "shell.execute_reply.started": "2022-11-13T18:14:44.118709Z"
    },
    "id": "z-cPhH5N9lrN",
    "outputId": "771e376f-f4b6-41d7-e897-eef2a5104fda"
   },
   "outputs": [
    {
     "name": "stdout",
     "output_type": "stream",
     "text": [
      "Class: SPEED_LIMIT_80 has samples: 192 \n",
      "Class: SPEED_LIMIT_60 has samples: 190 \n",
      "Class: NO_STOPPING_OR_STANDING has samples: 242 \n",
      "Class: COMPULSARY_KEEP_RIGHT has samples: 223 \n",
      "Class: GAP_IN_MEDIAN has samples: 180 \n",
      "Class: CROSS_ROAD has samples: 140 \n",
      "Class: PEDESTRIAN_CROSSING has samples: 121 \n",
      "Class: SPEED_LIMIT_50 has samples: 200 \n",
      "Class: HORN_PROHIBITED has samples: 160 \n",
      "Class: SPEED_LIMIT_40 has samples: 170 \n",
      "Class: NO_ENTRY has samples: 174 \n",
      "Class: HUMP_OR_ROUGH_ROAD has samples: 101 \n",
      "Class: SPEED_LIMIT_30 has samples: 238 \n",
      "Class: LEFT_TURN_PROHIBITED has samples: 126 \n",
      "Class: SPEED_LIMIT_70 has samples: 160 \n",
      "\n",
      "Total number of samples:  2617\n",
      "\n",
      "Time taken: 0.0189816951751709\n"
     ]
    }
   ],
   "source": [
    "class_weights = get_class_weights(path_train, mappings)\n",
    "\n",
    "class_weights = torch.FloatTensor(class_weights)\n",
    "class_weights = class_weights.to(device)\n",
    "\n",
    "criterion = get_criterion(class_weights)"
   ]
  },
  {
   "cell_type": "code",
   "execution_count": null,
   "metadata": {
    "execution": {
     "iopub.execute_input": "2022-11-13T18:14:45.116436Z",
     "iopub.status.busy": "2022-11-13T18:14:45.116056Z",
     "iopub.status.idle": "2022-11-13T19:05:56.324171Z",
     "shell.execute_reply": "2022-11-13T19:05:56.322957Z",
     "shell.execute_reply.started": "2022-11-13T18:14:45.116404Z"
    },
    "id": "alEPE-YH3uSY",
    "outputId": "265a5732-18dd-41a7-955f-7eb31700498a"
   },
   "outputs": [
    {
     "name": "stdout",
     "output_type": "stream",
     "text": [
      "Epoch [1/10], Step [10/66], Loss: 2.6229, Accuracy: 9.38%, Validation Accuracy: 3.82%\n",
      "Epoch [1/10], Step [20/66], Loss: 2.8387, Accuracy: 6.25%, Validation Accuracy: 8.80%\n",
      "Epoch [1/10], Step [30/66], Loss: 2.5998, Accuracy: 9.38%, Validation Accuracy: 13.58%\n",
      "Epoch [1/10], Step [40/66], Loss: 2.5879, Accuracy: 18.75%, Validation Accuracy: 24.47%\n",
      "Epoch [1/10], Step [50/66], Loss: 2.4863, Accuracy: 9.38%, Validation Accuracy: 26.96%\n",
      "Epoch [1/10], Step [60/66], Loss: 2.4780, Accuracy: 21.88%, Validation Accuracy: 28.68%\n",
      "Epoch [2/10], Step [10/66], Loss: 2.1310, Accuracy: 34.38%, Validation Accuracy: 32.89%\n",
      "Epoch [2/10], Step [20/66], Loss: 2.1357, Accuracy: 31.25%, Validation Accuracy: 36.14%\n",
      "Epoch [2/10], Step [30/66], Loss: 2.3241, Accuracy: 40.62%, Validation Accuracy: 38.81%\n",
      "Epoch [2/10], Step [40/66], Loss: 2.1849, Accuracy: 21.88%, Validation Accuracy: 38.05%\n",
      "Epoch [2/10], Step [50/66], Loss: 1.7216, Accuracy: 56.25%, Validation Accuracy: 39.77%\n",
      "Epoch [2/10], Step [60/66], Loss: 1.7804, Accuracy: 43.75%, Validation Accuracy: 37.86%\n",
      "Epoch [3/10], Step [10/66], Loss: 1.9441, Accuracy: 31.25%, Validation Accuracy: 40.73%\n",
      "Epoch [3/10], Step [20/66], Loss: 2.1036, Accuracy: 25.00%, Validation Accuracy: 39.77%\n",
      "Epoch [3/10], Step [30/66], Loss: 1.7082, Accuracy: 31.25%, Validation Accuracy: 40.54%\n",
      "Epoch [3/10], Step [40/66], Loss: 1.9285, Accuracy: 31.25%, Validation Accuracy: 41.49%\n",
      "Epoch [3/10], Step [50/66], Loss: 1.7883, Accuracy: 40.62%, Validation Accuracy: 41.11%\n",
      "Epoch [3/10], Step [60/66], Loss: 2.1355, Accuracy: 21.88%, Validation Accuracy: 41.87%\n",
      "Epoch [4/10], Step [10/66], Loss: 1.6064, Accuracy: 50.00%, Validation Accuracy: 46.65%\n",
      "Epoch [4/10], Step [20/66], Loss: 2.1139, Accuracy: 31.25%, Validation Accuracy: 46.85%\n",
      "Epoch [4/10], Step [30/66], Loss: 1.8477, Accuracy: 34.38%, Validation Accuracy: 47.42%\n",
      "Epoch [4/10], Step [40/66], Loss: 1.6148, Accuracy: 50.00%, Validation Accuracy: 47.61%\n",
      "Epoch [4/10], Step [50/66], Loss: 1.6642, Accuracy: 43.75%, Validation Accuracy: 49.14%\n",
      "Epoch [4/10], Step [60/66], Loss: 1.4380, Accuracy: 50.00%, Validation Accuracy: 48.76%\n",
      "Epoch [5/10], Step [10/66], Loss: 1.5312, Accuracy: 56.25%, Validation Accuracy: 51.24%\n",
      "Epoch [5/10], Step [20/66], Loss: 1.6427, Accuracy: 43.75%, Validation Accuracy: 48.76%\n",
      "Epoch [5/10], Step [30/66], Loss: 1.4756, Accuracy: 46.88%, Validation Accuracy: 52.77%\n",
      "Epoch [5/10], Step [40/66], Loss: 1.4951, Accuracy: 46.88%, Validation Accuracy: 52.39%\n",
      "Epoch [5/10], Step [50/66], Loss: 1.4299, Accuracy: 53.12%, Validation Accuracy: 51.24%\n",
      "Epoch [5/10], Step [60/66], Loss: 1.3527, Accuracy: 65.62%, Validation Accuracy: 50.48%\n",
      "Epoch [6/10], Step [10/66], Loss: 1.0992, Accuracy: 68.75%, Validation Accuracy: 53.35%\n",
      "Epoch [6/10], Step [20/66], Loss: 1.2326, Accuracy: 53.12%, Validation Accuracy: 52.01%\n",
      "Epoch [6/10], Step [30/66], Loss: 1.4123, Accuracy: 43.75%, Validation Accuracy: 50.67%\n",
      "Epoch [6/10], Step [40/66], Loss: 1.6599, Accuracy: 43.75%, Validation Accuracy: 51.43%\n",
      "Epoch [6/10], Step [50/66], Loss: 1.1834, Accuracy: 56.25%, Validation Accuracy: 52.96%\n",
      "Epoch [6/10], Step [60/66], Loss: 1.4914, Accuracy: 43.75%, Validation Accuracy: 52.39%\n",
      "Epoch [7/10], Step [10/66], Loss: 1.5367, Accuracy: 37.50%, Validation Accuracy: 52.96%\n",
      "Epoch [7/10], Step [20/66], Loss: 1.2386, Accuracy: 56.25%, Validation Accuracy: 53.35%\n",
      "Epoch [7/10], Step [30/66], Loss: 1.2632, Accuracy: 62.50%, Validation Accuracy: 53.15%\n",
      "Epoch [7/10], Step [40/66], Loss: 1.4039, Accuracy: 50.00%, Validation Accuracy: 55.45%\n",
      "Epoch [7/10], Step [50/66], Loss: 1.4127, Accuracy: 50.00%, Validation Accuracy: 55.07%\n",
      "Epoch [7/10], Step [60/66], Loss: 1.4318, Accuracy: 43.75%, Validation Accuracy: 54.88%\n",
      "Epoch [8/10], Step [10/66], Loss: 1.4917, Accuracy: 50.00%, Validation Accuracy: 54.68%\n",
      "Epoch [8/10], Step [20/66], Loss: 1.1847, Accuracy: 68.75%, Validation Accuracy: 54.11%\n",
      "Epoch [8/10], Step [30/66], Loss: 1.5495, Accuracy: 53.12%, Validation Accuracy: 56.98%\n",
      "Epoch [8/10], Step [40/66], Loss: 1.0733, Accuracy: 71.88%, Validation Accuracy: 55.45%\n",
      "Epoch [8/10], Step [50/66], Loss: 1.1991, Accuracy: 56.25%, Validation Accuracy: 57.74%\n",
      "Epoch [8/10], Step [60/66], Loss: 1.2611, Accuracy: 53.12%, Validation Accuracy: 56.98%\n",
      "Epoch [9/10], Step [10/66], Loss: 1.2874, Accuracy: 56.25%, Validation Accuracy: 53.73%\n",
      "Epoch [9/10], Step [20/66], Loss: 1.2337, Accuracy: 56.25%, Validation Accuracy: 57.17%\n",
      "Epoch [9/10], Step [30/66], Loss: 1.4977, Accuracy: 53.12%, Validation Accuracy: 54.30%\n",
      "Epoch [9/10], Step [40/66], Loss: 1.3225, Accuracy: 65.62%, Validation Accuracy: 55.83%\n",
      "Epoch [9/10], Step [50/66], Loss: 1.1546, Accuracy: 50.00%, Validation Accuracy: 56.98%\n",
      "Epoch [9/10], Step [60/66], Loss: 1.2548, Accuracy: 62.50%, Validation Accuracy: 55.26%\n",
      "Epoch [10/10], Step [10/66], Loss: 1.2473, Accuracy: 71.88%, Validation Accuracy: 58.13%\n",
      "Epoch [10/10], Step [20/66], Loss: 1.4931, Accuracy: 43.75%, Validation Accuracy: 57.93%\n",
      "Epoch [10/10], Step [30/66], Loss: 1.1231, Accuracy: 50.00%, Validation Accuracy: 56.79%\n",
      "Epoch [10/10], Step [40/66], Loss: 1.0623, Accuracy: 62.50%, Validation Accuracy: 56.79%\n",
      "Epoch [10/10], Step [50/66], Loss: 1.3041, Accuracy: 56.25%, Validation Accuracy: 56.41%\n",
      "Epoch [10/10], Step [60/66], Loss: 1.1364, Accuracy: 62.50%, Validation Accuracy: 56.98%\n",
      "######## Training Finished in 3071.0951108932495 seconds ###########\n",
      "/n/n Saving model at:  /kaggle/working/resnetmodel_d1.pt\n"
     ]
    }
   ],
   "source": [
    "model_savepath = savepath+\"resnetmodel_d1.pt\"\n",
    "results_savepath = savepath+\"resnetmodel_d1_results.pkb\"\n",
    "\n",
    "trained_ResNet_model, device = train_model(ResNet_model, num_epochs, train_loader, criterion, optimizer, model_savepath, results_savepath, device)"
   ]
  },
  {
   "cell_type": "code",
   "execution_count": null,
   "metadata": {
    "execution": {
     "iopub.execute_input": "2022-11-13T19:05:56.326783Z",
     "iopub.status.busy": "2022-11-13T19:05:56.326386Z",
     "iopub.status.idle": "2022-11-13T19:06:11.988156Z",
     "shell.execute_reply": "2022-11-13T19:06:11.986993Z",
     "shell.execute_reply.started": "2022-11-13T19:05:56.326745Z"
    },
    "id": "9-r7XF9a3uPx",
    "outputId": "0630fafc-0a17-4a7d-9d1e-46a29d82fd74"
   },
   "outputs": [
    {
     "name": "stdout",
     "output_type": "stream",
     "text": [
      "Model Evaluation Results on 710 test samples\n",
      "Test Accuracy:  53.09859154929577\n",
      "Test F1 Score:  tensor(0.5310)\n"
     ]
    }
   ],
   "source": [
    "evaluate_model(trained_ResNet_model, test_loader, device, nclasses)"
   ]
  },
  {
   "cell_type": "code",
   "execution_count": null,
   "metadata": {
    "id": "zaEWAeB-__Hp"
   },
   "outputs": [],
   "source": []
  },
  {
   "cell_type": "markdown",
   "metadata": {
    "id": "0mw6pKMU__lE"
   },
   "source": [
    "on dataset 2:"
   ]
  },
  {
   "cell_type": "code",
   "execution_count": null,
   "metadata": {
    "execution": {
     "iopub.execute_input": "2022-11-13T19:06:11.990318Z",
     "iopub.status.busy": "2022-11-13T19:06:11.989867Z",
     "iopub.status.idle": "2022-11-13T19:06:11.994818Z",
     "shell.execute_reply": "2022-11-13T19:06:11.993747Z",
     "shell.execute_reply.started": "2022-11-13T19:06:11.990278Z"
    },
    "id": "PR81Mz3_N-wG"
   },
   "outputs": [],
   "source": [
    "nclasses=12"
   ]
  },
  {
   "cell_type": "code",
   "execution_count": null,
   "metadata": {
    "execution": {
     "iopub.execute_input": "2022-11-13T19:06:11.998445Z",
     "iopub.status.busy": "2022-11-13T19:06:11.997733Z",
     "iopub.status.idle": "2022-11-13T19:06:12.172602Z",
     "shell.execute_reply": "2022-11-13T19:06:12.171378Z",
     "shell.execute_reply.started": "2022-11-13T19:06:11.998404Z"
    },
    "id": "gufOXKd1__lE",
    "outputId": "3245f470-5281-4267-8f79-e8e23d7c8790"
   },
   "outputs": [
    {
     "name": "stderr",
     "output_type": "stream",
     "text": [
      "Using cache found in /root/.cache/torch/hub/pytorch_vision_v0.10.0\n"
     ]
    }
   ],
   "source": [
    "ResNet_model = torch.hub.load('pytorch/vision:v0.10.0', 'resnet18', pretrained=False)"
   ]
  },
  {
   "cell_type": "code",
   "execution_count": null,
   "metadata": {
    "execution": {
     "iopub.execute_input": "2022-11-13T19:06:12.175262Z",
     "iopub.status.busy": "2022-11-13T19:06:12.174482Z",
     "iopub.status.idle": "2022-11-13T19:06:12.182142Z",
     "shell.execute_reply": "2022-11-13T19:06:12.181054Z",
     "shell.execute_reply.started": "2022-11-13T19:06:12.175218Z"
    },
    "id": "CXeQGpgi__lF"
   },
   "outputs": [],
   "source": [
    "ResNet_model.fc = nn.Linear( 512, nclasses)"
   ]
  },
  {
   "cell_type": "code",
   "execution_count": null,
   "metadata": {
    "execution": {
     "iopub.execute_input": "2022-11-13T19:06:12.185663Z",
     "iopub.status.busy": "2022-11-13T19:06:12.185331Z",
     "iopub.status.idle": "2022-11-13T19:06:12.194898Z",
     "shell.execute_reply": "2022-11-13T19:06:12.193953Z",
     "shell.execute_reply.started": "2022-11-13T19:06:12.185634Z"
    },
    "id": "AE8BaxQX__lF"
   },
   "outputs": [],
   "source": [
    "optimizer = torch.optim.Adam(ResNet_model.parameters(), lr=learning_rate) "
   ]
  },
  {
   "cell_type": "code",
   "execution_count": null,
   "metadata": {
    "execution": {
     "iopub.execute_input": "2022-11-13T19:06:12.197076Z",
     "iopub.status.busy": "2022-11-13T19:06:12.196651Z",
     "iopub.status.idle": "2022-11-13T19:06:12.305338Z",
     "shell.execute_reply": "2022-11-13T19:06:12.304451Z",
     "shell.execute_reply.started": "2022-11-13T19:06:12.197037Z"
    },
    "id": "HWlFjNQb__lF"
   },
   "outputs": [],
   "source": [
    "path_train = path_dataset2+\"train/\"\n",
    "path_test = path_dataset2+\"test/\"\n",
    "val_split = 0.2\n",
    "batch_size = 32\n",
    "input_size = (224,224)\n",
    "\n",
    "train_loader, test_loader, val_loader, mappings = load_data(path_train, val_split, path_test, batch_size, input_size)"
   ]
  },
  {
   "cell_type": "code",
   "execution_count": null,
   "metadata": {
    "execution": {
     "iopub.execute_input": "2022-11-13T19:06:12.307151Z",
     "iopub.status.busy": "2022-11-13T19:06:12.306783Z",
     "iopub.status.idle": "2022-11-13T19:06:12.332170Z",
     "shell.execute_reply": "2022-11-13T19:06:12.331164Z",
     "shell.execute_reply.started": "2022-11-13T19:06:12.307117Z"
    },
    "id": "GEMJHHENVxDU",
    "outputId": "098ab838-5c16-403d-d471-61593f6ef385"
   },
   "outputs": [
    {
     "name": "stdout",
     "output_type": "stream",
     "text": [
      "Device: cuda:0\n"
     ]
    },
    {
     "data": {
      "text/plain": [
       "ResNet(\n",
       "  (conv1): Conv2d(3, 64, kernel_size=(7, 7), stride=(2, 2), padding=(3, 3), bias=False)\n",
       "  (bn1): BatchNorm2d(64, eps=1e-05, momentum=0.1, affine=True, track_running_stats=True)\n",
       "  (relu): ReLU(inplace=True)\n",
       "  (maxpool): MaxPool2d(kernel_size=3, stride=2, padding=1, dilation=1, ceil_mode=False)\n",
       "  (layer1): Sequential(\n",
       "    (0): BasicBlock(\n",
       "      (conv1): Conv2d(64, 64, kernel_size=(3, 3), stride=(1, 1), padding=(1, 1), bias=False)\n",
       "      (bn1): BatchNorm2d(64, eps=1e-05, momentum=0.1, affine=True, track_running_stats=True)\n",
       "      (relu): ReLU(inplace=True)\n",
       "      (conv2): Conv2d(64, 64, kernel_size=(3, 3), stride=(1, 1), padding=(1, 1), bias=False)\n",
       "      (bn2): BatchNorm2d(64, eps=1e-05, momentum=0.1, affine=True, track_running_stats=True)\n",
       "    )\n",
       "    (1): BasicBlock(\n",
       "      (conv1): Conv2d(64, 64, kernel_size=(3, 3), stride=(1, 1), padding=(1, 1), bias=False)\n",
       "      (bn1): BatchNorm2d(64, eps=1e-05, momentum=0.1, affine=True, track_running_stats=True)\n",
       "      (relu): ReLU(inplace=True)\n",
       "      (conv2): Conv2d(64, 64, kernel_size=(3, 3), stride=(1, 1), padding=(1, 1), bias=False)\n",
       "      (bn2): BatchNorm2d(64, eps=1e-05, momentum=0.1, affine=True, track_running_stats=True)\n",
       "    )\n",
       "  )\n",
       "  (layer2): Sequential(\n",
       "    (0): BasicBlock(\n",
       "      (conv1): Conv2d(64, 128, kernel_size=(3, 3), stride=(2, 2), padding=(1, 1), bias=False)\n",
       "      (bn1): BatchNorm2d(128, eps=1e-05, momentum=0.1, affine=True, track_running_stats=True)\n",
       "      (relu): ReLU(inplace=True)\n",
       "      (conv2): Conv2d(128, 128, kernel_size=(3, 3), stride=(1, 1), padding=(1, 1), bias=False)\n",
       "      (bn2): BatchNorm2d(128, eps=1e-05, momentum=0.1, affine=True, track_running_stats=True)\n",
       "      (downsample): Sequential(\n",
       "        (0): Conv2d(64, 128, kernel_size=(1, 1), stride=(2, 2), bias=False)\n",
       "        (1): BatchNorm2d(128, eps=1e-05, momentum=0.1, affine=True, track_running_stats=True)\n",
       "      )\n",
       "    )\n",
       "    (1): BasicBlock(\n",
       "      (conv1): Conv2d(128, 128, kernel_size=(3, 3), stride=(1, 1), padding=(1, 1), bias=False)\n",
       "      (bn1): BatchNorm2d(128, eps=1e-05, momentum=0.1, affine=True, track_running_stats=True)\n",
       "      (relu): ReLU(inplace=True)\n",
       "      (conv2): Conv2d(128, 128, kernel_size=(3, 3), stride=(1, 1), padding=(1, 1), bias=False)\n",
       "      (bn2): BatchNorm2d(128, eps=1e-05, momentum=0.1, affine=True, track_running_stats=True)\n",
       "    )\n",
       "  )\n",
       "  (layer3): Sequential(\n",
       "    (0): BasicBlock(\n",
       "      (conv1): Conv2d(128, 256, kernel_size=(3, 3), stride=(2, 2), padding=(1, 1), bias=False)\n",
       "      (bn1): BatchNorm2d(256, eps=1e-05, momentum=0.1, affine=True, track_running_stats=True)\n",
       "      (relu): ReLU(inplace=True)\n",
       "      (conv2): Conv2d(256, 256, kernel_size=(3, 3), stride=(1, 1), padding=(1, 1), bias=False)\n",
       "      (bn2): BatchNorm2d(256, eps=1e-05, momentum=0.1, affine=True, track_running_stats=True)\n",
       "      (downsample): Sequential(\n",
       "        (0): Conv2d(128, 256, kernel_size=(1, 1), stride=(2, 2), bias=False)\n",
       "        (1): BatchNorm2d(256, eps=1e-05, momentum=0.1, affine=True, track_running_stats=True)\n",
       "      )\n",
       "    )\n",
       "    (1): BasicBlock(\n",
       "      (conv1): Conv2d(256, 256, kernel_size=(3, 3), stride=(1, 1), padding=(1, 1), bias=False)\n",
       "      (bn1): BatchNorm2d(256, eps=1e-05, momentum=0.1, affine=True, track_running_stats=True)\n",
       "      (relu): ReLU(inplace=True)\n",
       "      (conv2): Conv2d(256, 256, kernel_size=(3, 3), stride=(1, 1), padding=(1, 1), bias=False)\n",
       "      (bn2): BatchNorm2d(256, eps=1e-05, momentum=0.1, affine=True, track_running_stats=True)\n",
       "    )\n",
       "  )\n",
       "  (layer4): Sequential(\n",
       "    (0): BasicBlock(\n",
       "      (conv1): Conv2d(256, 512, kernel_size=(3, 3), stride=(2, 2), padding=(1, 1), bias=False)\n",
       "      (bn1): BatchNorm2d(512, eps=1e-05, momentum=0.1, affine=True, track_running_stats=True)\n",
       "      (relu): ReLU(inplace=True)\n",
       "      (conv2): Conv2d(512, 512, kernel_size=(3, 3), stride=(1, 1), padding=(1, 1), bias=False)\n",
       "      (bn2): BatchNorm2d(512, eps=1e-05, momentum=0.1, affine=True, track_running_stats=True)\n",
       "      (downsample): Sequential(\n",
       "        (0): Conv2d(256, 512, kernel_size=(1, 1), stride=(2, 2), bias=False)\n",
       "        (1): BatchNorm2d(512, eps=1e-05, momentum=0.1, affine=True, track_running_stats=True)\n",
       "      )\n",
       "    )\n",
       "    (1): BasicBlock(\n",
       "      (conv1): Conv2d(512, 512, kernel_size=(3, 3), stride=(1, 1), padding=(1, 1), bias=False)\n",
       "      (bn1): BatchNorm2d(512, eps=1e-05, momentum=0.1, affine=True, track_running_stats=True)\n",
       "      (relu): ReLU(inplace=True)\n",
       "      (conv2): Conv2d(512, 512, kernel_size=(3, 3), stride=(1, 1), padding=(1, 1), bias=False)\n",
       "      (bn2): BatchNorm2d(512, eps=1e-05, momentum=0.1, affine=True, track_running_stats=True)\n",
       "    )\n",
       "  )\n",
       "  (avgpool): AdaptiveAvgPool2d(output_size=(1, 1))\n",
       "  (fc): Linear(in_features=512, out_features=12, bias=True)\n",
       ")"
      ]
     },
     "execution_count": 111,
     "metadata": {},
     "output_type": "execute_result"
    }
   ],
   "source": [
    "device = torch.device(\"cuda:0\" if torch.cuda.is_available() else \"cpu\")\n",
    "print(\"Device: {}\".format(device))\n",
    "ResNet_model.to(device)"
   ]
  },
  {
   "cell_type": "code",
   "execution_count": null,
   "metadata": {
    "execution": {
     "iopub.execute_input": "2022-11-13T19:06:12.334126Z",
     "iopub.status.busy": "2022-11-13T19:06:12.333535Z",
     "iopub.status.idle": "2022-11-13T19:06:12.360269Z",
     "shell.execute_reply": "2022-11-13T19:06:12.359313Z",
     "shell.execute_reply.started": "2022-11-13T19:06:12.334091Z"
    },
    "id": "JTKsc7J49mpl",
    "outputId": "9237f6df-ecb2-49ee-b9fe-e605eb402657"
   },
   "outputs": [
    {
     "name": "stdout",
     "output_type": "stream",
     "text": [
      "Class: Pedestrain has samples: 1014 \n",
      "Class: NO Stopping has samples: 1075 \n",
      "Class: Right Turn Prohibited has samples: 436 \n",
      "Class: Danger has samples: 399 \n",
      "Class: Compulsory Keep BothSide has samples: 573 \n",
      "Class: Maximum Speed 30 has samples: 477 \n",
      "Class: Right Margin has samples: 506 \n",
      "Class: Cycle crossing has samples: 662 \n",
      "Class: Roundabouts has samples: 497 \n",
      "Class: One way Traffic has samples: 684 \n",
      "Class: Compulsory Keep Right has samples: 703 \n",
      "Class: No Entry has samples: 930 \n",
      "\n",
      "Total number of samples:  7956\n",
      "\n",
      "Time taken: 0.020913362503051758\n"
     ]
    }
   ],
   "source": [
    "class_weights = get_class_weights(path_train, mappings)\n",
    "\n",
    "class_weights = torch.FloatTensor(class_weights)\n",
    "class_weights = class_weights.to(device)\n",
    "\n",
    "criterion = get_criterion(class_weights)"
   ]
  },
  {
   "cell_type": "code",
   "execution_count": null,
   "metadata": {
    "execution": {
     "iopub.execute_input": "2022-11-13T19:06:12.364800Z",
     "iopub.status.busy": "2022-11-13T19:06:12.364437Z",
     "iopub.status.idle": "2022-11-13T20:01:12.973197Z",
     "shell.execute_reply": "2022-11-13T20:01:12.971995Z",
     "shell.execute_reply.started": "2022-11-13T19:06:12.364764Z"
    },
    "id": "K1ERflED__lF",
    "outputId": "d121fe60-c044-43ff-99eb-25d5f3d5fdad"
   },
   "outputs": [
    {
     "name": "stdout",
     "output_type": "stream",
     "text": [
      "Epoch [1/10], Step [10/199], Loss: 2.5473, Accuracy: 9.38%, Validation Accuracy: 10.69%\n",
      "Epoch [1/10], Step [20/199], Loss: 2.4314, Accuracy: 12.50%, Validation Accuracy: 11.94%\n",
      "Epoch [1/10], Step [30/199], Loss: 2.3604, Accuracy: 15.62%, Validation Accuracy: 13.76%\n",
      "Epoch [1/10], Step [40/199], Loss: 2.2788, Accuracy: 21.88%, Validation Accuracy: 22.56%\n",
      "Epoch [1/10], Step [50/199], Loss: 2.2715, Accuracy: 12.50%, Validation Accuracy: 24.89%\n",
      "Epoch [1/10], Step [60/199], Loss: 1.9837, Accuracy: 21.88%, Validation Accuracy: 24.89%\n",
      "Epoch [1/10], Step [70/199], Loss: 1.9257, Accuracy: 37.50%, Validation Accuracy: 26.02%\n",
      "Epoch [1/10], Step [80/199], Loss: 1.9212, Accuracy: 34.38%, Validation Accuracy: 30.17%\n",
      "Epoch [1/10], Step [90/199], Loss: 1.7146, Accuracy: 34.38%, Validation Accuracy: 35.39%\n",
      "Epoch [1/10], Step [100/199], Loss: 1.7513, Accuracy: 37.50%, Validation Accuracy: 39.60%\n",
      "Epoch [1/10], Step [110/199], Loss: 1.9002, Accuracy: 40.62%, Validation Accuracy: 43.18%\n",
      "Epoch [1/10], Step [120/199], Loss: 1.7413, Accuracy: 50.00%, Validation Accuracy: 44.94%\n",
      "Epoch [1/10], Step [130/199], Loss: 1.8011, Accuracy: 34.38%, Validation Accuracy: 44.81%\n",
      "Epoch [1/10], Step [140/199], Loss: 1.6983, Accuracy: 37.50%, Validation Accuracy: 45.69%\n",
      "Epoch [1/10], Step [150/199], Loss: 1.5885, Accuracy: 43.75%, Validation Accuracy: 48.33%\n",
      "Epoch [1/10], Step [160/199], Loss: 1.8874, Accuracy: 37.50%, Validation Accuracy: 49.59%\n",
      "Epoch [1/10], Step [170/199], Loss: 1.5086, Accuracy: 50.00%, Validation Accuracy: 50.53%\n",
      "Epoch [1/10], Step [180/199], Loss: 1.3678, Accuracy: 53.12%, Validation Accuracy: 52.36%\n",
      "Epoch [1/10], Step [190/199], Loss: 1.6788, Accuracy: 25.00%, Validation Accuracy: 52.67%\n",
      "Epoch [2/10], Step [10/199], Loss: 1.3516, Accuracy: 50.00%, Validation Accuracy: 55.94%\n",
      "Epoch [2/10], Step [20/199], Loss: 1.2600, Accuracy: 46.88%, Validation Accuracy: 55.69%\n",
      "Epoch [2/10], Step [30/199], Loss: 1.3695, Accuracy: 46.88%, Validation Accuracy: 57.07%\n",
      "Epoch [2/10], Step [40/199], Loss: 1.3353, Accuracy: 59.38%, Validation Accuracy: 55.63%\n",
      "Epoch [2/10], Step [50/199], Loss: 1.3924, Accuracy: 40.62%, Validation Accuracy: 56.32%\n",
      "Epoch [2/10], Step [60/199], Loss: 1.2677, Accuracy: 65.62%, Validation Accuracy: 55.25%\n",
      "Epoch [2/10], Step [70/199], Loss: 1.2702, Accuracy: 68.75%, Validation Accuracy: 58.39%\n",
      "Epoch [2/10], Step [80/199], Loss: 1.1711, Accuracy: 56.25%, Validation Accuracy: 58.08%\n",
      "Epoch [2/10], Step [90/199], Loss: 1.4301, Accuracy: 50.00%, Validation Accuracy: 59.02%\n",
      "Epoch [2/10], Step [100/199], Loss: 1.4173, Accuracy: 53.12%, Validation Accuracy: 58.89%\n",
      "Epoch [2/10], Step [110/199], Loss: 1.0191, Accuracy: 68.75%, Validation Accuracy: 60.91%\n",
      "Epoch [2/10], Step [120/199], Loss: 1.2455, Accuracy: 56.25%, Validation Accuracy: 61.85%\n",
      "Epoch [2/10], Step [130/199], Loss: 1.6955, Accuracy: 40.62%, Validation Accuracy: 63.80%\n",
      "Epoch [2/10], Step [140/199], Loss: 1.0808, Accuracy: 65.62%, Validation Accuracy: 62.35%\n",
      "Epoch [2/10], Step [150/199], Loss: 1.2119, Accuracy: 56.25%, Validation Accuracy: 63.42%\n",
      "Epoch [2/10], Step [160/199], Loss: 1.1430, Accuracy: 53.12%, Validation Accuracy: 62.04%\n",
      "Epoch [2/10], Step [170/199], Loss: 1.1439, Accuracy: 68.75%, Validation Accuracy: 61.97%\n",
      "Epoch [2/10], Step [180/199], Loss: 0.8924, Accuracy: 68.75%, Validation Accuracy: 62.23%\n",
      "Epoch [2/10], Step [190/199], Loss: 0.8242, Accuracy: 81.25%, Validation Accuracy: 64.05%\n",
      "Epoch [3/10], Step [10/199], Loss: 0.9864, Accuracy: 65.62%, Validation Accuracy: 63.36%\n",
      "Epoch [3/10], Step [20/199], Loss: 1.2494, Accuracy: 53.12%, Validation Accuracy: 63.36%\n",
      "Epoch [3/10], Step [30/199], Loss: 1.2937, Accuracy: 59.38%, Validation Accuracy: 65.62%\n",
      "Epoch [3/10], Step [40/199], Loss: 1.0806, Accuracy: 59.38%, Validation Accuracy: 66.81%\n",
      "Epoch [3/10], Step [50/199], Loss: 0.9832, Accuracy: 59.38%, Validation Accuracy: 66.31%\n",
      "Epoch [3/10], Step [60/199], Loss: 0.8819, Accuracy: 75.00%, Validation Accuracy: 67.00%\n",
      "Epoch [3/10], Step [70/199], Loss: 0.9043, Accuracy: 68.75%, Validation Accuracy: 68.95%\n",
      "Epoch [3/10], Step [80/199], Loss: 0.8392, Accuracy: 71.88%, Validation Accuracy: 68.57%\n",
      "Epoch [3/10], Step [90/199], Loss: 0.9762, Accuracy: 75.00%, Validation Accuracy: 67.69%\n",
      "Epoch [3/10], Step [100/199], Loss: 0.9736, Accuracy: 71.88%, Validation Accuracy: 65.81%\n",
      "Epoch [3/10], Step [110/199], Loss: 0.8553, Accuracy: 68.75%, Validation Accuracy: 67.50%\n",
      "Epoch [3/10], Step [120/199], Loss: 0.9448, Accuracy: 65.62%, Validation Accuracy: 70.52%\n",
      "Epoch [3/10], Step [130/199], Loss: 1.2024, Accuracy: 59.38%, Validation Accuracy: 71.09%\n",
      "Epoch [3/10], Step [140/199], Loss: 0.7619, Accuracy: 78.12%, Validation Accuracy: 71.46%\n",
      "Epoch [3/10], Step [150/199], Loss: 0.9705, Accuracy: 75.00%, Validation Accuracy: 69.89%\n",
      "Epoch [3/10], Step [160/199], Loss: 0.8504, Accuracy: 71.88%, Validation Accuracy: 71.34%\n",
      "Epoch [3/10], Step [170/199], Loss: 1.2975, Accuracy: 62.50%, Validation Accuracy: 72.22%\n",
      "Epoch [3/10], Step [180/199], Loss: 0.8677, Accuracy: 78.12%, Validation Accuracy: 72.72%\n",
      "Epoch [3/10], Step [190/199], Loss: 0.7747, Accuracy: 78.12%, Validation Accuracy: 75.17%\n",
      "Epoch [4/10], Step [10/199], Loss: 1.0038, Accuracy: 68.75%, Validation Accuracy: 72.28%\n",
      "Epoch [4/10], Step [20/199], Loss: 0.7046, Accuracy: 78.12%, Validation Accuracy: 72.60%\n",
      "Epoch [4/10], Step [30/199], Loss: 1.0064, Accuracy: 59.38%, Validation Accuracy: 74.10%\n",
      "Epoch [4/10], Step [40/199], Loss: 0.7690, Accuracy: 75.00%, Validation Accuracy: 76.30%\n",
      "Epoch [4/10], Step [50/199], Loss: 0.8260, Accuracy: 71.88%, Validation Accuracy: 76.30%\n",
      "Epoch [4/10], Step [60/199], Loss: 1.0051, Accuracy: 71.88%, Validation Accuracy: 76.30%\n",
      "Epoch [4/10], Step [70/199], Loss: 0.9328, Accuracy: 62.50%, Validation Accuracy: 77.44%\n",
      "Epoch [4/10], Step [80/199], Loss: 0.9892, Accuracy: 68.75%, Validation Accuracy: 76.49%\n",
      "Epoch [4/10], Step [90/199], Loss: 0.5894, Accuracy: 90.62%, Validation Accuracy: 77.62%\n",
      "Epoch [4/10], Step [100/199], Loss: 0.7155, Accuracy: 78.12%, Validation Accuracy: 77.69%\n",
      "Epoch [4/10], Step [110/199], Loss: 0.6767, Accuracy: 78.12%, Validation Accuracy: 78.19%\n",
      "Epoch [4/10], Step [120/199], Loss: 0.7593, Accuracy: 71.88%, Validation Accuracy: 79.01%\n",
      "Epoch [4/10], Step [130/199], Loss: 0.8664, Accuracy: 68.75%, Validation Accuracy: 80.08%\n",
      "Epoch [4/10], Step [140/199], Loss: 0.8941, Accuracy: 71.88%, Validation Accuracy: 81.90%\n",
      "Epoch [4/10], Step [150/199], Loss: 0.9509, Accuracy: 68.75%, Validation Accuracy: 79.13%\n",
      "Epoch [4/10], Step [160/199], Loss: 0.6147, Accuracy: 81.25%, Validation Accuracy: 79.07%\n",
      "Epoch [4/10], Step [170/199], Loss: 1.2138, Accuracy: 68.75%, Validation Accuracy: 80.70%\n",
      "Epoch [4/10], Step [180/199], Loss: 0.6260, Accuracy: 84.38%, Validation Accuracy: 80.96%\n",
      "Epoch [4/10], Step [190/199], Loss: 0.7331, Accuracy: 68.75%, Validation Accuracy: 79.76%\n",
      "Epoch [5/10], Step [10/199], Loss: 0.9432, Accuracy: 78.12%, Validation Accuracy: 81.84%\n",
      "Epoch [5/10], Step [20/199], Loss: 0.8724, Accuracy: 75.00%, Validation Accuracy: 80.39%\n",
      "Epoch [5/10], Step [30/199], Loss: 1.1014, Accuracy: 62.50%, Validation Accuracy: 82.46%\n",
      "Epoch [5/10], Step [40/199], Loss: 0.7103, Accuracy: 84.38%, Validation Accuracy: 81.02%\n",
      "Epoch [5/10], Step [50/199], Loss: 0.6525, Accuracy: 81.25%, Validation Accuracy: 80.39%\n",
      "Epoch [5/10], Step [60/199], Loss: 0.7292, Accuracy: 75.00%, Validation Accuracy: 81.77%\n",
      "Epoch [5/10], Step [70/199], Loss: 0.8106, Accuracy: 81.25%, Validation Accuracy: 80.89%\n",
      "Epoch [5/10], Step [80/199], Loss: 0.6948, Accuracy: 78.12%, Validation Accuracy: 82.72%\n",
      "Epoch [5/10], Step [90/199], Loss: 0.6595, Accuracy: 75.00%, Validation Accuracy: 82.65%\n",
      "Epoch [5/10], Step [100/199], Loss: 0.6491, Accuracy: 78.12%, Validation Accuracy: 84.98%\n",
      "Epoch [5/10], Step [110/199], Loss: 0.6685, Accuracy: 84.38%, Validation Accuracy: 83.97%\n",
      "Epoch [5/10], Step [120/199], Loss: 0.5051, Accuracy: 90.62%, Validation Accuracy: 83.78%\n",
      "Epoch [5/10], Step [130/199], Loss: 0.3915, Accuracy: 93.75%, Validation Accuracy: 84.54%\n",
      "Epoch [5/10], Step [140/199], Loss: 0.7057, Accuracy: 84.38%, Validation Accuracy: 83.34%\n",
      "Epoch [5/10], Step [150/199], Loss: 0.7275, Accuracy: 71.88%, Validation Accuracy: 82.78%\n",
      "Epoch [5/10], Step [160/199], Loss: 0.8224, Accuracy: 78.12%, Validation Accuracy: 85.29%\n",
      "Epoch [5/10], Step [170/199], Loss: 0.7364, Accuracy: 75.00%, Validation Accuracy: 83.09%\n",
      "Epoch [5/10], Step [180/199], Loss: 0.5515, Accuracy: 87.50%, Validation Accuracy: 84.35%\n",
      "Epoch [5/10], Step [190/199], Loss: 0.6743, Accuracy: 81.25%, Validation Accuracy: 85.48%\n",
      "Epoch [6/10], Step [10/199], Loss: 0.5956, Accuracy: 87.50%, Validation Accuracy: 85.23%\n",
      "Epoch [6/10], Step [20/199], Loss: 0.4927, Accuracy: 87.50%, Validation Accuracy: 84.92%\n",
      "Epoch [6/10], Step [30/199], Loss: 0.4863, Accuracy: 84.38%, Validation Accuracy: 84.66%\n",
      "Epoch [6/10], Step [40/199], Loss: 0.5457, Accuracy: 90.62%, Validation Accuracy: 84.66%\n",
      "Epoch [6/10], Step [50/199], Loss: 0.2845, Accuracy: 93.75%, Validation Accuracy: 85.73%\n",
      "Epoch [6/10], Step [60/199], Loss: 0.4940, Accuracy: 87.50%, Validation Accuracy: 85.29%\n",
      "Epoch [6/10], Step [70/199], Loss: 0.5701, Accuracy: 87.50%, Validation Accuracy: 86.80%\n",
      "Epoch [6/10], Step [80/199], Loss: 0.3008, Accuracy: 96.88%, Validation Accuracy: 86.05%\n",
      "Epoch [6/10], Step [90/199], Loss: 0.4678, Accuracy: 81.25%, Validation Accuracy: 86.99%\n",
      "Epoch [6/10], Step [100/199], Loss: 0.6301, Accuracy: 81.25%, Validation Accuracy: 85.42%\n",
      "Epoch [6/10], Step [110/199], Loss: 0.3712, Accuracy: 93.75%, Validation Accuracy: 85.67%\n",
      "Epoch [6/10], Step [120/199], Loss: 0.5667, Accuracy: 81.25%, Validation Accuracy: 86.17%\n",
      "Epoch [6/10], Step [130/199], Loss: 0.5606, Accuracy: 84.38%, Validation Accuracy: 87.49%\n",
      "Epoch [6/10], Step [140/199], Loss: 0.4991, Accuracy: 87.50%, Validation Accuracy: 87.55%\n",
      "Epoch [6/10], Step [150/199], Loss: 0.6941, Accuracy: 71.88%, Validation Accuracy: 88.06%\n",
      "Epoch [6/10], Step [160/199], Loss: 0.6022, Accuracy: 78.12%, Validation Accuracy: 88.12%\n",
      "Epoch [6/10], Step [170/199], Loss: 0.5264, Accuracy: 84.38%, Validation Accuracy: 88.12%\n",
      "Epoch [6/10], Step [180/199], Loss: 0.5052, Accuracy: 84.38%, Validation Accuracy: 88.25%\n",
      "Epoch [6/10], Step [190/199], Loss: 0.5127, Accuracy: 84.38%, Validation Accuracy: 87.18%\n",
      "Epoch [7/10], Step [10/199], Loss: 0.4823, Accuracy: 87.50%, Validation Accuracy: 88.18%\n",
      "Epoch [7/10], Step [20/199], Loss: 0.5766, Accuracy: 84.38%, Validation Accuracy: 86.74%\n",
      "Epoch [7/10], Step [30/199], Loss: 0.4312, Accuracy: 93.75%, Validation Accuracy: 89.00%\n",
      "Epoch [7/10], Step [40/199], Loss: 0.3675, Accuracy: 96.88%, Validation Accuracy: 88.87%\n",
      "Epoch [7/10], Step [50/199], Loss: 0.3234, Accuracy: 93.75%, Validation Accuracy: 88.81%\n",
      "Epoch [7/10], Step [60/199], Loss: 0.5375, Accuracy: 87.50%, Validation Accuracy: 88.87%\n",
      "Epoch [7/10], Step [70/199], Loss: 0.3961, Accuracy: 87.50%, Validation Accuracy: 87.81%\n",
      "Epoch [7/10], Step [80/199], Loss: 0.5199, Accuracy: 87.50%, Validation Accuracy: 89.38%\n",
      "Epoch [7/10], Step [90/199], Loss: 0.5712, Accuracy: 81.25%, Validation Accuracy: 89.82%\n",
      "Epoch [7/10], Step [100/199], Loss: 0.3620, Accuracy: 87.50%, Validation Accuracy: 89.19%\n",
      "Epoch [7/10], Step [110/199], Loss: 0.3091, Accuracy: 93.75%, Validation Accuracy: 89.31%\n",
      "Epoch [7/10], Step [120/199], Loss: 0.4090, Accuracy: 87.50%, Validation Accuracy: 88.87%\n",
      "Epoch [7/10], Step [130/199], Loss: 0.9506, Accuracy: 62.50%, Validation Accuracy: 88.50%\n",
      "Epoch [7/10], Step [140/199], Loss: 0.3502, Accuracy: 87.50%, Validation Accuracy: 89.06%\n",
      "Epoch [7/10], Step [150/199], Loss: 0.7160, Accuracy: 78.12%, Validation Accuracy: 86.55%\n",
      "Epoch [7/10], Step [160/199], Loss: 0.4875, Accuracy: 81.25%, Validation Accuracy: 87.37%\n",
      "Epoch [7/10], Step [170/199], Loss: 0.3261, Accuracy: 90.62%, Validation Accuracy: 88.75%\n",
      "Epoch [7/10], Step [180/199], Loss: 0.3990, Accuracy: 90.62%, Validation Accuracy: 89.63%\n",
      "Epoch [7/10], Step [190/199], Loss: 0.5237, Accuracy: 87.50%, Validation Accuracy: 89.82%\n",
      "Epoch [8/10], Step [10/199], Loss: 0.4010, Accuracy: 93.75%, Validation Accuracy: 90.38%\n",
      "Epoch [8/10], Step [20/199], Loss: 0.2599, Accuracy: 93.75%, Validation Accuracy: 89.82%\n",
      "Epoch [8/10], Step [30/199], Loss: 0.5792, Accuracy: 81.25%, Validation Accuracy: 90.63%\n",
      "Epoch [8/10], Step [40/199], Loss: 0.4687, Accuracy: 84.38%, Validation Accuracy: 88.94%\n",
      "Epoch [8/10], Step [50/199], Loss: 0.3698, Accuracy: 90.62%, Validation Accuracy: 90.82%\n",
      "Epoch [8/10], Step [60/199], Loss: 0.5771, Accuracy: 81.25%, Validation Accuracy: 89.69%\n",
      "Epoch [8/10], Step [70/199], Loss: 0.4375, Accuracy: 84.38%, Validation Accuracy: 90.19%\n",
      "Epoch [8/10], Step [80/199], Loss: 0.6024, Accuracy: 78.12%, Validation Accuracy: 90.57%\n",
      "Epoch [8/10], Step [90/199], Loss: 0.3411, Accuracy: 84.38%, Validation Accuracy: 91.26%\n",
      "Epoch [8/10], Step [100/199], Loss: 0.5314, Accuracy: 87.50%, Validation Accuracy: 90.57%\n",
      "Epoch [8/10], Step [110/199], Loss: 0.4809, Accuracy: 87.50%, Validation Accuracy: 89.57%\n",
      "Epoch [8/10], Step [120/199], Loss: 0.5016, Accuracy: 90.62%, Validation Accuracy: 90.89%\n",
      "Epoch [8/10], Step [130/199], Loss: 0.2577, Accuracy: 90.62%, Validation Accuracy: 90.19%\n",
      "Epoch [8/10], Step [140/199], Loss: 0.5288, Accuracy: 84.38%, Validation Accuracy: 90.89%\n",
      "Epoch [8/10], Step [150/199], Loss: 0.4058, Accuracy: 87.50%, Validation Accuracy: 90.70%\n",
      "Epoch [8/10], Step [160/199], Loss: 0.3347, Accuracy: 93.75%, Validation Accuracy: 89.94%\n",
      "Epoch [8/10], Step [170/199], Loss: 0.2836, Accuracy: 90.62%, Validation Accuracy: 91.07%\n",
      "Epoch [8/10], Step [180/199], Loss: 0.2690, Accuracy: 93.75%, Validation Accuracy: 91.58%\n",
      "Epoch [8/10], Step [190/199], Loss: 0.3696, Accuracy: 93.75%, Validation Accuracy: 91.39%\n",
      "Epoch [9/10], Step [10/199], Loss: 0.4071, Accuracy: 90.62%, Validation Accuracy: 89.82%\n",
      "Epoch [9/10], Step [20/199], Loss: 0.4397, Accuracy: 84.38%, Validation Accuracy: 91.51%\n",
      "Epoch [9/10], Step [30/199], Loss: 0.3423, Accuracy: 93.75%, Validation Accuracy: 91.45%\n",
      "Epoch [9/10], Step [40/199], Loss: 0.3747, Accuracy: 87.50%, Validation Accuracy: 90.51%\n",
      "Epoch [9/10], Step [50/199], Loss: 0.2911, Accuracy: 90.62%, Validation Accuracy: 91.77%\n",
      "Epoch [9/10], Step [60/199], Loss: 0.2784, Accuracy: 93.75%, Validation Accuracy: 91.64%\n",
      "Epoch [9/10], Step [70/199], Loss: 0.4318, Accuracy: 87.50%, Validation Accuracy: 91.45%\n",
      "Epoch [9/10], Step [80/199], Loss: 0.3412, Accuracy: 93.75%, Validation Accuracy: 90.45%\n",
      "Epoch [9/10], Step [90/199], Loss: 0.7000, Accuracy: 75.00%, Validation Accuracy: 92.33%\n",
      "Epoch [9/10], Step [100/199], Loss: 0.2598, Accuracy: 93.75%, Validation Accuracy: 91.33%\n",
      "Epoch [9/10], Step [110/199], Loss: 0.2409, Accuracy: 96.88%, Validation Accuracy: 91.83%\n",
      "Epoch [9/10], Step [120/199], Loss: 0.6733, Accuracy: 81.25%, Validation Accuracy: 91.33%\n",
      "Epoch [9/10], Step [130/199], Loss: 0.3677, Accuracy: 90.62%, Validation Accuracy: 91.33%\n",
      "Epoch [9/10], Step [140/199], Loss: 0.4014, Accuracy: 87.50%, Validation Accuracy: 91.95%\n",
      "Epoch [9/10], Step [150/199], Loss: 0.4625, Accuracy: 87.50%, Validation Accuracy: 92.27%\n",
      "Epoch [9/10], Step [160/199], Loss: 0.4826, Accuracy: 84.38%, Validation Accuracy: 92.39%\n",
      "Epoch [9/10], Step [170/199], Loss: 0.5061, Accuracy: 87.50%, Validation Accuracy: 92.46%\n",
      "Epoch [9/10], Step [180/199], Loss: 0.4075, Accuracy: 84.38%, Validation Accuracy: 92.33%\n",
      "Epoch [9/10], Step [190/199], Loss: 0.3577, Accuracy: 87.50%, Validation Accuracy: 91.58%\n",
      "Epoch [10/10], Step [10/199], Loss: 0.3631, Accuracy: 90.62%, Validation Accuracy: 91.95%\n",
      "Epoch [10/10], Step [20/199], Loss: 0.2994, Accuracy: 93.75%, Validation Accuracy: 92.52%\n",
      "Epoch [10/10], Step [30/199], Loss: 0.5182, Accuracy: 84.38%, Validation Accuracy: 92.58%\n",
      "Epoch [10/10], Step [40/199], Loss: 0.3695, Accuracy: 96.88%, Validation Accuracy: 92.21%\n",
      "Epoch [10/10], Step [50/199], Loss: 0.2722, Accuracy: 90.62%, Validation Accuracy: 92.58%\n",
      "Epoch [10/10], Step [60/199], Loss: 0.3252, Accuracy: 96.88%, Validation Accuracy: 91.39%\n",
      "Epoch [10/10], Step [70/199], Loss: 0.5505, Accuracy: 75.00%, Validation Accuracy: 92.46%\n",
      "Epoch [10/10], Step [80/199], Loss: 0.3356, Accuracy: 93.75%, Validation Accuracy: 91.01%\n",
      "Epoch [10/10], Step [90/199], Loss: 0.3215, Accuracy: 96.88%, Validation Accuracy: 92.21%\n",
      "Epoch [10/10], Step [100/199], Loss: 0.3586, Accuracy: 90.62%, Validation Accuracy: 92.71%\n",
      "Epoch [10/10], Step [110/199], Loss: 0.2241, Accuracy: 90.62%, Validation Accuracy: 91.77%\n",
      "Epoch [10/10], Step [120/199], Loss: 0.4356, Accuracy: 90.62%, Validation Accuracy: 92.77%\n",
      "Epoch [10/10], Step [130/199], Loss: 0.2680, Accuracy: 93.75%, Validation Accuracy: 92.65%\n",
      "Epoch [10/10], Step [140/199], Loss: 0.4496, Accuracy: 84.38%, Validation Accuracy: 93.40%\n",
      "Epoch [10/10], Step [150/199], Loss: 0.3435, Accuracy: 93.75%, Validation Accuracy: 92.77%\n",
      "Epoch [10/10], Step [160/199], Loss: 0.3001, Accuracy: 93.75%, Validation Accuracy: 92.46%\n",
      "Epoch [10/10], Step [170/199], Loss: 0.2079, Accuracy: 96.88%, Validation Accuracy: 93.21%\n",
      "Epoch [10/10], Step [180/199], Loss: 0.3957, Accuracy: 93.75%, Validation Accuracy: 93.46%\n",
      "Epoch [10/10], Step [190/199], Loss: 0.3815, Accuracy: 90.62%, Validation Accuracy: 92.58%\n",
      "######## Training Finished in 3300.49267578125 seconds ###########\n",
      "/n/n Saving model at:  /kaggle/working/resnetmodel_d2.pt\n"
     ]
    }
   ],
   "source": [
    "model_savepath = savepath+\"resnetmodel_d2.pt\"\n",
    "results_savepath = savepath+\"resnetmodel_d2_results.pkb\"\n",
    "\n",
    "trained_ResNet_model, device = train_model(ResNet_model, num_epochs, train_loader, criterion, optimizer, model_savepath, results_savepath, device)"
   ]
  },
  {
   "cell_type": "code",
   "execution_count": null,
   "metadata": {
    "execution": {
     "iopub.execute_input": "2022-11-13T20:01:12.975404Z",
     "iopub.status.busy": "2022-11-13T20:01:12.974650Z",
     "iopub.status.idle": "2022-11-13T20:01:21.287886Z",
     "shell.execute_reply": "2022-11-13T20:01:21.286663Z",
     "shell.execute_reply.started": "2022-11-13T20:01:12.975359Z"
    },
    "id": "-mxR4zp3__lF",
    "outputId": "994584e1-a648-4d4f-a775-3d1d2b223857"
   },
   "outputs": [
    {
     "name": "stdout",
     "output_type": "stream",
     "text": [
      "Model Evaluation Results on 1228 test samples\n",
      "Test Accuracy:  79.64169381107492\n",
      "Test F1 Score:  tensor(0.7964)\n"
     ]
    }
   ],
   "source": [
    "evaluate_model(trained_ResNet_model, test_loader, device, nclasses)"
   ]
  },
  {
   "cell_type": "code",
   "execution_count": null,
   "metadata": {
    "id": "I3pzq0u1ASD_"
   },
   "outputs": [],
   "source": []
  },
  {
   "cell_type": "markdown",
   "metadata": {
    "id": "4043AzG3ASUy"
   },
   "source": [
    "on dataset 3:"
   ]
  },
  {
   "cell_type": "code",
   "execution_count": null,
   "metadata": {
    "execution": {
     "iopub.execute_input": "2022-11-13T20:01:21.290995Z",
     "iopub.status.busy": "2022-11-13T20:01:21.289826Z",
     "iopub.status.idle": "2022-11-13T20:01:21.296150Z",
     "shell.execute_reply": "2022-11-13T20:01:21.294967Z",
     "shell.execute_reply.started": "2022-11-13T20:01:21.290952Z"
    },
    "id": "slCE7VT-N-wI"
   },
   "outputs": [],
   "source": [
    "nclasses=8"
   ]
  },
  {
   "cell_type": "code",
   "execution_count": null,
   "metadata": {
    "execution": {
     "iopub.execute_input": "2022-11-13T20:01:21.298671Z",
     "iopub.status.busy": "2022-11-13T20:01:21.298255Z",
     "iopub.status.idle": "2022-11-13T20:01:21.482071Z",
     "shell.execute_reply": "2022-11-13T20:01:21.480956Z",
     "shell.execute_reply.started": "2022-11-13T20:01:21.298634Z"
    },
    "id": "A0Ur9P8HASUz",
    "outputId": "3245f470-5281-4267-8f79-e8e23d7c8790"
   },
   "outputs": [
    {
     "name": "stderr",
     "output_type": "stream",
     "text": [
      "Using cache found in /root/.cache/torch/hub/pytorch_vision_v0.10.0\n"
     ]
    }
   ],
   "source": [
    "ResNet_model = torch.hub.load('pytorch/vision:v0.10.0', 'resnet18', pretrained=False)"
   ]
  },
  {
   "cell_type": "code",
   "execution_count": null,
   "metadata": {
    "execution": {
     "iopub.execute_input": "2022-11-13T20:01:21.485213Z",
     "iopub.status.busy": "2022-11-13T20:01:21.483596Z",
     "iopub.status.idle": "2022-11-13T20:01:21.495947Z",
     "shell.execute_reply": "2022-11-13T20:01:21.495093Z",
     "shell.execute_reply.started": "2022-11-13T20:01:21.485171Z"
    },
    "id": "YrfStAaKASUz"
   },
   "outputs": [],
   "source": [
    "ResNet_model.fc = nn.Linear( 512, nclasses)"
   ]
  },
  {
   "cell_type": "code",
   "execution_count": null,
   "metadata": {
    "execution": {
     "iopub.execute_input": "2022-11-13T20:01:21.498217Z",
     "iopub.status.busy": "2022-11-13T20:01:21.497182Z",
     "iopub.status.idle": "2022-11-13T20:01:21.512340Z",
     "shell.execute_reply": "2022-11-13T20:01:21.511491Z",
     "shell.execute_reply.started": "2022-11-13T20:01:21.498176Z"
    },
    "id": "HBvyHzXGASUz"
   },
   "outputs": [],
   "source": [
    "optimizer = torch.optim.Adam(ResNet_model.parameters(), lr=learning_rate) "
   ]
  },
  {
   "cell_type": "code",
   "execution_count": null,
   "metadata": {
    "execution": {
     "iopub.execute_input": "2022-11-13T20:01:21.514221Z",
     "iopub.status.busy": "2022-11-13T20:01:21.513747Z",
     "iopub.status.idle": "2022-11-13T20:01:32.406148Z",
     "shell.execute_reply": "2022-11-13T20:01:32.405117Z",
     "shell.execute_reply.started": "2022-11-13T20:01:21.514167Z"
    },
    "id": "sEjpaUpcASUz"
   },
   "outputs": [],
   "source": [
    "path_train = path_dataset3+\"Train/\"\n",
    "path_test = path_dataset3+\"Test/\"\n",
    "val_split = 0.2\n",
    "batch_size = 32\n",
    "input_size = (224,224)\n",
    "\n",
    "train_loader, test_loader, val_loader, mappings = load_data(path_train, val_split, path_test, batch_size, input_size)"
   ]
  },
  {
   "cell_type": "code",
   "execution_count": null,
   "metadata": {
    "execution": {
     "iopub.execute_input": "2022-11-13T20:01:32.408609Z",
     "iopub.status.busy": "2022-11-13T20:01:32.407955Z",
     "iopub.status.idle": "2022-11-13T20:01:32.433938Z",
     "shell.execute_reply": "2022-11-13T20:01:32.432983Z",
     "shell.execute_reply.started": "2022-11-13T20:01:32.408569Z"
    },
    "id": "ezRoDC3gVyCl",
    "outputId": "abfebc6c-ce02-4cea-eb0d-446ddbcaaa65"
   },
   "outputs": [
    {
     "name": "stdout",
     "output_type": "stream",
     "text": [
      "Device: cuda:0\n"
     ]
    },
    {
     "data": {
      "text/plain": [
       "ResNet(\n",
       "  (conv1): Conv2d(3, 64, kernel_size=(7, 7), stride=(2, 2), padding=(3, 3), bias=False)\n",
       "  (bn1): BatchNorm2d(64, eps=1e-05, momentum=0.1, affine=True, track_running_stats=True)\n",
       "  (relu): ReLU(inplace=True)\n",
       "  (maxpool): MaxPool2d(kernel_size=3, stride=2, padding=1, dilation=1, ceil_mode=False)\n",
       "  (layer1): Sequential(\n",
       "    (0): BasicBlock(\n",
       "      (conv1): Conv2d(64, 64, kernel_size=(3, 3), stride=(1, 1), padding=(1, 1), bias=False)\n",
       "      (bn1): BatchNorm2d(64, eps=1e-05, momentum=0.1, affine=True, track_running_stats=True)\n",
       "      (relu): ReLU(inplace=True)\n",
       "      (conv2): Conv2d(64, 64, kernel_size=(3, 3), stride=(1, 1), padding=(1, 1), bias=False)\n",
       "      (bn2): BatchNorm2d(64, eps=1e-05, momentum=0.1, affine=True, track_running_stats=True)\n",
       "    )\n",
       "    (1): BasicBlock(\n",
       "      (conv1): Conv2d(64, 64, kernel_size=(3, 3), stride=(1, 1), padding=(1, 1), bias=False)\n",
       "      (bn1): BatchNorm2d(64, eps=1e-05, momentum=0.1, affine=True, track_running_stats=True)\n",
       "      (relu): ReLU(inplace=True)\n",
       "      (conv2): Conv2d(64, 64, kernel_size=(3, 3), stride=(1, 1), padding=(1, 1), bias=False)\n",
       "      (bn2): BatchNorm2d(64, eps=1e-05, momentum=0.1, affine=True, track_running_stats=True)\n",
       "    )\n",
       "  )\n",
       "  (layer2): Sequential(\n",
       "    (0): BasicBlock(\n",
       "      (conv1): Conv2d(64, 128, kernel_size=(3, 3), stride=(2, 2), padding=(1, 1), bias=False)\n",
       "      (bn1): BatchNorm2d(128, eps=1e-05, momentum=0.1, affine=True, track_running_stats=True)\n",
       "      (relu): ReLU(inplace=True)\n",
       "      (conv2): Conv2d(128, 128, kernel_size=(3, 3), stride=(1, 1), padding=(1, 1), bias=False)\n",
       "      (bn2): BatchNorm2d(128, eps=1e-05, momentum=0.1, affine=True, track_running_stats=True)\n",
       "      (downsample): Sequential(\n",
       "        (0): Conv2d(64, 128, kernel_size=(1, 1), stride=(2, 2), bias=False)\n",
       "        (1): BatchNorm2d(128, eps=1e-05, momentum=0.1, affine=True, track_running_stats=True)\n",
       "      )\n",
       "    )\n",
       "    (1): BasicBlock(\n",
       "      (conv1): Conv2d(128, 128, kernel_size=(3, 3), stride=(1, 1), padding=(1, 1), bias=False)\n",
       "      (bn1): BatchNorm2d(128, eps=1e-05, momentum=0.1, affine=True, track_running_stats=True)\n",
       "      (relu): ReLU(inplace=True)\n",
       "      (conv2): Conv2d(128, 128, kernel_size=(3, 3), stride=(1, 1), padding=(1, 1), bias=False)\n",
       "      (bn2): BatchNorm2d(128, eps=1e-05, momentum=0.1, affine=True, track_running_stats=True)\n",
       "    )\n",
       "  )\n",
       "  (layer3): Sequential(\n",
       "    (0): BasicBlock(\n",
       "      (conv1): Conv2d(128, 256, kernel_size=(3, 3), stride=(2, 2), padding=(1, 1), bias=False)\n",
       "      (bn1): BatchNorm2d(256, eps=1e-05, momentum=0.1, affine=True, track_running_stats=True)\n",
       "      (relu): ReLU(inplace=True)\n",
       "      (conv2): Conv2d(256, 256, kernel_size=(3, 3), stride=(1, 1), padding=(1, 1), bias=False)\n",
       "      (bn2): BatchNorm2d(256, eps=1e-05, momentum=0.1, affine=True, track_running_stats=True)\n",
       "      (downsample): Sequential(\n",
       "        (0): Conv2d(128, 256, kernel_size=(1, 1), stride=(2, 2), bias=False)\n",
       "        (1): BatchNorm2d(256, eps=1e-05, momentum=0.1, affine=True, track_running_stats=True)\n",
       "      )\n",
       "    )\n",
       "    (1): BasicBlock(\n",
       "      (conv1): Conv2d(256, 256, kernel_size=(3, 3), stride=(1, 1), padding=(1, 1), bias=False)\n",
       "      (bn1): BatchNorm2d(256, eps=1e-05, momentum=0.1, affine=True, track_running_stats=True)\n",
       "      (relu): ReLU(inplace=True)\n",
       "      (conv2): Conv2d(256, 256, kernel_size=(3, 3), stride=(1, 1), padding=(1, 1), bias=False)\n",
       "      (bn2): BatchNorm2d(256, eps=1e-05, momentum=0.1, affine=True, track_running_stats=True)\n",
       "    )\n",
       "  )\n",
       "  (layer4): Sequential(\n",
       "    (0): BasicBlock(\n",
       "      (conv1): Conv2d(256, 512, kernel_size=(3, 3), stride=(2, 2), padding=(1, 1), bias=False)\n",
       "      (bn1): BatchNorm2d(512, eps=1e-05, momentum=0.1, affine=True, track_running_stats=True)\n",
       "      (relu): ReLU(inplace=True)\n",
       "      (conv2): Conv2d(512, 512, kernel_size=(3, 3), stride=(1, 1), padding=(1, 1), bias=False)\n",
       "      (bn2): BatchNorm2d(512, eps=1e-05, momentum=0.1, affine=True, track_running_stats=True)\n",
       "      (downsample): Sequential(\n",
       "        (0): Conv2d(256, 512, kernel_size=(1, 1), stride=(2, 2), bias=False)\n",
       "        (1): BatchNorm2d(512, eps=1e-05, momentum=0.1, affine=True, track_running_stats=True)\n",
       "      )\n",
       "    )\n",
       "    (1): BasicBlock(\n",
       "      (conv1): Conv2d(512, 512, kernel_size=(3, 3), stride=(1, 1), padding=(1, 1), bias=False)\n",
       "      (bn1): BatchNorm2d(512, eps=1e-05, momentum=0.1, affine=True, track_running_stats=True)\n",
       "      (relu): ReLU(inplace=True)\n",
       "      (conv2): Conv2d(512, 512, kernel_size=(3, 3), stride=(1, 1), padding=(1, 1), bias=False)\n",
       "      (bn2): BatchNorm2d(512, eps=1e-05, momentum=0.1, affine=True, track_running_stats=True)\n",
       "    )\n",
       "  )\n",
       "  (avgpool): AdaptiveAvgPool2d(output_size=(1, 1))\n",
       "  (fc): Linear(in_features=512, out_features=8, bias=True)\n",
       ")"
      ]
     },
     "execution_count": 120,
     "metadata": {},
     "output_type": "execute_result"
    }
   ],
   "source": [
    "device = torch.device(\"cuda:0\" if torch.cuda.is_available() else \"cpu\")\n",
    "print(\"Device: {}\".format(device))\n",
    "ResNet_model.to(device)"
   ]
  },
  {
   "cell_type": "code",
   "execution_count": null,
   "metadata": {
    "execution": {
     "iopub.execute_input": "2022-11-13T20:01:32.435875Z",
     "iopub.status.busy": "2022-11-13T20:01:32.435503Z",
     "iopub.status.idle": "2022-11-13T20:01:32.455940Z",
     "shell.execute_reply": "2022-11-13T20:01:32.454842Z",
     "shell.execute_reply.started": "2022-11-13T20:01:32.435838Z"
    },
    "id": "1uuIdfbD9nnU",
    "outputId": "601c2239-fa33-4220-c995-144bc0b95c74"
   },
   "outputs": [
    {
     "name": "stdout",
     "output_type": "stream",
     "text": [
      "Class: 7 has samples: 1433 \n",
      "Class: 2 has samples: 2243 \n",
      "Class: 5 has samples: 1853 \n",
      "Class: 8 has samples: 1403 \n",
      "Class: 3 has samples: 1403 \n",
      "Class: 1 has samples: 2213 \n",
      "Class: 4 has samples: 1973 \n",
      "Class: 9 has samples: 1463 \n",
      "\n",
      "Total number of samples:  13984\n",
      "\n",
      "Time taken: 0.01495051383972168\n"
     ]
    }
   ],
   "source": [
    "class_weights = get_class_weights(path_train, mappings)\n",
    "\n",
    "class_weights = torch.FloatTensor(class_weights)\n",
    "class_weights = class_weights.to(device)\n",
    "\n",
    "criterion = get_criterion(class_weights)"
   ]
  },
  {
   "cell_type": "code",
   "execution_count": null,
   "metadata": {
    "execution": {
     "iopub.execute_input": "2022-11-13T20:01:32.457806Z",
     "iopub.status.busy": "2022-11-13T20:01:32.457424Z",
     "iopub.status.idle": "2022-11-13T21:51:32.687285Z",
     "shell.execute_reply": "2022-11-13T21:51:32.686048Z",
     "shell.execute_reply.started": "2022-11-13T20:01:32.457771Z"
    },
    "id": "CSolqegyASUz",
    "outputId": "a4664198-7df9-4967-e355-0ff0cc59abbf"
   },
   "outputs": [
    {
     "name": "stdout",
     "output_type": "stream",
     "text": [
      "Epoch [1/10], Step [10/350], Loss: 2.3874, Accuracy: 12.50%, Validation Accuracy: 12.55%\n",
      "Epoch [1/10], Step [20/350], Loss: 2.0473, Accuracy: 12.50%, Validation Accuracy: 12.73%\n",
      "Epoch [1/10], Step [30/350], Loss: 2.1272, Accuracy: 25.00%, Validation Accuracy: 13.20%\n",
      "Epoch [1/10], Step [40/350], Loss: 2.1378, Accuracy: 12.50%, Validation Accuracy: 16.56%\n",
      "Epoch [1/10], Step [50/350], Loss: 2.0584, Accuracy: 12.50%, Validation Accuracy: 16.49%\n",
      "Epoch [1/10], Step [60/350], Loss: 2.1654, Accuracy: 12.50%, Validation Accuracy: 21.67%\n",
      "Epoch [1/10], Step [70/350], Loss: 1.8626, Accuracy: 37.50%, Validation Accuracy: 20.78%\n",
      "Epoch [1/10], Step [80/350], Loss: 2.0849, Accuracy: 18.75%, Validation Accuracy: 23.18%\n",
      "Epoch [1/10], Step [90/350], Loss: 1.9116, Accuracy: 18.75%, Validation Accuracy: 24.03%\n",
      "Epoch [1/10], Step [100/350], Loss: 1.8461, Accuracy: 25.00%, Validation Accuracy: 23.68%\n",
      "Epoch [1/10], Step [110/350], Loss: 1.9236, Accuracy: 18.75%, Validation Accuracy: 24.57%\n",
      "Epoch [1/10], Step [120/350], Loss: 1.9457, Accuracy: 18.75%, Validation Accuracy: 25.43%\n",
      "Epoch [1/10], Step [130/350], Loss: 1.8909, Accuracy: 28.12%, Validation Accuracy: 25.82%\n",
      "Epoch [1/10], Step [140/350], Loss: 1.9749, Accuracy: 25.00%, Validation Accuracy: 26.22%\n",
      "Epoch [1/10], Step [150/350], Loss: 1.8317, Accuracy: 9.38%, Validation Accuracy: 25.89%\n",
      "Epoch [1/10], Step [160/350], Loss: 1.8706, Accuracy: 28.12%, Validation Accuracy: 22.03%\n",
      "Epoch [1/10], Step [170/350], Loss: 1.8493, Accuracy: 25.00%, Validation Accuracy: 27.68%\n",
      "Epoch [1/10], Step [180/350], Loss: 1.8350, Accuracy: 31.25%, Validation Accuracy: 28.93%\n",
      "Epoch [1/10], Step [190/350], Loss: 1.8503, Accuracy: 40.62%, Validation Accuracy: 29.51%\n",
      "Epoch [1/10], Step [200/350], Loss: 1.7536, Accuracy: 40.62%, Validation Accuracy: 27.72%\n",
      "Epoch [1/10], Step [210/350], Loss: 1.9467, Accuracy: 25.00%, Validation Accuracy: 28.54%\n",
      "Epoch [1/10], Step [220/350], Loss: 1.7888, Accuracy: 28.12%, Validation Accuracy: 26.43%\n",
      "Epoch [1/10], Step [230/350], Loss: 1.8303, Accuracy: 25.00%, Validation Accuracy: 29.11%\n",
      "Epoch [1/10], Step [240/350], Loss: 1.8533, Accuracy: 21.88%, Validation Accuracy: 27.86%\n",
      "Epoch [1/10], Step [250/350], Loss: 1.9721, Accuracy: 21.88%, Validation Accuracy: 28.83%\n",
      "Epoch [1/10], Step [260/350], Loss: 1.7917, Accuracy: 21.88%, Validation Accuracy: 28.58%\n",
      "Epoch [1/10], Step [270/350], Loss: 1.8979, Accuracy: 25.00%, Validation Accuracy: 27.32%\n",
      "Epoch [1/10], Step [280/350], Loss: 2.0951, Accuracy: 9.38%, Validation Accuracy: 29.04%\n",
      "Epoch [1/10], Step [290/350], Loss: 1.9276, Accuracy: 18.75%, Validation Accuracy: 28.40%\n",
      "Epoch [1/10], Step [300/350], Loss: 1.9056, Accuracy: 21.88%, Validation Accuracy: 30.26%\n",
      "Epoch [1/10], Step [310/350], Loss: 1.8932, Accuracy: 34.38%, Validation Accuracy: 30.87%\n",
      "Epoch [1/10], Step [320/350], Loss: 1.7876, Accuracy: 25.00%, Validation Accuracy: 31.15%\n",
      "Epoch [1/10], Step [330/350], Loss: 1.7683, Accuracy: 37.50%, Validation Accuracy: 29.01%\n",
      "Epoch [1/10], Step [340/350], Loss: 1.7637, Accuracy: 40.62%, Validation Accuracy: 31.51%\n",
      "Epoch [1/10], Step [350/350], Loss: 1.7224, Accuracy: 35.00%, Validation Accuracy: 30.33%\n",
      "Epoch [2/10], Step [10/350], Loss: 1.6495, Accuracy: 43.75%, Validation Accuracy: 31.72%\n",
      "Epoch [2/10], Step [20/350], Loss: 1.7768, Accuracy: 25.00%, Validation Accuracy: 28.61%\n",
      "Epoch [2/10], Step [30/350], Loss: 1.8695, Accuracy: 25.00%, Validation Accuracy: 30.40%\n",
      "Epoch [2/10], Step [40/350], Loss: 1.6751, Accuracy: 46.88%, Validation Accuracy: 32.05%\n",
      "Epoch [2/10], Step [50/350], Loss: 1.7812, Accuracy: 31.25%, Validation Accuracy: 32.47%\n",
      "Epoch [2/10], Step [60/350], Loss: 1.7121, Accuracy: 25.00%, Validation Accuracy: 33.01%\n",
      "Epoch [2/10], Step [70/350], Loss: 1.7732, Accuracy: 28.12%, Validation Accuracy: 31.01%\n",
      "Epoch [2/10], Step [80/350], Loss: 1.7483, Accuracy: 43.75%, Validation Accuracy: 33.91%\n",
      "Epoch [2/10], Step [90/350], Loss: 1.7580, Accuracy: 43.75%, Validation Accuracy: 34.41%\n",
      "Epoch [2/10], Step [100/350], Loss: 1.9767, Accuracy: 31.25%, Validation Accuracy: 33.26%\n",
      "Epoch [2/10], Step [110/350], Loss: 1.8844, Accuracy: 34.38%, Validation Accuracy: 31.80%\n",
      "Epoch [2/10], Step [120/350], Loss: 1.8577, Accuracy: 34.38%, Validation Accuracy: 30.87%\n",
      "Epoch [2/10], Step [130/350], Loss: 1.6872, Accuracy: 40.62%, Validation Accuracy: 32.44%\n",
      "Epoch [2/10], Step [140/350], Loss: 1.5005, Accuracy: 56.25%, Validation Accuracy: 33.73%\n",
      "Epoch [2/10], Step [150/350], Loss: 1.8702, Accuracy: 31.25%, Validation Accuracy: 34.33%\n",
      "Epoch [2/10], Step [160/350], Loss: 1.6647, Accuracy: 40.62%, Validation Accuracy: 32.22%\n",
      "Epoch [2/10], Step [170/350], Loss: 1.8216, Accuracy: 43.75%, Validation Accuracy: 33.94%\n",
      "Epoch [2/10], Step [180/350], Loss: 1.6400, Accuracy: 37.50%, Validation Accuracy: 33.44%\n",
      "Epoch [2/10], Step [190/350], Loss: 1.8983, Accuracy: 25.00%, Validation Accuracy: 34.55%\n",
      "Epoch [2/10], Step [200/350], Loss: 1.6767, Accuracy: 40.62%, Validation Accuracy: 34.59%\n",
      "Epoch [2/10], Step [210/350], Loss: 1.7573, Accuracy: 31.25%, Validation Accuracy: 35.12%\n",
      "Epoch [2/10], Step [220/350], Loss: 1.9694, Accuracy: 40.62%, Validation Accuracy: 34.84%\n",
      "Epoch [2/10], Step [230/350], Loss: 1.8137, Accuracy: 25.00%, Validation Accuracy: 35.44%\n",
      "Epoch [2/10], Step [240/350], Loss: 1.6165, Accuracy: 34.38%, Validation Accuracy: 36.62%\n",
      "Epoch [2/10], Step [250/350], Loss: 1.6942, Accuracy: 25.00%, Validation Accuracy: 37.20%\n",
      "Epoch [2/10], Step [260/350], Loss: 1.7284, Accuracy: 43.75%, Validation Accuracy: 33.73%\n",
      "Epoch [2/10], Step [270/350], Loss: 1.8030, Accuracy: 28.12%, Validation Accuracy: 35.37%\n",
      "Epoch [2/10], Step [280/350], Loss: 1.6689, Accuracy: 43.75%, Validation Accuracy: 36.34%\n",
      "Epoch [2/10], Step [290/350], Loss: 1.7852, Accuracy: 40.62%, Validation Accuracy: 37.09%\n",
      "Epoch [2/10], Step [300/350], Loss: 1.8087, Accuracy: 25.00%, Validation Accuracy: 35.66%\n",
      "Epoch [2/10], Step [310/350], Loss: 1.6217, Accuracy: 40.62%, Validation Accuracy: 36.12%\n",
      "Epoch [2/10], Step [320/350], Loss: 1.7105, Accuracy: 31.25%, Validation Accuracy: 34.12%\n",
      "Epoch [2/10], Step [330/350], Loss: 1.8321, Accuracy: 31.25%, Validation Accuracy: 37.55%\n",
      "Epoch [2/10], Step [340/350], Loss: 1.6288, Accuracy: 34.38%, Validation Accuracy: 39.70%\n",
      "Epoch [2/10], Step [350/350], Loss: 1.8019, Accuracy: 25.00%, Validation Accuracy: 39.45%\n",
      "Epoch [3/10], Step [10/350], Loss: 1.6652, Accuracy: 31.25%, Validation Accuracy: 41.88%\n",
      "Epoch [3/10], Step [20/350], Loss: 1.5622, Accuracy: 37.50%, Validation Accuracy: 38.16%\n",
      "Epoch [3/10], Step [30/350], Loss: 1.8041, Accuracy: 28.12%, Validation Accuracy: 40.38%\n",
      "Epoch [3/10], Step [40/350], Loss: 1.4751, Accuracy: 46.88%, Validation Accuracy: 39.88%\n",
      "Epoch [3/10], Step [50/350], Loss: 1.6793, Accuracy: 40.62%, Validation Accuracy: 39.66%\n",
      "Epoch [3/10], Step [60/350], Loss: 1.6398, Accuracy: 40.62%, Validation Accuracy: 40.59%\n",
      "Epoch [3/10], Step [70/350], Loss: 1.5429, Accuracy: 43.75%, Validation Accuracy: 41.34%\n",
      "Epoch [3/10], Step [80/350], Loss: 1.7652, Accuracy: 34.38%, Validation Accuracy: 41.85%\n",
      "Epoch [3/10], Step [90/350], Loss: 1.7844, Accuracy: 31.25%, Validation Accuracy: 42.78%\n",
      "Epoch [3/10], Step [100/350], Loss: 1.3887, Accuracy: 56.25%, Validation Accuracy: 42.70%\n",
      "Epoch [3/10], Step [110/350], Loss: 1.5015, Accuracy: 40.62%, Validation Accuracy: 40.77%\n",
      "Epoch [3/10], Step [120/350], Loss: 1.7055, Accuracy: 46.88%, Validation Accuracy: 43.38%\n",
      "Epoch [3/10], Step [130/350], Loss: 1.4451, Accuracy: 46.88%, Validation Accuracy: 43.88%\n",
      "Epoch [3/10], Step [140/350], Loss: 1.3866, Accuracy: 43.75%, Validation Accuracy: 42.49%\n",
      "Epoch [3/10], Step [150/350], Loss: 1.5753, Accuracy: 40.62%, Validation Accuracy: 41.63%\n",
      "Epoch [3/10], Step [160/350], Loss: 1.3766, Accuracy: 43.75%, Validation Accuracy: 41.56%\n",
      "Epoch [3/10], Step [170/350], Loss: 1.5882, Accuracy: 37.50%, Validation Accuracy: 42.81%\n",
      "Epoch [3/10], Step [180/350], Loss: 1.6591, Accuracy: 31.25%, Validation Accuracy: 41.09%\n",
      "Epoch [3/10], Step [190/350], Loss: 1.7099, Accuracy: 46.88%, Validation Accuracy: 40.59%\n",
      "Epoch [3/10], Step [200/350], Loss: 1.4466, Accuracy: 46.88%, Validation Accuracy: 44.03%\n",
      "Epoch [3/10], Step [210/350], Loss: 1.5933, Accuracy: 43.75%, Validation Accuracy: 42.27%\n",
      "Epoch [3/10], Step [220/350], Loss: 1.7763, Accuracy: 37.50%, Validation Accuracy: 44.74%\n",
      "Epoch [3/10], Step [230/350], Loss: 1.3767, Accuracy: 56.25%, Validation Accuracy: 41.49%\n",
      "Epoch [3/10], Step [240/350], Loss: 1.4026, Accuracy: 53.12%, Validation Accuracy: 45.53%\n",
      "Epoch [3/10], Step [250/350], Loss: 1.4386, Accuracy: 53.12%, Validation Accuracy: 43.99%\n",
      "Epoch [3/10], Step [260/350], Loss: 1.5749, Accuracy: 40.62%, Validation Accuracy: 43.74%\n",
      "Epoch [3/10], Step [270/350], Loss: 1.3439, Accuracy: 62.50%, Validation Accuracy: 45.57%\n",
      "Epoch [3/10], Step [280/350], Loss: 1.5522, Accuracy: 50.00%, Validation Accuracy: 46.57%\n",
      "Epoch [3/10], Step [290/350], Loss: 1.5796, Accuracy: 46.88%, Validation Accuracy: 46.24%\n",
      "Epoch [3/10], Step [300/350], Loss: 1.3849, Accuracy: 37.50%, Validation Accuracy: 44.71%\n",
      "Epoch [3/10], Step [310/350], Loss: 1.4651, Accuracy: 37.50%, Validation Accuracy: 46.28%\n",
      "Epoch [3/10], Step [320/350], Loss: 1.3491, Accuracy: 65.62%, Validation Accuracy: 42.31%\n",
      "Epoch [3/10], Step [330/350], Loss: 1.5330, Accuracy: 43.75%, Validation Accuracy: 46.71%\n",
      "Epoch [3/10], Step [340/350], Loss: 1.9289, Accuracy: 25.00%, Validation Accuracy: 46.14%\n",
      "Epoch [3/10], Step [350/350], Loss: 1.4664, Accuracy: 30.00%, Validation Accuracy: 44.38%\n",
      "Epoch [4/10], Step [10/350], Loss: 1.4847, Accuracy: 50.00%, Validation Accuracy: 44.67%\n",
      "Epoch [4/10], Step [20/350], Loss: 1.1996, Accuracy: 59.38%, Validation Accuracy: 44.85%\n",
      "Epoch [4/10], Step [30/350], Loss: 1.5161, Accuracy: 50.00%, Validation Accuracy: 41.88%\n",
      "Epoch [4/10], Step [40/350], Loss: 1.5269, Accuracy: 31.25%, Validation Accuracy: 42.17%\n",
      "Epoch [4/10], Step [50/350], Loss: 1.5217, Accuracy: 43.75%, Validation Accuracy: 47.57%\n",
      "Epoch [4/10], Step [60/350], Loss: 1.3493, Accuracy: 43.75%, Validation Accuracy: 47.10%\n",
      "Epoch [4/10], Step [70/350], Loss: 1.4329, Accuracy: 37.50%, Validation Accuracy: 45.85%\n",
      "Epoch [4/10], Step [80/350], Loss: 1.5541, Accuracy: 37.50%, Validation Accuracy: 44.78%\n",
      "Epoch [4/10], Step [90/350], Loss: 1.4881, Accuracy: 40.62%, Validation Accuracy: 46.75%\n",
      "Epoch [4/10], Step [100/350], Loss: 1.7157, Accuracy: 28.12%, Validation Accuracy: 45.28%\n",
      "Epoch [4/10], Step [110/350], Loss: 1.4795, Accuracy: 43.75%, Validation Accuracy: 45.82%\n",
      "Epoch [4/10], Step [120/350], Loss: 1.6373, Accuracy: 50.00%, Validation Accuracy: 47.93%\n",
      "Epoch [4/10], Step [130/350], Loss: 1.3353, Accuracy: 43.75%, Validation Accuracy: 47.32%\n",
      "Epoch [4/10], Step [140/350], Loss: 1.3999, Accuracy: 46.88%, Validation Accuracy: 47.32%\n",
      "Epoch [4/10], Step [150/350], Loss: 1.2654, Accuracy: 50.00%, Validation Accuracy: 46.49%\n",
      "Epoch [4/10], Step [160/350], Loss: 1.2493, Accuracy: 56.25%, Validation Accuracy: 48.07%\n",
      "Epoch [4/10], Step [170/350], Loss: 1.3128, Accuracy: 50.00%, Validation Accuracy: 50.82%\n",
      "Epoch [4/10], Step [180/350], Loss: 1.5018, Accuracy: 43.75%, Validation Accuracy: 50.93%\n",
      "Epoch [4/10], Step [190/350], Loss: 1.5769, Accuracy: 31.25%, Validation Accuracy: 49.86%\n",
      "Epoch [4/10], Step [200/350], Loss: 1.2664, Accuracy: 56.25%, Validation Accuracy: 48.39%\n",
      "Epoch [4/10], Step [210/350], Loss: 1.3080, Accuracy: 50.00%, Validation Accuracy: 48.28%\n",
      "Epoch [4/10], Step [220/350], Loss: 1.2930, Accuracy: 59.38%, Validation Accuracy: 49.18%\n",
      "Epoch [4/10], Step [230/350], Loss: 1.2369, Accuracy: 62.50%, Validation Accuracy: 45.42%\n",
      "Epoch [4/10], Step [240/350], Loss: 1.3535, Accuracy: 43.75%, Validation Accuracy: 50.04%\n",
      "Epoch [4/10], Step [250/350], Loss: 1.2769, Accuracy: 43.75%, Validation Accuracy: 50.32%\n",
      "Epoch [4/10], Step [260/350], Loss: 1.5585, Accuracy: 43.75%, Validation Accuracy: 50.79%\n",
      "Epoch [4/10], Step [270/350], Loss: 1.2700, Accuracy: 40.62%, Validation Accuracy: 47.89%\n",
      "Epoch [4/10], Step [280/350], Loss: 1.5102, Accuracy: 43.75%, Validation Accuracy: 47.32%\n",
      "Epoch [4/10], Step [290/350], Loss: 1.3808, Accuracy: 53.12%, Validation Accuracy: 49.57%\n",
      "Epoch [4/10], Step [300/350], Loss: 1.2564, Accuracy: 53.12%, Validation Accuracy: 51.14%\n",
      "Epoch [4/10], Step [310/350], Loss: 1.6240, Accuracy: 37.50%, Validation Accuracy: 51.82%\n",
      "Epoch [4/10], Step [320/350], Loss: 1.2711, Accuracy: 53.12%, Validation Accuracy: 46.82%\n",
      "Epoch [4/10], Step [330/350], Loss: 1.4128, Accuracy: 46.88%, Validation Accuracy: 50.18%\n",
      "Epoch [4/10], Step [340/350], Loss: 1.4998, Accuracy: 40.62%, Validation Accuracy: 49.61%\n",
      "Epoch [4/10], Step [350/350], Loss: 0.9900, Accuracy: 70.00%, Validation Accuracy: 51.07%\n",
      "Epoch [5/10], Step [10/350], Loss: 1.3634, Accuracy: 53.12%, Validation Accuracy: 53.33%\n",
      "Epoch [5/10], Step [20/350], Loss: 1.3531, Accuracy: 50.00%, Validation Accuracy: 48.28%\n",
      "Epoch [5/10], Step [30/350], Loss: 1.1531, Accuracy: 71.88%, Validation Accuracy: 47.50%\n",
      "Epoch [5/10], Step [40/350], Loss: 1.2594, Accuracy: 59.38%, Validation Accuracy: 50.21%\n",
      "Epoch [5/10], Step [50/350], Loss: 1.1800, Accuracy: 59.38%, Validation Accuracy: 51.25%\n",
      "Epoch [5/10], Step [60/350], Loss: 1.3649, Accuracy: 46.88%, Validation Accuracy: 46.75%\n",
      "Epoch [5/10], Step [70/350], Loss: 1.3699, Accuracy: 40.62%, Validation Accuracy: 49.71%\n",
      "Epoch [5/10], Step [80/350], Loss: 1.0824, Accuracy: 59.38%, Validation Accuracy: 50.64%\n",
      "Epoch [5/10], Step [90/350], Loss: 1.3801, Accuracy: 62.50%, Validation Accuracy: 46.85%\n",
      "Epoch [5/10], Step [100/350], Loss: 1.1594, Accuracy: 71.88%, Validation Accuracy: 52.61%\n",
      "Epoch [5/10], Step [110/350], Loss: 1.4227, Accuracy: 46.88%, Validation Accuracy: 50.32%\n",
      "Epoch [5/10], Step [120/350], Loss: 1.3219, Accuracy: 46.88%, Validation Accuracy: 51.29%\n",
      "Epoch [5/10], Step [130/350], Loss: 1.2328, Accuracy: 53.12%, Validation Accuracy: 51.61%\n",
      "Epoch [5/10], Step [140/350], Loss: 1.1902, Accuracy: 65.62%, Validation Accuracy: 53.08%\n",
      "Epoch [5/10], Step [150/350], Loss: 1.1714, Accuracy: 53.12%, Validation Accuracy: 54.54%\n",
      "Epoch [5/10], Step [160/350], Loss: 1.1025, Accuracy: 65.62%, Validation Accuracy: 54.01%\n",
      "Epoch [5/10], Step [170/350], Loss: 1.6563, Accuracy: 43.75%, Validation Accuracy: 55.51%\n",
      "Epoch [5/10], Step [180/350], Loss: 1.3641, Accuracy: 53.12%, Validation Accuracy: 47.64%\n",
      "Epoch [5/10], Step [190/350], Loss: 1.3420, Accuracy: 56.25%, Validation Accuracy: 52.36%\n",
      "Epoch [5/10], Step [200/350], Loss: 1.4375, Accuracy: 46.88%, Validation Accuracy: 50.89%\n",
      "Epoch [5/10], Step [210/350], Loss: 1.3622, Accuracy: 37.50%, Validation Accuracy: 53.97%\n",
      "Epoch [5/10], Step [220/350], Loss: 1.3298, Accuracy: 59.38%, Validation Accuracy: 48.28%\n",
      "Epoch [5/10], Step [230/350], Loss: 1.2395, Accuracy: 59.38%, Validation Accuracy: 54.04%\n",
      "Epoch [5/10], Step [240/350], Loss: 1.2915, Accuracy: 62.50%, Validation Accuracy: 51.86%\n",
      "Epoch [5/10], Step [250/350], Loss: 1.1863, Accuracy: 56.25%, Validation Accuracy: 51.18%\n",
      "Epoch [5/10], Step [260/350], Loss: 1.1830, Accuracy: 50.00%, Validation Accuracy: 52.61%\n",
      "Epoch [5/10], Step [270/350], Loss: 1.0873, Accuracy: 59.38%, Validation Accuracy: 56.15%\n",
      "Epoch [5/10], Step [280/350], Loss: 1.1434, Accuracy: 65.62%, Validation Accuracy: 52.11%\n",
      "Epoch [5/10], Step [290/350], Loss: 1.2031, Accuracy: 46.88%, Validation Accuracy: 50.64%\n",
      "Epoch [5/10], Step [300/350], Loss: 1.3780, Accuracy: 46.88%, Validation Accuracy: 53.58%\n",
      "Epoch [5/10], Step [310/350], Loss: 1.2801, Accuracy: 46.88%, Validation Accuracy: 53.97%\n",
      "Epoch [5/10], Step [320/350], Loss: 1.2507, Accuracy: 50.00%, Validation Accuracy: 54.29%\n",
      "Epoch [5/10], Step [330/350], Loss: 1.4107, Accuracy: 46.88%, Validation Accuracy: 54.51%\n",
      "Epoch [5/10], Step [340/350], Loss: 1.3099, Accuracy: 40.62%, Validation Accuracy: 52.43%\n",
      "Epoch [5/10], Step [350/350], Loss: 1.1381, Accuracy: 65.00%, Validation Accuracy: 55.01%\n",
      "Epoch [6/10], Step [10/350], Loss: 1.1738, Accuracy: 50.00%, Validation Accuracy: 52.90%\n",
      "Epoch [6/10], Step [20/350], Loss: 1.2152, Accuracy: 59.38%, Validation Accuracy: 51.68%\n",
      "Epoch [6/10], Step [30/350], Loss: 1.3637, Accuracy: 53.12%, Validation Accuracy: 49.75%\n",
      "Epoch [6/10], Step [40/350], Loss: 1.1020, Accuracy: 59.38%, Validation Accuracy: 53.11%\n",
      "Epoch [6/10], Step [50/350], Loss: 1.5856, Accuracy: 37.50%, Validation Accuracy: 51.47%\n",
      "Epoch [6/10], Step [60/350], Loss: 1.2013, Accuracy: 62.50%, Validation Accuracy: 56.87%\n",
      "Epoch [6/10], Step [70/350], Loss: 1.2095, Accuracy: 50.00%, Validation Accuracy: 55.69%\n",
      "Epoch [6/10], Step [80/350], Loss: 1.0387, Accuracy: 65.62%, Validation Accuracy: 57.94%\n",
      "Epoch [6/10], Step [90/350], Loss: 1.3052, Accuracy: 50.00%, Validation Accuracy: 57.83%\n",
      "Epoch [6/10], Step [100/350], Loss: 1.4025, Accuracy: 50.00%, Validation Accuracy: 58.05%\n",
      "Epoch [6/10], Step [110/350], Loss: 1.3523, Accuracy: 46.88%, Validation Accuracy: 57.37%\n",
      "Epoch [6/10], Step [120/350], Loss: 1.0790, Accuracy: 78.12%, Validation Accuracy: 55.15%\n",
      "Epoch [6/10], Step [130/350], Loss: 1.1767, Accuracy: 53.12%, Validation Accuracy: 56.62%\n",
      "Epoch [6/10], Step [140/350], Loss: 1.2939, Accuracy: 56.25%, Validation Accuracy: 56.62%\n",
      "Epoch [6/10], Step [150/350], Loss: 1.0322, Accuracy: 65.62%, Validation Accuracy: 54.15%\n",
      "Epoch [6/10], Step [160/350], Loss: 1.1926, Accuracy: 62.50%, Validation Accuracy: 57.30%\n",
      "Epoch [6/10], Step [170/350], Loss: 1.5219, Accuracy: 34.38%, Validation Accuracy: 56.04%\n",
      "Epoch [6/10], Step [180/350], Loss: 1.1247, Accuracy: 59.38%, Validation Accuracy: 58.55%\n",
      "Epoch [6/10], Step [190/350], Loss: 1.0603, Accuracy: 56.25%, Validation Accuracy: 59.87%\n",
      "Epoch [6/10], Step [200/350], Loss: 1.0423, Accuracy: 62.50%, Validation Accuracy: 56.83%\n",
      "Epoch [6/10], Step [210/350], Loss: 1.1624, Accuracy: 50.00%, Validation Accuracy: 55.40%\n",
      "Epoch [6/10], Step [220/350], Loss: 1.0691, Accuracy: 62.50%, Validation Accuracy: 56.97%\n",
      "Epoch [6/10], Step [230/350], Loss: 1.6017, Accuracy: 43.75%, Validation Accuracy: 56.65%\n",
      "Epoch [6/10], Step [240/350], Loss: 1.4906, Accuracy: 53.12%, Validation Accuracy: 49.46%\n",
      "Epoch [6/10], Step [250/350], Loss: 1.1460, Accuracy: 50.00%, Validation Accuracy: 59.05%\n",
      "Epoch [6/10], Step [260/350], Loss: 1.1569, Accuracy: 50.00%, Validation Accuracy: 57.22%\n",
      "Epoch [6/10], Step [270/350], Loss: 1.0974, Accuracy: 71.88%, Validation Accuracy: 61.41%\n",
      "Epoch [6/10], Step [280/350], Loss: 1.1160, Accuracy: 59.38%, Validation Accuracy: 59.62%\n",
      "Epoch [6/10], Step [290/350], Loss: 1.3514, Accuracy: 56.25%, Validation Accuracy: 56.19%\n",
      "Epoch [6/10], Step [300/350], Loss: 1.3586, Accuracy: 53.12%, Validation Accuracy: 52.93%\n",
      "Epoch [6/10], Step [310/350], Loss: 1.0879, Accuracy: 62.50%, Validation Accuracy: 54.47%\n",
      "Epoch [6/10], Step [320/350], Loss: 1.2433, Accuracy: 56.25%, Validation Accuracy: 56.87%\n",
      "Epoch [6/10], Step [330/350], Loss: 1.0110, Accuracy: 59.38%, Validation Accuracy: 55.72%\n",
      "Epoch [6/10], Step [340/350], Loss: 1.1255, Accuracy: 50.00%, Validation Accuracy: 58.15%\n",
      "Epoch [6/10], Step [350/350], Loss: 0.9702, Accuracy: 70.00%, Validation Accuracy: 55.62%\n",
      "Epoch [7/10], Step [10/350], Loss: 0.9734, Accuracy: 75.00%, Validation Accuracy: 59.23%\n",
      "Epoch [7/10], Step [20/350], Loss: 1.0759, Accuracy: 56.25%, Validation Accuracy: 60.44%\n",
      "Epoch [7/10], Step [30/350], Loss: 1.3378, Accuracy: 53.12%, Validation Accuracy: 60.66%\n",
      "Epoch [7/10], Step [40/350], Loss: 1.1831, Accuracy: 59.38%, Validation Accuracy: 61.59%\n",
      "Epoch [7/10], Step [50/350], Loss: 1.1663, Accuracy: 53.12%, Validation Accuracy: 61.37%\n",
      "Epoch [7/10], Step [60/350], Loss: 1.2216, Accuracy: 59.38%, Validation Accuracy: 62.16%\n",
      "Epoch [7/10], Step [70/350], Loss: 1.0543, Accuracy: 62.50%, Validation Accuracy: 58.40%\n",
      "Epoch [7/10], Step [80/350], Loss: 1.2878, Accuracy: 56.25%, Validation Accuracy: 60.41%\n",
      "Epoch [7/10], Step [90/350], Loss: 1.0649, Accuracy: 56.25%, Validation Accuracy: 62.52%\n",
      "Epoch [7/10], Step [100/350], Loss: 1.1836, Accuracy: 53.12%, Validation Accuracy: 58.48%\n",
      "Epoch [7/10], Step [110/350], Loss: 1.0336, Accuracy: 65.62%, Validation Accuracy: 60.09%\n",
      "Epoch [7/10], Step [120/350], Loss: 0.8435, Accuracy: 75.00%, Validation Accuracy: 61.23%\n",
      "Epoch [7/10], Step [130/350], Loss: 1.0471, Accuracy: 53.12%, Validation Accuracy: 62.45%\n",
      "Epoch [7/10], Step [140/350], Loss: 1.0687, Accuracy: 62.50%, Validation Accuracy: 60.37%\n",
      "Epoch [7/10], Step [150/350], Loss: 1.0911, Accuracy: 56.25%, Validation Accuracy: 60.94%\n",
      "Epoch [7/10], Step [160/350], Loss: 1.1159, Accuracy: 62.50%, Validation Accuracy: 56.19%\n",
      "Epoch [7/10], Step [170/350], Loss: 1.1387, Accuracy: 56.25%, Validation Accuracy: 61.19%\n",
      "Epoch [7/10], Step [180/350], Loss: 0.9719, Accuracy: 65.62%, Validation Accuracy: 64.52%\n",
      "Epoch [7/10], Step [190/350], Loss: 1.1862, Accuracy: 50.00%, Validation Accuracy: 62.98%\n",
      "Epoch [7/10], Step [200/350], Loss: 1.1366, Accuracy: 56.25%, Validation Accuracy: 61.77%\n",
      "Epoch [7/10], Step [210/350], Loss: 1.3814, Accuracy: 43.75%, Validation Accuracy: 64.16%\n",
      "Epoch [7/10], Step [220/350], Loss: 1.3498, Accuracy: 53.12%, Validation Accuracy: 60.19%\n",
      "Epoch [7/10], Step [230/350], Loss: 0.9613, Accuracy: 68.75%, Validation Accuracy: 61.87%\n",
      "Epoch [7/10], Step [240/350], Loss: 0.9364, Accuracy: 65.62%, Validation Accuracy: 65.63%\n",
      "Epoch [7/10], Step [250/350], Loss: 0.9906, Accuracy: 62.50%, Validation Accuracy: 56.01%\n",
      "Epoch [7/10], Step [260/350], Loss: 1.1080, Accuracy: 62.50%, Validation Accuracy: 64.74%\n",
      "Epoch [7/10], Step [270/350], Loss: 1.0979, Accuracy: 59.38%, Validation Accuracy: 63.02%\n",
      "Epoch [7/10], Step [280/350], Loss: 0.9510, Accuracy: 59.38%, Validation Accuracy: 63.27%\n",
      "Epoch [7/10], Step [290/350], Loss: 0.9860, Accuracy: 56.25%, Validation Accuracy: 60.66%\n",
      "Epoch [7/10], Step [300/350], Loss: 1.0031, Accuracy: 65.62%, Validation Accuracy: 65.20%\n",
      "Epoch [7/10], Step [310/350], Loss: 1.0019, Accuracy: 62.50%, Validation Accuracy: 60.12%\n",
      "Epoch [7/10], Step [320/350], Loss: 0.8646, Accuracy: 75.00%, Validation Accuracy: 59.98%\n",
      "Epoch [7/10], Step [330/350], Loss: 0.8863, Accuracy: 65.62%, Validation Accuracy: 65.99%\n",
      "Epoch [7/10], Step [340/350], Loss: 0.8490, Accuracy: 75.00%, Validation Accuracy: 64.84%\n",
      "Epoch [7/10], Step [350/350], Loss: 0.8392, Accuracy: 65.00%, Validation Accuracy: 60.30%\n",
      "Epoch [8/10], Step [10/350], Loss: 1.0182, Accuracy: 62.50%, Validation Accuracy: 63.09%\n",
      "Epoch [8/10], Step [20/350], Loss: 1.0123, Accuracy: 62.50%, Validation Accuracy: 62.09%\n",
      "Epoch [8/10], Step [30/350], Loss: 1.4215, Accuracy: 46.88%, Validation Accuracy: 61.87%\n",
      "Epoch [8/10], Step [40/350], Loss: 1.0235, Accuracy: 71.88%, Validation Accuracy: 63.27%\n",
      "Epoch [8/10], Step [50/350], Loss: 1.0682, Accuracy: 59.38%, Validation Accuracy: 64.99%\n",
      "Epoch [8/10], Step [60/350], Loss: 1.0292, Accuracy: 53.12%, Validation Accuracy: 63.23%\n",
      "Epoch [8/10], Step [70/350], Loss: 0.8174, Accuracy: 75.00%, Validation Accuracy: 67.35%\n",
      "Epoch [8/10], Step [80/350], Loss: 0.9974, Accuracy: 59.38%, Validation Accuracy: 64.02%\n",
      "Epoch [8/10], Step [90/350], Loss: 0.9655, Accuracy: 53.12%, Validation Accuracy: 62.91%\n",
      "Epoch [8/10], Step [100/350], Loss: 0.7329, Accuracy: 81.25%, Validation Accuracy: 61.19%\n",
      "Epoch [8/10], Step [110/350], Loss: 0.6570, Accuracy: 81.25%, Validation Accuracy: 63.81%\n",
      "Epoch [8/10], Step [120/350], Loss: 1.2239, Accuracy: 53.12%, Validation Accuracy: 67.45%\n",
      "Epoch [8/10], Step [130/350], Loss: 0.7698, Accuracy: 84.38%, Validation Accuracy: 63.59%\n",
      "Epoch [8/10], Step [140/350], Loss: 1.2250, Accuracy: 53.12%, Validation Accuracy: 68.49%\n",
      "Epoch [8/10], Step [150/350], Loss: 1.1712, Accuracy: 40.62%, Validation Accuracy: 60.52%\n",
      "Epoch [8/10], Step [160/350], Loss: 1.0051, Accuracy: 59.38%, Validation Accuracy: 69.74%\n",
      "Epoch [8/10], Step [170/350], Loss: 0.9211, Accuracy: 65.62%, Validation Accuracy: 67.63%\n",
      "Epoch [8/10], Step [180/350], Loss: 0.6733, Accuracy: 87.50%, Validation Accuracy: 69.24%\n",
      "Epoch [8/10], Step [190/350], Loss: 0.9739, Accuracy: 62.50%, Validation Accuracy: 68.35%\n",
      "Epoch [8/10], Step [200/350], Loss: 0.9581, Accuracy: 68.75%, Validation Accuracy: 58.15%\n",
      "Epoch [8/10], Step [210/350], Loss: 0.8882, Accuracy: 71.88%, Validation Accuracy: 68.20%\n",
      "Epoch [8/10], Step [220/350], Loss: 0.8188, Accuracy: 78.12%, Validation Accuracy: 66.17%\n",
      "Epoch [8/10], Step [230/350], Loss: 0.9384, Accuracy: 68.75%, Validation Accuracy: 64.34%\n",
      "Epoch [8/10], Step [240/350], Loss: 1.0498, Accuracy: 59.38%, Validation Accuracy: 70.78%\n",
      "Epoch [8/10], Step [250/350], Loss: 0.7918, Accuracy: 78.12%, Validation Accuracy: 65.67%\n",
      "Epoch [8/10], Step [260/350], Loss: 0.9684, Accuracy: 68.75%, Validation Accuracy: 69.67%\n",
      "Epoch [8/10], Step [270/350], Loss: 0.8298, Accuracy: 71.88%, Validation Accuracy: 67.45%\n",
      "Epoch [8/10], Step [280/350], Loss: 0.8736, Accuracy: 75.00%, Validation Accuracy: 70.99%\n",
      "Epoch [8/10], Step [290/350], Loss: 0.7219, Accuracy: 75.00%, Validation Accuracy: 72.32%\n",
      "Epoch [8/10], Step [300/350], Loss: 0.7448, Accuracy: 71.88%, Validation Accuracy: 61.95%\n",
      "Epoch [8/10], Step [310/350], Loss: 0.8867, Accuracy: 71.88%, Validation Accuracy: 72.68%\n",
      "Epoch [8/10], Step [320/350], Loss: 0.7918, Accuracy: 75.00%, Validation Accuracy: 68.13%\n",
      "Epoch [8/10], Step [330/350], Loss: 0.8178, Accuracy: 71.88%, Validation Accuracy: 67.45%\n",
      "Epoch [8/10], Step [340/350], Loss: 0.6747, Accuracy: 78.12%, Validation Accuracy: 71.49%\n",
      "Epoch [8/10], Step [350/350], Loss: 1.3840, Accuracy: 45.00%, Validation Accuracy: 63.84%\n",
      "Epoch [9/10], Step [10/350], Loss: 0.8196, Accuracy: 68.75%, Validation Accuracy: 65.74%\n",
      "Epoch [9/10], Step [20/350], Loss: 0.7734, Accuracy: 71.88%, Validation Accuracy: 71.10%\n",
      "Epoch [9/10], Step [30/350], Loss: 0.7976, Accuracy: 84.38%, Validation Accuracy: 72.14%\n",
      "Epoch [9/10], Step [40/350], Loss: 1.1804, Accuracy: 56.25%, Validation Accuracy: 73.39%\n",
      "Epoch [9/10], Step [50/350], Loss: 0.8328, Accuracy: 71.88%, Validation Accuracy: 71.96%\n",
      "Epoch [9/10], Step [60/350], Loss: 0.8394, Accuracy: 75.00%, Validation Accuracy: 69.60%\n",
      "Epoch [9/10], Step [70/350], Loss: 0.8239, Accuracy: 68.75%, Validation Accuracy: 68.88%\n",
      "Epoch [9/10], Step [80/350], Loss: 1.1047, Accuracy: 46.88%, Validation Accuracy: 65.92%\n",
      "Epoch [9/10], Step [90/350], Loss: 0.7771, Accuracy: 68.75%, Validation Accuracy: 63.56%\n",
      "Epoch [9/10], Step [100/350], Loss: 0.7611, Accuracy: 75.00%, Validation Accuracy: 66.17%\n",
      "Epoch [9/10], Step [110/350], Loss: 0.7907, Accuracy: 71.88%, Validation Accuracy: 72.07%\n",
      "Epoch [9/10], Step [120/350], Loss: 0.5293, Accuracy: 81.25%, Validation Accuracy: 71.78%\n",
      "Epoch [9/10], Step [130/350], Loss: 0.9401, Accuracy: 65.62%, Validation Accuracy: 66.77%\n",
      "Epoch [9/10], Step [140/350], Loss: 1.0248, Accuracy: 65.62%, Validation Accuracy: 72.39%\n",
      "Epoch [9/10], Step [150/350], Loss: 0.9881, Accuracy: 68.75%, Validation Accuracy: 70.89%\n",
      "Epoch [9/10], Step [160/350], Loss: 0.8130, Accuracy: 71.88%, Validation Accuracy: 66.56%\n",
      "Epoch [9/10], Step [170/350], Loss: 0.7725, Accuracy: 71.88%, Validation Accuracy: 73.89%\n",
      "Epoch [9/10], Step [180/350], Loss: 0.8778, Accuracy: 65.62%, Validation Accuracy: 71.75%\n",
      "Epoch [9/10], Step [190/350], Loss: 0.8858, Accuracy: 71.88%, Validation Accuracy: 70.92%\n",
      "Epoch [9/10], Step [200/350], Loss: 0.8047, Accuracy: 75.00%, Validation Accuracy: 73.46%\n",
      "Epoch [9/10], Step [210/350], Loss: 0.6156, Accuracy: 81.25%, Validation Accuracy: 70.92%\n",
      "Epoch [9/10], Step [220/350], Loss: 0.8239, Accuracy: 78.12%, Validation Accuracy: 70.03%\n",
      "Epoch [9/10], Step [230/350], Loss: 0.7424, Accuracy: 71.88%, Validation Accuracy: 71.89%\n",
      "Epoch [9/10], Step [240/350], Loss: 0.7276, Accuracy: 68.75%, Validation Accuracy: 70.24%\n",
      "Epoch [9/10], Step [250/350], Loss: 0.8073, Accuracy: 68.75%, Validation Accuracy: 74.21%\n",
      "Epoch [9/10], Step [260/350], Loss: 0.9611, Accuracy: 53.12%, Validation Accuracy: 73.93%\n",
      "Epoch [9/10], Step [270/350], Loss: 0.7393, Accuracy: 78.12%, Validation Accuracy: 72.53%\n",
      "Epoch [9/10], Step [280/350], Loss: 0.8261, Accuracy: 71.88%, Validation Accuracy: 67.35%\n",
      "Epoch [9/10], Step [290/350], Loss: 0.6214, Accuracy: 84.38%, Validation Accuracy: 73.93%\n",
      "Epoch [9/10], Step [300/350], Loss: 0.8437, Accuracy: 78.12%, Validation Accuracy: 74.07%\n",
      "Epoch [9/10], Step [310/350], Loss: 0.9419, Accuracy: 71.88%, Validation Accuracy: 72.60%\n",
      "Epoch [9/10], Step [320/350], Loss: 0.5344, Accuracy: 84.38%, Validation Accuracy: 74.00%\n",
      "Epoch [9/10], Step [330/350], Loss: 0.8942, Accuracy: 68.75%, Validation Accuracy: 71.07%\n",
      "Epoch [9/10], Step [340/350], Loss: 0.7886, Accuracy: 78.12%, Validation Accuracy: 76.07%\n",
      "Epoch [9/10], Step [350/350], Loss: 0.9592, Accuracy: 60.00%, Validation Accuracy: 75.86%\n",
      "Epoch [10/10], Step [10/350], Loss: 0.8524, Accuracy: 68.75%, Validation Accuracy: 71.96%\n",
      "Epoch [10/10], Step [20/350], Loss: 0.7495, Accuracy: 68.75%, Validation Accuracy: 76.65%\n",
      "Epoch [10/10], Step [30/350], Loss: 0.6943, Accuracy: 71.88%, Validation Accuracy: 75.04%\n",
      "Epoch [10/10], Step [40/350], Loss: 0.6517, Accuracy: 78.12%, Validation Accuracy: 70.67%\n",
      "Epoch [10/10], Step [50/350], Loss: 0.8643, Accuracy: 68.75%, Validation Accuracy: 75.68%\n",
      "Epoch [10/10], Step [60/350], Loss: 1.0698, Accuracy: 59.38%, Validation Accuracy: 72.17%\n",
      "Epoch [10/10], Step [70/350], Loss: 0.5715, Accuracy: 90.62%, Validation Accuracy: 72.42%\n",
      "Epoch [10/10], Step [80/350], Loss: 0.7287, Accuracy: 81.25%, Validation Accuracy: 76.18%\n",
      "Epoch [10/10], Step [90/350], Loss: 0.7374, Accuracy: 78.12%, Validation Accuracy: 74.86%\n",
      "Epoch [10/10], Step [100/350], Loss: 0.6458, Accuracy: 68.75%, Validation Accuracy: 75.04%\n",
      "Epoch [10/10], Step [110/350], Loss: 0.7620, Accuracy: 75.00%, Validation Accuracy: 74.93%\n",
      "Epoch [10/10], Step [120/350], Loss: 0.7191, Accuracy: 71.88%, Validation Accuracy: 75.50%\n",
      "Epoch [10/10], Step [130/350], Loss: 0.8909, Accuracy: 68.75%, Validation Accuracy: 71.96%\n",
      "Epoch [10/10], Step [140/350], Loss: 0.7955, Accuracy: 71.88%, Validation Accuracy: 76.57%\n",
      "Epoch [10/10], Step [150/350], Loss: 0.9685, Accuracy: 59.38%, Validation Accuracy: 74.96%\n",
      "Epoch [10/10], Step [160/350], Loss: 0.5229, Accuracy: 84.38%, Validation Accuracy: 72.17%\n",
      "Epoch [10/10], Step [170/350], Loss: 0.9212, Accuracy: 62.50%, Validation Accuracy: 73.68%\n",
      "Epoch [10/10], Step [180/350], Loss: 0.5248, Accuracy: 84.38%, Validation Accuracy: 74.28%\n",
      "Epoch [10/10], Step [190/350], Loss: 0.6572, Accuracy: 81.25%, Validation Accuracy: 72.96%\n",
      "Epoch [10/10], Step [200/350], Loss: 0.3806, Accuracy: 90.62%, Validation Accuracy: 71.10%\n",
      "Epoch [10/10], Step [210/350], Loss: 0.6683, Accuracy: 68.75%, Validation Accuracy: 71.21%\n",
      "Epoch [10/10], Step [220/350], Loss: 0.7728, Accuracy: 71.88%, Validation Accuracy: 77.83%\n",
      "Epoch [10/10], Step [230/350], Loss: 0.8331, Accuracy: 65.62%, Validation Accuracy: 76.00%\n",
      "Epoch [10/10], Step [240/350], Loss: 0.4380, Accuracy: 93.75%, Validation Accuracy: 77.22%\n",
      "Epoch [10/10], Step [250/350], Loss: 0.6240, Accuracy: 71.88%, Validation Accuracy: 69.92%\n",
      "Epoch [10/10], Step [260/350], Loss: 1.1219, Accuracy: 62.50%, Validation Accuracy: 73.43%\n",
      "Epoch [10/10], Step [270/350], Loss: 0.7484, Accuracy: 71.88%, Validation Accuracy: 69.81%\n",
      "Epoch [10/10], Step [280/350], Loss: 0.6546, Accuracy: 75.00%, Validation Accuracy: 75.64%\n",
      "Epoch [10/10], Step [290/350], Loss: 0.6230, Accuracy: 78.12%, Validation Accuracy: 74.89%\n",
      "Epoch [10/10], Step [300/350], Loss: 0.7425, Accuracy: 68.75%, Validation Accuracy: 78.00%\n",
      "Epoch [10/10], Step [310/350], Loss: 0.6188, Accuracy: 84.38%, Validation Accuracy: 78.76%\n",
      "Epoch [10/10], Step [320/350], Loss: 0.7217, Accuracy: 68.75%, Validation Accuracy: 77.11%\n",
      "Epoch [10/10], Step [330/350], Loss: 0.6776, Accuracy: 75.00%, Validation Accuracy: 79.29%\n",
      "Epoch [10/10], Step [340/350], Loss: 0.4241, Accuracy: 93.75%, Validation Accuracy: 74.39%\n",
      "Epoch [10/10], Step [350/350], Loss: 0.6619, Accuracy: 80.00%, Validation Accuracy: 78.00%\n",
      "######## Training Finished in 6600.115432024002 seconds ###########\n",
      "/n/n Saving model at:  /kaggle/working/resnetmodel_d3.pt\n"
     ]
    }
   ],
   "source": [
    "model_savepath = savepath+\"resnetmodel_d3.pt\"\n",
    "results_savepath = savepath+\"resnetmodel_d3_results.pkb\"\n",
    "\n",
    "trained_ResNet_model, device = train_model(ResNet_model, num_epochs, train_loader, criterion, optimizer, model_savepath, results_savepath, device)"
   ]
  },
  {
   "cell_type": "code",
   "execution_count": null,
   "metadata": {
    "execution": {
     "iopub.execute_input": "2022-11-13T21:51:32.689583Z",
     "iopub.status.busy": "2022-11-13T21:51:32.688907Z",
     "iopub.status.idle": "2022-11-13T21:51:56.915667Z",
     "shell.execute_reply": "2022-11-13T21:51:56.913934Z",
     "shell.execute_reply.started": "2022-11-13T21:51:32.689529Z"
    },
    "id": "DhsEbu7AASUz",
    "outputId": "1c30a92c-8c8a-4b80-cc9c-5d1e8539dc0e"
   },
   "outputs": [
    {
     "name": "stdout",
     "output_type": "stream",
     "text": [
      "Model Evaluation Results on 4590 test samples\n",
      "Test Accuracy:  61.808278867102395\n",
      "Test F1 Score:  tensor(0.6181)\n"
     ]
    }
   ],
   "source": [
    "evaluate_model(trained_ResNet_model, test_loader, device, nclasses)"
   ]
  },
  {
   "cell_type": "code",
   "execution_count": null,
   "metadata": {
    "id": "NMwoBLgt8zeJ"
   },
   "outputs": [],
   "source": []
  },
  {
   "cell_type": "code",
   "execution_count": null,
   "metadata": {
    "id": "mU-Fv0pG8zeJ"
   },
   "outputs": [],
   "source": []
  },
  {
   "cell_type": "code",
   "execution_count": null,
   "metadata": {
    "id": "hibcityJcGjU"
   },
   "outputs": [],
   "source": []
  },
  {
   "cell_type": "markdown",
   "metadata": {
    "id": "YzaoBOJucGjN"
   },
   "source": [
    "Transfer Learning Models:"
   ]
  },
  {
   "cell_type": "markdown",
   "metadata": {
    "id": "IaqJYGhKcGjN"
   },
   "source": [
    "Alexnet with dataset 1"
   ]
  },
  {
   "cell_type": "code",
   "execution_count": 13,
   "metadata": {
    "execution": {
     "iopub.execute_input": "2022-11-25T13:15:25.233332Z",
     "iopub.status.busy": "2022-11-25T13:15:25.230987Z",
     "iopub.status.idle": "2022-11-25T13:15:25.239212Z",
     "shell.execute_reply": "2022-11-25T13:15:25.238309Z",
     "shell.execute_reply.started": "2022-11-25T13:15:25.233291Z"
    },
    "id": "j4kvZSmEcGjO"
   },
   "outputs": [],
   "source": [
    "nclasses=15"
   ]
  },
  {
   "cell_type": "code",
   "execution_count": 14,
   "metadata": {
    "colab": {
     "base_uri": "https://localhost:8080/",
     "height": 173,
     "referenced_widgets": [
      "516588a44aa84da1a5da2a2987349ca8",
      "5afe6addd2bb486eb372d7a17c3e6d21",
      "49dcdf4cdd944030bbaeea5877f61272",
      "02fea19bdd3d4808aa395615c94a3dc2",
      "be3ebf0eac7d4bc38ef65c1cfccc53a0",
      "5ab0a7dfcefa4d969b7d08249e2bf216",
      "c207ec3eeb9147438d029d10a333421f",
      "25f0e8e68e4c43adac8feee63ff23598",
      "5e65aa29c10047e794780a911fdaf4e0",
      "a3ad016ae7bf42268d60b3c37ee84b0f",
      "e650ccaaae6c49199aa766c138d3484d"
     ]
    },
    "execution": {
     "iopub.execute_input": "2022-11-25T13:15:25.246196Z",
     "iopub.status.busy": "2022-11-25T13:15:25.244761Z",
     "iopub.status.idle": "2022-11-25T13:15:39.562509Z",
     "shell.execute_reply": "2022-11-25T13:15:39.561375Z",
     "shell.execute_reply.started": "2022-11-25T13:15:25.246162Z"
    },
    "id": "eqiT2J4vcGjO",
    "outputId": "72faa347-0ce8-46c4-a3cf-8ec44c9991d8"
   },
   "outputs": [
    {
     "name": "stderr",
     "output_type": "stream",
     "text": [
      "Downloading: \"https://github.com/pytorch/vision/zipball/v0.6.0\" to /root/.cache/torch/hub/v0.6.0.zip\n",
      "/usr/local/lib/python3.8/dist-packages/torchvision/models/_utils.py:208: UserWarning: The parameter 'pretrained' is deprecated since 0.13 and will be removed in 0.15, please use 'weights' instead.\n",
      "  warnings.warn(\n",
      "/usr/local/lib/python3.8/dist-packages/torchvision/models/_utils.py:223: UserWarning: Arguments other than a weight enum or `None` for 'weights' are deprecated since 0.13 and will be removed in 0.15. The current behavior is equivalent to passing `weights=AlexNet_Weights.IMAGENET1K_V1`. You can also use `weights=AlexNet_Weights.DEFAULT` to get the most up-to-date weights.\n",
      "  warnings.warn(msg)\n",
      "Downloading: \"https://download.pytorch.org/models/alexnet-owt-7be5be79.pth\" to /root/.cache/torch/hub/checkpoints/alexnet-owt-7be5be79.pth\n"
     ]
    },
    {
     "data": {
      "application/vnd.jupyter.widget-view+json": {
       "model_id": "516588a44aa84da1a5da2a2987349ca8",
       "version_major": 2,
       "version_minor": 0
      },
      "text/plain": [
       "  0%|          | 0.00/233M [00:00<?, ?B/s]"
      ]
     },
     "metadata": {},
     "output_type": "display_data"
    }
   ],
   "source": [
    "AlexNet_model = torch.hub.load('pytorch/vision:v0.6.0', 'alexnet', pretrained=True)"
   ]
  },
  {
   "cell_type": "code",
   "execution_count": 15,
   "metadata": {
    "execution": {
     "iopub.execute_input": "2022-11-25T13:15:39.564564Z",
     "iopub.status.busy": "2022-11-25T13:15:39.564127Z",
     "iopub.status.idle": "2022-11-25T13:15:39.569699Z",
     "shell.execute_reply": "2022-11-25T13:15:39.568539Z",
     "shell.execute_reply.started": "2022-11-25T13:15:39.564524Z"
    },
    "id": "Uz2ezh-vcGjO"
   },
   "outputs": [],
   "source": [
    "# layers = AlexNet_model.state_dict().keys()\n",
    "\n",
    "for name, param in AlexNet_model.named_parameters():\n",
    "    if name.startswith('features'):\n",
    "        param.requires_grad = False"
   ]
  },
  {
   "cell_type": "code",
   "execution_count": 16,
   "metadata": {
    "execution": {
     "iopub.execute_input": "2022-11-25T13:15:39.572200Z",
     "iopub.status.busy": "2022-11-25T13:15:39.571553Z",
     "iopub.status.idle": "2022-11-25T13:15:40.048182Z",
     "shell.execute_reply": "2022-11-25T13:15:40.046883Z",
     "shell.execute_reply.started": "2022-11-25T13:15:39.572163Z"
    },
    "id": "RpJ4xBQOcGjO"
   },
   "outputs": [],
   "source": [
    "prev_out = AlexNet_model.classifier[4].out_features\n",
    "AlexNet_model.classifier[6] = nn.Linear( prev_out, nclasses)"
   ]
  },
  {
   "cell_type": "code",
   "execution_count": 17,
   "metadata": {
    "colab": {
     "base_uri": "https://localhost:8080/"
    },
    "execution": {
     "iopub.execute_input": "2022-11-25T13:15:40.053480Z",
     "iopub.status.busy": "2022-11-25T13:15:40.052065Z",
     "iopub.status.idle": "2022-11-25T13:15:40.061335Z",
     "shell.execute_reply": "2022-11-25T13:15:40.060111Z",
     "shell.execute_reply.started": "2022-11-25T13:15:40.053437Z"
    },
    "id": "FExupIufcGjO",
    "outputId": "87119f01-5c46-49eb-b809-adbce89c877b"
   },
   "outputs": [
    {
     "name": "stdout",
     "output_type": "stream",
     "text": [
      "Layer: features.0.weight has requires_grad set to: False\n",
      "Layer: features.0.bias has requires_grad set to: False\n",
      "Layer: features.3.weight has requires_grad set to: False\n",
      "Layer: features.3.bias has requires_grad set to: False\n",
      "Layer: features.6.weight has requires_grad set to: False\n",
      "Layer: features.6.bias has requires_grad set to: False\n",
      "Layer: features.8.weight has requires_grad set to: False\n",
      "Layer: features.8.bias has requires_grad set to: False\n",
      "Layer: features.10.weight has requires_grad set to: False\n",
      "Layer: features.10.bias has requires_grad set to: False\n",
      "Layer: classifier.1.weight has requires_grad set to: True\n",
      "Layer: classifier.1.bias has requires_grad set to: True\n",
      "Layer: classifier.4.weight has requires_grad set to: True\n",
      "Layer: classifier.4.bias has requires_grad set to: True\n",
      "Layer: classifier.6.weight has requires_grad set to: True\n",
      "Layer: classifier.6.bias has requires_grad set to: True\n"
     ]
    }
   ],
   "source": [
    "for name, param in AlexNet_model.named_parameters():\n",
    "        print(\"Layer: {} has requires_grad set to: {}\".format(name, param.requires_grad))"
   ]
  },
  {
   "cell_type": "code",
   "execution_count": 18,
   "metadata": {
    "colab": {
     "base_uri": "https://localhost:8080/"
    },
    "execution": {
     "iopub.execute_input": "2022-11-25T13:15:40.063330Z",
     "iopub.status.busy": "2022-11-25T13:15:40.062772Z",
     "iopub.status.idle": "2022-11-25T13:15:40.075286Z",
     "shell.execute_reply": "2022-11-25T13:15:40.074209Z",
     "shell.execute_reply.started": "2022-11-25T13:15:40.063295Z"
    },
    "id": "2EC4hS3ecGjO",
    "outputId": "989176a1-8bc3-4d82-fcf0-90d669ada8e6"
   },
   "outputs": [
    {
     "data": {
      "text/plain": [
       "AlexNet(\n",
       "  (features): Sequential(\n",
       "    (0): Conv2d(3, 64, kernel_size=(11, 11), stride=(4, 4), padding=(2, 2))\n",
       "    (1): ReLU(inplace=True)\n",
       "    (2): MaxPool2d(kernel_size=3, stride=2, padding=0, dilation=1, ceil_mode=False)\n",
       "    (3): Conv2d(64, 192, kernel_size=(5, 5), stride=(1, 1), padding=(2, 2))\n",
       "    (4): ReLU(inplace=True)\n",
       "    (5): MaxPool2d(kernel_size=3, stride=2, padding=0, dilation=1, ceil_mode=False)\n",
       "    (6): Conv2d(192, 384, kernel_size=(3, 3), stride=(1, 1), padding=(1, 1))\n",
       "    (7): ReLU(inplace=True)\n",
       "    (8): Conv2d(384, 256, kernel_size=(3, 3), stride=(1, 1), padding=(1, 1))\n",
       "    (9): ReLU(inplace=True)\n",
       "    (10): Conv2d(256, 256, kernel_size=(3, 3), stride=(1, 1), padding=(1, 1))\n",
       "    (11): ReLU(inplace=True)\n",
       "    (12): MaxPool2d(kernel_size=3, stride=2, padding=0, dilation=1, ceil_mode=False)\n",
       "  )\n",
       "  (avgpool): AdaptiveAvgPool2d(output_size=(6, 6))\n",
       "  (classifier): Sequential(\n",
       "    (0): Dropout(p=0.5, inplace=False)\n",
       "    (1): Linear(in_features=9216, out_features=4096, bias=True)\n",
       "    (2): ReLU(inplace=True)\n",
       "    (3): Dropout(p=0.5, inplace=False)\n",
       "    (4): Linear(in_features=4096, out_features=4096, bias=True)\n",
       "    (5): ReLU(inplace=True)\n",
       "    (6): Linear(in_features=4096, out_features=15, bias=True)\n",
       "  )\n",
       ")"
      ]
     },
     "execution_count": 18,
     "metadata": {},
     "output_type": "execute_result"
    }
   ],
   "source": [
    "AlexNet_model.eval()"
   ]
  },
  {
   "cell_type": "code",
   "execution_count": 19,
   "metadata": {
    "execution": {
     "iopub.execute_input": "2022-11-25T13:15:40.077637Z",
     "iopub.status.busy": "2022-11-25T13:15:40.076644Z",
     "iopub.status.idle": "2022-11-25T13:15:40.085418Z",
     "shell.execute_reply": "2022-11-25T13:15:40.084284Z",
     "shell.execute_reply.started": "2022-11-25T13:15:40.077603Z"
    },
    "id": "j1gk4OQMcGjP"
   },
   "outputs": [],
   "source": [
    "optimizer = torch.optim.Adam(AlexNet_model.parameters(), lr=learning_rate) "
   ]
  },
  {
   "cell_type": "code",
   "execution_count": 20,
   "metadata": {
    "execution": {
     "iopub.execute_input": "2022-11-25T13:15:40.087777Z",
     "iopub.status.busy": "2022-11-25T13:15:40.086917Z",
     "iopub.status.idle": "2022-11-25T13:15:40.146998Z",
     "shell.execute_reply": "2022-11-25T13:15:40.146181Z",
     "shell.execute_reply.started": "2022-11-25T13:15:40.087742Z"
    },
    "id": "L_ymbHQicGjP"
   },
   "outputs": [],
   "source": [
    "path_train = path_dataset1+\"train/\"\n",
    "path_test = path_dataset1+\"test/\"\n",
    "val_split = 0.2\n",
    "batch_size = 32\n",
    "input_size = (224,224)\n",
    "\n",
    "train_loader, test_loader, val_loader, mappings = load_data(path_train, val_split, path_test, batch_size, input_size)"
   ]
  },
  {
   "cell_type": "code",
   "execution_count": 21,
   "metadata": {
    "colab": {
     "base_uri": "https://localhost:8080/"
    },
    "execution": {
     "iopub.execute_input": "2022-11-25T13:15:40.150881Z",
     "iopub.status.busy": "2022-11-25T13:15:40.149924Z",
     "iopub.status.idle": "2022-11-25T13:15:40.224665Z",
     "shell.execute_reply": "2022-11-25T13:15:40.223451Z",
     "shell.execute_reply.started": "2022-11-25T13:15:40.150844Z"
    },
    "id": "Jv9lTRSqcGjP",
    "outputId": "8f1ec2b9-91a0-44ec-d34f-d22f1d0b9b11"
   },
   "outputs": [
    {
     "name": "stdout",
     "output_type": "stream",
     "text": [
      "Device: cuda:0\n"
     ]
    }
   ],
   "source": [
    "device = torch.device(\"cuda:0\" if torch.cuda.is_available() else \"cpu\")\n",
    "print(\"Device: {}\".format(device))\n",
    "x = AlexNet_model.to(device)"
   ]
  },
  {
   "cell_type": "code",
   "execution_count": 22,
   "metadata": {
    "colab": {
     "base_uri": "https://localhost:8080/"
    },
    "execution": {
     "iopub.execute_input": "2022-11-25T13:15:40.226581Z",
     "iopub.status.busy": "2022-11-25T13:15:40.226134Z",
     "iopub.status.idle": "2022-11-25T13:15:40.242414Z",
     "shell.execute_reply": "2022-11-25T13:15:40.241531Z",
     "shell.execute_reply.started": "2022-11-25T13:15:40.226546Z"
    },
    "id": "Y7Eq5hFtcGjP",
    "outputId": "b59ba686-f34a-48aa-d4ca-eab8168ee706"
   },
   "outputs": [
    {
     "name": "stdout",
     "output_type": "stream",
     "text": [
      "Class: CROSS_ROAD has samples: 140 \n",
      "Class: GAP_IN_MEDIAN has samples: 180 \n",
      "Class: COMPULSARY_KEEP_RIGHT has samples: 223 \n",
      "Class: HORN_PROHIBITED has samples: 160 \n",
      "Class: HUMP_OR_ROUGH_ROAD has samples: 101 \n",
      "Class: LEFT_TURN_PROHIBITED has samples: 126 \n",
      "Class: NO_ENTRY has samples: 174 \n",
      "Class: NO_STOPPING_OR_STANDING has samples: 242 \n",
      "Class: PEDESTRIAN_CROSSING has samples: 121 \n",
      "Class: SPEED_LIMIT_40 has samples: 170 \n",
      "Class: SPEED_LIMIT_80 has samples: 192 \n",
      "Class: SPEED_LIMIT_30 has samples: 238 \n",
      "Class: SPEED_LIMIT_50 has samples: 200 \n",
      "Class: SPEED_LIMIT_60 has samples: 190 \n",
      "Class: SPEED_LIMIT_70 has samples: 160 \n",
      "\n",
      "Total number of samples:  2617\n",
      "\n",
      "Time taken: 0.045252084732055664\n"
     ]
    }
   ],
   "source": [
    "class_weights = get_class_weights(path_train, mappings)\n",
    "\n",
    "class_weights = torch.FloatTensor(class_weights)\n",
    "class_weights = class_weights.to(device)\n",
    "\n",
    "criterion = get_criterion(class_weights)"
   ]
  },
  {
   "cell_type": "code",
   "execution_count": 23,
   "metadata": {
    "colab": {
     "base_uri": "https://localhost:8080/"
    },
    "execution": {
     "iopub.execute_input": "2022-11-25T13:15:40.245589Z",
     "iopub.status.busy": "2022-11-25T13:15:40.245336Z",
     "iopub.status.idle": "2022-11-25T14:01:49.224637Z",
     "shell.execute_reply": "2022-11-25T14:01:49.223395Z",
     "shell.execute_reply.started": "2022-11-25T13:15:40.245565Z"
    },
    "id": "OkcH8h3ccGjP",
    "outputId": "efcf86e2-7317-4f8c-b5a6-a2bcfca2aa80"
   },
   "outputs": [
    {
     "name": "stdout",
     "output_type": "stream",
     "text": [
      "Epoch [1/10], Step [10/66], Loss: 2.6811, Accuracy: 12.50%, Validation Accuracy: 11.47%\n",
      "Epoch [1/10], Step [20/66], Loss: 2.4506, Accuracy: 28.12%, Validation Accuracy: 23.14%\n",
      "Epoch [1/10], Step [30/66], Loss: 2.6334, Accuracy: 9.38%, Validation Accuracy: 27.53%\n",
      "Epoch [1/10], Step [40/66], Loss: 2.4380, Accuracy: 40.62%, Validation Accuracy: 34.80%\n",
      "Epoch [1/10], Step [50/66], Loss: 2.0842, Accuracy: 34.38%, Validation Accuracy: 44.74%\n",
      "Epoch [1/10], Step [60/66], Loss: 2.0753, Accuracy: 34.38%, Validation Accuracy: 45.89%\n",
      "Epoch [2/10], Step [10/66], Loss: 1.9141, Accuracy: 40.62%, Validation Accuracy: 52.58%\n",
      "Epoch [2/10], Step [20/66], Loss: 1.8802, Accuracy: 34.38%, Validation Accuracy: 53.54%\n",
      "Epoch [2/10], Step [30/66], Loss: 1.4238, Accuracy: 59.38%, Validation Accuracy: 56.21%\n",
      "Epoch [2/10], Step [40/66], Loss: 1.7493, Accuracy: 40.62%, Validation Accuracy: 58.51%\n",
      "Epoch [2/10], Step [50/66], Loss: 1.5129, Accuracy: 59.38%, Validation Accuracy: 62.91%\n",
      "Epoch [2/10], Step [60/66], Loss: 1.4073, Accuracy: 62.50%, Validation Accuracy: 62.91%\n",
      "Epoch [3/10], Step [10/66], Loss: 1.1794, Accuracy: 65.62%, Validation Accuracy: 66.35%\n",
      "Epoch [3/10], Step [20/66], Loss: 1.3899, Accuracy: 50.00%, Validation Accuracy: 65.39%\n",
      "Epoch [3/10], Step [30/66], Loss: 1.5069, Accuracy: 46.88%, Validation Accuracy: 66.54%\n",
      "Epoch [3/10], Step [40/66], Loss: 1.1878, Accuracy: 59.38%, Validation Accuracy: 70.17%\n",
      "Epoch [3/10], Step [50/66], Loss: 1.2538, Accuracy: 56.25%, Validation Accuracy: 69.02%\n",
      "Epoch [3/10], Step [60/66], Loss: 0.9783, Accuracy: 78.12%, Validation Accuracy: 69.79%\n",
      "Epoch [4/10], Step [10/66], Loss: 0.8050, Accuracy: 81.25%, Validation Accuracy: 69.98%\n",
      "Epoch [4/10], Step [20/66], Loss: 0.8153, Accuracy: 75.00%, Validation Accuracy: 72.08%\n",
      "Epoch [4/10], Step [30/66], Loss: 1.1751, Accuracy: 59.38%, Validation Accuracy: 72.08%\n",
      "Epoch [4/10], Step [40/66], Loss: 0.9266, Accuracy: 65.62%, Validation Accuracy: 72.66%\n",
      "Epoch [4/10], Step [50/66], Loss: 1.1028, Accuracy: 59.38%, Validation Accuracy: 73.04%\n",
      "Epoch [4/10], Step [50/66], Loss: 1.1028, Accuracy: 59.38%, Validation Accuracy: 73.04%\n",
      "Epoch [4/10], Step [60/66], Loss: 1.1027, Accuracy: 62.50%, Validation Accuracy: 72.47%\n",
      "Epoch [4/10], Step [60/66], Loss: 1.1027, Accuracy: 62.50%, Validation Accuracy: 72.47%\n",
      "Epoch [5/10], Step [10/66], Loss: 0.9184, Accuracy: 65.62%, Validation Accuracy: 70.94%\n",
      "Epoch [5/10], Step [10/66], Loss: 0.9184, Accuracy: 65.62%, Validation Accuracy: 70.94%\n",
      "Epoch [5/10], Step [20/66], Loss: 0.9942, Accuracy: 65.62%, Validation Accuracy: 73.42%\n",
      "Epoch [5/10], Step [20/66], Loss: 0.9942, Accuracy: 65.62%, Validation Accuracy: 73.42%\n",
      "Epoch [5/10], Step [30/66], Loss: 0.8635, Accuracy: 65.62%, Validation Accuracy: 74.00%\n",
      "Epoch [5/10], Step [30/66], Loss: 0.8635, Accuracy: 65.62%, Validation Accuracy: 74.00%\n",
      "Epoch [5/10], Step [40/66], Loss: 0.7583, Accuracy: 87.50%, Validation Accuracy: 73.42%\n",
      "Epoch [5/10], Step [40/66], Loss: 0.7583, Accuracy: 87.50%, Validation Accuracy: 73.42%\n",
      "Epoch [5/10], Step [50/66], Loss: 1.0752, Accuracy: 65.62%, Validation Accuracy: 75.14%\n",
      "Epoch [5/10], Step [50/66], Loss: 1.0752, Accuracy: 65.62%, Validation Accuracy: 75.14%\n",
      "Epoch [5/10], Step [60/66], Loss: 0.8913, Accuracy: 75.00%, Validation Accuracy: 75.72%\n",
      "Epoch [5/10], Step [60/66], Loss: 0.8913, Accuracy: 75.00%, Validation Accuracy: 75.72%\n",
      "Epoch [6/10], Step [10/66], Loss: 0.8158, Accuracy: 78.12%, Validation Accuracy: 75.72%\n",
      "Epoch [6/10], Step [10/66], Loss: 0.8158, Accuracy: 78.12%, Validation Accuracy: 75.72%\n",
      "Epoch [6/10], Step [20/66], Loss: 0.6570, Accuracy: 78.12%, Validation Accuracy: 76.86%\n",
      "Epoch [6/10], Step [20/66], Loss: 0.6570, Accuracy: 78.12%, Validation Accuracy: 76.86%\n",
      "Epoch [6/10], Step [30/66], Loss: 0.7989, Accuracy: 65.62%, Validation Accuracy: 74.76%\n",
      "Epoch [6/10], Step [30/66], Loss: 0.7989, Accuracy: 65.62%, Validation Accuracy: 74.76%\n",
      "Epoch [6/10], Step [40/66], Loss: 0.8404, Accuracy: 75.00%, Validation Accuracy: 74.19%\n",
      "Epoch [6/10], Step [40/66], Loss: 0.8404, Accuracy: 75.00%, Validation Accuracy: 74.19%\n",
      "Epoch [6/10], Step [50/66], Loss: 0.9835, Accuracy: 59.38%, Validation Accuracy: 75.53%\n",
      "Epoch [6/10], Step [50/66], Loss: 0.9835, Accuracy: 59.38%, Validation Accuracy: 75.53%\n",
      "Epoch [6/10], Step [60/66], Loss: 0.9331, Accuracy: 65.62%, Validation Accuracy: 77.25%\n",
      "Epoch [6/10], Step [60/66], Loss: 0.9331, Accuracy: 65.62%, Validation Accuracy: 77.25%\n",
      "Epoch [7/10], Step [10/66], Loss: 0.6641, Accuracy: 68.75%, Validation Accuracy: 77.06%\n",
      "Epoch [7/10], Step [10/66], Loss: 0.6641, Accuracy: 68.75%, Validation Accuracy: 77.06%\n",
      "Epoch [7/10], Step [20/66], Loss: 0.7971, Accuracy: 65.62%, Validation Accuracy: 79.54%\n",
      "Epoch [7/10], Step [20/66], Loss: 0.7971, Accuracy: 65.62%, Validation Accuracy: 79.54%\n",
      "Epoch [7/10], Step [30/66], Loss: 1.0469, Accuracy: 56.25%, Validation Accuracy: 78.20%\n",
      "Epoch [7/10], Step [30/66], Loss: 1.0469, Accuracy: 56.25%, Validation Accuracy: 78.20%\n",
      "Epoch [7/10], Step [40/66], Loss: 0.8261, Accuracy: 65.62%, Validation Accuracy: 77.82%\n",
      "Epoch [7/10], Step [40/66], Loss: 0.8261, Accuracy: 65.62%, Validation Accuracy: 77.82%\n",
      "Epoch [7/10], Step [50/66], Loss: 0.8347, Accuracy: 65.62%, Validation Accuracy: 76.48%\n",
      "Epoch [7/10], Step [50/66], Loss: 0.8347, Accuracy: 65.62%, Validation Accuracy: 76.48%\n",
      "Epoch [7/10], Step [60/66], Loss: 0.7094, Accuracy: 81.25%, Validation Accuracy: 76.86%\n",
      "Epoch [7/10], Step [60/66], Loss: 0.7094, Accuracy: 81.25%, Validation Accuracy: 76.86%\n",
      "Epoch [8/10], Step [10/66], Loss: 0.8287, Accuracy: 71.88%, Validation Accuracy: 78.20%\n",
      "Epoch [8/10], Step [10/66], Loss: 0.8287, Accuracy: 71.88%, Validation Accuracy: 78.20%\n",
      "Epoch [8/10], Step [20/66], Loss: 0.6040, Accuracy: 81.25%, Validation Accuracy: 78.20%\n",
      "Epoch [8/10], Step [20/66], Loss: 0.6040, Accuracy: 81.25%, Validation Accuracy: 78.20%\n",
      "Epoch [8/10], Step [30/66], Loss: 0.6330, Accuracy: 84.38%, Validation Accuracy: 76.48%\n",
      "Epoch [8/10], Step [30/66], Loss: 0.6330, Accuracy: 84.38%, Validation Accuracy: 76.48%\n",
      "Epoch [8/10], Step [40/66], Loss: 0.8711, Accuracy: 62.50%, Validation Accuracy: 80.88%\n",
      "Epoch [8/10], Step [40/66], Loss: 0.8711, Accuracy: 62.50%, Validation Accuracy: 80.88%\n",
      "Epoch [8/10], Step [50/66], Loss: 0.5550, Accuracy: 90.62%, Validation Accuracy: 80.31%\n",
      "Epoch [8/10], Step [50/66], Loss: 0.5550, Accuracy: 90.62%, Validation Accuracy: 80.31%\n",
      "Epoch [8/10], Step [60/66], Loss: 0.4209, Accuracy: 87.50%, Validation Accuracy: 79.73%\n",
      "Epoch [8/10], Step [60/66], Loss: 0.4209, Accuracy: 87.50%, Validation Accuracy: 79.73%\n",
      "Epoch [9/10], Step [10/66], Loss: 0.6441, Accuracy: 81.25%, Validation Accuracy: 78.20%\n",
      "Epoch [9/10], Step [10/66], Loss: 0.6441, Accuracy: 81.25%, Validation Accuracy: 78.20%\n",
      "Epoch [9/10], Step [20/66], Loss: 0.3060, Accuracy: 90.62%, Validation Accuracy: 80.50%\n",
      "Epoch [9/10], Step [20/66], Loss: 0.3060, Accuracy: 90.62%, Validation Accuracy: 80.50%\n",
      "Epoch [9/10], Step [30/66], Loss: 0.6219, Accuracy: 84.38%, Validation Accuracy: 80.11%\n",
      "Epoch [9/10], Step [30/66], Loss: 0.6219, Accuracy: 84.38%, Validation Accuracy: 80.11%\n",
      "Epoch [9/10], Step [40/66], Loss: 0.9120, Accuracy: 71.88%, Validation Accuracy: 78.39%\n",
      "Epoch [9/10], Step [40/66], Loss: 0.9120, Accuracy: 71.88%, Validation Accuracy: 78.39%\n",
      "Epoch [9/10], Step [60/66], Loss: 0.7625, Accuracy: 78.12%, Validation Accuracy: 79.35%\n",
      "Epoch [9/10], Step [60/66], Loss: 0.7625, Accuracy: 78.12%, Validation Accuracy: 79.35%\n",
      "Epoch [10/10], Step [10/66], Loss: 0.4486, Accuracy: 81.25%, Validation Accuracy: 79.54%\n",
      "Epoch [10/10], Step [10/66], Loss: 0.4486, Accuracy: 81.25%, Validation Accuracy: 79.54%\n",
      "Epoch [10/10], Step [20/66], Loss: 0.7999, Accuracy: 68.75%, Validation Accuracy: 78.97%\n",
      "Epoch [10/10], Step [20/66], Loss: 0.7999, Accuracy: 68.75%, Validation Accuracy: 78.97%\n",
      "Epoch [10/10], Step [30/66], Loss: 0.9169, Accuracy: 71.88%, Validation Accuracy: 77.06%\n",
      "Epoch [10/10], Step [30/66], Loss: 0.9169, Accuracy: 71.88%, Validation Accuracy: 77.06%\n",
      "Epoch [10/10], Step [40/66], Loss: 0.5529, Accuracy: 78.12%, Validation Accuracy: 79.54%\n",
      "Epoch [10/10], Step [40/66], Loss: 0.5529, Accuracy: 78.12%, Validation Accuracy: 79.54%\n",
      "Epoch [10/10], Step [50/66], Loss: 0.3538, Accuracy: 90.62%, Validation Accuracy: 79.92%\n",
      "Epoch [10/10], Step [50/66], Loss: 0.3538, Accuracy: 90.62%, Validation Accuracy: 79.92%\n",
      "Epoch [10/10], Step [60/66], Loss: 0.6289, Accuracy: 75.00%, Validation Accuracy: 81.64%\n",
      "Epoch [10/10], Step [60/66], Loss: 0.6289, Accuracy: 75.00%, Validation Accuracy: 81.64%\n",
      "######## Training Finished in 3610.8184654712677 seconds ###########\n",
      "/n/n Saving model at:  /content/drive/My Drive/6721 Dataset/alexnetmodel_tl_d1.pt\n",
      "######## Training Finished in 3610.8184654712677 seconds ###########\n",
      "/n/n Saving model at:  /content/drive/My Drive/6721 Dataset/alexnetmodel_tl_d1.pt\n"
     ]
    }
   ],
   "source": [
    "model_savepath = savepath+\"alexnetmodel_tl_d1.pt\"\n",
    "results_savepath = savepath+\"alexnetmodel_tl_d1_results.pkb\"\n",
    "\n",
    "trained_AlexNet_model, device = train_model(AlexNet_model, num_epochs, train_loader, criterion, optimizer, model_savepath, results_savepath, device)"
   ]
  },
  {
   "cell_type": "code",
   "execution_count": 24,
   "metadata": {
    "colab": {
     "base_uri": "https://localhost:8080/"
    },
    "execution": {
     "iopub.execute_input": "2022-11-25T14:01:49.226353Z",
     "iopub.status.busy": "2022-11-25T14:01:49.225987Z",
     "iopub.status.idle": "2022-11-25T14:02:04.531969Z",
     "shell.execute_reply": "2022-11-25T14:02:04.530887Z",
     "shell.execute_reply.started": "2022-11-25T14:01:49.226319Z"
    },
    "id": "To1qze4qcGjQ",
    "outputId": "9dd32920-36e8-422b-ad5e-d76682969a24"
   },
   "outputs": [
    {
     "name": "stdout",
     "output_type": "stream",
     "text": [
      "Model Evaluation Results on 710 test samples\n",
      "Test Accuracy:  69.85915492957746\n",
      "Test F1 Score:  tensor(0.6986)\n",
      "Model Evaluation Results on 710 test samples\n",
      "Test Accuracy:  69.85915492957746\n",
      "Test F1 Score:  tensor(0.6986)\n"
     ]
    }
   ],
   "source": [
    "evaluate_model(trained_AlexNet_model, test_loader, device, nclasses)"
   ]
  },
  {
   "cell_type": "code",
   "execution_count": null,
   "metadata": {
    "id": "DWsSY9KQcGjQ"
   },
   "outputs": [],
   "source": []
  },
  {
   "cell_type": "markdown",
   "metadata": {
    "id": "gXNuPflBcGjQ"
   },
   "source": [
    "ResNet-18 with dataset 1"
   ]
  },
  {
   "cell_type": "code",
   "execution_count": null,
   "metadata": {
    "id": "45yfKAnscGjQ"
   },
   "outputs": [],
   "source": [
    "nclasses=15"
   ]
  },
  {
   "cell_type": "code",
   "execution_count": null,
   "metadata": {
    "execution": {
     "iopub.execute_input": "2022-11-25T14:02:04.535459Z",
     "iopub.status.busy": "2022-11-25T14:02:04.533531Z",
     "iopub.status.idle": "2022-11-25T14:02:07.185381Z",
     "shell.execute_reply": "2022-11-25T14:02:07.184310Z",
     "shell.execute_reply.started": "2022-11-25T14:02:04.535418Z"
    },
    "id": "kGbqB8RQcGjQ"
   },
   "outputs": [],
   "source": [
    "ResNet_model = torch.hub.load('pytorch/vision:v0.10.0', 'resnet18', pretrained=True)"
   ]
  },
  {
   "cell_type": "code",
   "execution_count": null,
   "metadata": {
    "execution": {
     "iopub.execute_input": "2022-11-25T14:02:07.188455Z",
     "iopub.status.busy": "2022-11-25T14:02:07.186900Z",
     "iopub.status.idle": "2022-11-25T14:02:07.194938Z",
     "shell.execute_reply": "2022-11-25T14:02:07.193726Z",
     "shell.execute_reply.started": "2022-11-25T14:02:07.188410Z"
    },
    "id": "94jA3kQucGjR"
   },
   "outputs": [],
   "source": [
    "# layers = ResNet_model.state_dict().keys()\n",
    "\n",
    "for name, param in ResNet_model.named_parameters():\n",
    "    if not name.startswith('fc'):\n",
    "        param.requires_grad = False"
   ]
  },
  {
   "cell_type": "code",
   "execution_count": null,
   "metadata": {
    "execution": {
     "iopub.execute_input": "2022-11-25T14:02:07.197252Z",
     "iopub.status.busy": "2022-11-25T14:02:07.196622Z",
     "iopub.status.idle": "2022-11-25T14:02:07.207824Z",
     "shell.execute_reply": "2022-11-25T14:02:07.206771Z",
     "shell.execute_reply.started": "2022-11-25T14:02:07.197213Z"
    },
    "id": "_b4prpvYcGjR"
   },
   "outputs": [],
   "source": [
    "ResNet_model.fc = nn.Linear( 512, nclasses)"
   ]
  },
  {
   "cell_type": "code",
   "execution_count": null,
   "metadata": {
    "execution": {
     "iopub.execute_input": "2022-11-25T14:02:07.209600Z",
     "iopub.status.busy": "2022-11-25T14:02:07.209130Z",
     "iopub.status.idle": "2022-11-25T14:02:07.220639Z",
     "shell.execute_reply": "2022-11-25T14:02:07.219381Z",
     "shell.execute_reply.started": "2022-11-25T14:02:07.209561Z"
    },
    "id": "mzXos4ROcGjS"
   },
   "outputs": [],
   "source": [
    "for name, param in ResNet_model.named_parameters():\n",
    "        print(\"Layer: {} has requires_grad set to: {}\".format(name, param.requires_grad))"
   ]
  },
  {
   "cell_type": "code",
   "execution_count": null,
   "metadata": {
    "execution": {
     "iopub.execute_input": "2022-11-25T14:02:07.222791Z",
     "iopub.status.busy": "2022-11-25T14:02:07.221912Z",
     "iopub.status.idle": "2022-11-25T14:02:07.232849Z",
     "shell.execute_reply": "2022-11-25T14:02:07.231828Z",
     "shell.execute_reply.started": "2022-11-25T14:02:07.222756Z"
    },
    "id": "uj5Cu_BXcGjS"
   },
   "outputs": [],
   "source": [
    "ResNet_model.eval()"
   ]
  },
  {
   "cell_type": "code",
   "execution_count": null,
   "metadata": {
    "execution": {
     "iopub.execute_input": "2022-11-25T14:02:07.234849Z",
     "iopub.status.busy": "2022-11-25T14:02:07.234318Z",
     "iopub.status.idle": "2022-11-25T14:02:07.243160Z",
     "shell.execute_reply": "2022-11-25T14:02:07.242181Z",
     "shell.execute_reply.started": "2022-11-25T14:02:07.234815Z"
    },
    "id": "sWiOfE9gcGjS"
   },
   "outputs": [],
   "source": [
    "optimizer = torch.optim.Adam(ResNet_model.parameters(), lr=learning_rate) "
   ]
  },
  {
   "cell_type": "code",
   "execution_count": null,
   "metadata": {
    "execution": {
     "iopub.execute_input": "2022-11-25T14:02:07.245239Z",
     "iopub.status.busy": "2022-11-25T14:02:07.244830Z",
     "iopub.status.idle": "2022-11-25T14:02:07.285884Z",
     "shell.execute_reply": "2022-11-25T14:02:07.284951Z",
     "shell.execute_reply.started": "2022-11-25T14:02:07.245199Z"
    },
    "id": "A-i2w16bcGjT"
   },
   "outputs": [],
   "source": [
    "path_train = path_dataset1+\"train/\"\n",
    "path_test = path_dataset1+\"test/\"\n",
    "val_split = 0.2\n",
    "batch_size = 32\n",
    "input_size = (224,224)\n",
    "\n",
    "train_loader, test_loader, val_loader, mappings = load_data(path_train, val_split, path_test, batch_size, input_size)"
   ]
  },
  {
   "cell_type": "code",
   "execution_count": null,
   "metadata": {
    "execution": {
     "iopub.execute_input": "2022-11-25T14:02:07.288774Z",
     "iopub.status.busy": "2022-11-25T14:02:07.288459Z",
     "iopub.status.idle": "2022-11-25T14:02:07.309711Z",
     "shell.execute_reply": "2022-11-25T14:02:07.308738Z",
     "shell.execute_reply.started": "2022-11-25T14:02:07.288748Z"
    },
    "id": "yGCCheP8cGjT"
   },
   "outputs": [],
   "source": [
    "device = torch.device(\"cuda:0\" if torch.cuda.is_available() else \"cpu\")\n",
    "print(\"Device: {}\".format(device))\n",
    "x = ResNet_model.to(device)"
   ]
  },
  {
   "cell_type": "code",
   "execution_count": null,
   "metadata": {
    "execution": {
     "iopub.execute_input": "2022-11-25T14:02:07.311354Z",
     "iopub.status.busy": "2022-11-25T14:02:07.311000Z",
     "iopub.status.idle": "2022-11-25T14:02:07.326695Z",
     "shell.execute_reply": "2022-11-25T14:02:07.325731Z",
     "shell.execute_reply.started": "2022-11-25T14:02:07.311317Z"
    },
    "id": "BlwJ7t2EcGjT"
   },
   "outputs": [],
   "source": [
    "class_weights = get_class_weights(path_train, mappings)\n",
    "\n",
    "class_weights = torch.FloatTensor(class_weights)\n",
    "class_weights = class_weights.to(device)\n",
    "\n",
    "criterion = get_criterion(class_weights)"
   ]
  },
  {
   "cell_type": "code",
   "execution_count": 35,
   "metadata": {
    "colab": {
     "base_uri": "https://localhost:8080/"
    },
    "execution": {
     "iopub.execute_input": "2022-11-25T14:02:07.329707Z",
     "iopub.status.busy": "2022-11-25T14:02:07.329000Z",
     "iopub.status.idle": "2022-11-25T14:46:29.775273Z",
     "shell.execute_reply": "2022-11-25T14:46:29.774317Z",
     "shell.execute_reply.started": "2022-11-25T14:02:07.329667Z"
    },
    "id": "w16rlKmGcGjT",
    "outputId": "2a1cf705-11c2-4d75-cd4a-60b8cc303afd"
   },
   "outputs": [
    {
     "name": "stdout",
     "output_type": "stream",
     "text": [
      "Epoch [1/10], Step [10/66], Loss: 3.2227, Accuracy: 3.12%, Validation Accuracy: 7.84%\n",
      "Epoch [1/10], Step [20/66], Loss: 2.7741, Accuracy: 6.25%, Validation Accuracy: 8.22%\n",
      "Epoch [1/10], Step [30/66], Loss: 2.9595, Accuracy: 3.12%, Validation Accuracy: 8.41%\n",
      "Epoch [1/10], Step [40/66], Loss: 2.8735, Accuracy: 6.25%, Validation Accuracy: 7.84%\n",
      "Epoch [1/10], Step [50/66], Loss: 2.8367, Accuracy: 3.12%, Validation Accuracy: 7.65%\n",
      "Epoch [1/10], Step [60/66], Loss: 2.8102, Accuracy: 6.25%, Validation Accuracy: 7.65%\n",
      "Epoch [2/10], Step [10/66], Loss: 2.8524, Accuracy: 6.25%, Validation Accuracy: 6.50%\n",
      "Epoch [2/10], Step [20/66], Loss: 2.8355, Accuracy: 6.25%, Validation Accuracy: 9.56%\n",
      "Epoch [2/10], Step [30/66], Loss: 2.7649, Accuracy: 15.62%, Validation Accuracy: 8.99%\n",
      "Epoch [2/10], Step [40/66], Loss: 2.7425, Accuracy: 9.38%, Validation Accuracy: 10.52%\n",
      "Epoch [2/10], Step [50/66], Loss: 2.8655, Accuracy: 9.38%, Validation Accuracy: 9.37%\n",
      "Epoch [2/10], Step [60/66], Loss: 2.8221, Accuracy: 6.25%, Validation Accuracy: 8.80%\n",
      "Epoch [3/10], Step [10/66], Loss: 2.7274, Accuracy: 6.25%, Validation Accuracy: 9.75%\n",
      "Epoch [3/10], Step [20/66], Loss: 2.8259, Accuracy: 3.12%, Validation Accuracy: 11.28%\n",
      "Epoch [3/10], Step [30/66], Loss: 2.6993, Accuracy: 6.25%, Validation Accuracy: 10.90%\n",
      "Epoch [3/10], Step [40/66], Loss: 2.7310, Accuracy: 9.38%, Validation Accuracy: 10.90%\n",
      "Epoch [3/10], Step [50/66], Loss: 2.8524, Accuracy: 3.12%, Validation Accuracy: 11.85%\n",
      "Epoch [3/10], Step [60/66], Loss: 2.6445, Accuracy: 9.38%, Validation Accuracy: 9.94%\n",
      "Epoch [4/10], Step [10/66], Loss: 2.7482, Accuracy: 9.38%, Validation Accuracy: 10.71%\n",
      "Epoch [4/10], Step [20/66], Loss: 2.8074, Accuracy: 12.50%, Validation Accuracy: 12.43%\n",
      "Epoch [4/10], Step [30/66], Loss: 2.6833, Accuracy: 9.38%, Validation Accuracy: 14.15%\n",
      "Epoch [4/10], Step [40/66], Loss: 2.7299, Accuracy: 18.75%, Validation Accuracy: 13.58%\n",
      "Epoch [4/10], Step [50/66], Loss: 2.8036, Accuracy: 3.12%, Validation Accuracy: 13.77%\n",
      "Epoch [4/10], Step [60/66], Loss: 2.5678, Accuracy: 25.00%, Validation Accuracy: 12.24%\n",
      "Epoch [5/10], Step [10/66], Loss: 2.8036, Accuracy: 9.38%, Validation Accuracy: 13.96%\n",
      "Epoch [5/10], Step [20/66], Loss: 2.7730, Accuracy: 12.50%, Validation Accuracy: 14.15%\n",
      "Epoch [5/10], Step [30/66], Loss: 2.6639, Accuracy: 25.00%, Validation Accuracy: 12.62%\n",
      "Epoch [5/10], Step [40/66], Loss: 2.6511, Accuracy: 9.38%, Validation Accuracy: 17.21%\n",
      "Epoch [5/10], Step [50/66], Loss: 2.6409, Accuracy: 9.38%, Validation Accuracy: 16.06%\n",
      "Epoch [5/10], Step [60/66], Loss: 2.6726, Accuracy: 15.62%, Validation Accuracy: 16.06%\n",
      "Epoch [6/10], Step [10/66], Loss: 2.6974, Accuracy: 9.38%, Validation Accuracy: 16.44%\n",
      "Epoch [6/10], Step [20/66], Loss: 2.6812, Accuracy: 9.38%, Validation Accuracy: 16.25%\n",
      "Epoch [6/10], Step [30/66], Loss: 2.5569, Accuracy: 31.25%, Validation Accuracy: 16.06%\n",
      "Epoch [6/10], Step [40/66], Loss: 2.6741, Accuracy: 15.62%, Validation Accuracy: 16.83%\n",
      "Epoch [6/10], Step [50/66], Loss: 2.7565, Accuracy: 9.38%, Validation Accuracy: 18.36%\n",
      "Epoch [6/10], Step [60/66], Loss: 2.7368, Accuracy: 3.12%, Validation Accuracy: 15.49%\n",
      "Epoch [7/10], Step [10/66], Loss: 2.6118, Accuracy: 9.38%, Validation Accuracy: 17.78%\n",
      "Epoch [7/10], Step [20/66], Loss: 2.5691, Accuracy: 21.88%, Validation Accuracy: 17.21%\n",
      "Epoch [7/10], Step [30/66], Loss: 2.5128, Accuracy: 28.12%, Validation Accuracy: 17.78%\n",
      "Epoch [7/10], Step [40/66], Loss: 2.5520, Accuracy: 21.88%, Validation Accuracy: 17.97%\n",
      "Epoch [7/10], Step [50/66], Loss: 2.4766, Accuracy: 21.88%, Validation Accuracy: 16.63%\n",
      "Epoch [7/10], Step [60/66], Loss: 2.7123, Accuracy: 6.25%, Validation Accuracy: 18.74%\n",
      "Epoch [8/10], Step [10/66], Loss: 2.6798, Accuracy: 12.50%, Validation Accuracy: 17.40%\n",
      "Epoch [8/10], Step [20/66], Loss: 2.4738, Accuracy: 25.00%, Validation Accuracy: 19.31%\n",
      "Epoch [8/10], Step [30/66], Loss: 2.6499, Accuracy: 15.62%, Validation Accuracy: 17.97%\n",
      "Epoch [8/10], Step [40/66], Loss: 2.6511, Accuracy: 9.38%, Validation Accuracy: 19.69%\n",
      "Epoch [8/10], Step [50/66], Loss: 2.5766, Accuracy: 15.62%, Validation Accuracy: 15.30%\n",
      "Epoch [8/10], Step [60/66], Loss: 2.5262, Accuracy: 25.00%, Validation Accuracy: 19.50%\n",
      "Epoch [9/10], Step [10/66], Loss: 2.4614, Accuracy: 34.38%, Validation Accuracy: 19.69%\n",
      "Epoch [9/10], Step [20/66], Loss: 2.5331, Accuracy: 18.75%, Validation Accuracy: 17.21%\n",
      "Epoch [9/10], Step [30/66], Loss: 2.6112, Accuracy: 9.38%, Validation Accuracy: 21.41%\n",
      "Epoch [9/10], Step [40/66], Loss: 2.5244, Accuracy: 15.62%, Validation Accuracy: 19.50%\n",
      "Epoch [9/10], Step [50/66], Loss: 2.5850, Accuracy: 18.75%, Validation Accuracy: 21.22%\n",
      "Epoch [9/10], Step [60/66], Loss: 2.4742, Accuracy: 15.62%, Validation Accuracy: 22.37%\n",
      "Epoch [10/10], Step [10/66], Loss: 2.4851, Accuracy: 25.00%, Validation Accuracy: 19.50%\n",
      "Epoch [10/10], Step [20/66], Loss: 2.5467, Accuracy: 12.50%, Validation Accuracy: 21.22%\n",
      "Epoch [10/10], Step [30/66], Loss: 2.4418, Accuracy: 15.62%, Validation Accuracy: 20.46%\n",
      "Epoch [10/10], Step [40/66], Loss: 2.3809, Accuracy: 18.75%, Validation Accuracy: 18.16%\n",
      "Epoch [10/10], Step [50/66], Loss: 2.5668, Accuracy: 12.50%, Validation Accuracy: 20.46%\n",
      "Epoch [10/10], Step [60/66], Loss: 2.4064, Accuracy: 21.88%, Validation Accuracy: 18.74%\n",
      "######## Training Finished in 2427.821457386017 seconds ###########\n",
      "/n/n Saving model at:  /content/drive/My Drive/6721 Dataset/resnetmodel_tl_d1.pt\n"
     ]
    }
   ],
   "source": [
    "model_savepath = savepath+\"resnetmodel_tl_d1.pt\"\n",
    "results_savepath = savepath+\"resnetmodel_tl_d1_results.pkb\"\n",
    "\n",
    "trained_ResNet_model, device = train_model(ResNet_model, num_epochs, train_loader, criterion, optimizer, model_savepath, results_savepath, device)"
   ]
  },
  {
   "cell_type": "code",
   "execution_count": 36,
   "metadata": {
    "colab": {
     "base_uri": "https://localhost:8080/"
    },
    "execution": {
     "iopub.execute_input": "2022-11-25T14:46:29.777426Z",
     "iopub.status.busy": "2022-11-25T14:46:29.776951Z",
     "iopub.status.idle": "2022-11-25T14:46:44.803383Z",
     "shell.execute_reply": "2022-11-25T14:46:44.802077Z",
     "shell.execute_reply.started": "2022-11-25T14:46:29.777388Z"
    },
    "id": "kUMBJk-gcGjU",
    "outputId": "326dfabd-31b1-4e82-b393-1c5a181f7a76"
   },
   "outputs": [
    {
     "name": "stdout",
     "output_type": "stream",
     "text": [
      "Model Evaluation Results on 710 test samples\n",
      "Test Accuracy:  26.619718309859152\n",
      "Test F1 Score:  tensor(0.2662)\n"
     ]
    }
   ],
   "source": [
    "evaluate_model(trained_ResNet_model, test_loader, device, nclasses)"
   ]
  },
  {
   "cell_type": "code",
   "execution_count": null,
   "metadata": {
    "id": "ZV6dqFJIIp_l"
   },
   "outputs": [],
   "source": []
  },
  {
   "cell_type": "markdown",
   "metadata": {
    "id": "VWd3MPSW8zeJ"
   },
   "source": []
  },
  {
   "cell_type": "markdown",
   "metadata": {
    "id": "kv-EBtZL8zeJ"
   },
   "source": []
  },
  {
   "cell_type": "markdown",
   "metadata": {
    "id": "pq3ctHuw8zeJ"
   },
   "source": []
  },
  {
   "cell_type": "markdown",
   "metadata": {
    "id": "5ElHMmX18zeJ"
   },
   "source": []
  },
  {
   "cell_type": "markdown",
   "metadata": {
    "id": "eoNyJ40L8zeJ"
   },
   "source": []
  },
  {
   "cell_type": "markdown",
   "metadata": {
    "id": "7kJT9abW8zeJ"
   },
   "source": []
  },
  {
   "cell_type": "markdown",
   "metadata": {
    "id": "62SotMTP8zeK"
   },
   "source": []
  },
  {
   "cell_type": "markdown",
   "metadata": {
    "id": "-3wPEpy28zeK"
   },
   "source": []
  },
  {
   "cell_type": "markdown",
   "metadata": {
    "id": "29pOABPm8zeK"
   },
   "source": []
  },
  {
   "cell_type": "markdown",
   "metadata": {
    "id": "f5WPX6Ei8zeK"
   },
   "source": []
  },
  {
   "cell_type": "markdown",
   "metadata": {
    "id": "nEziQPuv8zeK"
   },
   "source": []
  },
  {
   "cell_type": "markdown",
   "metadata": {
    "id": "tAxu9abJ8zeK"
   },
   "source": []
  },
  {
   "cell_type": "markdown",
   "metadata": {
    "id": "HE3_9nPT8zeL"
   },
   "source": []
  },
  {
   "cell_type": "markdown",
   "metadata": {
    "id": "aez7K6KN8zeL"
   },
   "source": []
  },
  {
   "cell_type": "markdown",
   "metadata": {
    "id": "9uv0i8Xk8zeL"
   },
   "source": []
  },
  {
   "cell_type": "markdown",
   "metadata": {
    "id": "r28Lsvo-8zeL"
   },
   "source": []
  },
  {
   "cell_type": "markdown",
   "metadata": {
    "id": "asRqDZtj8zeL"
   },
   "source": []
  },
  {
   "cell_type": "markdown",
   "metadata": {
    "id": "Zl35E9QH8zeL"
   },
   "source": []
  },
  {
   "cell_type": "code",
   "execution_count": null,
   "metadata": {
    "id": "-hZ70sIW8zeM"
   },
   "outputs": [],
   "source": []
  },
  {
   "cell_type": "code",
   "execution_count": null,
   "metadata": {
    "id": "qur1arqD8zeM"
   },
   "outputs": [],
   "source": []
  }
 ],
 "metadata": {
  "accelerator": "GPU",
  "colab": {
   "provenance": []
  },
  "gpuClass": "standard",
  "kernelspec": {
   "display_name": "Python 3 (ipykernel)",
   "language": "python",
   "name": "python3"
  },
  "language_info": {
   "codemirror_mode": {
    "name": "ipython",
    "version": 3
   },
   "file_extension": ".py",
   "mimetype": "text/x-python",
   "name": "python",
   "nbconvert_exporter": "python",
   "pygments_lexer": "ipython3",
   "version": "3.10.3"
  },
  "widgets": {
   "application/vnd.jupyter.widget-state+json": {
    "02fea19bdd3d4808aa395615c94a3dc2": {
     "model_module": "@jupyter-widgets/controls",
     "model_module_version": "1.5.0",
     "model_name": "HTMLModel",
     "state": {
      "_dom_classes": [],
      "_model_module": "@jupyter-widgets/controls",
      "_model_module_version": "1.5.0",
      "_model_name": "HTMLModel",
      "_view_count": null,
      "_view_module": "@jupyter-widgets/controls",
      "_view_module_version": "1.5.0",
      "_view_name": "HTMLView",
      "description": "",
      "description_tooltip": null,
      "layout": "IPY_MODEL_a3ad016ae7bf42268d60b3c37ee84b0f",
      "placeholder": "​",
      "style": "IPY_MODEL_e650ccaaae6c49199aa766c138d3484d",
      "value": " 233M/233M [00:04&lt;00:00, 42.9MB/s]"
     }
    },
    "25f0e8e68e4c43adac8feee63ff23598": {
     "model_module": "@jupyter-widgets/base",
     "model_module_version": "1.2.0",
     "model_name": "LayoutModel",
     "state": {
      "_model_module": "@jupyter-widgets/base",
      "_model_module_version": "1.2.0",
      "_model_name": "LayoutModel",
      "_view_count": null,
      "_view_module": "@jupyter-widgets/base",
      "_view_module_version": "1.2.0",
      "_view_name": "LayoutView",
      "align_content": null,
      "align_items": null,
      "align_self": null,
      "border": null,
      "bottom": null,
      "display": null,
      "flex": null,
      "flex_flow": null,
      "grid_area": null,
      "grid_auto_columns": null,
      "grid_auto_flow": null,
      "grid_auto_rows": null,
      "grid_column": null,
      "grid_gap": null,
      "grid_row": null,
      "grid_template_areas": null,
      "grid_template_columns": null,
      "grid_template_rows": null,
      "height": null,
      "justify_content": null,
      "justify_items": null,
      "left": null,
      "margin": null,
      "max_height": null,
      "max_width": null,
      "min_height": null,
      "min_width": null,
      "object_fit": null,
      "object_position": null,
      "order": null,
      "overflow": null,
      "overflow_x": null,
      "overflow_y": null,
      "padding": null,
      "right": null,
      "top": null,
      "visibility": null,
      "width": null
     }
    },
    "49dcdf4cdd944030bbaeea5877f61272": {
     "model_module": "@jupyter-widgets/controls",
     "model_module_version": "1.5.0",
     "model_name": "FloatProgressModel",
     "state": {
      "_dom_classes": [],
      "_model_module": "@jupyter-widgets/controls",
      "_model_module_version": "1.5.0",
      "_model_name": "FloatProgressModel",
      "_view_count": null,
      "_view_module": "@jupyter-widgets/controls",
      "_view_module_version": "1.5.0",
      "_view_name": "ProgressView",
      "bar_style": "success",
      "description": "",
      "description_tooltip": null,
      "layout": "IPY_MODEL_25f0e8e68e4c43adac8feee63ff23598",
      "max": 244408911,
      "min": 0,
      "orientation": "horizontal",
      "style": "IPY_MODEL_5e65aa29c10047e794780a911fdaf4e0",
      "value": 244408911
     }
    },
    "516588a44aa84da1a5da2a2987349ca8": {
     "model_module": "@jupyter-widgets/controls",
     "model_module_version": "1.5.0",
     "model_name": "HBoxModel",
     "state": {
      "_dom_classes": [],
      "_model_module": "@jupyter-widgets/controls",
      "_model_module_version": "1.5.0",
      "_model_name": "HBoxModel",
      "_view_count": null,
      "_view_module": "@jupyter-widgets/controls",
      "_view_module_version": "1.5.0",
      "_view_name": "HBoxView",
      "box_style": "",
      "children": [
       "IPY_MODEL_5afe6addd2bb486eb372d7a17c3e6d21",
       "IPY_MODEL_49dcdf4cdd944030bbaeea5877f61272",
       "IPY_MODEL_02fea19bdd3d4808aa395615c94a3dc2"
      ],
      "layout": "IPY_MODEL_be3ebf0eac7d4bc38ef65c1cfccc53a0"
     }
    },
    "5ab0a7dfcefa4d969b7d08249e2bf216": {
     "model_module": "@jupyter-widgets/base",
     "model_module_version": "1.2.0",
     "model_name": "LayoutModel",
     "state": {
      "_model_module": "@jupyter-widgets/base",
      "_model_module_version": "1.2.0",
      "_model_name": "LayoutModel",
      "_view_count": null,
      "_view_module": "@jupyter-widgets/base",
      "_view_module_version": "1.2.0",
      "_view_name": "LayoutView",
      "align_content": null,
      "align_items": null,
      "align_self": null,
      "border": null,
      "bottom": null,
      "display": null,
      "flex": null,
      "flex_flow": null,
      "grid_area": null,
      "grid_auto_columns": null,
      "grid_auto_flow": null,
      "grid_auto_rows": null,
      "grid_column": null,
      "grid_gap": null,
      "grid_row": null,
      "grid_template_areas": null,
      "grid_template_columns": null,
      "grid_template_rows": null,
      "height": null,
      "justify_content": null,
      "justify_items": null,
      "left": null,
      "margin": null,
      "max_height": null,
      "max_width": null,
      "min_height": null,
      "min_width": null,
      "object_fit": null,
      "object_position": null,
      "order": null,
      "overflow": null,
      "overflow_x": null,
      "overflow_y": null,
      "padding": null,
      "right": null,
      "top": null,
      "visibility": null,
      "width": null
     }
    },
    "5afe6addd2bb486eb372d7a17c3e6d21": {
     "model_module": "@jupyter-widgets/controls",
     "model_module_version": "1.5.0",
     "model_name": "HTMLModel",
     "state": {
      "_dom_classes": [],
      "_model_module": "@jupyter-widgets/controls",
      "_model_module_version": "1.5.0",
      "_model_name": "HTMLModel",
      "_view_count": null,
      "_view_module": "@jupyter-widgets/controls",
      "_view_module_version": "1.5.0",
      "_view_name": "HTMLView",
      "description": "",
      "description_tooltip": null,
      "layout": "IPY_MODEL_5ab0a7dfcefa4d969b7d08249e2bf216",
      "placeholder": "​",
      "style": "IPY_MODEL_c207ec3eeb9147438d029d10a333421f",
      "value": "100%"
     }
    },
    "5e65aa29c10047e794780a911fdaf4e0": {
     "model_module": "@jupyter-widgets/controls",
     "model_module_version": "1.5.0",
     "model_name": "ProgressStyleModel",
     "state": {
      "_model_module": "@jupyter-widgets/controls",
      "_model_module_version": "1.5.0",
      "_model_name": "ProgressStyleModel",
      "_view_count": null,
      "_view_module": "@jupyter-widgets/base",
      "_view_module_version": "1.2.0",
      "_view_name": "StyleView",
      "bar_color": null,
      "description_width": ""
     }
    },
    "a3ad016ae7bf42268d60b3c37ee84b0f": {
     "model_module": "@jupyter-widgets/base",
     "model_module_version": "1.2.0",
     "model_name": "LayoutModel",
     "state": {
      "_model_module": "@jupyter-widgets/base",
      "_model_module_version": "1.2.0",
      "_model_name": "LayoutModel",
      "_view_count": null,
      "_view_module": "@jupyter-widgets/base",
      "_view_module_version": "1.2.0",
      "_view_name": "LayoutView",
      "align_content": null,
      "align_items": null,
      "align_self": null,
      "border": null,
      "bottom": null,
      "display": null,
      "flex": null,
      "flex_flow": null,
      "grid_area": null,
      "grid_auto_columns": null,
      "grid_auto_flow": null,
      "grid_auto_rows": null,
      "grid_column": null,
      "grid_gap": null,
      "grid_row": null,
      "grid_template_areas": null,
      "grid_template_columns": null,
      "grid_template_rows": null,
      "height": null,
      "justify_content": null,
      "justify_items": null,
      "left": null,
      "margin": null,
      "max_height": null,
      "max_width": null,
      "min_height": null,
      "min_width": null,
      "object_fit": null,
      "object_position": null,
      "order": null,
      "overflow": null,
      "overflow_x": null,
      "overflow_y": null,
      "padding": null,
      "right": null,
      "top": null,
      "visibility": null,
      "width": null
     }
    },
    "be3ebf0eac7d4bc38ef65c1cfccc53a0": {
     "model_module": "@jupyter-widgets/base",
     "model_module_version": "1.2.0",
     "model_name": "LayoutModel",
     "state": {
      "_model_module": "@jupyter-widgets/base",
      "_model_module_version": "1.2.0",
      "_model_name": "LayoutModel",
      "_view_count": null,
      "_view_module": "@jupyter-widgets/base",
      "_view_module_version": "1.2.0",
      "_view_name": "LayoutView",
      "align_content": null,
      "align_items": null,
      "align_self": null,
      "border": null,
      "bottom": null,
      "display": null,
      "flex": null,
      "flex_flow": null,
      "grid_area": null,
      "grid_auto_columns": null,
      "grid_auto_flow": null,
      "grid_auto_rows": null,
      "grid_column": null,
      "grid_gap": null,
      "grid_row": null,
      "grid_template_areas": null,
      "grid_template_columns": null,
      "grid_template_rows": null,
      "height": null,
      "justify_content": null,
      "justify_items": null,
      "left": null,
      "margin": null,
      "max_height": null,
      "max_width": null,
      "min_height": null,
      "min_width": null,
      "object_fit": null,
      "object_position": null,
      "order": null,
      "overflow": null,
      "overflow_x": null,
      "overflow_y": null,
      "padding": null,
      "right": null,
      "top": null,
      "visibility": null,
      "width": null
     }
    },
    "c207ec3eeb9147438d029d10a333421f": {
     "model_module": "@jupyter-widgets/controls",
     "model_module_version": "1.5.0",
     "model_name": "DescriptionStyleModel",
     "state": {
      "_model_module": "@jupyter-widgets/controls",
      "_model_module_version": "1.5.0",
      "_model_name": "DescriptionStyleModel",
      "_view_count": null,
      "_view_module": "@jupyter-widgets/base",
      "_view_module_version": "1.2.0",
      "_view_name": "StyleView",
      "description_width": ""
     }
    },
    "e650ccaaae6c49199aa766c138d3484d": {
     "model_module": "@jupyter-widgets/controls",
     "model_module_version": "1.5.0",
     "model_name": "DescriptionStyleModel",
     "state": {
      "_model_module": "@jupyter-widgets/controls",
      "_model_module_version": "1.5.0",
      "_model_name": "DescriptionStyleModel",
      "_view_count": null,
      "_view_module": "@jupyter-widgets/base",
      "_view_module_version": "1.2.0",
      "_view_name": "StyleView",
      "description_width": ""
     }
    }
   }
  }
 },
 "nbformat": 4,
 "nbformat_minor": 4
}
