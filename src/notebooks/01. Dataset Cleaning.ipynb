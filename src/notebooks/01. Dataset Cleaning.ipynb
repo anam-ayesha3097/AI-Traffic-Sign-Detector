{
 "cells": [
  {
   "cell_type": "code",
   "execution_count": 1,
   "id": "8180e264-98b0-4d0b-8379-872606f344f8",
   "metadata": {},
   "outputs": [],
   "source": [
    "import pandas as pd\n",
    "import os\n",
    "import numpy as np\n",
    "#import cv2\n",
    "import time\n",
    "import shutil"
   ]
  },
  {
   "cell_type": "code",
   "execution_count": 3,
   "id": "da9cf046-50b9-4f4d-94c9-d13e130bd4a1",
   "metadata": {},
   "outputs": [],
   "source": [
    "path_dataset1 = 'Indian Traffic Signs Prediction(85 classes)/'\n",
    "path_dataset2 = 'Traffic Signs (GTSRB plus 162 custom classes)/Data_images/'\n",
    "path_dataset3 = 'Persian Traffic Sign Dataset (PTSD)/'"
   ]
  },
  {
   "cell_type": "code",
   "execution_count": 4,
   "id": "2fa82ae3-ac1a-41ba-b184-e44a752305f1",
   "metadata": {},
   "outputs": [],
   "source": [
    "n_classes = 15"
   ]
  },
  {
   "cell_type": "code",
   "execution_count": null,
   "id": "5ed100c7-1a72-49c2-9a5e-4ada07c2082e",
   "metadata": {},
   "outputs": [],
   "source": [
    "def shortlist_dataset(path, n_classes):\n",
    "    \n",
    "    folders = os.listdir(path)\n",
    "    counts = []\n",
    "\n",
    "    for folder in folders:\n",
    "        counts.append((len(os.listdir(path+folder)), folder))\n",
    "\n",
    "    counts = sorted( counts, key= lambda folder: folder[0], reverse=True )\n",
    "\n",
    "    sclasses = [ counts[i][1] for i in range(n_classes) ]\n",
    "    \n",
    "    return folders, sclasses"
   ]
  },
  {
   "cell_type": "markdown",
   "id": "4c90a3e1-7255-4ad6-a48c-ccf5890ed519",
   "metadata": {},
   "source": [
    "Dataset 1"
   ]
  },
  {
   "cell_type": "code",
   "execution_count": 110,
   "id": "fc5ee1a9-1c10-4e64-b87b-ce12c1746127",
   "metadata": {},
   "outputs": [],
   "source": [
    "def clean_dataset1_trainntest(folders, d1_sclasses):\n",
    "    \n",
    "    for folder in folders:\n",
    "        if folder not in d1_sclasses:\n",
    "            path = path_dataset1+\"train/\"+folder\n",
    "            shutil.rmtree(path)\n",
    "            path = path_dataset1+\"test/\"+folder\n",
    "            shutil.rmtree(path)"
   ]
  },
  {
   "cell_type": "code",
   "execution_count": null,
   "id": "2db31233-187f-428f-af4c-1647df7e7d11",
   "metadata": {},
   "outputs": [],
   "source": [
    "folders, d1_sclasses = shotlist_dataset(path_dataset1+\"train/\", n_classes)\n",
    "clean_dataset1_trainntest(folders, d1_sclasses)"
   ]
  },
  {
   "cell_type": "markdown",
   "id": "5eeac392-0c0f-4908-936f-e8cdc5daae65",
   "metadata": {},
   "source": [
    "Dataset 2"
   ]
  },
  {
   "cell_type": "code",
   "execution_count": null,
   "id": "aba134b0-0031-43c6-8075-10da2d7c5e89",
   "metadata": {},
   "outputs": [],
   "source": [
    "def clean_dataset2_train(folders, d2_sclasses):\n",
    "    \n",
    "    for folder in folders:\n",
    "        if folder not in d2_sclasses:\n",
    "            path = path_dataset2+\"Train/\"+folder\n",
    "            shutil.rmtree(path)"
   ]
  },
  {
   "cell_type": "code",
   "execution_count": null,
   "id": "8f600b86-69ba-4005-b4e0-432f492fcd58",
   "metadata": {},
   "outputs": [],
   "source": [
    "def clean_dataset2_test(d2_sclasses):\n",
    "    id2_sclasses = [int(folder) for folder in d2_sclasses]\n",
    "    \n",
    "    for folder in d2_sclasses:\n",
    "        os.mkdir(path_dataset2+\"Test/\"+folder)\n",
    "    \n",
    "    test_df2 = pd.read_csv(path_dataset2+\"Test_data.csv\", on_bad_lines='warn')\n",
    "    \n",
    "    test_df2 = test_df2.loc[test_df2['ClassId'].isin(id2_sclasses)]\n",
    "    \n",
    "    test_files = os.listdir(path_dataset2+\"Test\")\n",
    "\n",
    "    for i in range(test_df2.shape[0]):\n",
    "        shutil.move(path_dataset2+test_df2.iloc[i][1], path_dataset2+\"Test/\"+str(test_df2.iloc[i][0])+\"/\"+test_df2.iloc[i][1].split(\"/\")[1])\n"
   ]
  },
  {
   "cell_type": "code",
   "execution_count": null,
   "id": "060ad31f-7eae-46a7-a460-8dfc4185471f",
   "metadata": {},
   "outputs": [],
   "source": [
    "folders, d2_sclasses = shotlist_dataset(path_dataset2+\"Train/\", n_classes)\n",
    "clean_dataset2_train(folders, d2_sclasses)\n",
    "clean_dataset2_test(d2_sclasses)"
   ]
  },
  {
   "cell_type": "markdown",
   "id": "64ecf758-5850-47b4-a032-3b0be1e92f0f",
   "metadata": {},
   "source": [
    "Dataset 3"
   ]
  },
  {
   "cell_type": "code",
   "execution_count": null,
   "id": "cdf8cd23-30b5-4c6f-b661-d5f3d6864cc7",
   "metadata": {},
   "outputs": [],
   "source": [
    "folders, d3_sclasses = shotlist_dataset(path_dataset3+\"train/\", n_classes)"
   ]
  },
  {
   "cell_type": "code",
   "execution_count": 105,
   "id": "7df23319-d863-4180-814a-d26b43fc6260",
   "metadata": {},
   "outputs": [],
   "source": [
    "d3_sclasses = [ folder.split('_')[1] for folder in d3_sclasses ]\n",
    "tfolders = [ folder.split('_')[1] for folder in folders ]"
   ]
  },
  {
   "cell_type": "code",
   "execution_count": 109,
   "id": "11926e88-9d51-42a6-9226-de487596e28f",
   "metadata": {},
   "outputs": [],
   "source": [
    "for i in range(len(folders)):\n",
    "    if tfolders[i] not in d3_sclasses:\n",
    "        path = path_dataset3+\"train/\"+folders[i]\n",
    "        shutil.rmtree(path)"
   ]
  },
  {
   "cell_type": "code",
   "execution_count": null,
   "id": "775e32fa-36bd-40dd-8ffa-865e32d97e68",
   "metadata": {},
   "outputs": [],
   "source": [
    "for folder in d3_sclasses:\n",
    "    os.mkdir(path_dataset3+\"test/\"+folder)"
   ]
  },
  {
   "cell_type": "code",
   "execution_count": 83,
   "id": "4ce87ce3-7a79-4680-bc69-b77d74235f2b",
   "metadata": {},
   "outputs": [
    {
     "name": "stderr",
     "output_type": "stream",
     "text": [
      "b'Skipping line 818: expected 2 fields, saw 3\\nSkipping line 820: expected 2 fields, saw 3\\n'\n"
     ]
    }
   ],
   "source": [
    "test_df3 = pd.read_csv(path_dataset3+\"testset_CSV.csv\", on_bad_lines='warn')"
   ]
  },
  {
   "cell_type": "code",
   "execution_count": 84,
   "id": "5ed1b299-5b3e-426e-9f1f-e20e3517b03e",
   "metadata": {},
   "outputs": [],
   "source": [
    "test_df3['original'] = test_df3['file']\n",
    "test_df3['file'] = path_dataset3+\"test/PTSD_\"+test_df3['file']"
   ]
  },
  {
   "cell_type": "code",
   "execution_count": 90,
   "id": "09bfc296-cf64-4f98-9e8e-d4aacc4aed6b",
   "metadata": {},
   "outputs": [],
   "source": [
    "test_df3 = test_df3.loc[test_df3['species'].isin(d3_sclasses)]"
   ]
  },
  {
   "cell_type": "code",
   "execution_count": 93,
   "id": "25ea6e4d-03ab-4e56-bc22-96cd41f3b5a0",
   "metadata": {},
   "outputs": [
    {
     "data": {
      "text/plain": [
       "'Persian Traffic Sign Dataset (PTSD)/test/Compulsory Keep BothSide/PTSD_00003.jpg'"
      ]
     },
     "execution_count": 93,
     "metadata": {},
     "output_type": "execute_result"
    }
   ],
   "source": [
    "path_dataset3+\"test/\"+test_df3.iloc[0][1]+\"/PTSD_\"+test_df3.iloc[0][2]"
   ]
  },
  {
   "cell_type": "code",
   "execution_count": 94,
   "id": "0a44e5c8-9ff7-4c38-b514-88d20cea7bbc",
   "metadata": {},
   "outputs": [],
   "source": [
    "for i in range(test_df3.shape[0]):\n",
    "    shutil.move(test_df3.iloc[i][0], path_dataset3+\"test/\"+test_df3.iloc[i][1]+\"/PTSD_\"+test_df3.iloc[i][2])"
   ]
  },
  {
   "cell_type": "code",
   "execution_count": 5,
   "id": "089bd43a-2257-40c3-9e94-569ef2a4fdde",
   "metadata": {},
   "outputs": [],
   "source": [
    "folders = os.listdir(path_dataset3+\"train\")"
   ]
  },
  {
   "cell_type": "code",
   "execution_count": 8,
   "id": "e2ee2316-9295-4a05-b15c-c9a156f920eb",
   "metadata": {},
   "outputs": [],
   "source": [
    "for folder in folders:\n",
    "    old = path_dataset3+\"train/\"+folder\n",
    "    new = path_dataset3+\"train/\"+folder.split(\"_\")[1]\n",
    "    os.rename(old, new)"
   ]
  },
  {
   "cell_type": "code",
   "execution_count": null,
   "id": "6940245f-7a37-430f-8a9d-8875cd82bbea",
   "metadata": {},
   "outputs": [],
   "source": []
  }
 ],
 "metadata": {
  "kernelspec": {
   "display_name": "Python 3 (ipykernel)",
   "language": "python",
   "name": "python3"
  },
  "language_info": {
   "codemirror_mode": {
    "name": "ipython",
    "version": 3
   },
   "file_extension": ".py",
   "mimetype": "text/x-python",
   "name": "python",
   "nbconvert_exporter": "python",
   "pygments_lexer": "ipython3",
   "version": "3.10.3"
  }
 },
 "nbformat": 4,
 "nbformat_minor": 5
}
