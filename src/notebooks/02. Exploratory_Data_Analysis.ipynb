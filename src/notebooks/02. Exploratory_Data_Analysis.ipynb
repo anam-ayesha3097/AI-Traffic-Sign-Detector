{
  "nbformat": 4,
  "nbformat_minor": 0,
  "metadata": {
    "colab": {
      "provenance": [],
      "collapsed_sections": []
    },
    "kernelspec": {
      "name": "python3",
      "display_name": "Python 3"
    },
    "language_info": {
      "name": "python"
    }
  },
  "cells": [
    {
      "cell_type": "code",
      "execution_count": null,
      "metadata": {
        "id": "wqrQ_O_sw8Wn"
      },
      "outputs": [],
      "source": []
    },
    {
      "cell_type": "code",
      "execution_count": null,
      "metadata": {
        "colab": {
          "base_uri": "https://localhost:8080/"
        },
        "id": "o01h9AVJdAur",
        "outputId": "c21b7ec3-55ca-4ee4-daad-02ef58c54e16"
      },
      "outputs": [
        {
          "name": "stdout",
          "output_type": "stream",
          "text": [
            "Mounted at /content/drive\n"
          ]
        }
      ],
      "source": [
        "drive.mount('/content/drive')"
      ]
    },
    {
      "cell_type": "code",
      "execution_count": null,
      "metadata": {
        "colab": {
          "base_uri": "https://localhost:8080/"
        },
        "id": "NEZ-iCxjdDJf",
        "outputId": "90af9b5f-1f49-4247-cd7e-b92e532b1f37"
      },
      "outputs": [
        {
          "name": "stdout",
          "output_type": "stream",
          "text": [
            "['Indian Traffic Signs Prediction(85 classes)', 'Persian Traffic Sign Dataset (PTSD)', 'Traffic Signs (GTSRB plus 162 custom classes)']\n"
          ]
        }
      ],
      "source": [
        "path='/content/drive/My Drive/6721 Dataset/6721 Project dataset/'\n",
        "path_save = '/content/drive/My Drive/6721 Dataset/'\n",
        "print(os.listdir(path))"
      ]
    },
    {
      "cell_type": "code",
      "execution_count": null,
      "metadata": {
        "id": "ud-55TXwjopF"
      },
      "outputs": [],
      "source": [
        "path_dataset1 = path+\"Indian Traffic Signs Prediction(85 classes)/\"\n",
        "path_dataset2 = path+\"Persian Traffic Sign Dataset (PTSD)/\"\n",
        "path_dataset3 = path+\"Traffic Signs (GTSRB plus 162 custom classes)/Data_images/\""
      ]
    },
    {
      "cell_type": "markdown",
      "metadata": {
        "id": "lOYP1i7G-HCb"
      },
      "source": [
        "**Exploratory Data Analysis**\n",
        "\n",
        "---\n",
        "\n"
      ]
    },
    {
      "cell_type": "code",
      "execution_count": null,
      "metadata": {
        "id": "MpAT6DmNCaRI"
      },
      "outputs": [],
      "source": [
        "# gather original number of classes in each dataset"
      ]
    },
    {
      "cell_type": "code",
      "execution_count": null,
      "metadata": {
        "id": "b6a-CdLjG4FV"
      },
      "outputs": [],
      "source": [
        "def get_image_size_dist(path):\n",
        "    t1 = time.time()\n",
        "\n",
        "    folders = os.listdir(path)\n",
        "    total = 0\n",
        "\n",
        "    for folder in folders:\n",
        "\n",
        "        img_x=[]\n",
        "        img_y=[]\n",
        "\n",
        "        samples = os.listdir(path+folder)\n",
        "\n",
        "        # for sample in samples:\n",
        "            # img = cv2.imread(path+folder+\"/\"+sample)\n",
        "\n",
        "            # img_x.append(img.shape[0])\n",
        "            # img_y.append(img.shape[1])\n",
        "\n",
        "        print(\"Class: {} has samples: {} \".format(folder,len(samples)))\n",
        "        total+=len(samples)\n",
        "        # plt.scatter(img_x, img_y)\n",
        "        # plt.show()\n",
        "\n",
        "    print(\"\\nTotal number of samples: \",total)\n",
        "\n",
        "    print(\"\\nTime taken: {}\".format(time.time()-t1))"
      ]
    },
    {
      "cell_type": "markdown",
      "metadata": {
        "id": "rSXVxfBDBLoa"
      },
      "source": [
        "Dataset 1: Indian Traffic Signs Prediction(85 classes)"
      ]
    },
    {
      "cell_type": "code",
      "execution_count": null,
      "metadata": {
        "id": "GkEmNBhn-K7v"
      },
      "outputs": [],
      "source": [
        "train_path = path_dataset1+\"train/\"\n",
        "test_path = path_dataset1+\"test/\""
      ]
    },
    {
      "cell_type": "code",
      "execution_count": null,
      "metadata": {
        "colab": {
          "base_uri": "https://localhost:8080/"
        },
        "id": "7pXpkORWHVMb",
        "outputId": "902e7db6-be4a-47f5-ae29-cfd52bc99477"
      },
      "outputs": [
        {
          "name": "stdout",
          "output_type": "stream",
          "text": [
            "Class: CROSS_ROAD has samples: 140 \n",
            "Class: GAP_IN_MEDIAN has samples: 180 \n",
            "Class: COMPULSARY_KEEP_RIGHT has samples: 223 \n",
            "Class: HORN_PROHIBITED has samples: 160 \n",
            "Class: HUMP_OR_ROUGH_ROAD has samples: 101 \n",
            "Class: LEFT_TURN_PROHIBITED has samples: 126 \n",
            "Class: NO_ENTRY has samples: 174 \n",
            "Class: NO_STOPPING_OR_STANDING has samples: 242 \n",
            "Class: PEDESTRIAN_CROSSING has samples: 121 \n",
            "Class: SPEED_LIMIT_40 has samples: 170 \n",
            "Class: SPEED_LIMIT_80 has samples: 192 \n",
            "Class: SPEED_LIMIT_30 has samples: 238 \n",
            "Class: SPEED_LIMIT_50 has samples: 200 \n",
            "Class: SPEED_LIMIT_60 has samples: 190 \n",
            "Class: SPEED_LIMIT_70 has samples: 160 \n",
            "\n",
            "Total number of samples:  2617\n",
            "\n",
            "Time taken: 0.046918630599975586\n"
          ]
        }
      ],
      "source": [
        "get_image_size_dist(train_path)"
      ]
    },
    {
      "cell_type": "code",
      "execution_count": null,
      "metadata": {
        "id": "YdojIO8xHVCf"
      },
      "outputs": [],
      "source": [
        "get_image_size_dist(test_path)"
      ]
    },
    {
      "cell_type": "markdown",
      "metadata": {
        "id": "coCbrEWaBSpD"
      },
      "source": [
        "Dataset 2: Persian Traffic Sign Dataset (PTSD)"
      ]
    },
    {
      "cell_type": "code",
      "execution_count": null,
      "metadata": {
        "id": "M1WRPcW3-K4P"
      },
      "outputs": [],
      "source": [
        "train_path = path_dataset2+\"train/\"\n",
        "test_path = path_dataset2+\"test/\""
      ]
    },
    {
      "cell_type": "code",
      "execution_count": null,
      "metadata": {
        "colab": {
          "base_uri": "https://localhost:8080/"
        },
        "id": "9Jvu64RhHonP",
        "outputId": "ae19114d-0c82-4e67-c511-40d1060bbc45"
      },
      "outputs": [
        {
          "name": "stdout",
          "output_type": "stream",
          "text": [
            "Class: Compulsory Keep BothSide has samples: 573 \n",
            "Class: Compulsory Keep Left has samples: 369 \n",
            "Class: Compulsory Keep Right has samples: 703 \n",
            "Class: Cycle crossing has samples: 662 \n",
            "Class: Danger has samples: 399 \n",
            "Class: Give Way has samples: 384 \n",
            "Class: Maximum Speed 30 has samples: 477 \n",
            "Class: Pedestrain has samples: 1014 \n",
            "Class: Right Turn Prohibited has samples: 436 \n",
            "Class: NO Stopping has samples: 1075 \n",
            "Class: Roundabouts has samples: 497 \n",
            "Class: No Entry has samples: 930 \n",
            "Class: Left Margin has samples: 392 \n",
            "Class: Right Margin has samples: 506 \n",
            "Class: One way Traffic has samples: 684 \n",
            "\n",
            "Total number of samples:  9101\n",
            "\n",
            "Time taken: 19.169580936431885\n"
          ]
        }
      ],
      "source": [
        "get_image_size_dist(train_path)"
      ]
    },
    {
      "cell_type": "code",
      "execution_count": null,
      "metadata": {
        "id": "8rBmCzwiHogB"
      },
      "outputs": [],
      "source": [
        "get_image_size_dist(test_path)"
      ]
    },
    {
      "cell_type": "markdown",
      "metadata": {
        "id": "hnpr15miBWfY"
      },
      "source": [
        "Dataset 3: Traffic Signs (GTSRB plus 162 custom classes)"
      ]
    },
    {
      "cell_type": "code",
      "execution_count": null,
      "metadata": {
        "id": "d0Xt8GP7-KmT"
      },
      "outputs": [],
      "source": [
        "train_path = path_dataset3+\"Train/\"\n",
        "test_path = path_dataset3+\"Test/\""
      ]
    },
    {
      "cell_type": "code",
      "execution_count": null,
      "metadata": {
        "colab": {
          "base_uri": "https://localhost:8080/"
        },
        "id": "cY3sLPQnBaZb",
        "outputId": "f3781e53-b8e0-473b-bb5a-5cfea0f78d75"
      },
      "outputs": [
        {
          "name": "stdout",
          "output_type": "stream",
          "text": [
            "Class: 10 has samples: 2003 \n",
            "Class: 13 has samples: 2153 \n",
            "Class: 130 has samples: 1541 \n",
            "Class: 1 has samples: 2213 \n",
            "Class: 12 has samples: 2093 \n",
            "Class: 5 has samples: 1853 \n",
            "Class: 25 has samples: 1997 \n",
            "Class: 7 has samples: 1433 \n",
            "Class: 2 has samples: 2243 \n",
            "Class: 38 has samples: 2083 \n",
            "Class: 3 has samples: 1413 \n",
            "Class: 4 has samples: 1973 \n",
            "Class: 9 has samples: 1463 \n",
            "Class: 190 has samples: 1397 \n",
            "Class: 8 has samples: 1403 \n",
            "\n",
            "Total number of samples:  27261\n",
            "\n",
            "Time taken: 37.03169536590576\n"
          ]
        }
      ],
      "source": [
        "get_image_size_dist(train_path)"
      ]
    },
    {
      "cell_type": "code",
      "execution_count": null,
      "metadata": {
        "id": "RUjDmWM_HuMm"
      },
      "outputs": [],
      "source": [
        "get_image_size_dist(test_path)"
      ]
    }
  ]
}