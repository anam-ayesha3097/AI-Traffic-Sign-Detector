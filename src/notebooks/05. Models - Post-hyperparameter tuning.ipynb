{
 "cells": [
  {
   "cell_type": "code",
   "execution_count": 2,
   "metadata": {
    "colab": {
     "base_uri": "https://localhost:8080/"
    },
    "execution": {
     "iopub.execute_input": "2022-11-25T04:39:30.265873Z",
     "iopub.status.busy": "2022-11-25T04:39:30.265484Z",
     "iopub.status.idle": "2022-11-25T04:39:42.806570Z",
     "shell.execute_reply": "2022-11-25T04:39:42.804693Z",
     "shell.execute_reply.started": "2022-11-25T04:39:30.265832Z"
    },
    "id": "PivjitYKv9nI",
    "outputId": "a9643353-0f1d-4e89-bd60-efb1d74b11ba",
    "tags": []
   },
   "outputs": [
    {
     "name": "stdout",
     "output_type": "stream",
     "text": [
      "Looking in indexes: https://pypi.org/simple, https://us-python.pkg.dev/colab-wheels/public/simple/\n",
      "Requirement already satisfied: torchmetrics==0.10 in /usr/local/lib/python3.8/dist-packages (0.10.0)\n",
      "Requirement already satisfied: typing-extensions in /usr/local/lib/python3.8/dist-packages (from torchmetrics==0.10) (4.1.1)\n",
      "Requirement already satisfied: numpy>=1.17.2 in /usr/local/lib/python3.8/dist-packages (from torchmetrics==0.10) (1.21.6)\n",
      "Requirement already satisfied: packaging in /usr/local/lib/python3.8/dist-packages (from torchmetrics==0.10) (21.3)\n",
      "Requirement already satisfied: torch>=1.3.1 in /usr/local/lib/python3.8/dist-packages (from torchmetrics==0.10) (1.12.1+cu113)\n",
      "Requirement already satisfied: pyparsing!=3.0.5,>=2.0.2 in /usr/local/lib/python3.8/dist-packages (from packaging->torchmetrics==0.10) (3.0.9)\n"
     ]
    }
   ],
   "source": [
    "!pip install torchmetrics==0.10"
   ]
  },
  {
   "cell_type": "code",
   "execution_count": 3,
   "metadata": {
    "execution": {
     "iopub.execute_input": "2022-11-25T04:39:42.813615Z",
     "iopub.status.busy": "2022-11-25T04:39:42.812115Z",
     "iopub.status.idle": "2022-11-25T04:39:47.324150Z",
     "shell.execute_reply": "2022-11-25T04:39:47.322970Z",
     "shell.execute_reply.started": "2022-11-25T04:39:42.813573Z"
    },
    "id": "_xH5RmU9su9W",
    "tags": []
   },
   "outputs": [],
   "source": [
    "import torch\n",
    "import torchvision.transforms as transforms\n",
    "import torchvision.datasets as datasets\n",
    "import torch.utils.data as td\n",
    "import numpy as np\n",
    "import matplotlib.pyplot as plt\n",
    "import torch.nn as nn\n",
    "import torch.nn.functional as F\n",
    "from matplotlib import image\n",
    "from matplotlib import pyplot\n",
    "import time\n",
    "import os\n",
    "\n",
    "import cv2\n",
    "from torchmetrics import F1Score\n",
    "from torchmetrics.functional import precision_recall\n",
    "from torchmetrics.classification import BinaryAUROC\n",
    "import pickle"
   ]
  },
  {
   "cell_type": "code",
   "execution_count": 4,
   "metadata": {
    "execution": {
     "iopub.execute_input": "2022-11-25T04:39:47.326731Z",
     "iopub.status.busy": "2022-11-25T04:39:47.326216Z",
     "iopub.status.idle": "2022-11-25T04:39:47.335321Z",
     "shell.execute_reply": "2022-11-25T04:39:47.334447Z",
     "shell.execute_reply.started": "2022-11-25T04:39:47.326689Z"
    },
    "id": "o01h9AVJdAur"
   },
   "outputs": [],
   "source": [
    "path = '/kaggle/input/traffic-sign-datasets/'\n",
    "path_dataset1 = path+'Indian Traffic Signs Prediction(85 classes)/Indian Traffic Signs Prediction(85 classes)/'\n",
    "path_dataset2 = path+'Persian Traffic Sign Dataset (PTSD)/Persian Traffic Sign Dataset (PTSD)/'\n",
    "path_dataset3 = path+'Traffic Signs (GTSRB plus 162 custom classes)/Traffic Signs (GTSRB plus 162 custom classes)/Data_images/'\n",
    "\n",
    "savepath='/kaggle/working/'"
   ]
  },
  {
   "cell_type": "code",
   "execution_count": 5,
   "metadata": {
    "colab": {
     "base_uri": "https://localhost:8080/"
    },
    "execution": {
     "iopub.execute_input": "2022-11-25T04:39:47.338920Z",
     "iopub.status.busy": "2022-11-25T04:39:47.338550Z",
     "iopub.status.idle": "2022-11-25T04:39:47.347273Z",
     "shell.execute_reply": "2022-11-25T04:39:47.346194Z",
     "shell.execute_reply.started": "2022-11-25T04:39:47.338884Z"
    },
    "id": "VZY6ycDecGit",
    "outputId": "c35f46a6-6174-441a-abe4-bef8b3d8aa00"
   },
   "outputs": [
    {
     "name": "stdout",
     "output_type": "stream",
     "text": [
      "Mounted at /content/drive\n"
     ]
    }
   ],
   "source": [
    "from google.colab import drive\n",
    "drive.mount('/content/drive')"
   ]
  },
  {
   "cell_type": "code",
   "execution_count": 7,
   "metadata": {
    "colab": {
     "base_uri": "https://localhost:8080/"
    },
    "execution": {
     "iopub.execute_input": "2022-11-25T04:39:47.348874Z",
     "iopub.status.busy": "2022-11-25T04:39:47.348467Z",
     "iopub.status.idle": "2022-11-25T04:39:47.358422Z",
     "shell.execute_reply": "2022-11-25T04:39:47.357458Z",
     "shell.execute_reply.started": "2022-11-25T04:39:47.348836Z"
    },
    "id": "hL790HrycGiu",
    "outputId": "947a5f8e-6200-496c-9cd0-b59df9e32492"
   },
   "outputs": [
    {
     "name": "stdout",
     "output_type": "stream",
     "text": [
      "['Indian Traffic Signs Prediction(85 classes)', 'Persian Traffic Sign Dataset (PTSD)', 'Traffic Signs (GTSRB plus 162 custom classes)']\n"
     ]
    }
   ],
   "source": [
    "path='/content/drive/My Drive/6721 Dataset/6721 Project dataset/'\n",
    "savepath = '/content/drive/My Drive/6721 Dataset/'\n",
    "print(os.listdir(path))"
   ]
  },
  {
   "cell_type": "code",
   "execution_count": 8,
   "metadata": {
    "execution": {
     "iopub.execute_input": "2022-11-25T04:39:47.360255Z",
     "iopub.status.busy": "2022-11-25T04:39:47.359807Z",
     "iopub.status.idle": "2022-11-25T04:39:47.368930Z",
     "shell.execute_reply": "2022-11-25T04:39:47.367923Z",
     "shell.execute_reply.started": "2022-11-25T04:39:47.360220Z"
    },
    "id": "51NAUJxgcGiu"
   },
   "outputs": [],
   "source": [
    "path_dataset1 = path+\"Indian Traffic Signs Prediction(85 classes)/\"\n",
    "path_dataset2 = path+\"Persian Traffic Sign Dataset (PTSD)/\"\n",
    "path_dataset3 = path+\"Traffic Signs (GTSRB plus 162 custom classes)/Data_images/\""
   ]
  },
  {
   "cell_type": "markdown",
   "metadata": {
    "id": "IbmXHVFl-LrR"
   },
   "source": [
    "**Data Loaders**\n",
    "\n",
    "---\n",
    "\n"
   ]
  },
  {
   "cell_type": "code",
   "execution_count": 11,
   "metadata": {
    "execution": {
     "iopub.execute_input": "2022-11-25T04:39:47.371099Z",
     "iopub.status.busy": "2022-11-25T04:39:47.370667Z",
     "iopub.status.idle": "2022-11-25T04:39:47.384180Z",
     "shell.execute_reply": "2022-11-25T04:39:47.383180Z",
     "shell.execute_reply.started": "2022-11-25T04:39:47.371065Z"
    },
    "id": "nAjOrIQaaACu"
   },
   "outputs": [],
   "source": [
    "def load_data(path_train, val_split, path_test, batch_size, input_size):\n",
    "  \n",
    "    normalize = transforms.Normalize(mean=[0.485, 0.456, 0.406],\n",
    "                                     std=[0.229, 0.224, 0.225])\n",
    "\n",
    "    transform_train= transforms.Compose([transforms.Resize(input_size),\n",
    "                                         transforms.ColorJitter(brightness=(0.5,1.2), contrast=0, saturation=0, hue=0),\n",
    "                                         transforms.RandomHorizontalFlip(),\n",
    "#                                          transforms.RandomVerticalFlip(),\n",
    "                                          transforms.RandomRotation(45),\n",
    "                                        transforms.RandomAdjustSharpness(0.8),\n",
    "                                          transforms.ToTensor(),\n",
    "                                          normalize\n",
    "                                          ])\n",
    "\n",
    "    transform_test = transforms.Compose([transforms.Resize(input_size),\n",
    "                                         transforms.ToTensor(), \n",
    "                                         normalize])\n",
    "\n",
    "    data_train = datasets.ImageFolder(root=path_train, transform=transform_train)\n",
    "    data_test = datasets.ImageFolder(root=path_test, transform=transform_test)\n",
    "    \n",
    "    mappings = data_train.class_to_idx\n",
    "\n",
    "    val_size = int(len(data_train)*val_split)\n",
    "    train_size = len(data_train) - val_size\n",
    "\n",
    "    train_dataset, val_dataset = td.random_split(data_train, [train_size, val_size])\n",
    "    \n",
    "    data_loader_train = td.DataLoader(train_dataset,\n",
    "                                      batch_size=batch_size,\n",
    "                                      shuffle=True,\n",
    "                                      drop_last=False,\n",
    "                                      num_workers=0,       \n",
    "                                      pin_memory=True)\n",
    "     \n",
    "    data_loader_val = td.DataLoader(val_dataset,\n",
    "                                    batch_size=batch_size,\n",
    "                                    shuffle=True,\n",
    "                                    drop_last=False,\n",
    "                                    num_workers=0) \n",
    "      \n",
    "    data_loader_test = td.DataLoader(data_test,\n",
    "                                   batch_size=batch_size,\n",
    "                                   shuffle=True,\n",
    "                                   drop_last=False,\n",
    "                                   num_workers=0)\n",
    "    \n",
    "    return data_loader_train, data_loader_test, data_loader_val, mappings"
   ]
  },
  {
   "cell_type": "markdown",
   "metadata": {
    "id": "cTWOhhFV1kuI"
   },
   "source": [
    "Compute Class Weights"
   ]
  },
  {
   "cell_type": "code",
   "execution_count": 12,
   "metadata": {
    "execution": {
     "iopub.execute_input": "2022-11-25T04:39:47.386255Z",
     "iopub.status.busy": "2022-11-25T04:39:47.385853Z",
     "iopub.status.idle": "2022-11-25T04:39:47.398348Z",
     "shell.execute_reply": "2022-11-25T04:39:47.397348Z",
     "shell.execute_reply.started": "2022-11-25T04:39:47.386216Z"
    },
    "id": "AybvEo1V1nLP"
   },
   "outputs": [],
   "source": [
    "def get_image_size_dist(path):\n",
    "    t1 = time.time()\n",
    "\n",
    "    folders = os.listdir(path)\n",
    "    total = 0\n",
    "\n",
    "    class_samples = {}\n",
    "\n",
    "    for folder in folders:\n",
    "        samples = os.listdir(path+folder)\n",
    "\n",
    "        class_samples[folder]=len(samples)\n",
    "\n",
    "        print(\"Class: {} has samples: {} \".format(folder,len(samples)))\n",
    "        total+=len(samples)\n",
    "\n",
    "    print(\"\\nTotal number of samples: \",total)\n",
    "\n",
    "    print(\"\\nTime taken: {}\".format(time.time()-t1))\n",
    "\n",
    "    return class_samples, total"
   ]
  },
  {
   "cell_type": "code",
   "execution_count": 13,
   "metadata": {
    "execution": {
     "iopub.execute_input": "2022-11-25T04:39:47.399704Z",
     "iopub.status.busy": "2022-11-25T04:39:47.399449Z",
     "iopub.status.idle": "2022-11-25T04:39:47.413843Z",
     "shell.execute_reply": "2022-11-25T04:39:47.412498Z",
     "shell.execute_reply.started": "2022-11-25T04:39:47.399681Z"
    },
    "id": "cs77yc_J1m94"
   },
   "outputs": [],
   "source": [
    "def get_class_weights(path_train, mappings):\n",
    "\n",
    "    class_samples, total = get_image_size_dist(path_train)\n",
    "\n",
    "    class_weights = [0]*len(mappings.keys())\n",
    "\n",
    "    for key in mappings.keys():\n",
    "        class_weights[mappings[key]] = 1 - (class_samples[key]/ total)\n",
    "      \n",
    "    return class_weights"
   ]
  },
  {
   "cell_type": "markdown",
   "metadata": {
    "id": "-ystywhe-rXn"
   },
   "source": [
    "Training Setup\n",
    "\n",
    "---\n",
    "\n"
   ]
  },
  {
   "cell_type": "code",
   "execution_count": 14,
   "metadata": {
    "execution": {
     "iopub.execute_input": "2022-11-25T04:39:47.418921Z",
     "iopub.status.busy": "2022-11-25T04:39:47.418609Z",
     "iopub.status.idle": "2022-11-25T04:39:47.424848Z",
     "shell.execute_reply": "2022-11-25T04:39:47.423866Z",
     "shell.execute_reply.started": "2022-11-25T04:39:47.418895Z"
    },
    "id": "Zz46kldS13If"
   },
   "outputs": [],
   "source": [
    "learning_rate = 0.001\n",
    "num_epochs = 10\n",
    "\n",
    "def get_criterion(class_weights):\n",
    "\n",
    "    criterion = nn.CrossEntropyLoss(weight = class_weights)\n",
    "\n",
    "    return criterion"
   ]
  },
  {
   "cell_type": "code",
   "execution_count": 15,
   "metadata": {
    "execution": {
     "iopub.execute_input": "2022-11-25T04:39:47.427107Z",
     "iopub.status.busy": "2022-11-25T04:39:47.426523Z",
     "iopub.status.idle": "2022-11-25T04:39:47.443073Z",
     "shell.execute_reply": "2022-11-25T04:39:47.441907Z",
     "shell.execute_reply.started": "2022-11-25T04:39:47.427067Z"
    },
    "id": "s9lpiTqe-y49"
   },
   "outputs": [],
   "source": [
    "def train_model(model, num_epochs, train_loader, criterion, optimizer, savepath, savepath_results, device):\n",
    "\n",
    "      total_steps = len(train_loader)\n",
    "\n",
    "      t1 = time.time()\n",
    "\n",
    "      train_loss=[]\n",
    "      train_accuracy=[]\n",
    "      val_accuracy=[]\n",
    "\n",
    "      for epoch in range(num_epochs):\n",
    "          for i, data in enumerate(train_loader):\n",
    "              \n",
    "              images, labels = data[0].to(device), data[1].to(device)\n",
    "              \n",
    "              model.train()\n",
    "\n",
    "              # Forward pass\n",
    "              outputs = model(images)\n",
    "              loss = criterion(outputs, labels)\n",
    "              \n",
    "              # Backprop and optimisation\n",
    "              optimizer.zero_grad()\n",
    "              loss.backward()\n",
    "              optimizer.step()\n",
    "              \n",
    "              # Train accuracy\n",
    "              total = labels.size(0)\n",
    "              _, predicted = torch.max(outputs.data, 1)\n",
    "              correct = (predicted == labels).sum().item()\n",
    "              \n",
    "              if (i + 1) % 10 == 0:\n",
    "                  model.eval() \n",
    "                  with torch.no_grad(): \n",
    "                      correctv = 0\n",
    "                      totalv = 0\n",
    "                      for datav in val_loader:\n",
    "                          imagesv, labelsv = datav[0].to(device), datav[1].to(device)\n",
    "                          outputsv = model(imagesv)\n",
    "                          _, predictedv = torch.max(outputsv.data, 1)\n",
    "                          totalv += labelsv.size(0)\n",
    "                          correctv += (predictedv == labelsv).sum().item()\n",
    "                          \n",
    "                      print('Epoch [{}/{}], Step [{}/{}], Loss: {:.4f}, Accuracy: {:.2f}%, Validation Accuracy: {:.2f}%'\n",
    "                      .format(epoch + 1, num_epochs, i + 1, total_steps, loss.item(),\n",
    "                          (correct / total) * 100,\n",
    "                          (correctv / totalv) * 100))\n",
    "                      \n",
    "                      train_loss.append(loss.item())\n",
    "                      train_accuracy.append((correct / total) * 100)\n",
    "                      val_accuracy.append((correctv / totalv) * 100)\n",
    "                      \n",
    "                  \n",
    "      print(\"######## Training Finished in {} seconds ###########\".format(time.time()-t1))\n",
    "\n",
    "      print(\"/n/n Saving model at: \",savepath)\n",
    "      torch.save(model.state_dict(), savepath)\n",
    "\n",
    "      results = { \"training_loss\": train_loss, \"accuracy\": train_accuracy, \"val_accuracy\": val_accuracy }\n",
    "\n",
    "      with open(savepath_results, \"wb\") as fp:\n",
    "          pickle.dump(results, fp)\n",
    "\n",
    "      return model, device"
   ]
  },
  {
   "cell_type": "code",
   "execution_count": 16,
   "metadata": {
    "execution": {
     "iopub.execute_input": "2022-11-25T04:39:47.445169Z",
     "iopub.status.busy": "2022-11-25T04:39:47.444371Z",
     "iopub.status.idle": "2022-11-25T04:39:47.457719Z",
     "shell.execute_reply": "2022-11-25T04:39:47.456641Z",
     "shell.execute_reply.started": "2022-11-25T04:39:47.445117Z"
    },
    "id": "_mHsQq5I-yyu"
   },
   "outputs": [],
   "source": [
    "def evaluate_model(model, test_loader, device, nclasses):\n",
    "   \n",
    "    model.eval() \n",
    "\n",
    "    Y=[]\n",
    "    y=[]\n",
    "\n",
    "    with torch.no_grad(): \n",
    "        correct = 0\n",
    "        total = 0\n",
    "        for data in test_loader:\n",
    "            images, labels = data[0].to(device), data[1].to(device)\n",
    "            outputs = model(images)\n",
    "            _, predicted = torch.max(outputs.data, 1)\n",
    "            total += labels.size(0)\n",
    "            correct += (predicted == labels).sum().item()\n",
    "\n",
    "            Y.extend(labels)\n",
    "            y.extend(predicted)\n",
    "\n",
    "        acc = (correct / total) * 100\n",
    "        f1 = F1Score(num_classes=nclasses)\n",
    "        f1score = f1(torch.IntTensor(y),torch.IntTensor(Y))\n",
    "\n",
    "        pr = precision_recall(torch.IntTensor(y),torch.IntTensor(Y), average='macro', num_classes=nclasses)\n",
    "        auroc = BinaryAUROC(thresholds=None, num_classes=nclasses)\n",
    "        auc= auroc(torch.IntTensor(y),torch.IntTensor(Y))\n",
    "        \n",
    "        print('Model Evaluation Results on {} test samples'.format(total))\n",
    "        print('Test Accuracy: ', acc)\n",
    "        print('Test F1 Score: ',f1score)\n",
    "        print('Test Precision & Recall:', pr)\n",
    "        print('Test AUC score:',auc)\n",
    "        "
   ]
  },
  {
   "cell_type": "markdown",
   "metadata": {
    "id": "jbDH531X-anJ"
   },
   "source": [
    "Architecture 1: AlexNet"
   ]
  },
  {
   "cell_type": "markdown",
   "metadata": {
    "id": "_53CBsNT7_Ds"
   },
   "source": [
    "On dataset 1:"
   ]
  },
  {
   "cell_type": "code",
   "execution_count": 17,
   "metadata": {
    "execution": {
     "iopub.execute_input": "2022-11-25T04:39:47.459724Z",
     "iopub.status.busy": "2022-11-25T04:39:47.459287Z",
     "iopub.status.idle": "2022-11-25T04:39:47.472259Z",
     "shell.execute_reply": "2022-11-25T04:39:47.471176Z",
     "shell.execute_reply.started": "2022-11-25T04:39:47.459690Z"
    },
    "id": "bmokcdO8N-v0"
   },
   "outputs": [],
   "source": [
    "nclasses=15"
   ]
  },
  {
   "cell_type": "code",
   "execution_count": 18,
   "metadata": {
    "colab": {
     "base_uri": "https://localhost:8080/"
    },
    "execution": {
     "iopub.execute_input": "2022-11-25T04:39:47.475012Z",
     "iopub.status.busy": "2022-11-25T04:39:47.473954Z",
     "iopub.status.idle": "2022-11-25T04:39:49.608811Z",
     "shell.execute_reply": "2022-11-25T04:39:49.607725Z",
     "shell.execute_reply.started": "2022-11-25T04:39:47.474973Z"
    },
    "id": "j0C0mVSFA81I",
    "outputId": "65baa952-8f8f-4ca4-9377-893fc50035f5"
   },
   "outputs": [
    {
     "name": "stderr",
     "output_type": "stream",
     "text": [
      "Downloading: \"https://github.com/pytorch/vision/zipball/v0.6.0\" to /root/.cache/torch/hub/v0.6.0.zip\n",
      "/usr/local/lib/python3.8/dist-packages/torchvision/models/_utils.py:208: UserWarning: The parameter 'pretrained' is deprecated since 0.13 and will be removed in 0.15, please use 'weights' instead.\n",
      "  warnings.warn(\n",
      "/usr/local/lib/python3.8/dist-packages/torchvision/models/_utils.py:223: UserWarning: Arguments other than a weight enum or `None` for 'weights' are deprecated since 0.13 and will be removed in 0.15. The current behavior is equivalent to passing `weights=None`.\n",
      "  warnings.warn(msg)\n"
     ]
    }
   ],
   "source": [
    "AlexNet_model = torch.hub.load('pytorch/vision:v0.6.0', 'alexnet', pretrained=False)"
   ]
  },
  {
   "cell_type": "code",
   "execution_count": 19,
   "metadata": {
    "execution": {
     "iopub.execute_input": "2022-11-25T04:39:49.611042Z",
     "iopub.status.busy": "2022-11-25T04:39:49.610640Z",
     "iopub.status.idle": "2022-11-25T04:39:49.620354Z",
     "shell.execute_reply": "2022-11-25T04:39:49.619216Z",
     "shell.execute_reply.started": "2022-11-25T04:39:49.611001Z"
    },
    "id": "gUhYh2APBCmT"
   },
   "outputs": [],
   "source": [
    "prev_out = AlexNet_model.classifier[4].out_features\n",
    "AlexNet_model.classifier[6] = nn.Linear( prev_out, nclasses)"
   ]
  },
  {
   "cell_type": "code",
   "execution_count": 20,
   "metadata": {
    "colab": {
     "base_uri": "https://localhost:8080/"
    },
    "execution": {
     "iopub.execute_input": "2022-11-25T04:39:49.622793Z",
     "iopub.status.busy": "2022-11-25T04:39:49.622395Z",
     "iopub.status.idle": "2022-11-25T04:39:49.652787Z",
     "shell.execute_reply": "2022-11-25T04:39:49.651173Z",
     "shell.execute_reply.started": "2022-11-25T04:39:49.622756Z"
    },
    "id": "rTMSRbBQBF4h",
    "outputId": "75b153d2-5e66-4a9f-d6b7-787152f811a9"
   },
   "outputs": [
    {
     "data": {
      "text/plain": [
       "AlexNet(\n",
       "  (features): Sequential(\n",
       "    (0): Conv2d(3, 64, kernel_size=(11, 11), stride=(4, 4), padding=(2, 2))\n",
       "    (1): ReLU(inplace=True)\n",
       "    (2): MaxPool2d(kernel_size=3, stride=2, padding=0, dilation=1, ceil_mode=False)\n",
       "    (3): Conv2d(64, 192, kernel_size=(5, 5), stride=(1, 1), padding=(2, 2))\n",
       "    (4): ReLU(inplace=True)\n",
       "    (5): MaxPool2d(kernel_size=3, stride=2, padding=0, dilation=1, ceil_mode=False)\n",
       "    (6): Conv2d(192, 384, kernel_size=(3, 3), stride=(1, 1), padding=(1, 1))\n",
       "    (7): ReLU(inplace=True)\n",
       "    (8): Conv2d(384, 256, kernel_size=(3, 3), stride=(1, 1), padding=(1, 1))\n",
       "    (9): ReLU(inplace=True)\n",
       "    (10): Conv2d(256, 256, kernel_size=(3, 3), stride=(1, 1), padding=(1, 1))\n",
       "    (11): ReLU(inplace=True)\n",
       "    (12): MaxPool2d(kernel_size=3, stride=2, padding=0, dilation=1, ceil_mode=False)\n",
       "  )\n",
       "  (avgpool): AdaptiveAvgPool2d(output_size=(6, 6))\n",
       "  (classifier): Sequential(\n",
       "    (0): Dropout(p=0.5, inplace=False)\n",
       "    (1): Linear(in_features=9216, out_features=4096, bias=True)\n",
       "    (2): ReLU(inplace=True)\n",
       "    (3): Dropout(p=0.5, inplace=False)\n",
       "    (4): Linear(in_features=4096, out_features=4096, bias=True)\n",
       "    (5): ReLU(inplace=True)\n",
       "    (6): Linear(in_features=4096, out_features=15, bias=True)\n",
       "  )\n",
       ")"
      ]
     },
     "execution_count": 20,
     "metadata": {},
     "output_type": "execute_result"
    }
   ],
   "source": [
    "AlexNet_model.eval()"
   ]
  },
  {
   "cell_type": "code",
   "execution_count": 21,
   "metadata": {
    "execution": {
     "iopub.execute_input": "2022-11-25T04:39:49.655656Z",
     "iopub.status.busy": "2022-11-25T04:39:49.654766Z",
     "iopub.status.idle": "2022-11-25T04:39:49.662798Z",
     "shell.execute_reply": "2022-11-25T04:39:49.661696Z",
     "shell.execute_reply.started": "2022-11-25T04:39:49.655565Z"
    },
    "id": "yKGRy1ztBL28"
   },
   "outputs": [],
   "source": [
    "optimizer = torch.optim.Adam(AlexNet_model.parameters(), lr=learning_rate) "
   ]
  },
  {
   "cell_type": "code",
   "execution_count": 22,
   "metadata": {
    "execution": {
     "iopub.execute_input": "2022-11-25T04:39:49.665172Z",
     "iopub.status.busy": "2022-11-25T04:39:49.664295Z",
     "iopub.status.idle": "2022-11-25T04:39:50.818663Z",
     "shell.execute_reply": "2022-11-25T04:39:50.817585Z",
     "shell.execute_reply.started": "2022-11-25T04:39:49.665115Z"
    },
    "id": "dnyRBBLrs23v"
   },
   "outputs": [],
   "source": [
    "path_train = path_dataset1+\"train/\"\n",
    "path_test = path_dataset1+\"test/\"\n",
    "val_split = 0.2\n",
    "batch_size = 32\n",
    "input_size = (224,224)\n",
    "\n",
    "train_loader, test_loader, val_loader, mappings = load_data(path_train, val_split, path_test, batch_size, input_size)"
   ]
  },
  {
   "cell_type": "code",
   "execution_count": null,
   "metadata": {
    "execution": {
     "iopub.execute_input": "2022-11-25T04:39:50.822614Z",
     "iopub.status.busy": "2022-11-25T04:39:50.822283Z",
     "iopub.status.idle": "2022-11-25T04:39:54.051689Z",
     "shell.execute_reply": "2022-11-25T04:39:54.050627Z",
     "shell.execute_reply.started": "2022-11-25T04:39:50.822583Z"
    },
    "id": "LQw6FaosKl2Y",
    "outputId": "ad5f6746-a456-4a38-fe8d-fe816a8f5f97"
   },
   "outputs": [
    {
     "name": "stdout",
     "output_type": "stream",
     "text": [
      "Device: cuda:0\n"
     ]
    }
   ],
   "source": [
    "device = torch.device(\"cuda:0\" if torch.cuda.is_available() else \"cpu\")\n",
    "print(\"Device: {}\".format(device))\n",
    "x = AlexNet_model.to(device)"
   ]
  },
  {
   "cell_type": "code",
   "execution_count": null,
   "metadata": {
    "execution": {
     "iopub.execute_input": "2022-11-25T04:39:54.054465Z",
     "iopub.status.busy": "2022-11-25T04:39:54.053089Z",
     "iopub.status.idle": "2022-11-25T04:39:54.070452Z",
     "shell.execute_reply": "2022-11-25T04:39:54.069479Z",
     "shell.execute_reply.started": "2022-11-25T04:39:54.054422Z"
    },
    "id": "mi0ZJxXd6S4B",
    "outputId": "175bd466-5ac2-4d8c-8527-33c8269569db"
   },
   "outputs": [
    {
     "name": "stdout",
     "output_type": "stream",
     "text": [
      "Class: SPEED_LIMIT_80 has samples: 192 \n",
      "Class: SPEED_LIMIT_60 has samples: 190 \n",
      "Class: NO_STOPPING_OR_STANDING has samples: 242 \n",
      "Class: COMPULSARY_KEEP_RIGHT has samples: 223 \n",
      "Class: GAP_IN_MEDIAN has samples: 180 \n",
      "Class: CROSS_ROAD has samples: 140 \n",
      "Class: PEDESTRIAN_CROSSING has samples: 121 \n",
      "Class: SPEED_LIMIT_50 has samples: 200 \n",
      "Class: HORN_PROHIBITED has samples: 160 \n",
      "Class: SPEED_LIMIT_40 has samples: 170 \n",
      "Class: NO_ENTRY has samples: 174 \n",
      "Class: HUMP_OR_ROUGH_ROAD has samples: 101 \n",
      "Class: SPEED_LIMIT_30 has samples: 238 \n",
      "Class: LEFT_TURN_PROHIBITED has samples: 126 \n",
      "Class: SPEED_LIMIT_70 has samples: 160 \n",
      "\n",
      "Total number of samples:  2617\n",
      "\n",
      "Time taken: 0.008558988571166992\n"
     ]
    }
   ],
   "source": [
    "class_weights = get_class_weights(path_train, mappings)\n",
    "\n",
    "class_weights = torch.FloatTensor(class_weights)\n",
    "class_weights = class_weights.to(device)\n",
    "\n",
    "criterion = get_criterion(class_weights)"
   ]
  },
  {
   "cell_type": "code",
   "execution_count": null,
   "metadata": {
    "execution": {
     "iopub.execute_input": "2022-11-25T04:39:54.073416Z",
     "iopub.status.busy": "2022-11-25T04:39:54.071934Z",
     "iopub.status.idle": "2022-11-25T05:35:04.016644Z",
     "shell.execute_reply": "2022-11-25T05:35:04.015521Z",
     "shell.execute_reply.started": "2022-11-25T04:39:54.073373Z"
    },
    "id": "pzxEFoxxs26O",
    "outputId": "e524abf0-da3a-44bc-9050-58e905b65e9d"
   },
   "outputs": [
    {
     "name": "stdout",
     "output_type": "stream",
     "text": [
      "Epoch [1/10], Step [10/66], Loss: 2.7295, Accuracy: 6.25%, Validation Accuracy: 7.07%\n",
      "Epoch [1/10], Step [20/66], Loss: 2.6838, Accuracy: 9.38%, Validation Accuracy: 7.07%\n",
      "Epoch [1/10], Step [30/66], Loss: 2.6286, Accuracy: 12.50%, Validation Accuracy: 7.07%\n",
      "Epoch [1/10], Step [40/66], Loss: 2.6480, Accuracy: 15.62%, Validation Accuracy: 7.07%\n",
      "Epoch [1/10], Step [50/66], Loss: 2.6554, Accuracy: 9.38%, Validation Accuracy: 7.07%\n",
      "Epoch [1/10], Step [60/66], Loss: 2.6864, Accuracy: 3.12%, Validation Accuracy: 8.03%\n",
      "Epoch [2/10], Step [10/66], Loss: 2.6617, Accuracy: 9.38%, Validation Accuracy: 17.21%\n",
      "Epoch [2/10], Step [20/66], Loss: 2.4279, Accuracy: 18.75%, Validation Accuracy: 21.99%\n",
      "Epoch [2/10], Step [30/66], Loss: 2.1817, Accuracy: 28.12%, Validation Accuracy: 14.53%\n",
      "Epoch [2/10], Step [40/66], Loss: 2.3154, Accuracy: 28.12%, Validation Accuracy: 16.44%\n",
      "Epoch [2/10], Step [50/66], Loss: 2.4308, Accuracy: 9.38%, Validation Accuracy: 21.61%\n",
      "Epoch [2/10], Step [60/66], Loss: 2.2330, Accuracy: 25.00%, Validation Accuracy: 23.33%\n",
      "Epoch [3/10], Step [10/66], Loss: 2.3980, Accuracy: 21.88%, Validation Accuracy: 19.31%\n",
      "Epoch [3/10], Step [20/66], Loss: 2.1671, Accuracy: 31.25%, Validation Accuracy: 17.21%\n",
      "Epoch [3/10], Step [30/66], Loss: 2.2669, Accuracy: 18.75%, Validation Accuracy: 22.37%\n",
      "Epoch [3/10], Step [40/66], Loss: 2.3193, Accuracy: 15.62%, Validation Accuracy: 27.34%\n",
      "Epoch [3/10], Step [50/66], Loss: 2.3006, Accuracy: 15.62%, Validation Accuracy: 25.62%\n",
      "Epoch [3/10], Step [60/66], Loss: 2.4808, Accuracy: 12.50%, Validation Accuracy: 14.72%\n",
      "Epoch [4/10], Step [10/66], Loss: 2.4179, Accuracy: 15.62%, Validation Accuracy: 25.43%\n",
      "Epoch [4/10], Step [20/66], Loss: 2.2443, Accuracy: 21.88%, Validation Accuracy: 27.15%\n",
      "Epoch [4/10], Step [30/66], Loss: 2.0049, Accuracy: 46.88%, Validation Accuracy: 30.02%\n",
      "Epoch [4/10], Step [40/66], Loss: 2.0306, Accuracy: 31.25%, Validation Accuracy: 28.30%\n",
      "Epoch [4/10], Step [50/66], Loss: 2.2479, Accuracy: 25.00%, Validation Accuracy: 27.53%\n",
      "Epoch [4/10], Step [60/66], Loss: 2.1442, Accuracy: 28.12%, Validation Accuracy: 26.58%\n",
      "Epoch [5/10], Step [10/66], Loss: 2.0720, Accuracy: 34.38%, Validation Accuracy: 23.33%\n",
      "Epoch [5/10], Step [20/66], Loss: 1.7841, Accuracy: 46.88%, Validation Accuracy: 28.87%\n",
      "Epoch [5/10], Step [30/66], Loss: 2.1254, Accuracy: 21.88%, Validation Accuracy: 31.74%\n",
      "Epoch [5/10], Step [40/66], Loss: 2.0302, Accuracy: 18.75%, Validation Accuracy: 25.62%\n",
      "Epoch [5/10], Step [50/66], Loss: 1.6590, Accuracy: 37.50%, Validation Accuracy: 30.98%\n",
      "Epoch [5/10], Step [60/66], Loss: 1.9042, Accuracy: 37.50%, Validation Accuracy: 32.31%\n",
      "Epoch [6/10], Step [10/66], Loss: 1.7021, Accuracy: 34.38%, Validation Accuracy: 33.46%\n",
      "Epoch [6/10], Step [20/66], Loss: 1.8251, Accuracy: 34.38%, Validation Accuracy: 41.87%\n",
      "Epoch [6/10], Step [30/66], Loss: 1.7002, Accuracy: 28.12%, Validation Accuracy: 43.21%\n",
      "Epoch [6/10], Step [40/66], Loss: 1.6948, Accuracy: 37.50%, Validation Accuracy: 47.04%\n",
      "Epoch [6/10], Step [50/66], Loss: 1.4729, Accuracy: 34.38%, Validation Accuracy: 41.11%\n",
      "Epoch [6/10], Step [60/66], Loss: 1.4534, Accuracy: 53.12%, Validation Accuracy: 42.64%\n",
      "Epoch [7/10], Step [10/66], Loss: 1.4085, Accuracy: 46.88%, Validation Accuracy: 46.27%\n",
      "Epoch [7/10], Step [20/66], Loss: 1.2846, Accuracy: 53.12%, Validation Accuracy: 48.76%\n",
      "Epoch [7/10], Step [30/66], Loss: 1.2338, Accuracy: 43.75%, Validation Accuracy: 43.59%\n",
      "Epoch [7/10], Step [40/66], Loss: 1.3305, Accuracy: 50.00%, Validation Accuracy: 44.55%\n",
      "Epoch [7/10], Step [50/66], Loss: 1.4099, Accuracy: 43.75%, Validation Accuracy: 43.02%\n",
      "Epoch [7/10], Step [60/66], Loss: 1.7514, Accuracy: 37.50%, Validation Accuracy: 47.23%\n",
      "Epoch [8/10], Step [10/66], Loss: 1.5782, Accuracy: 43.75%, Validation Accuracy: 46.27%\n",
      "Epoch [8/10], Step [20/66], Loss: 1.3907, Accuracy: 46.88%, Validation Accuracy: 50.48%\n",
      "Epoch [8/10], Step [30/66], Loss: 1.5205, Accuracy: 46.88%, Validation Accuracy: 44.36%\n",
      "Epoch [8/10], Step [40/66], Loss: 1.4493, Accuracy: 53.12%, Validation Accuracy: 50.86%\n",
      "Epoch [8/10], Step [50/66], Loss: 1.0824, Accuracy: 62.50%, Validation Accuracy: 50.48%\n",
      "Epoch [8/10], Step [60/66], Loss: 1.4268, Accuracy: 50.00%, Validation Accuracy: 48.57%\n",
      "Epoch [9/10], Step [10/66], Loss: 1.2542, Accuracy: 56.25%, Validation Accuracy: 48.95%\n",
      "Epoch [9/10], Step [20/66], Loss: 1.3774, Accuracy: 34.38%, Validation Accuracy: 54.88%\n",
      "Epoch [9/10], Step [30/66], Loss: 1.2874, Accuracy: 62.50%, Validation Accuracy: 51.63%\n",
      "Epoch [9/10], Step [40/66], Loss: 1.2038, Accuracy: 71.88%, Validation Accuracy: 57.93%\n",
      "Epoch [9/10], Step [50/66], Loss: 1.4689, Accuracy: 56.25%, Validation Accuracy: 53.15%\n",
      "Epoch [9/10], Step [60/66], Loss: 0.8117, Accuracy: 71.88%, Validation Accuracy: 50.48%\n",
      "Epoch [10/10], Step [10/66], Loss: 0.9778, Accuracy: 59.38%, Validation Accuracy: 54.30%\n",
      "Epoch [10/10], Step [20/66], Loss: 0.8309, Accuracy: 62.50%, Validation Accuracy: 55.07%\n",
      "Epoch [10/10], Step [30/66], Loss: 1.0571, Accuracy: 56.25%, Validation Accuracy: 52.01%\n",
      "Epoch [10/10], Step [40/66], Loss: 1.1261, Accuracy: 46.88%, Validation Accuracy: 58.32%\n",
      "Epoch [10/10], Step [50/66], Loss: 1.0524, Accuracy: 43.75%, Validation Accuracy: 59.08%\n",
      "Epoch [10/10], Step [60/66], Loss: 0.8212, Accuracy: 78.12%, Validation Accuracy: 55.26%\n",
      "######## Training Finished in 3309.282156229019 seconds ###########\n",
      "/n/n Saving model at:  /kaggle/working/alexnetmodel_d1.pt\n"
     ]
    }
   ],
   "source": [
    "model_savepath = savepath+\"alexnetmodel_d1.pt\"\n",
    "results_savepath = savepath+\"alexnetmodel_d1_results.pkb\"\n",
    "\n",
    "trained_AlexNet_model, device = train_model(AlexNet_model, num_epochs, train_loader, criterion, optimizer, model_savepath, results_savepath, device)"
   ]
  },
  {
   "cell_type": "code",
   "execution_count": 24,
   "metadata": {
    "colab": {
     "base_uri": "https://localhost:8080/"
    },
    "execution": {
     "iopub.execute_input": "2022-11-25T05:35:04.027643Z",
     "iopub.status.busy": "2022-11-25T05:35:04.025694Z",
     "iopub.status.idle": "2022-11-25T05:35:23.461160Z",
     "shell.execute_reply": "2022-11-25T05:35:23.459849Z",
     "shell.execute_reply.started": "2022-11-25T05:35:04.027603Z"
    },
    "id": "qnfIndd2s29e",
    "outputId": "2dcd9d25-4341-4ddf-f6fd-29a905a1453a"
   },
   "outputs": [
    {
     "name": "stdout",
     "output_type": "stream",
     "text": [
      "Model Evaluation Results on 710 test samples\n",
      "Test Accuracy:  55.21126760563381\n",
      "Test F1 Score:  tensor(0.5521)\n",
      "Test Precision & Recall: (tensor(0.6320), tensor(0.5853))\n",
      "Test AUC score: tensor(0.0738)\n"
     ]
    }
   ],
   "source": [
    "evaluate_model(trained_AlexNet_model, test_loader, device, nclasses)"
   ]
  },
  {
   "cell_type": "markdown",
   "metadata": {
    "id": "vEqLQu1V8O9v"
   },
   "source": [
    "On dataset 2:"
   ]
  },
  {
   "cell_type": "code",
   "execution_count": 25,
   "metadata": {
    "execution": {
     "iopub.execute_input": "2022-11-25T05:35:23.463432Z",
     "iopub.status.busy": "2022-11-25T05:35:23.462986Z",
     "iopub.status.idle": "2022-11-25T05:35:23.468841Z",
     "shell.execute_reply": "2022-11-25T05:35:23.467398Z",
     "shell.execute_reply.started": "2022-11-25T05:35:23.463388Z"
    },
    "id": "M8TAKHdJN-v3"
   },
   "outputs": [],
   "source": [
    "nclasses=12"
   ]
  },
  {
   "cell_type": "code",
   "execution_count": 26,
   "metadata": {
    "colab": {
     "base_uri": "https://localhost:8080/"
    },
    "execution": {
     "iopub.execute_input": "2022-11-25T05:35:23.471314Z",
     "iopub.status.busy": "2022-11-25T05:35:23.470568Z",
     "iopub.status.idle": "2022-11-25T05:35:24.061260Z",
     "shell.execute_reply": "2022-11-25T05:35:24.060202Z",
     "shell.execute_reply.started": "2022-11-25T05:35:23.471274Z"
    },
    "id": "I2j6kffT8O9v",
    "outputId": "5a3f1c74-89f0-4ed9-db0d-bdf43d258edf"
   },
   "outputs": [
    {
     "name": "stderr",
     "output_type": "stream",
     "text": [
      "Using cache found in /root/.cache/torch/hub/pytorch_vision_v0.6.0\n"
     ]
    }
   ],
   "source": [
    "AlexNet_model = torch.hub.load('pytorch/vision:v0.6.0', 'alexnet', pretrained=False)"
   ]
  },
  {
   "cell_type": "code",
   "execution_count": 27,
   "metadata": {
    "execution": {
     "iopub.execute_input": "2022-11-25T05:35:24.063471Z",
     "iopub.status.busy": "2022-11-25T05:35:24.062689Z",
     "iopub.status.idle": "2022-11-25T05:35:24.071495Z",
     "shell.execute_reply": "2022-11-25T05:35:24.070582Z",
     "shell.execute_reply.started": "2022-11-25T05:35:24.063430Z"
    },
    "id": "NrZajJzb8O9v"
   },
   "outputs": [],
   "source": [
    "prev_out = AlexNet_model.classifier[4].out_features\n",
    "AlexNet_model.classifier[6] = nn.Linear( prev_out, nclasses)"
   ]
  },
  {
   "cell_type": "code",
   "execution_count": 28,
   "metadata": {
    "execution": {
     "iopub.execute_input": "2022-11-25T05:35:24.073510Z",
     "iopub.status.busy": "2022-11-25T05:35:24.073038Z",
     "iopub.status.idle": "2022-11-25T05:35:24.082500Z",
     "shell.execute_reply": "2022-11-25T05:35:24.081483Z",
     "shell.execute_reply.started": "2022-11-25T05:35:24.073471Z"
    },
    "id": "mLV6Cd7r8O9w"
   },
   "outputs": [],
   "source": [
    "optimizer = torch.optim.Adam(AlexNet_model.parameters(), lr=learning_rate) "
   ]
  },
  {
   "cell_type": "code",
   "execution_count": 31,
   "metadata": {
    "execution": {
     "iopub.execute_input": "2022-11-25T05:35:24.093127Z",
     "iopub.status.busy": "2022-11-25T05:35:24.092819Z",
     "iopub.status.idle": "2022-11-25T05:35:26.130188Z",
     "shell.execute_reply": "2022-11-25T05:35:26.129090Z",
     "shell.execute_reply.started": "2022-11-25T05:35:24.093100Z"
    },
    "id": "1xjiDwAq8O9w"
   },
   "outputs": [],
   "source": [
    "path_train = path_dataset2+\"train/\"\n",
    "path_test = path_dataset2+\"test/\"\n",
    "val_split = 0.2\n",
    "batch_size = 32\n",
    "input_size = (224,224)\n",
    "\n",
    "train_loader, test_loader, val_loader, mappings = load_data(path_train, val_split, path_test, batch_size, input_size)"
   ]
  },
  {
   "cell_type": "code",
   "execution_count": null,
   "metadata": {
    "execution": {
     "iopub.execute_input": "2022-11-25T05:35:26.132356Z",
     "iopub.status.busy": "2022-11-25T05:35:26.131649Z",
     "iopub.status.idle": "2022-11-25T05:35:26.205249Z",
     "shell.execute_reply": "2022-11-25T05:35:26.204023Z",
     "shell.execute_reply.started": "2022-11-25T05:35:26.132316Z"
    },
    "id": "a-qE-V-JVT3V",
    "outputId": "e6e440ab-c10c-43d4-b916-092ef6c12555"
   },
   "outputs": [
    {
     "name": "stdout",
     "output_type": "stream",
     "text": [
      "Device: cuda:0\n"
     ]
    }
   ],
   "source": [
    "device = torch.device(\"cuda:0\" if torch.cuda.is_available() else \"cpu\")\n",
    "print(\"Device: {}\".format(device))\n",
    "x = AlexNet_model.to(device)"
   ]
  },
  {
   "cell_type": "code",
   "execution_count": null,
   "metadata": {
    "execution": {
     "iopub.execute_input": "2022-11-25T05:35:26.207189Z",
     "iopub.status.busy": "2022-11-25T05:35:26.206818Z",
     "iopub.status.idle": "2022-11-25T05:35:26.221820Z",
     "shell.execute_reply": "2022-11-25T05:35:26.220812Z",
     "shell.execute_reply.started": "2022-11-25T05:35:26.207152Z"
    },
    "id": "HOwQJQNM9fre",
    "outputId": "53191ae9-1228-4c97-9212-dc4ffd7f7c1d"
   },
   "outputs": [
    {
     "name": "stdout",
     "output_type": "stream",
     "text": [
      "Class: Pedestrain has samples: 1014 \n",
      "Class: NO Stopping has samples: 1075 \n",
      "Class: Right Turn Prohibited has samples: 436 \n",
      "Class: Danger has samples: 399 \n",
      "Class: Compulsory Keep BothSide has samples: 573 \n",
      "Class: Maximum Speed 30 has samples: 477 \n",
      "Class: Right Margin has samples: 506 \n",
      "Class: Cycle crossing has samples: 662 \n",
      "Class: Roundabouts has samples: 497 \n",
      "Class: One way Traffic has samples: 684 \n",
      "Class: Compulsory Keep Right has samples: 703 \n",
      "Class: No Entry has samples: 930 \n",
      "\n",
      "Total number of samples:  7956\n",
      "\n",
      "Time taken: 0.008566141128540039\n"
     ]
    }
   ],
   "source": [
    "class_weights = get_class_weights(path_train, mappings)\n",
    "\n",
    "class_weights = torch.FloatTensor(class_weights)\n",
    "class_weights = class_weights.to(device)\n",
    "\n",
    "criterion = get_criterion(class_weights)"
   ]
  },
  {
   "cell_type": "code",
   "execution_count": null,
   "metadata": {
    "execution": {
     "iopub.execute_input": "2022-11-25T05:35:26.223634Z",
     "iopub.status.busy": "2022-11-25T05:35:26.223237Z",
     "iopub.status.idle": "2022-11-25T06:23:58.510067Z",
     "shell.execute_reply": "2022-11-25T06:23:58.509080Z",
     "shell.execute_reply.started": "2022-11-25T05:35:26.223596Z"
    },
    "id": "uQGp2Bk38O9w",
    "outputId": "260ac207-57cc-470f-f9b4-b6699a0cc698"
   },
   "outputs": [
    {
     "name": "stdout",
     "output_type": "stream",
     "text": [
      "Epoch [1/10], Step [10/199], Loss: 2.4676, Accuracy: 12.50%, Validation Accuracy: 14.20%\n",
      "Epoch [1/10], Step [20/199], Loss: 2.4558, Accuracy: 12.50%, Validation Accuracy: 14.20%\n",
      "Epoch [1/10], Step [30/199], Loss: 2.3851, Accuracy: 31.25%, Validation Accuracy: 14.20%\n",
      "Epoch [1/10], Step [40/199], Loss: 2.3879, Accuracy: 9.38%, Validation Accuracy: 14.20%\n",
      "Epoch [1/10], Step [50/199], Loss: 2.3227, Accuracy: 9.38%, Validation Accuracy: 12.70%\n",
      "Epoch [1/10], Step [60/199], Loss: 2.1721, Accuracy: 15.62%, Validation Accuracy: 14.20%\n",
      "Epoch [1/10], Step [70/199], Loss: 2.3524, Accuracy: 28.12%, Validation Accuracy: 16.91%\n",
      "Epoch [1/10], Step [80/199], Loss: 2.2265, Accuracy: 28.12%, Validation Accuracy: 17.85%\n",
      "Epoch [1/10], Step [90/199], Loss: 2.3676, Accuracy: 18.75%, Validation Accuracy: 14.20%\n",
      "Epoch [1/10], Step [100/199], Loss: 2.0491, Accuracy: 18.75%, Validation Accuracy: 22.25%\n",
      "Epoch [1/10], Step [110/199], Loss: 2.0274, Accuracy: 28.12%, Validation Accuracy: 23.44%\n",
      "Epoch [1/10], Step [120/199], Loss: 2.0683, Accuracy: 18.75%, Validation Accuracy: 25.58%\n",
      "Epoch [1/10], Step [130/199], Loss: 2.3623, Accuracy: 6.25%, Validation Accuracy: 34.57%\n",
      "Epoch [1/10], Step [140/199], Loss: 2.0399, Accuracy: 18.75%, Validation Accuracy: 34.00%\n",
      "Epoch [1/10], Step [150/199], Loss: 1.7527, Accuracy: 40.62%, Validation Accuracy: 26.34%\n",
      "Epoch [1/10], Step [160/199], Loss: 2.0131, Accuracy: 37.50%, Validation Accuracy: 29.67%\n",
      "Epoch [1/10], Step [170/199], Loss: 1.8189, Accuracy: 28.12%, Validation Accuracy: 32.24%\n",
      "Epoch [1/10], Step [180/199], Loss: 1.6243, Accuracy: 34.38%, Validation Accuracy: 37.90%\n",
      "Epoch [1/10], Step [190/199], Loss: 1.6540, Accuracy: 40.62%, Validation Accuracy: 35.01%\n",
      "Epoch [2/10], Step [10/199], Loss: 1.4485, Accuracy: 25.00%, Validation Accuracy: 39.53%\n",
      "Epoch [2/10], Step [20/199], Loss: 1.5622, Accuracy: 43.75%, Validation Accuracy: 48.27%\n",
      "Epoch [2/10], Step [30/199], Loss: 1.3690, Accuracy: 53.12%, Validation Accuracy: 48.27%\n",
      "Epoch [2/10], Step [40/199], Loss: 1.5848, Accuracy: 43.75%, Validation Accuracy: 51.54%\n",
      "Epoch [2/10], Step [50/199], Loss: 1.5297, Accuracy: 31.25%, Validation Accuracy: 45.25%\n",
      "Epoch [2/10], Step [60/199], Loss: 0.9415, Accuracy: 59.38%, Validation Accuracy: 54.31%\n",
      "Epoch [2/10], Step [70/199], Loss: 1.5794, Accuracy: 53.12%, Validation Accuracy: 51.35%\n",
      "Epoch [2/10], Step [80/199], Loss: 1.3612, Accuracy: 40.62%, Validation Accuracy: 48.59%\n",
      "Epoch [2/10], Step [90/199], Loss: 1.1392, Accuracy: 53.12%, Validation Accuracy: 54.18%\n",
      "Epoch [2/10], Step [100/199], Loss: 1.2530, Accuracy: 56.25%, Validation Accuracy: 55.63%\n",
      "Epoch [2/10], Step [110/199], Loss: 1.1159, Accuracy: 53.12%, Validation Accuracy: 50.47%\n",
      "Epoch [2/10], Step [120/199], Loss: 0.9920, Accuracy: 65.62%, Validation Accuracy: 57.13%\n",
      "Epoch [2/10], Step [130/199], Loss: 1.4625, Accuracy: 40.62%, Validation Accuracy: 55.63%\n",
      "Epoch [2/10], Step [140/199], Loss: 1.1794, Accuracy: 53.12%, Validation Accuracy: 56.13%\n",
      "Epoch [2/10], Step [150/199], Loss: 1.0857, Accuracy: 56.25%, Validation Accuracy: 54.49%\n",
      "Epoch [2/10], Step [160/199], Loss: 1.4003, Accuracy: 40.62%, Validation Accuracy: 56.07%\n",
      "Epoch [2/10], Step [170/199], Loss: 1.1634, Accuracy: 65.62%, Validation Accuracy: 59.40%\n",
      "Epoch [2/10], Step [180/199], Loss: 1.1428, Accuracy: 53.12%, Validation Accuracy: 51.48%\n",
      "Epoch [2/10], Step [190/199], Loss: 1.2142, Accuracy: 43.75%, Validation Accuracy: 57.20%\n",
      "Epoch [3/10], Step [10/199], Loss: 0.8384, Accuracy: 68.75%, Validation Accuracy: 56.82%\n",
      "Epoch [3/10], Step [20/199], Loss: 1.0001, Accuracy: 56.25%, Validation Accuracy: 55.37%\n",
      "Epoch [3/10], Step [30/199], Loss: 0.9540, Accuracy: 59.38%, Validation Accuracy: 63.48%\n",
      "Epoch [3/10], Step [40/199], Loss: 1.0386, Accuracy: 56.25%, Validation Accuracy: 61.47%\n",
      "Epoch [3/10], Step [50/199], Loss: 0.6186, Accuracy: 78.12%, Validation Accuracy: 67.13%\n",
      "Epoch [3/10], Step [60/199], Loss: 0.6835, Accuracy: 71.88%, Validation Accuracy: 68.95%\n",
      "Epoch [3/10], Step [70/199], Loss: 0.9438, Accuracy: 50.00%, Validation Accuracy: 72.66%\n",
      "Epoch [3/10], Step [80/199], Loss: 0.7800, Accuracy: 71.88%, Validation Accuracy: 72.34%\n",
      "Epoch [3/10], Step [90/199], Loss: 1.1219, Accuracy: 59.38%, Validation Accuracy: 70.52%\n",
      "Epoch [3/10], Step [100/199], Loss: 0.7544, Accuracy: 75.00%, Validation Accuracy: 77.37%\n",
      "Epoch [3/10], Step [110/199], Loss: 0.7964, Accuracy: 71.88%, Validation Accuracy: 78.63%\n",
      "Epoch [3/10], Step [120/199], Loss: 0.7813, Accuracy: 71.88%, Validation Accuracy: 81.90%\n",
      "Epoch [3/10], Step [130/199], Loss: 1.0020, Accuracy: 78.12%, Validation Accuracy: 83.41%\n",
      "Epoch [3/10], Step [140/199], Loss: 0.8773, Accuracy: 68.75%, Validation Accuracy: 83.16%\n",
      "Epoch [3/10], Step [150/199], Loss: 0.3785, Accuracy: 87.50%, Validation Accuracy: 86.49%\n",
      "Epoch [3/10], Step [160/199], Loss: 0.5224, Accuracy: 87.50%, Validation Accuracy: 83.72%\n",
      "Epoch [3/10], Step [170/199], Loss: 0.2881, Accuracy: 93.75%, Validation Accuracy: 80.01%\n",
      "Epoch [3/10], Step [180/199], Loss: 0.4383, Accuracy: 87.50%, Validation Accuracy: 90.38%\n",
      "Epoch [3/10], Step [190/199], Loss: 0.6877, Accuracy: 81.25%, Validation Accuracy: 89.88%\n",
      "Epoch [4/10], Step [10/199], Loss: 0.3641, Accuracy: 87.50%, Validation Accuracy: 88.06%\n",
      "Epoch [4/10], Step [20/199], Loss: 0.5802, Accuracy: 75.00%, Validation Accuracy: 88.25%\n",
      "Epoch [4/10], Step [30/199], Loss: 0.3780, Accuracy: 84.38%, Validation Accuracy: 92.21%\n",
      "Epoch [4/10], Step [40/199], Loss: 0.6655, Accuracy: 78.12%, Validation Accuracy: 91.14%\n",
      "Epoch [4/10], Step [50/199], Loss: 0.4360, Accuracy: 81.25%, Validation Accuracy: 90.38%\n",
      "Epoch [4/10], Step [60/199], Loss: 0.2190, Accuracy: 96.88%, Validation Accuracy: 90.38%\n",
      "Epoch [4/10], Step [70/199], Loss: 0.3161, Accuracy: 93.75%, Validation Accuracy: 91.01%\n",
      "Epoch [4/10], Step [80/199], Loss: 0.2980, Accuracy: 90.62%, Validation Accuracy: 93.59%\n",
      "Epoch [4/10], Step [90/199], Loss: 0.1784, Accuracy: 93.75%, Validation Accuracy: 92.52%\n",
      "Epoch [4/10], Step [100/199], Loss: 0.0473, Accuracy: 100.00%, Validation Accuracy: 93.53%\n",
      "Epoch [4/10], Step [110/199], Loss: 0.4711, Accuracy: 90.62%, Validation Accuracy: 91.58%\n",
      "Epoch [4/10], Step [120/199], Loss: 0.1680, Accuracy: 96.88%, Validation Accuracy: 91.45%\n",
      "Epoch [4/10], Step [130/199], Loss: 0.2301, Accuracy: 90.62%, Validation Accuracy: 92.33%\n",
      "Epoch [4/10], Step [140/199], Loss: 0.3690, Accuracy: 93.75%, Validation Accuracy: 93.09%\n",
      "Epoch [4/10], Step [150/199], Loss: 0.4311, Accuracy: 90.62%, Validation Accuracy: 92.46%\n",
      "Epoch [4/10], Step [160/199], Loss: 0.5017, Accuracy: 87.50%, Validation Accuracy: 92.96%\n",
      "Epoch [4/10], Step [170/199], Loss: 0.5397, Accuracy: 87.50%, Validation Accuracy: 86.24%\n",
      "Epoch [4/10], Step [180/199], Loss: 0.9931, Accuracy: 75.00%, Validation Accuracy: 88.43%\n",
      "Epoch [4/10], Step [190/199], Loss: 0.7952, Accuracy: 81.25%, Validation Accuracy: 82.40%\n",
      "Epoch [5/10], Step [10/199], Loss: 0.8421, Accuracy: 75.00%, Validation Accuracy: 83.41%\n",
      "Epoch [5/10], Step [20/199], Loss: 0.3304, Accuracy: 93.75%, Validation Accuracy: 92.02%\n",
      "Epoch [5/10], Step [30/199], Loss: 0.1408, Accuracy: 96.88%, Validation Accuracy: 93.34%\n",
      "Epoch [5/10], Step [40/199], Loss: 0.1569, Accuracy: 96.88%, Validation Accuracy: 93.90%\n",
      "Epoch [5/10], Step [50/199], Loss: 0.2129, Accuracy: 93.75%, Validation Accuracy: 94.09%\n",
      "Epoch [5/10], Step [60/199], Loss: 0.4601, Accuracy: 81.25%, Validation Accuracy: 93.21%\n",
      "Epoch [5/10], Step [70/199], Loss: 0.1403, Accuracy: 96.88%, Validation Accuracy: 90.32%\n",
      "Epoch [5/10], Step [80/199], Loss: 0.1163, Accuracy: 96.88%, Validation Accuracy: 93.65%\n",
      "Epoch [5/10], Step [90/199], Loss: 0.2155, Accuracy: 87.50%, Validation Accuracy: 91.45%\n",
      "Epoch [5/10], Step [100/199], Loss: 0.5531, Accuracy: 84.38%, Validation Accuracy: 94.22%\n",
      "Epoch [5/10], Step [110/199], Loss: 0.1967, Accuracy: 93.75%, Validation Accuracy: 94.85%\n",
      "Epoch [5/10], Step [120/199], Loss: 0.1995, Accuracy: 96.88%, Validation Accuracy: 95.29%\n",
      "Epoch [5/10], Step [130/199], Loss: 0.3286, Accuracy: 93.75%, Validation Accuracy: 91.51%\n",
      "Epoch [5/10], Step [140/199], Loss: 0.3739, Accuracy: 87.50%, Validation Accuracy: 89.06%\n",
      "Epoch [5/10], Step [150/199], Loss: 0.3017, Accuracy: 90.62%, Validation Accuracy: 92.77%\n",
      "Epoch [5/10], Step [160/199], Loss: 0.3504, Accuracy: 87.50%, Validation Accuracy: 93.15%\n",
      "Epoch [5/10], Step [170/199], Loss: 0.1226, Accuracy: 96.88%, Validation Accuracy: 95.16%\n",
      "Epoch [5/10], Step [180/199], Loss: 0.3255, Accuracy: 87.50%, Validation Accuracy: 94.85%\n",
      "Epoch [5/10], Step [190/199], Loss: 0.2487, Accuracy: 96.88%, Validation Accuracy: 94.85%\n",
      "Epoch [6/10], Step [10/199], Loss: 0.2033, Accuracy: 90.62%, Validation Accuracy: 94.85%\n",
      "Epoch [6/10], Step [20/199], Loss: 0.3225, Accuracy: 90.62%, Validation Accuracy: 95.03%\n",
      "Epoch [6/10], Step [30/199], Loss: 0.2378, Accuracy: 96.88%, Validation Accuracy: 94.97%\n",
      "Epoch [6/10], Step [40/199], Loss: 0.0800, Accuracy: 100.00%, Validation Accuracy: 95.16%\n",
      "Epoch [6/10], Step [50/199], Loss: 0.1260, Accuracy: 96.88%, Validation Accuracy: 95.10%\n",
      "Epoch [6/10], Step [60/199], Loss: 0.4104, Accuracy: 87.50%, Validation Accuracy: 94.03%\n",
      "Epoch [6/10], Step [70/199], Loss: 0.8734, Accuracy: 87.50%, Validation Accuracy: 95.73%\n",
      "Epoch [6/10], Step [80/199], Loss: 0.0357, Accuracy: 100.00%, Validation Accuracy: 92.96%\n",
      "Epoch [6/10], Step [90/199], Loss: 0.1919, Accuracy: 93.75%, Validation Accuracy: 95.29%\n",
      "Epoch [6/10], Step [100/199], Loss: 0.2391, Accuracy: 93.75%, Validation Accuracy: 94.47%\n",
      "Epoch [6/10], Step [110/199], Loss: 0.0558, Accuracy: 100.00%, Validation Accuracy: 95.98%\n",
      "Epoch [6/10], Step [120/199], Loss: 0.0791, Accuracy: 100.00%, Validation Accuracy: 95.66%\n",
      "Epoch [6/10], Step [130/199], Loss: 0.1509, Accuracy: 100.00%, Validation Accuracy: 95.16%\n",
      "Epoch [6/10], Step [140/199], Loss: 0.0377, Accuracy: 100.00%, Validation Accuracy: 96.04%\n",
      "Epoch [6/10], Step [150/199], Loss: 0.7167, Accuracy: 90.62%, Validation Accuracy: 92.83%\n",
      "Epoch [6/10], Step [160/199], Loss: 0.2765, Accuracy: 84.38%, Validation Accuracy: 95.10%\n",
      "Epoch [6/10], Step [170/199], Loss: 0.2808, Accuracy: 93.75%, Validation Accuracy: 95.60%\n",
      "Epoch [6/10], Step [180/199], Loss: 0.1421, Accuracy: 93.75%, Validation Accuracy: 96.67%\n",
      "Epoch [6/10], Step [190/199], Loss: 0.0885, Accuracy: 96.88%, Validation Accuracy: 96.61%\n",
      "Epoch [7/10], Step [10/199], Loss: 0.0802, Accuracy: 96.88%, Validation Accuracy: 95.35%\n",
      "Epoch [7/10], Step [20/199], Loss: 0.1503, Accuracy: 90.62%, Validation Accuracy: 95.91%\n",
      "Epoch [7/10], Step [30/199], Loss: 0.1185, Accuracy: 96.88%, Validation Accuracy: 95.41%\n",
      "Epoch [7/10], Step [40/199], Loss: 0.4089, Accuracy: 87.50%, Validation Accuracy: 82.65%\n",
      "Epoch [7/10], Step [50/199], Loss: 0.1949, Accuracy: 93.75%, Validation Accuracy: 94.22%\n",
      "Epoch [7/10], Step [60/199], Loss: 0.6418, Accuracy: 87.50%, Validation Accuracy: 94.47%\n",
      "Epoch [7/10], Step [70/199], Loss: 0.0866, Accuracy: 96.88%, Validation Accuracy: 95.41%\n",
      "Epoch [7/10], Step [80/199], Loss: 0.0380, Accuracy: 96.88%, Validation Accuracy: 95.22%\n",
      "Epoch [7/10], Step [90/199], Loss: 0.0203, Accuracy: 100.00%, Validation Accuracy: 95.85%\n",
      "Epoch [7/10], Step [100/199], Loss: 0.1891, Accuracy: 93.75%, Validation Accuracy: 94.34%\n",
      "Epoch [7/10], Step [110/199], Loss: 0.2919, Accuracy: 90.62%, Validation Accuracy: 94.34%\n",
      "Epoch [7/10], Step [120/199], Loss: 0.1163, Accuracy: 93.75%, Validation Accuracy: 94.97%\n",
      "Epoch [7/10], Step [130/199], Loss: 0.2838, Accuracy: 93.75%, Validation Accuracy: 94.47%\n",
      "Epoch [7/10], Step [140/199], Loss: 0.0642, Accuracy: 100.00%, Validation Accuracy: 95.79%\n",
      "Epoch [7/10], Step [150/199], Loss: 0.1264, Accuracy: 93.75%, Validation Accuracy: 96.04%\n",
      "Epoch [7/10], Step [160/199], Loss: 0.0714, Accuracy: 96.88%, Validation Accuracy: 95.29%\n",
      "Epoch [7/10], Step [170/199], Loss: 0.4687, Accuracy: 90.62%, Validation Accuracy: 96.04%\n",
      "Epoch [7/10], Step [180/199], Loss: 0.1622, Accuracy: 93.75%, Validation Accuracy: 94.03%\n",
      "Epoch [7/10], Step [190/199], Loss: 0.1161, Accuracy: 96.88%, Validation Accuracy: 94.53%\n",
      "Epoch [8/10], Step [10/199], Loss: 0.0188, Accuracy: 100.00%, Validation Accuracy: 95.54%\n",
      "Epoch [8/10], Step [20/199], Loss: 0.1007, Accuracy: 96.88%, Validation Accuracy: 96.48%\n",
      "Epoch [8/10], Step [30/199], Loss: 0.3556, Accuracy: 93.75%, Validation Accuracy: 96.10%\n",
      "Epoch [8/10], Step [40/199], Loss: 0.1630, Accuracy: 96.88%, Validation Accuracy: 94.41%\n",
      "Epoch [8/10], Step [50/199], Loss: 0.1887, Accuracy: 93.75%, Validation Accuracy: 88.81%\n",
      "Epoch [8/10], Step [60/199], Loss: 0.1431, Accuracy: 96.88%, Validation Accuracy: 94.66%\n",
      "Epoch [8/10], Step [70/199], Loss: 0.0886, Accuracy: 96.88%, Validation Accuracy: 95.35%\n",
      "Epoch [8/10], Step [80/199], Loss: 0.3746, Accuracy: 90.62%, Validation Accuracy: 94.34%\n",
      "Epoch [8/10], Step [90/199], Loss: 1.0501, Accuracy: 71.88%, Validation Accuracy: 81.65%\n",
      "Epoch [8/10], Step [100/199], Loss: 0.3789, Accuracy: 87.50%, Validation Accuracy: 91.77%\n",
      "Epoch [8/10], Step [110/199], Loss: 0.8511, Accuracy: 68.75%, Validation Accuracy: 79.20%\n",
      "Epoch [8/10], Step [120/199], Loss: 0.3103, Accuracy: 90.62%, Validation Accuracy: 91.58%\n",
      "Epoch [8/10], Step [130/199], Loss: 0.5243, Accuracy: 78.12%, Validation Accuracy: 94.09%\n",
      "Epoch [8/10], Step [140/199], Loss: 0.3203, Accuracy: 93.75%, Validation Accuracy: 94.41%\n",
      "Epoch [8/10], Step [150/199], Loss: 0.5174, Accuracy: 84.38%, Validation Accuracy: 95.03%\n",
      "Epoch [8/10], Step [160/199], Loss: 0.1370, Accuracy: 96.88%, Validation Accuracy: 95.29%\n",
      "Epoch [8/10], Step [170/199], Loss: 0.3421, Accuracy: 90.62%, Validation Accuracy: 94.78%\n",
      "Epoch [8/10], Step [180/199], Loss: 0.2427, Accuracy: 90.62%, Validation Accuracy: 85.23%\n",
      "Epoch [8/10], Step [190/199], Loss: 0.1922, Accuracy: 96.88%, Validation Accuracy: 92.58%\n",
      "Epoch [9/10], Step [10/199], Loss: 0.3142, Accuracy: 93.75%, Validation Accuracy: 96.54%\n",
      "Epoch [9/10], Step [20/199], Loss: 0.3383, Accuracy: 90.62%, Validation Accuracy: 94.66%\n",
      "Epoch [9/10], Step [30/199], Loss: 0.0946, Accuracy: 96.88%, Validation Accuracy: 95.10%\n",
      "Epoch [9/10], Step [40/199], Loss: 0.3697, Accuracy: 96.88%, Validation Accuracy: 96.04%\n",
      "Epoch [9/10], Step [50/199], Loss: 0.0859, Accuracy: 96.88%, Validation Accuracy: 94.78%\n",
      "Epoch [9/10], Step [60/199], Loss: 0.2275, Accuracy: 93.75%, Validation Accuracy: 95.60%\n",
      "Epoch [9/10], Step [70/199], Loss: 0.2655, Accuracy: 93.75%, Validation Accuracy: 95.85%\n",
      "Epoch [9/10], Step [80/199], Loss: 0.3591, Accuracy: 93.75%, Validation Accuracy: 95.85%\n",
      "Epoch [9/10], Step [90/199], Loss: 0.1678, Accuracy: 93.75%, Validation Accuracy: 92.08%\n",
      "Epoch [9/10], Step [100/199], Loss: 0.4527, Accuracy: 84.38%, Validation Accuracy: 93.78%\n",
      "Epoch [9/10], Step [110/199], Loss: 0.3258, Accuracy: 90.62%, Validation Accuracy: 95.22%\n",
      "Epoch [9/10], Step [120/199], Loss: 0.0984, Accuracy: 96.88%, Validation Accuracy: 96.48%\n",
      "Epoch [9/10], Step [130/199], Loss: 0.4325, Accuracy: 87.50%, Validation Accuracy: 95.73%\n",
      "Epoch [9/10], Step [140/199], Loss: 0.0974, Accuracy: 96.88%, Validation Accuracy: 93.71%\n",
      "Epoch [9/10], Step [150/199], Loss: 0.3500, Accuracy: 84.38%, Validation Accuracy: 91.45%\n",
      "Epoch [9/10], Step [160/199], Loss: 0.0747, Accuracy: 96.88%, Validation Accuracy: 94.47%\n",
      "Epoch [9/10], Step [170/199], Loss: 0.2584, Accuracy: 87.50%, Validation Accuracy: 94.15%\n",
      "Epoch [9/10], Step [180/199], Loss: 0.4789, Accuracy: 87.50%, Validation Accuracy: 93.90%\n",
      "Epoch [9/10], Step [190/199], Loss: 0.0670, Accuracy: 100.00%, Validation Accuracy: 95.29%\n",
      "Epoch [10/10], Step [10/199], Loss: 0.0582, Accuracy: 96.88%, Validation Accuracy: 96.17%\n",
      "Epoch [10/10], Step [20/199], Loss: 0.2298, Accuracy: 93.75%, Validation Accuracy: 96.79%\n",
      "Epoch [10/10], Step [30/199], Loss: 0.1567, Accuracy: 93.75%, Validation Accuracy: 96.29%\n",
      "Epoch [10/10], Step [40/199], Loss: 0.2595, Accuracy: 87.50%, Validation Accuracy: 95.85%\n",
      "Epoch [10/10], Step [50/199], Loss: 0.1379, Accuracy: 96.88%, Validation Accuracy: 96.61%\n",
      "Epoch [10/10], Step [60/199], Loss: 0.1167, Accuracy: 96.88%, Validation Accuracy: 96.42%\n",
      "Epoch [10/10], Step [70/199], Loss: 0.1176, Accuracy: 96.88%, Validation Accuracy: 96.42%\n",
      "Epoch [10/10], Step [80/199], Loss: 0.2497, Accuracy: 96.88%, Validation Accuracy: 95.41%\n",
      "Epoch [10/10], Step [90/199], Loss: 0.1282, Accuracy: 96.88%, Validation Accuracy: 96.67%\n",
      "Epoch [10/10], Step [100/199], Loss: 0.2610, Accuracy: 90.62%, Validation Accuracy: 96.79%\n",
      "Epoch [10/10], Step [110/199], Loss: 0.1585, Accuracy: 96.88%, Validation Accuracy: 96.98%\n",
      "Epoch [10/10], Step [120/199], Loss: 0.1129, Accuracy: 96.88%, Validation Accuracy: 96.54%\n",
      "Epoch [10/10], Step [130/199], Loss: 0.1696, Accuracy: 93.75%, Validation Accuracy: 96.98%\n",
      "Epoch [10/10], Step [140/199], Loss: 0.1479, Accuracy: 90.62%, Validation Accuracy: 95.98%\n",
      "Epoch [10/10], Step [150/199], Loss: 0.2742, Accuracy: 90.62%, Validation Accuracy: 97.23%\n",
      "Epoch [10/10], Step [160/199], Loss: 0.2428, Accuracy: 90.62%, Validation Accuracy: 93.34%\n",
      "Epoch [10/10], Step [170/199], Loss: 0.1348, Accuracy: 93.75%, Validation Accuracy: 93.84%\n",
      "Epoch [10/10], Step [180/199], Loss: 0.3251, Accuracy: 93.75%, Validation Accuracy: 93.78%\n",
      "Epoch [10/10], Step [190/199], Loss: 0.0715, Accuracy: 100.00%, Validation Accuracy: 96.23%\n",
      "######## Training Finished in 2911.6206793785095 seconds ###########\n",
      "/n/n Saving model at:  /kaggle/working/alexnetmodel_d2.pt\n"
     ]
    }
   ],
   "source": [
    "model_savepath = savepath+\"alexnetmodel_d2.pt\"\n",
    "results_savepath = savepath+\"alexnetmodel_d2_results.pkb\"\n",
    "\n",
    "trained_AlexNet_model, device = train_model(AlexNet_model, num_epochs, train_loader, criterion, optimizer, model_savepath, results_savepath, device)"
   ]
  },
  {
   "cell_type": "code",
   "execution_count": 33,
   "metadata": {
    "colab": {
     "base_uri": "https://localhost:8080/"
    },
    "execution": {
     "iopub.execute_input": "2022-11-25T06:23:58.519491Z",
     "iopub.status.busy": "2022-11-25T06:23:58.519104Z",
     "iopub.status.idle": "2022-11-25T06:24:10.182186Z",
     "shell.execute_reply": "2022-11-25T06:24:10.181179Z",
     "shell.execute_reply.started": "2022-11-25T06:23:58.519454Z"
    },
    "id": "3UEq0bPW8O9w",
    "outputId": "abd5e227-68c6-442a-ae7e-7c00cd84dde5"
   },
   "outputs": [
    {
     "name": "stdout",
     "output_type": "stream",
     "text": [
      "Model Evaluation Results on 1228 test samples\n",
      "Test Accuracy:  91.77524429967427\n",
      "Test F1 Score:  tensor(0.9178)\n",
      "Test Precision & Recall: (tensor(0.9079), tensor(0.9272))\n",
      "Test AUC score: tensor(0.0755)\n"
     ]
    }
   ],
   "source": [
    "evaluate_model(trained_AlexNet_model, test_loader, device, nclasses)"
   ]
  },
  {
   "cell_type": "code",
   "execution_count": null,
   "metadata": {
    "id": "zSLvQhsB9mz5"
   },
   "outputs": [],
   "source": []
  },
  {
   "cell_type": "markdown",
   "metadata": {
    "id": "Bvla9-oK9d45"
   },
   "source": [
    "On dataset 3:"
   ]
  },
  {
   "cell_type": "code",
   "execution_count": 34,
   "metadata": {
    "execution": {
     "iopub.execute_input": "2022-11-25T06:24:10.184260Z",
     "iopub.status.busy": "2022-11-25T06:24:10.183831Z",
     "iopub.status.idle": "2022-11-25T06:24:10.188699Z",
     "shell.execute_reply": "2022-11-25T06:24:10.187642Z",
     "shell.execute_reply.started": "2022-11-25T06:24:10.184218Z"
    },
    "id": "byAB4YZqN-v5"
   },
   "outputs": [],
   "source": [
    "nclasses=8"
   ]
  },
  {
   "cell_type": "code",
   "execution_count": 35,
   "metadata": {
    "colab": {
     "base_uri": "https://localhost:8080/"
    },
    "execution": {
     "iopub.execute_input": "2022-11-25T06:24:10.191042Z",
     "iopub.status.busy": "2022-11-25T06:24:10.190392Z",
     "iopub.status.idle": "2022-11-25T06:24:10.771672Z",
     "shell.execute_reply": "2022-11-25T06:24:10.770682Z",
     "shell.execute_reply.started": "2022-11-25T06:24:10.191006Z"
    },
    "id": "sR81ilBI9d46",
    "outputId": "600096b6-0687-4d7f-8d4c-00a75ae816bc"
   },
   "outputs": [
    {
     "name": "stderr",
     "output_type": "stream",
     "text": [
      "Using cache found in /root/.cache/torch/hub/pytorch_vision_v0.6.0\n"
     ]
    }
   ],
   "source": [
    "AlexNet_model = torch.hub.load('pytorch/vision:v0.6.0', 'alexnet', pretrained=False)"
   ]
  },
  {
   "cell_type": "code",
   "execution_count": 36,
   "metadata": {
    "execution": {
     "iopub.execute_input": "2022-11-25T06:24:10.774129Z",
     "iopub.status.busy": "2022-11-25T06:24:10.773134Z",
     "iopub.status.idle": "2022-11-25T06:24:10.779648Z",
     "shell.execute_reply": "2022-11-25T06:24:10.778687Z",
     "shell.execute_reply.started": "2022-11-25T06:24:10.774084Z"
    },
    "id": "239Iqf0a9d46"
   },
   "outputs": [],
   "source": [
    "prev_out = AlexNet_model.classifier[4].out_features\n",
    "AlexNet_model.classifier[6] = nn.Linear( prev_out, nclasses)"
   ]
  },
  {
   "cell_type": "code",
   "execution_count": 37,
   "metadata": {
    "execution": {
     "iopub.execute_input": "2022-11-25T06:24:10.781778Z",
     "iopub.status.busy": "2022-11-25T06:24:10.780933Z",
     "iopub.status.idle": "2022-11-25T06:24:10.793067Z",
     "shell.execute_reply": "2022-11-25T06:24:10.792074Z",
     "shell.execute_reply.started": "2022-11-25T06:24:10.781744Z"
    },
    "id": "Ji7tYYGa9d46"
   },
   "outputs": [],
   "source": [
    "optimizer = torch.optim.Adam(AlexNet_model.parameters(), lr=learning_rate) "
   ]
  },
  {
   "cell_type": "code",
   "execution_count": 38,
   "metadata": {
    "execution": {
     "iopub.execute_input": "2022-11-25T06:24:10.795181Z",
     "iopub.status.busy": "2022-11-25T06:24:10.794748Z",
     "iopub.status.idle": "2022-11-25T06:24:25.759483Z",
     "shell.execute_reply": "2022-11-25T06:24:25.758433Z",
     "shell.execute_reply.started": "2022-11-25T06:24:10.795130Z"
    },
    "id": "0QAcirVL9d46"
   },
   "outputs": [],
   "source": [
    "path_train = path_dataset3+\"Train/\"\n",
    "path_test = path_dataset3+\"Test/\"\n",
    "\n",
    "val_split = 0.2\n",
    "batch_size = 32\n",
    "input_size = (224,224)\n",
    "\n",
    "train_loader, test_loader, val_loader, mappings = load_data(path_train, val_split, path_test, batch_size, input_size)"
   ]
  },
  {
   "cell_type": "code",
   "execution_count": null,
   "metadata": {
    "execution": {
     "iopub.execute_input": "2022-11-25T06:24:25.761786Z",
     "iopub.status.busy": "2022-11-25T06:24:25.761085Z",
     "iopub.status.idle": "2022-11-25T06:24:25.833710Z",
     "shell.execute_reply": "2022-11-25T06:24:25.832619Z",
     "shell.execute_reply.started": "2022-11-25T06:24:25.761748Z"
    },
    "id": "jh39yrdMVRnC",
    "outputId": "4f0fe555-c200-451c-b70a-d2eedd304034"
   },
   "outputs": [
    {
     "name": "stdout",
     "output_type": "stream",
     "text": [
      "Device: cuda:0\n"
     ]
    }
   ],
   "source": [
    "device = torch.device(\"cuda:0\" if torch.cuda.is_available() else \"cpu\")\n",
    "print(\"Device: {}\".format(device))\n",
    "x = AlexNet_model.to(device)"
   ]
  },
  {
   "cell_type": "code",
   "execution_count": null,
   "metadata": {
    "execution": {
     "iopub.execute_input": "2022-11-25T06:24:25.835703Z",
     "iopub.status.busy": "2022-11-25T06:24:25.835137Z",
     "iopub.status.idle": "2022-11-25T06:24:25.852005Z",
     "shell.execute_reply": "2022-11-25T06:24:25.851193Z",
     "shell.execute_reply.started": "2022-11-25T06:24:25.835648Z"
    },
    "id": "grcNm8jK9g-Q",
    "outputId": "d7392f2f-5592-4fe1-ed8e-e45ecd3c2b67"
   },
   "outputs": [
    {
     "name": "stdout",
     "output_type": "stream",
     "text": [
      "Class: 7 has samples: 1433 \n",
      "Class: 2 has samples: 2243 \n",
      "Class: 5 has samples: 1853 \n",
      "Class: 8 has samples: 1403 \n",
      "Class: 3 has samples: 1403 \n",
      "Class: 1 has samples: 2213 \n",
      "Class: 4 has samples: 1973 \n",
      "Class: 9 has samples: 1463 \n",
      "\n",
      "Total number of samples:  13984\n",
      "\n",
      "Time taken: 0.008931398391723633\n"
     ]
    }
   ],
   "source": [
    "class_weights = get_class_weights(path_train, mappings)\n",
    "\n",
    "class_weights = torch.FloatTensor(class_weights)\n",
    "class_weights = class_weights.to(device)\n",
    "\n",
    "criterion = get_criterion(class_weights)"
   ]
  },
  {
   "cell_type": "code",
   "execution_count": null,
   "metadata": {
    "execution": {
     "iopub.execute_input": "2022-11-25T06:24:25.853924Z",
     "iopub.status.busy": "2022-11-25T06:24:25.853526Z",
     "iopub.status.idle": "2022-11-25T07:51:58.290951Z",
     "shell.execute_reply": "2022-11-25T07:51:58.289871Z",
     "shell.execute_reply.started": "2022-11-25T06:24:25.853885Z"
    },
    "id": "AqZz0MtR9d46",
    "outputId": "260ac207-57cc-470f-f9b4-b6699a0cc698"
   },
   "outputs": [
    {
     "name": "stdout",
     "output_type": "stream",
     "text": [
      "Epoch [1/10], Step [10/350], Loss: 2.0695, Accuracy: 3.12%, Validation Accuracy: 15.95%\n",
      "Epoch [1/10], Step [20/350], Loss: 2.0585, Accuracy: 12.50%, Validation Accuracy: 14.70%\n",
      "Epoch [1/10], Step [30/350], Loss: 2.0732, Accuracy: 9.38%, Validation Accuracy: 18.99%\n",
      "Epoch [1/10], Step [40/350], Loss: 2.0003, Accuracy: 25.00%, Validation Accuracy: 19.46%\n",
      "Epoch [1/10], Step [50/350], Loss: 2.0627, Accuracy: 15.62%, Validation Accuracy: 15.09%\n",
      "Epoch [1/10], Step [60/350], Loss: 2.0262, Accuracy: 18.75%, Validation Accuracy: 16.77%\n",
      "Epoch [1/10], Step [70/350], Loss: 1.9888, Accuracy: 28.12%, Validation Accuracy: 19.46%\n",
      "Epoch [1/10], Step [80/350], Loss: 2.0498, Accuracy: 25.00%, Validation Accuracy: 20.39%\n",
      "Epoch [1/10], Step [90/350], Loss: 1.9850, Accuracy: 15.62%, Validation Accuracy: 17.06%\n",
      "Epoch [1/10], Step [100/350], Loss: 1.9533, Accuracy: 25.00%, Validation Accuracy: 18.56%\n",
      "Epoch [1/10], Step [110/350], Loss: 1.9968, Accuracy: 15.62%, Validation Accuracy: 18.96%\n",
      "Epoch [1/10], Step [120/350], Loss: 1.9911, Accuracy: 18.75%, Validation Accuracy: 20.99%\n",
      "Epoch [1/10], Step [130/350], Loss: 2.0510, Accuracy: 21.88%, Validation Accuracy: 14.91%\n",
      "Epoch [1/10], Step [140/350], Loss: 1.9992, Accuracy: 25.00%, Validation Accuracy: 16.99%\n",
      "Epoch [1/10], Step [150/350], Loss: 2.0348, Accuracy: 12.50%, Validation Accuracy: 19.03%\n",
      "Epoch [1/10], Step [160/350], Loss: 2.0374, Accuracy: 15.62%, Validation Accuracy: 17.78%\n",
      "Epoch [1/10], Step [170/350], Loss: 2.0046, Accuracy: 34.38%, Validation Accuracy: 18.81%\n",
      "Epoch [1/10], Step [180/350], Loss: 2.0759, Accuracy: 15.62%, Validation Accuracy: 19.42%\n",
      "Epoch [1/10], Step [190/350], Loss: 1.9108, Accuracy: 25.00%, Validation Accuracy: 20.82%\n",
      "Epoch [1/10], Step [200/350], Loss: 1.9393, Accuracy: 28.12%, Validation Accuracy: 18.67%\n",
      "Epoch [1/10], Step [210/350], Loss: 2.0918, Accuracy: 18.75%, Validation Accuracy: 19.56%\n",
      "Epoch [1/10], Step [220/350], Loss: 2.1020, Accuracy: 12.50%, Validation Accuracy: 20.35%\n",
      "Epoch [1/10], Step [230/350], Loss: 1.9652, Accuracy: 15.62%, Validation Accuracy: 19.96%\n",
      "Epoch [1/10], Step [240/350], Loss: 1.9813, Accuracy: 12.50%, Validation Accuracy: 16.13%\n",
      "Epoch [1/10], Step [250/350], Loss: 1.8565, Accuracy: 40.62%, Validation Accuracy: 22.75%\n",
      "Epoch [1/10], Step [260/350], Loss: 1.9159, Accuracy: 28.12%, Validation Accuracy: 22.85%\n",
      "Epoch [1/10], Step [270/350], Loss: 2.0275, Accuracy: 15.62%, Validation Accuracy: 23.03%\n",
      "Epoch [1/10], Step [280/350], Loss: 1.9930, Accuracy: 25.00%, Validation Accuracy: 21.96%\n",
      "Epoch [1/10], Step [290/350], Loss: 2.0507, Accuracy: 18.75%, Validation Accuracy: 21.67%\n",
      "Epoch [1/10], Step [300/350], Loss: 2.0433, Accuracy: 12.50%, Validation Accuracy: 22.32%\n",
      "Epoch [1/10], Step [310/350], Loss: 1.7852, Accuracy: 18.75%, Validation Accuracy: 20.31%\n",
      "Epoch [1/10], Step [320/350], Loss: 1.9416, Accuracy: 31.25%, Validation Accuracy: 21.21%\n",
      "Epoch [1/10], Step [330/350], Loss: 1.8374, Accuracy: 28.12%, Validation Accuracy: 19.53%\n",
      "Epoch [1/10], Step [340/350], Loss: 1.8056, Accuracy: 18.75%, Validation Accuracy: 22.96%\n",
      "Epoch [1/10], Step [350/350], Loss: 2.0215, Accuracy: 5.00%, Validation Accuracy: 20.78%\n",
      "Epoch [2/10], Step [10/350], Loss: 2.1197, Accuracy: 15.62%, Validation Accuracy: 25.18%\n",
      "Epoch [2/10], Step [20/350], Loss: 1.7723, Accuracy: 40.62%, Validation Accuracy: 24.28%\n",
      "Epoch [2/10], Step [30/350], Loss: 1.9398, Accuracy: 12.50%, Validation Accuracy: 16.95%\n",
      "Epoch [2/10], Step [40/350], Loss: 1.7531, Accuracy: 21.88%, Validation Accuracy: 27.36%\n",
      "Epoch [2/10], Step [50/350], Loss: 1.8240, Accuracy: 28.12%, Validation Accuracy: 28.36%\n",
      "Epoch [2/10], Step [60/350], Loss: 2.0099, Accuracy: 15.62%, Validation Accuracy: 28.83%\n",
      "Epoch [2/10], Step [70/350], Loss: 1.6946, Accuracy: 37.50%, Validation Accuracy: 28.22%\n",
      "Epoch [2/10], Step [80/350], Loss: 1.8081, Accuracy: 25.00%, Validation Accuracy: 28.08%\n",
      "Epoch [2/10], Step [90/350], Loss: 1.8905, Accuracy: 21.88%, Validation Accuracy: 27.32%\n",
      "Epoch [2/10], Step [100/350], Loss: 1.7556, Accuracy: 25.00%, Validation Accuracy: 28.18%\n",
      "Epoch [2/10], Step [110/350], Loss: 1.7718, Accuracy: 25.00%, Validation Accuracy: 29.72%\n",
      "Epoch [2/10], Step [120/350], Loss: 1.8031, Accuracy: 31.25%, Validation Accuracy: 32.01%\n",
      "Epoch [2/10], Step [130/350], Loss: 1.7884, Accuracy: 28.12%, Validation Accuracy: 31.51%\n",
      "Epoch [2/10], Step [140/350], Loss: 1.7353, Accuracy: 40.62%, Validation Accuracy: 30.15%\n",
      "Epoch [2/10], Step [150/350], Loss: 2.0008, Accuracy: 12.50%, Validation Accuracy: 28.43%\n",
      "Epoch [2/10], Step [160/350], Loss: 1.6559, Accuracy: 43.75%, Validation Accuracy: 30.36%\n",
      "Epoch [2/10], Step [170/350], Loss: 1.7389, Accuracy: 25.00%, Validation Accuracy: 31.33%\n",
      "Epoch [2/10], Step [180/350], Loss: 1.8772, Accuracy: 25.00%, Validation Accuracy: 29.90%\n",
      "Epoch [2/10], Step [190/350], Loss: 1.6566, Accuracy: 43.75%, Validation Accuracy: 33.08%\n",
      "Epoch [2/10], Step [200/350], Loss: 1.6161, Accuracy: 37.50%, Validation Accuracy: 32.01%\n",
      "Epoch [2/10], Step [210/350], Loss: 1.5712, Accuracy: 40.62%, Validation Accuracy: 33.73%\n",
      "Epoch [2/10], Step [220/350], Loss: 1.6344, Accuracy: 37.50%, Validation Accuracy: 33.91%\n",
      "Epoch [2/10], Step [230/350], Loss: 1.8661, Accuracy: 28.12%, Validation Accuracy: 30.08%\n",
      "Epoch [2/10], Step [240/350], Loss: 1.6119, Accuracy: 46.88%, Validation Accuracy: 28.54%\n",
      "Epoch [2/10], Step [250/350], Loss: 1.7111, Accuracy: 37.50%, Validation Accuracy: 32.26%\n",
      "Epoch [2/10], Step [260/350], Loss: 1.6717, Accuracy: 31.25%, Validation Accuracy: 33.44%\n",
      "Epoch [2/10], Step [270/350], Loss: 1.8515, Accuracy: 25.00%, Validation Accuracy: 29.18%\n",
      "Epoch [2/10], Step [280/350], Loss: 1.7645, Accuracy: 25.00%, Validation Accuracy: 30.54%\n",
      "Epoch [2/10], Step [290/350], Loss: 1.5655, Accuracy: 37.50%, Validation Accuracy: 31.58%\n",
      "Epoch [2/10], Step [300/350], Loss: 1.7029, Accuracy: 37.50%, Validation Accuracy: 35.01%\n",
      "Epoch [2/10], Step [310/350], Loss: 1.6019, Accuracy: 34.38%, Validation Accuracy: 36.95%\n",
      "Epoch [2/10], Step [320/350], Loss: 1.9200, Accuracy: 25.00%, Validation Accuracy: 29.26%\n",
      "Epoch [2/10], Step [330/350], Loss: 2.0203, Accuracy: 37.50%, Validation Accuracy: 30.97%\n",
      "Epoch [2/10], Step [340/350], Loss: 2.1403, Accuracy: 6.25%, Validation Accuracy: 30.33%\n",
      "Epoch [2/10], Step [350/350], Loss: 1.8074, Accuracy: 20.00%, Validation Accuracy: 30.72%\n",
      "Epoch [3/10], Step [10/350], Loss: 1.7146, Accuracy: 25.00%, Validation Accuracy: 30.08%\n",
      "Epoch [3/10], Step [20/350], Loss: 1.5134, Accuracy: 50.00%, Validation Accuracy: 31.90%\n",
      "Epoch [3/10], Step [30/350], Loss: 1.7430, Accuracy: 31.25%, Validation Accuracy: 31.87%\n",
      "Epoch [3/10], Step [40/350], Loss: 1.6112, Accuracy: 43.75%, Validation Accuracy: 33.69%\n",
      "Epoch [3/10], Step [50/350], Loss: 1.7701, Accuracy: 34.38%, Validation Accuracy: 34.98%\n",
      "Epoch [3/10], Step [60/350], Loss: 1.7519, Accuracy: 34.38%, Validation Accuracy: 34.66%\n",
      "Epoch [3/10], Step [70/350], Loss: 1.6639, Accuracy: 37.50%, Validation Accuracy: 33.51%\n",
      "Epoch [3/10], Step [80/350], Loss: 1.7673, Accuracy: 28.12%, Validation Accuracy: 36.59%\n",
      "Epoch [3/10], Step [90/350], Loss: 1.6787, Accuracy: 46.88%, Validation Accuracy: 34.01%\n",
      "Epoch [3/10], Step [100/350], Loss: 1.5864, Accuracy: 40.62%, Validation Accuracy: 36.55%\n",
      "Epoch [3/10], Step [110/350], Loss: 1.4761, Accuracy: 34.38%, Validation Accuracy: 36.37%\n",
      "Epoch [3/10], Step [120/350], Loss: 1.5691, Accuracy: 40.62%, Validation Accuracy: 37.16%\n",
      "Epoch [3/10], Step [130/350], Loss: 1.5630, Accuracy: 40.62%, Validation Accuracy: 36.34%\n",
      "Epoch [3/10], Step [140/350], Loss: 1.6954, Accuracy: 31.25%, Validation Accuracy: 38.48%\n",
      "Epoch [3/10], Step [150/350], Loss: 1.6320, Accuracy: 43.75%, Validation Accuracy: 35.77%\n",
      "Epoch [3/10], Step [160/350], Loss: 1.6680, Accuracy: 37.50%, Validation Accuracy: 35.37%\n",
      "Epoch [3/10], Step [170/350], Loss: 1.7082, Accuracy: 34.38%, Validation Accuracy: 40.27%\n",
      "Epoch [3/10], Step [180/350], Loss: 1.4094, Accuracy: 46.88%, Validation Accuracy: 36.98%\n",
      "Epoch [3/10], Step [190/350], Loss: 1.9831, Accuracy: 34.38%, Validation Accuracy: 34.48%\n",
      "Epoch [3/10], Step [200/350], Loss: 1.6832, Accuracy: 25.00%, Validation Accuracy: 36.87%\n",
      "Epoch [3/10], Step [210/350], Loss: 1.7102, Accuracy: 37.50%, Validation Accuracy: 41.56%\n",
      "Epoch [3/10], Step [220/350], Loss: 1.5115, Accuracy: 43.75%, Validation Accuracy: 39.13%\n",
      "Epoch [3/10], Step [230/350], Loss: 1.4290, Accuracy: 40.62%, Validation Accuracy: 40.59%\n",
      "Epoch [3/10], Step [240/350], Loss: 1.6695, Accuracy: 34.38%, Validation Accuracy: 40.24%\n",
      "Epoch [3/10], Step [250/350], Loss: 1.4679, Accuracy: 50.00%, Validation Accuracy: 35.62%\n",
      "Epoch [3/10], Step [260/350], Loss: 1.4684, Accuracy: 43.75%, Validation Accuracy: 43.67%\n",
      "Epoch [3/10], Step [270/350], Loss: 1.3012, Accuracy: 46.88%, Validation Accuracy: 42.78%\n",
      "Epoch [3/10], Step [280/350], Loss: 1.7479, Accuracy: 34.38%, Validation Accuracy: 41.38%\n",
      "Epoch [3/10], Step [290/350], Loss: 1.4498, Accuracy: 40.62%, Validation Accuracy: 39.34%\n",
      "Epoch [3/10], Step [300/350], Loss: 1.4978, Accuracy: 46.88%, Validation Accuracy: 40.38%\n",
      "Epoch [3/10], Step [310/350], Loss: 1.6614, Accuracy: 37.50%, Validation Accuracy: 39.77%\n",
      "Epoch [3/10], Step [320/350], Loss: 1.5262, Accuracy: 31.25%, Validation Accuracy: 41.67%\n",
      "Epoch [3/10], Step [330/350], Loss: 1.5023, Accuracy: 34.38%, Validation Accuracy: 43.20%\n",
      "Epoch [3/10], Step [340/350], Loss: 1.6118, Accuracy: 34.38%, Validation Accuracy: 45.96%\n",
      "Epoch [3/10], Step [350/350], Loss: 1.5178, Accuracy: 35.00%, Validation Accuracy: 45.53%\n",
      "Epoch [4/10], Step [10/350], Loss: 1.5109, Accuracy: 50.00%, Validation Accuracy: 47.03%\n",
      "Epoch [4/10], Step [20/350], Loss: 1.4203, Accuracy: 40.62%, Validation Accuracy: 47.35%\n",
      "Epoch [4/10], Step [30/350], Loss: 1.2859, Accuracy: 56.25%, Validation Accuracy: 45.31%\n",
      "Epoch [4/10], Step [40/350], Loss: 1.2392, Accuracy: 50.00%, Validation Accuracy: 46.17%\n",
      "Epoch [4/10], Step [50/350], Loss: 1.4190, Accuracy: 50.00%, Validation Accuracy: 43.24%\n",
      "Epoch [4/10], Step [60/350], Loss: 1.5946, Accuracy: 40.62%, Validation Accuracy: 37.77%\n",
      "Epoch [4/10], Step [70/350], Loss: 1.6367, Accuracy: 43.75%, Validation Accuracy: 47.03%\n",
      "Epoch [4/10], Step [80/350], Loss: 1.2282, Accuracy: 53.12%, Validation Accuracy: 42.31%\n",
      "Epoch [4/10], Step [90/350], Loss: 1.4678, Accuracy: 40.62%, Validation Accuracy: 41.81%\n",
      "Epoch [4/10], Step [100/350], Loss: 1.2196, Accuracy: 53.12%, Validation Accuracy: 50.50%\n",
      "Epoch [4/10], Step [110/350], Loss: 1.6100, Accuracy: 46.88%, Validation Accuracy: 41.17%\n",
      "Epoch [4/10], Step [120/350], Loss: 1.7584, Accuracy: 31.25%, Validation Accuracy: 49.00%\n",
      "Epoch [4/10], Step [130/350], Loss: 1.4443, Accuracy: 46.88%, Validation Accuracy: 48.07%\n",
      "Epoch [4/10], Step [140/350], Loss: 1.5770, Accuracy: 28.12%, Validation Accuracy: 46.03%\n",
      "Epoch [4/10], Step [150/350], Loss: 1.8055, Accuracy: 28.12%, Validation Accuracy: 38.09%\n",
      "Epoch [4/10], Step [160/350], Loss: 1.8726, Accuracy: 21.88%, Validation Accuracy: 38.70%\n",
      "Epoch [4/10], Step [170/350], Loss: 1.1011, Accuracy: 56.25%, Validation Accuracy: 42.81%\n",
      "Epoch [4/10], Step [180/350], Loss: 1.6649, Accuracy: 31.25%, Validation Accuracy: 46.07%\n",
      "Epoch [4/10], Step [190/350], Loss: 1.5944, Accuracy: 34.38%, Validation Accuracy: 44.64%\n",
      "Epoch [4/10], Step [200/350], Loss: 1.4934, Accuracy: 43.75%, Validation Accuracy: 49.46%\n",
      "Epoch [4/10], Step [210/350], Loss: 1.2577, Accuracy: 56.25%, Validation Accuracy: 49.71%\n",
      "Epoch [4/10], Step [220/350], Loss: 1.4774, Accuracy: 46.88%, Validation Accuracy: 52.54%\n",
      "Epoch [4/10], Step [230/350], Loss: 1.4619, Accuracy: 40.62%, Validation Accuracy: 44.35%\n",
      "Epoch [4/10], Step [240/350], Loss: 1.6087, Accuracy: 34.38%, Validation Accuracy: 46.10%\n",
      "Epoch [4/10], Step [250/350], Loss: 1.5408, Accuracy: 37.50%, Validation Accuracy: 46.89%\n",
      "Epoch [4/10], Step [260/350], Loss: 1.4215, Accuracy: 50.00%, Validation Accuracy: 53.72%\n",
      "Epoch [4/10], Step [270/350], Loss: 1.9952, Accuracy: 25.00%, Validation Accuracy: 44.38%\n",
      "Epoch [4/10], Step [280/350], Loss: 1.6070, Accuracy: 37.50%, Validation Accuracy: 53.25%\n",
      "Epoch [4/10], Step [290/350], Loss: 1.5065, Accuracy: 40.62%, Validation Accuracy: 51.04%\n",
      "Epoch [4/10], Step [300/350], Loss: 1.2756, Accuracy: 46.88%, Validation Accuracy: 54.15%\n",
      "Epoch [4/10], Step [310/350], Loss: 1.7437, Accuracy: 34.38%, Validation Accuracy: 42.92%\n",
      "Epoch [4/10], Step [320/350], Loss: 1.4534, Accuracy: 46.88%, Validation Accuracy: 50.39%\n",
      "Epoch [4/10], Step [330/350], Loss: 1.3572, Accuracy: 40.62%, Validation Accuracy: 52.00%\n",
      "Epoch [4/10], Step [340/350], Loss: 1.1989, Accuracy: 59.38%, Validation Accuracy: 52.47%\n",
      "Epoch [4/10], Step [350/350], Loss: 1.3078, Accuracy: 50.00%, Validation Accuracy: 50.82%\n",
      "Epoch [5/10], Step [10/350], Loss: 0.8967, Accuracy: 65.62%, Validation Accuracy: 56.83%\n",
      "Epoch [5/10], Step [20/350], Loss: 1.7026, Accuracy: 37.50%, Validation Accuracy: 48.71%\n",
      "Epoch [5/10], Step [30/350], Loss: 1.2058, Accuracy: 59.38%, Validation Accuracy: 51.57%\n",
      "Epoch [5/10], Step [40/350], Loss: 1.1384, Accuracy: 53.12%, Validation Accuracy: 55.83%\n",
      "Epoch [5/10], Step [50/350], Loss: 1.0714, Accuracy: 50.00%, Validation Accuracy: 51.68%\n",
      "Epoch [5/10], Step [60/350], Loss: 1.2006, Accuracy: 50.00%, Validation Accuracy: 52.90%\n",
      "Epoch [5/10], Step [70/350], Loss: 1.2860, Accuracy: 50.00%, Validation Accuracy: 54.65%\n",
      "Epoch [5/10], Step [80/350], Loss: 1.0460, Accuracy: 71.88%, Validation Accuracy: 45.96%\n",
      "Epoch [5/10], Step [90/350], Loss: 1.0589, Accuracy: 56.25%, Validation Accuracy: 56.47%\n",
      "Epoch [5/10], Step [100/350], Loss: 1.0940, Accuracy: 62.50%, Validation Accuracy: 58.98%\n",
      "Epoch [5/10], Step [110/350], Loss: 1.5069, Accuracy: 46.88%, Validation Accuracy: 57.98%\n",
      "Epoch [5/10], Step [120/350], Loss: 1.1751, Accuracy: 56.25%, Validation Accuracy: 59.23%\n",
      "Epoch [5/10], Step [130/350], Loss: 1.0666, Accuracy: 62.50%, Validation Accuracy: 60.12%\n",
      "Epoch [5/10], Step [140/350], Loss: 1.2647, Accuracy: 56.25%, Validation Accuracy: 54.33%\n",
      "Epoch [5/10], Step [150/350], Loss: 1.4169, Accuracy: 40.62%, Validation Accuracy: 51.86%\n",
      "Epoch [5/10], Step [160/350], Loss: 0.8540, Accuracy: 65.62%, Validation Accuracy: 56.15%\n",
      "Epoch [5/10], Step [170/350], Loss: 1.2375, Accuracy: 56.25%, Validation Accuracy: 57.30%\n",
      "Epoch [5/10], Step [180/350], Loss: 1.0591, Accuracy: 59.38%, Validation Accuracy: 61.62%\n",
      "Epoch [5/10], Step [190/350], Loss: 1.1526, Accuracy: 59.38%, Validation Accuracy: 59.33%\n",
      "Epoch [5/10], Step [200/350], Loss: 1.2690, Accuracy: 43.75%, Validation Accuracy: 58.83%\n",
      "Epoch [5/10], Step [210/350], Loss: 0.9011, Accuracy: 65.62%, Validation Accuracy: 63.66%\n",
      "Epoch [5/10], Step [220/350], Loss: 1.0527, Accuracy: 62.50%, Validation Accuracy: 60.19%\n",
      "Epoch [5/10], Step [230/350], Loss: 1.2889, Accuracy: 59.38%, Validation Accuracy: 47.10%\n",
      "Epoch [5/10], Step [240/350], Loss: 1.3365, Accuracy: 50.00%, Validation Accuracy: 53.40%\n",
      "Epoch [5/10], Step [250/350], Loss: 1.0118, Accuracy: 62.50%, Validation Accuracy: 57.40%\n",
      "Epoch [5/10], Step [260/350], Loss: 1.5761, Accuracy: 34.38%, Validation Accuracy: 53.65%\n",
      "Epoch [5/10], Step [270/350], Loss: 1.2682, Accuracy: 56.25%, Validation Accuracy: 55.79%\n",
      "Epoch [5/10], Step [280/350], Loss: 1.1395, Accuracy: 56.25%, Validation Accuracy: 58.48%\n",
      "Epoch [5/10], Step [290/350], Loss: 1.6689, Accuracy: 37.50%, Validation Accuracy: 59.26%\n",
      "Epoch [5/10], Step [300/350], Loss: 1.1637, Accuracy: 62.50%, Validation Accuracy: 62.23%\n",
      "Epoch [5/10], Step [310/350], Loss: 1.1996, Accuracy: 50.00%, Validation Accuracy: 63.02%\n",
      "Epoch [5/10], Step [320/350], Loss: 1.5713, Accuracy: 50.00%, Validation Accuracy: 59.48%\n",
      "Epoch [5/10], Step [330/350], Loss: 1.3298, Accuracy: 50.00%, Validation Accuracy: 48.35%\n",
      "Epoch [5/10], Step [340/350], Loss: 1.3747, Accuracy: 50.00%, Validation Accuracy: 55.04%\n",
      "Epoch [5/10], Step [350/350], Loss: 1.0081, Accuracy: 55.00%, Validation Accuracy: 55.33%\n",
      "Epoch [6/10], Step [10/350], Loss: 1.2904, Accuracy: 46.88%, Validation Accuracy: 61.55%\n",
      "Epoch [6/10], Step [20/350], Loss: 1.0851, Accuracy: 59.38%, Validation Accuracy: 61.70%\n",
      "Epoch [6/10], Step [30/350], Loss: 1.2571, Accuracy: 56.25%, Validation Accuracy: 56.19%\n",
      "Epoch [6/10], Step [40/350], Loss: 1.1749, Accuracy: 59.38%, Validation Accuracy: 60.84%\n",
      "Epoch [6/10], Step [50/350], Loss: 1.0784, Accuracy: 59.38%, Validation Accuracy: 59.41%\n",
      "Epoch [6/10], Step [60/350], Loss: 1.3720, Accuracy: 56.25%, Validation Accuracy: 52.72%\n",
      "Epoch [6/10], Step [70/350], Loss: 1.3177, Accuracy: 43.75%, Validation Accuracy: 55.01%\n",
      "Epoch [6/10], Step [80/350], Loss: 1.1377, Accuracy: 59.38%, Validation Accuracy: 61.95%\n",
      "Epoch [6/10], Step [90/350], Loss: 0.7609, Accuracy: 81.25%, Validation Accuracy: 62.59%\n",
      "Epoch [6/10], Step [100/350], Loss: 1.0876, Accuracy: 62.50%, Validation Accuracy: 64.48%\n",
      "Epoch [6/10], Step [110/350], Loss: 1.0894, Accuracy: 59.38%, Validation Accuracy: 60.55%\n",
      "Epoch [6/10], Step [120/350], Loss: 1.0704, Accuracy: 62.50%, Validation Accuracy: 64.38%\n",
      "Epoch [6/10], Step [130/350], Loss: 1.1278, Accuracy: 59.38%, Validation Accuracy: 64.99%\n",
      "Epoch [6/10], Step [140/350], Loss: 1.4356, Accuracy: 53.12%, Validation Accuracy: 65.02%\n",
      "Epoch [6/10], Step [150/350], Loss: 1.1127, Accuracy: 53.12%, Validation Accuracy: 61.70%\n",
      "Epoch [6/10], Step [160/350], Loss: 1.3139, Accuracy: 50.00%, Validation Accuracy: 60.12%\n",
      "Epoch [6/10], Step [170/350], Loss: 0.9223, Accuracy: 59.38%, Validation Accuracy: 67.02%\n",
      "Epoch [6/10], Step [180/350], Loss: 1.3235, Accuracy: 53.12%, Validation Accuracy: 65.06%\n",
      "Epoch [6/10], Step [190/350], Loss: 0.8499, Accuracy: 71.88%, Validation Accuracy: 66.52%\n",
      "Epoch [6/10], Step [200/350], Loss: 1.0051, Accuracy: 65.62%, Validation Accuracy: 58.91%\n",
      "Epoch [6/10], Step [210/350], Loss: 0.8527, Accuracy: 71.88%, Validation Accuracy: 62.34%\n",
      "Epoch [6/10], Step [220/350], Loss: 0.9695, Accuracy: 59.38%, Validation Accuracy: 65.84%\n",
      "Epoch [6/10], Step [230/350], Loss: 1.1412, Accuracy: 59.38%, Validation Accuracy: 65.56%\n",
      "Epoch [6/10], Step [240/350], Loss: 1.2658, Accuracy: 53.12%, Validation Accuracy: 63.88%\n",
      "Epoch [6/10], Step [250/350], Loss: 0.7747, Accuracy: 65.62%, Validation Accuracy: 67.35%\n",
      "Epoch [6/10], Step [260/350], Loss: 0.9068, Accuracy: 71.88%, Validation Accuracy: 64.91%\n",
      "Epoch [6/10], Step [270/350], Loss: 0.9601, Accuracy: 62.50%, Validation Accuracy: 68.67%\n",
      "Epoch [6/10], Step [280/350], Loss: 0.9359, Accuracy: 62.50%, Validation Accuracy: 67.99%\n",
      "Epoch [6/10], Step [290/350], Loss: 0.6468, Accuracy: 78.12%, Validation Accuracy: 70.39%\n",
      "Epoch [6/10], Step [300/350], Loss: 0.8787, Accuracy: 59.38%, Validation Accuracy: 68.67%\n",
      "Epoch [6/10], Step [310/350], Loss: 0.7928, Accuracy: 68.75%, Validation Accuracy: 70.49%\n",
      "Epoch [6/10], Step [320/350], Loss: 0.9841, Accuracy: 71.88%, Validation Accuracy: 67.20%\n",
      "Epoch [6/10], Step [330/350], Loss: 0.7503, Accuracy: 78.12%, Validation Accuracy: 70.82%\n",
      "Epoch [6/10], Step [340/350], Loss: 1.0335, Accuracy: 56.25%, Validation Accuracy: 67.45%\n",
      "Epoch [6/10], Step [350/350], Loss: 0.8527, Accuracy: 70.00%, Validation Accuracy: 68.60%\n",
      "Epoch [7/10], Step [10/350], Loss: 0.9406, Accuracy: 62.50%, Validation Accuracy: 69.78%\n",
      "Epoch [7/10], Step [20/350], Loss: 1.0626, Accuracy: 62.50%, Validation Accuracy: 70.46%\n",
      "Epoch [7/10], Step [30/350], Loss: 0.9535, Accuracy: 62.50%, Validation Accuracy: 72.25%\n",
      "Epoch [7/10], Step [40/350], Loss: 1.3264, Accuracy: 56.25%, Validation Accuracy: 71.60%\n",
      "Epoch [7/10], Step [50/350], Loss: 1.1636, Accuracy: 56.25%, Validation Accuracy: 68.99%\n",
      "Epoch [7/10], Step [60/350], Loss: 1.0585, Accuracy: 59.38%, Validation Accuracy: 59.48%\n",
      "Epoch [7/10], Step [70/350], Loss: 0.9389, Accuracy: 65.62%, Validation Accuracy: 68.92%\n",
      "Epoch [7/10], Step [80/350], Loss: 0.8300, Accuracy: 59.38%, Validation Accuracy: 71.75%\n",
      "Epoch [7/10], Step [90/350], Loss: 0.9942, Accuracy: 59.38%, Validation Accuracy: 66.02%\n",
      "Epoch [7/10], Step [100/350], Loss: 0.7127, Accuracy: 71.88%, Validation Accuracy: 68.78%\n",
      "Epoch [7/10], Step [110/350], Loss: 0.9861, Accuracy: 62.50%, Validation Accuracy: 62.84%\n",
      "Epoch [7/10], Step [120/350], Loss: 1.0449, Accuracy: 68.75%, Validation Accuracy: 69.38%\n",
      "Epoch [7/10], Step [130/350], Loss: 1.2930, Accuracy: 62.50%, Validation Accuracy: 64.38%\n",
      "Epoch [7/10], Step [140/350], Loss: 1.3287, Accuracy: 40.62%, Validation Accuracy: 69.35%\n",
      "Epoch [7/10], Step [150/350], Loss: 0.6538, Accuracy: 84.38%, Validation Accuracy: 65.24%\n",
      "Epoch [7/10], Step [160/350], Loss: 1.1517, Accuracy: 56.25%, Validation Accuracy: 71.57%\n",
      "Epoch [7/10], Step [170/350], Loss: 1.1628, Accuracy: 59.38%, Validation Accuracy: 56.58%\n",
      "Epoch [7/10], Step [180/350], Loss: 0.7366, Accuracy: 75.00%, Validation Accuracy: 68.78%\n",
      "Epoch [7/10], Step [190/350], Loss: 1.0954, Accuracy: 62.50%, Validation Accuracy: 64.31%\n",
      "Epoch [7/10], Step [200/350], Loss: 0.9156, Accuracy: 65.62%, Validation Accuracy: 64.95%\n",
      "Epoch [7/10], Step [210/350], Loss: 1.3739, Accuracy: 62.50%, Validation Accuracy: 64.63%\n",
      "Epoch [7/10], Step [220/350], Loss: 0.9679, Accuracy: 62.50%, Validation Accuracy: 68.45%\n",
      "Epoch [7/10], Step [230/350], Loss: 0.6921, Accuracy: 75.00%, Validation Accuracy: 69.85%\n",
      "Epoch [7/10], Step [240/350], Loss: 1.1135, Accuracy: 68.75%, Validation Accuracy: 71.85%\n",
      "Epoch [7/10], Step [250/350], Loss: 0.6614, Accuracy: 90.62%, Validation Accuracy: 71.64%\n",
      "Epoch [7/10], Step [260/350], Loss: 0.7982, Accuracy: 62.50%, Validation Accuracy: 70.24%\n",
      "Epoch [7/10], Step [270/350], Loss: 0.9819, Accuracy: 62.50%, Validation Accuracy: 63.09%\n",
      "Epoch [7/10], Step [280/350], Loss: 0.8835, Accuracy: 56.25%, Validation Accuracy: 67.85%\n",
      "Epoch [7/10], Step [290/350], Loss: 1.0740, Accuracy: 71.88%, Validation Accuracy: 61.84%\n",
      "Epoch [7/10], Step [300/350], Loss: 0.8623, Accuracy: 62.50%, Validation Accuracy: 68.31%\n",
      "Epoch [7/10], Step [310/350], Loss: 1.0696, Accuracy: 53.12%, Validation Accuracy: 68.38%\n",
      "Epoch [7/10], Step [320/350], Loss: 1.0655, Accuracy: 56.25%, Validation Accuracy: 69.24%\n",
      "Epoch [7/10], Step [330/350], Loss: 1.1171, Accuracy: 65.62%, Validation Accuracy: 66.20%\n",
      "Epoch [7/10], Step [340/350], Loss: 0.9408, Accuracy: 62.50%, Validation Accuracy: 69.03%\n",
      "Epoch [7/10], Step [350/350], Loss: 1.5000, Accuracy: 45.00%, Validation Accuracy: 69.53%\n",
      "Epoch [8/10], Step [10/350], Loss: 1.1864, Accuracy: 59.38%, Validation Accuracy: 72.25%\n",
      "Epoch [8/10], Step [20/350], Loss: 0.7392, Accuracy: 68.75%, Validation Accuracy: 70.82%\n",
      "Epoch [8/10], Step [30/350], Loss: 0.9074, Accuracy: 68.75%, Validation Accuracy: 70.28%\n",
      "Epoch [8/10], Step [40/350], Loss: 0.5029, Accuracy: 81.25%, Validation Accuracy: 70.89%\n",
      "Epoch [8/10], Step [50/350], Loss: 0.9662, Accuracy: 65.62%, Validation Accuracy: 72.82%\n",
      "Epoch [8/10], Step [60/350], Loss: 1.0291, Accuracy: 62.50%, Validation Accuracy: 67.70%\n",
      "Epoch [8/10], Step [70/350], Loss: 0.9256, Accuracy: 71.88%, Validation Accuracy: 73.35%\n",
      "Epoch [8/10], Step [80/350], Loss: 0.7591, Accuracy: 75.00%, Validation Accuracy: 68.92%\n",
      "Epoch [8/10], Step [90/350], Loss: 0.9088, Accuracy: 68.75%, Validation Accuracy: 73.18%\n",
      "Epoch [8/10], Step [100/350], Loss: 0.8538, Accuracy: 68.75%, Validation Accuracy: 72.10%\n",
      "Epoch [8/10], Step [110/350], Loss: 0.8436, Accuracy: 59.38%, Validation Accuracy: 73.03%\n",
      "Epoch [8/10], Step [120/350], Loss: 0.9262, Accuracy: 65.62%, Validation Accuracy: 72.75%\n",
      "Epoch [8/10], Step [130/350], Loss: 1.1719, Accuracy: 62.50%, Validation Accuracy: 63.63%\n",
      "Epoch [8/10], Step [140/350], Loss: 1.1852, Accuracy: 65.62%, Validation Accuracy: 69.64%\n",
      "Epoch [8/10], Step [150/350], Loss: 0.9143, Accuracy: 62.50%, Validation Accuracy: 70.03%\n",
      "Epoch [8/10], Step [160/350], Loss: 1.5147, Accuracy: 68.75%, Validation Accuracy: 69.92%\n",
      "Epoch [8/10], Step [170/350], Loss: 1.8430, Accuracy: 34.38%, Validation Accuracy: 62.70%\n",
      "Epoch [8/10], Step [180/350], Loss: 0.9561, Accuracy: 50.00%, Validation Accuracy: 68.60%\n",
      "Epoch [8/10], Step [190/350], Loss: 1.0501, Accuracy: 65.62%, Validation Accuracy: 64.81%\n",
      "Epoch [8/10], Step [200/350], Loss: 0.8144, Accuracy: 75.00%, Validation Accuracy: 72.42%\n",
      "Epoch [8/10], Step [210/350], Loss: 0.6023, Accuracy: 81.25%, Validation Accuracy: 73.43%\n",
      "Epoch [8/10], Step [220/350], Loss: 0.6235, Accuracy: 75.00%, Validation Accuracy: 73.57%\n",
      "Epoch [8/10], Step [230/350], Loss: 0.8465, Accuracy: 71.88%, Validation Accuracy: 71.82%\n",
      "Epoch [8/10], Step [240/350], Loss: 0.9277, Accuracy: 59.38%, Validation Accuracy: 71.32%\n",
      "Epoch [8/10], Step [250/350], Loss: 0.7325, Accuracy: 68.75%, Validation Accuracy: 73.39%\n",
      "Epoch [8/10], Step [260/350], Loss: 0.9929, Accuracy: 62.50%, Validation Accuracy: 68.78%\n",
      "Epoch [8/10], Step [270/350], Loss: 1.0167, Accuracy: 62.50%, Validation Accuracy: 74.39%\n",
      "Epoch [8/10], Step [280/350], Loss: 0.9097, Accuracy: 65.62%, Validation Accuracy: 75.00%\n",
      "Epoch [8/10], Step [290/350], Loss: 0.7531, Accuracy: 68.75%, Validation Accuracy: 76.39%\n",
      "Epoch [8/10], Step [300/350], Loss: 1.2163, Accuracy: 59.38%, Validation Accuracy: 72.14%\n",
      "Epoch [8/10], Step [310/350], Loss: 0.7064, Accuracy: 71.88%, Validation Accuracy: 70.96%\n",
      "Epoch [8/10], Step [320/350], Loss: 0.7026, Accuracy: 78.12%, Validation Accuracy: 73.64%\n",
      "Epoch [8/10], Step [330/350], Loss: 0.8483, Accuracy: 71.88%, Validation Accuracy: 74.96%\n",
      "Epoch [8/10], Step [340/350], Loss: 0.9064, Accuracy: 62.50%, Validation Accuracy: 76.75%\n",
      "Epoch [8/10], Step [350/350], Loss: 0.9171, Accuracy: 50.00%, Validation Accuracy: 71.92%\n",
      "Epoch [9/10], Step [10/350], Loss: 0.8579, Accuracy: 71.88%, Validation Accuracy: 67.02%\n",
      "Epoch [9/10], Step [20/350], Loss: 0.6884, Accuracy: 62.50%, Validation Accuracy: 73.35%\n",
      "Epoch [9/10], Step [30/350], Loss: 1.0876, Accuracy: 59.38%, Validation Accuracy: 64.45%\n",
      "Epoch [9/10], Step [40/350], Loss: 0.7967, Accuracy: 56.25%, Validation Accuracy: 75.36%\n",
      "Epoch [9/10], Step [50/350], Loss: 0.8551, Accuracy: 71.88%, Validation Accuracy: 75.00%\n",
      "Epoch [9/10], Step [60/350], Loss: 0.6541, Accuracy: 78.12%, Validation Accuracy: 74.71%\n",
      "Epoch [9/10], Step [70/350], Loss: 0.9465, Accuracy: 68.75%, Validation Accuracy: 74.64%\n",
      "Epoch [9/10], Step [80/350], Loss: 0.8336, Accuracy: 62.50%, Validation Accuracy: 74.25%\n",
      "Epoch [9/10], Step [90/350], Loss: 0.8670, Accuracy: 62.50%, Validation Accuracy: 77.90%\n",
      "Epoch [9/10], Step [100/350], Loss: 0.8530, Accuracy: 68.75%, Validation Accuracy: 76.90%\n",
      "Epoch [9/10], Step [110/350], Loss: 1.0429, Accuracy: 62.50%, Validation Accuracy: 69.85%\n",
      "Epoch [9/10], Step [120/350], Loss: 0.6935, Accuracy: 75.00%, Validation Accuracy: 74.11%\n",
      "Epoch [9/10], Step [130/350], Loss: 0.9081, Accuracy: 62.50%, Validation Accuracy: 73.93%\n",
      "Epoch [9/10], Step [140/350], Loss: 0.8994, Accuracy: 62.50%, Validation Accuracy: 75.21%\n",
      "Epoch [9/10], Step [150/350], Loss: 0.7864, Accuracy: 75.00%, Validation Accuracy: 74.57%\n",
      "Epoch [9/10], Step [160/350], Loss: 0.7654, Accuracy: 75.00%, Validation Accuracy: 76.50%\n",
      "Epoch [9/10], Step [170/350], Loss: 0.9337, Accuracy: 65.62%, Validation Accuracy: 74.96%\n",
      "Epoch [9/10], Step [180/350], Loss: 1.1857, Accuracy: 59.38%, Validation Accuracy: 74.28%\n",
      "Epoch [9/10], Step [190/350], Loss: 1.6192, Accuracy: 46.88%, Validation Accuracy: 75.79%\n",
      "Epoch [9/10], Step [200/350], Loss: 0.5393, Accuracy: 81.25%, Validation Accuracy: 76.04%\n",
      "Epoch [9/10], Step [210/350], Loss: 0.6772, Accuracy: 75.00%, Validation Accuracy: 68.20%\n",
      "Epoch [9/10], Step [220/350], Loss: 0.7618, Accuracy: 71.88%, Validation Accuracy: 70.71%\n",
      "Epoch [9/10], Step [230/350], Loss: 0.6062, Accuracy: 78.12%, Validation Accuracy: 76.54%\n",
      "Epoch [9/10], Step [240/350], Loss: 0.5973, Accuracy: 78.12%, Validation Accuracy: 76.39%\n",
      "Epoch [9/10], Step [250/350], Loss: 1.0156, Accuracy: 59.38%, Validation Accuracy: 76.18%\n",
      "Epoch [9/10], Step [260/350], Loss: 0.7250, Accuracy: 75.00%, Validation Accuracy: 77.07%\n",
      "Epoch [9/10], Step [270/350], Loss: 0.7463, Accuracy: 75.00%, Validation Accuracy: 78.86%\n",
      "Epoch [9/10], Step [280/350], Loss: 0.4984, Accuracy: 84.38%, Validation Accuracy: 77.68%\n",
      "Epoch [9/10], Step [290/350], Loss: 0.7815, Accuracy: 68.75%, Validation Accuracy: 78.33%\n",
      "Epoch [9/10], Step [300/350], Loss: 0.7143, Accuracy: 65.62%, Validation Accuracy: 78.22%\n",
      "Epoch [9/10], Step [310/350], Loss: 0.3151, Accuracy: 96.88%, Validation Accuracy: 78.76%\n",
      "Epoch [9/10], Step [320/350], Loss: 0.5177, Accuracy: 75.00%, Validation Accuracy: 79.58%\n",
      "Epoch [9/10], Step [330/350], Loss: 0.4556, Accuracy: 87.50%, Validation Accuracy: 77.22%\n",
      "Epoch [9/10], Step [340/350], Loss: 0.9822, Accuracy: 65.62%, Validation Accuracy: 75.46%\n",
      "Epoch [9/10], Step [350/350], Loss: 0.6870, Accuracy: 75.00%, Validation Accuracy: 79.40%\n",
      "Epoch [10/10], Step [10/350], Loss: 0.5192, Accuracy: 78.12%, Validation Accuracy: 77.65%\n",
      "Epoch [10/10], Step [20/350], Loss: 0.6846, Accuracy: 78.12%, Validation Accuracy: 79.18%\n",
      "Epoch [10/10], Step [30/350], Loss: 1.1785, Accuracy: 40.62%, Validation Accuracy: 56.80%\n",
      "Epoch [10/10], Step [40/350], Loss: 1.1382, Accuracy: 53.12%, Validation Accuracy: 73.75%\n",
      "Epoch [10/10], Step [50/350], Loss: 0.5357, Accuracy: 90.62%, Validation Accuracy: 72.53%\n",
      "Epoch [10/10], Step [60/350], Loss: 0.5105, Accuracy: 75.00%, Validation Accuracy: 74.07%\n",
      "Epoch [10/10], Step [70/350], Loss: 0.6585, Accuracy: 78.12%, Validation Accuracy: 74.28%\n",
      "Epoch [10/10], Step [80/350], Loss: 1.0613, Accuracy: 59.38%, Validation Accuracy: 76.39%\n",
      "Epoch [10/10], Step [90/350], Loss: 0.5864, Accuracy: 71.88%, Validation Accuracy: 77.40%\n",
      "Epoch [10/10], Step [100/350], Loss: 0.6665, Accuracy: 78.12%, Validation Accuracy: 79.33%\n",
      "Epoch [10/10], Step [110/350], Loss: 0.8680, Accuracy: 59.38%, Validation Accuracy: 72.78%\n",
      "Epoch [10/10], Step [120/350], Loss: 0.5774, Accuracy: 78.12%, Validation Accuracy: 69.53%\n",
      "Epoch [10/10], Step [130/350], Loss: 0.5097, Accuracy: 75.00%, Validation Accuracy: 76.39%\n",
      "Epoch [10/10], Step [140/350], Loss: 1.0372, Accuracy: 75.00%, Validation Accuracy: 74.86%\n",
      "Epoch [10/10], Step [150/350], Loss: 0.8027, Accuracy: 65.62%, Validation Accuracy: 77.00%\n",
      "Epoch [10/10], Step [160/350], Loss: 0.7294, Accuracy: 68.75%, Validation Accuracy: 74.89%\n",
      "Epoch [10/10], Step [170/350], Loss: 0.5611, Accuracy: 71.88%, Validation Accuracy: 78.54%\n",
      "Epoch [10/10], Step [180/350], Loss: 1.0046, Accuracy: 56.25%, Validation Accuracy: 77.93%\n",
      "Epoch [10/10], Step [190/350], Loss: 0.7160, Accuracy: 75.00%, Validation Accuracy: 76.04%\n",
      "Epoch [10/10], Step [200/350], Loss: 0.7390, Accuracy: 75.00%, Validation Accuracy: 75.75%\n",
      "Epoch [10/10], Step [210/350], Loss: 0.9488, Accuracy: 62.50%, Validation Accuracy: 75.72%\n",
      "Epoch [10/10], Step [220/350], Loss: 0.8179, Accuracy: 68.75%, Validation Accuracy: 76.39%\n",
      "Epoch [10/10], Step [230/350], Loss: 1.1139, Accuracy: 62.50%, Validation Accuracy: 75.32%\n",
      "Epoch [10/10], Step [240/350], Loss: 0.6054, Accuracy: 75.00%, Validation Accuracy: 74.39%\n",
      "Epoch [10/10], Step [250/350], Loss: 1.0583, Accuracy: 56.25%, Validation Accuracy: 76.11%\n",
      "Epoch [10/10], Step [260/350], Loss: 1.0318, Accuracy: 65.62%, Validation Accuracy: 71.03%\n",
      "Epoch [10/10], Step [270/350], Loss: 0.6255, Accuracy: 84.38%, Validation Accuracy: 74.07%\n",
      "Epoch [10/10], Step [280/350], Loss: 0.7614, Accuracy: 68.75%, Validation Accuracy: 76.39%\n",
      "Epoch [10/10], Step [290/350], Loss: 0.9059, Accuracy: 59.38%, Validation Accuracy: 78.33%\n",
      "Epoch [10/10], Step [300/350], Loss: 0.7602, Accuracy: 71.88%, Validation Accuracy: 76.25%\n",
      "Epoch [10/10], Step [310/350], Loss: 1.0891, Accuracy: 65.62%, Validation Accuracy: 70.46%\n",
      "Epoch [10/10], Step [320/350], Loss: 0.4151, Accuracy: 81.25%, Validation Accuracy: 74.96%\n",
      "Epoch [10/10], Step [330/350], Loss: 0.6400, Accuracy: 65.62%, Validation Accuracy: 76.36%\n",
      "Epoch [10/10], Step [340/350], Loss: 0.7918, Accuracy: 68.75%, Validation Accuracy: 78.83%\n",
      "Epoch [10/10], Step [350/350], Loss: 0.4818, Accuracy: 80.00%, Validation Accuracy: 79.29%\n",
      "######## Training Finished in 5251.772100687027 seconds ###########\n",
      "/n/n Saving model at:  /kaggle/working/alexnetmodel_d3.pt\n"
     ]
    }
   ],
   "source": [
    "model_savepath = savepath+\"alexnetmodel_d3.pt\"\n",
    "results_savepath = savepath+\"alexnetmodel_d3_results.pkb\"\n",
    "\n",
    "trained_AlexNet_model, device = train_model(AlexNet_model, num_epochs, train_loader, criterion, optimizer, model_savepath, results_savepath, device)"
   ]
  },
  {
   "cell_type": "code",
   "execution_count": 40,
   "metadata": {
    "colab": {
     "base_uri": "https://localhost:8080/"
    },
    "execution": {
     "iopub.execute_input": "2022-11-25T07:51:58.302523Z",
     "iopub.status.busy": "2022-11-25T07:51:58.301858Z",
     "iopub.status.idle": "2022-11-25T07:52:32.814549Z",
     "shell.execute_reply": "2022-11-25T07:52:32.813382Z",
     "shell.execute_reply.started": "2022-11-25T07:51:58.302483Z"
    },
    "id": "0U8CCcMO9d46",
    "outputId": "158f783c-fcad-49ae-de82-8c8ca6087eb8"
   },
   "outputs": [
    {
     "name": "stdout",
     "output_type": "stream",
     "text": [
      "Model Evaluation Results on 4590 test samples\n",
      "Test Accuracy:  80.13071895424837\n",
      "Test F1 Score:  tensor(0.8013)\n",
      "Test Precision & Recall: (tensor(0.7939), tensor(0.7949))\n",
      "Test AUC score: tensor(0.2800)\n"
     ]
    }
   ],
   "source": [
    "evaluate_model(trained_AlexNet_model, test_loader, device, nclasses)"
   ]
  },
  {
   "cell_type": "markdown",
   "metadata": {
    "id": "-2Oy50W5vP6I"
   },
   "source": [
    "Architecture 2: VGG-11"
   ]
  },
  {
   "cell_type": "markdown",
   "metadata": {
    "id": "-9m7fXEW-QhP"
   },
   "source": [
    "on dataset 1:"
   ]
  },
  {
   "cell_type": "code",
   "execution_count": 41,
   "metadata": {
    "execution": {
     "iopub.execute_input": "2022-11-25T07:52:32.817263Z",
     "iopub.status.busy": "2022-11-25T07:52:32.816064Z",
     "iopub.status.idle": "2022-11-25T07:52:32.822325Z",
     "shell.execute_reply": "2022-11-25T07:52:32.821018Z",
     "shell.execute_reply.started": "2022-11-25T07:52:32.817221Z"
    },
    "id": "HXBbARVON-v7"
   },
   "outputs": [],
   "source": [
    "nclasses=15"
   ]
  },
  {
   "cell_type": "code",
   "execution_count": 42,
   "metadata": {
    "colab": {
     "base_uri": "https://localhost:8080/"
    },
    "execution": {
     "iopub.execute_input": "2022-11-25T07:52:32.824854Z",
     "iopub.status.busy": "2022-11-25T07:52:32.823789Z",
     "iopub.status.idle": "2022-11-25T07:52:37.174494Z",
     "shell.execute_reply": "2022-11-25T07:52:37.173334Z",
     "shell.execute_reply.started": "2022-11-25T07:52:32.824732Z"
    },
    "id": "EbQ_Vv-ZvS5D",
    "outputId": "39d06c7d-31b2-4ecb-c1b7-ceaaca9e754f"
   },
   "outputs": [
    {
     "name": "stderr",
     "output_type": "stream",
     "text": [
      "Downloading: \"https://github.com/pytorch/vision/zipball/v0.10.0\" to /root/.cache/torch/hub/v0.10.0.zip\n"
     ]
    }
   ],
   "source": [
    "VGG11_model = torch.hub.load('pytorch/vision:v0.10.0', 'vgg11', pretrained=False)"
   ]
  },
  {
   "cell_type": "code",
   "execution_count": 43,
   "metadata": {
    "execution": {
     "iopub.execute_input": "2022-11-25T07:52:37.182540Z",
     "iopub.status.busy": "2022-11-25T07:52:37.179763Z",
     "iopub.status.idle": "2022-11-25T07:52:37.191191Z",
     "shell.execute_reply": "2022-11-25T07:52:37.190278Z",
     "shell.execute_reply.started": "2022-11-25T07:52:37.182503Z"
    },
    "id": "CICeGKI3vjDw"
   },
   "outputs": [],
   "source": [
    "prev_out = VGG11_model.classifier[3].out_features\n",
    "VGG11_model.classifier[6] = nn.Linear( prev_out, nclasses)"
   ]
  },
  {
   "cell_type": "code",
   "execution_count": 44,
   "metadata": {
    "colab": {
     "base_uri": "https://localhost:8080/"
    },
    "execution": {
     "iopub.execute_input": "2022-11-25T07:52:37.197083Z",
     "iopub.status.busy": "2022-11-25T07:52:37.196494Z",
     "iopub.status.idle": "2022-11-25T07:52:37.216005Z",
     "shell.execute_reply": "2022-11-25T07:52:37.214953Z",
     "shell.execute_reply.started": "2022-11-25T07:52:37.197045Z"
    },
    "id": "m2b6wbT-vy9o",
    "outputId": "e8642231-b980-4ed6-e60d-152e053cc6e1"
   },
   "outputs": [
    {
     "data": {
      "text/plain": [
       "VGG(\n",
       "  (features): Sequential(\n",
       "    (0): Conv2d(3, 64, kernel_size=(3, 3), stride=(1, 1), padding=(1, 1))\n",
       "    (1): ReLU(inplace=True)\n",
       "    (2): MaxPool2d(kernel_size=2, stride=2, padding=0, dilation=1, ceil_mode=False)\n",
       "    (3): Conv2d(64, 128, kernel_size=(3, 3), stride=(1, 1), padding=(1, 1))\n",
       "    (4): ReLU(inplace=True)\n",
       "    (5): MaxPool2d(kernel_size=2, stride=2, padding=0, dilation=1, ceil_mode=False)\n",
       "    (6): Conv2d(128, 256, kernel_size=(3, 3), stride=(1, 1), padding=(1, 1))\n",
       "    (7): ReLU(inplace=True)\n",
       "    (8): Conv2d(256, 256, kernel_size=(3, 3), stride=(1, 1), padding=(1, 1))\n",
       "    (9): ReLU(inplace=True)\n",
       "    (10): MaxPool2d(kernel_size=2, stride=2, padding=0, dilation=1, ceil_mode=False)\n",
       "    (11): Conv2d(256, 512, kernel_size=(3, 3), stride=(1, 1), padding=(1, 1))\n",
       "    (12): ReLU(inplace=True)\n",
       "    (13): Conv2d(512, 512, kernel_size=(3, 3), stride=(1, 1), padding=(1, 1))\n",
       "    (14): ReLU(inplace=True)\n",
       "    (15): MaxPool2d(kernel_size=2, stride=2, padding=0, dilation=1, ceil_mode=False)\n",
       "    (16): Conv2d(512, 512, kernel_size=(3, 3), stride=(1, 1), padding=(1, 1))\n",
       "    (17): ReLU(inplace=True)\n",
       "    (18): Conv2d(512, 512, kernel_size=(3, 3), stride=(1, 1), padding=(1, 1))\n",
       "    (19): ReLU(inplace=True)\n",
       "    (20): MaxPool2d(kernel_size=2, stride=2, padding=0, dilation=1, ceil_mode=False)\n",
       "  )\n",
       "  (avgpool): AdaptiveAvgPool2d(output_size=(7, 7))\n",
       "  (classifier): Sequential(\n",
       "    (0): Linear(in_features=25088, out_features=4096, bias=True)\n",
       "    (1): ReLU(inplace=True)\n",
       "    (2): Dropout(p=0.5, inplace=False)\n",
       "    (3): Linear(in_features=4096, out_features=4096, bias=True)\n",
       "    (4): ReLU(inplace=True)\n",
       "    (5): Dropout(p=0.5, inplace=False)\n",
       "    (6): Linear(in_features=4096, out_features=15, bias=True)\n",
       "  )\n",
       ")"
      ]
     },
     "execution_count": 44,
     "metadata": {},
     "output_type": "execute_result"
    }
   ],
   "source": [
    "VGG11_model.eval()"
   ]
  },
  {
   "cell_type": "code",
   "execution_count": 45,
   "metadata": {
    "execution": {
     "iopub.execute_input": "2022-11-25T07:52:37.218184Z",
     "iopub.status.busy": "2022-11-25T07:52:37.217548Z",
     "iopub.status.idle": "2022-11-25T07:52:37.227777Z",
     "shell.execute_reply": "2022-11-25T07:52:37.226729Z",
     "shell.execute_reply.started": "2022-11-25T07:52:37.218134Z"
    },
    "id": "lgOzrKXZv3DL"
   },
   "outputs": [],
   "source": [
    "optimizer = torch.optim.Adam(VGG11_model.parameters(), lr=learning_rate) "
   ]
  },
  {
   "cell_type": "code",
   "execution_count": 46,
   "metadata": {
    "execution": {
     "iopub.execute_input": "2022-11-25T07:52:37.230446Z",
     "iopub.status.busy": "2022-11-25T07:52:37.229304Z",
     "iopub.status.idle": "2022-11-25T07:52:37.302621Z",
     "shell.execute_reply": "2022-11-25T07:52:37.301840Z",
     "shell.execute_reply.started": "2022-11-25T07:52:37.230411Z"
    },
    "id": "xQdrYPPhv_06"
   },
   "outputs": [],
   "source": [
    "path_train = path_dataset1+\"train/\"\n",
    "path_test = path_dataset1+\"test/\"\n",
    "val_split = 0.2\n",
    "batch_size = 32\n",
    "input_size = (224,224)\n",
    "\n",
    "train_loader, test_loader, val_loader, mappings = load_data(path_train, val_split, path_test, batch_size, input_size)"
   ]
  },
  {
   "cell_type": "code",
   "execution_count": null,
   "metadata": {
    "execution": {
     "iopub.execute_input": "2022-11-25T07:52:37.307353Z",
     "iopub.status.busy": "2022-11-25T07:52:37.306538Z",
     "iopub.status.idle": "2022-11-25T07:52:37.462113Z",
     "shell.execute_reply": "2022-11-25T07:52:37.460988Z",
     "shell.execute_reply.started": "2022-11-25T07:52:37.307307Z"
    },
    "id": "XvgSy37XVjJZ",
    "outputId": "2ff5139c-c9f9-45a1-9897-03cf4bfe5bf5"
   },
   "outputs": [
    {
     "name": "stdout",
     "output_type": "stream",
     "text": [
      "Device: cuda:0\n"
     ]
    }
   ],
   "source": [
    "device = torch.device(\"cuda:0\" if torch.cuda.is_available() else \"cpu\")\n",
    "print(\"Device: {}\".format(device))\n",
    "x = VGG11_model.to(device)"
   ]
  },
  {
   "cell_type": "code",
   "execution_count": null,
   "metadata": {
    "execution": {
     "iopub.execute_input": "2022-11-25T07:52:37.464095Z",
     "iopub.status.busy": "2022-11-25T07:52:37.463497Z",
     "iopub.status.idle": "2022-11-25T07:52:37.483092Z",
     "shell.execute_reply": "2022-11-25T07:52:37.482097Z",
     "shell.execute_reply.started": "2022-11-25T07:52:37.464056Z"
    },
    "id": "SxOUN1269iIm",
    "outputId": "fe5c8abb-4d41-47ed-cca9-5cd86f36e207"
   },
   "outputs": [
    {
     "name": "stdout",
     "output_type": "stream",
     "text": [
      "Class: SPEED_LIMIT_80 has samples: 192 \n",
      "Class: SPEED_LIMIT_60 has samples: 190 \n",
      "Class: NO_STOPPING_OR_STANDING has samples: 242 \n",
      "Class: COMPULSARY_KEEP_RIGHT has samples: 223 \n",
      "Class: GAP_IN_MEDIAN has samples: 180 \n",
      "Class: CROSS_ROAD has samples: 140 \n",
      "Class: PEDESTRIAN_CROSSING has samples: 121 \n",
      "Class: SPEED_LIMIT_50 has samples: 200 \n",
      "Class: HORN_PROHIBITED has samples: 160 \n",
      "Class: SPEED_LIMIT_40 has samples: 170 \n",
      "Class: NO_ENTRY has samples: 174 \n",
      "Class: HUMP_OR_ROUGH_ROAD has samples: 101 \n",
      "Class: SPEED_LIMIT_30 has samples: 238 \n",
      "Class: LEFT_TURN_PROHIBITED has samples: 126 \n",
      "Class: SPEED_LIMIT_70 has samples: 160 \n",
      "\n",
      "Total number of samples:  2617\n",
      "\n",
      "Time taken: 0.012342691421508789\n"
     ]
    }
   ],
   "source": [
    "class_weights = get_class_weights(path_train, mappings)\n",
    "\n",
    "class_weights = torch.FloatTensor(class_weights)\n",
    "class_weights = class_weights.to(device)\n",
    "\n",
    "criterion = get_criterion(class_weights)"
   ]
  },
  {
   "cell_type": "code",
   "execution_count": null,
   "metadata": {
    "execution": {
     "iopub.execute_input": "2022-11-25T07:52:37.484881Z",
     "iopub.status.busy": "2022-11-25T07:52:37.484579Z",
     "iopub.status.idle": "2022-11-25T08:42:53.650328Z",
     "shell.execute_reply": "2022-11-25T08:42:53.649328Z",
     "shell.execute_reply.started": "2022-11-25T07:52:37.484853Z"
    },
    "id": "1VBebkPiwIuh",
    "outputId": "e9aa8624-c90f-485e-a3e8-8d7b8b3569a9"
   },
   "outputs": [
    {
     "name": "stdout",
     "output_type": "stream",
     "text": [
      "Epoch [1/10], Step [10/66], Loss: 2.7052, Accuracy: 3.12%, Validation Accuracy: 5.74%\n",
      "Epoch [1/10], Step [20/66], Loss: 2.7081, Accuracy: 9.38%, Validation Accuracy: 9.18%\n",
      "Epoch [1/10], Step [30/66], Loss: 2.6994, Accuracy: 9.38%, Validation Accuracy: 9.18%\n",
      "Epoch [1/10], Step [40/66], Loss: 2.7006, Accuracy: 9.38%, Validation Accuracy: 9.18%\n",
      "Epoch [1/10], Step [50/66], Loss: 2.6794, Accuracy: 9.38%, Validation Accuracy: 9.18%\n",
      "Epoch [1/10], Step [60/66], Loss: 2.6460, Accuracy: 9.38%, Validation Accuracy: 8.03%\n",
      "Epoch [2/10], Step [10/66], Loss: 2.7304, Accuracy: 6.25%, Validation Accuracy: 8.03%\n",
      "Epoch [2/10], Step [20/66], Loss: 2.6969, Accuracy: 6.25%, Validation Accuracy: 6.88%\n",
      "Epoch [2/10], Step [30/66], Loss: 2.7227, Accuracy: 9.38%, Validation Accuracy: 6.88%\n",
      "Epoch [2/10], Step [40/66], Loss: 2.7500, Accuracy: 9.38%, Validation Accuracy: 8.03%\n",
      "Epoch [2/10], Step [50/66], Loss: 2.6857, Accuracy: 3.12%, Validation Accuracy: 8.03%\n",
      "Epoch [2/10], Step [60/66], Loss: 2.6921, Accuracy: 9.38%, Validation Accuracy: 8.03%\n",
      "Epoch [3/10], Step [10/66], Loss: 2.6621, Accuracy: 6.25%, Validation Accuracy: 9.18%\n",
      "Epoch [3/10], Step [20/66], Loss: 2.6252, Accuracy: 3.12%, Validation Accuracy: 6.88%\n",
      "Epoch [3/10], Step [30/66], Loss: 2.6076, Accuracy: 9.38%, Validation Accuracy: 9.18%\n",
      "Epoch [3/10], Step [40/66], Loss: 2.6298, Accuracy: 0.00%, Validation Accuracy: 8.03%\n",
      "Epoch [3/10], Step [50/66], Loss: 2.7156, Accuracy: 12.50%, Validation Accuracy: 8.03%\n",
      "Epoch [3/10], Step [60/66], Loss: 2.7475, Accuracy: 6.25%, Validation Accuracy: 8.03%\n",
      "Epoch [4/10], Step [10/66], Loss: 2.7042, Accuracy: 9.38%, Validation Accuracy: 8.03%\n",
      "Epoch [4/10], Step [20/66], Loss: 2.6783, Accuracy: 12.50%, Validation Accuracy: 8.03%\n",
      "Epoch [4/10], Step [30/66], Loss: 2.7108, Accuracy: 0.00%, Validation Accuracy: 8.03%\n",
      "Epoch [4/10], Step [40/66], Loss: 2.6705, Accuracy: 3.12%, Validation Accuracy: 9.18%\n",
      "Epoch [4/10], Step [50/66], Loss: 2.6827, Accuracy: 3.12%, Validation Accuracy: 9.18%\n",
      "Epoch [4/10], Step [60/66], Loss: 2.7323, Accuracy: 15.62%, Validation Accuracy: 8.03%\n",
      "Epoch [5/10], Step [10/66], Loss: 2.6717, Accuracy: 3.12%, Validation Accuracy: 8.03%\n",
      "Epoch [5/10], Step [20/66], Loss: 2.6304, Accuracy: 9.38%, Validation Accuracy: 9.18%\n",
      "Epoch [5/10], Step [30/66], Loss: 2.6996, Accuracy: 6.25%, Validation Accuracy: 9.18%\n",
      "Epoch [5/10], Step [40/66], Loss: 2.7282, Accuracy: 3.12%, Validation Accuracy: 9.18%\n",
      "Epoch [5/10], Step [50/66], Loss: 2.6523, Accuracy: 9.38%, Validation Accuracy: 9.18%\n",
      "Epoch [5/10], Step [60/66], Loss: 2.7503, Accuracy: 9.38%, Validation Accuracy: 8.03%\n",
      "Epoch [6/10], Step [10/66], Loss: 2.7141, Accuracy: 0.00%, Validation Accuracy: 8.03%\n",
      "Epoch [6/10], Step [20/66], Loss: 2.7116, Accuracy: 3.12%, Validation Accuracy: 8.03%\n",
      "Epoch [6/10], Step [30/66], Loss: 2.7011, Accuracy: 6.25%, Validation Accuracy: 8.03%\n",
      "Epoch [6/10], Step [40/66], Loss: 2.7191, Accuracy: 0.00%, Validation Accuracy: 8.03%\n",
      "Epoch [6/10], Step [50/66], Loss: 2.7150, Accuracy: 6.25%, Validation Accuracy: 8.03%\n",
      "Epoch [6/10], Step [60/66], Loss: 2.7085, Accuracy: 9.38%, Validation Accuracy: 8.03%\n",
      "Epoch [7/10], Step [10/66], Loss: 2.7161, Accuracy: 9.38%, Validation Accuracy: 8.03%\n",
      "Epoch [7/10], Step [20/66], Loss: 2.6819, Accuracy: 15.62%, Validation Accuracy: 9.18%\n",
      "Epoch [7/10], Step [30/66], Loss: 2.6872, Accuracy: 0.00%, Validation Accuracy: 9.18%\n",
      "Epoch [7/10], Step [40/66], Loss: 2.6875, Accuracy: 15.62%, Validation Accuracy: 9.18%\n",
      "Epoch [7/10], Step [50/66], Loss: 2.7426, Accuracy: 9.38%, Validation Accuracy: 9.18%\n",
      "Epoch [7/10], Step [60/66], Loss: 2.6962, Accuracy: 3.12%, Validation Accuracy: 9.18%\n",
      "Epoch [8/10], Step [10/66], Loss: 2.7069, Accuracy: 9.38%, Validation Accuracy: 6.88%\n",
      "Epoch [8/10], Step [20/66], Loss: 2.7021, Accuracy: 3.12%, Validation Accuracy: 6.88%\n",
      "Epoch [8/10], Step [30/66], Loss: 2.6557, Accuracy: 18.75%, Validation Accuracy: 8.03%\n",
      "Epoch [8/10], Step [40/66], Loss: 2.6920, Accuracy: 12.50%, Validation Accuracy: 8.03%\n",
      "Epoch [8/10], Step [50/66], Loss: 2.7075, Accuracy: 6.25%, Validation Accuracy: 8.03%\n",
      "Epoch [8/10], Step [60/66], Loss: 2.7018, Accuracy: 12.50%, Validation Accuracy: 6.88%\n",
      "Epoch [9/10], Step [10/66], Loss: 2.6801, Accuracy: 15.62%, Validation Accuracy: 9.18%\n",
      "Epoch [9/10], Step [20/66], Loss: 2.7082, Accuracy: 3.12%, Validation Accuracy: 8.03%\n",
      "Epoch [9/10], Step [30/66], Loss: 2.6527, Accuracy: 6.25%, Validation Accuracy: 8.03%\n",
      "Epoch [9/10], Step [40/66], Loss: 2.7336, Accuracy: 12.50%, Validation Accuracy: 8.03%\n",
      "Epoch [9/10], Step [50/66], Loss: 2.6475, Accuracy: 9.38%, Validation Accuracy: 8.03%\n",
      "Epoch [9/10], Step [60/66], Loss: 2.7068, Accuracy: 9.38%, Validation Accuracy: 8.03%\n",
      "Epoch [10/10], Step [10/66], Loss: 2.6441, Accuracy: 9.38%, Validation Accuracy: 8.03%\n",
      "Epoch [10/10], Step [20/66], Loss: 2.6389, Accuracy: 6.25%, Validation Accuracy: 6.88%\n",
      "Epoch [10/10], Step [30/66], Loss: 2.6960, Accuracy: 9.38%, Validation Accuracy: 9.18%\n",
      "Epoch [10/10], Step [40/66], Loss: 2.6828, Accuracy: 6.25%, Validation Accuracy: 8.03%\n",
      "Epoch [10/10], Step [50/66], Loss: 2.6696, Accuracy: 15.62%, Validation Accuracy: 9.18%\n",
      "Epoch [10/10], Step [60/66], Loss: 2.7075, Accuracy: 3.12%, Validation Accuracy: 9.18%\n",
      "######## Training Finished in 3014.7471013069153 seconds ###########\n",
      "/n/n Saving model at:  /kaggle/working/vgg11model_d1.pt\n"
     ]
    }
   ],
   "source": [
    "model_savepath = savepath+\"vgg11model_d1.pt\"\n",
    "results_savepath = savepath+\"vgg11model_d1_results.pkb\"\n",
    "\n",
    "trained_VGG11_model, device = train_model(VGG11_model, num_epochs, train_loader, criterion, optimizer, model_savepath, results_savepath, device)"
   ]
  },
  {
   "cell_type": "code",
   "execution_count": 48,
   "metadata": {
    "colab": {
     "base_uri": "https://localhost:8080/"
    },
    "execution": {
     "iopub.execute_input": "2022-11-25T08:42:53.652589Z",
     "iopub.status.busy": "2022-11-25T08:42:53.652145Z",
     "iopub.status.idle": "2022-11-25T08:43:08.684401Z",
     "shell.execute_reply": "2022-11-25T08:43:08.683228Z",
     "shell.execute_reply.started": "2022-11-25T08:42:53.652548Z"
    },
    "id": "pDj3U6BXwQYn",
    "outputId": "3746bd5b-086e-462d-fc92-aa0ce12df007"
   },
   "outputs": [
    {
     "name": "stdout",
     "output_type": "stream",
     "text": [
      "Model Evaluation Results on 710 test samples\n",
      "Test Accuracy:  11.408450704225352\n",
      "Test F1 Score:  tensor(0.1141)\n",
      "Test Precision & Recall: (tensor(0.0076), tensor(0.0667))\n",
      "Test AUC score: tensor(0.5000)\n"
     ]
    }
   ],
   "source": [
    "evaluate_model(trained_VGG11_model, test_loader, device, nclasses)"
   ]
  },
  {
   "cell_type": "code",
   "execution_count": null,
   "metadata": {
    "id": "rT1TCKuJ-aU9"
   },
   "outputs": [],
   "source": []
  },
  {
   "cell_type": "markdown",
   "metadata": {
    "id": "f3Oow3Xp-aup"
   },
   "source": [
    "on dataset 2:"
   ]
  },
  {
   "cell_type": "code",
   "execution_count": 49,
   "metadata": {
    "execution": {
     "iopub.execute_input": "2022-11-25T08:43:08.686546Z",
     "iopub.status.busy": "2022-11-25T08:43:08.686035Z",
     "iopub.status.idle": "2022-11-25T08:43:08.692227Z",
     "shell.execute_reply": "2022-11-25T08:43:08.690541Z",
     "shell.execute_reply.started": "2022-11-25T08:43:08.686506Z"
    },
    "id": "PCvYyvJgN-wC"
   },
   "outputs": [],
   "source": [
    "nclasses=12"
   ]
  },
  {
   "cell_type": "code",
   "execution_count": 50,
   "metadata": {
    "colab": {
     "base_uri": "https://localhost:8080/"
    },
    "execution": {
     "iopub.execute_input": "2022-11-25T08:43:08.694599Z",
     "iopub.status.busy": "2022-11-25T08:43:08.693943Z",
     "iopub.status.idle": "2022-11-25T08:43:11.344769Z",
     "shell.execute_reply": "2022-11-25T08:43:11.343759Z",
     "shell.execute_reply.started": "2022-11-25T08:43:08.694558Z"
    },
    "id": "DPB26YC7-aup",
    "outputId": "313dc194-e7d3-47e0-a8cf-c3565a8c31ef"
   },
   "outputs": [
    {
     "name": "stderr",
     "output_type": "stream",
     "text": [
      "Using cache found in /root/.cache/torch/hub/pytorch_vision_v0.10.0\n"
     ]
    }
   ],
   "source": [
    "VGG11_model = torch.hub.load('pytorch/vision:v0.10.0', 'vgg11', pretrained=False)"
   ]
  },
  {
   "cell_type": "code",
   "execution_count": 51,
   "metadata": {
    "execution": {
     "iopub.execute_input": "2022-11-25T08:43:11.346969Z",
     "iopub.status.busy": "2022-11-25T08:43:11.346491Z",
     "iopub.status.idle": "2022-11-25T08:43:11.353544Z",
     "shell.execute_reply": "2022-11-25T08:43:11.352338Z",
     "shell.execute_reply.started": "2022-11-25T08:43:11.346930Z"
    },
    "id": "W-6iOeEd-aup"
   },
   "outputs": [],
   "source": [
    "prev_out = VGG11_model.classifier[3].out_features\n",
    "VGG11_model.classifier[6] = nn.Linear( prev_out, nclasses)"
   ]
  },
  {
   "cell_type": "code",
   "execution_count": 52,
   "metadata": {
    "execution": {
     "iopub.execute_input": "2022-11-25T08:43:11.355592Z",
     "iopub.status.busy": "2022-11-25T08:43:11.355056Z",
     "iopub.status.idle": "2022-11-25T08:43:11.365028Z",
     "shell.execute_reply": "2022-11-25T08:43:11.364105Z",
     "shell.execute_reply.started": "2022-11-25T08:43:11.355555Z"
    },
    "id": "R6GC9UD3-auq"
   },
   "outputs": [],
   "source": [
    "optimizer = torch.optim.Adam(VGG11_model.parameters(), lr=learning_rate) "
   ]
  },
  {
   "cell_type": "code",
   "execution_count": 53,
   "metadata": {
    "execution": {
     "iopub.execute_input": "2022-11-25T08:43:11.366863Z",
     "iopub.status.busy": "2022-11-25T08:43:11.366509Z",
     "iopub.status.idle": "2022-11-25T08:43:11.440430Z",
     "shell.execute_reply": "2022-11-25T08:43:11.439587Z",
     "shell.execute_reply.started": "2022-11-25T08:43:11.366827Z"
    },
    "id": "ySZfAJgf-auq"
   },
   "outputs": [],
   "source": [
    "path_train = path_dataset2+\"train/\"\n",
    "path_test = path_dataset2+\"test/\"\n",
    "val_split = 0.2\n",
    "batch_size = 32\n",
    "input_size = (224,224)\n",
    "\n",
    "train_loader, test_loader, val_loader, mappings = load_data(path_train, val_split, path_test, batch_size, input_size)"
   ]
  },
  {
   "cell_type": "code",
   "execution_count": null,
   "metadata": {
    "execution": {
     "iopub.execute_input": "2022-11-25T08:43:11.442529Z",
     "iopub.status.busy": "2022-11-25T08:43:11.441963Z",
     "iopub.status.idle": "2022-11-25T08:43:11.592939Z",
     "shell.execute_reply": "2022-11-25T08:43:11.591870Z",
     "shell.execute_reply.started": "2022-11-25T08:43:11.442495Z"
    },
    "id": "9NUvL0LEVnaA",
    "outputId": "90e2b6d5-24fd-4089-d5e8-b6bdc1916ea8"
   },
   "outputs": [
    {
     "name": "stdout",
     "output_type": "stream",
     "text": [
      "Device: cuda:0\n"
     ]
    }
   ],
   "source": [
    "device = torch.device(\"cuda:0\" if torch.cuda.is_available() else \"cpu\")\n",
    "print(\"Device: {}\".format(device))\n",
    "x = VGG11_model.to(device)"
   ]
  },
  {
   "cell_type": "code",
   "execution_count": null,
   "metadata": {
    "execution": {
     "iopub.execute_input": "2022-11-25T08:43:11.595075Z",
     "iopub.status.busy": "2022-11-25T08:43:11.594710Z",
     "iopub.status.idle": "2022-11-25T08:43:11.610095Z",
     "shell.execute_reply": "2022-11-25T08:43:11.608815Z",
     "shell.execute_reply.started": "2022-11-25T08:43:11.595039Z"
    },
    "id": "2soll5hk9jMe",
    "outputId": "b5ed81cf-01b8-4e96-a336-5d614e00af5f"
   },
   "outputs": [
    {
     "name": "stdout",
     "output_type": "stream",
     "text": [
      "Class: Pedestrain has samples: 1014 \n",
      "Class: NO Stopping has samples: 1075 \n",
      "Class: Right Turn Prohibited has samples: 436 \n",
      "Class: Danger has samples: 399 \n",
      "Class: Compulsory Keep BothSide has samples: 573 \n",
      "Class: Maximum Speed 30 has samples: 477 \n",
      "Class: Right Margin has samples: 506 \n",
      "Class: Cycle crossing has samples: 662 \n",
      "Class: Roundabouts has samples: 497 \n",
      "Class: One way Traffic has samples: 684 \n",
      "Class: Compulsory Keep Right has samples: 703 \n",
      "Class: No Entry has samples: 930 \n",
      "\n",
      "Total number of samples:  7956\n",
      "\n",
      "Time taken: 0.009800910949707031\n"
     ]
    }
   ],
   "source": [
    "class_weights = get_class_weights(path_train, mappings)\n",
    "\n",
    "class_weights = torch.FloatTensor(class_weights)\n",
    "class_weights = class_weights.to(device)\n",
    "\n",
    "criterion = get_criterion(class_weights)"
   ]
  },
  {
   "cell_type": "code",
   "execution_count": null,
   "metadata": {
    "execution": {
     "iopub.execute_input": "2022-11-25T08:43:11.612063Z",
     "iopub.status.busy": "2022-11-25T08:43:11.611728Z",
     "iopub.status.idle": "2022-11-25T09:50:17.431113Z",
     "shell.execute_reply": "2022-11-25T09:50:17.430074Z",
     "shell.execute_reply.started": "2022-11-25T08:43:11.612029Z"
    },
    "id": "NPQV9EqR-auq",
    "outputId": "16765d6b-4258-4033-dba4-399f293eecf5"
   },
   "outputs": [
    {
     "name": "stdout",
     "output_type": "stream",
     "text": [
      "Epoch [1/10], Step [10/199], Loss: 2.4733, Accuracy: 6.25%, Validation Accuracy: 11.50%\n",
      "Epoch [1/10], Step [20/199], Loss: 2.4771, Accuracy: 12.50%, Validation Accuracy: 11.50%\n",
      "Epoch [1/10], Step [30/199], Loss: 2.4711, Accuracy: 12.50%, Validation Accuracy: 12.51%\n",
      "Epoch [1/10], Step [40/199], Loss: 2.4288, Accuracy: 12.50%, Validation Accuracy: 11.50%\n",
      "Epoch [1/10], Step [50/199], Loss: 2.4787, Accuracy: 15.62%, Validation Accuracy: 12.51%\n",
      "Epoch [1/10], Step [60/199], Loss: 2.4724, Accuracy: 15.62%, Validation Accuracy: 11.82%\n",
      "Epoch [1/10], Step [70/199], Loss: 2.4792, Accuracy: 9.38%, Validation Accuracy: 11.50%\n",
      "Epoch [1/10], Step [80/199], Loss: 2.5084, Accuracy: 9.38%, Validation Accuracy: 11.50%\n",
      "Epoch [1/10], Step [90/199], Loss: 2.4381, Accuracy: 9.38%, Validation Accuracy: 11.50%\n",
      "Epoch [1/10], Step [100/199], Loss: 2.4098, Accuracy: 12.50%, Validation Accuracy: 11.50%\n",
      "Epoch [1/10], Step [110/199], Loss: 2.3562, Accuracy: 21.88%, Validation Accuracy: 13.14%\n",
      "Epoch [1/10], Step [120/199], Loss: 2.4440, Accuracy: 12.50%, Validation Accuracy: 14.33%\n",
      "Epoch [1/10], Step [130/199], Loss: 2.2421, Accuracy: 28.12%, Validation Accuracy: 27.28%\n",
      "Epoch [1/10], Step [140/199], Loss: 1.8815, Accuracy: 31.25%, Validation Accuracy: 23.82%\n",
      "Epoch [1/10], Step [150/199], Loss: 1.9674, Accuracy: 34.38%, Validation Accuracy: 35.14%\n",
      "Epoch [1/10], Step [160/199], Loss: 1.7964, Accuracy: 21.88%, Validation Accuracy: 39.60%\n",
      "Epoch [1/10], Step [170/199], Loss: 1.3807, Accuracy: 37.50%, Validation Accuracy: 53.55%\n",
      "Epoch [1/10], Step [180/199], Loss: 1.2402, Accuracy: 56.25%, Validation Accuracy: 55.06%\n",
      "Epoch [1/10], Step [190/199], Loss: 1.4099, Accuracy: 53.12%, Validation Accuracy: 63.10%\n",
      "Epoch [2/10], Step [10/199], Loss: 0.5099, Accuracy: 84.38%, Validation Accuracy: 72.28%\n",
      "Epoch [2/10], Step [20/199], Loss: 0.8236, Accuracy: 81.25%, Validation Accuracy: 71.97%\n",
      "Epoch [2/10], Step [30/199], Loss: 0.6062, Accuracy: 81.25%, Validation Accuracy: 81.96%\n",
      "Epoch [2/10], Step [40/199], Loss: 0.6753, Accuracy: 68.75%, Validation Accuracy: 80.20%\n",
      "Epoch [2/10], Step [50/199], Loss: 0.4843, Accuracy: 87.50%, Validation Accuracy: 84.73%\n",
      "Epoch [2/10], Step [60/199], Loss: 0.5083, Accuracy: 84.38%, Validation Accuracy: 82.97%\n",
      "Epoch [2/10], Step [70/199], Loss: 0.6470, Accuracy: 84.38%, Validation Accuracy: 86.24%\n",
      "Epoch [2/10], Step [80/199], Loss: 0.2755, Accuracy: 90.62%, Validation Accuracy: 89.57%\n",
      "Epoch [2/10], Step [90/199], Loss: 0.6535, Accuracy: 81.25%, Validation Accuracy: 90.32%\n",
      "Epoch [2/10], Step [100/199], Loss: 0.6732, Accuracy: 84.38%, Validation Accuracy: 82.78%\n",
      "Epoch [2/10], Step [110/199], Loss: 1.2212, Accuracy: 71.88%, Validation Accuracy: 88.31%\n",
      "Epoch [2/10], Step [120/199], Loss: 0.2704, Accuracy: 87.50%, Validation Accuracy: 89.13%\n",
      "Epoch [2/10], Step [130/199], Loss: 0.3116, Accuracy: 84.38%, Validation Accuracy: 91.20%\n",
      "Epoch [2/10], Step [140/199], Loss: 0.3678, Accuracy: 87.50%, Validation Accuracy: 88.62%\n",
      "Epoch [2/10], Step [150/199], Loss: 0.1534, Accuracy: 93.75%, Validation Accuracy: 92.39%\n",
      "Epoch [2/10], Step [160/199], Loss: 0.3022, Accuracy: 90.62%, Validation Accuracy: 86.80%\n",
      "Epoch [2/10], Step [170/199], Loss: 0.1913, Accuracy: 96.88%, Validation Accuracy: 92.39%\n",
      "Epoch [2/10], Step [180/199], Loss: 0.2590, Accuracy: 93.75%, Validation Accuracy: 87.62%\n",
      "Epoch [2/10], Step [190/199], Loss: 0.2316, Accuracy: 96.88%, Validation Accuracy: 93.78%\n",
      "Epoch [3/10], Step [10/199], Loss: 0.0489, Accuracy: 100.00%, Validation Accuracy: 89.88%\n",
      "Epoch [3/10], Step [20/199], Loss: 0.3013, Accuracy: 84.38%, Validation Accuracy: 92.02%\n",
      "Epoch [3/10], Step [30/199], Loss: 0.1790, Accuracy: 93.75%, Validation Accuracy: 92.96%\n",
      "Epoch [3/10], Step [40/199], Loss: 0.2404, Accuracy: 93.75%, Validation Accuracy: 93.15%\n",
      "Epoch [3/10], Step [50/199], Loss: 0.5060, Accuracy: 87.50%, Validation Accuracy: 91.70%\n",
      "Epoch [3/10], Step [60/199], Loss: 0.2204, Accuracy: 93.75%, Validation Accuracy: 94.09%\n",
      "Epoch [3/10], Step [70/199], Loss: 0.2816, Accuracy: 90.62%, Validation Accuracy: 93.97%\n",
      "Epoch [3/10], Step [80/199], Loss: 0.1481, Accuracy: 96.88%, Validation Accuracy: 94.47%\n",
      "Epoch [3/10], Step [90/199], Loss: 0.2698, Accuracy: 96.88%, Validation Accuracy: 93.34%\n",
      "Epoch [3/10], Step [100/199], Loss: 0.2822, Accuracy: 90.62%, Validation Accuracy: 93.46%\n",
      "Epoch [3/10], Step [110/199], Loss: 0.2170, Accuracy: 93.75%, Validation Accuracy: 92.21%\n",
      "Epoch [3/10], Step [120/199], Loss: 0.1797, Accuracy: 96.88%, Validation Accuracy: 94.66%\n",
      "Epoch [3/10], Step [130/199], Loss: 0.0307, Accuracy: 100.00%, Validation Accuracy: 92.02%\n",
      "Epoch [3/10], Step [140/199], Loss: 0.3638, Accuracy: 87.50%, Validation Accuracy: 93.97%\n",
      "Epoch [3/10], Step [150/199], Loss: 0.1258, Accuracy: 96.88%, Validation Accuracy: 93.90%\n",
      "Epoch [3/10], Step [160/199], Loss: 0.5452, Accuracy: 93.75%, Validation Accuracy: 93.71%\n",
      "Epoch [3/10], Step [170/199], Loss: 0.2131, Accuracy: 93.75%, Validation Accuracy: 94.41%\n",
      "Epoch [3/10], Step [180/199], Loss: 0.1044, Accuracy: 100.00%, Validation Accuracy: 95.03%\n",
      "Epoch [3/10], Step [190/199], Loss: 0.0893, Accuracy: 100.00%, Validation Accuracy: 95.91%\n",
      "Epoch [4/10], Step [10/199], Loss: 0.3979, Accuracy: 90.62%, Validation Accuracy: 92.27%\n",
      "Epoch [4/10], Step [20/199], Loss: 0.3647, Accuracy: 90.62%, Validation Accuracy: 94.72%\n",
      "Epoch [4/10], Step [30/199], Loss: 0.0947, Accuracy: 96.88%, Validation Accuracy: 94.03%\n",
      "Epoch [4/10], Step [40/199], Loss: 0.2790, Accuracy: 93.75%, Validation Accuracy: 94.15%\n",
      "Epoch [4/10], Step [50/199], Loss: 0.2556, Accuracy: 93.75%, Validation Accuracy: 93.90%\n",
      "Epoch [4/10], Step [60/199], Loss: 0.1426, Accuracy: 93.75%, Validation Accuracy: 95.41%\n",
      "Epoch [4/10], Step [70/199], Loss: 0.1317, Accuracy: 96.88%, Validation Accuracy: 93.40%\n",
      "Epoch [4/10], Step [80/199], Loss: 0.1444, Accuracy: 93.75%, Validation Accuracy: 93.97%\n",
      "Epoch [4/10], Step [90/199], Loss: 0.1371, Accuracy: 96.88%, Validation Accuracy: 96.35%\n",
      "Epoch [4/10], Step [100/199], Loss: 0.0994, Accuracy: 96.88%, Validation Accuracy: 96.04%\n",
      "Epoch [4/10], Step [110/199], Loss: 0.1901, Accuracy: 96.88%, Validation Accuracy: 95.98%\n",
      "Epoch [4/10], Step [120/199], Loss: 0.1115, Accuracy: 93.75%, Validation Accuracy: 95.47%\n",
      "Epoch [4/10], Step [130/199], Loss: 0.1544, Accuracy: 93.75%, Validation Accuracy: 95.98%\n",
      "Epoch [4/10], Step [140/199], Loss: 0.0256, Accuracy: 100.00%, Validation Accuracy: 96.48%\n",
      "Epoch [4/10], Step [150/199], Loss: 0.2314, Accuracy: 96.88%, Validation Accuracy: 96.35%\n",
      "Epoch [4/10], Step [160/199], Loss: 0.1609, Accuracy: 96.88%, Validation Accuracy: 96.86%\n",
      "Epoch [4/10], Step [170/199], Loss: 0.1459, Accuracy: 96.88%, Validation Accuracy: 96.23%\n",
      "Epoch [4/10], Step [180/199], Loss: 0.0853, Accuracy: 96.88%, Validation Accuracy: 94.97%\n",
      "Epoch [4/10], Step [190/199], Loss: 0.1800, Accuracy: 93.75%, Validation Accuracy: 95.66%\n",
      "Epoch [5/10], Step [10/199], Loss: 0.2772, Accuracy: 93.75%, Validation Accuracy: 96.61%\n",
      "Epoch [5/10], Step [20/199], Loss: 0.0582, Accuracy: 100.00%, Validation Accuracy: 96.17%\n",
      "Epoch [5/10], Step [30/199], Loss: 0.2923, Accuracy: 93.75%, Validation Accuracy: 95.85%\n",
      "Epoch [5/10], Step [40/199], Loss: 0.1116, Accuracy: 96.88%, Validation Accuracy: 97.05%\n",
      "Epoch [5/10], Step [50/199], Loss: 0.0266, Accuracy: 100.00%, Validation Accuracy: 95.79%\n",
      "Epoch [5/10], Step [60/199], Loss: 0.5067, Accuracy: 84.38%, Validation Accuracy: 96.98%\n",
      "Epoch [5/10], Step [70/199], Loss: 0.0708, Accuracy: 96.88%, Validation Accuracy: 95.60%\n",
      "Epoch [5/10], Step [80/199], Loss: 0.0192, Accuracy: 100.00%, Validation Accuracy: 96.48%\n",
      "Epoch [5/10], Step [90/199], Loss: 0.3051, Accuracy: 93.75%, Validation Accuracy: 93.27%\n",
      "Epoch [5/10], Step [100/199], Loss: 0.0965, Accuracy: 96.88%, Validation Accuracy: 95.16%\n",
      "Epoch [5/10], Step [110/199], Loss: 0.1136, Accuracy: 96.88%, Validation Accuracy: 96.48%\n",
      "Epoch [5/10], Step [120/199], Loss: 0.4647, Accuracy: 90.62%, Validation Accuracy: 96.17%\n",
      "Epoch [5/10], Step [130/199], Loss: 0.1475, Accuracy: 90.62%, Validation Accuracy: 95.35%\n",
      "Epoch [5/10], Step [140/199], Loss: 0.2427, Accuracy: 90.62%, Validation Accuracy: 96.92%\n",
      "Epoch [5/10], Step [150/199], Loss: 0.0753, Accuracy: 96.88%, Validation Accuracy: 94.15%\n",
      "Epoch [5/10], Step [160/199], Loss: 0.1050, Accuracy: 96.88%, Validation Accuracy: 95.73%\n",
      "Epoch [5/10], Step [170/199], Loss: 0.1023, Accuracy: 93.75%, Validation Accuracy: 96.04%\n",
      "Epoch [5/10], Step [180/199], Loss: 0.3002, Accuracy: 93.75%, Validation Accuracy: 95.60%\n",
      "Epoch [5/10], Step [190/199], Loss: 0.0691, Accuracy: 96.88%, Validation Accuracy: 93.65%\n",
      "Epoch [6/10], Step [10/199], Loss: 0.0803, Accuracy: 96.88%, Validation Accuracy: 93.46%\n",
      "Epoch [6/10], Step [20/199], Loss: 0.3259, Accuracy: 90.62%, Validation Accuracy: 97.11%\n",
      "Epoch [6/10], Step [30/199], Loss: 0.1719, Accuracy: 96.88%, Validation Accuracy: 96.61%\n",
      "Epoch [6/10], Step [40/199], Loss: 0.6286, Accuracy: 87.50%, Validation Accuracy: 96.61%\n",
      "Epoch [6/10], Step [50/199], Loss: 0.0481, Accuracy: 100.00%, Validation Accuracy: 96.54%\n",
      "Epoch [6/10], Step [60/199], Loss: 0.3182, Accuracy: 93.75%, Validation Accuracy: 96.61%\n",
      "Epoch [6/10], Step [70/199], Loss: 0.1652, Accuracy: 93.75%, Validation Accuracy: 96.42%\n",
      "Epoch [6/10], Step [80/199], Loss: 0.0820, Accuracy: 100.00%, Validation Accuracy: 96.17%\n",
      "Epoch [6/10], Step [90/199], Loss: 0.2851, Accuracy: 90.62%, Validation Accuracy: 96.61%\n",
      "Epoch [6/10], Step [100/199], Loss: 0.3164, Accuracy: 87.50%, Validation Accuracy: 95.85%\n",
      "Epoch [6/10], Step [110/199], Loss: 0.0850, Accuracy: 96.88%, Validation Accuracy: 96.86%\n",
      "Epoch [6/10], Step [120/199], Loss: 0.1630, Accuracy: 96.88%, Validation Accuracy: 95.98%\n",
      "Epoch [6/10], Step [130/199], Loss: 0.3998, Accuracy: 93.75%, Validation Accuracy: 96.92%\n",
      "Epoch [6/10], Step [140/199], Loss: 0.1209, Accuracy: 96.88%, Validation Accuracy: 95.22%\n",
      "Epoch [6/10], Step [150/199], Loss: 0.0846, Accuracy: 96.88%, Validation Accuracy: 97.49%\n",
      "Epoch [6/10], Step [160/199], Loss: 0.2147, Accuracy: 96.88%, Validation Accuracy: 95.29%\n",
      "Epoch [6/10], Step [170/199], Loss: 0.0667, Accuracy: 100.00%, Validation Accuracy: 94.09%\n",
      "Epoch [6/10], Step [180/199], Loss: 0.0574, Accuracy: 100.00%, Validation Accuracy: 96.67%\n",
      "Epoch [6/10], Step [190/199], Loss: 0.1299, Accuracy: 93.75%, Validation Accuracy: 97.17%\n",
      "Epoch [7/10], Step [10/199], Loss: 0.0489, Accuracy: 96.88%, Validation Accuracy: 97.49%\n",
      "Epoch [7/10], Step [20/199], Loss: 0.1412, Accuracy: 96.88%, Validation Accuracy: 95.35%\n",
      "Epoch [7/10], Step [30/199], Loss: 0.0067, Accuracy: 100.00%, Validation Accuracy: 96.92%\n",
      "Epoch [7/10], Step [40/199], Loss: 0.1970, Accuracy: 93.75%, Validation Accuracy: 97.17%\n",
      "Epoch [7/10], Step [50/199], Loss: 0.0240, Accuracy: 100.00%, Validation Accuracy: 97.05%\n",
      "Epoch [7/10], Step [60/199], Loss: 0.2813, Accuracy: 93.75%, Validation Accuracy: 96.61%\n",
      "Epoch [7/10], Step [70/199], Loss: 0.2867, Accuracy: 90.62%, Validation Accuracy: 96.54%\n",
      "Epoch [7/10], Step [80/199], Loss: 0.2280, Accuracy: 93.75%, Validation Accuracy: 96.67%\n",
      "Epoch [7/10], Step [90/199], Loss: 0.1585, Accuracy: 93.75%, Validation Accuracy: 96.92%\n",
      "Epoch [7/10], Step [100/199], Loss: 0.0986, Accuracy: 96.88%, Validation Accuracy: 96.73%\n",
      "Epoch [7/10], Step [110/199], Loss: 0.4567, Accuracy: 90.62%, Validation Accuracy: 97.55%\n",
      "Epoch [7/10], Step [120/199], Loss: 0.0964, Accuracy: 96.88%, Validation Accuracy: 97.74%\n",
      "Epoch [7/10], Step [130/199], Loss: 0.0422, Accuracy: 96.88%, Validation Accuracy: 97.55%\n",
      "Epoch [7/10], Step [140/199], Loss: 0.2673, Accuracy: 96.88%, Validation Accuracy: 96.86%\n",
      "Epoch [7/10], Step [150/199], Loss: 0.4995, Accuracy: 87.50%, Validation Accuracy: 94.09%\n",
      "Epoch [7/10], Step [160/199], Loss: 0.0293, Accuracy: 100.00%, Validation Accuracy: 97.11%\n",
      "Epoch [7/10], Step [170/199], Loss: 0.4295, Accuracy: 84.38%, Validation Accuracy: 97.55%\n",
      "Epoch [7/10], Step [180/199], Loss: 0.4295, Accuracy: 90.62%, Validation Accuracy: 97.36%\n",
      "Epoch [7/10], Step [190/199], Loss: 0.0447, Accuracy: 100.00%, Validation Accuracy: 96.73%\n",
      "Epoch [8/10], Step [10/199], Loss: 0.1963, Accuracy: 96.88%, Validation Accuracy: 97.93%\n",
      "Epoch [8/10], Step [20/199], Loss: 0.0159, Accuracy: 100.00%, Validation Accuracy: 97.93%\n",
      "Epoch [8/10], Step [30/199], Loss: 0.0822, Accuracy: 96.88%, Validation Accuracy: 97.55%\n",
      "Epoch [8/10], Step [40/199], Loss: 0.0764, Accuracy: 100.00%, Validation Accuracy: 96.04%\n",
      "Epoch [8/10], Step [50/199], Loss: 0.2728, Accuracy: 90.62%, Validation Accuracy: 97.67%\n",
      "Epoch [8/10], Step [60/199], Loss: 0.2118, Accuracy: 93.75%, Validation Accuracy: 95.79%\n",
      "Epoch [8/10], Step [70/199], Loss: 0.5429, Accuracy: 90.62%, Validation Accuracy: 98.05%\n",
      "Epoch [8/10], Step [80/199], Loss: 0.0947, Accuracy: 96.88%, Validation Accuracy: 96.79%\n",
      "Epoch [8/10], Step [90/199], Loss: 0.6189, Accuracy: 90.62%, Validation Accuracy: 97.67%\n",
      "Epoch [8/10], Step [100/199], Loss: 0.0027, Accuracy: 100.00%, Validation Accuracy: 98.18%\n",
      "Epoch [8/10], Step [110/199], Loss: 0.0901, Accuracy: 96.88%, Validation Accuracy: 96.92%\n",
      "Epoch [8/10], Step [120/199], Loss: 0.0997, Accuracy: 93.75%, Validation Accuracy: 96.92%\n",
      "Epoch [8/10], Step [130/199], Loss: 0.0529, Accuracy: 96.88%, Validation Accuracy: 97.74%\n",
      "Epoch [8/10], Step [140/199], Loss: 0.1699, Accuracy: 93.75%, Validation Accuracy: 96.17%\n",
      "Epoch [8/10], Step [150/199], Loss: 0.2504, Accuracy: 90.62%, Validation Accuracy: 95.98%\n",
      "Epoch [8/10], Step [160/199], Loss: 0.0646, Accuracy: 96.88%, Validation Accuracy: 96.17%\n",
      "Epoch [8/10], Step [170/199], Loss: 0.0471, Accuracy: 100.00%, Validation Accuracy: 93.65%\n",
      "Epoch [8/10], Step [180/199], Loss: 0.0297, Accuracy: 100.00%, Validation Accuracy: 96.73%\n",
      "Epoch [8/10], Step [190/199], Loss: 0.0288, Accuracy: 100.00%, Validation Accuracy: 97.30%\n",
      "Epoch [9/10], Step [10/199], Loss: 0.2771, Accuracy: 87.50%, Validation Accuracy: 96.98%\n",
      "Epoch [9/10], Step [20/199], Loss: 0.0349, Accuracy: 100.00%, Validation Accuracy: 97.55%\n",
      "Epoch [9/10], Step [30/199], Loss: 0.0655, Accuracy: 96.88%, Validation Accuracy: 96.42%\n",
      "Epoch [9/10], Step [40/199], Loss: 0.1091, Accuracy: 96.88%, Validation Accuracy: 97.23%\n",
      "Epoch [9/10], Step [50/199], Loss: 0.1301, Accuracy: 93.75%, Validation Accuracy: 97.17%\n",
      "Epoch [9/10], Step [60/199], Loss: 0.9349, Accuracy: 90.62%, Validation Accuracy: 95.60%\n",
      "Epoch [9/10], Step [70/199], Loss: 0.0250, Accuracy: 100.00%, Validation Accuracy: 96.98%\n",
      "Epoch [9/10], Step [80/199], Loss: 0.5506, Accuracy: 90.62%, Validation Accuracy: 96.29%\n",
      "Epoch [9/10], Step [90/199], Loss: 0.0674, Accuracy: 96.88%, Validation Accuracy: 97.93%\n",
      "Epoch [9/10], Step [100/199], Loss: 0.0505, Accuracy: 100.00%, Validation Accuracy: 96.79%\n",
      "Epoch [9/10], Step [110/199], Loss: 0.0036, Accuracy: 100.00%, Validation Accuracy: 97.11%\n",
      "Epoch [9/10], Step [120/199], Loss: 0.2074, Accuracy: 96.88%, Validation Accuracy: 96.23%\n",
      "Epoch [9/10], Step [130/199], Loss: 0.2101, Accuracy: 96.88%, Validation Accuracy: 98.05%\n",
      "Epoch [9/10], Step [140/199], Loss: 0.0013, Accuracy: 100.00%, Validation Accuracy: 98.18%\n",
      "Epoch [9/10], Step [150/199], Loss: 0.3803, Accuracy: 84.38%, Validation Accuracy: 97.36%\n",
      "Epoch [9/10], Step [160/199], Loss: 0.2001, Accuracy: 90.62%, Validation Accuracy: 95.60%\n",
      "Epoch [9/10], Step [170/199], Loss: 0.0017, Accuracy: 100.00%, Validation Accuracy: 98.11%\n",
      "Epoch [9/10], Step [180/199], Loss: 0.0346, Accuracy: 100.00%, Validation Accuracy: 96.10%\n",
      "Epoch [9/10], Step [190/199], Loss: 0.0474, Accuracy: 100.00%, Validation Accuracy: 96.86%\n",
      "Epoch [10/10], Step [10/199], Loss: 0.1138, Accuracy: 96.88%, Validation Accuracy: 97.11%\n",
      "Epoch [10/10], Step [20/199], Loss: 0.1041, Accuracy: 96.88%, Validation Accuracy: 95.79%\n",
      "Epoch [10/10], Step [30/199], Loss: 0.0722, Accuracy: 93.75%, Validation Accuracy: 96.42%\n",
      "Epoch [10/10], Step [40/199], Loss: 0.0065, Accuracy: 100.00%, Validation Accuracy: 95.91%\n",
      "Epoch [10/10], Step [50/199], Loss: 0.1007, Accuracy: 96.88%, Validation Accuracy: 97.17%\n",
      "Epoch [10/10], Step [60/199], Loss: 0.5818, Accuracy: 93.75%, Validation Accuracy: 97.55%\n",
      "Epoch [10/10], Step [70/199], Loss: 0.1324, Accuracy: 93.75%, Validation Accuracy: 97.36%\n",
      "Epoch [10/10], Step [80/199], Loss: 0.0330, Accuracy: 100.00%, Validation Accuracy: 96.92%\n",
      "Epoch [10/10], Step [90/199], Loss: 0.0456, Accuracy: 100.00%, Validation Accuracy: 97.42%\n",
      "Epoch [10/10], Step [100/199], Loss: 0.1189, Accuracy: 93.75%, Validation Accuracy: 96.98%\n",
      "Epoch [10/10], Step [110/199], Loss: 0.2208, Accuracy: 93.75%, Validation Accuracy: 93.84%\n",
      "Epoch [10/10], Step [120/199], Loss: 0.1997, Accuracy: 93.75%, Validation Accuracy: 96.04%\n",
      "Epoch [10/10], Step [130/199], Loss: 0.4242, Accuracy: 87.50%, Validation Accuracy: 96.17%\n",
      "Epoch [10/10], Step [140/199], Loss: 0.3422, Accuracy: 93.75%, Validation Accuracy: 97.17%\n",
      "Epoch [10/10], Step [150/199], Loss: 0.1003, Accuracy: 96.88%, Validation Accuracy: 94.78%\n",
      "Epoch [10/10], Step [160/199], Loss: 0.0625, Accuracy: 96.88%, Validation Accuracy: 95.79%\n",
      "Epoch [10/10], Step [170/199], Loss: 0.0406, Accuracy: 96.88%, Validation Accuracy: 97.23%\n",
      "Epoch [10/10], Step [180/199], Loss: 0.0440, Accuracy: 100.00%, Validation Accuracy: 96.17%\n",
      "Epoch [10/10], Step [190/199], Loss: 0.2028, Accuracy: 90.62%, Validation Accuracy: 96.86%\n",
      "######## Training Finished in 4024.2876806259155 seconds ###########\n",
      "/n/n Saving model at:  /kaggle/working/vgg11model_d2.pt\n"
     ]
    }
   ],
   "source": [
    "model_savepath = savepath+\"vgg11model_d2.pt\"\n",
    "results_savepath = savepath+\"vgg11model_d2_results.pkb\"\n",
    "\n",
    "trained_VGG11_model, device = train_model(VGG11_model, num_epochs, train_loader, criterion, optimizer, model_savepath, results_savepath, device)"
   ]
  },
  {
   "cell_type": "code",
   "execution_count": 55,
   "metadata": {
    "colab": {
     "base_uri": "https://localhost:8080/"
    },
    "execution": {
     "iopub.execute_input": "2022-11-25T09:50:17.433333Z",
     "iopub.status.busy": "2022-11-25T09:50:17.432605Z",
     "iopub.status.idle": "2022-11-25T09:50:26.870667Z",
     "shell.execute_reply": "2022-11-25T09:50:26.869511Z",
     "shell.execute_reply.started": "2022-11-25T09:50:17.433292Z"
    },
    "id": "EOfbMdw1-auq",
    "outputId": "a16b9595-dc65-48ac-d35e-e194d2d69526"
   },
   "outputs": [
    {
     "name": "stdout",
     "output_type": "stream",
     "text": [
      "Model Evaluation Results on 1228 test samples\n",
      "Test Accuracy:  95.11400651465797\n",
      "Test F1 Score:  tensor(0.9511)\n",
      "Test Precision & Recall: (tensor(0.9397), tensor(0.9455))\n",
      "Test AUC score: tensor(0.0644)\n"
     ]
    }
   ],
   "source": [
    "evaluate_model(trained_VGG11_model, test_loader, device, nclasses)"
   ]
  },
  {
   "cell_type": "code",
   "execution_count": null,
   "metadata": {
    "id": "WcpBBX-j-j25"
   },
   "outputs": [],
   "source": []
  },
  {
   "cell_type": "markdown",
   "metadata": {
    "id": "gE0rLx9_-kGI"
   },
   "source": [
    "on dataset 3:"
   ]
  },
  {
   "cell_type": "code",
   "execution_count": 56,
   "metadata": {
    "execution": {
     "iopub.execute_input": "2022-11-13T18:14:05.649712Z",
     "iopub.status.busy": "2022-11-13T18:14:05.649287Z",
     "iopub.status.idle": "2022-11-13T18:14:05.655585Z",
     "shell.execute_reply": "2022-11-13T18:14:05.654278Z",
     "shell.execute_reply.started": "2022-11-13T18:14:05.649679Z"
    },
    "id": "bWfOdWWvN-wD"
   },
   "outputs": [],
   "source": [
    "nclasses=8"
   ]
  },
  {
   "cell_type": "code",
   "execution_count": 57,
   "metadata": {
    "colab": {
     "base_uri": "https://localhost:8080/"
    },
    "execution": {
     "iopub.execute_input": "2022-11-13T18:14:06.036590Z",
     "iopub.status.busy": "2022-11-13T18:14:06.035829Z",
     "iopub.status.idle": "2022-11-13T18:14:08.100261Z",
     "shell.execute_reply": "2022-11-13T18:14:08.099139Z",
     "shell.execute_reply.started": "2022-11-13T18:14:06.036552Z"
    },
    "id": "u5mLp8L_-kGI",
    "outputId": "951f1c94-00e1-457f-c405-b8f7b9fc52e4"
   },
   "outputs": [
    {
     "name": "stderr",
     "output_type": "stream",
     "text": [
      "Using cache found in /root/.cache/torch/hub/pytorch_vision_v0.10.0\n"
     ]
    }
   ],
   "source": [
    "VGG11_model = torch.hub.load('pytorch/vision:v0.10.0', 'vgg11', pretrained=False)"
   ]
  },
  {
   "cell_type": "code",
   "execution_count": 58,
   "metadata": {
    "execution": {
     "iopub.execute_input": "2022-11-13T18:14:08.102798Z",
     "iopub.status.busy": "2022-11-13T18:14:08.102394Z",
     "iopub.status.idle": "2022-11-13T18:14:08.109247Z",
     "shell.execute_reply": "2022-11-13T18:14:08.107985Z",
     "shell.execute_reply.started": "2022-11-13T18:14:08.102762Z"
    },
    "id": "6Zx3OReu-kGI"
   },
   "outputs": [],
   "source": [
    "prev_out = VGG11_model.classifier[3].out_features\n",
    "VGG11_model.classifier[6] = nn.Linear( prev_out, nclasses)"
   ]
  },
  {
   "cell_type": "code",
   "execution_count": 59,
   "metadata": {
    "execution": {
     "iopub.execute_input": "2022-11-13T18:14:08.111191Z",
     "iopub.status.busy": "2022-11-13T18:14:08.110795Z",
     "iopub.status.idle": "2022-11-13T18:14:08.121309Z",
     "shell.execute_reply": "2022-11-13T18:14:08.120437Z",
     "shell.execute_reply.started": "2022-11-13T18:14:08.111152Z"
    },
    "id": "FgN9LW3w-kGI"
   },
   "outputs": [],
   "source": [
    "optimizer = torch.optim.Adam(VGG11_model.parameters(), lr=learning_rate) "
   ]
  },
  {
   "cell_type": "code",
   "execution_count": 60,
   "metadata": {
    "execution": {
     "iopub.execute_input": "2022-11-13T18:14:08.391930Z",
     "iopub.status.busy": "2022-11-13T18:14:08.391558Z",
     "iopub.status.idle": "2022-11-13T18:14:13.405757Z",
     "shell.execute_reply": "2022-11-13T18:14:13.404554Z",
     "shell.execute_reply.started": "2022-11-13T18:14:08.391884Z"
    },
    "id": "kanuR4xY-kGJ"
   },
   "outputs": [],
   "source": [
    "path_train = path_dataset3+\"Train/\"\n",
    "path_test = path_dataset3+\"Test/\"\n",
    "val_split = 0.2\n",
    "batch_size = 32\n",
    "input_size = (224,224)\n",
    "\n",
    "train_loader, test_loader, val_loader, mappings = load_data(path_train, val_split, path_test, batch_size, input_size)"
   ]
  },
  {
   "cell_type": "code",
   "execution_count": null,
   "metadata": {
    "colab": {
     "base_uri": "https://localhost:8080/"
    },
    "execution": {
     "iopub.execute_input": "2022-11-13T18:14:13.408921Z",
     "iopub.status.busy": "2022-11-13T18:14:13.408206Z",
     "iopub.status.idle": "2022-11-13T18:14:13.559846Z",
     "shell.execute_reply": "2022-11-13T18:14:13.558851Z",
     "shell.execute_reply.started": "2022-11-13T18:14:13.408879Z"
    },
    "id": "lyER9EeNVpfa",
    "outputId": "7ee32ca0-13d5-4538-92c0-f1d9d3e55fd7"
   },
   "outputs": [
    {
     "name": "stdout",
     "output_type": "stream",
     "text": [
      "Device: cuda:0\n"
     ]
    }
   ],
   "source": [
    "device = torch.device(\"cuda:0\" if torch.cuda.is_available() else \"cpu\")\n",
    "print(\"Device: {}\".format(device))\n",
    "x = VGG11_model.to(device)"
   ]
  },
  {
   "cell_type": "code",
   "execution_count": null,
   "metadata": {
    "colab": {
     "base_uri": "https://localhost:8080/"
    },
    "execution": {
     "iopub.execute_input": "2022-11-13T18:14:16.754434Z",
     "iopub.status.busy": "2022-11-13T18:14:16.754032Z",
     "iopub.status.idle": "2022-11-13T18:14:16.774667Z",
     "shell.execute_reply": "2022-11-13T18:14:16.773502Z",
     "shell.execute_reply.started": "2022-11-13T18:14:16.754400Z"
    },
    "id": "ETbofcER9kc0",
    "outputId": "ed4b6d87-675f-40e4-9636-3c3e9b7af15f"
   },
   "outputs": [
    {
     "name": "stdout",
     "output_type": "stream",
     "text": [
      "Class: 1 has samples: 2213 \n",
      "Class: 5 has samples: 1853 \n",
      "Class: 7 has samples: 1433 \n",
      "Class: 2 has samples: 2243 \n",
      "Class: 3 has samples: 1413 \n",
      "Class: 4 has samples: 1973 \n",
      "Class: 9 has samples: 1463 \n",
      "Class: 8 has samples: 1403 \n",
      "\n",
      "Total number of samples:  13994\n",
      "\n",
      "Time taken: 0.15865254402160645\n"
     ]
    }
   ],
   "source": [
    "class_weights = get_class_weights(path_train, mappings)\n",
    "\n",
    "class_weights = torch.FloatTensor(class_weights)\n",
    "class_weights = class_weights.to(device)\n",
    "\n",
    "criterion = get_criterion(class_weights)"
   ]
  },
  {
   "cell_type": "code",
   "execution_count": null,
   "metadata": {
    "colab": {
     "base_uri": "https://localhost:8080/"
    },
    "execution": {
     "iopub.execute_input": "2022-11-13T18:14:21.280257Z",
     "iopub.status.busy": "2022-11-13T18:14:21.278926Z",
     "iopub.status.idle": "2022-11-13T18:14:21.555204Z",
     "shell.execute_reply": "2022-11-13T18:14:21.553791Z",
     "shell.execute_reply.started": "2022-11-13T18:14:21.280209Z"
    },
    "id": "U0-mcNJ--kGJ",
    "outputId": "2e704686-b201-4666-a7b7-6616b1681208"
   },
   "outputs": [
    {
     "name": "stdout",
     "output_type": "stream",
     "text": [
      "Epoch [1/10], Step [10/350], Loss: 2.0727, Accuracy: 28.12%, Validation Accuracy: 15.30%\n",
      "Epoch [1/10], Step [20/350], Loss: 2.0566, Accuracy: 9.38%, Validation Accuracy: 16.48%\n",
      "Epoch [1/10], Step [30/350], Loss: 2.0608, Accuracy: 12.50%, Validation Accuracy: 13.58%\n",
      "Epoch [1/10], Step [40/350], Loss: 2.0757, Accuracy: 9.38%, Validation Accuracy: 18.01%\n",
      "Epoch [1/10], Step [50/350], Loss: 2.0853, Accuracy: 6.25%, Validation Accuracy: 15.30%\n",
      "Epoch [1/10], Step [60/350], Loss: 2.0770, Accuracy: 25.00%, Validation Accuracy: 16.48%\n",
      "Epoch [1/10], Step [70/350], Loss: 2.0321, Accuracy: 15.62%, Validation Accuracy: 15.30%\n",
      "Epoch [1/10], Step [80/350], Loss: 2.0804, Accuracy: 6.25%, Validation Accuracy: 15.30%\n",
      "Epoch [1/10], Step [90/350], Loss: 2.0162, Accuracy: 28.12%, Validation Accuracy: 15.30%\n",
      "Epoch [1/10], Step [100/350], Loss: 2.1865, Accuracy: 6.25%, Validation Accuracy: 16.55%\n",
      "Epoch [1/10], Step [110/350], Loss: 2.0735, Accuracy: 25.00%, Validation Accuracy: 15.30%\n",
      "Epoch [1/10], Step [120/350], Loss: 1.9665, Accuracy: 25.00%, Validation Accuracy: 16.48%\n",
      "Epoch [1/10], Step [130/350], Loss: 2.0185, Accuracy: 25.00%, Validation Accuracy: 15.30%\n",
      "Epoch [1/10], Step [140/350], Loss: 1.9074, Accuracy: 34.38%, Validation Accuracy: 15.30%\n",
      "Epoch [1/10], Step [150/350], Loss: 2.0708, Accuracy: 28.12%, Validation Accuracy: 12.40%\n",
      "Epoch [1/10], Step [160/350], Loss: 2.1026, Accuracy: 15.62%, Validation Accuracy: 16.58%\n",
      "Epoch [1/10], Step [170/350], Loss: 2.0374, Accuracy: 28.12%, Validation Accuracy: 13.97%\n",
      "Epoch [1/10], Step [180/350], Loss: 2.0463, Accuracy: 21.88%, Validation Accuracy: 15.30%\n",
      "Epoch [1/10], Step [190/350], Loss: 2.0693, Accuracy: 12.50%, Validation Accuracy: 15.30%\n",
      "Epoch [1/10], Step [200/350], Loss: 1.9574, Accuracy: 21.88%, Validation Accuracy: 17.69%\n",
      "Epoch [1/10], Step [210/350], Loss: 2.0277, Accuracy: 21.88%, Validation Accuracy: 12.15%\n",
      "Epoch [1/10], Step [220/350], Loss: 2.0554, Accuracy: 15.62%, Validation Accuracy: 12.15%\n",
      "Epoch [1/10], Step [230/350], Loss: 2.0863, Accuracy: 3.12%, Validation Accuracy: 16.23%\n",
      "Epoch [1/10], Step [240/350], Loss: 2.0539, Accuracy: 18.75%, Validation Accuracy: 16.48%\n",
      "Epoch [1/10], Step [250/350], Loss: 1.9951, Accuracy: 18.75%, Validation Accuracy: 13.55%\n",
      "Epoch [1/10], Step [260/350], Loss: 2.0201, Accuracy: 18.75%, Validation Accuracy: 15.12%\n",
      "Epoch [1/10], Step [270/350], Loss: 1.9938, Accuracy: 12.50%, Validation Accuracy: 19.66%\n",
      "Epoch [1/10], Step [280/350], Loss: 2.0848, Accuracy: 15.62%, Validation Accuracy: 18.44%\n",
      "Epoch [1/10], Step [290/350], Loss: 2.0722, Accuracy: 12.50%, Validation Accuracy: 12.15%\n",
      "Epoch [1/10], Step [300/350], Loss: 2.0689, Accuracy: 18.75%, Validation Accuracy: 18.83%\n",
      "Epoch [1/10], Step [310/350], Loss: 2.0699, Accuracy: 21.88%, Validation Accuracy: 19.16%\n",
      "Epoch [1/10], Step [320/350], Loss: 2.0541, Accuracy: 21.88%, Validation Accuracy: 17.91%\n",
      "Epoch [1/10], Step [330/350], Loss: 1.9924, Accuracy: 21.88%, Validation Accuracy: 20.19%\n",
      "Epoch [1/10], Step [340/350], Loss: 2.0291, Accuracy: 12.50%, Validation Accuracy: 21.44%\n",
      "Epoch [1/10], Step [350/350], Loss: 2.0077, Accuracy: 10.71%, Validation Accuracy: 19.23%\n",
      "Epoch [2/10], Step [10/350], Loss: 1.9493, Accuracy: 25.00%, Validation Accuracy: 17.66%\n",
      "Epoch [2/10], Step [20/350], Loss: 2.1330, Accuracy: 12.50%, Validation Accuracy: 17.91%\n",
      "Epoch [2/10], Step [30/350], Loss: 2.0725, Accuracy: 25.00%, Validation Accuracy: 19.23%\n",
      "Epoch [2/10], Step [40/350], Loss: 2.0374, Accuracy: 12.50%, Validation Accuracy: 19.44%\n",
      "Epoch [2/10], Step [50/350], Loss: 2.0864, Accuracy: 25.00%, Validation Accuracy: 17.48%\n",
      "Epoch [2/10], Step [60/350], Loss: 1.9585, Accuracy: 31.25%, Validation Accuracy: 21.66%\n",
      "Epoch [2/10], Step [70/350], Loss: 1.9996, Accuracy: 15.62%, Validation Accuracy: 16.94%\n",
      "Epoch [2/10], Step [80/350], Loss: 2.0285, Accuracy: 25.00%, Validation Accuracy: 18.58%\n",
      "Epoch [2/10], Step [90/350], Loss: 1.9865, Accuracy: 21.88%, Validation Accuracy: 21.91%\n",
      "Epoch [2/10], Step [100/350], Loss: 1.9918, Accuracy: 21.88%, Validation Accuracy: 23.09%\n",
      "Epoch [2/10], Step [110/350], Loss: 1.9542, Accuracy: 15.62%, Validation Accuracy: 23.41%\n",
      "Epoch [2/10], Step [120/350], Loss: 1.8550, Accuracy: 25.00%, Validation Accuracy: 18.76%\n",
      "Epoch [2/10], Step [130/350], Loss: 1.9703, Accuracy: 25.00%, Validation Accuracy: 23.70%\n",
      "Epoch [2/10], Step [140/350], Loss: 1.9887, Accuracy: 21.88%, Validation Accuracy: 22.84%\n",
      "Epoch [2/10], Step [150/350], Loss: 1.9217, Accuracy: 18.75%, Validation Accuracy: 18.94%\n",
      "Epoch [2/10], Step [160/350], Loss: 1.8991, Accuracy: 28.12%, Validation Accuracy: 21.55%\n",
      "Epoch [2/10], Step [170/350], Loss: 1.8274, Accuracy: 34.38%, Validation Accuracy: 21.98%\n",
      "Epoch [2/10], Step [180/350], Loss: 2.0010, Accuracy: 21.88%, Validation Accuracy: 21.66%\n",
      "Epoch [2/10], Step [190/350], Loss: 1.9195, Accuracy: 21.88%, Validation Accuracy: 20.16%\n",
      "Epoch [2/10], Step [200/350], Loss: 2.0795, Accuracy: 18.75%, Validation Accuracy: 19.69%\n",
      "Epoch [2/10], Step [210/350], Loss: 1.9311, Accuracy: 34.38%, Validation Accuracy: 21.87%\n",
      "Epoch [2/10], Step [220/350], Loss: 1.9637, Accuracy: 18.75%, Validation Accuracy: 21.37%\n",
      "Epoch [2/10], Step [230/350], Loss: 2.0029, Accuracy: 31.25%, Validation Accuracy: 19.48%\n",
      "Epoch [2/10], Step [240/350], Loss: 2.1071, Accuracy: 18.75%, Validation Accuracy: 21.91%\n",
      "Epoch [2/10], Step [250/350], Loss: 1.9849, Accuracy: 28.12%, Validation Accuracy: 21.87%\n",
      "Epoch [2/10], Step [260/350], Loss: 1.8706, Accuracy: 18.75%, Validation Accuracy: 22.44%\n",
      "Epoch [2/10], Step [270/350], Loss: 1.9298, Accuracy: 15.62%, Validation Accuracy: 20.26%\n",
      "Epoch [2/10], Step [280/350], Loss: 2.0774, Accuracy: 25.00%, Validation Accuracy: 22.44%\n",
      "Epoch [2/10], Step [290/350], Loss: 1.9624, Accuracy: 15.62%, Validation Accuracy: 21.19%\n",
      "Epoch [2/10], Step [300/350], Loss: 1.8373, Accuracy: 31.25%, Validation Accuracy: 20.73%\n",
      "Epoch [2/10], Step [310/350], Loss: 1.9834, Accuracy: 15.62%, Validation Accuracy: 22.37%\n",
      "Epoch [2/10], Step [320/350], Loss: 2.1118, Accuracy: 15.62%, Validation Accuracy: 22.48%\n",
      "Epoch [2/10], Step [330/350], Loss: 1.9971, Accuracy: 25.00%, Validation Accuracy: 24.48%\n",
      "Epoch [2/10], Step [340/350], Loss: 1.9115, Accuracy: 18.75%, Validation Accuracy: 25.70%\n",
      "Epoch [2/10], Step [350/350], Loss: 1.8993, Accuracy: 32.14%, Validation Accuracy: 25.73%\n",
      "Epoch [3/10], Step [10/350], Loss: 2.0458, Accuracy: 9.38%, Validation Accuracy: 24.55%\n",
      "Epoch [3/10], Step [20/350], Loss: 1.9003, Accuracy: 34.38%, Validation Accuracy: 26.91%\n",
      "Epoch [3/10], Step [30/350], Loss: 1.7884, Accuracy: 34.38%, Validation Accuracy: 28.59%\n",
      "Epoch [3/10], Step [40/350], Loss: 1.8072, Accuracy: 25.00%, Validation Accuracy: 26.41%\n",
      "Epoch [3/10], Step [50/350], Loss: 1.6341, Accuracy: 40.62%, Validation Accuracy: 29.02%\n",
      "Epoch [3/10], Step [60/350], Loss: 1.7820, Accuracy: 34.38%, Validation Accuracy: 29.88%\n",
      "Epoch [3/10], Step [70/350], Loss: 1.9745, Accuracy: 34.38%, Validation Accuracy: 27.91%\n",
      "Epoch [3/10], Step [80/350], Loss: 1.8547, Accuracy: 21.88%, Validation Accuracy: 26.77%\n",
      "Epoch [3/10], Step [90/350], Loss: 1.7125, Accuracy: 40.62%, Validation Accuracy: 30.16%\n",
      "Epoch [3/10], Step [100/350], Loss: 1.5930, Accuracy: 40.62%, Validation Accuracy: 32.95%\n",
      "Epoch [3/10], Step [110/350], Loss: 1.7945, Accuracy: 28.12%, Validation Accuracy: 30.91%\n",
      "Epoch [3/10], Step [120/350], Loss: 1.9983, Accuracy: 21.88%, Validation Accuracy: 26.95%\n",
      "Epoch [3/10], Step [130/350], Loss: 1.7638, Accuracy: 37.50%, Validation Accuracy: 27.31%\n",
      "Epoch [3/10], Step [140/350], Loss: 1.9347, Accuracy: 21.88%, Validation Accuracy: 29.34%\n",
      "Epoch [3/10], Step [150/350], Loss: 1.8324, Accuracy: 25.00%, Validation Accuracy: 30.45%\n",
      "Epoch [3/10], Step [160/350], Loss: 1.7066, Accuracy: 43.75%, Validation Accuracy: 33.17%\n",
      "Epoch [3/10], Step [170/350], Loss: 1.8546, Accuracy: 21.88%, Validation Accuracy: 34.20%\n",
      "Epoch [3/10], Step [180/350], Loss: 1.6295, Accuracy: 31.25%, Validation Accuracy: 31.45%\n",
      "Epoch [3/10], Step [190/350], Loss: 1.6461, Accuracy: 18.75%, Validation Accuracy: 31.84%\n",
      "Epoch [3/10], Step [200/350], Loss: 1.7575, Accuracy: 31.25%, Validation Accuracy: 31.70%\n",
      "Epoch [3/10], Step [210/350], Loss: 1.4268, Accuracy: 46.88%, Validation Accuracy: 35.63%\n",
      "Epoch [3/10], Step [220/350], Loss: 1.5993, Accuracy: 40.62%, Validation Accuracy: 32.63%\n",
      "Epoch [3/10], Step [230/350], Loss: 1.5919, Accuracy: 34.38%, Validation Accuracy: 35.42%\n",
      "Epoch [3/10], Step [240/350], Loss: 1.7026, Accuracy: 28.12%, Validation Accuracy: 37.96%\n",
      "Epoch [3/10], Step [250/350], Loss: 1.6841, Accuracy: 31.25%, Validation Accuracy: 36.92%\n",
      "Epoch [3/10], Step [260/350], Loss: 1.8712, Accuracy: 31.25%, Validation Accuracy: 39.78%\n",
      "Epoch [3/10], Step [270/350], Loss: 1.6503, Accuracy: 43.75%, Validation Accuracy: 35.56%\n",
      "Epoch [3/10], Step [280/350], Loss: 1.6944, Accuracy: 37.50%, Validation Accuracy: 38.35%\n",
      "Epoch [3/10], Step [290/350], Loss: 1.7237, Accuracy: 12.50%, Validation Accuracy: 37.85%\n",
      "Epoch [3/10], Step [300/350], Loss: 1.5768, Accuracy: 40.62%, Validation Accuracy: 40.49%\n",
      "Epoch [3/10], Step [310/350], Loss: 1.6531, Accuracy: 43.75%, Validation Accuracy: 39.10%\n",
      "Epoch [3/10], Step [320/350], Loss: 1.7441, Accuracy: 21.88%, Validation Accuracy: 39.92%\n",
      "Epoch [3/10], Step [330/350], Loss: 1.6503, Accuracy: 43.75%, Validation Accuracy: 41.32%\n",
      "Epoch [3/10], Step [340/350], Loss: 2.2314, Accuracy: 18.75%, Validation Accuracy: 35.81%\n",
      "Epoch [3/10], Step [350/350], Loss: 1.7252, Accuracy: 28.57%, Validation Accuracy: 41.28%\n",
      "Epoch [4/10], Step [10/350], Loss: 1.3514, Accuracy: 56.25%, Validation Accuracy: 42.21%\n",
      "Epoch [4/10], Step [20/350], Loss: 1.3829, Accuracy: 46.88%, Validation Accuracy: 42.85%\n",
      "Epoch [4/10], Step [30/350], Loss: 1.4700, Accuracy: 37.50%, Validation Accuracy: 42.67%\n",
      "Epoch [4/10], Step [40/350], Loss: 1.4631, Accuracy: 37.50%, Validation Accuracy: 48.43%\n",
      "Epoch [4/10], Step [50/350], Loss: 1.0679, Accuracy: 68.75%, Validation Accuracy: 48.43%\n",
      "Epoch [4/10], Step [60/350], Loss: 1.4119, Accuracy: 46.88%, Validation Accuracy: 46.46%\n",
      "Epoch [4/10], Step [70/350], Loss: 1.3120, Accuracy: 50.00%, Validation Accuracy: 45.03%\n",
      "Epoch [4/10], Step [80/350], Loss: 1.3688, Accuracy: 53.12%, Validation Accuracy: 43.75%\n",
      "Epoch [4/10], Step [90/350], Loss: 1.4455, Accuracy: 34.38%, Validation Accuracy: 46.93%\n",
      "Epoch [4/10], Step [100/350], Loss: 1.4302, Accuracy: 34.38%, Validation Accuracy: 49.07%\n",
      "Epoch [4/10], Step [110/350], Loss: 0.8657, Accuracy: 71.88%, Validation Accuracy: 49.18%\n",
      "Epoch [4/10], Step [120/350], Loss: 1.1022, Accuracy: 56.25%, Validation Accuracy: 51.47%\n",
      "Epoch [4/10], Step [130/350], Loss: 1.4628, Accuracy: 46.88%, Validation Accuracy: 52.86%\n",
      "Epoch [4/10], Step [140/350], Loss: 1.5077, Accuracy: 50.00%, Validation Accuracy: 53.47%\n",
      "Epoch [4/10], Step [150/350], Loss: 1.5170, Accuracy: 37.50%, Validation Accuracy: 54.79%\n",
      "Epoch [4/10], Step [160/350], Loss: 1.7112, Accuracy: 37.50%, Validation Accuracy: 52.79%\n",
      "Epoch [4/10], Step [170/350], Loss: 1.2226, Accuracy: 50.00%, Validation Accuracy: 53.18%\n",
      "Epoch [4/10], Step [180/350], Loss: 1.4187, Accuracy: 46.88%, Validation Accuracy: 54.07%\n",
      "Epoch [4/10], Step [190/350], Loss: 1.2815, Accuracy: 50.00%, Validation Accuracy: 56.11%\n",
      "Epoch [4/10], Step [200/350], Loss: 1.1295, Accuracy: 50.00%, Validation Accuracy: 58.79%\n",
      "Epoch [4/10], Step [210/350], Loss: 1.2169, Accuracy: 53.12%, Validation Accuracy: 58.22%\n",
      "Epoch [4/10], Step [220/350], Loss: 1.0941, Accuracy: 53.12%, Validation Accuracy: 57.15%\n",
      "Epoch [4/10], Step [230/350], Loss: 1.1501, Accuracy: 46.88%, Validation Accuracy: 54.65%\n",
      "Epoch [4/10], Step [240/350], Loss: 0.9889, Accuracy: 59.38%, Validation Accuracy: 57.01%\n",
      "Epoch [4/10], Step [250/350], Loss: 1.3513, Accuracy: 46.88%, Validation Accuracy: 56.25%\n",
      "Epoch [4/10], Step [260/350], Loss: 1.0720, Accuracy: 59.38%, Validation Accuracy: 58.58%\n",
      "Epoch [4/10], Step [270/350], Loss: 0.9855, Accuracy: 46.88%, Validation Accuracy: 58.04%\n",
      "Epoch [4/10], Step [280/350], Loss: 1.2486, Accuracy: 53.12%, Validation Accuracy: 59.40%\n",
      "Epoch [4/10], Step [290/350], Loss: 0.9912, Accuracy: 53.12%, Validation Accuracy: 59.19%\n",
      "Epoch [4/10], Step [300/350], Loss: 0.9598, Accuracy: 59.38%, Validation Accuracy: 59.15%\n",
      "Epoch [4/10], Step [310/350], Loss: 1.0434, Accuracy: 65.62%, Validation Accuracy: 61.54%\n",
      "Epoch [4/10], Step [320/350], Loss: 1.1793, Accuracy: 65.62%, Validation Accuracy: 59.94%\n",
      "Epoch [4/10], Step [330/350], Loss: 0.8905, Accuracy: 75.00%, Validation Accuracy: 59.54%\n",
      "Epoch [4/10], Step [340/350], Loss: 1.2729, Accuracy: 56.25%, Validation Accuracy: 60.61%\n",
      "Epoch [4/10], Step [350/350], Loss: 0.7545, Accuracy: 78.57%, Validation Accuracy: 63.58%\n",
      "Epoch [5/10], Step [10/350], Loss: 1.2168, Accuracy: 62.50%, Validation Accuracy: 61.44%\n",
      "Epoch [5/10], Step [20/350], Loss: 1.1631, Accuracy: 59.38%, Validation Accuracy: 59.79%\n",
      "Epoch [5/10], Step [30/350], Loss: 0.9891, Accuracy: 68.75%, Validation Accuracy: 64.22%\n",
      "Epoch [5/10], Step [40/350], Loss: 1.0246, Accuracy: 62.50%, Validation Accuracy: 63.19%\n",
      "Epoch [5/10], Step [50/350], Loss: 1.1245, Accuracy: 53.12%, Validation Accuracy: 64.19%\n",
      "Epoch [5/10], Step [60/350], Loss: 0.8168, Accuracy: 68.75%, Validation Accuracy: 65.08%\n",
      "Epoch [5/10], Step [70/350], Loss: 0.8024, Accuracy: 68.75%, Validation Accuracy: 64.08%\n",
      "Epoch [5/10], Step [80/350], Loss: 1.0070, Accuracy: 68.75%, Validation Accuracy: 65.80%\n",
      "Epoch [5/10], Step [90/350], Loss: 1.2408, Accuracy: 50.00%, Validation Accuracy: 64.97%\n",
      "Epoch [5/10], Step [100/350], Loss: 1.2431, Accuracy: 50.00%, Validation Accuracy: 67.12%\n",
      "Epoch [5/10], Step [110/350], Loss: 1.0964, Accuracy: 53.12%, Validation Accuracy: 64.33%\n",
      "Epoch [5/10], Step [120/350], Loss: 0.6775, Accuracy: 71.88%, Validation Accuracy: 66.65%\n",
      "Epoch [5/10], Step [130/350], Loss: 1.2064, Accuracy: 56.25%, Validation Accuracy: 68.12%\n",
      "Epoch [5/10], Step [140/350], Loss: 0.8065, Accuracy: 65.62%, Validation Accuracy: 70.16%\n",
      "Epoch [5/10], Step [150/350], Loss: 0.9543, Accuracy: 50.00%, Validation Accuracy: 70.34%\n",
      "Epoch [5/10], Step [160/350], Loss: 0.7865, Accuracy: 65.62%, Validation Accuracy: 65.37%\n",
      "Epoch [5/10], Step [170/350], Loss: 0.7805, Accuracy: 68.75%, Validation Accuracy: 71.19%\n",
      "Epoch [5/10], Step [180/350], Loss: 0.7002, Accuracy: 75.00%, Validation Accuracy: 69.62%\n",
      "Epoch [5/10], Step [190/350], Loss: 0.7875, Accuracy: 71.88%, Validation Accuracy: 69.01%\n",
      "Epoch [5/10], Step [200/350], Loss: 0.7994, Accuracy: 71.88%, Validation Accuracy: 68.62%\n",
      "Epoch [5/10], Step [210/350], Loss: 0.8466, Accuracy: 62.50%, Validation Accuracy: 70.16%\n",
      "Epoch [5/10], Step [220/350], Loss: 0.8676, Accuracy: 56.25%, Validation Accuracy: 69.51%\n",
      "Epoch [5/10], Step [230/350], Loss: 0.8989, Accuracy: 71.88%, Validation Accuracy: 69.16%\n",
      "Epoch [5/10], Step [240/350], Loss: 0.9565, Accuracy: 68.75%, Validation Accuracy: 70.44%\n",
      "Epoch [5/10], Step [250/350], Loss: 1.0310, Accuracy: 56.25%, Validation Accuracy: 71.73%\n",
      "Epoch [5/10], Step [260/350], Loss: 0.8699, Accuracy: 62.50%, Validation Accuracy: 70.55%\n",
      "Epoch [5/10], Step [270/350], Loss: 0.7060, Accuracy: 78.12%, Validation Accuracy: 72.27%\n",
      "Epoch [5/10], Step [280/350], Loss: 0.8034, Accuracy: 75.00%, Validation Accuracy: 71.23%\n",
      "Epoch [5/10], Step [290/350], Loss: 0.7065, Accuracy: 75.00%, Validation Accuracy: 73.73%\n",
      "Epoch [5/10], Step [300/350], Loss: 0.5700, Accuracy: 75.00%, Validation Accuracy: 75.66%\n",
      "Epoch [5/10], Step [310/350], Loss: 0.7371, Accuracy: 78.12%, Validation Accuracy: 74.87%\n",
      "Epoch [5/10], Step [320/350], Loss: 0.8745, Accuracy: 62.50%, Validation Accuracy: 70.41%\n",
      "Epoch [5/10], Step [330/350], Loss: 0.7553, Accuracy: 78.12%, Validation Accuracy: 72.91%\n",
      "Epoch [5/10], Step [340/350], Loss: 0.4144, Accuracy: 87.50%, Validation Accuracy: 75.98%\n",
      "Epoch [5/10], Step [350/350], Loss: 0.9244, Accuracy: 60.71%, Validation Accuracy: 69.73%\n",
      "Epoch [6/10], Step [10/350], Loss: 0.5171, Accuracy: 84.38%, Validation Accuracy: 75.13%\n",
      "Epoch [6/10], Step [20/350], Loss: 1.2132, Accuracy: 65.62%, Validation Accuracy: 74.45%\n",
      "Epoch [6/10], Step [30/350], Loss: 0.5617, Accuracy: 78.12%, Validation Accuracy: 76.73%\n",
      "Epoch [6/10], Step [40/350], Loss: 0.6496, Accuracy: 75.00%, Validation Accuracy: 76.02%\n",
      "Epoch [6/10], Step [50/350], Loss: 0.8866, Accuracy: 75.00%, Validation Accuracy: 75.88%\n",
      "Epoch [6/10], Step [60/350], Loss: 0.4852, Accuracy: 87.50%, Validation Accuracy: 78.41%\n",
      "Epoch [6/10], Step [70/350], Loss: 0.6256, Accuracy: 71.88%, Validation Accuracy: 77.34%\n",
      "Epoch [6/10], Step [80/350], Loss: 1.0467, Accuracy: 65.62%, Validation Accuracy: 75.23%\n",
      "Epoch [6/10], Step [90/350], Loss: 0.8261, Accuracy: 65.62%, Validation Accuracy: 76.84%\n",
      "Epoch [6/10], Step [100/350], Loss: 0.6063, Accuracy: 71.88%, Validation Accuracy: 78.09%\n",
      "Epoch [6/10], Step [110/350], Loss: 0.5691, Accuracy: 81.25%, Validation Accuracy: 76.34%\n",
      "Epoch [6/10], Step [120/350], Loss: 0.6212, Accuracy: 71.88%, Validation Accuracy: 80.31%\n",
      "Epoch [6/10], Step [130/350], Loss: 0.5902, Accuracy: 78.12%, Validation Accuracy: 78.06%\n",
      "Epoch [6/10], Step [140/350], Loss: 0.9301, Accuracy: 62.50%, Validation Accuracy: 80.66%\n",
      "Epoch [6/10], Step [150/350], Loss: 0.7696, Accuracy: 75.00%, Validation Accuracy: 77.48%\n",
      "Epoch [6/10], Step [160/350], Loss: 0.4266, Accuracy: 78.12%, Validation Accuracy: 80.84%\n",
      "Epoch [6/10], Step [170/350], Loss: 0.6475, Accuracy: 68.75%, Validation Accuracy: 79.63%\n",
      "Epoch [6/10], Step [180/350], Loss: 0.6473, Accuracy: 75.00%, Validation Accuracy: 78.23%\n",
      "Epoch [6/10], Step [190/350], Loss: 0.3805, Accuracy: 84.38%, Validation Accuracy: 79.91%\n",
      "Epoch [6/10], Step [200/350], Loss: 0.7160, Accuracy: 71.88%, Validation Accuracy: 77.16%\n",
      "Epoch [6/10], Step [210/350], Loss: 0.8993, Accuracy: 65.62%, Validation Accuracy: 76.27%\n",
      "Epoch [6/10], Step [220/350], Loss: 0.5651, Accuracy: 81.25%, Validation Accuracy: 77.31%\n",
      "Epoch [6/10], Step [230/350], Loss: 0.4636, Accuracy: 84.38%, Validation Accuracy: 79.99%\n",
      "Epoch [6/10], Step [240/350], Loss: 0.5052, Accuracy: 81.25%, Validation Accuracy: 78.88%\n",
      "Epoch [6/10], Step [250/350], Loss: 0.2931, Accuracy: 90.62%, Validation Accuracy: 80.38%\n",
      "Epoch [6/10], Step [260/350], Loss: 0.3449, Accuracy: 90.62%, Validation Accuracy: 81.34%\n",
      "Epoch [6/10], Step [270/350], Loss: 0.4427, Accuracy: 78.12%, Validation Accuracy: 80.59%\n",
      "Epoch [6/10], Step [280/350], Loss: 0.4420, Accuracy: 87.50%, Validation Accuracy: 80.59%\n",
      "Epoch [6/10], Step [290/350], Loss: 0.4765, Accuracy: 78.12%, Validation Accuracy: 82.56%\n",
      "Epoch [6/10], Step [300/350], Loss: 0.5205, Accuracy: 78.12%, Validation Accuracy: 80.95%\n",
      "Epoch [6/10], Step [310/350], Loss: 0.2796, Accuracy: 87.50%, Validation Accuracy: 79.99%\n",
      "Epoch [6/10], Step [320/350], Loss: 0.7276, Accuracy: 68.75%, Validation Accuracy: 81.49%\n",
      "Epoch [6/10], Step [330/350], Loss: 0.4115, Accuracy: 75.00%, Validation Accuracy: 80.59%\n",
      "Epoch [6/10], Step [340/350], Loss: 0.5248, Accuracy: 81.25%, Validation Accuracy: 80.38%\n",
      "Epoch [6/10], Step [350/350], Loss: 0.4658, Accuracy: 82.14%, Validation Accuracy: 83.95%\n",
      "Epoch [7/10], Step [10/350], Loss: 0.3634, Accuracy: 84.38%, Validation Accuracy: 83.77%\n",
      "Epoch [7/10], Step [20/350], Loss: 0.5437, Accuracy: 78.12%, Validation Accuracy: 81.63%\n",
      "Epoch [7/10], Step [30/350], Loss: 0.5790, Accuracy: 71.88%, Validation Accuracy: 82.63%\n",
      "Epoch [7/10], Step [40/350], Loss: 0.7243, Accuracy: 75.00%, Validation Accuracy: 83.56%\n",
      "Epoch [7/10], Step [50/350], Loss: 0.5828, Accuracy: 81.25%, Validation Accuracy: 83.06%\n",
      "Epoch [7/10], Step [60/350], Loss: 0.6233, Accuracy: 81.25%, Validation Accuracy: 83.27%\n",
      "Epoch [7/10], Step [70/350], Loss: 0.6008, Accuracy: 78.12%, Validation Accuracy: 81.06%\n",
      "Epoch [7/10], Step [80/350], Loss: 0.5133, Accuracy: 75.00%, Validation Accuracy: 81.74%\n",
      "Epoch [7/10], Step [90/350], Loss: 0.5396, Accuracy: 71.88%, Validation Accuracy: 81.49%\n",
      "Epoch [7/10], Step [100/350], Loss: 0.6116, Accuracy: 78.12%, Validation Accuracy: 82.02%\n",
      "Epoch [7/10], Step [110/350], Loss: 0.4094, Accuracy: 81.25%, Validation Accuracy: 84.20%\n",
      "Epoch [7/10], Step [120/350], Loss: 0.8555, Accuracy: 81.25%, Validation Accuracy: 87.49%\n",
      "Epoch [7/10], Step [130/350], Loss: 0.3566, Accuracy: 84.38%, Validation Accuracy: 88.42%\n",
      "Epoch [7/10], Step [140/350], Loss: 0.5195, Accuracy: 84.38%, Validation Accuracy: 85.63%\n",
      "Epoch [7/10], Step [150/350], Loss: 0.3401, Accuracy: 87.50%, Validation Accuracy: 83.67%\n",
      "Epoch [7/10], Step [160/350], Loss: 0.2313, Accuracy: 96.88%, Validation Accuracy: 82.84%\n",
      "Epoch [7/10], Step [170/350], Loss: 0.4144, Accuracy: 84.38%, Validation Accuracy: 84.67%\n",
      "Epoch [7/10], Step [180/350], Loss: 0.6060, Accuracy: 87.50%, Validation Accuracy: 83.67%\n",
      "Epoch [7/10], Step [190/350], Loss: 0.4498, Accuracy: 81.25%, Validation Accuracy: 85.20%\n",
      "Epoch [7/10], Step [200/350], Loss: 0.1486, Accuracy: 96.88%, Validation Accuracy: 85.92%\n",
      "Epoch [7/10], Step [210/350], Loss: 0.4631, Accuracy: 75.00%, Validation Accuracy: 88.63%\n",
      "Epoch [7/10], Step [220/350], Loss: 0.9347, Accuracy: 68.75%, Validation Accuracy: 86.10%\n",
      "Epoch [7/10], Step [230/350], Loss: 0.2561, Accuracy: 90.62%, Validation Accuracy: 87.67%\n",
      "Epoch [7/10], Step [240/350], Loss: 0.2184, Accuracy: 93.75%, Validation Accuracy: 87.53%\n",
      "Epoch [7/10], Step [250/350], Loss: 0.4248, Accuracy: 87.50%, Validation Accuracy: 86.60%\n",
      "Epoch [7/10], Step [260/350], Loss: 0.4898, Accuracy: 90.62%, Validation Accuracy: 87.28%\n",
      "Epoch [7/10], Step [270/350], Loss: 0.2957, Accuracy: 87.50%, Validation Accuracy: 88.85%\n",
      "Epoch [7/10], Step [280/350], Loss: 0.3415, Accuracy: 87.50%, Validation Accuracy: 87.99%\n",
      "Epoch [7/10], Step [290/350], Loss: 0.3175, Accuracy: 87.50%, Validation Accuracy: 87.63%\n",
      "Epoch [7/10], Step [300/350], Loss: 0.4413, Accuracy: 84.38%, Validation Accuracy: 89.06%\n",
      "Epoch [7/10], Step [310/350], Loss: 0.3342, Accuracy: 93.75%, Validation Accuracy: 88.88%\n",
      "Epoch [7/10], Step [320/350], Loss: 0.4738, Accuracy: 84.38%, Validation Accuracy: 89.46%\n",
      "Epoch [7/10], Step [330/350], Loss: 0.4019, Accuracy: 84.38%, Validation Accuracy: 89.21%\n",
      "Epoch [7/10], Step [340/350], Loss: 0.2756, Accuracy: 90.62%, Validation Accuracy: 89.56%\n",
      "Epoch [7/10], Step [350/350], Loss: 0.3871, Accuracy: 82.14%, Validation Accuracy: 87.96%\n",
      "Epoch [8/10], Step [10/350], Loss: 0.6828, Accuracy: 78.12%, Validation Accuracy: 88.28%\n",
      "Epoch [8/10], Step [20/350], Loss: 0.5215, Accuracy: 81.25%, Validation Accuracy: 88.49%\n",
      "Epoch [8/10], Step [30/350], Loss: 0.4141, Accuracy: 87.50%, Validation Accuracy: 89.24%\n",
      "Epoch [8/10], Step [40/350], Loss: 0.3635, Accuracy: 81.25%, Validation Accuracy: 88.60%\n",
      "Epoch [8/10], Step [50/350], Loss: 0.4734, Accuracy: 81.25%, Validation Accuracy: 90.06%\n",
      "Epoch [8/10], Step [60/350], Loss: 0.3410, Accuracy: 87.50%, Validation Accuracy: 88.13%\n",
      "Epoch [8/10], Step [70/350], Loss: 0.4116, Accuracy: 90.62%, Validation Accuracy: 88.38%\n",
      "Epoch [8/10], Step [80/350], Loss: 0.2304, Accuracy: 87.50%, Validation Accuracy: 88.17%\n",
      "Epoch [8/10], Step [90/350], Loss: 0.5102, Accuracy: 87.50%, Validation Accuracy: 89.28%\n",
      "Epoch [8/10], Step [100/350], Loss: 0.5690, Accuracy: 78.12%, Validation Accuracy: 89.78%\n",
      "Epoch [8/10], Step [110/350], Loss: 0.4080, Accuracy: 87.50%, Validation Accuracy: 87.53%\n",
      "Epoch [8/10], Step [120/350], Loss: 0.5455, Accuracy: 84.38%, Validation Accuracy: 89.74%\n",
      "Epoch [8/10], Step [130/350], Loss: 0.3708, Accuracy: 93.75%, Validation Accuracy: 88.88%\n",
      "Epoch [8/10], Step [140/350], Loss: 0.2607, Accuracy: 93.75%, Validation Accuracy: 89.10%\n",
      "Epoch [8/10], Step [150/350], Loss: 0.4429, Accuracy: 81.25%, Validation Accuracy: 87.03%\n",
      "Epoch [8/10], Step [160/350], Loss: 0.2882, Accuracy: 90.62%, Validation Accuracy: 87.49%\n",
      "Epoch [8/10], Step [170/350], Loss: 0.2244, Accuracy: 96.88%, Validation Accuracy: 90.35%\n",
      "Epoch [8/10], Step [180/350], Loss: 0.2456, Accuracy: 87.50%, Validation Accuracy: 90.60%\n",
      "Epoch [8/10], Step [190/350], Loss: 0.1594, Accuracy: 90.62%, Validation Accuracy: 88.31%\n",
      "Epoch [8/10], Step [200/350], Loss: 0.2908, Accuracy: 87.50%, Validation Accuracy: 90.60%\n",
      "Epoch [8/10], Step [210/350], Loss: 0.4146, Accuracy: 90.62%, Validation Accuracy: 88.35%\n",
      "Epoch [8/10], Step [220/350], Loss: 0.6680, Accuracy: 81.25%, Validation Accuracy: 87.81%\n",
      "Epoch [8/10], Step [230/350], Loss: 0.1638, Accuracy: 93.75%, Validation Accuracy: 88.35%\n",
      "Epoch [8/10], Step [240/350], Loss: 0.2344, Accuracy: 93.75%, Validation Accuracy: 88.71%\n",
      "Epoch [8/10], Step [250/350], Loss: 0.3383, Accuracy: 87.50%, Validation Accuracy: 89.96%\n",
      "Epoch [8/10], Step [260/350], Loss: 0.3271, Accuracy: 93.75%, Validation Accuracy: 89.31%\n",
      "Epoch [8/10], Step [270/350], Loss: 0.4203, Accuracy: 84.38%, Validation Accuracy: 88.42%\n",
      "Epoch [8/10], Step [280/350], Loss: 0.2136, Accuracy: 93.75%, Validation Accuracy: 87.17%\n",
      "Epoch [8/10], Step [290/350], Loss: 0.2370, Accuracy: 96.88%, Validation Accuracy: 88.63%\n",
      "Epoch [8/10], Step [300/350], Loss: 0.5340, Accuracy: 81.25%, Validation Accuracy: 89.53%\n",
      "Epoch [8/10], Step [310/350], Loss: 0.2675, Accuracy: 87.50%, Validation Accuracy: 88.78%\n",
      "Epoch [8/10], Step [320/350], Loss: 0.6083, Accuracy: 78.12%, Validation Accuracy: 89.92%\n",
      "Epoch [8/10], Step [330/350], Loss: 0.2631, Accuracy: 87.50%, Validation Accuracy: 89.85%\n",
      "Epoch [8/10], Step [340/350], Loss: 0.3567, Accuracy: 87.50%, Validation Accuracy: 91.07%\n",
      "Epoch [8/10], Step [350/350], Loss: 0.2890, Accuracy: 92.86%, Validation Accuracy: 91.39%\n",
      "Epoch [9/10], Step [10/350], Loss: 0.3430, Accuracy: 93.75%, Validation Accuracy: 91.71%\n",
      "Epoch [9/10], Step [20/350], Loss: 0.2878, Accuracy: 87.50%, Validation Accuracy: 91.60%\n",
      "Epoch [9/10], Step [30/350], Loss: 0.2053, Accuracy: 90.62%, Validation Accuracy: 91.03%\n",
      "Epoch [9/10], Step [40/350], Loss: 0.1315, Accuracy: 93.75%, Validation Accuracy: 91.71%\n",
      "Epoch [9/10], Step [50/350], Loss: 0.1262, Accuracy: 93.75%, Validation Accuracy: 90.46%\n",
      "Epoch [9/10], Step [60/350], Loss: 0.3196, Accuracy: 87.50%, Validation Accuracy: 90.39%\n",
      "Epoch [9/10], Step [70/350], Loss: 0.4103, Accuracy: 87.50%, Validation Accuracy: 89.49%\n",
      "Epoch [9/10], Step [80/350], Loss: 0.3107, Accuracy: 81.25%, Validation Accuracy: 88.88%\n",
      "Epoch [9/10], Step [90/350], Loss: 0.3979, Accuracy: 84.38%, Validation Accuracy: 90.64%\n",
      "Epoch [9/10], Step [100/350], Loss: 0.5728, Accuracy: 71.88%, Validation Accuracy: 91.53%\n",
      "Epoch [9/10], Step [110/350], Loss: 0.3014, Accuracy: 93.75%, Validation Accuracy: 90.74%\n",
      "Epoch [9/10], Step [120/350], Loss: 0.2859, Accuracy: 90.62%, Validation Accuracy: 91.28%\n",
      "Epoch [9/10], Step [130/350], Loss: 0.2435, Accuracy: 90.62%, Validation Accuracy: 90.56%\n",
      "Epoch [9/10], Step [140/350], Loss: 0.2225, Accuracy: 87.50%, Validation Accuracy: 92.24%\n",
      "Epoch [9/10], Step [150/350], Loss: 0.1085, Accuracy: 96.88%, Validation Accuracy: 91.24%\n",
      "Epoch [9/10], Step [160/350], Loss: 0.3614, Accuracy: 81.25%, Validation Accuracy: 89.42%\n",
      "Epoch [9/10], Step [170/350], Loss: 0.3939, Accuracy: 84.38%, Validation Accuracy: 90.64%\n",
      "Epoch [9/10], Step [180/350], Loss: 0.2098, Accuracy: 90.62%, Validation Accuracy: 92.42%\n",
      "Epoch [9/10], Step [190/350], Loss: 0.4939, Accuracy: 87.50%, Validation Accuracy: 91.89%\n",
      "Epoch [9/10], Step [200/350], Loss: 0.1971, Accuracy: 93.75%, Validation Accuracy: 91.89%\n",
      "Epoch [9/10], Step [210/350], Loss: 0.3181, Accuracy: 81.25%, Validation Accuracy: 91.14%\n",
      "Epoch [9/10], Step [220/350], Loss: 0.3726, Accuracy: 93.75%, Validation Accuracy: 92.24%\n",
      "Epoch [9/10], Step [230/350], Loss: 0.2650, Accuracy: 84.38%, Validation Accuracy: 92.82%\n",
      "Epoch [9/10], Step [240/350], Loss: 0.0617, Accuracy: 100.00%, Validation Accuracy: 92.17%\n",
      "Epoch [9/10], Step [250/350], Loss: 0.3039, Accuracy: 87.50%, Validation Accuracy: 93.32%\n",
      "Epoch [9/10], Step [260/350], Loss: 0.3352, Accuracy: 84.38%, Validation Accuracy: 92.82%\n",
      "Epoch [9/10], Step [270/350], Loss: 0.2138, Accuracy: 90.62%, Validation Accuracy: 92.60%\n",
      "Epoch [9/10], Step [280/350], Loss: 0.2841, Accuracy: 90.62%, Validation Accuracy: 90.96%\n",
      "Epoch [9/10], Step [290/350], Loss: 0.0876, Accuracy: 96.88%, Validation Accuracy: 93.39%\n",
      "Epoch [9/10], Step [300/350], Loss: 0.1307, Accuracy: 93.75%, Validation Accuracy: 90.42%\n",
      "Epoch [9/10], Step [310/350], Loss: 0.3503, Accuracy: 87.50%, Validation Accuracy: 91.74%\n",
      "Epoch [9/10], Step [320/350], Loss: 0.1161, Accuracy: 96.88%, Validation Accuracy: 91.92%\n",
      "Epoch [9/10], Step [330/350], Loss: 0.1467, Accuracy: 96.88%, Validation Accuracy: 92.39%\n",
      "Epoch [9/10], Step [340/350], Loss: 0.2454, Accuracy: 90.62%, Validation Accuracy: 91.60%\n",
      "Epoch [9/10], Step [350/350], Loss: 0.1630, Accuracy: 96.43%, Validation Accuracy: 92.60%\n",
      "Epoch [10/10], Step [10/350], Loss: 0.1555, Accuracy: 96.88%, Validation Accuracy: 90.85%\n",
      "Epoch [10/10], Step [20/350], Loss: 0.3265, Accuracy: 93.75%, Validation Accuracy: 92.03%\n",
      "Epoch [10/10], Step [30/350], Loss: 0.3719, Accuracy: 90.62%, Validation Accuracy: 93.10%\n",
      "Epoch [10/10], Step [40/350], Loss: 0.3067, Accuracy: 90.62%, Validation Accuracy: 90.10%\n",
      "Epoch [10/10], Step [50/350], Loss: 0.2680, Accuracy: 93.75%, Validation Accuracy: 90.56%\n",
      "Epoch [10/10], Step [60/350], Loss: 0.4415, Accuracy: 90.62%, Validation Accuracy: 91.49%\n",
      "Epoch [10/10], Step [70/350], Loss: 0.3044, Accuracy: 90.62%, Validation Accuracy: 91.99%\n",
      "Epoch [10/10], Step [80/350], Loss: 0.2018, Accuracy: 93.75%, Validation Accuracy: 91.85%\n",
      "Epoch [10/10], Step [90/350], Loss: 0.2842, Accuracy: 90.62%, Validation Accuracy: 92.99%\n",
      "Epoch [10/10], Step [100/350], Loss: 0.0907, Accuracy: 96.88%, Validation Accuracy: 92.82%\n",
      "Epoch [10/10], Step [110/350], Loss: 0.1922, Accuracy: 96.88%, Validation Accuracy: 92.60%\n",
      "Epoch [10/10], Step [120/350], Loss: 0.0909, Accuracy: 96.88%, Validation Accuracy: 91.53%\n",
      "Epoch [10/10], Step [130/350], Loss: 0.1381, Accuracy: 93.75%, Validation Accuracy: 90.60%\n",
      "Epoch [10/10], Step [140/350], Loss: 0.2373, Accuracy: 90.62%, Validation Accuracy: 91.10%\n",
      "Epoch [10/10], Step [150/350], Loss: 0.2753, Accuracy: 93.75%, Validation Accuracy: 91.85%\n",
      "Epoch [10/10], Step [160/350], Loss: 0.6823, Accuracy: 81.25%, Validation Accuracy: 82.81%\n",
      "Epoch [10/10], Step [170/350], Loss: 0.1848, Accuracy: 90.62%, Validation Accuracy: 91.89%\n",
      "Epoch [10/10], Step [180/350], Loss: 0.1379, Accuracy: 93.75%, Validation Accuracy: 90.53%\n",
      "Epoch [10/10], Step [190/350], Loss: 0.1968, Accuracy: 93.75%, Validation Accuracy: 91.71%\n",
      "Epoch [10/10], Step [200/350], Loss: 0.4996, Accuracy: 90.62%, Validation Accuracy: 93.14%\n",
      "Epoch [10/10], Step [210/350], Loss: 0.4765, Accuracy: 93.75%, Validation Accuracy: 91.10%\n",
      "Epoch [10/10], Step [220/350], Loss: 0.4863, Accuracy: 84.38%, Validation Accuracy: 92.35%\n",
      "Epoch [10/10], Step [230/350], Loss: 0.2053, Accuracy: 96.88%, Validation Accuracy: 93.14%\n",
      "Epoch [10/10], Step [240/350], Loss: 0.3538, Accuracy: 93.75%, Validation Accuracy: 93.57%\n",
      "Epoch [10/10], Step [250/350], Loss: 0.0451, Accuracy: 100.00%, Validation Accuracy: 93.75%\n",
      "Epoch [10/10], Step [260/350], Loss: 0.2781, Accuracy: 90.62%, Validation Accuracy: 93.85%\n",
      "Epoch [10/10], Step [270/350], Loss: 0.3239, Accuracy: 90.62%, Validation Accuracy: 92.07%\n",
      "Epoch [10/10], Step [280/350], Loss: 0.1482, Accuracy: 96.88%, Validation Accuracy: 93.42%\n",
      "Epoch [10/10], Step [290/350], Loss: 0.2103, Accuracy: 90.62%, Validation Accuracy: 92.99%\n",
      "Epoch [10/10], Step [300/350], Loss: 0.0909, Accuracy: 96.88%, Validation Accuracy: 94.17%\n",
      "Epoch [10/10], Step [310/350], Loss: 0.1224, Accuracy: 93.75%, Validation Accuracy: 93.03%\n",
      "Epoch [10/10], Step [320/350], Loss: 0.2615, Accuracy: 90.62%, Validation Accuracy: 93.50%\n",
      "Epoch [10/10], Step [330/350], Loss: 0.1327, Accuracy: 93.75%, Validation Accuracy: 92.74%\n",
      "Epoch [10/10], Step [340/350], Loss: 0.4069, Accuracy: 90.62%, Validation Accuracy: 93.67%\n",
      "Epoch [10/10], Step [350/350], Loss: 0.0764, Accuracy: 96.43%, Validation Accuracy: 92.99%\n",
      "######## Training Finished in 16343.108595848083 seconds ###########\n",
      "/n/n Saving model at:  /content/drive/My Drive/6721 Dataset/vgg11model_d3.pt\n"
     ]
    }
   ],
   "source": [
    "model_savepath = savepath+\"vgg11model_d3.pt\"\n",
    "results_savepath = savepath+\"vgg11model_d3_results.pkb\"\n",
    "\n",
    "trained_VGG11_model, device = train_model(VGG11_model, num_epochs, train_loader, criterion, optimizer, model_savepath, results_savepath, device)"
   ]
  },
  {
   "cell_type": "code",
   "execution_count": 62,
   "metadata": {
    "colab": {
     "base_uri": "https://localhost:8080/"
    },
    "execution": {
     "iopub.status.busy": "2022-11-13T18:08:06.230023Z",
     "iopub.status.idle": "2022-11-13T18:08:06.230550Z",
     "shell.execute_reply": "2022-11-13T18:08:06.230308Z",
     "shell.execute_reply.started": "2022-11-13T18:08:06.230282Z"
    },
    "id": "hTFDbEzh-kGJ",
    "outputId": "6f75265b-9bd6-448c-9113-203b9dfe7ad4"
   },
   "outputs": [
    {
     "name": "stdout",
     "output_type": "stream",
     "text": [
      "Model Evaluation Results on 4590 test samples\n",
      "Test Accuracy:  91.98257080610021\n",
      "Test F1 Score:  tensor(0.9198)\n",
      "Test Precision & Recall: (tensor(0.9253), tensor(0.9173))\n",
      "Test AUC score: tensor(0.2126)\n"
     ]
    }
   ],
   "source": [
    "evaluate_model(trained_VGG11_model, test_loader, device, nclasses)"
   ]
  },
  {
   "cell_type": "markdown",
   "metadata": {
    "id": "x8QGSudN3rfQ"
   },
   "source": [
    "Architecture 3: ResNet-18"
   ]
  },
  {
   "cell_type": "markdown",
   "metadata": {
    "id": "ykyHhgTj_7gY"
   },
   "source": [
    "on dataset 1:"
   ]
  },
  {
   "cell_type": "code",
   "execution_count": 63,
   "metadata": {
    "execution": {
     "iopub.execute_input": "2022-11-25T09:50:26.874306Z",
     "iopub.status.busy": "2022-11-25T09:50:26.872398Z",
     "iopub.status.idle": "2022-11-25T09:50:26.879348Z",
     "shell.execute_reply": "2022-11-25T09:50:26.878221Z",
     "shell.execute_reply.started": "2022-11-25T09:50:26.874262Z"
    },
    "id": "KbxKzoP2N-wF"
   },
   "outputs": [],
   "source": [
    "nclasses=15"
   ]
  },
  {
   "cell_type": "code",
   "execution_count": 64,
   "metadata": {
    "colab": {
     "base_uri": "https://localhost:8080/"
    },
    "execution": {
     "iopub.execute_input": "2022-11-25T09:50:26.881711Z",
     "iopub.status.busy": "2022-11-25T09:50:26.881273Z",
     "iopub.status.idle": "2022-11-25T09:50:27.458313Z",
     "shell.execute_reply": "2022-11-25T09:50:27.457374Z",
     "shell.execute_reply.started": "2022-11-25T09:50:26.881672Z"
    },
    "id": "sjeyUpF53r6L",
    "outputId": "ae3469d2-73b4-4210-fd57-1c3fa7d18f8a"
   },
   "outputs": [
    {
     "name": "stderr",
     "output_type": "stream",
     "text": [
      "Using cache found in /root/.cache/torch/hub/pytorch_vision_v0.10.0\n"
     ]
    }
   ],
   "source": [
    "ResNet_model = torch.hub.load('pytorch/vision:v0.10.0', 'resnet18', pretrained=False)"
   ]
  },
  {
   "cell_type": "code",
   "execution_count": 65,
   "metadata": {
    "execution": {
     "iopub.execute_input": "2022-11-25T09:50:27.460597Z",
     "iopub.status.busy": "2022-11-25T09:50:27.459713Z",
     "iopub.status.idle": "2022-11-25T09:50:27.466475Z",
     "shell.execute_reply": "2022-11-25T09:50:27.465367Z",
     "shell.execute_reply.started": "2022-11-25T09:50:27.460556Z"
    },
    "id": "jZz850Gk4P_f"
   },
   "outputs": [],
   "source": [
    "ResNet_model.fc = nn.Linear( 512, nclasses)"
   ]
  },
  {
   "cell_type": "code",
   "execution_count": 66,
   "metadata": {
    "colab": {
     "base_uri": "https://localhost:8080/"
    },
    "execution": {
     "iopub.execute_input": "2022-11-25T09:50:27.469590Z",
     "iopub.status.busy": "2022-11-25T09:50:27.467885Z",
     "iopub.status.idle": "2022-11-25T09:50:27.481722Z",
     "shell.execute_reply": "2022-11-25T09:50:27.480573Z",
     "shell.execute_reply.started": "2022-11-25T09:50:27.469553Z"
    },
    "id": "P1niUp7-3ucX",
    "outputId": "f6ab2e68-e3b3-4f46-d0e9-02c60ddc982c"
   },
   "outputs": [
    {
     "data": {
      "text/plain": [
       "ResNet(\n",
       "  (conv1): Conv2d(3, 64, kernel_size=(7, 7), stride=(2, 2), padding=(3, 3), bias=False)\n",
       "  (bn1): BatchNorm2d(64, eps=1e-05, momentum=0.1, affine=True, track_running_stats=True)\n",
       "  (relu): ReLU(inplace=True)\n",
       "  (maxpool): MaxPool2d(kernel_size=3, stride=2, padding=1, dilation=1, ceil_mode=False)\n",
       "  (layer1): Sequential(\n",
       "    (0): BasicBlock(\n",
       "      (conv1): Conv2d(64, 64, kernel_size=(3, 3), stride=(1, 1), padding=(1, 1), bias=False)\n",
       "      (bn1): BatchNorm2d(64, eps=1e-05, momentum=0.1, affine=True, track_running_stats=True)\n",
       "      (relu): ReLU(inplace=True)\n",
       "      (conv2): Conv2d(64, 64, kernel_size=(3, 3), stride=(1, 1), padding=(1, 1), bias=False)\n",
       "      (bn2): BatchNorm2d(64, eps=1e-05, momentum=0.1, affine=True, track_running_stats=True)\n",
       "    )\n",
       "    (1): BasicBlock(\n",
       "      (conv1): Conv2d(64, 64, kernel_size=(3, 3), stride=(1, 1), padding=(1, 1), bias=False)\n",
       "      (bn1): BatchNorm2d(64, eps=1e-05, momentum=0.1, affine=True, track_running_stats=True)\n",
       "      (relu): ReLU(inplace=True)\n",
       "      (conv2): Conv2d(64, 64, kernel_size=(3, 3), stride=(1, 1), padding=(1, 1), bias=False)\n",
       "      (bn2): BatchNorm2d(64, eps=1e-05, momentum=0.1, affine=True, track_running_stats=True)\n",
       "    )\n",
       "  )\n",
       "  (layer2): Sequential(\n",
       "    (0): BasicBlock(\n",
       "      (conv1): Conv2d(64, 128, kernel_size=(3, 3), stride=(2, 2), padding=(1, 1), bias=False)\n",
       "      (bn1): BatchNorm2d(128, eps=1e-05, momentum=0.1, affine=True, track_running_stats=True)\n",
       "      (relu): ReLU(inplace=True)\n",
       "      (conv2): Conv2d(128, 128, kernel_size=(3, 3), stride=(1, 1), padding=(1, 1), bias=False)\n",
       "      (bn2): BatchNorm2d(128, eps=1e-05, momentum=0.1, affine=True, track_running_stats=True)\n",
       "      (downsample): Sequential(\n",
       "        (0): Conv2d(64, 128, kernel_size=(1, 1), stride=(2, 2), bias=False)\n",
       "        (1): BatchNorm2d(128, eps=1e-05, momentum=0.1, affine=True, track_running_stats=True)\n",
       "      )\n",
       "    )\n",
       "    (1): BasicBlock(\n",
       "      (conv1): Conv2d(128, 128, kernel_size=(3, 3), stride=(1, 1), padding=(1, 1), bias=False)\n",
       "      (bn1): BatchNorm2d(128, eps=1e-05, momentum=0.1, affine=True, track_running_stats=True)\n",
       "      (relu): ReLU(inplace=True)\n",
       "      (conv2): Conv2d(128, 128, kernel_size=(3, 3), stride=(1, 1), padding=(1, 1), bias=False)\n",
       "      (bn2): BatchNorm2d(128, eps=1e-05, momentum=0.1, affine=True, track_running_stats=True)\n",
       "    )\n",
       "  )\n",
       "  (layer3): Sequential(\n",
       "    (0): BasicBlock(\n",
       "      (conv1): Conv2d(128, 256, kernel_size=(3, 3), stride=(2, 2), padding=(1, 1), bias=False)\n",
       "      (bn1): BatchNorm2d(256, eps=1e-05, momentum=0.1, affine=True, track_running_stats=True)\n",
       "      (relu): ReLU(inplace=True)\n",
       "      (conv2): Conv2d(256, 256, kernel_size=(3, 3), stride=(1, 1), padding=(1, 1), bias=False)\n",
       "      (bn2): BatchNorm2d(256, eps=1e-05, momentum=0.1, affine=True, track_running_stats=True)\n",
       "      (downsample): Sequential(\n",
       "        (0): Conv2d(128, 256, kernel_size=(1, 1), stride=(2, 2), bias=False)\n",
       "        (1): BatchNorm2d(256, eps=1e-05, momentum=0.1, affine=True, track_running_stats=True)\n",
       "      )\n",
       "    )\n",
       "    (1): BasicBlock(\n",
       "      (conv1): Conv2d(256, 256, kernel_size=(3, 3), stride=(1, 1), padding=(1, 1), bias=False)\n",
       "      (bn1): BatchNorm2d(256, eps=1e-05, momentum=0.1, affine=True, track_running_stats=True)\n",
       "      (relu): ReLU(inplace=True)\n",
       "      (conv2): Conv2d(256, 256, kernel_size=(3, 3), stride=(1, 1), padding=(1, 1), bias=False)\n",
       "      (bn2): BatchNorm2d(256, eps=1e-05, momentum=0.1, affine=True, track_running_stats=True)\n",
       "    )\n",
       "  )\n",
       "  (layer4): Sequential(\n",
       "    (0): BasicBlock(\n",
       "      (conv1): Conv2d(256, 512, kernel_size=(3, 3), stride=(2, 2), padding=(1, 1), bias=False)\n",
       "      (bn1): BatchNorm2d(512, eps=1e-05, momentum=0.1, affine=True, track_running_stats=True)\n",
       "      (relu): ReLU(inplace=True)\n",
       "      (conv2): Conv2d(512, 512, kernel_size=(3, 3), stride=(1, 1), padding=(1, 1), bias=False)\n",
       "      (bn2): BatchNorm2d(512, eps=1e-05, momentum=0.1, affine=True, track_running_stats=True)\n",
       "      (downsample): Sequential(\n",
       "        (0): Conv2d(256, 512, kernel_size=(1, 1), stride=(2, 2), bias=False)\n",
       "        (1): BatchNorm2d(512, eps=1e-05, momentum=0.1, affine=True, track_running_stats=True)\n",
       "      )\n",
       "    )\n",
       "    (1): BasicBlock(\n",
       "      (conv1): Conv2d(512, 512, kernel_size=(3, 3), stride=(1, 1), padding=(1, 1), bias=False)\n",
       "      (bn1): BatchNorm2d(512, eps=1e-05, momentum=0.1, affine=True, track_running_stats=True)\n",
       "      (relu): ReLU(inplace=True)\n",
       "      (conv2): Conv2d(512, 512, kernel_size=(3, 3), stride=(1, 1), padding=(1, 1), bias=False)\n",
       "      (bn2): BatchNorm2d(512, eps=1e-05, momentum=0.1, affine=True, track_running_stats=True)\n",
       "    )\n",
       "  )\n",
       "  (avgpool): AdaptiveAvgPool2d(output_size=(1, 1))\n",
       "  (fc): Linear(in_features=512, out_features=15, bias=True)\n",
       ")"
      ]
     },
     "execution_count": 66,
     "metadata": {},
     "output_type": "execute_result"
    }
   ],
   "source": [
    "ResNet_model.eval()"
   ]
  },
  {
   "cell_type": "code",
   "execution_count": 67,
   "metadata": {
    "execution": {
     "iopub.execute_input": "2022-11-25T09:50:27.484261Z",
     "iopub.status.busy": "2022-11-25T09:50:27.482946Z",
     "iopub.status.idle": "2022-11-25T09:50:27.493716Z",
     "shell.execute_reply": "2022-11-25T09:50:27.492517Z",
     "shell.execute_reply.started": "2022-11-25T09:50:27.484226Z"
    },
    "id": "OAE_uMea3uY1"
   },
   "outputs": [],
   "source": [
    "optimizer = torch.optim.Adam(ResNet_model.parameters(), lr=learning_rate) "
   ]
  },
  {
   "cell_type": "code",
   "execution_count": 68,
   "metadata": {
    "execution": {
     "iopub.execute_input": "2022-11-25T09:50:27.497569Z",
     "iopub.status.busy": "2022-11-25T09:50:27.497291Z",
     "iopub.status.idle": "2022-11-25T09:50:27.570089Z",
     "shell.execute_reply": "2022-11-25T09:50:27.569193Z",
     "shell.execute_reply.started": "2022-11-25T09:50:27.497544Z"
    },
    "id": "YoNH0dSl3uVq"
   },
   "outputs": [],
   "source": [
    "path_train = path_dataset1+\"train/\"\n",
    "path_test = path_dataset1+\"test/\"\n",
    "val_split = 0.2\n",
    "batch_size = 32\n",
    "input_size = (224,224)\n",
    "\n",
    "train_loader, test_loader, val_loader, mappings = load_data(path_train, val_split, path_test, batch_size, input_size)"
   ]
  },
  {
   "cell_type": "code",
   "execution_count": null,
   "metadata": {
    "execution": {
     "iopub.execute_input": "2022-11-25T09:50:27.572322Z",
     "iopub.status.busy": "2022-11-25T09:50:27.571437Z",
     "iopub.status.idle": "2022-11-25T09:50:27.595104Z",
     "shell.execute_reply": "2022-11-25T09:50:27.594198Z",
     "shell.execute_reply.started": "2022-11-25T09:50:27.572286Z"
    },
    "id": "_ZzUmycEVriK",
    "outputId": "d9ce5bf3-99d6-4cd4-eabd-b26d704351da"
   },
   "outputs": [
    {
     "name": "stdout",
     "output_type": "stream",
     "text": [
      "Device: cuda:0\n"
     ]
    }
   ],
   "source": [
    "device = torch.device(\"cuda:0\" if torch.cuda.is_available() else \"cpu\")\n",
    "print(\"Device: {}\".format(device))\n",
    "x = ResNet_model.to(device)"
   ]
  },
  {
   "cell_type": "code",
   "execution_count": null,
   "metadata": {
    "execution": {
     "iopub.execute_input": "2022-11-25T09:50:27.596981Z",
     "iopub.status.busy": "2022-11-25T09:50:27.596630Z",
     "iopub.status.idle": "2022-11-25T09:50:27.614717Z",
     "shell.execute_reply": "2022-11-25T09:50:27.613813Z",
     "shell.execute_reply.started": "2022-11-25T09:50:27.596945Z"
    },
    "id": "z-cPhH5N9lrN",
    "outputId": "b98868cd-6b15-4ef1-e808-5d31c73f6c26"
   },
   "outputs": [
    {
     "name": "stdout",
     "output_type": "stream",
     "text": [
      "Class: SPEED_LIMIT_80 has samples: 192 \n",
      "Class: SPEED_LIMIT_60 has samples: 190 \n",
      "Class: NO_STOPPING_OR_STANDING has samples: 242 \n",
      "Class: COMPULSARY_KEEP_RIGHT has samples: 223 \n",
      "Class: GAP_IN_MEDIAN has samples: 180 \n",
      "Class: CROSS_ROAD has samples: 140 \n",
      "Class: PEDESTRIAN_CROSSING has samples: 121 \n",
      "Class: SPEED_LIMIT_50 has samples: 200 \n",
      "Class: HORN_PROHIBITED has samples: 160 \n",
      "Class: SPEED_LIMIT_40 has samples: 170 \n",
      "Class: NO_ENTRY has samples: 174 \n",
      "Class: HUMP_OR_ROUGH_ROAD has samples: 101 \n",
      "Class: SPEED_LIMIT_30 has samples: 238 \n",
      "Class: LEFT_TURN_PROHIBITED has samples: 126 \n",
      "Class: SPEED_LIMIT_70 has samples: 160 \n",
      "\n",
      "Total number of samples:  2617\n",
      "\n",
      "Time taken: 0.012465476989746094\n"
     ]
    }
   ],
   "source": [
    "class_weights = get_class_weights(path_train, mappings)\n",
    "\n",
    "class_weights = torch.FloatTensor(class_weights)\n",
    "class_weights = class_weights.to(device)\n",
    "\n",
    "criterion = get_criterion(class_weights)"
   ]
  },
  {
   "cell_type": "code",
   "execution_count": null,
   "metadata": {
    "execution": {
     "iopub.execute_input": "2022-11-25T09:50:27.616881Z",
     "iopub.status.busy": "2022-11-25T09:50:27.616044Z",
     "iopub.status.idle": "2022-11-25T10:40:44.223117Z",
     "shell.execute_reply": "2022-11-25T10:40:44.222158Z",
     "shell.execute_reply.started": "2022-11-25T09:50:27.616841Z"
    },
    "id": "alEPE-YH3uSY",
    "outputId": "67e07023-4348-4773-e1f7-a4913edda950"
   },
   "outputs": [
    {
     "name": "stdout",
     "output_type": "stream",
     "text": [
      "Epoch [1/10], Step [10/66], Loss: 2.5484, Accuracy: 21.88%, Validation Accuracy: 16.06%\n",
      "Epoch [1/10], Step [20/66], Loss: 2.0677, Accuracy: 25.00%, Validation Accuracy: 23.33%\n",
      "Epoch [1/10], Step [30/66], Loss: 1.9504, Accuracy: 21.88%, Validation Accuracy: 26.58%\n",
      "Epoch [1/10], Step [40/66], Loss: 1.2429, Accuracy: 62.50%, Validation Accuracy: 39.39%\n",
      "Epoch [1/10], Step [50/66], Loss: 1.5976, Accuracy: 40.62%, Validation Accuracy: 36.90%\n",
      "Epoch [1/10], Step [60/66], Loss: 1.2295, Accuracy: 53.12%, Validation Accuracy: 36.14%\n",
      "Epoch [2/10], Step [10/66], Loss: 1.3550, Accuracy: 56.25%, Validation Accuracy: 42.45%\n",
      "Epoch [2/10], Step [20/66], Loss: 1.4624, Accuracy: 59.38%, Validation Accuracy: 37.67%\n",
      "Epoch [2/10], Step [30/66], Loss: 1.2123, Accuracy: 62.50%, Validation Accuracy: 41.30%\n",
      "Epoch [2/10], Step [40/66], Loss: 1.8080, Accuracy: 37.50%, Validation Accuracy: 33.27%\n",
      "Epoch [2/10], Step [50/66], Loss: 1.4519, Accuracy: 56.25%, Validation Accuracy: 32.50%\n",
      "Epoch [2/10], Step [60/66], Loss: 1.1447, Accuracy: 50.00%, Validation Accuracy: 26.58%\n",
      "Epoch [3/10], Step [10/66], Loss: 1.4219, Accuracy: 46.88%, Validation Accuracy: 40.54%\n",
      "Epoch [3/10], Step [20/66], Loss: 1.4936, Accuracy: 43.75%, Validation Accuracy: 37.86%\n",
      "Epoch [3/10], Step [30/66], Loss: 1.2212, Accuracy: 53.12%, Validation Accuracy: 46.27%\n",
      "Epoch [3/10], Step [40/66], Loss: 1.2672, Accuracy: 50.00%, Validation Accuracy: 43.40%\n",
      "Epoch [3/10], Step [50/66], Loss: 1.4762, Accuracy: 40.62%, Validation Accuracy: 50.29%\n",
      "Epoch [3/10], Step [60/66], Loss: 1.4299, Accuracy: 53.12%, Validation Accuracy: 53.35%\n",
      "Epoch [4/10], Step [10/66], Loss: 1.0699, Accuracy: 65.62%, Validation Accuracy: 47.42%\n",
      "Epoch [4/10], Step [20/66], Loss: 1.2524, Accuracy: 50.00%, Validation Accuracy: 49.52%\n",
      "Epoch [4/10], Step [30/66], Loss: 1.8274, Accuracy: 31.25%, Validation Accuracy: 38.24%\n",
      "Epoch [4/10], Step [40/66], Loss: 0.9772, Accuracy: 68.75%, Validation Accuracy: 40.73%\n",
      "Epoch [4/10], Step [50/66], Loss: 1.3858, Accuracy: 65.62%, Validation Accuracy: 49.90%\n",
      "Epoch [4/10], Step [60/66], Loss: 1.1726, Accuracy: 50.00%, Validation Accuracy: 51.24%\n",
      "Epoch [5/10], Step [10/66], Loss: 1.3106, Accuracy: 53.12%, Validation Accuracy: 53.54%\n",
      "Epoch [5/10], Step [20/66], Loss: 1.0411, Accuracy: 46.88%, Validation Accuracy: 52.58%\n",
      "Epoch [5/10], Step [30/66], Loss: 0.9908, Accuracy: 62.50%, Validation Accuracy: 53.92%\n",
      "Epoch [5/10], Step [40/66], Loss: 1.7843, Accuracy: 37.50%, Validation Accuracy: 55.64%\n",
      "Epoch [5/10], Step [50/66], Loss: 1.1487, Accuracy: 56.25%, Validation Accuracy: 57.93%\n",
      "Epoch [5/10], Step [60/66], Loss: 1.6218, Accuracy: 50.00%, Validation Accuracy: 46.27%\n",
      "Epoch [6/10], Step [10/66], Loss: 0.9701, Accuracy: 50.00%, Validation Accuracy: 44.93%\n",
      "Epoch [6/10], Step [20/66], Loss: 1.0474, Accuracy: 50.00%, Validation Accuracy: 38.62%\n",
      "Epoch [6/10], Step [30/66], Loss: 1.1036, Accuracy: 59.38%, Validation Accuracy: 55.26%\n",
      "Epoch [6/10], Step [40/66], Loss: 1.0583, Accuracy: 59.38%, Validation Accuracy: 52.58%\n",
      "Epoch [6/10], Step [50/66], Loss: 1.1212, Accuracy: 59.38%, Validation Accuracy: 56.60%\n",
      "Epoch [6/10], Step [60/66], Loss: 1.0239, Accuracy: 62.50%, Validation Accuracy: 54.11%\n",
      "Epoch [7/10], Step [10/66], Loss: 0.8499, Accuracy: 62.50%, Validation Accuracy: 55.83%\n",
      "Epoch [7/10], Step [20/66], Loss: 0.7657, Accuracy: 65.62%, Validation Accuracy: 56.02%\n",
      "Epoch [7/10], Step [30/66], Loss: 1.0734, Accuracy: 56.25%, Validation Accuracy: 47.99%\n",
      "Epoch [7/10], Step [40/66], Loss: 1.1140, Accuracy: 59.38%, Validation Accuracy: 53.92%\n",
      "Epoch [7/10], Step [50/66], Loss: 1.0700, Accuracy: 65.62%, Validation Accuracy: 57.17%\n",
      "Epoch [7/10], Step [60/66], Loss: 1.0179, Accuracy: 62.50%, Validation Accuracy: 54.49%\n",
      "Epoch [8/10], Step [10/66], Loss: 0.9527, Accuracy: 65.62%, Validation Accuracy: 56.60%\n",
      "Epoch [8/10], Step [20/66], Loss: 0.7412, Accuracy: 71.88%, Validation Accuracy: 50.86%\n",
      "Epoch [8/10], Step [30/66], Loss: 0.9700, Accuracy: 62.50%, Validation Accuracy: 61.38%\n",
      "Epoch [8/10], Step [40/66], Loss: 0.8287, Accuracy: 68.75%, Validation Accuracy: 60.61%\n",
      "Epoch [8/10], Step [50/66], Loss: 1.2180, Accuracy: 59.38%, Validation Accuracy: 58.70%\n",
      "Epoch [8/10], Step [60/66], Loss: 0.9592, Accuracy: 71.88%, Validation Accuracy: 58.70%\n",
      "Epoch [9/10], Step [10/66], Loss: 0.8147, Accuracy: 62.50%, Validation Accuracy: 57.74%\n",
      "Epoch [9/10], Step [20/66], Loss: 0.6974, Accuracy: 81.25%, Validation Accuracy: 58.51%\n",
      "Epoch [9/10], Step [30/66], Loss: 1.0629, Accuracy: 56.25%, Validation Accuracy: 58.89%\n",
      "Epoch [9/10], Step [40/66], Loss: 0.9126, Accuracy: 68.75%, Validation Accuracy: 55.64%\n",
      "Epoch [9/10], Step [50/66], Loss: 1.0156, Accuracy: 53.12%, Validation Accuracy: 64.44%\n",
      "Epoch [9/10], Step [60/66], Loss: 0.7916, Accuracy: 78.12%, Validation Accuracy: 60.99%\n",
      "Epoch [10/10], Step [10/66], Loss: 0.8268, Accuracy: 68.75%, Validation Accuracy: 61.57%\n",
      "Epoch [10/10], Step [20/66], Loss: 0.7867, Accuracy: 65.62%, Validation Accuracy: 63.48%\n",
      "Epoch [10/10], Step [30/66], Loss: 1.0640, Accuracy: 56.25%, Validation Accuracy: 59.08%\n",
      "Epoch [10/10], Step [40/66], Loss: 0.7242, Accuracy: 71.88%, Validation Accuracy: 66.35%\n",
      "Epoch [10/10], Step [50/66], Loss: 0.7701, Accuracy: 68.75%, Validation Accuracy: 68.26%\n",
      "Epoch [10/10], Step [60/66], Loss: 1.0970, Accuracy: 62.50%, Validation Accuracy: 60.99%\n",
      "######## Training Finished in 3016.4767611026764 seconds ###########\n",
      "/n/n Saving model at:  /kaggle/working/resnetmodel_d1.pt\n"
     ]
    }
   ],
   "source": [
    "model_savepath = savepath+\"resnetmodel_d1.pt\"\n",
    "results_savepath = savepath+\"resnetmodel_d1_results.pkb\"\n",
    "\n",
    "trained_ResNet_model, device = train_model(ResNet_model, num_epochs, train_loader, criterion, optimizer, model_savepath, results_savepath, device)"
   ]
  },
  {
   "cell_type": "code",
   "execution_count": 70,
   "metadata": {
    "colab": {
     "base_uri": "https://localhost:8080/"
    },
    "execution": {
     "iopub.execute_input": "2022-11-25T10:40:44.229039Z",
     "iopub.status.busy": "2022-11-25T10:40:44.226956Z",
     "iopub.status.idle": "2022-11-25T10:40:59.535101Z",
     "shell.execute_reply": "2022-11-25T10:40:59.533831Z",
     "shell.execute_reply.started": "2022-11-25T10:40:44.228994Z"
    },
    "id": "9-r7XF9a3uPx",
    "outputId": "12318461-846b-42da-d6a5-252fa20657ef"
   },
   "outputs": [
    {
     "name": "stdout",
     "output_type": "stream",
     "text": [
      "Model Evaluation Results on 710 test samples\n",
      "Test Accuracy:  62.25352112676056\n",
      "Test F1 Score:  tensor(0.6225)\n",
      "Test Precision & Recall: (tensor(0.6610), tensor(0.6489))\n",
      "Test AUC score: tensor(0.1070)\n"
     ]
    }
   ],
   "source": [
    "evaluate_model(trained_ResNet_model, test_loader, device, nclasses)"
   ]
  },
  {
   "cell_type": "code",
   "execution_count": null,
   "metadata": {
    "id": "zaEWAeB-__Hp"
   },
   "outputs": [],
   "source": []
  },
  {
   "cell_type": "markdown",
   "metadata": {
    "id": "0mw6pKMU__lE"
   },
   "source": [
    "on dataset 2:"
   ]
  },
  {
   "cell_type": "code",
   "execution_count": 71,
   "metadata": {
    "execution": {
     "iopub.execute_input": "2022-11-25T10:40:59.537496Z",
     "iopub.status.busy": "2022-11-25T10:40:59.537057Z",
     "iopub.status.idle": "2022-11-25T10:40:59.542473Z",
     "shell.execute_reply": "2022-11-25T10:40:59.541386Z",
     "shell.execute_reply.started": "2022-11-25T10:40:59.537457Z"
    },
    "id": "PR81Mz3_N-wG"
   },
   "outputs": [],
   "source": [
    "nclasses=12"
   ]
  },
  {
   "cell_type": "code",
   "execution_count": 72,
   "metadata": {
    "colab": {
     "base_uri": "https://localhost:8080/"
    },
    "execution": {
     "iopub.execute_input": "2022-11-25T10:40:59.544757Z",
     "iopub.status.busy": "2022-11-25T10:40:59.544039Z",
     "iopub.status.idle": "2022-11-25T10:40:59.735947Z",
     "shell.execute_reply": "2022-11-25T10:40:59.733973Z",
     "shell.execute_reply.started": "2022-11-25T10:40:59.544716Z"
    },
    "id": "gufOXKd1__lE",
    "outputId": "53370f76-d849-4791-eeb9-3d40fcfcdd28"
   },
   "outputs": [
    {
     "name": "stderr",
     "output_type": "stream",
     "text": [
      "Using cache found in /root/.cache/torch/hub/pytorch_vision_v0.10.0\n"
     ]
    }
   ],
   "source": [
    "ResNet_model = torch.hub.load('pytorch/vision:v0.10.0', 'resnet18', pretrained=False)"
   ]
  },
  {
   "cell_type": "code",
   "execution_count": 73,
   "metadata": {
    "execution": {
     "iopub.execute_input": "2022-11-25T10:40:59.738535Z",
     "iopub.status.busy": "2022-11-25T10:40:59.737441Z",
     "iopub.status.idle": "2022-11-25T10:40:59.744070Z",
     "shell.execute_reply": "2022-11-25T10:40:59.742909Z",
     "shell.execute_reply.started": "2022-11-25T10:40:59.738492Z"
    },
    "id": "CXeQGpgi__lF"
   },
   "outputs": [],
   "source": [
    "ResNet_model.fc = nn.Linear( 512, nclasses)"
   ]
  },
  {
   "cell_type": "code",
   "execution_count": 74,
   "metadata": {
    "execution": {
     "iopub.execute_input": "2022-11-25T10:40:59.746622Z",
     "iopub.status.busy": "2022-11-25T10:40:59.745505Z",
     "iopub.status.idle": "2022-11-25T10:40:59.758382Z",
     "shell.execute_reply": "2022-11-25T10:40:59.757206Z",
     "shell.execute_reply.started": "2022-11-25T10:40:59.746584Z"
    },
    "id": "AE8BaxQX__lF"
   },
   "outputs": [],
   "source": [
    "optimizer = torch.optim.Adam(ResNet_model.parameters(), lr=learning_rate) "
   ]
  },
  {
   "cell_type": "code",
   "execution_count": 75,
   "metadata": {
    "execution": {
     "iopub.execute_input": "2022-11-25T10:40:59.760540Z",
     "iopub.status.busy": "2022-11-25T10:40:59.760083Z",
     "iopub.status.idle": "2022-11-25T10:40:59.832029Z",
     "shell.execute_reply": "2022-11-25T10:40:59.831115Z",
     "shell.execute_reply.started": "2022-11-25T10:40:59.760496Z"
    },
    "id": "HWlFjNQb__lF"
   },
   "outputs": [],
   "source": [
    "path_train = path_dataset2+\"train/\"\n",
    "path_test = path_dataset2+\"test/\"\n",
    "val_split = 0.2\n",
    "batch_size = 32\n",
    "input_size = (224,224)\n",
    "\n",
    "train_loader, test_loader, val_loader, mappings = load_data(path_train, val_split, path_test, batch_size, input_size)"
   ]
  },
  {
   "cell_type": "code",
   "execution_count": null,
   "metadata": {
    "execution": {
     "iopub.execute_input": "2022-11-25T10:40:59.835690Z",
     "iopub.status.busy": "2022-11-25T10:40:59.835395Z",
     "iopub.status.idle": "2022-11-25T10:40:59.858287Z",
     "shell.execute_reply": "2022-11-25T10:40:59.857191Z",
     "shell.execute_reply.started": "2022-11-25T10:40:59.835664Z"
    },
    "id": "GEMJHHENVxDU",
    "outputId": "9705fa3f-7249-4cc3-830f-89d5c1190876"
   },
   "outputs": [
    {
     "name": "stdout",
     "output_type": "stream",
     "text": [
      "Device: cuda:0\n"
     ]
    }
   ],
   "source": [
    "device = torch.device(\"cuda:0\" if torch.cuda.is_available() else \"cpu\")\n",
    "print(\"Device: {}\".format(device))\n",
    "x= ResNet_model.to(device)"
   ]
  },
  {
   "cell_type": "code",
   "execution_count": null,
   "metadata": {
    "execution": {
     "iopub.execute_input": "2022-11-25T10:40:59.860157Z",
     "iopub.status.busy": "2022-11-25T10:40:59.859667Z",
     "iopub.status.idle": "2022-11-25T10:40:59.876492Z",
     "shell.execute_reply": "2022-11-25T10:40:59.875195Z",
     "shell.execute_reply.started": "2022-11-25T10:40:59.860096Z"
    },
    "id": "JTKsc7J49mpl",
    "outputId": "44a96d64-a206-4551-95a7-a8fb7862a56f"
   },
   "outputs": [
    {
     "name": "stdout",
     "output_type": "stream",
     "text": [
      "Class: Pedestrain has samples: 1014 \n",
      "Class: NO Stopping has samples: 1075 \n",
      "Class: Right Turn Prohibited has samples: 436 \n",
      "Class: Danger has samples: 399 \n",
      "Class: Compulsory Keep BothSide has samples: 573 \n",
      "Class: Maximum Speed 30 has samples: 477 \n",
      "Class: Right Margin has samples: 506 \n",
      "Class: Cycle crossing has samples: 662 \n",
      "Class: Roundabouts has samples: 497 \n",
      "Class: One way Traffic has samples: 684 \n",
      "Class: Compulsory Keep Right has samples: 703 \n",
      "Class: No Entry has samples: 930 \n",
      "\n",
      "Total number of samples:  7956\n",
      "\n",
      "Time taken: 0.010478019714355469\n"
     ]
    }
   ],
   "source": [
    "class_weights = get_class_weights(path_train, mappings)\n",
    "\n",
    "class_weights = torch.FloatTensor(class_weights)\n",
    "class_weights = class_weights.to(device)\n",
    "\n",
    "criterion = get_criterion(class_weights)"
   ]
  },
  {
   "cell_type": "code",
   "execution_count": null,
   "metadata": {
    "execution": {
     "iopub.execute_input": "2022-11-25T10:40:59.879398Z",
     "iopub.status.busy": "2022-11-25T10:40:59.877958Z",
     "iopub.status.idle": "2022-11-25T11:34:34.656537Z",
     "shell.execute_reply": "2022-11-25T11:34:34.655103Z",
     "shell.execute_reply.started": "2022-11-25T10:40:59.879362Z"
    },
    "id": "K1ERflED__lF",
    "outputId": "475de9ad-9840-42ec-a10d-780afa36ebc6"
   },
   "outputs": [
    {
     "name": "stdout",
     "output_type": "stream",
     "text": [
      "Epoch [1/10], Step [10/199], Loss: 1.8990, Accuracy: 25.00%, Validation Accuracy: 15.21%\n",
      "Epoch [1/10], Step [20/199], Loss: 2.1102, Accuracy: 31.25%, Validation Accuracy: 33.44%\n",
      "Epoch [1/10], Step [30/199], Loss: 1.7734, Accuracy: 50.00%, Validation Accuracy: 30.17%\n",
      "Epoch [1/10], Step [40/199], Loss: 1.8441, Accuracy: 28.12%, Validation Accuracy: 26.84%\n",
      "Epoch [1/10], Step [50/199], Loss: 1.3490, Accuracy: 50.00%, Validation Accuracy: 45.63%\n",
      "Epoch [1/10], Step [60/199], Loss: 1.2496, Accuracy: 53.12%, Validation Accuracy: 50.03%\n",
      "Epoch [1/10], Step [70/199], Loss: 1.5145, Accuracy: 50.00%, Validation Accuracy: 41.48%\n",
      "Epoch [1/10], Step [80/199], Loss: 1.5542, Accuracy: 65.62%, Validation Accuracy: 52.36%\n",
      "Epoch [1/10], Step [90/199], Loss: 1.3302, Accuracy: 50.00%, Validation Accuracy: 57.39%\n",
      "Epoch [1/10], Step [100/199], Loss: 1.8357, Accuracy: 46.88%, Validation Accuracy: 40.92%\n",
      "Epoch [1/10], Step [110/199], Loss: 1.2714, Accuracy: 46.88%, Validation Accuracy: 49.59%\n",
      "Epoch [1/10], Step [120/199], Loss: 1.3057, Accuracy: 53.12%, Validation Accuracy: 50.91%\n",
      "Epoch [1/10], Step [130/199], Loss: 1.1469, Accuracy: 56.25%, Validation Accuracy: 50.35%\n",
      "Epoch [1/10], Step [140/199], Loss: 1.1200, Accuracy: 62.50%, Validation Accuracy: 57.39%\n",
      "Epoch [1/10], Step [150/199], Loss: 1.1443, Accuracy: 71.88%, Validation Accuracy: 52.48%\n",
      "Epoch [1/10], Step [160/199], Loss: 0.8555, Accuracy: 71.88%, Validation Accuracy: 44.81%\n",
      "Epoch [1/10], Step [170/199], Loss: 1.5873, Accuracy: 34.38%, Validation Accuracy: 56.63%\n",
      "Epoch [1/10], Step [180/199], Loss: 1.0368, Accuracy: 65.62%, Validation Accuracy: 42.99%\n",
      "Epoch [1/10], Step [190/199], Loss: 0.9794, Accuracy: 71.88%, Validation Accuracy: 62.60%\n",
      "Epoch [2/10], Step [10/199], Loss: 0.7085, Accuracy: 71.88%, Validation Accuracy: 59.96%\n",
      "Epoch [2/10], Step [20/199], Loss: 0.9566, Accuracy: 65.62%, Validation Accuracy: 63.98%\n",
      "Epoch [2/10], Step [30/199], Loss: 0.7953, Accuracy: 75.00%, Validation Accuracy: 70.14%\n",
      "Epoch [2/10], Step [40/199], Loss: 0.8717, Accuracy: 65.62%, Validation Accuracy: 56.88%\n",
      "Epoch [2/10], Step [50/199], Loss: 0.5897, Accuracy: 81.25%, Validation Accuracy: 65.43%\n",
      "Epoch [2/10], Step [60/199], Loss: 0.8709, Accuracy: 62.50%, Validation Accuracy: 76.49%\n",
      "Epoch [2/10], Step [70/199], Loss: 0.8148, Accuracy: 68.75%, Validation Accuracy: 73.54%\n",
      "Epoch [2/10], Step [80/199], Loss: 0.6668, Accuracy: 81.25%, Validation Accuracy: 80.20%\n",
      "Epoch [2/10], Step [90/199], Loss: 0.5438, Accuracy: 81.25%, Validation Accuracy: 85.73%\n",
      "Epoch [2/10], Step [100/199], Loss: 0.5691, Accuracy: 84.38%, Validation Accuracy: 80.20%\n",
      "Epoch [2/10], Step [110/199], Loss: 0.3435, Accuracy: 84.38%, Validation Accuracy: 83.22%\n",
      "Epoch [2/10], Step [120/199], Loss: 0.5474, Accuracy: 81.25%, Validation Accuracy: 76.93%\n",
      "Epoch [2/10], Step [130/199], Loss: 0.6857, Accuracy: 78.12%, Validation Accuracy: 83.41%\n",
      "Epoch [2/10], Step [140/199], Loss: 0.5937, Accuracy: 75.00%, Validation Accuracy: 79.13%\n",
      "Epoch [2/10], Step [150/199], Loss: 0.8968, Accuracy: 75.00%, Validation Accuracy: 86.86%\n",
      "Epoch [2/10], Step [160/199], Loss: 0.3520, Accuracy: 90.62%, Validation Accuracy: 78.57%\n",
      "Epoch [2/10], Step [170/199], Loss: 0.5100, Accuracy: 84.38%, Validation Accuracy: 85.92%\n",
      "Epoch [2/10], Step [180/199], Loss: 0.1572, Accuracy: 96.88%, Validation Accuracy: 78.44%\n",
      "Epoch [2/10], Step [190/199], Loss: 0.2590, Accuracy: 93.75%, Validation Accuracy: 87.62%\n",
      "Epoch [3/10], Step [10/199], Loss: 0.2360, Accuracy: 93.75%, Validation Accuracy: 92.08%\n",
      "Epoch [3/10], Step [20/199], Loss: 0.5628, Accuracy: 87.50%, Validation Accuracy: 84.66%\n",
      "Epoch [3/10], Step [30/199], Loss: 0.2077, Accuracy: 90.62%, Validation Accuracy: 87.24%\n",
      "Epoch [3/10], Step [40/199], Loss: 0.3129, Accuracy: 90.62%, Validation Accuracy: 85.36%\n",
      "Epoch [3/10], Step [50/199], Loss: 0.0870, Accuracy: 96.88%, Validation Accuracy: 86.55%\n",
      "Epoch [3/10], Step [60/199], Loss: 0.0666, Accuracy: 96.88%, Validation Accuracy: 92.71%\n",
      "Epoch [3/10], Step [70/199], Loss: 0.0572, Accuracy: 100.00%, Validation Accuracy: 90.38%\n",
      "Epoch [3/10], Step [80/199], Loss: 0.1318, Accuracy: 96.88%, Validation Accuracy: 84.98%\n",
      "Epoch [3/10], Step [90/199], Loss: 0.3344, Accuracy: 90.62%, Validation Accuracy: 93.46%\n",
      "Epoch [3/10], Step [100/199], Loss: 0.2672, Accuracy: 96.88%, Validation Accuracy: 89.19%\n",
      "Epoch [3/10], Step [110/199], Loss: 0.5082, Accuracy: 84.38%, Validation Accuracy: 88.25%\n",
      "Epoch [3/10], Step [120/199], Loss: 0.1899, Accuracy: 93.75%, Validation Accuracy: 92.46%\n",
      "Epoch [3/10], Step [130/199], Loss: 0.3524, Accuracy: 84.38%, Validation Accuracy: 94.28%\n",
      "Epoch [3/10], Step [140/199], Loss: 0.1270, Accuracy: 100.00%, Validation Accuracy: 92.71%\n",
      "Epoch [3/10], Step [150/199], Loss: 0.3634, Accuracy: 84.38%, Validation Accuracy: 93.59%\n",
      "Epoch [3/10], Step [160/199], Loss: 0.1743, Accuracy: 93.75%, Validation Accuracy: 91.83%\n",
      "Epoch [3/10], Step [170/199], Loss: 0.2836, Accuracy: 87.50%, Validation Accuracy: 92.96%\n",
      "Epoch [3/10], Step [180/199], Loss: 0.1451, Accuracy: 96.88%, Validation Accuracy: 94.91%\n",
      "Epoch [3/10], Step [190/199], Loss: 0.1017, Accuracy: 96.88%, Validation Accuracy: 95.91%\n",
      "Epoch [4/10], Step [10/199], Loss: 0.0233, Accuracy: 100.00%, Validation Accuracy: 94.09%\n",
      "Epoch [4/10], Step [20/199], Loss: 0.0600, Accuracy: 96.88%, Validation Accuracy: 91.07%\n",
      "Epoch [4/10], Step [30/199], Loss: 0.1953, Accuracy: 96.88%, Validation Accuracy: 93.65%\n",
      "Epoch [4/10], Step [40/199], Loss: 0.0679, Accuracy: 96.88%, Validation Accuracy: 94.78%\n",
      "Epoch [4/10], Step [50/199], Loss: 0.1335, Accuracy: 96.88%, Validation Accuracy: 96.23%\n",
      "Epoch [4/10], Step [60/199], Loss: 0.1035, Accuracy: 96.88%, Validation Accuracy: 95.79%\n",
      "Epoch [4/10], Step [70/199], Loss: 0.0189, Accuracy: 100.00%, Validation Accuracy: 96.98%\n",
      "Epoch [4/10], Step [80/199], Loss: 0.2954, Accuracy: 93.75%, Validation Accuracy: 94.72%\n",
      "Epoch [4/10], Step [90/199], Loss: 0.2766, Accuracy: 90.62%, Validation Accuracy: 97.49%\n",
      "Epoch [4/10], Step [100/199], Loss: 0.0181, Accuracy: 100.00%, Validation Accuracy: 96.61%\n",
      "Epoch [4/10], Step [110/199], Loss: 0.0698, Accuracy: 96.88%, Validation Accuracy: 95.85%\n",
      "Epoch [4/10], Step [120/199], Loss: 0.0851, Accuracy: 96.88%, Validation Accuracy: 93.84%\n",
      "Epoch [4/10], Step [130/199], Loss: 0.0525, Accuracy: 100.00%, Validation Accuracy: 93.09%\n",
      "Epoch [4/10], Step [140/199], Loss: 0.2107, Accuracy: 93.75%, Validation Accuracy: 96.73%\n",
      "Epoch [4/10], Step [150/199], Loss: 0.1592, Accuracy: 96.88%, Validation Accuracy: 92.71%\n",
      "Epoch [4/10], Step [160/199], Loss: 0.0475, Accuracy: 100.00%, Validation Accuracy: 95.16%\n",
      "Epoch [4/10], Step [170/199], Loss: 0.3132, Accuracy: 93.75%, Validation Accuracy: 96.35%\n",
      "Epoch [4/10], Step [180/199], Loss: 0.0366, Accuracy: 100.00%, Validation Accuracy: 94.03%\n",
      "Epoch [4/10], Step [190/199], Loss: 0.0563, Accuracy: 100.00%, Validation Accuracy: 97.86%\n",
      "Epoch [5/10], Step [10/199], Loss: 0.0565, Accuracy: 96.88%, Validation Accuracy: 97.61%\n",
      "Epoch [5/10], Step [20/199], Loss: 0.0083, Accuracy: 100.00%, Validation Accuracy: 97.99%\n",
      "Epoch [5/10], Step [30/199], Loss: 0.1334, Accuracy: 93.75%, Validation Accuracy: 97.61%\n",
      "Epoch [5/10], Step [40/199], Loss: 0.0959, Accuracy: 96.88%, Validation Accuracy: 97.67%\n",
      "Epoch [5/10], Step [50/199], Loss: 0.1805, Accuracy: 93.75%, Validation Accuracy: 96.86%\n",
      "Epoch [5/10], Step [60/199], Loss: 0.0798, Accuracy: 96.88%, Validation Accuracy: 97.99%\n",
      "Epoch [5/10], Step [70/199], Loss: 0.0319, Accuracy: 100.00%, Validation Accuracy: 96.10%\n",
      "Epoch [5/10], Step [80/199], Loss: 0.0353, Accuracy: 100.00%, Validation Accuracy: 97.61%\n",
      "Epoch [5/10], Step [90/199], Loss: 0.1203, Accuracy: 96.88%, Validation Accuracy: 95.79%\n",
      "Epoch [5/10], Step [100/199], Loss: 0.0733, Accuracy: 96.88%, Validation Accuracy: 97.55%\n",
      "Epoch [5/10], Step [110/199], Loss: 0.0172, Accuracy: 100.00%, Validation Accuracy: 97.30%\n",
      "Epoch [5/10], Step [120/199], Loss: 0.0160, Accuracy: 100.00%, Validation Accuracy: 97.74%\n",
      "Epoch [5/10], Step [130/199], Loss: 0.1730, Accuracy: 96.88%, Validation Accuracy: 96.98%\n",
      "Epoch [5/10], Step [140/199], Loss: 0.0818, Accuracy: 96.88%, Validation Accuracy: 96.35%\n",
      "Epoch [5/10], Step [150/199], Loss: 0.0244, Accuracy: 100.00%, Validation Accuracy: 96.73%\n",
      "Epoch [5/10], Step [160/199], Loss: 0.0684, Accuracy: 100.00%, Validation Accuracy: 97.67%\n",
      "Epoch [5/10], Step [170/199], Loss: 0.3708, Accuracy: 93.75%, Validation Accuracy: 97.49%\n",
      "Epoch [5/10], Step [180/199], Loss: 0.3997, Accuracy: 90.62%, Validation Accuracy: 96.23%\n",
      "Epoch [5/10], Step [190/199], Loss: 0.0177, Accuracy: 100.00%, Validation Accuracy: 97.61%\n",
      "Epoch [6/10], Step [10/199], Loss: 0.0609, Accuracy: 96.88%, Validation Accuracy: 98.30%\n",
      "Epoch [6/10], Step [20/199], Loss: 0.0550, Accuracy: 96.88%, Validation Accuracy: 97.74%\n",
      "Epoch [6/10], Step [30/199], Loss: 0.0392, Accuracy: 96.88%, Validation Accuracy: 98.93%\n",
      "Epoch [6/10], Step [40/199], Loss: 0.0298, Accuracy: 100.00%, Validation Accuracy: 98.99%\n",
      "Epoch [6/10], Step [50/199], Loss: 0.0601, Accuracy: 96.88%, Validation Accuracy: 97.67%\n",
      "Epoch [6/10], Step [60/199], Loss: 0.1524, Accuracy: 96.88%, Validation Accuracy: 97.93%\n",
      "Epoch [6/10], Step [70/199], Loss: 0.1743, Accuracy: 93.75%, Validation Accuracy: 96.98%\n",
      "Epoch [6/10], Step [80/199], Loss: 0.0044, Accuracy: 100.00%, Validation Accuracy: 98.43%\n",
      "Epoch [6/10], Step [90/199], Loss: 0.1738, Accuracy: 93.75%, Validation Accuracy: 98.18%\n",
      "Epoch [6/10], Step [100/199], Loss: 0.0453, Accuracy: 96.88%, Validation Accuracy: 97.61%\n",
      "Epoch [6/10], Step [110/199], Loss: 0.0182, Accuracy: 100.00%, Validation Accuracy: 97.67%\n",
      "Epoch [6/10], Step [120/199], Loss: 0.0464, Accuracy: 100.00%, Validation Accuracy: 96.04%\n",
      "Epoch [6/10], Step [130/199], Loss: 0.1085, Accuracy: 96.88%, Validation Accuracy: 97.23%\n",
      "Epoch [6/10], Step [140/199], Loss: 0.0185, Accuracy: 100.00%, Validation Accuracy: 97.99%\n",
      "Epoch [6/10], Step [150/199], Loss: 0.0206, Accuracy: 100.00%, Validation Accuracy: 93.65%\n",
      "Epoch [6/10], Step [160/199], Loss: 0.1060, Accuracy: 96.88%, Validation Accuracy: 96.17%\n",
      "Epoch [6/10], Step [170/199], Loss: 0.0929, Accuracy: 93.75%, Validation Accuracy: 97.11%\n",
      "Epoch [6/10], Step [180/199], Loss: 0.0630, Accuracy: 96.88%, Validation Accuracy: 96.67%\n",
      "Epoch [6/10], Step [190/199], Loss: 0.0642, Accuracy: 96.88%, Validation Accuracy: 93.97%\n",
      "Epoch [7/10], Step [10/199], Loss: 0.0138, Accuracy: 100.00%, Validation Accuracy: 97.17%\n",
      "Epoch [7/10], Step [20/199], Loss: 0.0403, Accuracy: 100.00%, Validation Accuracy: 97.86%\n",
      "Epoch [7/10], Step [30/199], Loss: 0.2006, Accuracy: 93.75%, Validation Accuracy: 97.93%\n",
      "Epoch [7/10], Step [40/199], Loss: 0.0240, Accuracy: 100.00%, Validation Accuracy: 97.11%\n",
      "Epoch [7/10], Step [50/199], Loss: 0.0326, Accuracy: 100.00%, Validation Accuracy: 98.18%\n",
      "Epoch [7/10], Step [60/199], Loss: 0.0362, Accuracy: 100.00%, Validation Accuracy: 98.55%\n",
      "Epoch [7/10], Step [70/199], Loss: 0.0116, Accuracy: 100.00%, Validation Accuracy: 98.68%\n",
      "Epoch [7/10], Step [80/199], Loss: 0.0325, Accuracy: 100.00%, Validation Accuracy: 98.24%\n",
      "Epoch [7/10], Step [90/199], Loss: 0.0295, Accuracy: 96.88%, Validation Accuracy: 98.87%\n",
      "Epoch [7/10], Step [100/199], Loss: 0.0826, Accuracy: 96.88%, Validation Accuracy: 98.74%\n",
      "Epoch [7/10], Step [110/199], Loss: 0.0019, Accuracy: 100.00%, Validation Accuracy: 98.62%\n",
      "Epoch [7/10], Step [120/199], Loss: 0.1501, Accuracy: 96.88%, Validation Accuracy: 98.49%\n",
      "Epoch [7/10], Step [130/199], Loss: 0.0136, Accuracy: 100.00%, Validation Accuracy: 94.53%\n",
      "Epoch [7/10], Step [140/199], Loss: 0.1154, Accuracy: 96.88%, Validation Accuracy: 97.61%\n",
      "Epoch [7/10], Step [150/199], Loss: 0.0910, Accuracy: 96.88%, Validation Accuracy: 98.55%\n",
      "Epoch [7/10], Step [160/199], Loss: 0.0136, Accuracy: 100.00%, Validation Accuracy: 98.62%\n",
      "Epoch [7/10], Step [170/199], Loss: 0.0112, Accuracy: 100.00%, Validation Accuracy: 98.37%\n",
      "Epoch [7/10], Step [180/199], Loss: 0.0408, Accuracy: 100.00%, Validation Accuracy: 98.43%\n",
      "Epoch [7/10], Step [190/199], Loss: 0.0262, Accuracy: 100.00%, Validation Accuracy: 98.55%\n",
      "Epoch [8/10], Step [10/199], Loss: 0.0321, Accuracy: 100.00%, Validation Accuracy: 98.55%\n",
      "Epoch [8/10], Step [20/199], Loss: 0.0087, Accuracy: 100.00%, Validation Accuracy: 99.12%\n",
      "Epoch [8/10], Step [30/199], Loss: 0.0458, Accuracy: 100.00%, Validation Accuracy: 99.12%\n",
      "Epoch [8/10], Step [40/199], Loss: 0.2078, Accuracy: 93.75%, Validation Accuracy: 97.55%\n",
      "Epoch [8/10], Step [50/199], Loss: 0.0579, Accuracy: 96.88%, Validation Accuracy: 99.25%\n",
      "Epoch [8/10], Step [60/199], Loss: 0.0267, Accuracy: 100.00%, Validation Accuracy: 98.74%\n",
      "Epoch [8/10], Step [70/199], Loss: 0.1506, Accuracy: 93.75%, Validation Accuracy: 97.11%\n",
      "Epoch [8/10], Step [80/199], Loss: 0.0845, Accuracy: 96.88%, Validation Accuracy: 97.49%\n",
      "Epoch [8/10], Step [90/199], Loss: 0.0073, Accuracy: 100.00%, Validation Accuracy: 98.11%\n",
      "Epoch [8/10], Step [100/199], Loss: 0.0792, Accuracy: 96.88%, Validation Accuracy: 98.62%\n",
      "Epoch [8/10], Step [110/199], Loss: 0.0088, Accuracy: 100.00%, Validation Accuracy: 98.62%\n",
      "Epoch [8/10], Step [120/199], Loss: 0.0298, Accuracy: 96.88%, Validation Accuracy: 98.93%\n",
      "Epoch [8/10], Step [130/199], Loss: 0.0026, Accuracy: 100.00%, Validation Accuracy: 98.93%\n",
      "Epoch [8/10], Step [140/199], Loss: 0.0218, Accuracy: 100.00%, Validation Accuracy: 99.18%\n",
      "Epoch [8/10], Step [150/199], Loss: 0.0243, Accuracy: 100.00%, Validation Accuracy: 99.18%\n",
      "Epoch [8/10], Step [160/199], Loss: 0.0046, Accuracy: 100.00%, Validation Accuracy: 98.37%\n",
      "Epoch [8/10], Step [170/199], Loss: 0.0161, Accuracy: 100.00%, Validation Accuracy: 98.81%\n",
      "Epoch [8/10], Step [180/199], Loss: 0.0260, Accuracy: 100.00%, Validation Accuracy: 99.06%\n",
      "Epoch [8/10], Step [190/199], Loss: 0.0271, Accuracy: 96.88%, Validation Accuracy: 98.05%\n",
      "Epoch [9/10], Step [10/199], Loss: 0.0062, Accuracy: 100.00%, Validation Accuracy: 98.93%\n",
      "Epoch [9/10], Step [20/199], Loss: 0.0205, Accuracy: 100.00%, Validation Accuracy: 98.49%\n",
      "Epoch [9/10], Step [30/199], Loss: 0.0128, Accuracy: 100.00%, Validation Accuracy: 98.81%\n",
      "Epoch [9/10], Step [40/199], Loss: 0.0650, Accuracy: 96.88%, Validation Accuracy: 98.18%\n",
      "Epoch [9/10], Step [50/199], Loss: 0.0121, Accuracy: 100.00%, Validation Accuracy: 98.68%\n",
      "Epoch [9/10], Step [60/199], Loss: 0.0621, Accuracy: 96.88%, Validation Accuracy: 98.74%\n",
      "Epoch [9/10], Step [70/199], Loss: 0.0266, Accuracy: 100.00%, Validation Accuracy: 98.93%\n",
      "Epoch [9/10], Step [80/199], Loss: 0.0137, Accuracy: 100.00%, Validation Accuracy: 99.12%\n",
      "Epoch [9/10], Step [90/199], Loss: 0.0144, Accuracy: 100.00%, Validation Accuracy: 98.87%\n",
      "Epoch [9/10], Step [100/199], Loss: 0.0127, Accuracy: 100.00%, Validation Accuracy: 98.55%\n",
      "Epoch [9/10], Step [110/199], Loss: 0.0404, Accuracy: 100.00%, Validation Accuracy: 98.62%\n",
      "Epoch [9/10], Step [120/199], Loss: 0.0452, Accuracy: 100.00%, Validation Accuracy: 96.23%\n",
      "Epoch [9/10], Step [130/199], Loss: 0.2893, Accuracy: 96.88%, Validation Accuracy: 98.43%\n",
      "Epoch [9/10], Step [140/199], Loss: 0.0027, Accuracy: 100.00%, Validation Accuracy: 98.43%\n",
      "Epoch [9/10], Step [150/199], Loss: 0.0432, Accuracy: 96.88%, Validation Accuracy: 98.62%\n",
      "Epoch [9/10], Step [160/199], Loss: 0.0239, Accuracy: 100.00%, Validation Accuracy: 98.68%\n",
      "Epoch [9/10], Step [170/199], Loss: 0.0198, Accuracy: 100.00%, Validation Accuracy: 98.55%\n",
      "Epoch [9/10], Step [180/199], Loss: 0.0189, Accuracy: 100.00%, Validation Accuracy: 97.74%\n",
      "Epoch [9/10], Step [190/199], Loss: 0.2070, Accuracy: 96.88%, Validation Accuracy: 96.23%\n",
      "Epoch [10/10], Step [10/199], Loss: 0.0555, Accuracy: 96.88%, Validation Accuracy: 98.05%\n",
      "Epoch [10/10], Step [20/199], Loss: 0.1184, Accuracy: 93.75%, Validation Accuracy: 98.18%\n",
      "Epoch [10/10], Step [30/199], Loss: 0.0367, Accuracy: 96.88%, Validation Accuracy: 97.67%\n",
      "Epoch [10/10], Step [40/199], Loss: 0.0206, Accuracy: 100.00%, Validation Accuracy: 98.93%\n",
      "Epoch [10/10], Step [50/199], Loss: 0.0174, Accuracy: 100.00%, Validation Accuracy: 98.99%\n",
      "Epoch [10/10], Step [60/199], Loss: 0.0059, Accuracy: 100.00%, Validation Accuracy: 98.74%\n",
      "Epoch [10/10], Step [70/199], Loss: 0.0618, Accuracy: 96.88%, Validation Accuracy: 98.87%\n",
      "Epoch [10/10], Step [80/199], Loss: 0.0008, Accuracy: 100.00%, Validation Accuracy: 98.68%\n",
      "Epoch [10/10], Step [90/199], Loss: 0.0153, Accuracy: 100.00%, Validation Accuracy: 99.31%\n",
      "Epoch [10/10], Step [100/199], Loss: 0.0180, Accuracy: 100.00%, Validation Accuracy: 99.25%\n",
      "Epoch [10/10], Step [110/199], Loss: 0.0111, Accuracy: 100.00%, Validation Accuracy: 99.37%\n",
      "Epoch [10/10], Step [120/199], Loss: 0.0082, Accuracy: 100.00%, Validation Accuracy: 99.18%\n",
      "Epoch [10/10], Step [130/199], Loss: 0.0092, Accuracy: 100.00%, Validation Accuracy: 99.37%\n",
      "Epoch [10/10], Step [140/199], Loss: 0.0034, Accuracy: 100.00%, Validation Accuracy: 98.81%\n",
      "Epoch [10/10], Step [150/199], Loss: 0.0055, Accuracy: 100.00%, Validation Accuracy: 98.87%\n",
      "Epoch [10/10], Step [160/199], Loss: 0.0277, Accuracy: 100.00%, Validation Accuracy: 98.62%\n",
      "Epoch [10/10], Step [170/199], Loss: 0.0322, Accuracy: 100.00%, Validation Accuracy: 97.36%\n",
      "Epoch [10/10], Step [180/199], Loss: 0.0020, Accuracy: 100.00%, Validation Accuracy: 98.87%\n",
      "Epoch [10/10], Step [190/199], Loss: 0.2694, Accuracy: 90.62%, Validation Accuracy: 98.99%\n",
      "######## Training Finished in 3214.686689376831 seconds ###########\n",
      "/n/n Saving model at:  /kaggle/working/resnetmodel_d2.pt\n"
     ]
    }
   ],
   "source": [
    "model_savepath = savepath+\"resnetmodel_d2.pt\"\n",
    "results_savepath = savepath+\"resnetmodel_d2_results.pkb\"\n",
    "\n",
    "trained_ResNet_model, device = train_model(ResNet_model, num_epochs, train_loader, criterion, optimizer, model_savepath, results_savepath, device)"
   ]
  },
  {
   "cell_type": "code",
   "execution_count": 77,
   "metadata": {
    "colab": {
     "base_uri": "https://localhost:8080/"
    },
    "execution": {
     "iopub.execute_input": "2022-11-25T11:34:34.662513Z",
     "iopub.status.busy": "2022-11-25T11:34:34.661167Z",
     "iopub.status.idle": "2022-11-25T11:34:42.296126Z",
     "shell.execute_reply": "2022-11-25T11:34:42.294885Z",
     "shell.execute_reply.started": "2022-11-25T11:34:34.662459Z"
    },
    "id": "-mxR4zp3__lF",
    "outputId": "95768f75-6369-4fbb-d765-a4543f433f5a"
   },
   "outputs": [
    {
     "name": "stdout",
     "output_type": "stream",
     "text": [
      "Model Evaluation Results on 1228 test samples\n",
      "Test Accuracy:  96.41693811074919\n",
      "Test F1 Score:  tensor(0.9642)\n",
      "Test Precision & Recall: (tensor(0.9539), tensor(0.9657))\n",
      "Test AUC score: tensor(0.0858)\n"
     ]
    }
   ],
   "source": [
    "evaluate_model(trained_ResNet_model, test_loader, device, nclasses)"
   ]
  },
  {
   "cell_type": "code",
   "execution_count": null,
   "metadata": {
    "id": "I3pzq0u1ASD_"
   },
   "outputs": [],
   "source": []
  },
  {
   "cell_type": "markdown",
   "metadata": {
    "id": "4043AzG3ASUy"
   },
   "source": [
    "on dataset 3:"
   ]
  },
  {
   "cell_type": "code",
   "execution_count": 78,
   "metadata": {
    "execution": {
     "iopub.execute_input": "2022-11-25T11:34:42.312338Z",
     "iopub.status.busy": "2022-11-25T11:34:42.311623Z",
     "iopub.status.idle": "2022-11-25T11:34:42.318069Z",
     "shell.execute_reply": "2022-11-25T11:34:42.316708Z",
     "shell.execute_reply.started": "2022-11-25T11:34:42.312296Z"
    },
    "id": "slCE7VT-N-wI"
   },
   "outputs": [],
   "source": [
    "nclasses=8"
   ]
  },
  {
   "cell_type": "code",
   "execution_count": 79,
   "metadata": {
    "colab": {
     "base_uri": "https://localhost:8080/"
    },
    "execution": {
     "iopub.execute_input": "2022-11-25T11:34:42.320391Z",
     "iopub.status.busy": "2022-11-25T11:34:42.319888Z",
     "iopub.status.idle": "2022-11-25T11:34:42.514127Z",
     "shell.execute_reply": "2022-11-25T11:34:42.511937Z",
     "shell.execute_reply.started": "2022-11-25T11:34:42.320353Z"
    },
    "id": "A0Ur9P8HASUz",
    "outputId": "d06ea7b0-b943-4de9-d0ca-a5415a51b1b9"
   },
   "outputs": [
    {
     "name": "stderr",
     "output_type": "stream",
     "text": [
      "Using cache found in /root/.cache/torch/hub/pytorch_vision_v0.10.0\n"
     ]
    }
   ],
   "source": [
    "ResNet_model = torch.hub.load('pytorch/vision:v0.10.0', 'resnet18', pretrained=False)"
   ]
  },
  {
   "cell_type": "code",
   "execution_count": 80,
   "metadata": {
    "execution": {
     "iopub.execute_input": "2022-11-25T11:34:42.516625Z",
     "iopub.status.busy": "2022-11-25T11:34:42.515768Z",
     "iopub.status.idle": "2022-11-25T11:34:42.523675Z",
     "shell.execute_reply": "2022-11-25T11:34:42.522337Z",
     "shell.execute_reply.started": "2022-11-25T11:34:42.516575Z"
    },
    "id": "YrfStAaKASUz"
   },
   "outputs": [],
   "source": [
    "ResNet_model.fc = nn.Linear( 512, nclasses)"
   ]
  },
  {
   "cell_type": "code",
   "execution_count": 81,
   "metadata": {
    "execution": {
     "iopub.execute_input": "2022-11-25T11:34:42.526306Z",
     "iopub.status.busy": "2022-11-25T11:34:42.525202Z",
     "iopub.status.idle": "2022-11-25T11:34:42.535886Z",
     "shell.execute_reply": "2022-11-25T11:34:42.534831Z",
     "shell.execute_reply.started": "2022-11-25T11:34:42.526260Z"
    },
    "id": "HBvyHzXGASUz"
   },
   "outputs": [],
   "source": [
    "optimizer = torch.optim.Adam(ResNet_model.parameters(), lr=learning_rate) "
   ]
  },
  {
   "cell_type": "code",
   "execution_count": 82,
   "metadata": {
    "execution": {
     "iopub.execute_input": "2022-11-25T11:34:42.537773Z",
     "iopub.status.busy": "2022-11-25T11:34:42.537229Z",
     "iopub.status.idle": "2022-11-25T11:34:49.340772Z",
     "shell.execute_reply": "2022-11-25T11:34:49.339823Z",
     "shell.execute_reply.started": "2022-11-25T11:34:42.537734Z"
    },
    "id": "sEjpaUpcASUz"
   },
   "outputs": [],
   "source": [
    "path_train = path_dataset3+\"Train/\"\n",
    "path_test = path_dataset3+\"Test/\"\n",
    "val_split = 0.2\n",
    "batch_size = 32\n",
    "input_size = (224,224)\n",
    "\n",
    "train_loader, test_loader, val_loader, mappings = load_data(path_train, val_split, path_test, batch_size, input_size)"
   ]
  },
  {
   "cell_type": "code",
   "execution_count": null,
   "metadata": {
    "execution": {
     "iopub.execute_input": "2022-11-25T11:34:49.343134Z",
     "iopub.status.busy": "2022-11-25T11:34:49.342410Z",
     "iopub.status.idle": "2022-11-25T11:34:49.365580Z",
     "shell.execute_reply": "2022-11-25T11:34:49.364587Z",
     "shell.execute_reply.started": "2022-11-25T11:34:49.343092Z"
    },
    "id": "ezRoDC3gVyCl",
    "outputId": "06dc981e-1c3b-4a61-89b0-c5bd76abbd82"
   },
   "outputs": [
    {
     "name": "stdout",
     "output_type": "stream",
     "text": [
      "Device: cuda:0\n"
     ]
    }
   ],
   "source": [
    "device = torch.device(\"cuda:0\" if torch.cuda.is_available() else \"cpu\")\n",
    "print(\"Device: {}\".format(device))\n",
    "x = ResNet_model.to(device)"
   ]
  },
  {
   "cell_type": "code",
   "execution_count": null,
   "metadata": {
    "execution": {
     "iopub.execute_input": "2022-11-25T11:34:49.368109Z",
     "iopub.status.busy": "2022-11-25T11:34:49.367379Z",
     "iopub.status.idle": "2022-11-25T11:34:49.382583Z",
     "shell.execute_reply": "2022-11-25T11:34:49.381555Z",
     "shell.execute_reply.started": "2022-11-25T11:34:49.368067Z"
    },
    "id": "1uuIdfbD9nnU",
    "outputId": "db905b84-1612-4889-f70a-e0a81e24af1f"
   },
   "outputs": [
    {
     "name": "stdout",
     "output_type": "stream",
     "text": [
      "Class: 7 has samples: 1433 \n",
      "Class: 2 has samples: 2243 \n",
      "Class: 5 has samples: 1853 \n",
      "Class: 8 has samples: 1403 \n",
      "Class: 3 has samples: 1403 \n",
      "Class: 1 has samples: 2213 \n",
      "Class: 4 has samples: 1973 \n",
      "Class: 9 has samples: 1463 \n",
      "\n",
      "Total number of samples:  13984\n",
      "\n",
      "Time taken: 0.009002208709716797\n"
     ]
    }
   ],
   "source": [
    "class_weights = get_class_weights(path_train, mappings)\n",
    "\n",
    "class_weights = torch.FloatTensor(class_weights)\n",
    "class_weights = class_weights.to(device)\n",
    "\n",
    "criterion = get_criterion(class_weights)"
   ]
  },
  {
   "cell_type": "code",
   "execution_count": null,
   "metadata": {
    "execution": {
     "iopub.execute_input": "2022-11-25T11:34:49.384517Z",
     "iopub.status.busy": "2022-11-25T11:34:49.384088Z",
     "iopub.status.idle": "2022-11-25T13:15:04.698289Z",
     "shell.execute_reply": "2022-11-25T13:15:04.697154Z",
     "shell.execute_reply.started": "2022-11-25T11:34:49.384483Z"
    },
    "id": "CSolqegyASUz",
    "outputId": "7e3c0cc9-d67a-492c-c972-a47c30b9e7e1"
   },
   "outputs": [
    {
     "name": "stdout",
     "output_type": "stream",
     "text": [
      "Epoch [1/10], Step [10/350], Loss: 2.2000, Accuracy: 25.00%, Validation Accuracy: 11.59%\n",
      "Epoch [1/10], Step [20/350], Loss: 2.1074, Accuracy: 18.75%, Validation Accuracy: 10.12%\n",
      "Epoch [1/10], Step [30/350], Loss: 1.9264, Accuracy: 25.00%, Validation Accuracy: 21.89%\n",
      "Epoch [1/10], Step [40/350], Loss: 2.0483, Accuracy: 21.88%, Validation Accuracy: 19.89%\n",
      "Epoch [1/10], Step [50/350], Loss: 1.9164, Accuracy: 25.00%, Validation Accuracy: 21.46%\n",
      "Epoch [1/10], Step [60/350], Loss: 1.8880, Accuracy: 21.88%, Validation Accuracy: 19.99%\n",
      "Epoch [1/10], Step [70/350], Loss: 1.8844, Accuracy: 18.75%, Validation Accuracy: 18.31%\n",
      "Epoch [1/10], Step [80/350], Loss: 2.1308, Accuracy: 21.88%, Validation Accuracy: 15.34%\n",
      "Epoch [1/10], Step [90/350], Loss: 1.9996, Accuracy: 12.50%, Validation Accuracy: 23.46%\n",
      "Epoch [1/10], Step [100/350], Loss: 1.9659, Accuracy: 25.00%, Validation Accuracy: 22.46%\n",
      "Epoch [1/10], Step [110/350], Loss: 1.8453, Accuracy: 18.75%, Validation Accuracy: 20.39%\n",
      "Epoch [1/10], Step [120/350], Loss: 1.9376, Accuracy: 28.12%, Validation Accuracy: 20.06%\n",
      "Epoch [1/10], Step [130/350], Loss: 1.9056, Accuracy: 31.25%, Validation Accuracy: 14.38%\n",
      "Epoch [1/10], Step [140/350], Loss: 1.9781, Accuracy: 15.62%, Validation Accuracy: 21.96%\n",
      "Epoch [1/10], Step [150/350], Loss: 2.0316, Accuracy: 21.88%, Validation Accuracy: 20.96%\n",
      "Epoch [1/10], Step [160/350], Loss: 1.8849, Accuracy: 15.62%, Validation Accuracy: 24.14%\n",
      "Epoch [1/10], Step [170/350], Loss: 1.9942, Accuracy: 9.38%, Validation Accuracy: 24.46%\n",
      "Epoch [1/10], Step [180/350], Loss: 2.1619, Accuracy: 18.75%, Validation Accuracy: 21.96%\n",
      "Epoch [1/10], Step [190/350], Loss: 1.9247, Accuracy: 25.00%, Validation Accuracy: 22.39%\n",
      "Epoch [1/10], Step [200/350], Loss: 1.9687, Accuracy: 18.75%, Validation Accuracy: 18.42%\n",
      "Epoch [1/10], Step [210/350], Loss: 2.0861, Accuracy: 15.62%, Validation Accuracy: 20.85%\n",
      "Epoch [1/10], Step [220/350], Loss: 1.9748, Accuracy: 18.75%, Validation Accuracy: 22.32%\n",
      "Epoch [1/10], Step [230/350], Loss: 1.8962, Accuracy: 18.75%, Validation Accuracy: 17.10%\n",
      "Epoch [1/10], Step [240/350], Loss: 2.0247, Accuracy: 31.25%, Validation Accuracy: 21.10%\n",
      "Epoch [1/10], Step [250/350], Loss: 2.1469, Accuracy: 25.00%, Validation Accuracy: 22.35%\n",
      "Epoch [1/10], Step [260/350], Loss: 1.7910, Accuracy: 21.88%, Validation Accuracy: 24.03%\n",
      "Epoch [1/10], Step [270/350], Loss: 2.0297, Accuracy: 6.25%, Validation Accuracy: 22.28%\n",
      "Epoch [1/10], Step [280/350], Loss: 2.0158, Accuracy: 21.88%, Validation Accuracy: 22.78%\n",
      "Epoch [1/10], Step [290/350], Loss: 1.9276, Accuracy: 25.00%, Validation Accuracy: 20.42%\n",
      "Epoch [1/10], Step [300/350], Loss: 1.8117, Accuracy: 31.25%, Validation Accuracy: 22.89%\n",
      "Epoch [1/10], Step [310/350], Loss: 1.9156, Accuracy: 21.88%, Validation Accuracy: 24.46%\n",
      "Epoch [1/10], Step [320/350], Loss: 1.8631, Accuracy: 21.88%, Validation Accuracy: 22.93%\n",
      "Epoch [1/10], Step [330/350], Loss: 1.9487, Accuracy: 31.25%, Validation Accuracy: 24.00%\n",
      "Epoch [1/10], Step [340/350], Loss: 2.0289, Accuracy: 18.75%, Validation Accuracy: 21.67%\n",
      "Epoch [1/10], Step [350/350], Loss: 1.7389, Accuracy: 40.00%, Validation Accuracy: 24.03%\n",
      "Epoch [2/10], Step [10/350], Loss: 1.9167, Accuracy: 18.75%, Validation Accuracy: 24.36%\n",
      "Epoch [2/10], Step [20/350], Loss: 1.7734, Accuracy: 31.25%, Validation Accuracy: 23.21%\n",
      "Epoch [2/10], Step [30/350], Loss: 1.9648, Accuracy: 28.12%, Validation Accuracy: 26.54%\n",
      "Epoch [2/10], Step [40/350], Loss: 1.8820, Accuracy: 25.00%, Validation Accuracy: 24.11%\n",
      "Epoch [2/10], Step [50/350], Loss: 1.8956, Accuracy: 31.25%, Validation Accuracy: 21.82%\n",
      "Epoch [2/10], Step [60/350], Loss: 1.7780, Accuracy: 31.25%, Validation Accuracy: 21.96%\n",
      "Epoch [2/10], Step [70/350], Loss: 2.0718, Accuracy: 21.88%, Validation Accuracy: 21.64%\n",
      "Epoch [2/10], Step [80/350], Loss: 1.8264, Accuracy: 53.12%, Validation Accuracy: 25.21%\n",
      "Epoch [2/10], Step [90/350], Loss: 1.8343, Accuracy: 34.38%, Validation Accuracy: 18.35%\n",
      "Epoch [2/10], Step [100/350], Loss: 1.8716, Accuracy: 21.88%, Validation Accuracy: 25.21%\n",
      "Epoch [2/10], Step [110/350], Loss: 1.9546, Accuracy: 21.88%, Validation Accuracy: 19.24%\n",
      "Epoch [2/10], Step [120/350], Loss: 1.8871, Accuracy: 12.50%, Validation Accuracy: 23.32%\n",
      "Epoch [2/10], Step [130/350], Loss: 1.9479, Accuracy: 18.75%, Validation Accuracy: 20.89%\n",
      "Epoch [2/10], Step [140/350], Loss: 1.9580, Accuracy: 31.25%, Validation Accuracy: 23.78%\n",
      "Epoch [2/10], Step [150/350], Loss: 1.8064, Accuracy: 25.00%, Validation Accuracy: 24.14%\n",
      "Epoch [2/10], Step [160/350], Loss: 1.7104, Accuracy: 43.75%, Validation Accuracy: 25.21%\n",
      "Epoch [2/10], Step [170/350], Loss: 1.8956, Accuracy: 37.50%, Validation Accuracy: 26.22%\n",
      "Epoch [2/10], Step [180/350], Loss: 1.8650, Accuracy: 21.88%, Validation Accuracy: 26.00%\n",
      "Epoch [2/10], Step [190/350], Loss: 1.8059, Accuracy: 34.38%, Validation Accuracy: 32.94%\n",
      "Epoch [2/10], Step [200/350], Loss: 1.4520, Accuracy: 50.00%, Validation Accuracy: 29.69%\n",
      "Epoch [2/10], Step [210/350], Loss: 1.8800, Accuracy: 28.12%, Validation Accuracy: 29.33%\n",
      "Epoch [2/10], Step [220/350], Loss: 1.8129, Accuracy: 25.00%, Validation Accuracy: 23.18%\n",
      "Epoch [2/10], Step [230/350], Loss: 1.9431, Accuracy: 18.75%, Validation Accuracy: 31.19%\n",
      "Epoch [2/10], Step [240/350], Loss: 1.7959, Accuracy: 28.12%, Validation Accuracy: 21.75%\n",
      "Epoch [2/10], Step [250/350], Loss: 1.6486, Accuracy: 37.50%, Validation Accuracy: 28.79%\n",
      "Epoch [2/10], Step [260/350], Loss: 1.5168, Accuracy: 37.50%, Validation Accuracy: 34.59%\n",
      "Epoch [2/10], Step [270/350], Loss: 1.6036, Accuracy: 37.50%, Validation Accuracy: 31.97%\n",
      "Epoch [2/10], Step [280/350], Loss: 1.7223, Accuracy: 43.75%, Validation Accuracy: 32.30%\n",
      "Epoch [2/10], Step [290/350], Loss: 1.5219, Accuracy: 50.00%, Validation Accuracy: 31.51%\n",
      "Epoch [2/10], Step [300/350], Loss: 1.4195, Accuracy: 50.00%, Validation Accuracy: 38.81%\n",
      "Epoch [2/10], Step [310/350], Loss: 1.5913, Accuracy: 34.38%, Validation Accuracy: 35.12%\n",
      "Epoch [2/10], Step [320/350], Loss: 1.5919, Accuracy: 43.75%, Validation Accuracy: 34.37%\n",
      "Epoch [2/10], Step [330/350], Loss: 1.5829, Accuracy: 40.62%, Validation Accuracy: 28.83%\n",
      "Epoch [2/10], Step [340/350], Loss: 1.3910, Accuracy: 40.62%, Validation Accuracy: 28.68%\n",
      "Epoch [2/10], Step [350/350], Loss: 1.1702, Accuracy: 45.00%, Validation Accuracy: 37.45%\n",
      "Epoch [3/10], Step [10/350], Loss: 1.1956, Accuracy: 56.25%, Validation Accuracy: 39.38%\n",
      "Epoch [3/10], Step [20/350], Loss: 1.5789, Accuracy: 50.00%, Validation Accuracy: 35.77%\n",
      "Epoch [3/10], Step [30/350], Loss: 1.2233, Accuracy: 50.00%, Validation Accuracy: 43.85%\n",
      "Epoch [3/10], Step [40/350], Loss: 1.6732, Accuracy: 34.38%, Validation Accuracy: 43.35%\n",
      "Epoch [3/10], Step [50/350], Loss: 1.0859, Accuracy: 53.12%, Validation Accuracy: 38.20%\n",
      "Epoch [3/10], Step [60/350], Loss: 1.1378, Accuracy: 62.50%, Validation Accuracy: 51.93%\n",
      "Epoch [3/10], Step [70/350], Loss: 0.9939, Accuracy: 59.38%, Validation Accuracy: 31.80%\n",
      "Epoch [3/10], Step [80/350], Loss: 1.0438, Accuracy: 59.38%, Validation Accuracy: 48.86%\n",
      "Epoch [3/10], Step [90/350], Loss: 1.0428, Accuracy: 62.50%, Validation Accuracy: 54.86%\n",
      "Epoch [3/10], Step [100/350], Loss: 1.0329, Accuracy: 65.62%, Validation Accuracy: 58.48%\n",
      "Epoch [3/10], Step [110/350], Loss: 0.8221, Accuracy: 71.88%, Validation Accuracy: 61.27%\n",
      "Epoch [3/10], Step [120/350], Loss: 0.9934, Accuracy: 71.88%, Validation Accuracy: 56.69%\n",
      "Epoch [3/10], Step [130/350], Loss: 0.7862, Accuracy: 68.75%, Validation Accuracy: 51.32%\n",
      "Epoch [3/10], Step [140/350], Loss: 0.8427, Accuracy: 68.75%, Validation Accuracy: 57.62%\n",
      "Epoch [3/10], Step [150/350], Loss: 1.0582, Accuracy: 56.25%, Validation Accuracy: 67.38%\n",
      "Epoch [3/10], Step [160/350], Loss: 0.7681, Accuracy: 81.25%, Validation Accuracy: 52.15%\n",
      "Epoch [3/10], Step [170/350], Loss: 0.8771, Accuracy: 75.00%, Validation Accuracy: 53.93%\n",
      "Epoch [3/10], Step [180/350], Loss: 0.7107, Accuracy: 78.12%, Validation Accuracy: 69.56%\n",
      "Epoch [3/10], Step [190/350], Loss: 0.3763, Accuracy: 84.38%, Validation Accuracy: 41.70%\n",
      "Epoch [3/10], Step [200/350], Loss: 0.4835, Accuracy: 78.12%, Validation Accuracy: 67.10%\n",
      "Epoch [3/10], Step [210/350], Loss: 0.6466, Accuracy: 81.25%, Validation Accuracy: 64.41%\n",
      "Epoch [3/10], Step [220/350], Loss: 0.3216, Accuracy: 93.75%, Validation Accuracy: 72.07%\n",
      "Epoch [3/10], Step [230/350], Loss: 0.5410, Accuracy: 75.00%, Validation Accuracy: 65.95%\n",
      "Epoch [3/10], Step [240/350], Loss: 0.3628, Accuracy: 90.62%, Validation Accuracy: 58.37%\n",
      "Epoch [3/10], Step [250/350], Loss: 0.5119, Accuracy: 71.88%, Validation Accuracy: 62.84%\n",
      "Epoch [3/10], Step [260/350], Loss: 0.3937, Accuracy: 90.62%, Validation Accuracy: 81.26%\n",
      "Epoch [3/10], Step [270/350], Loss: 0.4966, Accuracy: 75.00%, Validation Accuracy: 71.96%\n",
      "Epoch [3/10], Step [280/350], Loss: 0.4505, Accuracy: 90.62%, Validation Accuracy: 76.50%\n",
      "Epoch [3/10], Step [290/350], Loss: 0.2977, Accuracy: 87.50%, Validation Accuracy: 64.84%\n",
      "Epoch [3/10], Step [300/350], Loss: 0.2565, Accuracy: 93.75%, Validation Accuracy: 81.87%\n",
      "Epoch [3/10], Step [310/350], Loss: 0.2598, Accuracy: 93.75%, Validation Accuracy: 76.75%\n",
      "Epoch [3/10], Step [320/350], Loss: 0.2500, Accuracy: 87.50%, Validation Accuracy: 71.17%\n",
      "Epoch [3/10], Step [330/350], Loss: 0.4074, Accuracy: 84.38%, Validation Accuracy: 80.01%\n",
      "Epoch [3/10], Step [340/350], Loss: 0.2847, Accuracy: 90.62%, Validation Accuracy: 75.11%\n",
      "Epoch [3/10], Step [350/350], Loss: 0.5334, Accuracy: 80.00%, Validation Accuracy: 83.37%\n",
      "Epoch [4/10], Step [10/350], Loss: 0.2456, Accuracy: 90.62%, Validation Accuracy: 84.23%\n",
      "Epoch [4/10], Step [20/350], Loss: 0.4715, Accuracy: 78.12%, Validation Accuracy: 77.25%\n",
      "Epoch [4/10], Step [30/350], Loss: 0.4546, Accuracy: 87.50%, Validation Accuracy: 80.72%\n",
      "Epoch [4/10], Step [40/350], Loss: 0.1676, Accuracy: 93.75%, Validation Accuracy: 80.54%\n",
      "Epoch [4/10], Step [50/350], Loss: 0.3090, Accuracy: 90.62%, Validation Accuracy: 87.95%\n",
      "Epoch [4/10], Step [60/350], Loss: 0.1792, Accuracy: 96.88%, Validation Accuracy: 86.19%\n",
      "Epoch [4/10], Step [70/350], Loss: 0.2776, Accuracy: 90.62%, Validation Accuracy: 78.04%\n",
      "Epoch [4/10], Step [80/350], Loss: 0.1892, Accuracy: 93.75%, Validation Accuracy: 88.30%\n",
      "Epoch [4/10], Step [90/350], Loss: 0.1569, Accuracy: 93.75%, Validation Accuracy: 73.93%\n",
      "Epoch [4/10], Step [100/350], Loss: 0.0649, Accuracy: 100.00%, Validation Accuracy: 87.80%\n",
      "Epoch [4/10], Step [110/350], Loss: 0.2172, Accuracy: 93.75%, Validation Accuracy: 82.87%\n",
      "Epoch [4/10], Step [120/350], Loss: 0.2755, Accuracy: 87.50%, Validation Accuracy: 90.20%\n",
      "Epoch [4/10], Step [130/350], Loss: 0.2794, Accuracy: 90.62%, Validation Accuracy: 69.71%\n",
      "Epoch [4/10], Step [140/350], Loss: 0.2104, Accuracy: 93.75%, Validation Accuracy: 67.95%\n",
      "Epoch [4/10], Step [150/350], Loss: 0.2450, Accuracy: 84.38%, Validation Accuracy: 83.69%\n",
      "Epoch [4/10], Step [160/350], Loss: 0.5022, Accuracy: 84.38%, Validation Accuracy: 84.84%\n",
      "Epoch [4/10], Step [170/350], Loss: 0.1425, Accuracy: 96.88%, Validation Accuracy: 79.58%\n",
      "Epoch [4/10], Step [180/350], Loss: 0.2140, Accuracy: 93.75%, Validation Accuracy: 82.44%\n",
      "Epoch [4/10], Step [190/350], Loss: 0.0511, Accuracy: 100.00%, Validation Accuracy: 92.31%\n",
      "Epoch [4/10], Step [200/350], Loss: 0.1744, Accuracy: 96.88%, Validation Accuracy: 93.10%\n",
      "Epoch [4/10], Step [210/350], Loss: 0.1803, Accuracy: 93.75%, Validation Accuracy: 86.66%\n",
      "Epoch [4/10], Step [220/350], Loss: 0.1499, Accuracy: 93.75%, Validation Accuracy: 83.98%\n",
      "Epoch [4/10], Step [230/350], Loss: 0.1985, Accuracy: 90.62%, Validation Accuracy: 92.81%\n",
      "Epoch [4/10], Step [240/350], Loss: 0.0689, Accuracy: 96.88%, Validation Accuracy: 85.91%\n",
      "Epoch [4/10], Step [250/350], Loss: 0.0545, Accuracy: 96.88%, Validation Accuracy: 91.56%\n",
      "Epoch [4/10], Step [260/350], Loss: 0.1058, Accuracy: 96.88%, Validation Accuracy: 90.38%\n",
      "Epoch [4/10], Step [270/350], Loss: 0.0549, Accuracy: 100.00%, Validation Accuracy: 87.95%\n",
      "Epoch [4/10], Step [280/350], Loss: 0.1938, Accuracy: 96.88%, Validation Accuracy: 90.02%\n",
      "Epoch [4/10], Step [290/350], Loss: 0.1619, Accuracy: 93.75%, Validation Accuracy: 84.69%\n",
      "Epoch [4/10], Step [300/350], Loss: 0.1582, Accuracy: 96.88%, Validation Accuracy: 94.89%\n",
      "Epoch [4/10], Step [310/350], Loss: 0.0655, Accuracy: 100.00%, Validation Accuracy: 92.74%\n",
      "Epoch [4/10], Step [320/350], Loss: 0.1064, Accuracy: 100.00%, Validation Accuracy: 92.78%\n",
      "Epoch [4/10], Step [330/350], Loss: 0.0910, Accuracy: 96.88%, Validation Accuracy: 91.34%\n",
      "Epoch [4/10], Step [340/350], Loss: 0.1022, Accuracy: 96.88%, Validation Accuracy: 92.45%\n",
      "Epoch [4/10], Step [350/350], Loss: 0.0898, Accuracy: 95.00%, Validation Accuracy: 91.17%\n",
      "Epoch [5/10], Step [10/350], Loss: 0.1724, Accuracy: 96.88%, Validation Accuracy: 91.92%\n",
      "Epoch [5/10], Step [20/350], Loss: 0.1548, Accuracy: 93.75%, Validation Accuracy: 93.13%\n",
      "Epoch [5/10], Step [30/350], Loss: 0.0852, Accuracy: 100.00%, Validation Accuracy: 89.09%\n",
      "Epoch [5/10], Step [40/350], Loss: 0.2603, Accuracy: 90.62%, Validation Accuracy: 93.53%\n",
      "Epoch [5/10], Step [50/350], Loss: 0.1163, Accuracy: 96.88%, Validation Accuracy: 92.74%\n",
      "Epoch [5/10], Step [60/350], Loss: 0.1365, Accuracy: 93.75%, Validation Accuracy: 90.38%\n",
      "Epoch [5/10], Step [70/350], Loss: 0.1453, Accuracy: 96.88%, Validation Accuracy: 91.02%\n",
      "Epoch [5/10], Step [80/350], Loss: 0.2968, Accuracy: 93.75%, Validation Accuracy: 87.98%\n",
      "Epoch [5/10], Step [90/350], Loss: 0.1884, Accuracy: 93.75%, Validation Accuracy: 86.27%\n",
      "Epoch [5/10], Step [100/350], Loss: 0.1293, Accuracy: 96.88%, Validation Accuracy: 93.42%\n",
      "Epoch [5/10], Step [110/350], Loss: 0.4129, Accuracy: 90.62%, Validation Accuracy: 93.71%\n",
      "Epoch [5/10], Step [120/350], Loss: 0.2509, Accuracy: 93.75%, Validation Accuracy: 95.28%\n",
      "Epoch [5/10], Step [130/350], Loss: 0.1334, Accuracy: 96.88%, Validation Accuracy: 84.51%\n",
      "Epoch [5/10], Step [140/350], Loss: 0.2088, Accuracy: 93.75%, Validation Accuracy: 93.35%\n",
      "Epoch [5/10], Step [150/350], Loss: 0.2342, Accuracy: 90.62%, Validation Accuracy: 92.67%\n",
      "Epoch [5/10], Step [160/350], Loss: 0.1456, Accuracy: 93.75%, Validation Accuracy: 92.45%\n",
      "Epoch [5/10], Step [170/350], Loss: 0.0790, Accuracy: 96.88%, Validation Accuracy: 90.02%\n",
      "Epoch [5/10], Step [180/350], Loss: 0.0265, Accuracy: 100.00%, Validation Accuracy: 90.59%\n",
      "Epoch [5/10], Step [190/350], Loss: 0.1105, Accuracy: 96.88%, Validation Accuracy: 82.47%\n",
      "Epoch [5/10], Step [200/350], Loss: 0.1394, Accuracy: 93.75%, Validation Accuracy: 91.70%\n",
      "Epoch [5/10], Step [210/350], Loss: 0.2113, Accuracy: 93.75%, Validation Accuracy: 92.42%\n",
      "Epoch [5/10], Step [220/350], Loss: 0.3218, Accuracy: 93.75%, Validation Accuracy: 95.24%\n",
      "Epoch [5/10], Step [230/350], Loss: 0.1171, Accuracy: 96.88%, Validation Accuracy: 90.34%\n",
      "Epoch [5/10], Step [240/350], Loss: 0.1554, Accuracy: 96.88%, Validation Accuracy: 91.56%\n",
      "Epoch [5/10], Step [250/350], Loss: 0.1659, Accuracy: 93.75%, Validation Accuracy: 95.06%\n",
      "Epoch [5/10], Step [260/350], Loss: 0.0631, Accuracy: 96.88%, Validation Accuracy: 95.06%\n",
      "Epoch [5/10], Step [270/350], Loss: 0.1010, Accuracy: 96.88%, Validation Accuracy: 95.39%\n",
      "Epoch [5/10], Step [280/350], Loss: 0.2435, Accuracy: 93.75%, Validation Accuracy: 95.64%\n",
      "Epoch [5/10], Step [290/350], Loss: 0.0504, Accuracy: 100.00%, Validation Accuracy: 90.24%\n",
      "Epoch [5/10], Step [300/350], Loss: 0.1901, Accuracy: 90.62%, Validation Accuracy: 94.67%\n",
      "Epoch [5/10], Step [310/350], Loss: 0.0415, Accuracy: 100.00%, Validation Accuracy: 78.93%\n",
      "Epoch [5/10], Step [320/350], Loss: 0.3255, Accuracy: 93.75%, Validation Accuracy: 95.31%\n",
      "Epoch [5/10], Step [330/350], Loss: 0.0382, Accuracy: 100.00%, Validation Accuracy: 79.11%\n",
      "Epoch [5/10], Step [340/350], Loss: 0.0149, Accuracy: 100.00%, Validation Accuracy: 96.42%\n",
      "Epoch [5/10], Step [350/350], Loss: 0.1790, Accuracy: 95.00%, Validation Accuracy: 94.49%\n",
      "Epoch [6/10], Step [10/350], Loss: 0.1348, Accuracy: 93.75%, Validation Accuracy: 90.81%\n",
      "Epoch [6/10], Step [20/350], Loss: 0.3493, Accuracy: 90.62%, Validation Accuracy: 95.60%\n",
      "Epoch [6/10], Step [30/350], Loss: 0.1444, Accuracy: 90.62%, Validation Accuracy: 96.53%\n",
      "Epoch [6/10], Step [40/350], Loss: 0.0769, Accuracy: 96.88%, Validation Accuracy: 91.02%\n",
      "Epoch [6/10], Step [50/350], Loss: 0.1880, Accuracy: 93.75%, Validation Accuracy: 88.34%\n",
      "Epoch [6/10], Step [60/350], Loss: 0.1379, Accuracy: 96.88%, Validation Accuracy: 92.20%\n",
      "Epoch [6/10], Step [70/350], Loss: 0.0638, Accuracy: 100.00%, Validation Accuracy: 90.41%\n",
      "Epoch [6/10], Step [80/350], Loss: 0.1086, Accuracy: 96.88%, Validation Accuracy: 91.77%\n",
      "Epoch [6/10], Step [90/350], Loss: 0.2431, Accuracy: 90.62%, Validation Accuracy: 95.64%\n",
      "Epoch [6/10], Step [100/350], Loss: 0.0281, Accuracy: 100.00%, Validation Accuracy: 95.53%\n",
      "Epoch [6/10], Step [110/350], Loss: 0.1353, Accuracy: 93.75%, Validation Accuracy: 88.09%\n",
      "Epoch [6/10], Step [120/350], Loss: 0.2272, Accuracy: 93.75%, Validation Accuracy: 96.28%\n",
      "Epoch [6/10], Step [130/350], Loss: 0.0139, Accuracy: 100.00%, Validation Accuracy: 94.46%\n",
      "Epoch [6/10], Step [140/350], Loss: 0.0743, Accuracy: 100.00%, Validation Accuracy: 96.07%\n",
      "Epoch [6/10], Step [150/350], Loss: 0.1322, Accuracy: 93.75%, Validation Accuracy: 94.85%\n",
      "Epoch [6/10], Step [160/350], Loss: 0.0461, Accuracy: 100.00%, Validation Accuracy: 90.95%\n",
      "Epoch [6/10], Step [170/350], Loss: 0.1067, Accuracy: 96.88%, Validation Accuracy: 92.99%\n",
      "Epoch [6/10], Step [180/350], Loss: 0.2365, Accuracy: 93.75%, Validation Accuracy: 79.76%\n",
      "Epoch [6/10], Step [190/350], Loss: 0.3255, Accuracy: 90.62%, Validation Accuracy: 87.98%\n",
      "Epoch [6/10], Step [200/350], Loss: 0.1223, Accuracy: 96.88%, Validation Accuracy: 92.95%\n",
      "Epoch [6/10], Step [210/350], Loss: 0.0244, Accuracy: 100.00%, Validation Accuracy: 96.03%\n",
      "Epoch [6/10], Step [220/350], Loss: 0.0393, Accuracy: 100.00%, Validation Accuracy: 93.71%\n",
      "Epoch [6/10], Step [230/350], Loss: 0.0472, Accuracy: 96.88%, Validation Accuracy: 95.82%\n",
      "Epoch [6/10], Step [240/350], Loss: 0.1562, Accuracy: 93.75%, Validation Accuracy: 95.17%\n",
      "Epoch [6/10], Step [250/350], Loss: 0.1706, Accuracy: 93.75%, Validation Accuracy: 96.64%\n",
      "Epoch [6/10], Step [260/350], Loss: 0.0209, Accuracy: 100.00%, Validation Accuracy: 90.92%\n",
      "Epoch [6/10], Step [270/350], Loss: 0.1222, Accuracy: 93.75%, Validation Accuracy: 95.78%\n",
      "Epoch [6/10], Step [280/350], Loss: 0.1452, Accuracy: 96.88%, Validation Accuracy: 91.81%\n",
      "Epoch [6/10], Step [290/350], Loss: 0.0932, Accuracy: 96.88%, Validation Accuracy: 93.78%\n",
      "Epoch [6/10], Step [300/350], Loss: 0.1715, Accuracy: 93.75%, Validation Accuracy: 95.24%\n",
      "Epoch [6/10], Step [310/350], Loss: 0.0571, Accuracy: 100.00%, Validation Accuracy: 95.46%\n",
      "Epoch [6/10], Step [320/350], Loss: 0.3243, Accuracy: 90.62%, Validation Accuracy: 94.28%\n",
      "Epoch [6/10], Step [330/350], Loss: 0.0472, Accuracy: 100.00%, Validation Accuracy: 95.46%\n",
      "Epoch [6/10], Step [340/350], Loss: 0.0075, Accuracy: 100.00%, Validation Accuracy: 96.17%\n",
      "Epoch [6/10], Step [350/350], Loss: 0.0100, Accuracy: 100.00%, Validation Accuracy: 96.35%\n",
      "Epoch [7/10], Step [10/350], Loss: 0.2170, Accuracy: 93.75%, Validation Accuracy: 91.88%\n",
      "Epoch [7/10], Step [20/350], Loss: 0.1569, Accuracy: 96.88%, Validation Accuracy: 93.42%\n",
      "Epoch [7/10], Step [30/350], Loss: 0.2157, Accuracy: 93.75%, Validation Accuracy: 96.46%\n",
      "Epoch [7/10], Step [40/350], Loss: 0.2104, Accuracy: 96.88%, Validation Accuracy: 97.21%\n",
      "Epoch [7/10], Step [50/350], Loss: 0.1506, Accuracy: 90.62%, Validation Accuracy: 96.28%\n",
      "Epoch [7/10], Step [60/350], Loss: 0.0665, Accuracy: 96.88%, Validation Accuracy: 95.78%\n",
      "Epoch [7/10], Step [70/350], Loss: 0.0191, Accuracy: 100.00%, Validation Accuracy: 97.53%\n",
      "Epoch [7/10], Step [80/350], Loss: 0.0068, Accuracy: 100.00%, Validation Accuracy: 97.14%\n",
      "Epoch [7/10], Step [90/350], Loss: 0.0048, Accuracy: 100.00%, Validation Accuracy: 91.60%\n",
      "Epoch [7/10], Step [100/350], Loss: 0.0390, Accuracy: 96.88%, Validation Accuracy: 98.25%\n",
      "Epoch [7/10], Step [110/350], Loss: 0.0175, Accuracy: 100.00%, Validation Accuracy: 97.35%\n",
      "Epoch [7/10], Step [120/350], Loss: 0.1696, Accuracy: 96.88%, Validation Accuracy: 98.00%\n",
      "Epoch [7/10], Step [130/350], Loss: 0.1330, Accuracy: 96.88%, Validation Accuracy: 97.42%\n",
      "Epoch [7/10], Step [140/350], Loss: 0.0454, Accuracy: 96.88%, Validation Accuracy: 97.57%\n",
      "Epoch [7/10], Step [150/350], Loss: 0.0117, Accuracy: 100.00%, Validation Accuracy: 94.21%\n",
      "Epoch [7/10], Step [160/350], Loss: 0.0310, Accuracy: 100.00%, Validation Accuracy: 94.06%\n",
      "Epoch [7/10], Step [170/350], Loss: 0.0223, Accuracy: 100.00%, Validation Accuracy: 94.49%\n",
      "Epoch [7/10], Step [180/350], Loss: 0.0326, Accuracy: 100.00%, Validation Accuracy: 95.21%\n",
      "Epoch [7/10], Step [190/350], Loss: 0.0156, Accuracy: 100.00%, Validation Accuracy: 92.81%\n",
      "Epoch [7/10], Step [200/350], Loss: 0.0178, Accuracy: 100.00%, Validation Accuracy: 97.39%\n",
      "Epoch [7/10], Step [210/350], Loss: 0.0852, Accuracy: 93.75%, Validation Accuracy: 95.21%\n",
      "Epoch [7/10], Step [220/350], Loss: 0.0584, Accuracy: 96.88%, Validation Accuracy: 96.53%\n",
      "Epoch [7/10], Step [230/350], Loss: 0.2319, Accuracy: 93.75%, Validation Accuracy: 93.42%\n",
      "Epoch [7/10], Step [240/350], Loss: 0.0936, Accuracy: 96.88%, Validation Accuracy: 96.60%\n",
      "Epoch [7/10], Step [250/350], Loss: 0.1800, Accuracy: 96.88%, Validation Accuracy: 93.78%\n",
      "Epoch [7/10], Step [260/350], Loss: 0.0505, Accuracy: 96.88%, Validation Accuracy: 96.85%\n",
      "Epoch [7/10], Step [270/350], Loss: 0.0224, Accuracy: 100.00%, Validation Accuracy: 97.53%\n",
      "Epoch [7/10], Step [280/350], Loss: 0.0080, Accuracy: 100.00%, Validation Accuracy: 96.32%\n",
      "Epoch [7/10], Step [290/350], Loss: 0.1993, Accuracy: 87.50%, Validation Accuracy: 97.28%\n",
      "Epoch [7/10], Step [300/350], Loss: 0.0558, Accuracy: 96.88%, Validation Accuracy: 97.42%\n",
      "Epoch [7/10], Step [310/350], Loss: 0.0888, Accuracy: 96.88%, Validation Accuracy: 97.03%\n",
      "Epoch [7/10], Step [320/350], Loss: 0.0715, Accuracy: 96.88%, Validation Accuracy: 96.89%\n",
      "Epoch [7/10], Step [330/350], Loss: 0.0807, Accuracy: 96.88%, Validation Accuracy: 96.85%\n",
      "Epoch [7/10], Step [340/350], Loss: 0.0069, Accuracy: 100.00%, Validation Accuracy: 97.46%\n",
      "Epoch [7/10], Step [350/350], Loss: 0.0070, Accuracy: 100.00%, Validation Accuracy: 96.82%\n",
      "Epoch [8/10], Step [10/350], Loss: 0.0160, Accuracy: 100.00%, Validation Accuracy: 95.89%\n",
      "Epoch [8/10], Step [20/350], Loss: 0.0066, Accuracy: 100.00%, Validation Accuracy: 93.99%\n",
      "Epoch [8/10], Step [30/350], Loss: 0.0422, Accuracy: 100.00%, Validation Accuracy: 94.89%\n",
      "Epoch [8/10], Step [40/350], Loss: 0.0977, Accuracy: 96.88%, Validation Accuracy: 96.14%\n",
      "Epoch [8/10], Step [50/350], Loss: 0.0080, Accuracy: 100.00%, Validation Accuracy: 97.03%\n",
      "Epoch [8/10], Step [60/350], Loss: 0.0258, Accuracy: 100.00%, Validation Accuracy: 96.35%\n",
      "Epoch [8/10], Step [70/350], Loss: 0.1531, Accuracy: 96.88%, Validation Accuracy: 96.57%\n",
      "Epoch [8/10], Step [80/350], Loss: 0.0375, Accuracy: 96.88%, Validation Accuracy: 96.32%\n",
      "Epoch [8/10], Step [90/350], Loss: 0.1387, Accuracy: 96.88%, Validation Accuracy: 98.18%\n",
      "Epoch [8/10], Step [100/350], Loss: 0.0197, Accuracy: 100.00%, Validation Accuracy: 96.71%\n",
      "Epoch [8/10], Step [110/350], Loss: 0.0213, Accuracy: 100.00%, Validation Accuracy: 96.35%\n",
      "Epoch [8/10], Step [120/350], Loss: 0.0055, Accuracy: 100.00%, Validation Accuracy: 97.53%\n",
      "Epoch [8/10], Step [130/350], Loss: 0.0116, Accuracy: 100.00%, Validation Accuracy: 96.46%\n",
      "Epoch [8/10], Step [140/350], Loss: 0.0101, Accuracy: 100.00%, Validation Accuracy: 97.53%\n",
      "Epoch [8/10], Step [150/350], Loss: 0.1318, Accuracy: 96.88%, Validation Accuracy: 97.42%\n",
      "Epoch [8/10], Step [160/350], Loss: 0.0268, Accuracy: 100.00%, Validation Accuracy: 96.24%\n",
      "Epoch [8/10], Step [170/350], Loss: 0.0250, Accuracy: 100.00%, Validation Accuracy: 95.53%\n",
      "Epoch [8/10], Step [180/350], Loss: 0.1004, Accuracy: 96.88%, Validation Accuracy: 93.03%\n",
      "Epoch [8/10], Step [190/350], Loss: 0.0115, Accuracy: 100.00%, Validation Accuracy: 96.78%\n",
      "Epoch [8/10], Step [200/350], Loss: 0.0254, Accuracy: 100.00%, Validation Accuracy: 94.10%\n",
      "Epoch [8/10], Step [210/350], Loss: 0.0113, Accuracy: 100.00%, Validation Accuracy: 93.10%\n",
      "Epoch [8/10], Step [220/350], Loss: 0.0420, Accuracy: 96.88%, Validation Accuracy: 96.10%\n",
      "Epoch [8/10], Step [230/350], Loss: 0.0199, Accuracy: 100.00%, Validation Accuracy: 96.14%\n",
      "Epoch [8/10], Step [240/350], Loss: 0.1270, Accuracy: 96.88%, Validation Accuracy: 96.46%\n",
      "Epoch [8/10], Step [250/350], Loss: 0.0640, Accuracy: 100.00%, Validation Accuracy: 96.46%\n",
      "Epoch [8/10], Step [260/350], Loss: 0.0142, Accuracy: 100.00%, Validation Accuracy: 96.82%\n",
      "Epoch [8/10], Step [270/350], Loss: 0.1163, Accuracy: 93.75%, Validation Accuracy: 97.82%\n",
      "Epoch [8/10], Step [280/350], Loss: 0.0061, Accuracy: 100.00%, Validation Accuracy: 96.82%\n",
      "Epoch [8/10], Step [290/350], Loss: 0.0467, Accuracy: 100.00%, Validation Accuracy: 95.53%\n",
      "Epoch [8/10], Step [300/350], Loss: 0.0159, Accuracy: 100.00%, Validation Accuracy: 95.92%\n",
      "Epoch [8/10], Step [310/350], Loss: 0.1886, Accuracy: 93.75%, Validation Accuracy: 96.53%\n",
      "Epoch [8/10], Step [320/350], Loss: 0.0356, Accuracy: 96.88%, Validation Accuracy: 97.46%\n",
      "Epoch [8/10], Step [330/350], Loss: 0.0133, Accuracy: 100.00%, Validation Accuracy: 97.32%\n",
      "Epoch [8/10], Step [340/350], Loss: 0.0502, Accuracy: 96.88%, Validation Accuracy: 97.46%\n",
      "Epoch [8/10], Step [350/350], Loss: 0.0954, Accuracy: 95.00%, Validation Accuracy: 96.35%\n",
      "Epoch [9/10], Step [10/350], Loss: 0.1170, Accuracy: 96.88%, Validation Accuracy: 96.78%\n",
      "Epoch [9/10], Step [20/350], Loss: 0.0935, Accuracy: 93.75%, Validation Accuracy: 95.14%\n",
      "Epoch [9/10], Step [30/350], Loss: 0.0398, Accuracy: 100.00%, Validation Accuracy: 96.46%\n",
      "Epoch [9/10], Step [40/350], Loss: 0.0080, Accuracy: 100.00%, Validation Accuracy: 98.03%\n",
      "Epoch [9/10], Step [50/350], Loss: 0.0289, Accuracy: 100.00%, Validation Accuracy: 97.07%\n",
      "Epoch [9/10], Step [60/350], Loss: 0.0144, Accuracy: 100.00%, Validation Accuracy: 97.57%\n",
      "Epoch [9/10], Step [70/350], Loss: 0.0018, Accuracy: 100.00%, Validation Accuracy: 97.35%\n",
      "Epoch [9/10], Step [80/350], Loss: 0.0331, Accuracy: 100.00%, Validation Accuracy: 97.35%\n",
      "Epoch [9/10], Step [90/350], Loss: 0.0247, Accuracy: 100.00%, Validation Accuracy: 96.46%\n",
      "Epoch [9/10], Step [100/350], Loss: 0.1391, Accuracy: 96.88%, Validation Accuracy: 96.39%\n",
      "Epoch [9/10], Step [110/350], Loss: 0.0617, Accuracy: 100.00%, Validation Accuracy: 96.35%\n",
      "Epoch [9/10], Step [120/350], Loss: 0.0877, Accuracy: 96.88%, Validation Accuracy: 96.85%\n",
      "Epoch [9/10], Step [130/350], Loss: 0.0363, Accuracy: 96.88%, Validation Accuracy: 97.03%\n",
      "Epoch [9/10], Step [140/350], Loss: 0.0123, Accuracy: 100.00%, Validation Accuracy: 96.85%\n",
      "Epoch [9/10], Step [150/350], Loss: 0.0699, Accuracy: 96.88%, Validation Accuracy: 98.18%\n",
      "Epoch [9/10], Step [160/350], Loss: 0.0160, Accuracy: 100.00%, Validation Accuracy: 97.50%\n",
      "Epoch [9/10], Step [170/350], Loss: 0.0246, Accuracy: 100.00%, Validation Accuracy: 93.42%\n",
      "Epoch [9/10], Step [180/350], Loss: 0.0970, Accuracy: 96.88%, Validation Accuracy: 88.81%\n",
      "Epoch [9/10], Step [190/350], Loss: 0.2727, Accuracy: 93.75%, Validation Accuracy: 95.57%\n",
      "Epoch [9/10], Step [200/350], Loss: 0.0980, Accuracy: 96.88%, Validation Accuracy: 92.95%\n",
      "Epoch [9/10], Step [210/350], Loss: 0.4149, Accuracy: 90.62%, Validation Accuracy: 93.17%\n",
      "Epoch [9/10], Step [220/350], Loss: 0.0080, Accuracy: 100.00%, Validation Accuracy: 98.18%\n",
      "Epoch [9/10], Step [230/350], Loss: 0.0331, Accuracy: 96.88%, Validation Accuracy: 95.24%\n",
      "Epoch [9/10], Step [240/350], Loss: 0.0216, Accuracy: 100.00%, Validation Accuracy: 93.78%\n",
      "Epoch [9/10], Step [250/350], Loss: 0.0230, Accuracy: 100.00%, Validation Accuracy: 95.49%\n",
      "Epoch [9/10], Step [260/350], Loss: 0.1658, Accuracy: 93.75%, Validation Accuracy: 97.25%\n",
      "Epoch [9/10], Step [270/350], Loss: 0.0134, Accuracy: 100.00%, Validation Accuracy: 95.78%\n",
      "Epoch [9/10], Step [280/350], Loss: 0.0075, Accuracy: 100.00%, Validation Accuracy: 97.46%\n",
      "Epoch [9/10], Step [290/350], Loss: 0.0887, Accuracy: 96.88%, Validation Accuracy: 98.46%\n",
      "Epoch [9/10], Step [300/350], Loss: 0.0390, Accuracy: 100.00%, Validation Accuracy: 98.00%\n",
      "Epoch [9/10], Step [310/350], Loss: 0.0643, Accuracy: 96.88%, Validation Accuracy: 98.75%\n",
      "Epoch [9/10], Step [320/350], Loss: 0.1154, Accuracy: 96.88%, Validation Accuracy: 98.43%\n",
      "Epoch [9/10], Step [330/350], Loss: 0.0215, Accuracy: 100.00%, Validation Accuracy: 97.75%\n",
      "Epoch [9/10], Step [340/350], Loss: 0.1477, Accuracy: 96.88%, Validation Accuracy: 98.00%\n",
      "Epoch [9/10], Step [350/350], Loss: 0.0274, Accuracy: 100.00%, Validation Accuracy: 97.78%\n",
      "Epoch [10/10], Step [10/350], Loss: 0.0426, Accuracy: 100.00%, Validation Accuracy: 95.71%\n",
      "Epoch [10/10], Step [20/350], Loss: 0.0106, Accuracy: 100.00%, Validation Accuracy: 98.07%\n",
      "Epoch [10/10], Step [30/350], Loss: 0.0019, Accuracy: 100.00%, Validation Accuracy: 98.18%\n",
      "Epoch [10/10], Step [40/350], Loss: 0.1083, Accuracy: 93.75%, Validation Accuracy: 98.82%\n",
      "Epoch [10/10], Step [50/350], Loss: 0.0418, Accuracy: 100.00%, Validation Accuracy: 90.06%\n",
      "Epoch [10/10], Step [60/350], Loss: 0.0319, Accuracy: 100.00%, Validation Accuracy: 98.75%\n",
      "Epoch [10/10], Step [70/350], Loss: 0.0098, Accuracy: 100.00%, Validation Accuracy: 97.64%\n",
      "Epoch [10/10], Step [80/350], Loss: 0.0088, Accuracy: 100.00%, Validation Accuracy: 97.93%\n",
      "Epoch [10/10], Step [90/350], Loss: 0.0170, Accuracy: 100.00%, Validation Accuracy: 97.46%\n",
      "Epoch [10/10], Step [100/350], Loss: 0.0314, Accuracy: 100.00%, Validation Accuracy: 97.85%\n",
      "Epoch [10/10], Step [110/350], Loss: 0.0418, Accuracy: 100.00%, Validation Accuracy: 98.46%\n",
      "Epoch [10/10], Step [120/350], Loss: 0.0158, Accuracy: 100.00%, Validation Accuracy: 97.64%\n",
      "Epoch [10/10], Step [130/350], Loss: 0.0034, Accuracy: 100.00%, Validation Accuracy: 96.64%\n",
      "Epoch [10/10], Step [140/350], Loss: 0.0877, Accuracy: 96.88%, Validation Accuracy: 97.96%\n",
      "Epoch [10/10], Step [150/350], Loss: 0.0068, Accuracy: 100.00%, Validation Accuracy: 98.43%\n",
      "Epoch [10/10], Step [160/350], Loss: 0.0554, Accuracy: 100.00%, Validation Accuracy: 98.28%\n",
      "Epoch [10/10], Step [170/350], Loss: 0.2887, Accuracy: 93.75%, Validation Accuracy: 97.50%\n",
      "Epoch [10/10], Step [180/350], Loss: 0.0856, Accuracy: 96.88%, Validation Accuracy: 97.35%\n",
      "Epoch [10/10], Step [190/350], Loss: 0.0176, Accuracy: 100.00%, Validation Accuracy: 78.25%\n",
      "Epoch [10/10], Step [200/350], Loss: 0.0167, Accuracy: 100.00%, Validation Accuracy: 92.85%\n",
      "Epoch [10/10], Step [210/350], Loss: 0.0287, Accuracy: 100.00%, Validation Accuracy: 96.39%\n",
      "Epoch [10/10], Step [220/350], Loss: 0.0165, Accuracy: 100.00%, Validation Accuracy: 98.00%\n",
      "Epoch [10/10], Step [230/350], Loss: 0.0268, Accuracy: 100.00%, Validation Accuracy: 97.75%\n",
      "Epoch [10/10], Step [240/350], Loss: 0.0037, Accuracy: 100.00%, Validation Accuracy: 98.21%\n",
      "Epoch [10/10], Step [250/350], Loss: 0.0253, Accuracy: 100.00%, Validation Accuracy: 98.57%\n",
      "Epoch [10/10], Step [260/350], Loss: 0.1701, Accuracy: 93.75%, Validation Accuracy: 97.35%\n",
      "Epoch [10/10], Step [270/350], Loss: 0.0092, Accuracy: 100.00%, Validation Accuracy: 96.92%\n",
      "Epoch [10/10], Step [280/350], Loss: 0.0160, Accuracy: 100.00%, Validation Accuracy: 97.85%\n",
      "Epoch [10/10], Step [290/350], Loss: 0.0190, Accuracy: 100.00%, Validation Accuracy: 98.14%\n",
      "Epoch [10/10], Step [300/350], Loss: 0.0198, Accuracy: 100.00%, Validation Accuracy: 98.39%\n",
      "Epoch [10/10], Step [310/350], Loss: 0.2338, Accuracy: 93.75%, Validation Accuracy: 98.07%\n",
      "Epoch [10/10], Step [320/350], Loss: 0.0407, Accuracy: 100.00%, Validation Accuracy: 95.10%\n",
      "Epoch [10/10], Step [330/350], Loss: 0.1879, Accuracy: 90.62%, Validation Accuracy: 96.53%\n",
      "Epoch [10/10], Step [340/350], Loss: 0.1157, Accuracy: 93.75%, Validation Accuracy: 95.71%\n",
      "Epoch [10/10], Step [350/350], Loss: 0.2987, Accuracy: 90.00%, Validation Accuracy: 93.74%\n",
      "######## Training Finished in 6015.227722406387 seconds ###########\n",
      "/n/n Saving model at:  /kaggle/working/resnetmodel_d3.pt\n"
     ]
    }
   ],
   "source": [
    "model_savepath = savepath+\"resnetmodel_d3.pt\"\n",
    "results_savepath = savepath+\"resnetmodel_d3_results.pkb\"\n",
    "\n",
    "trained_ResNet_model, device = train_model(ResNet_model, num_epochs, train_loader, criterion, optimizer, model_savepath, results_savepath, device)"
   ]
  },
  {
   "cell_type": "code",
   "execution_count": 84,
   "metadata": {
    "colab": {
     "base_uri": "https://localhost:8080/"
    },
    "execution": {
     "iopub.execute_input": "2022-11-25T13:15:04.701453Z",
     "iopub.status.busy": "2022-11-25T13:15:04.699941Z",
     "iopub.status.idle": "2022-11-25T13:15:25.226653Z",
     "shell.execute_reply": "2022-11-25T13:15:25.225699Z",
     "shell.execute_reply.started": "2022-11-25T13:15:04.701408Z"
    },
    "id": "DhsEbu7AASUz",
    "outputId": "65efed66-1341-416b-d071-ae04de937b70"
   },
   "outputs": [
    {
     "name": "stdout",
     "output_type": "stream",
     "text": [
      "Model Evaluation Results on 4590 test samples\n",
      "Test Accuracy:  95.77342047930283\n",
      "Test F1 Score:  tensor(0.9577)\n",
      "Test Precision & Recall: (tensor(0.9575), tensor(0.9546))\n",
      "Test AUC score: tensor(0.1934)\n"
     ]
    }
   ],
   "source": [
    "evaluate_model(trained_ResNet_model, test_loader, device, nclasses)"
   ]
  },
  {
   "cell_type": "code",
   "execution_count": null,
   "metadata": {
    "id": "xicwdonRcGjN"
   },
   "outputs": [],
   "source": []
  },
  {
   "cell_type": "code",
   "execution_count": null,
   "metadata": {
    "id": "M-m2k2VtcGjN"
   },
   "outputs": [],
   "source": []
  },
  {
   "cell_type": "markdown",
   "metadata": {
    "id": "YzaoBOJucGjN"
   },
   "source": [
    "Transfer Learning Models:"
   ]
  },
  {
   "cell_type": "markdown",
   "metadata": {
    "id": "IaqJYGhKcGjN"
   },
   "source": [
    "Alexnet with dataset 1"
   ]
  },
  {
   "cell_type": "code",
   "execution_count": 85,
   "metadata": {
    "execution": {
     "iopub.execute_input": "2022-11-25T13:15:25.233332Z",
     "iopub.status.busy": "2022-11-25T13:15:25.230987Z",
     "iopub.status.idle": "2022-11-25T13:15:25.239212Z",
     "shell.execute_reply": "2022-11-25T13:15:25.238309Z",
     "shell.execute_reply.started": "2022-11-25T13:15:25.233291Z"
    },
    "id": "j4kvZSmEcGjO"
   },
   "outputs": [],
   "source": [
    "nclasses=15"
   ]
  },
  {
   "cell_type": "code",
   "execution_count": 86,
   "metadata": {
    "colab": {
     "base_uri": "https://localhost:8080/",
     "height": 138,
     "referenced_widgets": [
      "8d47cba656af4f69928a5f300d06e473",
      "8a64f3664fbc4ea59f8f26f7acbaed6d",
      "196904e5281e4203a46fcc42dcc7cb82",
      "bd5b820f68334e8683854948c533f827",
      "803285a7a3424cf8aa4169f89eba498c",
      "6d308715af3940508fd8c93a8f413675",
      "445639d98cdc442bbb74bfc36997deba",
      "84544c5a1c964b3d8b30d66d9005ca8a",
      "6134cbaa81834485aecfddbe3c25448b",
      "54dd3af91b044b46938905c87a7a90cc",
      "0424e655b2f4439da7f096b77ee56717"
     ]
    },
    "execution": {
     "iopub.execute_input": "2022-11-25T13:15:25.246196Z",
     "iopub.status.busy": "2022-11-25T13:15:25.244761Z",
     "iopub.status.idle": "2022-11-25T13:15:39.562509Z",
     "shell.execute_reply": "2022-11-25T13:15:39.561375Z",
     "shell.execute_reply.started": "2022-11-25T13:15:25.246162Z"
    },
    "id": "eqiT2J4vcGjO",
    "outputId": "490c2aab-23ec-4fdd-d68a-83e2a8a38433"
   },
   "outputs": [
    {
     "name": "stderr",
     "output_type": "stream",
     "text": [
      "Using cache found in /root/.cache/torch/hub/pytorch_vision_v0.6.0\n",
      "/usr/local/lib/python3.8/dist-packages/torchvision/models/_utils.py:223: UserWarning: Arguments other than a weight enum or `None` for 'weights' are deprecated since 0.13 and will be removed in 0.15. The current behavior is equivalent to passing `weights=AlexNet_Weights.IMAGENET1K_V1`. You can also use `weights=AlexNet_Weights.DEFAULT` to get the most up-to-date weights.\n",
      "  warnings.warn(msg)\n",
      "Downloading: \"https://download.pytorch.org/models/alexnet-owt-7be5be79.pth\" to /root/.cache/torch/hub/checkpoints/alexnet-owt-7be5be79.pth\n"
     ]
    },
    {
     "data": {
      "application/vnd.jupyter.widget-view+json": {
       "model_id": "8d47cba656af4f69928a5f300d06e473",
       "version_major": 2,
       "version_minor": 0
      },
      "text/plain": [
       "  0%|          | 0.00/233M [00:00<?, ?B/s]"
      ]
     },
     "metadata": {},
     "output_type": "display_data"
    }
   ],
   "source": [
    "AlexNet_model = torch.hub.load('pytorch/vision:v0.6.0', 'alexnet', pretrained=True)"
   ]
  },
  {
   "cell_type": "code",
   "execution_count": 87,
   "metadata": {
    "execution": {
     "iopub.execute_input": "2022-11-25T13:15:39.564564Z",
     "iopub.status.busy": "2022-11-25T13:15:39.564127Z",
     "iopub.status.idle": "2022-11-25T13:15:39.569699Z",
     "shell.execute_reply": "2022-11-25T13:15:39.568539Z",
     "shell.execute_reply.started": "2022-11-25T13:15:39.564524Z"
    },
    "id": "Uz2ezh-vcGjO"
   },
   "outputs": [],
   "source": [
    "# layers = AlexNet_model.state_dict().keys()\n",
    "\n",
    "for name, param in AlexNet_model.named_parameters():\n",
    "    if name.startswith('features'):\n",
    "        param.requires_grad = False"
   ]
  },
  {
   "cell_type": "code",
   "execution_count": 88,
   "metadata": {
    "execution": {
     "iopub.execute_input": "2022-11-25T13:15:39.572200Z",
     "iopub.status.busy": "2022-11-25T13:15:39.571553Z",
     "iopub.status.idle": "2022-11-25T13:15:40.048182Z",
     "shell.execute_reply": "2022-11-25T13:15:40.046883Z",
     "shell.execute_reply.started": "2022-11-25T13:15:39.572163Z"
    },
    "id": "RpJ4xBQOcGjO"
   },
   "outputs": [],
   "source": [
    "prev_out = AlexNet_model.classifier[4].out_features\n",
    "AlexNet_model.classifier[6] = nn.Linear( prev_out, nclasses)"
   ]
  },
  {
   "cell_type": "code",
   "execution_count": 89,
   "metadata": {
    "colab": {
     "base_uri": "https://localhost:8080/"
    },
    "execution": {
     "iopub.execute_input": "2022-11-25T13:15:40.053480Z",
     "iopub.status.busy": "2022-11-25T13:15:40.052065Z",
     "iopub.status.idle": "2022-11-25T13:15:40.061335Z",
     "shell.execute_reply": "2022-11-25T13:15:40.060111Z",
     "shell.execute_reply.started": "2022-11-25T13:15:40.053437Z"
    },
    "id": "FExupIufcGjO",
    "outputId": "0cfaf409-edac-436a-fedc-e107d32939be"
   },
   "outputs": [
    {
     "name": "stdout",
     "output_type": "stream",
     "text": [
      "Layer: features.0.weight has requires_grad set to: False\n",
      "Layer: features.0.bias has requires_grad set to: False\n",
      "Layer: features.3.weight has requires_grad set to: False\n",
      "Layer: features.3.bias has requires_grad set to: False\n",
      "Layer: features.6.weight has requires_grad set to: False\n",
      "Layer: features.6.bias has requires_grad set to: False\n",
      "Layer: features.8.weight has requires_grad set to: False\n",
      "Layer: features.8.bias has requires_grad set to: False\n",
      "Layer: features.10.weight has requires_grad set to: False\n",
      "Layer: features.10.bias has requires_grad set to: False\n",
      "Layer: classifier.1.weight has requires_grad set to: True\n",
      "Layer: classifier.1.bias has requires_grad set to: True\n",
      "Layer: classifier.4.weight has requires_grad set to: True\n",
      "Layer: classifier.4.bias has requires_grad set to: True\n",
      "Layer: classifier.6.weight has requires_grad set to: True\n",
      "Layer: classifier.6.bias has requires_grad set to: True\n"
     ]
    }
   ],
   "source": [
    "for name, param in AlexNet_model.named_parameters():\n",
    "        print(\"Layer: {} has requires_grad set to: {}\".format(name, param.requires_grad))"
   ]
  },
  {
   "cell_type": "code",
   "execution_count": 90,
   "metadata": {
    "colab": {
     "base_uri": "https://localhost:8080/"
    },
    "execution": {
     "iopub.execute_input": "2022-11-25T13:15:40.063330Z",
     "iopub.status.busy": "2022-11-25T13:15:40.062772Z",
     "iopub.status.idle": "2022-11-25T13:15:40.075286Z",
     "shell.execute_reply": "2022-11-25T13:15:40.074209Z",
     "shell.execute_reply.started": "2022-11-25T13:15:40.063295Z"
    },
    "id": "2EC4hS3ecGjO",
    "outputId": "45bba588-47f9-430f-f139-b5d383e2a43c"
   },
   "outputs": [
    {
     "data": {
      "text/plain": [
       "AlexNet(\n",
       "  (features): Sequential(\n",
       "    (0): Conv2d(3, 64, kernel_size=(11, 11), stride=(4, 4), padding=(2, 2))\n",
       "    (1): ReLU(inplace=True)\n",
       "    (2): MaxPool2d(kernel_size=3, stride=2, padding=0, dilation=1, ceil_mode=False)\n",
       "    (3): Conv2d(64, 192, kernel_size=(5, 5), stride=(1, 1), padding=(2, 2))\n",
       "    (4): ReLU(inplace=True)\n",
       "    (5): MaxPool2d(kernel_size=3, stride=2, padding=0, dilation=1, ceil_mode=False)\n",
       "    (6): Conv2d(192, 384, kernel_size=(3, 3), stride=(1, 1), padding=(1, 1))\n",
       "    (7): ReLU(inplace=True)\n",
       "    (8): Conv2d(384, 256, kernel_size=(3, 3), stride=(1, 1), padding=(1, 1))\n",
       "    (9): ReLU(inplace=True)\n",
       "    (10): Conv2d(256, 256, kernel_size=(3, 3), stride=(1, 1), padding=(1, 1))\n",
       "    (11): ReLU(inplace=True)\n",
       "    (12): MaxPool2d(kernel_size=3, stride=2, padding=0, dilation=1, ceil_mode=False)\n",
       "  )\n",
       "  (avgpool): AdaptiveAvgPool2d(output_size=(6, 6))\n",
       "  (classifier): Sequential(\n",
       "    (0): Dropout(p=0.5, inplace=False)\n",
       "    (1): Linear(in_features=9216, out_features=4096, bias=True)\n",
       "    (2): ReLU(inplace=True)\n",
       "    (3): Dropout(p=0.5, inplace=False)\n",
       "    (4): Linear(in_features=4096, out_features=4096, bias=True)\n",
       "    (5): ReLU(inplace=True)\n",
       "    (6): Linear(in_features=4096, out_features=15, bias=True)\n",
       "  )\n",
       ")"
      ]
     },
     "execution_count": 90,
     "metadata": {},
     "output_type": "execute_result"
    }
   ],
   "source": [
    "AlexNet_model.eval()"
   ]
  },
  {
   "cell_type": "code",
   "execution_count": 91,
   "metadata": {
    "execution": {
     "iopub.execute_input": "2022-11-25T13:15:40.077637Z",
     "iopub.status.busy": "2022-11-25T13:15:40.076644Z",
     "iopub.status.idle": "2022-11-25T13:15:40.085418Z",
     "shell.execute_reply": "2022-11-25T13:15:40.084284Z",
     "shell.execute_reply.started": "2022-11-25T13:15:40.077603Z"
    },
    "id": "j1gk4OQMcGjP"
   },
   "outputs": [],
   "source": [
    "optimizer = torch.optim.Adam(AlexNet_model.parameters(), lr=learning_rate) "
   ]
  },
  {
   "cell_type": "code",
   "execution_count": 92,
   "metadata": {
    "execution": {
     "iopub.execute_input": "2022-11-25T13:15:40.087777Z",
     "iopub.status.busy": "2022-11-25T13:15:40.086917Z",
     "iopub.status.idle": "2022-11-25T13:15:40.146998Z",
     "shell.execute_reply": "2022-11-25T13:15:40.146181Z",
     "shell.execute_reply.started": "2022-11-25T13:15:40.087742Z"
    },
    "id": "L_ymbHQicGjP"
   },
   "outputs": [],
   "source": [
    "path_train = path_dataset1+\"train/\"\n",
    "path_test = path_dataset1+\"test/\"\n",
    "val_split = 0.2\n",
    "batch_size = 32\n",
    "input_size = (224,224)\n",
    "\n",
    "train_loader, test_loader, val_loader, mappings = load_data(path_train, val_split, path_test, batch_size, input_size)"
   ]
  },
  {
   "cell_type": "code",
   "execution_count": null,
   "metadata": {
    "execution": {
     "iopub.execute_input": "2022-11-25T13:15:40.150881Z",
     "iopub.status.busy": "2022-11-25T13:15:40.149924Z",
     "iopub.status.idle": "2022-11-25T13:15:40.224665Z",
     "shell.execute_reply": "2022-11-25T13:15:40.223451Z",
     "shell.execute_reply.started": "2022-11-25T13:15:40.150844Z"
    },
    "id": "Jv9lTRSqcGjP",
    "outputId": "57d652ef-0a46-4f7a-a67a-1d5b1362f73f"
   },
   "outputs": [
    {
     "name": "stdout",
     "output_type": "stream",
     "text": [
      "Device: cuda:0\n"
     ]
    }
   ],
   "source": [
    "device = torch.device(\"cuda:0\" if torch.cuda.is_available() else \"cpu\")\n",
    "print(\"Device: {}\".format(device))\n",
    "x = AlexNet_model.to(device)"
   ]
  },
  {
   "cell_type": "code",
   "execution_count": null,
   "metadata": {
    "execution": {
     "iopub.execute_input": "2022-11-25T13:15:40.226581Z",
     "iopub.status.busy": "2022-11-25T13:15:40.226134Z",
     "iopub.status.idle": "2022-11-25T13:15:40.242414Z",
     "shell.execute_reply": "2022-11-25T13:15:40.241531Z",
     "shell.execute_reply.started": "2022-11-25T13:15:40.226546Z"
    },
    "id": "Y7Eq5hFtcGjP",
    "outputId": "cabc0ce8-9497-41a2-a070-1261cdb36efe"
   },
   "outputs": [
    {
     "name": "stdout",
     "output_type": "stream",
     "text": [
      "Class: SPEED_LIMIT_80 has samples: 192 \n",
      "Class: SPEED_LIMIT_60 has samples: 190 \n",
      "Class: NO_STOPPING_OR_STANDING has samples: 242 \n",
      "Class: COMPULSARY_KEEP_RIGHT has samples: 223 \n",
      "Class: GAP_IN_MEDIAN has samples: 180 \n",
      "Class: CROSS_ROAD has samples: 140 \n",
      "Class: PEDESTRIAN_CROSSING has samples: 121 \n",
      "Class: SPEED_LIMIT_50 has samples: 200 \n",
      "Class: HORN_PROHIBITED has samples: 160 \n",
      "Class: SPEED_LIMIT_40 has samples: 170 \n",
      "Class: NO_ENTRY has samples: 174 \n",
      "Class: HUMP_OR_ROUGH_ROAD has samples: 101 \n",
      "Class: SPEED_LIMIT_30 has samples: 238 \n",
      "Class: LEFT_TURN_PROHIBITED has samples: 126 \n",
      "Class: SPEED_LIMIT_70 has samples: 160 \n",
      "\n",
      "Total number of samples:  2617\n",
      "\n",
      "Time taken: 0.00964665412902832\n"
     ]
    }
   ],
   "source": [
    "class_weights = get_class_weights(path_train, mappings)\n",
    "\n",
    "class_weights = torch.FloatTensor(class_weights)\n",
    "class_weights = class_weights.to(device)\n",
    "\n",
    "criterion = get_criterion(class_weights)"
   ]
  },
  {
   "cell_type": "code",
   "execution_count": null,
   "metadata": {
    "execution": {
     "iopub.execute_input": "2022-11-25T13:15:40.245589Z",
     "iopub.status.busy": "2022-11-25T13:15:40.245336Z",
     "iopub.status.idle": "2022-11-25T14:01:49.224637Z",
     "shell.execute_reply": "2022-11-25T14:01:49.223395Z",
     "shell.execute_reply.started": "2022-11-25T13:15:40.245565Z"
    },
    "id": "OkcH8h3ccGjP",
    "outputId": "a9630405-a478-49c3-ade7-254b79d5f4ec"
   },
   "outputs": [
    {
     "name": "stdout",
     "output_type": "stream",
     "text": [
      "Epoch [1/10], Step [10/66], Loss: 1.8880, Accuracy: 37.50%, Validation Accuracy: 43.98%\n",
      "Epoch [1/10], Step [20/66], Loss: 2.2928, Accuracy: 46.88%, Validation Accuracy: 56.02%\n",
      "Epoch [1/10], Step [30/66], Loss: 1.1296, Accuracy: 50.00%, Validation Accuracy: 62.52%\n",
      "Epoch [1/10], Step [40/66], Loss: 1.1000, Accuracy: 56.25%, Validation Accuracy: 59.08%\n",
      "Epoch [1/10], Step [50/66], Loss: 0.7677, Accuracy: 78.12%, Validation Accuracy: 64.63%\n",
      "Epoch [1/10], Step [60/66], Loss: 1.1343, Accuracy: 53.12%, Validation Accuracy: 70.36%\n",
      "Epoch [2/10], Step [10/66], Loss: 0.9170, Accuracy: 68.75%, Validation Accuracy: 64.05%\n",
      "Epoch [2/10], Step [20/66], Loss: 0.6329, Accuracy: 75.00%, Validation Accuracy: 67.69%\n",
      "Epoch [2/10], Step [30/66], Loss: 0.8261, Accuracy: 68.75%, Validation Accuracy: 62.72%\n",
      "Epoch [2/10], Step [40/66], Loss: 0.9550, Accuracy: 68.75%, Validation Accuracy: 69.60%\n",
      "Epoch [2/10], Step [50/66], Loss: 0.9580, Accuracy: 62.50%, Validation Accuracy: 72.85%\n",
      "Epoch [2/10], Step [60/66], Loss: 0.7727, Accuracy: 71.88%, Validation Accuracy: 71.13%\n",
      "Epoch [3/10], Step [10/66], Loss: 0.7618, Accuracy: 71.88%, Validation Accuracy: 72.66%\n",
      "Epoch [3/10], Step [20/66], Loss: 1.0579, Accuracy: 62.50%, Validation Accuracy: 71.32%\n",
      "Epoch [3/10], Step [30/66], Loss: 0.6212, Accuracy: 75.00%, Validation Accuracy: 68.64%\n",
      "Epoch [3/10], Step [40/66], Loss: 0.6685, Accuracy: 65.62%, Validation Accuracy: 73.42%\n",
      "Epoch [3/10], Step [50/66], Loss: 0.7830, Accuracy: 75.00%, Validation Accuracy: 70.17%\n",
      "Epoch [3/10], Step [60/66], Loss: 0.7933, Accuracy: 71.88%, Validation Accuracy: 70.36%\n",
      "Epoch [4/10], Step [10/66], Loss: 0.3666, Accuracy: 87.50%, Validation Accuracy: 73.42%\n",
      "Epoch [4/10], Step [20/66], Loss: 0.6891, Accuracy: 65.62%, Validation Accuracy: 75.14%\n",
      "Epoch [4/10], Step [30/66], Loss: 0.6701, Accuracy: 71.88%, Validation Accuracy: 72.28%\n",
      "Epoch [4/10], Step [40/66], Loss: 1.0534, Accuracy: 65.62%, Validation Accuracy: 71.51%\n",
      "Epoch [4/10], Step [50/66], Loss: 0.6855, Accuracy: 71.88%, Validation Accuracy: 68.64%\n",
      "Epoch [4/10], Step [60/66], Loss: 0.5757, Accuracy: 81.25%, Validation Accuracy: 71.51%\n",
      "Epoch [5/10], Step [10/66], Loss: 1.1735, Accuracy: 56.25%, Validation Accuracy: 73.23%\n",
      "Epoch [5/10], Step [20/66], Loss: 1.0007, Accuracy: 65.62%, Validation Accuracy: 72.47%\n",
      "Epoch [5/10], Step [30/66], Loss: 0.8400, Accuracy: 75.00%, Validation Accuracy: 75.53%\n",
      "Epoch [5/10], Step [40/66], Loss: 1.0519, Accuracy: 65.62%, Validation Accuracy: 74.76%\n",
      "Epoch [5/10], Step [50/66], Loss: 0.7272, Accuracy: 78.12%, Validation Accuracy: 75.53%\n",
      "Epoch [5/10], Step [60/66], Loss: 0.6200, Accuracy: 84.38%, Validation Accuracy: 77.63%\n",
      "Epoch [6/10], Step [10/66], Loss: 0.5237, Accuracy: 75.00%, Validation Accuracy: 78.59%\n",
      "Epoch [6/10], Step [20/66], Loss: 0.7416, Accuracy: 71.88%, Validation Accuracy: 72.66%\n",
      "Epoch [6/10], Step [30/66], Loss: 0.6000, Accuracy: 78.12%, Validation Accuracy: 73.61%\n",
      "Epoch [6/10], Step [40/66], Loss: 0.5792, Accuracy: 87.50%, Validation Accuracy: 76.86%\n",
      "Epoch [6/10], Step [50/66], Loss: 1.5817, Accuracy: 68.75%, Validation Accuracy: 74.19%\n",
      "Epoch [6/10], Step [60/66], Loss: 0.7617, Accuracy: 71.88%, Validation Accuracy: 79.73%\n",
      "Epoch [7/10], Step [10/66], Loss: 0.5143, Accuracy: 84.38%, Validation Accuracy: 78.78%\n",
      "Epoch [7/10], Step [20/66], Loss: 1.1483, Accuracy: 56.25%, Validation Accuracy: 80.50%\n",
      "Epoch [7/10], Step [30/66], Loss: 0.6982, Accuracy: 78.12%, Validation Accuracy: 79.54%\n",
      "Epoch [7/10], Step [40/66], Loss: 0.7508, Accuracy: 81.25%, Validation Accuracy: 77.06%\n",
      "Epoch [7/10], Step [50/66], Loss: 0.5881, Accuracy: 75.00%, Validation Accuracy: 79.73%\n",
      "Epoch [7/10], Step [60/66], Loss: 0.2929, Accuracy: 87.50%, Validation Accuracy: 81.26%\n",
      "Epoch [8/10], Step [10/66], Loss: 0.7266, Accuracy: 68.75%, Validation Accuracy: 80.69%\n",
      "Epoch [8/10], Step [20/66], Loss: 0.7558, Accuracy: 81.25%, Validation Accuracy: 75.14%\n",
      "Epoch [8/10], Step [30/66], Loss: 0.3943, Accuracy: 81.25%, Validation Accuracy: 78.01%\n",
      "Epoch [8/10], Step [40/66], Loss: 0.7557, Accuracy: 75.00%, Validation Accuracy: 78.59%\n",
      "Epoch [8/10], Step [50/66], Loss: 0.4495, Accuracy: 84.38%, Validation Accuracy: 78.97%\n",
      "Epoch [8/10], Step [60/66], Loss: 0.4528, Accuracy: 81.25%, Validation Accuracy: 80.11%\n",
      "Epoch [9/10], Step [10/66], Loss: 0.1923, Accuracy: 96.88%, Validation Accuracy: 79.92%\n",
      "Epoch [9/10], Step [20/66], Loss: 0.8877, Accuracy: 65.62%, Validation Accuracy: 81.84%\n",
      "Epoch [9/10], Step [30/66], Loss: 0.5739, Accuracy: 75.00%, Validation Accuracy: 83.17%\n",
      "Epoch [9/10], Step [40/66], Loss: 0.6094, Accuracy: 78.12%, Validation Accuracy: 80.11%\n",
      "Epoch [9/10], Step [50/66], Loss: 0.5492, Accuracy: 81.25%, Validation Accuracy: 79.92%\n",
      "Epoch [9/10], Step [60/66], Loss: 0.6938, Accuracy: 71.88%, Validation Accuracy: 81.64%\n",
      "Epoch [10/10], Step [10/66], Loss: 0.6732, Accuracy: 84.38%, Validation Accuracy: 80.11%\n",
      "Epoch [10/10], Step [20/66], Loss: 0.3646, Accuracy: 81.25%, Validation Accuracy: 81.45%\n",
      "Epoch [10/10], Step [30/66], Loss: 0.4903, Accuracy: 71.88%, Validation Accuracy: 76.48%\n",
      "Epoch [10/10], Step [40/66], Loss: 0.7201, Accuracy: 71.88%, Validation Accuracy: 74.19%\n",
      "Epoch [10/10], Step [50/66], Loss: 0.6973, Accuracy: 78.12%, Validation Accuracy: 82.41%\n",
      "Epoch [10/10], Step [60/66], Loss: 0.2636, Accuracy: 90.62%, Validation Accuracy: 79.35%\n",
      "######## Training Finished in 2768.263283252716 seconds ###########\n",
      "/n/n Saving model at:  /kaggle/working/alexnetmodel_tl_d1.pt\n"
     ]
    }
   ],
   "source": [
    "model_savepath = savepath+\"alexnetmodel_tl_d1.pt\"\n",
    "results_savepath = savepath+\"alexnetmodel_tl_d1_results.pkb\"\n",
    "\n",
    "trained_AlexNet_model, device = train_model(AlexNet_model, num_epochs, train_loader, criterion, optimizer, model_savepath, results_savepath, device)"
   ]
  },
  {
   "cell_type": "code",
   "execution_count": 94,
   "metadata": {
    "colab": {
     "base_uri": "https://localhost:8080/"
    },
    "execution": {
     "iopub.execute_input": "2022-11-25T14:01:49.226353Z",
     "iopub.status.busy": "2022-11-25T14:01:49.225987Z",
     "iopub.status.idle": "2022-11-25T14:02:04.531969Z",
     "shell.execute_reply": "2022-11-25T14:02:04.530887Z",
     "shell.execute_reply.started": "2022-11-25T14:01:49.226319Z"
    },
    "id": "To1qze4qcGjQ",
    "outputId": "8bba8adf-fe57-4cf1-955d-013c6a16a79f"
   },
   "outputs": [
    {
     "name": "stdout",
     "output_type": "stream",
     "text": [
      "Model Evaluation Results on 710 test samples\n",
      "Test Accuracy:  75.77464788732394\n",
      "Test F1 Score:  tensor(0.7577)\n",
      "Test Precision & Recall: (tensor(0.8537), tensor(0.7874))\n",
      "Test AUC score: tensor(0.0510)\n"
     ]
    }
   ],
   "source": [
    "evaluate_model(trained_AlexNet_model, test_loader, device, nclasses)"
   ]
  },
  {
   "cell_type": "code",
   "execution_count": null,
   "metadata": {
    "id": "DWsSY9KQcGjQ"
   },
   "outputs": [],
   "source": []
  },
  {
   "cell_type": "markdown",
   "metadata": {
    "id": "gXNuPflBcGjQ"
   },
   "source": [
    "ResNet-18 with dataset 1"
   ]
  },
  {
   "cell_type": "markdown",
   "metadata": {
    "id": "45yfKAnscGjQ"
   },
   "source": [
    "nclasses=15"
   ]
  },
  {
   "cell_type": "code",
   "execution_count": 95,
   "metadata": {
    "colab": {
     "base_uri": "https://localhost:8080/",
     "height": 138,
     "referenced_widgets": [
      "53094d994dd8461db96a0c9c95c194d2",
      "504e624e8c9843659032d337b1d35949",
      "7414da96766142689e282067b419431b",
      "70e717528c314bf993da422864894e6e",
      "5d87c0a5c1304c57a071407d49e26861",
      "da1f84ab02f349a5b190e222aed61f7a",
      "45bfc4a3fc0a4f3387104062ed88d07b",
      "fe64b23fdfaf438ea0044f049e7f1fc7",
      "9f1cf74ecccf486cb1a850608d56186a",
      "8b7761326b1e472fb1604129c2936a30",
      "afd2f67155ee478dbec1d0a0d0c968f7"
     ]
    },
    "execution": {
     "iopub.execute_input": "2022-11-25T14:02:04.535459Z",
     "iopub.status.busy": "2022-11-25T14:02:04.533531Z",
     "iopub.status.idle": "2022-11-25T14:02:07.185381Z",
     "shell.execute_reply": "2022-11-25T14:02:07.184310Z",
     "shell.execute_reply.started": "2022-11-25T14:02:04.535418Z"
    },
    "id": "kGbqB8RQcGjQ",
    "outputId": "c88592f3-09c7-4de3-975b-0487db995035"
   },
   "outputs": [
    {
     "name": "stderr",
     "output_type": "stream",
     "text": [
      "Using cache found in /root/.cache/torch/hub/pytorch_vision_v0.10.0\n",
      "/usr/local/lib/python3.8/dist-packages/torchvision/models/_utils.py:223: UserWarning: Arguments other than a weight enum or `None` for 'weights' are deprecated since 0.13 and will be removed in 0.15. The current behavior is equivalent to passing `weights=ResNet18_Weights.IMAGENET1K_V1`. You can also use `weights=ResNet18_Weights.DEFAULT` to get the most up-to-date weights.\n",
      "  warnings.warn(msg)\n",
      "Downloading: \"https://download.pytorch.org/models/resnet18-f37072fd.pth\" to /root/.cache/torch/hub/checkpoints/resnet18-f37072fd.pth\n"
     ]
    },
    {
     "data": {
      "application/vnd.jupyter.widget-view+json": {
       "model_id": "53094d994dd8461db96a0c9c95c194d2",
       "version_major": 2,
       "version_minor": 0
      },
      "text/plain": [
       "  0%|          | 0.00/44.7M [00:00<?, ?B/s]"
      ]
     },
     "metadata": {},
     "output_type": "display_data"
    }
   ],
   "source": [
    "ResNet_model = torch.hub.load('pytorch/vision:v0.10.0', 'resnet18', pretrained=True)"
   ]
  },
  {
   "cell_type": "code",
   "execution_count": 96,
   "metadata": {
    "execution": {
     "iopub.execute_input": "2022-11-25T14:02:07.188455Z",
     "iopub.status.busy": "2022-11-25T14:02:07.186900Z",
     "iopub.status.idle": "2022-11-25T14:02:07.194938Z",
     "shell.execute_reply": "2022-11-25T14:02:07.193726Z",
     "shell.execute_reply.started": "2022-11-25T14:02:07.188410Z"
    },
    "id": "94jA3kQucGjR"
   },
   "outputs": [],
   "source": [
    "# layers = ResNet_model.state_dict().keys()\n",
    "\n",
    "for name, param in ResNet_model.named_parameters():\n",
    "    if not name.startswith('fc'):\n",
    "        param.requires_grad = False"
   ]
  },
  {
   "cell_type": "code",
   "execution_count": 97,
   "metadata": {
    "execution": {
     "iopub.execute_input": "2022-11-25T14:02:07.197252Z",
     "iopub.status.busy": "2022-11-25T14:02:07.196622Z",
     "iopub.status.idle": "2022-11-25T14:02:07.207824Z",
     "shell.execute_reply": "2022-11-25T14:02:07.206771Z",
     "shell.execute_reply.started": "2022-11-25T14:02:07.197213Z"
    },
    "id": "_b4prpvYcGjR"
   },
   "outputs": [],
   "source": [
    "ResNet_model.fc = nn.Linear( 512, nclasses)"
   ]
  },
  {
   "cell_type": "code",
   "execution_count": 98,
   "metadata": {
    "colab": {
     "base_uri": "https://localhost:8080/"
    },
    "execution": {
     "iopub.execute_input": "2022-11-25T14:02:07.209600Z",
     "iopub.status.busy": "2022-11-25T14:02:07.209130Z",
     "iopub.status.idle": "2022-11-25T14:02:07.220639Z",
     "shell.execute_reply": "2022-11-25T14:02:07.219381Z",
     "shell.execute_reply.started": "2022-11-25T14:02:07.209561Z"
    },
    "id": "mzXos4ROcGjS",
    "outputId": "59b262c8-b32f-4e40-da3f-a0cc6bbe1c97"
   },
   "outputs": [
    {
     "name": "stdout",
     "output_type": "stream",
     "text": [
      "Layer: conv1.weight has requires_grad set to: False\n",
      "Layer: bn1.weight has requires_grad set to: False\n",
      "Layer: bn1.bias has requires_grad set to: False\n",
      "Layer: layer1.0.conv1.weight has requires_grad set to: False\n",
      "Layer: layer1.0.bn1.weight has requires_grad set to: False\n",
      "Layer: layer1.0.bn1.bias has requires_grad set to: False\n",
      "Layer: layer1.0.conv2.weight has requires_grad set to: False\n",
      "Layer: layer1.0.bn2.weight has requires_grad set to: False\n",
      "Layer: layer1.0.bn2.bias has requires_grad set to: False\n",
      "Layer: layer1.1.conv1.weight has requires_grad set to: False\n",
      "Layer: layer1.1.bn1.weight has requires_grad set to: False\n",
      "Layer: layer1.1.bn1.bias has requires_grad set to: False\n",
      "Layer: layer1.1.conv2.weight has requires_grad set to: False\n",
      "Layer: layer1.1.bn2.weight has requires_grad set to: False\n",
      "Layer: layer1.1.bn2.bias has requires_grad set to: False\n",
      "Layer: layer2.0.conv1.weight has requires_grad set to: False\n",
      "Layer: layer2.0.bn1.weight has requires_grad set to: False\n",
      "Layer: layer2.0.bn1.bias has requires_grad set to: False\n",
      "Layer: layer2.0.conv2.weight has requires_grad set to: False\n",
      "Layer: layer2.0.bn2.weight has requires_grad set to: False\n",
      "Layer: layer2.0.bn2.bias has requires_grad set to: False\n",
      "Layer: layer2.0.downsample.0.weight has requires_grad set to: False\n",
      "Layer: layer2.0.downsample.1.weight has requires_grad set to: False\n",
      "Layer: layer2.0.downsample.1.bias has requires_grad set to: False\n",
      "Layer: layer2.1.conv1.weight has requires_grad set to: False\n",
      "Layer: layer2.1.bn1.weight has requires_grad set to: False\n",
      "Layer: layer2.1.bn1.bias has requires_grad set to: False\n",
      "Layer: layer2.1.conv2.weight has requires_grad set to: False\n",
      "Layer: layer2.1.bn2.weight has requires_grad set to: False\n",
      "Layer: layer2.1.bn2.bias has requires_grad set to: False\n",
      "Layer: layer3.0.conv1.weight has requires_grad set to: False\n",
      "Layer: layer3.0.bn1.weight has requires_grad set to: False\n",
      "Layer: layer3.0.bn1.bias has requires_grad set to: False\n",
      "Layer: layer3.0.conv2.weight has requires_grad set to: False\n",
      "Layer: layer3.0.bn2.weight has requires_grad set to: False\n",
      "Layer: layer3.0.bn2.bias has requires_grad set to: False\n",
      "Layer: layer3.0.downsample.0.weight has requires_grad set to: False\n",
      "Layer: layer3.0.downsample.1.weight has requires_grad set to: False\n",
      "Layer: layer3.0.downsample.1.bias has requires_grad set to: False\n",
      "Layer: layer3.1.conv1.weight has requires_grad set to: False\n",
      "Layer: layer3.1.bn1.weight has requires_grad set to: False\n",
      "Layer: layer3.1.bn1.bias has requires_grad set to: False\n",
      "Layer: layer3.1.conv2.weight has requires_grad set to: False\n",
      "Layer: layer3.1.bn2.weight has requires_grad set to: False\n",
      "Layer: layer3.1.bn2.bias has requires_grad set to: False\n",
      "Layer: layer4.0.conv1.weight has requires_grad set to: False\n",
      "Layer: layer4.0.bn1.weight has requires_grad set to: False\n",
      "Layer: layer4.0.bn1.bias has requires_grad set to: False\n",
      "Layer: layer4.0.conv2.weight has requires_grad set to: False\n",
      "Layer: layer4.0.bn2.weight has requires_grad set to: False\n",
      "Layer: layer4.0.bn2.bias has requires_grad set to: False\n",
      "Layer: layer4.0.downsample.0.weight has requires_grad set to: False\n",
      "Layer: layer4.0.downsample.1.weight has requires_grad set to: False\n",
      "Layer: layer4.0.downsample.1.bias has requires_grad set to: False\n",
      "Layer: layer4.1.conv1.weight has requires_grad set to: False\n",
      "Layer: layer4.1.bn1.weight has requires_grad set to: False\n",
      "Layer: layer4.1.bn1.bias has requires_grad set to: False\n",
      "Layer: layer4.1.conv2.weight has requires_grad set to: False\n",
      "Layer: layer4.1.bn2.weight has requires_grad set to: False\n",
      "Layer: layer4.1.bn2.bias has requires_grad set to: False\n",
      "Layer: fc.weight has requires_grad set to: True\n",
      "Layer: fc.bias has requires_grad set to: True\n"
     ]
    }
   ],
   "source": [
    "for name, param in ResNet_model.named_parameters():\n",
    "        print(\"Layer: {} has requires_grad set to: {}\".format(name, param.requires_grad))"
   ]
  },
  {
   "cell_type": "code",
   "execution_count": 99,
   "metadata": {
    "colab": {
     "base_uri": "https://localhost:8080/"
    },
    "execution": {
     "iopub.execute_input": "2022-11-25T14:02:07.222791Z",
     "iopub.status.busy": "2022-11-25T14:02:07.221912Z",
     "iopub.status.idle": "2022-11-25T14:02:07.232849Z",
     "shell.execute_reply": "2022-11-25T14:02:07.231828Z",
     "shell.execute_reply.started": "2022-11-25T14:02:07.222756Z"
    },
    "id": "uj5Cu_BXcGjS",
    "outputId": "c13200cd-61b1-4977-c718-ef3639fb2ef8"
   },
   "outputs": [
    {
     "data": {
      "text/plain": [
       "ResNet(\n",
       "  (conv1): Conv2d(3, 64, kernel_size=(7, 7), stride=(2, 2), padding=(3, 3), bias=False)\n",
       "  (bn1): BatchNorm2d(64, eps=1e-05, momentum=0.1, affine=True, track_running_stats=True)\n",
       "  (relu): ReLU(inplace=True)\n",
       "  (maxpool): MaxPool2d(kernel_size=3, stride=2, padding=1, dilation=1, ceil_mode=False)\n",
       "  (layer1): Sequential(\n",
       "    (0): BasicBlock(\n",
       "      (conv1): Conv2d(64, 64, kernel_size=(3, 3), stride=(1, 1), padding=(1, 1), bias=False)\n",
       "      (bn1): BatchNorm2d(64, eps=1e-05, momentum=0.1, affine=True, track_running_stats=True)\n",
       "      (relu): ReLU(inplace=True)\n",
       "      (conv2): Conv2d(64, 64, kernel_size=(3, 3), stride=(1, 1), padding=(1, 1), bias=False)\n",
       "      (bn2): BatchNorm2d(64, eps=1e-05, momentum=0.1, affine=True, track_running_stats=True)\n",
       "    )\n",
       "    (1): BasicBlock(\n",
       "      (conv1): Conv2d(64, 64, kernel_size=(3, 3), stride=(1, 1), padding=(1, 1), bias=False)\n",
       "      (bn1): BatchNorm2d(64, eps=1e-05, momentum=0.1, affine=True, track_running_stats=True)\n",
       "      (relu): ReLU(inplace=True)\n",
       "      (conv2): Conv2d(64, 64, kernel_size=(3, 3), stride=(1, 1), padding=(1, 1), bias=False)\n",
       "      (bn2): BatchNorm2d(64, eps=1e-05, momentum=0.1, affine=True, track_running_stats=True)\n",
       "    )\n",
       "  )\n",
       "  (layer2): Sequential(\n",
       "    (0): BasicBlock(\n",
       "      (conv1): Conv2d(64, 128, kernel_size=(3, 3), stride=(2, 2), padding=(1, 1), bias=False)\n",
       "      (bn1): BatchNorm2d(128, eps=1e-05, momentum=0.1, affine=True, track_running_stats=True)\n",
       "      (relu): ReLU(inplace=True)\n",
       "      (conv2): Conv2d(128, 128, kernel_size=(3, 3), stride=(1, 1), padding=(1, 1), bias=False)\n",
       "      (bn2): BatchNorm2d(128, eps=1e-05, momentum=0.1, affine=True, track_running_stats=True)\n",
       "      (downsample): Sequential(\n",
       "        (0): Conv2d(64, 128, kernel_size=(1, 1), stride=(2, 2), bias=False)\n",
       "        (1): BatchNorm2d(128, eps=1e-05, momentum=0.1, affine=True, track_running_stats=True)\n",
       "      )\n",
       "    )\n",
       "    (1): BasicBlock(\n",
       "      (conv1): Conv2d(128, 128, kernel_size=(3, 3), stride=(1, 1), padding=(1, 1), bias=False)\n",
       "      (bn1): BatchNorm2d(128, eps=1e-05, momentum=0.1, affine=True, track_running_stats=True)\n",
       "      (relu): ReLU(inplace=True)\n",
       "      (conv2): Conv2d(128, 128, kernel_size=(3, 3), stride=(1, 1), padding=(1, 1), bias=False)\n",
       "      (bn2): BatchNorm2d(128, eps=1e-05, momentum=0.1, affine=True, track_running_stats=True)\n",
       "    )\n",
       "  )\n",
       "  (layer3): Sequential(\n",
       "    (0): BasicBlock(\n",
       "      (conv1): Conv2d(128, 256, kernel_size=(3, 3), stride=(2, 2), padding=(1, 1), bias=False)\n",
       "      (bn1): BatchNorm2d(256, eps=1e-05, momentum=0.1, affine=True, track_running_stats=True)\n",
       "      (relu): ReLU(inplace=True)\n",
       "      (conv2): Conv2d(256, 256, kernel_size=(3, 3), stride=(1, 1), padding=(1, 1), bias=False)\n",
       "      (bn2): BatchNorm2d(256, eps=1e-05, momentum=0.1, affine=True, track_running_stats=True)\n",
       "      (downsample): Sequential(\n",
       "        (0): Conv2d(128, 256, kernel_size=(1, 1), stride=(2, 2), bias=False)\n",
       "        (1): BatchNorm2d(256, eps=1e-05, momentum=0.1, affine=True, track_running_stats=True)\n",
       "      )\n",
       "    )\n",
       "    (1): BasicBlock(\n",
       "      (conv1): Conv2d(256, 256, kernel_size=(3, 3), stride=(1, 1), padding=(1, 1), bias=False)\n",
       "      (bn1): BatchNorm2d(256, eps=1e-05, momentum=0.1, affine=True, track_running_stats=True)\n",
       "      (relu): ReLU(inplace=True)\n",
       "      (conv2): Conv2d(256, 256, kernel_size=(3, 3), stride=(1, 1), padding=(1, 1), bias=False)\n",
       "      (bn2): BatchNorm2d(256, eps=1e-05, momentum=0.1, affine=True, track_running_stats=True)\n",
       "    )\n",
       "  )\n",
       "  (layer4): Sequential(\n",
       "    (0): BasicBlock(\n",
       "      (conv1): Conv2d(256, 512, kernel_size=(3, 3), stride=(2, 2), padding=(1, 1), bias=False)\n",
       "      (bn1): BatchNorm2d(512, eps=1e-05, momentum=0.1, affine=True, track_running_stats=True)\n",
       "      (relu): ReLU(inplace=True)\n",
       "      (conv2): Conv2d(512, 512, kernel_size=(3, 3), stride=(1, 1), padding=(1, 1), bias=False)\n",
       "      (bn2): BatchNorm2d(512, eps=1e-05, momentum=0.1, affine=True, track_running_stats=True)\n",
       "      (downsample): Sequential(\n",
       "        (0): Conv2d(256, 512, kernel_size=(1, 1), stride=(2, 2), bias=False)\n",
       "        (1): BatchNorm2d(512, eps=1e-05, momentum=0.1, affine=True, track_running_stats=True)\n",
       "      )\n",
       "    )\n",
       "    (1): BasicBlock(\n",
       "      (conv1): Conv2d(512, 512, kernel_size=(3, 3), stride=(1, 1), padding=(1, 1), bias=False)\n",
       "      (bn1): BatchNorm2d(512, eps=1e-05, momentum=0.1, affine=True, track_running_stats=True)\n",
       "      (relu): ReLU(inplace=True)\n",
       "      (conv2): Conv2d(512, 512, kernel_size=(3, 3), stride=(1, 1), padding=(1, 1), bias=False)\n",
       "      (bn2): BatchNorm2d(512, eps=1e-05, momentum=0.1, affine=True, track_running_stats=True)\n",
       "    )\n",
       "  )\n",
       "  (avgpool): AdaptiveAvgPool2d(output_size=(1, 1))\n",
       "  (fc): Linear(in_features=512, out_features=15, bias=True)\n",
       ")"
      ]
     },
     "execution_count": 99,
     "metadata": {},
     "output_type": "execute_result"
    }
   ],
   "source": [
    "ResNet_model.eval()"
   ]
  },
  {
   "cell_type": "code",
   "execution_count": 100,
   "metadata": {
    "execution": {
     "iopub.execute_input": "2022-11-25T14:02:07.234849Z",
     "iopub.status.busy": "2022-11-25T14:02:07.234318Z",
     "iopub.status.idle": "2022-11-25T14:02:07.243160Z",
     "shell.execute_reply": "2022-11-25T14:02:07.242181Z",
     "shell.execute_reply.started": "2022-11-25T14:02:07.234815Z"
    },
    "id": "sWiOfE9gcGjS"
   },
   "outputs": [],
   "source": [
    "optimizer = torch.optim.Adam(ResNet_model.parameters(), lr=learning_rate) "
   ]
  },
  {
   "cell_type": "code",
   "execution_count": null,
   "metadata": {
    "execution": {
     "iopub.execute_input": "2022-11-25T14:02:07.245239Z",
     "iopub.status.busy": "2022-11-25T14:02:07.244830Z",
     "iopub.status.idle": "2022-11-25T14:02:07.285884Z",
     "shell.execute_reply": "2022-11-25T14:02:07.284951Z",
     "shell.execute_reply.started": "2022-11-25T14:02:07.245199Z"
    },
    "id": "A-i2w16bcGjT"
   },
   "outputs": [],
   "source": [
    "path_train = path_dataset1+\"train/\"\n",
    "path_test = path_dataset1+\"test/\"\n",
    "val_split = 0.2\n",
    "batch_size = 32\n",
    "input_size = (224,224)\n",
    "\n",
    "train_loader, test_loader, val_loader, mappings = load_data(path_train, val_split, path_test, batch_size, input_size)"
   ]
  },
  {
   "cell_type": "code",
   "execution_count": null,
   "metadata": {
    "execution": {
     "iopub.execute_input": "2022-11-25T14:02:07.288774Z",
     "iopub.status.busy": "2022-11-25T14:02:07.288459Z",
     "iopub.status.idle": "2022-11-25T14:02:07.309711Z",
     "shell.execute_reply": "2022-11-25T14:02:07.308738Z",
     "shell.execute_reply.started": "2022-11-25T14:02:07.288748Z"
    },
    "id": "yGCCheP8cGjT",
    "outputId": "8db8d238-ac52-496b-b0f3-d38375c2fba6"
   },
   "outputs": [
    {
     "name": "stdout",
     "output_type": "stream",
     "text": [
      "Device: cuda:0\n"
     ]
    }
   ],
   "source": [
    "device = torch.device(\"cuda:0\" if torch.cuda.is_available() else \"cpu\")\n",
    "print(\"Device: {}\".format(device))\n",
    "x = ResNet_model.to(device)"
   ]
  },
  {
   "cell_type": "code",
   "execution_count": null,
   "metadata": {
    "execution": {
     "iopub.execute_input": "2022-11-25T14:02:07.311354Z",
     "iopub.status.busy": "2022-11-25T14:02:07.311000Z",
     "iopub.status.idle": "2022-11-25T14:02:07.326695Z",
     "shell.execute_reply": "2022-11-25T14:02:07.325731Z",
     "shell.execute_reply.started": "2022-11-25T14:02:07.311317Z"
    },
    "id": "BlwJ7t2EcGjT",
    "outputId": "a4dbf517-b0d8-42ee-a1e9-180f32df9a1a"
   },
   "outputs": [
    {
     "name": "stdout",
     "output_type": "stream",
     "text": [
      "Class: SPEED_LIMIT_80 has samples: 192 \n",
      "Class: SPEED_LIMIT_60 has samples: 190 \n",
      "Class: NO_STOPPING_OR_STANDING has samples: 242 \n",
      "Class: COMPULSARY_KEEP_RIGHT has samples: 223 \n",
      "Class: GAP_IN_MEDIAN has samples: 180 \n",
      "Class: CROSS_ROAD has samples: 140 \n",
      "Class: PEDESTRIAN_CROSSING has samples: 121 \n",
      "Class: SPEED_LIMIT_50 has samples: 200 \n",
      "Class: HORN_PROHIBITED has samples: 160 \n",
      "Class: SPEED_LIMIT_40 has samples: 170 \n",
      "Class: NO_ENTRY has samples: 174 \n",
      "Class: HUMP_OR_ROUGH_ROAD has samples: 101 \n",
      "Class: SPEED_LIMIT_30 has samples: 238 \n",
      "Class: LEFT_TURN_PROHIBITED has samples: 126 \n",
      "Class: SPEED_LIMIT_70 has samples: 160 \n",
      "\n",
      "Total number of samples:  2617\n",
      "\n",
      "Time taken: 0.010135173797607422\n"
     ]
    }
   ],
   "source": [
    "class_weights = get_class_weights(path_train, mappings)\n",
    "\n",
    "class_weights = torch.FloatTensor(class_weights)\n",
    "class_weights = class_weights.to(device)\n",
    "\n",
    "criterion = get_criterion(class_weights)"
   ]
  },
  {
   "cell_type": "code",
   "execution_count": null,
   "metadata": {
    "execution": {
     "iopub.execute_input": "2022-11-25T14:02:07.329707Z",
     "iopub.status.busy": "2022-11-25T14:02:07.329000Z",
     "iopub.status.idle": "2022-11-25T14:46:29.775273Z",
     "shell.execute_reply": "2022-11-25T14:46:29.774317Z",
     "shell.execute_reply.started": "2022-11-25T14:02:07.329667Z"
    },
    "id": "w16rlKmGcGjT",
    "outputId": "8dd6e4de-2bd2-45e3-a9e5-be8ff6129547"
   },
   "outputs": [
    {
     "name": "stdout",
     "output_type": "stream",
     "text": [
      "Epoch [1/10], Step [10/66], Loss: 2.4429, Accuracy: 18.75%, Validation Accuracy: 21.61%\n",
      "Epoch [1/10], Step [20/66], Loss: 2.2283, Accuracy: 31.25%, Validation Accuracy: 34.99%\n",
      "Epoch [1/10], Step [30/66], Loss: 2.1600, Accuracy: 34.38%, Validation Accuracy: 47.04%\n",
      "Epoch [1/10], Step [40/66], Loss: 1.8542, Accuracy: 46.88%, Validation Accuracy: 50.29%\n",
      "Epoch [1/10], Step [50/66], Loss: 1.7472, Accuracy: 46.88%, Validation Accuracy: 59.27%\n",
      "Epoch [1/10], Step [60/66], Loss: 1.5077, Accuracy: 56.25%, Validation Accuracy: 54.88%\n",
      "Epoch [2/10], Step [10/66], Loss: 1.5007, Accuracy: 56.25%, Validation Accuracy: 65.97%\n",
      "Epoch [2/10], Step [20/66], Loss: 1.4293, Accuracy: 43.75%, Validation Accuracy: 62.52%\n",
      "Epoch [2/10], Step [30/66], Loss: 1.4063, Accuracy: 62.50%, Validation Accuracy: 68.64%\n",
      "Epoch [2/10], Step [40/66], Loss: 0.9628, Accuracy: 68.75%, Validation Accuracy: 69.98%\n",
      "Epoch [2/10], Step [50/66], Loss: 1.2045, Accuracy: 78.12%, Validation Accuracy: 68.26%\n",
      "Epoch [2/10], Step [60/66], Loss: 1.3164, Accuracy: 53.12%, Validation Accuracy: 71.32%\n",
      "Epoch [3/10], Step [10/66], Loss: 1.1118, Accuracy: 71.88%, Validation Accuracy: 70.17%\n",
      "Epoch [3/10], Step [20/66], Loss: 1.0276, Accuracy: 71.88%, Validation Accuracy: 70.75%\n",
      "Epoch [3/10], Step [30/66], Loss: 0.9402, Accuracy: 75.00%, Validation Accuracy: 70.94%\n",
      "Epoch [3/10], Step [40/66], Loss: 0.8815, Accuracy: 71.88%, Validation Accuracy: 73.23%\n",
      "Epoch [3/10], Step [50/66], Loss: 1.1208, Accuracy: 65.62%, Validation Accuracy: 72.47%\n",
      "Epoch [3/10], Step [60/66], Loss: 1.2320, Accuracy: 65.62%, Validation Accuracy: 73.42%\n",
      "Epoch [4/10], Step [10/66], Loss: 0.6547, Accuracy: 81.25%, Validation Accuracy: 70.94%\n",
      "Epoch [4/10], Step [20/66], Loss: 1.1961, Accuracy: 65.62%, Validation Accuracy: 73.42%\n",
      "Epoch [4/10], Step [30/66], Loss: 0.6509, Accuracy: 84.38%, Validation Accuracy: 75.72%\n",
      "Epoch [4/10], Step [40/66], Loss: 1.0079, Accuracy: 62.50%, Validation Accuracy: 72.66%\n",
      "Epoch [4/10], Step [50/66], Loss: 0.9210, Accuracy: 65.62%, Validation Accuracy: 73.80%\n",
      "Epoch [4/10], Step [60/66], Loss: 0.8733, Accuracy: 65.62%, Validation Accuracy: 74.76%\n",
      "Epoch [5/10], Step [10/66], Loss: 0.6457, Accuracy: 84.38%, Validation Accuracy: 74.38%\n",
      "Epoch [5/10], Step [20/66], Loss: 0.8766, Accuracy: 59.38%, Validation Accuracy: 74.19%\n",
      "Epoch [5/10], Step [30/66], Loss: 0.8112, Accuracy: 75.00%, Validation Accuracy: 75.91%\n",
      "Epoch [5/10], Step [40/66], Loss: 0.7945, Accuracy: 68.75%, Validation Accuracy: 74.00%\n",
      "Epoch [5/10], Step [50/66], Loss: 0.8207, Accuracy: 71.88%, Validation Accuracy: 75.53%\n",
      "Epoch [5/10], Step [60/66], Loss: 0.9701, Accuracy: 65.62%, Validation Accuracy: 75.72%\n",
      "Epoch [6/10], Step [10/66], Loss: 0.8571, Accuracy: 81.25%, Validation Accuracy: 74.95%\n",
      "Epoch [6/10], Step [20/66], Loss: 0.7689, Accuracy: 78.12%, Validation Accuracy: 76.86%\n",
      "Epoch [6/10], Step [30/66], Loss: 0.7906, Accuracy: 78.12%, Validation Accuracy: 74.38%\n",
      "Epoch [6/10], Step [40/66], Loss: 0.7787, Accuracy: 68.75%, Validation Accuracy: 78.01%\n",
      "Epoch [6/10], Step [50/66], Loss: 0.5681, Accuracy: 81.25%, Validation Accuracy: 75.72%\n",
      "Epoch [6/10], Step [60/66], Loss: 0.7770, Accuracy: 81.25%, Validation Accuracy: 77.25%\n",
      "Epoch [7/10], Step [10/66], Loss: 0.6346, Accuracy: 84.38%, Validation Accuracy: 75.53%\n",
      "Epoch [7/10], Step [20/66], Loss: 0.6525, Accuracy: 84.38%, Validation Accuracy: 75.33%\n",
      "Epoch [7/10], Step [30/66], Loss: 0.7436, Accuracy: 75.00%, Validation Accuracy: 77.82%\n",
      "Epoch [7/10], Step [40/66], Loss: 0.4437, Accuracy: 84.38%, Validation Accuracy: 79.92%\n",
      "Epoch [7/10], Step [50/66], Loss: 0.8129, Accuracy: 71.88%, Validation Accuracy: 75.91%\n",
      "Epoch [7/10], Step [60/66], Loss: 0.5429, Accuracy: 81.25%, Validation Accuracy: 79.35%\n",
      "Epoch [8/10], Step [10/66], Loss: 0.5386, Accuracy: 87.50%, Validation Accuracy: 74.76%\n",
      "Epoch [8/10], Step [20/66], Loss: 0.6166, Accuracy: 78.12%, Validation Accuracy: 78.01%\n",
      "Epoch [8/10], Step [30/66], Loss: 0.6518, Accuracy: 78.12%, Validation Accuracy: 76.86%\n",
      "Epoch [8/10], Step [40/66], Loss: 0.7909, Accuracy: 78.12%, Validation Accuracy: 77.25%\n",
      "Epoch [8/10], Step [50/66], Loss: 0.5299, Accuracy: 71.88%, Validation Accuracy: 80.11%\n",
      "Epoch [8/10], Step [60/66], Loss: 0.7656, Accuracy: 62.50%, Validation Accuracy: 77.06%\n",
      "Epoch [9/10], Step [10/66], Loss: 0.6530, Accuracy: 78.12%, Validation Accuracy: 77.82%\n",
      "Epoch [9/10], Step [20/66], Loss: 1.1985, Accuracy: 59.38%, Validation Accuracy: 77.25%\n",
      "Epoch [9/10], Step [30/66], Loss: 0.5699, Accuracy: 78.12%, Validation Accuracy: 76.67%\n",
      "Epoch [9/10], Step [40/66], Loss: 0.7132, Accuracy: 71.88%, Validation Accuracy: 79.54%\n",
      "Epoch [9/10], Step [50/66], Loss: 1.0097, Accuracy: 59.38%, Validation Accuracy: 78.01%\n",
      "Epoch [9/10], Step [60/66], Loss: 0.6611, Accuracy: 71.88%, Validation Accuracy: 80.50%\n",
      "Epoch [10/10], Step [10/66], Loss: 0.5666, Accuracy: 84.38%, Validation Accuracy: 79.73%\n",
      "Epoch [10/10], Step [20/66], Loss: 0.5336, Accuracy: 81.25%, Validation Accuracy: 76.29%\n",
      "Epoch [10/10], Step [30/66], Loss: 0.6086, Accuracy: 84.38%, Validation Accuracy: 79.73%\n",
      "Epoch [10/10], Step [40/66], Loss: 0.8260, Accuracy: 75.00%, Validation Accuracy: 78.39%\n",
      "Epoch [10/10], Step [50/66], Loss: 0.6673, Accuracy: 81.25%, Validation Accuracy: 77.25%\n",
      "Epoch [10/10], Step [60/66], Loss: 0.4430, Accuracy: 90.62%, Validation Accuracy: 80.11%\n",
      "######## Training Finished in 2662.3599104881287 seconds ###########\n",
      "/n/n Saving model at:  /kaggle/working/resnetmodel_tl_d1.pt\n"
     ]
    }
   ],
   "source": [
    "model_savepath = savepath+\"resnetmodel_tl_d1.pt\"\n",
    "results_savepath = savepath+\"resnetmodel_tl_d1_results.pkb\"\n",
    "\n",
    "trained_ResNet_model, device = train_model(ResNet_model, num_epochs, train_loader, criterion, optimizer, model_savepath, results_savepath, device)"
   ]
  },
  {
   "cell_type": "code",
   "execution_count": 102,
   "metadata": {
    "colab": {
     "base_uri": "https://localhost:8080/"
    },
    "execution": {
     "iopub.execute_input": "2022-11-25T14:46:29.777426Z",
     "iopub.status.busy": "2022-11-25T14:46:29.776951Z",
     "iopub.status.idle": "2022-11-25T14:46:44.803383Z",
     "shell.execute_reply": "2022-11-25T14:46:44.802077Z",
     "shell.execute_reply.started": "2022-11-25T14:46:29.777388Z"
    },
    "id": "kUMBJk-gcGjU",
    "outputId": "6db4b28e-0d3a-4aef-94d6-e44112c5fad0"
   },
   "outputs": [
    {
     "name": "stdout",
     "output_type": "stream",
     "text": [
      "Model Evaluation Results on 710 test samples\n",
      "Test Accuracy:  70.0\n",
      "Test F1 Score:  tensor(0.7000)\n",
      "Test Precision & Recall: (tensor(0.7386), tensor(0.7114))\n",
      "Test AUC score: tensor(0.1915)\n"
     ]
    }
   ],
   "source": [
    "evaluate_model(trained_ResNet_model, test_loader, device, nclasses)"
   ]
  },
  {
   "cell_type": "code",
   "execution_count": null,
   "metadata": {
    "id": "hibcityJcGjU"
   },
   "outputs": [],
   "source": []
  }
 ],
 "metadata": {
  "accelerator": "GPU",
  "colab": {
   "provenance": []
  },
  "gpuClass": "standard",
  "kernelspec": {
   "display_name": "Python 3 (ipykernel)",
   "language": "python",
   "name": "python3"
  },
  "language_info": {
   "codemirror_mode": {
    "name": "ipython",
    "version": 3
   },
   "file_extension": ".py",
   "mimetype": "text/x-python",
   "name": "python",
   "nbconvert_exporter": "python",
   "pygments_lexer": "ipython3",
   "version": "3.10.3"
  },
  "widgets": {
   "application/vnd.jupyter.widget-state+json": {
    "0424e655b2f4439da7f096b77ee56717": {
     "model_module": "@jupyter-widgets/controls",
     "model_module_version": "1.5.0",
     "model_name": "DescriptionStyleModel",
     "state": {
      "_model_module": "@jupyter-widgets/controls",
      "_model_module_version": "1.5.0",
      "_model_name": "DescriptionStyleModel",
      "_view_count": null,
      "_view_module": "@jupyter-widgets/base",
      "_view_module_version": "1.2.0",
      "_view_name": "StyleView",
      "description_width": ""
     }
    },
    "196904e5281e4203a46fcc42dcc7cb82": {
     "model_module": "@jupyter-widgets/controls",
     "model_module_version": "1.5.0",
     "model_name": "FloatProgressModel",
     "state": {
      "_dom_classes": [],
      "_model_module": "@jupyter-widgets/controls",
      "_model_module_version": "1.5.0",
      "_model_name": "FloatProgressModel",
      "_view_count": null,
      "_view_module": "@jupyter-widgets/controls",
      "_view_module_version": "1.5.0",
      "_view_name": "ProgressView",
      "bar_style": "success",
      "description": "",
      "description_tooltip": null,
      "layout": "IPY_MODEL_84544c5a1c964b3d8b30d66d9005ca8a",
      "max": 244408911,
      "min": 0,
      "orientation": "horizontal",
      "style": "IPY_MODEL_6134cbaa81834485aecfddbe3c25448b",
      "value": 244408911
     }
    },
    "445639d98cdc442bbb74bfc36997deba": {
     "model_module": "@jupyter-widgets/controls",
     "model_module_version": "1.5.0",
     "model_name": "DescriptionStyleModel",
     "state": {
      "_model_module": "@jupyter-widgets/controls",
      "_model_module_version": "1.5.0",
      "_model_name": "DescriptionStyleModel",
      "_view_count": null,
      "_view_module": "@jupyter-widgets/base",
      "_view_module_version": "1.2.0",
      "_view_name": "StyleView",
      "description_width": ""
     }
    },
    "45bfc4a3fc0a4f3387104062ed88d07b": {
     "model_module": "@jupyter-widgets/controls",
     "model_module_version": "1.5.0",
     "model_name": "DescriptionStyleModel",
     "state": {
      "_model_module": "@jupyter-widgets/controls",
      "_model_module_version": "1.5.0",
      "_model_name": "DescriptionStyleModel",
      "_view_count": null,
      "_view_module": "@jupyter-widgets/base",
      "_view_module_version": "1.2.0",
      "_view_name": "StyleView",
      "description_width": ""
     }
    },
    "504e624e8c9843659032d337b1d35949": {
     "model_module": "@jupyter-widgets/controls",
     "model_module_version": "1.5.0",
     "model_name": "HTMLModel",
     "state": {
      "_dom_classes": [],
      "_model_module": "@jupyter-widgets/controls",
      "_model_module_version": "1.5.0",
      "_model_name": "HTMLModel",
      "_view_count": null,
      "_view_module": "@jupyter-widgets/controls",
      "_view_module_version": "1.5.0",
      "_view_name": "HTMLView",
      "description": "",
      "description_tooltip": null,
      "layout": "IPY_MODEL_da1f84ab02f349a5b190e222aed61f7a",
      "placeholder": "​",
      "style": "IPY_MODEL_45bfc4a3fc0a4f3387104062ed88d07b",
      "value": "100%"
     }
    },
    "53094d994dd8461db96a0c9c95c194d2": {
     "model_module": "@jupyter-widgets/controls",
     "model_module_version": "1.5.0",
     "model_name": "HBoxModel",
     "state": {
      "_dom_classes": [],
      "_model_module": "@jupyter-widgets/controls",
      "_model_module_version": "1.5.0",
      "_model_name": "HBoxModel",
      "_view_count": null,
      "_view_module": "@jupyter-widgets/controls",
      "_view_module_version": "1.5.0",
      "_view_name": "HBoxView",
      "box_style": "",
      "children": [
       "IPY_MODEL_504e624e8c9843659032d337b1d35949",
       "IPY_MODEL_7414da96766142689e282067b419431b",
       "IPY_MODEL_70e717528c314bf993da422864894e6e"
      ],
      "layout": "IPY_MODEL_5d87c0a5c1304c57a071407d49e26861"
     }
    },
    "54dd3af91b044b46938905c87a7a90cc": {
     "model_module": "@jupyter-widgets/base",
     "model_module_version": "1.2.0",
     "model_name": "LayoutModel",
     "state": {
      "_model_module": "@jupyter-widgets/base",
      "_model_module_version": "1.2.0",
      "_model_name": "LayoutModel",
      "_view_count": null,
      "_view_module": "@jupyter-widgets/base",
      "_view_module_version": "1.2.0",
      "_view_name": "LayoutView",
      "align_content": null,
      "align_items": null,
      "align_self": null,
      "border": null,
      "bottom": null,
      "display": null,
      "flex": null,
      "flex_flow": null,
      "grid_area": null,
      "grid_auto_columns": null,
      "grid_auto_flow": null,
      "grid_auto_rows": null,
      "grid_column": null,
      "grid_gap": null,
      "grid_row": null,
      "grid_template_areas": null,
      "grid_template_columns": null,
      "grid_template_rows": null,
      "height": null,
      "justify_content": null,
      "justify_items": null,
      "left": null,
      "margin": null,
      "max_height": null,
      "max_width": null,
      "min_height": null,
      "min_width": null,
      "object_fit": null,
      "object_position": null,
      "order": null,
      "overflow": null,
      "overflow_x": null,
      "overflow_y": null,
      "padding": null,
      "right": null,
      "top": null,
      "visibility": null,
      "width": null
     }
    },
    "5d87c0a5c1304c57a071407d49e26861": {
     "model_module": "@jupyter-widgets/base",
     "model_module_version": "1.2.0",
     "model_name": "LayoutModel",
     "state": {
      "_model_module": "@jupyter-widgets/base",
      "_model_module_version": "1.2.0",
      "_model_name": "LayoutModel",
      "_view_count": null,
      "_view_module": "@jupyter-widgets/base",
      "_view_module_version": "1.2.0",
      "_view_name": "LayoutView",
      "align_content": null,
      "align_items": null,
      "align_self": null,
      "border": null,
      "bottom": null,
      "display": null,
      "flex": null,
      "flex_flow": null,
      "grid_area": null,
      "grid_auto_columns": null,
      "grid_auto_flow": null,
      "grid_auto_rows": null,
      "grid_column": null,
      "grid_gap": null,
      "grid_row": null,
      "grid_template_areas": null,
      "grid_template_columns": null,
      "grid_template_rows": null,
      "height": null,
      "justify_content": null,
      "justify_items": null,
      "left": null,
      "margin": null,
      "max_height": null,
      "max_width": null,
      "min_height": null,
      "min_width": null,
      "object_fit": null,
      "object_position": null,
      "order": null,
      "overflow": null,
      "overflow_x": null,
      "overflow_y": null,
      "padding": null,
      "right": null,
      "top": null,
      "visibility": null,
      "width": null
     }
    },
    "6134cbaa81834485aecfddbe3c25448b": {
     "model_module": "@jupyter-widgets/controls",
     "model_module_version": "1.5.0",
     "model_name": "ProgressStyleModel",
     "state": {
      "_model_module": "@jupyter-widgets/controls",
      "_model_module_version": "1.5.0",
      "_model_name": "ProgressStyleModel",
      "_view_count": null,
      "_view_module": "@jupyter-widgets/base",
      "_view_module_version": "1.2.0",
      "_view_name": "StyleView",
      "bar_color": null,
      "description_width": ""
     }
    },
    "6d308715af3940508fd8c93a8f413675": {
     "model_module": "@jupyter-widgets/base",
     "model_module_version": "1.2.0",
     "model_name": "LayoutModel",
     "state": {
      "_model_module": "@jupyter-widgets/base",
      "_model_module_version": "1.2.0",
      "_model_name": "LayoutModel",
      "_view_count": null,
      "_view_module": "@jupyter-widgets/base",
      "_view_module_version": "1.2.0",
      "_view_name": "LayoutView",
      "align_content": null,
      "align_items": null,
      "align_self": null,
      "border": null,
      "bottom": null,
      "display": null,
      "flex": null,
      "flex_flow": null,
      "grid_area": null,
      "grid_auto_columns": null,
      "grid_auto_flow": null,
      "grid_auto_rows": null,
      "grid_column": null,
      "grid_gap": null,
      "grid_row": null,
      "grid_template_areas": null,
      "grid_template_columns": null,
      "grid_template_rows": null,
      "height": null,
      "justify_content": null,
      "justify_items": null,
      "left": null,
      "margin": null,
      "max_height": null,
      "max_width": null,
      "min_height": null,
      "min_width": null,
      "object_fit": null,
      "object_position": null,
      "order": null,
      "overflow": null,
      "overflow_x": null,
      "overflow_y": null,
      "padding": null,
      "right": null,
      "top": null,
      "visibility": null,
      "width": null
     }
    },
    "70e717528c314bf993da422864894e6e": {
     "model_module": "@jupyter-widgets/controls",
     "model_module_version": "1.5.0",
     "model_name": "HTMLModel",
     "state": {
      "_dom_classes": [],
      "_model_module": "@jupyter-widgets/controls",
      "_model_module_version": "1.5.0",
      "_model_name": "HTMLModel",
      "_view_count": null,
      "_view_module": "@jupyter-widgets/controls",
      "_view_module_version": "1.5.0",
      "_view_name": "HTMLView",
      "description": "",
      "description_tooltip": null,
      "layout": "IPY_MODEL_8b7761326b1e472fb1604129c2936a30",
      "placeholder": "​",
      "style": "IPY_MODEL_afd2f67155ee478dbec1d0a0d0c968f7",
      "value": " 44.7M/44.7M [00:00&lt;00:00, 188MB/s]"
     }
    },
    "7414da96766142689e282067b419431b": {
     "model_module": "@jupyter-widgets/controls",
     "model_module_version": "1.5.0",
     "model_name": "FloatProgressModel",
     "state": {
      "_dom_classes": [],
      "_model_module": "@jupyter-widgets/controls",
      "_model_module_version": "1.5.0",
      "_model_name": "FloatProgressModel",
      "_view_count": null,
      "_view_module": "@jupyter-widgets/controls",
      "_view_module_version": "1.5.0",
      "_view_name": "ProgressView",
      "bar_style": "success",
      "description": "",
      "description_tooltip": null,
      "layout": "IPY_MODEL_fe64b23fdfaf438ea0044f049e7f1fc7",
      "max": 46830571,
      "min": 0,
      "orientation": "horizontal",
      "style": "IPY_MODEL_9f1cf74ecccf486cb1a850608d56186a",
      "value": 46830571
     }
    },
    "803285a7a3424cf8aa4169f89eba498c": {
     "model_module": "@jupyter-widgets/base",
     "model_module_version": "1.2.0",
     "model_name": "LayoutModel",
     "state": {
      "_model_module": "@jupyter-widgets/base",
      "_model_module_version": "1.2.0",
      "_model_name": "LayoutModel",
      "_view_count": null,
      "_view_module": "@jupyter-widgets/base",
      "_view_module_version": "1.2.0",
      "_view_name": "LayoutView",
      "align_content": null,
      "align_items": null,
      "align_self": null,
      "border": null,
      "bottom": null,
      "display": null,
      "flex": null,
      "flex_flow": null,
      "grid_area": null,
      "grid_auto_columns": null,
      "grid_auto_flow": null,
      "grid_auto_rows": null,
      "grid_column": null,
      "grid_gap": null,
      "grid_row": null,
      "grid_template_areas": null,
      "grid_template_columns": null,
      "grid_template_rows": null,
      "height": null,
      "justify_content": null,
      "justify_items": null,
      "left": null,
      "margin": null,
      "max_height": null,
      "max_width": null,
      "min_height": null,
      "min_width": null,
      "object_fit": null,
      "object_position": null,
      "order": null,
      "overflow": null,
      "overflow_x": null,
      "overflow_y": null,
      "padding": null,
      "right": null,
      "top": null,
      "visibility": null,
      "width": null
     }
    },
    "84544c5a1c964b3d8b30d66d9005ca8a": {
     "model_module": "@jupyter-widgets/base",
     "model_module_version": "1.2.0",
     "model_name": "LayoutModel",
     "state": {
      "_model_module": "@jupyter-widgets/base",
      "_model_module_version": "1.2.0",
      "_model_name": "LayoutModel",
      "_view_count": null,
      "_view_module": "@jupyter-widgets/base",
      "_view_module_version": "1.2.0",
      "_view_name": "LayoutView",
      "align_content": null,
      "align_items": null,
      "align_self": null,
      "border": null,
      "bottom": null,
      "display": null,
      "flex": null,
      "flex_flow": null,
      "grid_area": null,
      "grid_auto_columns": null,
      "grid_auto_flow": null,
      "grid_auto_rows": null,
      "grid_column": null,
      "grid_gap": null,
      "grid_row": null,
      "grid_template_areas": null,
      "grid_template_columns": null,
      "grid_template_rows": null,
      "height": null,
      "justify_content": null,
      "justify_items": null,
      "left": null,
      "margin": null,
      "max_height": null,
      "max_width": null,
      "min_height": null,
      "min_width": null,
      "object_fit": null,
      "object_position": null,
      "order": null,
      "overflow": null,
      "overflow_x": null,
      "overflow_y": null,
      "padding": null,
      "right": null,
      "top": null,
      "visibility": null,
      "width": null
     }
    },
    "8a64f3664fbc4ea59f8f26f7acbaed6d": {
     "model_module": "@jupyter-widgets/controls",
     "model_module_version": "1.5.0",
     "model_name": "HTMLModel",
     "state": {
      "_dom_classes": [],
      "_model_module": "@jupyter-widgets/controls",
      "_model_module_version": "1.5.0",
      "_model_name": "HTMLModel",
      "_view_count": null,
      "_view_module": "@jupyter-widgets/controls",
      "_view_module_version": "1.5.0",
      "_view_name": "HTMLView",
      "description": "",
      "description_tooltip": null,
      "layout": "IPY_MODEL_6d308715af3940508fd8c93a8f413675",
      "placeholder": "​",
      "style": "IPY_MODEL_445639d98cdc442bbb74bfc36997deba",
      "value": "100%"
     }
    },
    "8b7761326b1e472fb1604129c2936a30": {
     "model_module": "@jupyter-widgets/base",
     "model_module_version": "1.2.0",
     "model_name": "LayoutModel",
     "state": {
      "_model_module": "@jupyter-widgets/base",
      "_model_module_version": "1.2.0",
      "_model_name": "LayoutModel",
      "_view_count": null,
      "_view_module": "@jupyter-widgets/base",
      "_view_module_version": "1.2.0",
      "_view_name": "LayoutView",
      "align_content": null,
      "align_items": null,
      "align_self": null,
      "border": null,
      "bottom": null,
      "display": null,
      "flex": null,
      "flex_flow": null,
      "grid_area": null,
      "grid_auto_columns": null,
      "grid_auto_flow": null,
      "grid_auto_rows": null,
      "grid_column": null,
      "grid_gap": null,
      "grid_row": null,
      "grid_template_areas": null,
      "grid_template_columns": null,
      "grid_template_rows": null,
      "height": null,
      "justify_content": null,
      "justify_items": null,
      "left": null,
      "margin": null,
      "max_height": null,
      "max_width": null,
      "min_height": null,
      "min_width": null,
      "object_fit": null,
      "object_position": null,
      "order": null,
      "overflow": null,
      "overflow_x": null,
      "overflow_y": null,
      "padding": null,
      "right": null,
      "top": null,
      "visibility": null,
      "width": null
     }
    },
    "8d47cba656af4f69928a5f300d06e473": {
     "model_module": "@jupyter-widgets/controls",
     "model_module_version": "1.5.0",
     "model_name": "HBoxModel",
     "state": {
      "_dom_classes": [],
      "_model_module": "@jupyter-widgets/controls",
      "_model_module_version": "1.5.0",
      "_model_name": "HBoxModel",
      "_view_count": null,
      "_view_module": "@jupyter-widgets/controls",
      "_view_module_version": "1.5.0",
      "_view_name": "HBoxView",
      "box_style": "",
      "children": [
       "IPY_MODEL_8a64f3664fbc4ea59f8f26f7acbaed6d",
       "IPY_MODEL_196904e5281e4203a46fcc42dcc7cb82",
       "IPY_MODEL_bd5b820f68334e8683854948c533f827"
      ],
      "layout": "IPY_MODEL_803285a7a3424cf8aa4169f89eba498c"
     }
    },
    "9f1cf74ecccf486cb1a850608d56186a": {
     "model_module": "@jupyter-widgets/controls",
     "model_module_version": "1.5.0",
     "model_name": "ProgressStyleModel",
     "state": {
      "_model_module": "@jupyter-widgets/controls",
      "_model_module_version": "1.5.0",
      "_model_name": "ProgressStyleModel",
      "_view_count": null,
      "_view_module": "@jupyter-widgets/base",
      "_view_module_version": "1.2.0",
      "_view_name": "StyleView",
      "bar_color": null,
      "description_width": ""
     }
    },
    "afd2f67155ee478dbec1d0a0d0c968f7": {
     "model_module": "@jupyter-widgets/controls",
     "model_module_version": "1.5.0",
     "model_name": "DescriptionStyleModel",
     "state": {
      "_model_module": "@jupyter-widgets/controls",
      "_model_module_version": "1.5.0",
      "_model_name": "DescriptionStyleModel",
      "_view_count": null,
      "_view_module": "@jupyter-widgets/base",
      "_view_module_version": "1.2.0",
      "_view_name": "StyleView",
      "description_width": ""
     }
    },
    "bd5b820f68334e8683854948c533f827": {
     "model_module": "@jupyter-widgets/controls",
     "model_module_version": "1.5.0",
     "model_name": "HTMLModel",
     "state": {
      "_dom_classes": [],
      "_model_module": "@jupyter-widgets/controls",
      "_model_module_version": "1.5.0",
      "_model_name": "HTMLModel",
      "_view_count": null,
      "_view_module": "@jupyter-widgets/controls",
      "_view_module_version": "1.5.0",
      "_view_name": "HTMLView",
      "description": "",
      "description_tooltip": null,
      "layout": "IPY_MODEL_54dd3af91b044b46938905c87a7a90cc",
      "placeholder": "​",
      "style": "IPY_MODEL_0424e655b2f4439da7f096b77ee56717",
      "value": " 233M/233M [00:03&lt;00:00, 30.5MB/s]"
     }
    },
    "da1f84ab02f349a5b190e222aed61f7a": {
     "model_module": "@jupyter-widgets/base",
     "model_module_version": "1.2.0",
     "model_name": "LayoutModel",
     "state": {
      "_model_module": "@jupyter-widgets/base",
      "_model_module_version": "1.2.0",
      "_model_name": "LayoutModel",
      "_view_count": null,
      "_view_module": "@jupyter-widgets/base",
      "_view_module_version": "1.2.0",
      "_view_name": "LayoutView",
      "align_content": null,
      "align_items": null,
      "align_self": null,
      "border": null,
      "bottom": null,
      "display": null,
      "flex": null,
      "flex_flow": null,
      "grid_area": null,
      "grid_auto_columns": null,
      "grid_auto_flow": null,
      "grid_auto_rows": null,
      "grid_column": null,
      "grid_gap": null,
      "grid_row": null,
      "grid_template_areas": null,
      "grid_template_columns": null,
      "grid_template_rows": null,
      "height": null,
      "justify_content": null,
      "justify_items": null,
      "left": null,
      "margin": null,
      "max_height": null,
      "max_width": null,
      "min_height": null,
      "min_width": null,
      "object_fit": null,
      "object_position": null,
      "order": null,
      "overflow": null,
      "overflow_x": null,
      "overflow_y": null,
      "padding": null,
      "right": null,
      "top": null,
      "visibility": null,
      "width": null
     }
    },
    "fe64b23fdfaf438ea0044f049e7f1fc7": {
     "model_module": "@jupyter-widgets/base",
     "model_module_version": "1.2.0",
     "model_name": "LayoutModel",
     "state": {
      "_model_module": "@jupyter-widgets/base",
      "_model_module_version": "1.2.0",
      "_model_name": "LayoutModel",
      "_view_count": null,
      "_view_module": "@jupyter-widgets/base",
      "_view_module_version": "1.2.0",
      "_view_name": "LayoutView",
      "align_content": null,
      "align_items": null,
      "align_self": null,
      "border": null,
      "bottom": null,
      "display": null,
      "flex": null,
      "flex_flow": null,
      "grid_area": null,
      "grid_auto_columns": null,
      "grid_auto_flow": null,
      "grid_auto_rows": null,
      "grid_column": null,
      "grid_gap": null,
      "grid_row": null,
      "grid_template_areas": null,
      "grid_template_columns": null,
      "grid_template_rows": null,
      "height": null,
      "justify_content": null,
      "justify_items": null,
      "left": null,
      "margin": null,
      "max_height": null,
      "max_width": null,
      "min_height": null,
      "min_width": null,
      "object_fit": null,
      "object_position": null,
      "order": null,
      "overflow": null,
      "overflow_x": null,
      "overflow_y": null,
      "padding": null,
      "right": null,
      "top": null,
      "visibility": null,
      "width": null
     }
    }
   }
  }
 },
 "nbformat": 4,
 "nbformat_minor": 4
}
